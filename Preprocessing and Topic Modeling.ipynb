{
 "cells": [
  {
   "cell_type": "code",
   "execution_count": 1,
   "metadata": {},
   "outputs": [],
   "source": [
    "reset -fs"
   ]
  },
  {
   "cell_type": "code",
   "execution_count": 2,
   "metadata": {},
   "outputs": [],
   "source": [
    "# import libraries\n",
    "import pandas as pd\n",
    "import numpy as np\n",
    "import re\n",
    "import string\n",
    "import os\n",
    "import matplotlib.pyplot as plt\n",
    "import seaborn as sns\n",
    "\n",
    "from sklearn.feature_extraction.text import TfidfVectorizer, CountVectorizer"
   ]
  },
  {
   "cell_type": "markdown",
   "metadata": {},
   "source": [
    "# Read in data"
   ]
  },
  {
   "cell_type": "code",
   "execution_count": 3,
   "metadata": {},
   "outputs": [],
   "source": [
    "modern_love_df = pd.read_csv('modern_love_df.csv')"
   ]
  },
  {
   "cell_type": "code",
   "execution_count": 4,
   "metadata": {},
   "outputs": [
    {
     "data": {
      "text/plain": [
       "(1615, 12)"
      ]
     },
     "execution_count": 4,
     "metadata": {},
     "output_type": "execute_result"
    }
   ],
   "source": [
    "modern_love_df.shape"
   ]
  },
  {
   "cell_type": "code",
   "execution_count": 5,
   "metadata": {},
   "outputs": [
    {
     "name": "stdout",
     "output_type": "stream",
     "text": [
      "<class 'pandas.core.frame.DataFrame'>\n",
      "RangeIndex: 1615 entries, 0 to 1614\n",
      "Data columns (total 12 columns):\n",
      " #   Column                  Non-Null Count  Dtype \n",
      "---  ------                  --------------  ----- \n",
      " 0   article_url             1615 non-null   object\n",
      " 1   article                 1609 non-null   object\n",
      " 2   article_id              1615 non-null   object\n",
      " 3   article_headline        1615 non-null   object\n",
      " 4   article_abstract        1615 non-null   object\n",
      " 5   article_snippet         1615 non-null   object\n",
      " 6   article_lead_paragraph  1604 non-null   object\n",
      " 7   article_pub_date        1615 non-null   object\n",
      " 8   article_news_desk       1615 non-null   object\n",
      " 9   article_section         1615 non-null   object\n",
      " 10  article_type_material   1615 non-null   object\n",
      " 11  article_word_count      1615 non-null   int64 \n",
      "dtypes: int64(1), object(11)\n",
      "memory usage: 151.5+ KB\n"
     ]
    }
   ],
   "source": [
    "modern_love_df.info()"
   ]
  },
  {
   "cell_type": "markdown",
   "metadata": {},
   "source": [
    "# Clean data"
   ]
  },
  {
   "cell_type": "code",
   "execution_count": 6,
   "metadata": {},
   "outputs": [],
   "source": [
    "pd.set_option(\"display.max_colwidth\", 1)"
   ]
  },
  {
   "cell_type": "code",
   "execution_count": 7,
   "metadata": {},
   "outputs": [],
   "source": [
    "# drop rows with na in article column\n",
    "\n",
    "modern_love_df = modern_love_df.dropna(subset=['article'])"
   ]
  },
  {
   "cell_type": "code",
   "execution_count": 8,
   "metadata": {},
   "outputs": [
    {
     "name": "stdout",
     "output_type": "stream",
     "text": [
      "<class 'pandas.core.frame.DataFrame'>\n",
      "Int64Index: 1609 entries, 0 to 1614\n",
      "Data columns (total 12 columns):\n",
      " #   Column                  Non-Null Count  Dtype \n",
      "---  ------                  --------------  ----- \n",
      " 0   article_url             1609 non-null   object\n",
      " 1   article                 1609 non-null   object\n",
      " 2   article_id              1609 non-null   object\n",
      " 3   article_headline        1609 non-null   object\n",
      " 4   article_abstract        1609 non-null   object\n",
      " 5   article_snippet         1609 non-null   object\n",
      " 6   article_lead_paragraph  1599 non-null   object\n",
      " 7   article_pub_date        1609 non-null   object\n",
      " 8   article_news_desk       1609 non-null   object\n",
      " 9   article_section         1609 non-null   object\n",
      " 10  article_type_material   1609 non-null   object\n",
      " 11  article_word_count      1609 non-null   int64 \n",
      "dtypes: int64(1), object(11)\n",
      "memory usage: 163.4+ KB\n"
     ]
    }
   ],
   "source": [
    "modern_love_df.info()"
   ]
  },
  {
   "cell_type": "code",
   "execution_count": 9,
   "metadata": {},
   "outputs": [],
   "source": [
    "# rename article column\n",
    "\n",
    "modern_love_df = modern_love_df.rename({'article':'essay'}, axis=1)"
   ]
  },
  {
   "cell_type": "code",
   "execution_count": 10,
   "metadata": {},
   "outputs": [],
   "source": [
    "# rename the rest of the columns by removing 'article_'\n",
    "\n",
    "modern_love_df.columns = modern_love_df.columns.str.replace('article_',\"\")"
   ]
  },
  {
   "cell_type": "code",
   "execution_count": 11,
   "metadata": {},
   "outputs": [
    {
     "data": {
      "text/plain": [
       "0"
      ]
     },
     "execution_count": 11,
     "metadata": {},
     "output_type": "execute_result"
    }
   ],
   "source": [
    "# check for duplicated rows\n",
    "\n",
    "modern_love_df.duplicated().sum() # there are none!"
   ]
  },
  {
   "cell_type": "code",
   "execution_count": 12,
   "metadata": {},
   "outputs": [],
   "source": [
    "# convert pub_date to datetime and then keep only the date\n",
    "\n",
    "modern_love_df['pub_date'] = pd.to_datetime(modern_love_df['pub_date']).dt.date"
   ]
  },
  {
   "cell_type": "code",
   "execution_count": 13,
   "metadata": {},
   "outputs": [
    {
     "name": "stdout",
     "output_type": "stream",
     "text": [
      "<class 'pandas.core.frame.DataFrame'>\n",
      "Int64Index: 1609 entries, 0 to 1614\n",
      "Data columns (total 12 columns):\n",
      " #   Column          Non-Null Count  Dtype \n",
      "---  ------          --------------  ----- \n",
      " 0   url             1609 non-null   object\n",
      " 1   essay           1609 non-null   object\n",
      " 2   id              1609 non-null   object\n",
      " 3   headline        1609 non-null   object\n",
      " 4   abstract        1609 non-null   object\n",
      " 5   snippet         1609 non-null   object\n",
      " 6   lead_paragraph  1599 non-null   object\n",
      " 7   pub_date        1609 non-null   object\n",
      " 8   news_desk       1609 non-null   object\n",
      " 9   section         1609 non-null   object\n",
      " 10  type_material   1609 non-null   object\n",
      " 11  word_count      1609 non-null   int64 \n",
      "dtypes: int64(1), object(11)\n",
      "memory usage: 163.4+ KB\n"
     ]
    }
   ],
   "source": [
    "modern_love_df.info()"
   ]
  },
  {
   "cell_type": "code",
   "execution_count": 17,
   "metadata": {},
   "outputs": [
    {
     "data": {
      "text/plain": [
       "108"
      ]
     },
     "execution_count": 17,
     "metadata": {},
     "output_type": "execute_result"
    }
   ],
   "source": [
    "# see how many articles mention the nytimes in the essay, as this text should be removed\n",
    "\n",
    "len(modern_love_df[modern_love_df.essay.str.contains('nytimes|New York Times|NYT')])"
   ]
  },
  {
   "cell_type": "code",
   "execution_count": 18,
   "metadata": {},
   "outputs": [],
   "source": [
    "# drop these essays for times' sake (go back to data acquisition stage to remove these paragraphs, time permitting)\n",
    "\n",
    "modern_love_df_rev = modern_love_df[~modern_love_df.essay.str.contains('nytimes|New York Times|NYT')]"
   ]
  },
  {
   "cell_type": "code",
   "execution_count": 19,
   "metadata": {
    "scrolled": true
   },
   "outputs": [
    {
     "name": "stdout",
     "output_type": "stream",
     "text": [
      "8\n"
     ]
    }
   ],
   "source": [
    "# see how many essays mention 'This essay is part of a collaborative project with Black History, Continued. We invited readers and renowned writers to respond to the question “What is Black love today?”'\n",
    "\n",
    "print(len(modern_love_df_rev[modern_love_df_rev.essay.str.contains('collaborative project')]))"
   ]
  },
  {
   "cell_type": "code",
   "execution_count": 20,
   "metadata": {},
   "outputs": [
    {
     "name": "stdout",
     "output_type": "stream",
     "text": [
      "172\n"
     ]
    }
   ],
   "source": [
    "# remove the sentences 'This essay is part of a collaborative project with Black History, Continued. We invited readers and renowned writers to respond to the question “What is Black love today?”'\n",
    "    # from the essay column\n",
    "\n",
    "sentences_to_remove = 'This essay is part of a collaborative project with Black History, Continued. We invited readers and renowned writers to respond to the question “What is Black love today?” '\n",
    "print(len(sentences_to_remove))\n",
    "\n",
    "collaborative_project = modern_love_df_rev[modern_love_df_rev.essay.str.contains('collaborative project')]\n",
    "\n",
    "revised_text = []\n",
    "\n",
    "for row in collaborative_project['essay']:\n",
    "    row = row[172:]\n",
    "    revised_text.append(row)\n",
    "    \n",
    "index = collaborative_project['id']\n",
    "\n",
    "data_tuples = list(zip(index,revised_text))\n",
    "cleaned_essay = pd.DataFrame(data_tuples, columns=['id','essay_rev'])\n",
    "\n",
    "modern_love_df_rev = modern_love_df.merge(cleaned_essay,how='left',on='id')\n",
    "modern_love_df_rev['essay_rev'].fillna(modern_love_df_rev.essay, inplace=True)"
   ]
  },
  {
   "cell_type": "code",
   "execution_count": 21,
   "metadata": {},
   "outputs": [
    {
     "data": {
      "text/plain": [
       "111"
      ]
     },
     "execution_count": 21,
     "metadata": {},
     "output_type": "execute_result"
    }
   ],
   "source": [
    "# check how many essays include text for the link '[Sign up for Love Letter, our weekly email about Modern Love, weddings and relationships.]'\n",
    "\n",
    "len(modern_love_df_rev.loc[modern_love_df_rev.essay_rev.str.contains('Sign up for Love Letter')])"
   ]
  },
  {
   "cell_type": "code",
   "execution_count": 22,
   "metadata": {},
   "outputs": [],
   "source": [
    "# remove the sign-up link text from each article\n",
    "\n",
    "modern_love_df_rev['essay_rev'] = modern_love_df_rev['essay_rev'].str.replace(r'\\[.*?\\]','')"
   ]
  },
  {
   "cell_type": "code",
   "execution_count": 23,
   "metadata": {},
   "outputs": [
    {
     "data": {
      "text/plain": [
       "151"
      ]
     },
     "execution_count": 23,
     "metadata": {},
     "output_type": "execute_result"
    }
   ],
   "source": [
    "# check how many essays have 'Modern Love' in them\n",
    "\n",
    "len(modern_love_df_rev.loc[modern_love_df_rev.essay_rev.str.contains('Modern Love|modernlove')])"
   ]
  },
  {
   "cell_type": "code",
   "execution_count": 24,
   "metadata": {},
   "outputs": [],
   "source": [
    "# drop these essays \n",
    "\n",
    "modern_love_df_rev_2 = modern_love_df_rev.loc[~modern_love_df_rev.essay_rev.str.contains('Modern Love|modernlove')]"
   ]
  },
  {
   "cell_type": "code",
   "execution_count": 25,
   "metadata": {},
   "outputs": [
    {
     "data": {
      "text/plain": [
       "(1458, 13)"
      ]
     },
     "execution_count": 25,
     "metadata": {},
     "output_type": "execute_result"
    }
   ],
   "source": [
    "modern_love_df_rev_2.shape"
   ]
  },
  {
   "cell_type": "code",
   "execution_count": 999,
   "metadata": {},
   "outputs": [
    {
     "data": {
      "text/plain": [
       "Index(['url', 'essay', 'id', 'headline', 'abstract', 'snippet',\n",
       "       'lead_paragraph', 'pub_date', 'news_desk', 'section', 'type_material',\n",
       "       'word_count', 'essay_rev', 'essay_rev_clean', 'essay_rev_clean_2',\n",
       "       'essay_rev_clean_3'],\n",
       "      dtype='object')"
      ]
     },
     "execution_count": 999,
     "metadata": {},
     "output_type": "execute_result"
    }
   ],
   "source": [
    "modern_love_df_rev_2.columns"
   ]
  },
  {
   "cell_type": "markdown",
   "metadata": {},
   "source": [
    "# NMF topic modeling utility"
   ]
  },
  {
   "cell_type": "markdown",
   "metadata": {},
   "source": [
    "Before creating a baseline model, create a pipeline function that does the following:\n",
    "\n",
    "- Arguments are the corpus, vectorizer and topic_modeler\n",
    "- Applies these in order\n",
    "- Prints the top 10 words for each topic found from training"
   ]
  },
  {
   "cell_type": "code",
   "execution_count": 726,
   "metadata": {},
   "outputs": [],
   "source": [
    "def make_topics(corpus, vectorizer, topic_modeler, print_n_words=10):\n",
    "    \"\"\"A very simple pipeline.\"\"\"\n",
    "    \n",
    "    # Vectorize documents into a document-word matrix.\n",
    "    doc_word_vectors = vectorizer.fit_transform(corpus) \n",
    "    \n",
    "    # Fit the topic model.\n",
    "    doc_topic_vectors = topic_modeler.fit_transform(doc_word_vectors)\n",
    "    \n",
    "    # Print the topics.\n",
    "    vocab = doc_word_vectors.get_feature_names_out() # vectorizer\n",
    "    for idx, topic in enumerate(doc_topic_vectors.components_): # topic_modeler\n",
    "        # Select the top 10 words in vocab for this topic.\n",
    "        top_words = [vocab[i] for i in topic.argsort()[:-print_n_words-1:-1]]\n",
    "        #print(f\"Topic {idx}:\\n\", \", \".join(top_words), \"\\n\")\n",
    "        print(f\"Topic {idx}:\", \", \".join(top_words))\n",
    "        \n",
    "    return doc_topic_vectors"
   ]
  },
  {
   "cell_type": "markdown",
   "metadata": {},
   "source": [
    "# NMF baseline model"
   ]
  },
  {
   "cell_type": "markdown",
   "metadata": {},
   "source": [
    "As priors, use Tfidf vectorizer and NMF topic modeler"
   ]
  },
  {
   "cell_type": "code",
   "execution_count": 27,
   "metadata": {},
   "outputs": [],
   "source": [
    "from sklearn.feature_extraction.text import TfidfVectorizer\n",
    "from sklearn.decomposition import NMF"
   ]
  },
  {
   "cell_type": "code",
   "execution_count": 28,
   "metadata": {},
   "outputs": [
    {
     "name": "stdout",
     "output_type": "stream",
     "text": [
      "Topic 0: the, and, of, to, in, that, was, it, had, my\n",
      "Topic 1: she, her, was, to, and, the, me, had, in, for\n",
      "Topic 2: he, his, him, to, was, me, and, said, had, you\n",
      "Topic 3: we, our, and, in, the, to, you, us, other, together\n",
      "Topic 4: my, mother, father, me, to, parents, and, with, in, for\n"
     ]
    },
    {
     "data": {
      "text/plain": [
       "array([[0.12026731, 0.        , 0.1151798 , 0.03879698, 0.01190443],\n",
       "       [0.10574248, 0.01946263, 0.06163275, 0.05058978, 0.03135195],\n",
       "       [0.06828757, 0.15704441, 0.        , 0.00618065, 0.07139688],\n",
       "       ...,\n",
       "       [0.        , 0.        , 0.05832072, 0.04512847, 0.        ],\n",
       "       [0.03195689, 0.        , 0.        , 0.00845712, 0.0650467 ],\n",
       "       [0.05628714, 0.00129334, 0.00476101, 0.013898  , 0.02507168]])"
      ]
     },
     "execution_count": 28,
     "metadata": {},
     "output_type": "execute_result"
    }
   ],
   "source": [
    "corpus = modern_love_df_rev_2['essay_rev']\n",
    "vectorizer = TfidfVectorizer()\n",
    "topic_modeler = NMF(5, random_state=42, max_iter=1000) # start with 5 topics\n",
    "\n",
    "make_topics(corpus, vectorizer, topic_modeler)"
   ]
  },
  {
   "cell_type": "markdown",
   "metadata": {},
   "source": [
    "Looks like the topics are capturing lots of stop words - time to remove them!"
   ]
  },
  {
   "cell_type": "markdown",
   "metadata": {},
   "source": [
    "# NMF Model 2 - remove stop words, numbers, punctuation and lemmatize tokens"
   ]
  },
  {
   "cell_type": "markdown",
   "metadata": {},
   "source": [
    "Use spaCy package for text processing"
   ]
  },
  {
   "cell_type": "code",
   "execution_count": 29,
   "metadata": {},
   "outputs": [],
   "source": [
    "import spacy\n",
    "from spacy.tokens import Token\n",
    "nlp = spacy.load('en_core_web_sm')"
   ]
  },
  {
   "cell_type": "code",
   "execution_count": 30,
   "metadata": {},
   "outputs": [],
   "source": [
    "# import stopwords\n",
    "sw_spacy = nlp.Defaults.stop_words"
   ]
  },
  {
   "cell_type": "markdown",
   "metadata": {},
   "source": [
    "The below code was inspired by this <a href=\"https://stackoverflow.com/questions/47523112/detect-stopword-after-lemma-in-spacy\">this stackoverflow post</a>"
   ]
  },
  {
   "cell_type": "code",
   "execution_count": 31,
   "metadata": {
    "scrolled": true
   },
   "outputs": [],
   "source": [
    "# update stopwords to ensure that capitalized and lemmatized tokens are identified as stop words\n",
    "\n",
    "stop_words_getter = lambda token: token.is_stop or token.lower_ in sw_spacy or token.lemma_ in sw_spacy\n",
    "Token.set_extension('is_stop', getter=stop_words_getter, force=True)  # set attribute with getter"
   ]
  },
  {
   "cell_type": "code",
   "execution_count": 32,
   "metadata": {
    "scrolled": true
   },
   "outputs": [],
   "source": [
    "docs = list(nlp.pipe(modern_love_df_rev_2['essay_rev']))"
   ]
  },
  {
   "cell_type": "markdown",
   "metadata": {},
   "source": [
    "The below code was inspired by <a href=\"https://stackoverflow.com/questions/25692293/inserting-a-link-to-a-webpage-in-an-ipython-notebook\">this stackoverflow post</a>"
   ]
  },
  {
   "cell_type": "code",
   "execution_count": 33,
   "metadata": {},
   "outputs": [
    {
     "name": "stderr",
     "output_type": "stream",
     "text": [
      "<ipython-input-33-3405cf085942>:4: SettingWithCopyWarning: \n",
      "A value is trying to be set on a copy of a slice from a DataFrame.\n",
      "Try using .loc[row_indexer,col_indexer] = value instead\n",
      "\n",
      "See the caveats in the documentation: https://pandas.pydata.org/pandas-docs/stable/user_guide/indexing.html#returning-a-view-versus-a-copy\n",
      "  modern_love_df_rev_2['essay_rev_clean'] = [' '.join(map(str, l)) for l in docs_clean]\n"
     ]
    }
   ],
   "source": [
    "docs_clean = [[token.lemma_.lower() for token in doc if token.is_alpha and \\\n",
    "                         (not token.is_stop and not token.is_punct and not token.like_num and not token.is_digit)] \\\n",
    "                          for doc in docs]\n",
    "modern_love_df_rev_2['essay_rev_clean'] = [' '.join(map(str, l)) for l in docs_clean]"
   ]
  },
  {
   "cell_type": "code",
   "execution_count": 34,
   "metadata": {},
   "outputs": [
    {
     "name": "stdout",
     "output_type": "stream",
     "text": [
      "Topic 0: day, time, like, say, home, go, night, bed, leave, know\n",
      "Topic 1: father, mother, parent, family, say, brother, year, sister, child, know\n",
      "Topic 2: say, date, like, want, man, know, think, tell, woman, meet\n",
      "Topic 3: husband, marriage, divorce, wife, marry, child, year, wedding, friend, life\n",
      "Topic 4: love, fall, year, grandmother, girl, boy, know, feel, relationship, child\n"
     ]
    },
    {
     "data": {
      "text/plain": [
       "array([[0.07236249, 0.05994489, 0.05163971, 0.02300993, 0.03358636],\n",
       "       [0.01151929, 0.06829537, 0.01585402, 0.06786783, 0.07423379],\n",
       "       [0.03034165, 0.02797976, 0.0203942 , 0.00605542, 0.13180721],\n",
       "       ...,\n",
       "       [0.02773193, 0.        , 0.        , 0.01958957, 0.04469718],\n",
       "       [0.02239977, 0.00234048, 0.        , 0.10264239, 0.        ],\n",
       "       [0.04431684, 0.        , 0.01291339, 0.        , 0.01675162]])"
      ]
     },
     "execution_count": 34,
     "metadata": {},
     "output_type": "execute_result"
    }
   ],
   "source": [
    "corpus = modern_love_df_rev_2['essay_rev_clean']\n",
    "vectorizer = TfidfVectorizer()\n",
    "topic_modeler = NMF(5, random_state=42, max_iter=1000)\n",
    "\n",
    "make_topics(corpus, vectorizer, topic_modeler)"
   ]
  },
  {
   "cell_type": "markdown",
   "metadata": {},
   "source": [
    "# NMF Model 3 - try 10 topics"
   ]
  },
  {
   "cell_type": "code",
   "execution_count": 35,
   "metadata": {},
   "outputs": [
    {
     "name": "stdout",
     "output_type": "stream",
     "text": [
      "Topic 0: mother, grandmother, year, family, sister, parent, home, old, die, care\n",
      "Topic 1: father, parent, mother, brother, dad, family, know, year, sister, die\n",
      "Topic 2: date, like, want, relationship, man, feel, woman, friend, know, time\n",
      "Topic 3: husband, marriage, divorce, wife, marry, year, wedding, friend, man, life\n",
      "Topic 4: love, fall, year, word, know, heart, feel, relationship, people, write\n",
      "Topic 5: say, ask, tell, know, think, want, yes, like, look, later\n",
      "Topic 6: day, time, night, new, home, like, car, leave, bed, dog\n",
      "Topic 7: child, baby, daughter, son, doctor, birth, pregnancy, pregnant, know, husband\n",
      "Topic 8: john, amy, mary, house, slipper, year, want, extraordinary, day, sofa\n",
      "Topic 9: girl, school, boy, prom, parent, michael, high, gay, dress, year\n"
     ]
    },
    {
     "data": {
      "text/plain": [
       "array([[0.00611814, 0.0547847 , 0.05585934, ..., 0.12416781, 0.        ,\n",
       "        0.        ],\n",
       "       [0.03177836, 0.05230815, 0.00942886, ..., 0.01877506, 0.001906  ,\n",
       "        0.02563816],\n",
       "       [0.01113183, 0.0195127 , 0.02676823, ..., 0.04980819, 0.00204291,\n",
       "        0.034947  ],\n",
       "       ...,\n",
       "       [0.        , 0.00666873, 0.        , ..., 0.        , 0.00466373,\n",
       "        0.00651875],\n",
       "       [0.00162195, 0.        , 0.        , ..., 0.        , 0.        ,\n",
       "        0.        ],\n",
       "       [0.        , 0.        , 0.00259708, ..., 0.        , 0.        ,\n",
       "        0.        ]])"
      ]
     },
     "execution_count": 35,
     "metadata": {},
     "output_type": "execute_result"
    }
   ],
   "source": [
    "corpus = modern_love_df_rev_2['essay_rev_clean']\n",
    "vectorizer = TfidfVectorizer()\n",
    "topic_modeler = NMF(10, random_state=42, max_iter=1000)\n",
    "\n",
    "make_topics(corpus, vectorizer, topic_modeler)"
   ]
  },
  {
   "cell_type": "markdown",
   "metadata": {},
   "source": [
    "# NMF Model 4 - try 50 topics"
   ]
  },
  {
   "cell_type": "code",
   "execution_count": 36,
   "metadata": {},
   "outputs": [
    {
     "name": "stdout",
     "output_type": "stream",
     "text": [
      "Topic 0: feel, know, relationship, time, want, like, way, life, think, friend\n",
      "Topic 1: father, dad, mother, parent, know, die, year, death, daddy, life\n",
      "Topic 2: date, meet, guy, app, friend, year, maybe, try, marry, later\n",
      "Topic 3: marriage, divorce, wife, marry, year, gay, married, couple, wedding, share\n",
      "Topic 4: love, fall, year, boyfriend, heart, word, milo, people, write, child\n",
      "Topic 5: say, ask, tell, know, think, yes, want, like, good, happy\n",
      "Topic 6: new, apartment, night, york, day, city, work, boyfriend, move, time\n",
      "Topic 7: baby, child, pregnancy, pregnant, birth, fertility, adoption, egg, doctor, sperm\n",
      "Topic 8: mother, home, year, old, care, die, day, dj, cry, family\n",
      "Topic 9: man, woman, guy, white, like, young, find, gay, think, know\n",
      "Topic 10: john, mary, slipper, house, extraordinary, want, sofa, party, bee, jessica\n",
      "Topic 11: grandmother, mahjong, tile, nick, game, purse, win, round, aunt, cousin\n",
      "Topic 12: son, child, house, wife, boy, year, church, god, tree, old\n",
      "Topic 13: michael, tito, randy, huppah, willem, die, ceremony, mugger, widow, death\n",
      "Topic 14: doctor, hospital, bed, nurse, room, cancer, patient, week, emergency, day\n",
      "Topic 15: ex, girlfriend, boyfriend, child, divorce, charles, asher, party, upstairs, uber\n",
      "Topic 16: chris, kurt, zack, rachel, virginia, brian, greg, big, discipline, think\n",
      "Topic 17: husband, leave, marriage, juice, rich, friend, home, say, day, try\n",
      "Topic 18: christmas, gift, tree, snow, eve, red, holiday, winter, santa, come\n",
      "Topic 19: guitar, world, pandemic, yoro, sleep, condense, isolation, charity, hope, newfound\n",
      "Topic 20: rabbi, friend, shoot, bar, pool, rabbis, tenenbaum, tova, jewish, trivia\n",
      "Topic 21: dog, ira, steve, home, glenn, animal, house, want, dusty, shelter\n",
      "Topic 22: parent, family, suitable, child, indian, friend, boy, american, school, seung\n",
      "Topic 23: message, write, photo, send, mail, picture, facebook, text, online, day\n",
      "Topic 24: color, gabriela, revilla, lugo, aesthetician, pedicure, multicolore, horrified, unimaginable, iv\n",
      "Topic 25: david, jenkins, spanking, dish, supper, oppose, authority, blanket, want, surrender\n",
      "Topic 26: sex, want, sexual, boyfriend, affair, secondary, desire, kiss, people, asexual\n",
      "Topic 27: march, bedroom, grief, guest, train, paris, barbara, comfortable, gerald, phillips\n",
      "Topic 28: book, look, read, library, shelf, write, libby, flunk, bookstore, list\n",
      "Topic 29: andrew, jewish, boyfriend, letter, paul, miguel, life, history, want, find\n",
      "Topic 30: joe, fish, dream, trader, croagh, clew, beary, roberta, defrost, patrick\n",
      "Topic 31: ring, jim, diamond, engagement, melinda, propose, wedding, marry, finger, want\n",
      "Topic 32: girl, boy, japan, kline, philippines, bombshell, ash, madly, states, united\n",
      "Topic 33: matt, lawyer, gratitude, brian, jar, treatment, hour, feel, addiction, pioneer\n",
      "Topic 34: school, high, prom, korynkiewicz, stacey, pancreatic, paterson, retell, gay, worried\n",
      "Topic 35: dave, army, locklin, poem, therapist, afghanistan, war, dull, soldier, chocolate\n",
      "Topic 36: demouth, nicole, whispering, cautiously, picture, begin, curious, tooth, brush, cross\n",
      "Topic 37: daughter, child, family, year, time, helen, fumiko, wheelchair, old, young\n",
      "Topic 38: alex, jonathan, eclipse, boy, kimberly, extrajudicial, motorcycle, change, profiling, reyes\n",
      "Topic 39: tracy, sighted, smell, look, blind, sound, image, blindness, like, funny\n",
      "Topic 40: sister, flower, angie, bear, charlie, half, teenage, singe, correct, game\n",
      "Topic 41: amy, ford, maternal, cinguina, bed, skimp, spunky, domina, suv, collarbone\n",
      "Topic 42: like, hand, body, feel, hold, eye, arm, look, kiss, night\n",
      "Topic 43: dress, wedding, wear, randy, ceremony, huppah, white, scott, skirt, groom\n",
      "Topic 44: brother, bob, big, tell, gay, year, twin, girlfriend, night, sarah\n",
      "Topic 45: tattoo, root, get, danielle, ink, jason, shop, motorcycle, andreas, anchor\n",
      "Topic 46: jeff, pudge, paul, minnie, monica, morris, memory, jeffrey, tell, bully\n",
      "Topic 47: fry, cutlet, chicken, math, dirty, curto, parmigiana, kathy, ma, verb\n",
      "Topic 48: car, drive, seat, van, road, door, stop, open, ford, accident\n",
      "Topic 49: sam, sandwich, memory, grace, beatles, kale, know, ham, run, klimoski\n"
     ]
    },
    {
     "data": {
      "text/plain": [
       "array([[0.03785426, 0.04446844, 0.01136468, ..., 0.03843785, 0.05835881,\n",
       "        0.        ],\n",
       "       [0.00599239, 0.02545525, 0.        , ..., 0.        , 0.        ,\n",
       "        0.        ],\n",
       "       [0.01788923, 0.01264681, 0.00522237, ..., 0.00494933, 0.        ,\n",
       "        0.        ],\n",
       "       ...,\n",
       "       [0.00627784, 0.00466612, 0.        , ..., 0.00769902, 0.001398  ,\n",
       "        0.0079676 ],\n",
       "       [0.        , 0.        , 0.        , ..., 0.        , 0.02583937,\n",
       "        0.        ],\n",
       "       [0.        , 0.        , 0.        , ..., 0.        , 0.00073479,\n",
       "        0.        ]])"
      ]
     },
     "execution_count": 36,
     "metadata": {},
     "output_type": "execute_result"
    }
   ],
   "source": [
    "corpus = modern_love_df_rev_2['essay_rev_clean']\n",
    "vectorizer = TfidfVectorizer()\n",
    "topic_modeler = NMF(50, random_state=42, max_iter=1000)\n",
    "\n",
    "make_topics(corpus, vectorizer, topic_modeler)"
   ]
  },
  {
   "cell_type": "markdown",
   "metadata": {},
   "source": [
    "# NMF Model 5 - try 2 topics"
   ]
  },
  {
   "cell_type": "code",
   "execution_count": 37,
   "metadata": {},
   "outputs": [
    {
     "name": "stdout",
     "output_type": "stream",
     "text": [
      "Topic 0: say, like, love, know, want, time, feel, think, tell, man\n",
      "Topic 1: mother, father, parent, year, family, child, daughter, say, son, brother\n"
     ]
    },
    {
     "data": {
      "text/plain": [
       "array([[0.08506482, 0.0791229 ],\n",
       "       [0.04808149, 0.08981857],\n",
       "       [0.0613017 , 0.05350221],\n",
       "       ...,\n",
       "       [0.0325893 , 0.01562112],\n",
       "       [0.03759431, 0.0286379 ],\n",
       "       [0.04365331, 0.        ]])"
      ]
     },
     "execution_count": 37,
     "metadata": {},
     "output_type": "execute_result"
    }
   ],
   "source": [
    "corpus = modern_love_df_rev_2['essay_rev_clean']\n",
    "vectorizer = TfidfVectorizer()\n",
    "topic_modeler = NMF(2, random_state=42, max_iter=1000)\n",
    "\n",
    "make_topics(corpus, vectorizer, topic_modeler)"
   ]
  },
  {
   "cell_type": "markdown",
   "metadata": {},
   "source": [
    "# NMF Model 6 - try 7 topics"
   ]
  },
  {
   "cell_type": "code",
   "execution_count": 38,
   "metadata": {},
   "outputs": [
    {
     "name": "stdout",
     "output_type": "stream",
     "text": [
      "Topic 0: day, time, like, home, bed, night, feel, go, leave, come\n",
      "Topic 1: father, mother, parent, family, brother, year, sister, child, die, know\n",
      "Topic 2: date, like, relationship, want, man, friend, feel, know, time, woman\n",
      "Topic 3: husband, marriage, divorce, wife, marry, child, year, wedding, friend, life\n",
      "Topic 4: love, grandmother, fall, year, boy, child, girl, parent, know, family\n",
      "Topic 5: say, ask, tell, know, think, want, like, yes, look, later\n",
      "Topic 6: john, amy, year, mary, house, slipper, want, school, high, new\n"
     ]
    },
    {
     "data": {
      "text/plain": [
       "array([[6.94770303e-02, 5.95715739e-02, 5.64972297e-02, ...,\n",
       "        2.49154081e-02, 2.61863639e-02, 0.00000000e+00],\n",
       "       [1.12106189e-02, 6.71349062e-02, 2.23416241e-02, ...,\n",
       "        6.87913745e-02, 1.58993337e-02, 3.68147979e-03],\n",
       "       [3.09364201e-02, 2.69966857e-02, 3.52077018e-02, ...,\n",
       "        1.22663658e-01, 4.63760672e-03, 2.44690127e-03],\n",
       "       ...,\n",
       "       [2.78458568e-02, 0.00000000e+00, 3.78684335e-05, ...,\n",
       "        4.32893509e-02, 3.50992582e-03, 7.85271941e-03],\n",
       "       [1.05131888e-02, 0.00000000e+00, 0.00000000e+00, ...,\n",
       "        0.00000000e+00, 3.80152476e-02, 0.00000000e+00],\n",
       "       [3.91264770e-02, 0.00000000e+00, 1.62182190e-02, ...,\n",
       "        1.08950736e-02, 1.17952016e-02, 5.02625520e-03]])"
      ]
     },
     "execution_count": 38,
     "metadata": {},
     "output_type": "execute_result"
    }
   ],
   "source": [
    "corpus = modern_love_df_rev_2['essay_rev_clean']\n",
    "vectorizer = TfidfVectorizer()\n",
    "topic_modeler = NMF(7, random_state=42, max_iter=1000)\n",
    "\n",
    "make_topics(corpus, vectorizer, topic_modeler)"
   ]
  },
  {
   "cell_type": "markdown",
   "metadata": {},
   "source": [
    "# NMF Model 7 - 10 topics and remove more stop words"
   ]
  },
  {
   "cell_type": "code",
   "execution_count": 816,
   "metadata": {
    "scrolled": true
   },
   "outputs": [],
   "source": [
    "tokens_to_remove = {'like','tell','like','want','say','know','ask','think','thing','man','woman','feel','person', \\\n",
    "                   'people','day','time','night', 'come'}\n",
    "\n",
    "sw_spacy.update(tokens_to_remove)\n",
    "\n",
    "docs_clean_2 = [[token for token in doc if token not in sw_spacy] for doc in docs_clean]\n",
    "modern_love_df_rev_2['essay_rev_clean_2'] = [' '.join(map(str, l)) for l in docs_clean_2]"
   ]
  },
  {
   "cell_type": "code",
   "execution_count": 817,
   "metadata": {},
   "outputs": [],
   "source": [
    "docs_2 = list(nlp.pipe(modern_love_df_rev_2['essay_rev_clean_2']))"
   ]
  },
  {
   "cell_type": "code",
   "execution_count": 818,
   "metadata": {},
   "outputs": [
    {
     "name": "stdout",
     "output_type": "stream",
     "text": [
      "Topic 0: look, car, bed, home, hand, leave, dog, walk, room, new\n",
      "Topic 1: father, parent, mother, brother, dad, year, family, die, sister, life\n",
      "Topic 2: date, meet, friend, relationship, guy, talk, message, year, new, good\n",
      "Topic 3: husband, marriage, divorce, wife, marry, year, child, wedding, friend, life\n",
      "Topic 4: love, fall, year, relationship, word, heart, child, life, write, boyfriend\n",
      "Topic 5: grandmother, mahjong, year, tile, game, grandfather, nick, win, die, purse\n",
      "Topic 6: girl, school, boy, prom, high, gay, parent, michael, dress, wear\n",
      "Topic 7: mother, child, daughter, baby, parent, family, son, year, birth, home\n",
      "Topic 8: john, amy, mary, house, year, slipper, party, extraordinary, new, sofa\n",
      "Topic 9: sex, sexual, body, relationship, kiss, boyfriend, desire, affair, lover, room\n"
     ]
    },
    {
     "data": {
      "text/plain": [
       "array([[0.04801425, 0.05541306, 0.04578253, ..., 0.0548223 , 0.        ,\n",
       "        0.02809565],\n",
       "       [0.00762077, 0.05306614, 0.0036622 , ..., 0.03793825, 0.00205461,\n",
       "        0.01226042],\n",
       "       [0.02685096, 0.01675163, 0.01652142, ..., 0.03000346, 0.00037356,\n",
       "        0.        ],\n",
       "       ...,\n",
       "       [0.01824226, 0.0078459 , 0.0078799 , ..., 0.        , 0.00519347,\n",
       "        0.        ],\n",
       "       [0.02423751, 0.        , 0.        , ..., 0.00025523, 0.        ,\n",
       "        0.        ],\n",
       "       [0.03360477, 0.        , 0.03088206, ..., 0.        , 0.00240991,\n",
       "        0.0021559 ]])"
      ]
     },
     "execution_count": 818,
     "metadata": {},
     "output_type": "execute_result"
    }
   ],
   "source": [
    "corpus = modern_love_df_rev_2['essay_rev_clean_2']\n",
    "vectorizer = TfidfVectorizer()\n",
    "topic_modeler = NMF(10, random_state=42, max_iter=1000)\n",
    "\n",
    "make_topics(corpus, vectorizer, topic_modeler)"
   ]
  },
  {
   "cell_type": "markdown",
   "metadata": {},
   "source": [
    "# NMF Model 8 - 8 topics and tune max_df and min_df"
   ]
  },
  {
   "cell_type": "code",
   "execution_count": 819,
   "metadata": {},
   "outputs": [
    {
     "name": "stdout",
     "output_type": "stream",
     "text": [
      "Topic 0: look, hand, bed, room, leave, eye, body, dog, way, car\n",
      "Topic 1: father, parent, brother, dad, family, sister, mother, father die, die, death\n",
      "Topic 2: date, friend, relationship, meet, guy, sex, good, talk, find, way\n",
      "Topic 3: husband, marriage, wife, marry, divorce, wedding, friend, life, married, ex\n",
      "Topic 4: mother, grandmother, sister, family, die, parent, old, home, care, cry\n",
      "Topic 5: new, york, new york, city, york city, new york city, apartment, live, later, home\n",
      "Topic 6: child, daughter, son, baby, boy, family, parent, school, girl, birth\n",
      "Topic 7: john, school, mary, house, high, party, high school, sofa, find love, meet\n"
     ]
    },
    {
     "data": {
      "text/plain": [
       "array([[0.05409715, 0.07560415, 0.05955524, ..., 0.00737279, 0.09689404,\n",
       "        0.        ],\n",
       "       [0.        , 0.07631739, 0.        , ..., 0.18176007, 0.07360179,\n",
       "        0.        ],\n",
       "       [0.04765167, 0.03070896, 0.05571018, ..., 0.0465387 , 0.14372252,\n",
       "        0.00306682],\n",
       "       ...,\n",
       "       [0.02292997, 0.00680569, 0.01113742, ..., 0.01148343, 0.00166265,\n",
       "        0.00538585],\n",
       "       [0.02404266, 0.00158322, 0.        , ..., 0.00837544, 0.01820894,\n",
       "        0.        ],\n",
       "       [0.        , 0.        , 0.00876386, ..., 0.21140442, 0.        ,\n",
       "        0.        ]])"
      ]
     },
     "execution_count": 819,
     "metadata": {},
     "output_type": "execute_result"
    }
   ],
   "source": [
    "corpus = modern_love_df_rev_2['essay_rev_clean_2']\n",
    "vectorizer = TfidfVectorizer(ngram_range=(1,3), max_df=0.6, min_df=.02)\n",
    "topic_modeler = NMF(8, random_state=42, max_iter=1000)\n",
    "\n",
    "make_topics(corpus, vectorizer, topic_modeler)"
   ]
  },
  {
   "cell_type": "markdown",
   "metadata": {},
   "source": [
    "# NMF Model 9 - 8 topics and customize some lemmatization"
   ]
  },
  {
   "cell_type": "markdown",
   "metadata": {},
   "source": [
    "The below code was inspired by this <a href=\"https://medium.com/mlearning-ai/nlp-03-lemmatization-and-stemming-using-spacy-b2829becceca\">this medium post</a>"
   ]
  },
  {
   "cell_type": "code",
   "execution_count": 820,
   "metadata": {},
   "outputs": [],
   "source": [
    "# customize lemmatization for married and marriage so their lemma is 'marry'; \n",
    "    # dad and daddy so their lemma is 'father'\n",
    "    # mom and mommy so their lemma is 'mother'\n",
    "    # pregnant so it's lemma is 'pregnancy'\n",
    "    # grandma so its lemma is 'grandmother'\n",
    "    # grandpa so its lemma is 'grandfather'\n",
    "    # die so its lemma is 'death'\n",
    "\n",
    "nlp.get_pipe('attribute_ruler').add([[{\"TEXT\":\"married\"}]],{\"LEMMA\":\"marriage\"})\n",
    "nlp.get_pipe('attribute_ruler').add([[{\"TEXT\":\"marry\"}]],{\"LEMMA\":\"marriage\"})\n",
    "nlp.get_pipe('attribute_ruler').add([[{\"TEXT\":\"dad\"}]],{\"LEMMA\":\"father\"})\n",
    "nlp.get_pipe('attribute_ruler').add([[{\"TEXT\":\"daddy\"}]],{\"LEMMA\":\"father\"})\n",
    "nlp.get_pipe('attribute_ruler').add([[{\"TEXT\":\"mom\"}]],{\"LEMMA\":\"mother\"})\n",
    "nlp.get_pipe('attribute_ruler').add([[{\"TEXT\":\"mommy\"}]],{\"LEMMA\":\"mother\"})\n",
    "nlp.get_pipe('attribute_ruler').add([[{\"TEXT\":\"pregnant\"}]],{\"LEMMA\":\"pregnancy\"})\n",
    "nlp.get_pipe('attribute_ruler').add([[{\"TEXT\":\"grandma\"}]],{\"LEMMA\":\"grandmother\"})\n",
    "nlp.get_pipe('attribute_ruler').add([[{\"TEXT\":\"grandpa\"}]],{\"LEMMA\":\"grandfather\"})\n",
    "nlp.get_pipe('attribute_ruler').add([[{\"TEXT\":\"die\"}]],{\"LEMMA\":\"death\"})"
   ]
  },
  {
   "cell_type": "code",
   "execution_count": 821,
   "metadata": {},
   "outputs": [],
   "source": [
    "docs_3 = list(nlp.pipe(modern_love_df_rev_2['essay_rev_clean_2']))"
   ]
  },
  {
   "cell_type": "code",
   "execution_count": 822,
   "metadata": {},
   "outputs": [],
   "source": [
    "docs_clean_3 = [[token.lemma_ for token in doc] for doc in docs_3]\n",
    "modern_love_df_rev_2['essay_rev_clean_3'] = [' '.join(map(str, l)) for l in docs_clean_3]"
   ]
  },
  {
   "cell_type": "code",
   "execution_count": 834,
   "metadata": {},
   "outputs": [
    {
     "name": "stdout",
     "output_type": "stream",
     "text": [
      "Topic 0: look, hand, leave, dog, bed, car, walk, room, home, way\n",
      "Topic 1: father, parent, death, brother, father death, family, sister, divorce, mother, old\n",
      "Topic 2: marriage, husband, divorce, wife, wedding, friend, life, ring, couple, gay\n",
      "Topic 3: date, friend, meet, relationship, guy, message, good, write, find, talk\n",
      "Topic 4: mother, parent, family, sister, brother, home, cry, old, good, house\n",
      "Topic 5: new, york, new york, city, york city, new york city, apartment, live, later, month\n",
      "Topic 6: child, baby, daughter, son, pregnancy, boy, family, birth, doctor, life\n",
      "Topic 7: sex, sexual, relationship, boyfriend, kiss, desire, body, partner, fall, lover\n",
      "Topic 8: grandmother, grandfather, sister, tile, death, family, game, win, granddaughter, old\n",
      "Topic 9: john, amy, house, mary, school, sofa, high, party, jessica, high school\n"
     ]
    }
   ],
   "source": [
    "corpus = modern_love_df_rev_2['essay_rev_clean_3']\n",
    "vectorizer = TfidfVectorizer(ngram_range=(1,3), max_df=0.6, min_df=.01)\n",
    "topic_modeler = NMF(10, random_state=42, max_iter=1000)\n",
    "\n",
    "nmf_doc_topic = make_topics(corpus, vectorizer, topic_modeler)"
   ]
  },
  {
   "cell_type": "markdown",
   "metadata": {},
   "source": [
    "The above topics seem like they could be loosely described as the following:\n",
    "\n",
    "- Topic 1: misc\n",
    "- Topic 2: immediate family/family tragedies\n",
    "- Topic 3: marriage and divorce\n",
    "- Topic 4: dating\n",
    "- Topic 5: family\n",
    "- Topic 6: new york city\n",
    "- Topic 7: pregnancy and birth\n",
    "- Topic 8: sex and desire\n",
    "- Topic 9: grandparents and grandchildren\n",
    "- Topic 10: school/high school"
   ]
  },
  {
   "cell_type": "markdown",
   "metadata": {},
   "source": [
    "Create a dataframe  from the topic-word matrix (aka W) that shows us the topics and the terms associated with each topic. The values in each cell are the weights of each word (column) on each topic (row)."
   ]
  },
  {
   "cell_type": "code",
   "execution_count": 836,
   "metadata": {},
   "outputs": [
    {
     "data": {
      "text/html": [
       "<div>\n",
       "<style scoped>\n",
       "    .dataframe tbody tr th:only-of-type {\n",
       "        vertical-align: middle;\n",
       "    }\n",
       "\n",
       "    .dataframe tbody tr th {\n",
       "        vertical-align: top;\n",
       "    }\n",
       "\n",
       "    .dataframe thead th {\n",
       "        text-align: right;\n",
       "    }\n",
       "</style>\n",
       "<table border=\"1\" class=\"dataframe\">\n",
       "  <thead>\n",
       "    <tr style=\"text-align: right;\">\n",
       "      <th></th>\n",
       "      <th>abandon</th>\n",
       "      <th>ability</th>\n",
       "      <th>able</th>\n",
       "      <th>abroad</th>\n",
       "      <th>abruptly</th>\n",
       "      <th>absence</th>\n",
       "      <th>absent</th>\n",
       "      <th>absolutely</th>\n",
       "      <th>absorb</th>\n",
       "      <th>absurd</th>\n",
       "      <th>...</th>\n",
       "      <th>york city</th>\n",
       "      <th>yorker</th>\n",
       "      <th>young</th>\n",
       "      <th>young brother</th>\n",
       "      <th>young child</th>\n",
       "      <th>young girl</th>\n",
       "      <th>young sister</th>\n",
       "      <th>youth</th>\n",
       "      <th>zone</th>\n",
       "      <th>zoom</th>\n",
       "    </tr>\n",
       "  </thead>\n",
       "  <tbody>\n",
       "    <tr>\n",
       "      <th>component_1</th>\n",
       "      <td>0.017295</td>\n",
       "      <td>0.011786</td>\n",
       "      <td>0.047757</td>\n",
       "      <td>0.001536</td>\n",
       "      <td>0.005711</td>\n",
       "      <td>0.018236</td>\n",
       "      <td>0.005629</td>\n",
       "      <td>0.005763</td>\n",
       "      <td>0.012779</td>\n",
       "      <td>0.009703</td>\n",
       "      <td>...</td>\n",
       "      <td>0.000000</td>\n",
       "      <td>0.000293</td>\n",
       "      <td>0.054875</td>\n",
       "      <td>0.000000</td>\n",
       "      <td>0.000000</td>\n",
       "      <td>0.006491</td>\n",
       "      <td>0.004852</td>\n",
       "      <td>0.011312</td>\n",
       "      <td>0.007864</td>\n",
       "      <td>0.011752</td>\n",
       "    </tr>\n",
       "    <tr>\n",
       "      <th>component_2</th>\n",
       "      <td>0.000000</td>\n",
       "      <td>0.001130</td>\n",
       "      <td>0.018885</td>\n",
       "      <td>0.000000</td>\n",
       "      <td>0.000000</td>\n",
       "      <td>0.022182</td>\n",
       "      <td>0.001300</td>\n",
       "      <td>0.001976</td>\n",
       "      <td>0.000042</td>\n",
       "      <td>0.003306</td>\n",
       "      <td>...</td>\n",
       "      <td>0.000000</td>\n",
       "      <td>0.000000</td>\n",
       "      <td>0.045355</td>\n",
       "      <td>0.009832</td>\n",
       "      <td>0.004914</td>\n",
       "      <td>0.001736</td>\n",
       "      <td>0.019540</td>\n",
       "      <td>0.000000</td>\n",
       "      <td>0.000000</td>\n",
       "      <td>0.000000</td>\n",
       "    </tr>\n",
       "    <tr>\n",
       "      <th>component_3</th>\n",
       "      <td>0.000000</td>\n",
       "      <td>0.023972</td>\n",
       "      <td>0.033550</td>\n",
       "      <td>0.001939</td>\n",
       "      <td>0.000000</td>\n",
       "      <td>0.009851</td>\n",
       "      <td>0.000950</td>\n",
       "      <td>0.013009</td>\n",
       "      <td>0.000000</td>\n",
       "      <td>0.000397</td>\n",
       "      <td>...</td>\n",
       "      <td>0.000000</td>\n",
       "      <td>0.002573</td>\n",
       "      <td>0.064294</td>\n",
       "      <td>0.003237</td>\n",
       "      <td>0.000501</td>\n",
       "      <td>0.000000</td>\n",
       "      <td>0.003200</td>\n",
       "      <td>0.000000</td>\n",
       "      <td>0.001775</td>\n",
       "      <td>0.000000</td>\n",
       "    </tr>\n",
       "    <tr>\n",
       "      <th>component_4</th>\n",
       "      <td>0.007267</td>\n",
       "      <td>0.017449</td>\n",
       "      <td>0.046691</td>\n",
       "      <td>0.009476</td>\n",
       "      <td>0.009556</td>\n",
       "      <td>0.000000</td>\n",
       "      <td>0.000973</td>\n",
       "      <td>0.011558</td>\n",
       "      <td>0.000000</td>\n",
       "      <td>0.005352</td>\n",
       "      <td>...</td>\n",
       "      <td>0.000000</td>\n",
       "      <td>0.005444</td>\n",
       "      <td>0.053937</td>\n",
       "      <td>0.000000</td>\n",
       "      <td>0.005476</td>\n",
       "      <td>0.007817</td>\n",
       "      <td>0.007179</td>\n",
       "      <td>0.002034</td>\n",
       "      <td>0.013275</td>\n",
       "      <td>0.002316</td>\n",
       "    </tr>\n",
       "    <tr>\n",
       "      <th>component_5</th>\n",
       "      <td>0.002087</td>\n",
       "      <td>0.000927</td>\n",
       "      <td>0.035403</td>\n",
       "      <td>0.004033</td>\n",
       "      <td>0.002868</td>\n",
       "      <td>0.028256</td>\n",
       "      <td>0.003050</td>\n",
       "      <td>0.000000</td>\n",
       "      <td>0.000000</td>\n",
       "      <td>0.000000</td>\n",
       "      <td>...</td>\n",
       "      <td>0.000000</td>\n",
       "      <td>0.003798</td>\n",
       "      <td>0.053238</td>\n",
       "      <td>0.007041</td>\n",
       "      <td>0.000000</td>\n",
       "      <td>0.006993</td>\n",
       "      <td>0.011149</td>\n",
       "      <td>0.000000</td>\n",
       "      <td>0.000000</td>\n",
       "      <td>0.037939</td>\n",
       "    </tr>\n",
       "    <tr>\n",
       "      <th>component_6</th>\n",
       "      <td>0.015018</td>\n",
       "      <td>0.004466</td>\n",
       "      <td>0.000000</td>\n",
       "      <td>0.032158</td>\n",
       "      <td>0.001350</td>\n",
       "      <td>0.000000</td>\n",
       "      <td>0.012155</td>\n",
       "      <td>0.000000</td>\n",
       "      <td>0.000000</td>\n",
       "      <td>0.002641</td>\n",
       "      <td>...</td>\n",
       "      <td>0.294017</td>\n",
       "      <td>0.018857</td>\n",
       "      <td>0.019323</td>\n",
       "      <td>0.004329</td>\n",
       "      <td>0.000000</td>\n",
       "      <td>0.001275</td>\n",
       "      <td>0.000000</td>\n",
       "      <td>0.026800</td>\n",
       "      <td>0.005016</td>\n",
       "      <td>0.000000</td>\n",
       "    </tr>\n",
       "    <tr>\n",
       "      <th>component_7</th>\n",
       "      <td>0.027608</td>\n",
       "      <td>0.024760</td>\n",
       "      <td>0.051270</td>\n",
       "      <td>0.000050</td>\n",
       "      <td>0.005573</td>\n",
       "      <td>0.007808</td>\n",
       "      <td>0.009554</td>\n",
       "      <td>0.005532</td>\n",
       "      <td>0.041086</td>\n",
       "      <td>0.000955</td>\n",
       "      <td>...</td>\n",
       "      <td>0.000000</td>\n",
       "      <td>0.002330</td>\n",
       "      <td>0.111866</td>\n",
       "      <td>0.007759</td>\n",
       "      <td>0.030796</td>\n",
       "      <td>0.002932</td>\n",
       "      <td>0.000000</td>\n",
       "      <td>0.015881</td>\n",
       "      <td>0.000000</td>\n",
       "      <td>0.001545</td>\n",
       "    </tr>\n",
       "    <tr>\n",
       "      <th>component_8</th>\n",
       "      <td>0.013986</td>\n",
       "      <td>0.011607</td>\n",
       "      <td>0.020234</td>\n",
       "      <td>0.011821</td>\n",
       "      <td>0.000000</td>\n",
       "      <td>0.008233</td>\n",
       "      <td>0.014399</td>\n",
       "      <td>0.009514</td>\n",
       "      <td>0.004277</td>\n",
       "      <td>0.006863</td>\n",
       "      <td>...</td>\n",
       "      <td>0.000000</td>\n",
       "      <td>0.003312</td>\n",
       "      <td>0.039235</td>\n",
       "      <td>0.000000</td>\n",
       "      <td>0.000000</td>\n",
       "      <td>0.002367</td>\n",
       "      <td>0.000000</td>\n",
       "      <td>0.017326</td>\n",
       "      <td>0.007602</td>\n",
       "      <td>0.012862</td>\n",
       "    </tr>\n",
       "    <tr>\n",
       "      <th>component_9</th>\n",
       "      <td>0.008444</td>\n",
       "      <td>0.002038</td>\n",
       "      <td>0.012478</td>\n",
       "      <td>0.002812</td>\n",
       "      <td>0.011161</td>\n",
       "      <td>0.006429</td>\n",
       "      <td>0.000000</td>\n",
       "      <td>0.003459</td>\n",
       "      <td>0.002661</td>\n",
       "      <td>0.000000</td>\n",
       "      <td>...</td>\n",
       "      <td>0.000000</td>\n",
       "      <td>0.000000</td>\n",
       "      <td>0.072004</td>\n",
       "      <td>0.001250</td>\n",
       "      <td>0.000000</td>\n",
       "      <td>0.001154</td>\n",
       "      <td>0.008623</td>\n",
       "      <td>0.000000</td>\n",
       "      <td>0.000000</td>\n",
       "      <td>0.000000</td>\n",
       "    </tr>\n",
       "    <tr>\n",
       "      <th>component_10</th>\n",
       "      <td>0.000000</td>\n",
       "      <td>0.000000</td>\n",
       "      <td>0.009377</td>\n",
       "      <td>0.000000</td>\n",
       "      <td>0.000000</td>\n",
       "      <td>0.001769</td>\n",
       "      <td>0.000000</td>\n",
       "      <td>0.007262</td>\n",
       "      <td>0.001050</td>\n",
       "      <td>0.004259</td>\n",
       "      <td>...</td>\n",
       "      <td>0.000000</td>\n",
       "      <td>0.000000</td>\n",
       "      <td>0.006467</td>\n",
       "      <td>0.000000</td>\n",
       "      <td>0.031633</td>\n",
       "      <td>0.000000</td>\n",
       "      <td>0.000000</td>\n",
       "      <td>0.000000</td>\n",
       "      <td>0.009042</td>\n",
       "      <td>0.003492</td>\n",
       "    </tr>\n",
       "  </tbody>\n",
       "</table>\n",
       "<p>10 rows × 4021 columns</p>\n",
       "</div>"
      ],
      "text/plain": [
       "               abandon   ability      able    abroad  abruptly   absence  \\\n",
       "component_1   0.017295  0.011786  0.047757  0.001536  0.005711  0.018236   \n",
       "component_2   0.000000  0.001130  0.018885  0.000000  0.000000  0.022182   \n",
       "component_3   0.000000  0.023972  0.033550  0.001939  0.000000  0.009851   \n",
       "component_4   0.007267  0.017449  0.046691  0.009476  0.009556  0.000000   \n",
       "component_5   0.002087  0.000927  0.035403  0.004033  0.002868  0.028256   \n",
       "component_6   0.015018  0.004466  0.000000  0.032158  0.001350  0.000000   \n",
       "component_7   0.027608  0.024760  0.051270  0.000050  0.005573  0.007808   \n",
       "component_8   0.013986  0.011607  0.020234  0.011821  0.000000  0.008233   \n",
       "component_9   0.008444  0.002038  0.012478  0.002812  0.011161  0.006429   \n",
       "component_10  0.000000  0.000000  0.009377  0.000000  0.000000  0.001769   \n",
       "\n",
       "                absent  absolutely    absorb    absurd  ...  york city  \\\n",
       "component_1   0.005629  0.005763    0.012779  0.009703  ...  0.000000    \n",
       "component_2   0.001300  0.001976    0.000042  0.003306  ...  0.000000    \n",
       "component_3   0.000950  0.013009    0.000000  0.000397  ...  0.000000    \n",
       "component_4   0.000973  0.011558    0.000000  0.005352  ...  0.000000    \n",
       "component_5   0.003050  0.000000    0.000000  0.000000  ...  0.000000    \n",
       "component_6   0.012155  0.000000    0.000000  0.002641  ...  0.294017    \n",
       "component_7   0.009554  0.005532    0.041086  0.000955  ...  0.000000    \n",
       "component_8   0.014399  0.009514    0.004277  0.006863  ...  0.000000    \n",
       "component_9   0.000000  0.003459    0.002661  0.000000  ...  0.000000    \n",
       "component_10  0.000000  0.007262    0.001050  0.004259  ...  0.000000    \n",
       "\n",
       "                yorker     young  young brother  young child  young girl  \\\n",
       "component_1   0.000293  0.054875  0.000000       0.000000     0.006491     \n",
       "component_2   0.000000  0.045355  0.009832       0.004914     0.001736     \n",
       "component_3   0.002573  0.064294  0.003237       0.000501     0.000000     \n",
       "component_4   0.005444  0.053937  0.000000       0.005476     0.007817     \n",
       "component_5   0.003798  0.053238  0.007041       0.000000     0.006993     \n",
       "component_6   0.018857  0.019323  0.004329       0.000000     0.001275     \n",
       "component_7   0.002330  0.111866  0.007759       0.030796     0.002932     \n",
       "component_8   0.003312  0.039235  0.000000       0.000000     0.002367     \n",
       "component_9   0.000000  0.072004  0.001250       0.000000     0.001154     \n",
       "component_10  0.000000  0.006467  0.000000       0.031633     0.000000     \n",
       "\n",
       "              young sister     youth      zone      zoom  \n",
       "component_1   0.004852      0.011312  0.007864  0.011752  \n",
       "component_2   0.019540      0.000000  0.000000  0.000000  \n",
       "component_3   0.003200      0.000000  0.001775  0.000000  \n",
       "component_4   0.007179      0.002034  0.013275  0.002316  \n",
       "component_5   0.011149      0.000000  0.000000  0.037939  \n",
       "component_6   0.000000      0.026800  0.005016  0.000000  \n",
       "component_7   0.000000      0.015881  0.000000  0.001545  \n",
       "component_8   0.000000      0.017326  0.007602  0.012862  \n",
       "component_9   0.008623      0.000000  0.000000  0.000000  \n",
       "component_10  0.000000      0.000000  0.009042  0.003492  \n",
       "\n",
       "[10 rows x 4021 columns]"
      ]
     },
     "execution_count": 836,
     "metadata": {},
     "output_type": "execute_result"
    }
   ],
   "source": [
    "topic_word = pd.DataFrame(topic_modeler.components_,\n",
    "             index = [\"component_1\",\"component_2\",\"component_3\",\"component_4\",\"component_5\",\"component_6\",\n",
    "                     \"component_7\",\"component_8\", \"component_9\", \"component_10\"],\n",
    "             columns = vectorizer.get_feature_names())\n",
    "topic_word"
   ]
  },
  {
   "cell_type": "markdown",
   "metadata": {},
   "source": [
    "# Prepare doc-topic matrix for scattertext of NMF Model 9"
   ]
  },
  {
   "cell_type": "markdown",
   "metadata": {},
   "source": [
    "Join the NMF model doc_topic matrix (aka H) with the original dataframe of Modern Love essays and stories "
   ]
  },
  {
   "cell_type": "code",
   "execution_count": 753,
   "metadata": {},
   "outputs": [],
   "source": [
    "# reset option back to previous state so it's easier to view multiple rows of the dataframe at a time\n",
    "pd.reset_option(\"use_inf_as_na\")"
   ]
  },
  {
   "cell_type": "code",
   "execution_count": 837,
   "metadata": {},
   "outputs": [],
   "source": [
    "nmf_doc_topic_df = pd.DataFrame(nmf_doc_topic.round(5)) # n_docs x k_topics\n",
    "modern_love_doc_topic_df = modern_love_df_rev_2.join(nmf_doc_topic_df)\n",
    "modern_love_doc_topic_df = modern_love_doc_topic_df.rename(columns={0:'topic_1',1:'topic_2',\n",
    "                                                                   2:'topic_3',3:'topic_4',\n",
    "                                                                   4:'topic_5',5:'topic_6',\n",
    "                                                                   6:'topic_7',7:'topic_8',\n",
    "                                                                   8:'topic_9',9:'topic_10'})"
   ]
  },
  {
   "cell_type": "code",
   "execution_count": 838,
   "metadata": {},
   "outputs": [],
   "source": [
    "# Add a new column that finds the topic with the maximum coefficient per doc\n",
    "\n",
    "modern_love_doc_topic_df['topics'] = modern_love_doc_topic_df.iloc[:,-10:].idxmax(axis=1)"
   ]
  },
  {
   "cell_type": "code",
   "execution_count": 839,
   "metadata": {},
   "outputs": [],
   "source": [
    "# Get dummies from the new topics column\n",
    "topic_dummies = pd.get_dummies(modern_love_doc_topic_df['topics'])"
   ]
  },
  {
   "cell_type": "code",
   "execution_count": 840,
   "metadata": {},
   "outputs": [
    {
     "data": {
      "text/html": [
       "<div>\n",
       "<style scoped>\n",
       "    .dataframe tbody tr th:only-of-type {\n",
       "        vertical-align: middle;\n",
       "    }\n",
       "\n",
       "    .dataframe tbody tr th {\n",
       "        vertical-align: top;\n",
       "    }\n",
       "\n",
       "    .dataframe thead th {\n",
       "        text-align: right;\n",
       "    }\n",
       "</style>\n",
       "<table border=\"1\" class=\"dataframe\">\n",
       "  <thead>\n",
       "    <tr style=\"text-align: right;\">\n",
       "      <th></th>\n",
       "      <th>topic_1</th>\n",
       "      <th>topic_10</th>\n",
       "      <th>topic_2</th>\n",
       "      <th>topic_3</th>\n",
       "      <th>topic_4</th>\n",
       "      <th>topic_5</th>\n",
       "      <th>topic_6</th>\n",
       "      <th>topic_7</th>\n",
       "      <th>topic_8</th>\n",
       "      <th>topic_9</th>\n",
       "    </tr>\n",
       "  </thead>\n",
       "  <tbody>\n",
       "    <tr>\n",
       "      <th>0</th>\n",
       "      <td>0</td>\n",
       "      <td>0</td>\n",
       "      <td>0</td>\n",
       "      <td>0</td>\n",
       "      <td>0</td>\n",
       "      <td>0</td>\n",
       "      <td>0</td>\n",
       "      <td>1</td>\n",
       "      <td>0</td>\n",
       "      <td>0</td>\n",
       "    </tr>\n",
       "    <tr>\n",
       "      <th>2</th>\n",
       "      <td>0</td>\n",
       "      <td>0</td>\n",
       "      <td>0</td>\n",
       "      <td>0</td>\n",
       "      <td>0</td>\n",
       "      <td>0</td>\n",
       "      <td>0</td>\n",
       "      <td>1</td>\n",
       "      <td>0</td>\n",
       "      <td>0</td>\n",
       "    </tr>\n",
       "    <tr>\n",
       "      <th>3</th>\n",
       "      <td>0</td>\n",
       "      <td>0</td>\n",
       "      <td>0</td>\n",
       "      <td>0</td>\n",
       "      <td>1</td>\n",
       "      <td>0</td>\n",
       "      <td>0</td>\n",
       "      <td>0</td>\n",
       "      <td>0</td>\n",
       "      <td>0</td>\n",
       "    </tr>\n",
       "    <tr>\n",
       "      <th>4</th>\n",
       "      <td>0</td>\n",
       "      <td>0</td>\n",
       "      <td>0</td>\n",
       "      <td>0</td>\n",
       "      <td>1</td>\n",
       "      <td>0</td>\n",
       "      <td>0</td>\n",
       "      <td>0</td>\n",
       "      <td>0</td>\n",
       "      <td>0</td>\n",
       "    </tr>\n",
       "    <tr>\n",
       "      <th>5</th>\n",
       "      <td>0</td>\n",
       "      <td>0</td>\n",
       "      <td>1</td>\n",
       "      <td>0</td>\n",
       "      <td>0</td>\n",
       "      <td>0</td>\n",
       "      <td>0</td>\n",
       "      <td>0</td>\n",
       "      <td>0</td>\n",
       "      <td>0</td>\n",
       "    </tr>\n",
       "  </tbody>\n",
       "</table>\n",
       "</div>"
      ],
      "text/plain": [
       "   topic_1  topic_10  topic_2  topic_3  topic_4  topic_5  topic_6  topic_7  \\\n",
       "0  0        0         0        0        0        0        0        1         \n",
       "2  0        0         0        0        0        0        0        1         \n",
       "3  0        0         0        0        1        0        0        0         \n",
       "4  0        0         0        0        1        0        0        0         \n",
       "5  0        0         1        0        0        0        0        0         \n",
       "\n",
       "   topic_8  topic_9  \n",
       "0  0        0        \n",
       "2  0        0        \n",
       "3  0        0        \n",
       "4  0        0        \n",
       "5  0        0        "
      ]
     },
     "execution_count": 840,
     "metadata": {},
     "output_type": "execute_result"
    }
   ],
   "source": [
    "topic_dummies.head()"
   ]
  },
  {
   "cell_type": "code",
   "execution_count": 841,
   "metadata": {},
   "outputs": [],
   "source": [
    "# replace 0s and 1s with text\n",
    "\n",
    "topic_dummies['topic_1'] = topic_dummies['topic_1'].map(lambda x: 'topic 1' if x == 1 else 'not topic 1')\n",
    "topic_dummies['topic_2'] = topic_dummies['topic_2'].map(lambda x: 'topic 2' if x == 1 else 'not topic 2')\n",
    "topic_dummies['topic_3'] = topic_dummies['topic_3'].map(lambda x: 'topic 3' if x == 1 else 'not topic 3')\n",
    "topic_dummies['topic_4'] = topic_dummies['topic_4'].map(lambda x: 'topic 4' if x == 1 else 'not topic 4')\n",
    "topic_dummies['topic_5'] = topic_dummies['topic_5'].map(lambda x: 'topic 5' if x == 1 else 'not topic 5')\n",
    "topic_dummies['topic_6'] = topic_dummies['topic_6'].map(lambda x: 'topic 6' if x == 1 else 'not topic 6')\n",
    "topic_dummies['topic_7'] = topic_dummies['topic_7'].map(lambda x: 'topic 7' if x == 1 else 'not topic 7')\n",
    "topic_dummies['topic_8'] = topic_dummies['topic_8'].map(lambda x: 'topic 8' if x == 1 else 'not topic 8')\n",
    "topic_dummies['topic_9'] = topic_dummies['topic_9'].map(lambda x: 'topic 9' if x == 1 else 'not topic 9')\n",
    "topic_dummies['topic_10'] = topic_dummies['topic_10'].map(lambda x: 'topic 10' if x == 1 else 'not topic 10')"
   ]
  },
  {
   "cell_type": "code",
   "execution_count": 842,
   "metadata": {},
   "outputs": [],
   "source": [
    "# Create smaller dataframe for scattertext\n",
    "scattertext_df = modern_love_doc_topic_df[['url','essay_rev_clean_3']].join(topic_dummies)"
   ]
  },
  {
   "cell_type": "markdown",
   "metadata": {},
   "source": [
    "# Scattertext of NMF Model 9 topics"
   ]
  },
  {
   "cell_type": "code",
   "execution_count": 198,
   "metadata": {},
   "outputs": [
    {
     "name": "stdout",
     "output_type": "stream",
     "text": [
      "Collecting scattertext\n",
      "  Downloading scattertext-0.1.5-py3-none-any.whl (7.3 MB)\n",
      "\u001b[K     |████████████████████████████████| 7.3 MB 6.4 MB/s eta 0:00:01\n",
      "\u001b[?25hRequirement already satisfied: pandas in /opt/anaconda3/lib/python3.8/site-packages (from scattertext) (1.0.5)\n",
      "Requirement already satisfied: scikit-learn in /opt/anaconda3/lib/python3.8/site-packages (from scattertext) (0.23.1)\n",
      "Requirement already satisfied: six in /opt/anaconda3/lib/python3.8/site-packages (from scattertext) (1.15.0)\n",
      "Requirement already satisfied: numpy in /opt/anaconda3/lib/python3.8/site-packages (from scattertext) (1.18.5)\n",
      "Requirement already satisfied: statsmodels in /opt/anaconda3/lib/python3.8/site-packages (from scattertext) (0.11.1)\n",
      "Requirement already satisfied: mock in /opt/anaconda3/lib/python3.8/site-packages (from scattertext) (4.0.2)\n",
      "Requirement already satisfied: scipy in /opt/anaconda3/lib/python3.8/site-packages (from scattertext) (1.5.0)\n",
      "Requirement already satisfied: gensim>=4.0.0 in /opt/anaconda3/lib/python3.8/site-packages (from scattertext) (4.1.2)\n",
      "Collecting flashtext\n",
      "  Downloading flashtext-2.7.tar.gz (14 kB)\n",
      "Requirement already satisfied: python-dateutil>=2.6.1 in /opt/anaconda3/lib/python3.8/site-packages (from pandas->scattertext) (2.8.1)\n",
      "Requirement already satisfied: pytz>=2017.2 in /opt/anaconda3/lib/python3.8/site-packages (from pandas->scattertext) (2020.1)\n",
      "Requirement already satisfied: threadpoolctl>=2.0.0 in /opt/anaconda3/lib/python3.8/site-packages (from scikit-learn->scattertext) (2.1.0)\n",
      "Requirement already satisfied: joblib>=0.11 in /opt/anaconda3/lib/python3.8/site-packages (from scikit-learn->scattertext) (0.16.0)\n",
      "Requirement already satisfied: patsy>=0.5 in /opt/anaconda3/lib/python3.8/site-packages (from statsmodels->scattertext) (0.5.1)\n",
      "Requirement already satisfied: smart-open>=1.8.1 in /opt/anaconda3/lib/python3.8/site-packages (from gensim>=4.0.0->scattertext) (5.2.1)\n",
      "Building wheels for collected packages: flashtext\n",
      "  Building wheel for flashtext (setup.py) ... \u001b[?25ldone\n",
      "\u001b[?25h  Created wheel for flashtext: filename=flashtext-2.7-py2.py3-none-any.whl size=9299 sha256=7673f3b2edf38340e227a201339412b0ca54f680e763c83b9ea11765faf60482\n",
      "  Stored in directory: /Users/chloebergsma-safar/Library/Caches/pip/wheels/8d/62/8b/71813348245ae1bcbae179193bbc72db819e8057e89298a6ac\n",
      "Successfully built flashtext\n",
      "Installing collected packages: flashtext, scattertext\n",
      "Successfully installed flashtext-2.7 scattertext-0.1.5\n"
     ]
    }
   ],
   "source": [
    "!pip install scattertext"
   ]
  },
  {
   "cell_type": "code",
   "execution_count": 60,
   "metadata": {},
   "outputs": [],
   "source": [
    "import scattertext as st"
   ]
  },
  {
   "cell_type": "code",
   "execution_count": 761,
   "metadata": {},
   "outputs": [],
   "source": [
    "# scattertext for topic 4 (dating)\n",
    "\n",
    "st_corpus = st.CorpusFromPandas(scattertext_df,\n",
    "                             category_col='topic_4',\n",
    "                             text_col='essay_rev_clean_3',\n",
    "                             nlp=st.whitespace_nlp_with_sentences\n",
    "                            ).build()"
   ]
  },
  {
   "cell_type": "code",
   "execution_count": 762,
   "metadata": {},
   "outputs": [],
   "source": [
    "html = st.produce_scattertext_explorer(\n",
    "        st_corpus,\n",
    "        category='topic 4',\n",
    "        category_name='Dating',\n",
    "        not_category_name='Not Dating',\n",
    "        minimum_term_frequency=10,\n",
    "        pmi_threshold_coefficient=5,\n",
    "        width_in_pixels=1000,\n",
    "        metadata=scattertext_df['url'],\n",
    "        )"
   ]
  },
  {
   "cell_type": "code",
   "execution_count": 763,
   "metadata": {},
   "outputs": [],
   "source": [
    "open('demo_dating.html', 'wb').write(html.encode('utf-8'));"
   ]
  },
  {
   "cell_type": "code",
   "execution_count": 764,
   "metadata": {},
   "outputs": [],
   "source": [
    "# scattertext for topic 7 (babies/pregnancy/birth)\n",
    "\n",
    "st_corpus_2 = st.CorpusFromPandas(scattertext_df,\n",
    "                             category_col='topic_7',\n",
    "                             text_col='essay_rev_clean_3',\n",
    "                             nlp=st.whitespace_nlp_with_sentences\n",
    "                            ).build()"
   ]
  },
  {
   "cell_type": "code",
   "execution_count": 765,
   "metadata": {},
   "outputs": [],
   "source": [
    "html_2 = st.produce_scattertext_explorer(\n",
    "        st_corpus_2,\n",
    "        category='topic 7',\n",
    "        category_name='Pregnancy and Birth',\n",
    "        not_category_name='Not Pregnancy and Birth',\n",
    "        minimum_term_frequency=10,\n",
    "        pmi_threshold_coefficient=5,\n",
    "        width_in_pixels=1000,\n",
    "        metadata=scattertext_df['url'],\n",
    "        )"
   ]
  },
  {
   "cell_type": "code",
   "execution_count": 766,
   "metadata": {},
   "outputs": [],
   "source": [
    "open('demo_pregnancy.html', 'wb').write(html_2.encode('utf-8'));"
   ]
  },
  {
   "cell_type": "markdown",
   "metadata": {},
   "source": [
    "# Topic distribution for documents over time from NMF Model 9"
   ]
  },
  {
   "cell_type": "code",
   "execution_count": 843,
   "metadata": {},
   "outputs": [],
   "source": [
    "# convert pub_date to datetime and then keep only the date\n",
    "\n",
    "modern_love_doc_topic_df['pub_date_year'] = pd.DatetimeIndex(modern_love_doc_topic_df['pub_date']).year\n",
    "topics_over_time = (modern_love_doc_topic_df.groupby(['pub_date_year','topics']).size().reset_index().rename(columns={0: 'num_essays_short_stories'}))"
   ]
  },
  {
   "cell_type": "code",
   "execution_count": 844,
   "metadata": {},
   "outputs": [],
   "source": [
    "# convert pub_date to datetime and then keep only the date\n",
    "\n",
    "modern_love_doc_topic_df['pub_date_year'] = pd.DatetimeIndex(modern_love_doc_topic_df['pub_date']).year\n",
    "topics_over_time = (modern_love_doc_topic_df.groupby(['pub_date_year','topics']).size().reset_index().rename(columns={0: 'num_essays_short_stories'}))\n",
    "\n",
    "topics_over_time = (modern_love_doc_topic_df.groupby(['pub_date_year','topics']).size().reset_index().rename(columns={0: 'num_essays_short_stories'}))\n",
    "topics_over_time['total_essays_short_stories'] = topics_over_time.groupby(['pub_date_year'])['num_essays_short_stories'].transform(lambda x: x.sum())\n",
    "topics_over_time['freq_essay_short_story_topic'] = (topics_over_time['num_essays_short_stories'] / \\\n",
    "                                                   topics_over_time['total_essays_short_stories']).round(2)\n",
    "\n",
    "def revise_topics(x):\n",
    "    if x == 'topic_1':\n",
    "        return 'misc'\n",
    "    elif x == 'topic_2':\n",
    "        return 'immediate family/family tragedy'\n",
    "    elif x == 'topic_3':\n",
    "        return 'marriage and divorce'\n",
    "    elif x == 'topic_4':\n",
    "        return 'dating'\n",
    "    elif x == 'topic_5':\n",
    "        return 'family'\n",
    "    elif x == 'topic_6':\n",
    "        return 'new york city'\n",
    "    elif x == 'topic_7':\n",
    "        return 'pregnancy and birth'\n",
    "    elif x == 'topic_8':\n",
    "        return 'sex and desire'\n",
    "    elif x == 'topic_9':\n",
    "        return 'grandparents and grandchildren'\n",
    "    else:\n",
    "        return 'school'\n",
    "    \n",
    "topics_over_time['topics'] = topics_over_time['topics'].map(revise_topics)"
   ]
  },
  {
   "cell_type": "code",
   "execution_count": 845,
   "metadata": {},
   "outputs": [
    {
     "data": {
      "text/html": [
       "<div>\n",
       "<style scoped>\n",
       "    .dataframe tbody tr th:only-of-type {\n",
       "        vertical-align: middle;\n",
       "    }\n",
       "\n",
       "    .dataframe tbody tr th {\n",
       "        vertical-align: top;\n",
       "    }\n",
       "\n",
       "    .dataframe thead th {\n",
       "        text-align: right;\n",
       "    }\n",
       "</style>\n",
       "<table border=\"1\" class=\"dataframe\">\n",
       "  <thead>\n",
       "    <tr style=\"text-align: right;\">\n",
       "      <th></th>\n",
       "      <th>pub_date_year</th>\n",
       "      <th>topics</th>\n",
       "      <th>num_essays_short_stories</th>\n",
       "      <th>total_essays_short_stories</th>\n",
       "      <th>freq_essay_short_story_topic</th>\n",
       "    </tr>\n",
       "  </thead>\n",
       "  <tbody>\n",
       "    <tr>\n",
       "      <th>0</th>\n",
       "      <td>2004</td>\n",
       "      <td>family</td>\n",
       "      <td>1</td>\n",
       "      <td>1</td>\n",
       "      <td>1.0</td>\n",
       "    </tr>\n",
       "    <tr>\n",
       "      <th>1</th>\n",
       "      <td>2005</td>\n",
       "      <td>marriage and divorce</td>\n",
       "      <td>2</td>\n",
       "      <td>10</td>\n",
       "      <td>0.2</td>\n",
       "    </tr>\n",
       "    <tr>\n",
       "      <th>2</th>\n",
       "      <td>2005</td>\n",
       "      <td>dating</td>\n",
       "      <td>2</td>\n",
       "      <td>10</td>\n",
       "      <td>0.2</td>\n",
       "    </tr>\n",
       "    <tr>\n",
       "      <th>3</th>\n",
       "      <td>2005</td>\n",
       "      <td>family</td>\n",
       "      <td>3</td>\n",
       "      <td>10</td>\n",
       "      <td>0.3</td>\n",
       "    </tr>\n",
       "    <tr>\n",
       "      <th>4</th>\n",
       "      <td>2005</td>\n",
       "      <td>new york city</td>\n",
       "      <td>1</td>\n",
       "      <td>10</td>\n",
       "      <td>0.1</td>\n",
       "    </tr>\n",
       "  </tbody>\n",
       "</table>\n",
       "</div>"
      ],
      "text/plain": [
       "   pub_date_year                topics  num_essays_short_stories  \\\n",
       "0  2004           family                1                          \n",
       "1  2005           marriage and divorce  2                          \n",
       "2  2005           dating                2                          \n",
       "3  2005           family                3                          \n",
       "4  2005           new york city         1                          \n",
       "\n",
       "   total_essays_short_stories  freq_essay_short_story_topic  \n",
       "0  1                           1.0                           \n",
       "1  10                          0.2                           \n",
       "2  10                          0.2                           \n",
       "3  10                          0.3                           \n",
       "4  10                          0.1                           "
      ]
     },
     "execution_count": 845,
     "metadata": {},
     "output_type": "execute_result"
    }
   ],
   "source": [
    "topics_over_time.head()"
   ]
  },
  {
   "cell_type": "code",
   "execution_count": 846,
   "metadata": {},
   "outputs": [
    {
     "name": "stdout",
     "output_type": "stream",
     "text": [
      "<class 'pandas.core.frame.DataFrame'>\n",
      "RangeIndex: 159 entries, 0 to 158\n",
      "Data columns (total 5 columns):\n",
      " #   Column                        Non-Null Count  Dtype  \n",
      "---  ------                        --------------  -----  \n",
      " 0   pub_date_year                 159 non-null    int64  \n",
      " 1   topics                        159 non-null    object \n",
      " 2   num_essays_short_stories      159 non-null    int64  \n",
      " 3   total_essays_short_stories    159 non-null    int64  \n",
      " 4   freq_essay_short_story_topic  159 non-null    float64\n",
      "dtypes: float64(1), int64(3), object(1)\n",
      "memory usage: 6.3+ KB\n"
     ]
    }
   ],
   "source": [
    "topics_over_time.info()"
   ]
  },
  {
   "cell_type": "code",
   "execution_count": 847,
   "metadata": {},
   "outputs": [],
   "source": [
    "topics_over_time['pub_date_year'] = topics_over_time['pub_date_year'].astype(str)"
   ]
  },
  {
   "cell_type": "code",
   "execution_count": 848,
   "metadata": {},
   "outputs": [],
   "source": [
    "topics_over_time = topics_over_time.loc[~(topics_over_time.pub_date_year == '2022')]"
   ]
  },
  {
   "cell_type": "code",
   "execution_count": 849,
   "metadata": {},
   "outputs": [
    {
     "data": {
      "text/plain": [
       "new york city                      17\n",
       "marriage and divorce               17\n",
       "dating                             17\n",
       "pregnancy and birth                16\n",
       "misc                               16\n",
       "sex and desire                     16\n",
       "family                             15\n",
       "immediate family/family tragedy    14\n",
       "school                             11\n",
       "grandparents and grandchildren     10\n",
       "Name: topics, dtype: int64"
      ]
     },
     "execution_count": 849,
     "metadata": {},
     "output_type": "execute_result"
    }
   ],
   "source": [
    "topics_over_time.topics.value_counts()"
   ]
  },
  {
   "cell_type": "code",
   "execution_count": 850,
   "metadata": {},
   "outputs": [
    {
     "data": {
      "text/plain": [
       "<matplotlib.axes._subplots.AxesSubplot at 0x7fe1ce2d6c10>"
      ]
     },
     "execution_count": 850,
     "metadata": {},
     "output_type": "execute_result"
    },
    {
     "data": {
      "image/png": "[encoded data removed]",
      "text/plain": [
       "<Figure size 720x432 with 1 Axes>"
      ]
     },
     "metadata": {},
     "output_type": "display_data"
    }
   ],
   "source": [
    "%matplotlib inline \n",
    "sns.set(font_scale=1)\n",
    "plt.figure(figsize=(10,6))\n",
    "sns.lineplot(data=topics_over_time, x='pub_date_year', y='num_essays_short_stories',hue='topics')"
   ]
  },
  {
   "cell_type": "code",
   "execution_count": 851,
   "metadata": {},
   "outputs": [
    {
     "data": {
      "text/plain": [
       "<matplotlib.axes._subplots.AxesSubplot at 0x7fe3bf777940>"
      ]
     },
     "execution_count": 851,
     "metadata": {},
     "output_type": "execute_result"
    },
    {
     "data": {
      "image/png": "[encoded data removed]",
      "text/plain": [
       "<Figure size 864x576 with 1 Axes>"
      ]
     },
     "metadata": {},
     "output_type": "display_data"
    }
   ],
   "source": [
    "%matplotlib inline \n",
    "sns.set(font_scale=1)\n",
    "plt.figure(figsize=(12,8))\n",
    "sns.lineplot(data=topics_over_time, x='pub_date_year', y='freq_essay_short_story_topic',hue='topics')"
   ]
  },
  {
   "cell_type": "markdown",
   "metadata": {},
   "source": [
    "# Plot top words associated with each topic from NMF Model 9"
   ]
  },
  {
   "cell_type": "code",
   "execution_count": 860,
   "metadata": {},
   "outputs": [],
   "source": [
    "corpus = modern_love_df_rev_2['essay_rev_clean_3']\n",
    "tfidf_vectorizer = TfidfVectorizer(ngram_range=(1,3), max_df=0.6, min_df=.01)\n",
    "nmf_doc_word = tfidf_vectorizer.fit_transform(corpus)\n",
    "nmf_topic_modeler = NMF(10, random_state=42, max_iter=1000)\n",
    "nmf_doc_topic = nmf_topic_modeler.fit_transform(nmf_doc_word)"
   ]
  },
  {
   "cell_type": "code",
   "execution_count": 908,
   "metadata": {},
   "outputs": [],
   "source": [
    "# save the top words associated with each topic and their corresponding coefficients\n",
    "\n",
    "# top words\n",
    "all_top_words = []\n",
    "\n",
    "vocab = tfidf_vectorizer.get_feature_names()\n",
    "for idx, topic in enumerate(nmf_topic_modeler.components_):\n",
    "    all_top_words.append([vocab[i] for i in topic.argsort()[:-10-1:-1]])\n",
    "    \n",
    "# top words' coefficients\n",
    "all_top_words_coeffs = []\n",
    "for idx, topic in enumerate(nmf_topic_modeler.components_):\n",
    "    all_top_words_coeffs.append([topic[i] for i in topic.argsort()[:-10-1:-1]])\n",
    "    \n",
    "all_top_words = [item for sublist in all_top_words for item in sublist]\n",
    "all_top_words_coeffs = [item for sublist in all_top_words_coeffs for item in sublist]\n",
    "\n",
    "all_top_words_coeffs_zipped = list(zip(all_top_words,all_top_words_coeffs))\n",
    "all_top_words_coeffs_zipped  = [all_top_words_coeffs_zipped[i:i+10] for i in range(0, len(all_top_words_coeffs_zipped ), 10)]"
   ]
  },
  {
   "cell_type": "code",
   "execution_count": 988,
   "metadata": {},
   "outputs": [],
   "source": [
    "# helper function to generate bar charts of topics and their words with the greatest coefficients\n",
    "\n",
    "def create_topic_word_chart_nmf(i):\n",
    "    \n",
    "    topic_i = []\n",
    "    \n",
    "    for topic in all_top_words_coeffs_zipped[i]:\n",
    "        topic_i.append(topic)\n",
    "        \n",
    "    words, coeff = zip(*topic_i)\n",
    "    s = pd.Series(coeff, words)\n",
    "    df = pd.DataFrame(s).reset_index().rename(columns={'index':'topic word',\n",
    "                                                        0:'coefficients'})\n",
    "    df = df.sort_values('coefficients',ascending=False)\n",
    "    \n",
    "    plt.figure(figsize=(5,6))\n",
    "    sns.set(font_scale=1.5)\n",
    "    sns.set_style(style='white')\n",
    "    plt.xlim(0,1.5)\n",
    "    sns.barplot(x='coefficients',y='topic word', data=df,color='pink')\n",
    "    sns.despine(top=True, right=True, left=False, bottom=False)"
   ]
  },
  {
   "cell_type": "code",
   "execution_count": 989,
   "metadata": {},
   "outputs": [
    {
     "data": {
      "image/png": "[encoded data removed]",
      "text/plain": [
       "<Figure size 360x432 with 1 Axes>"
      ]
     },
     "metadata": {
      "needs_background": "light"
     },
     "output_type": "display_data"
    }
   ],
   "source": [
    "# Plot for grandparents\n",
    "\n",
    "%matplotlib inline\n",
    "grand_plot = create_topic_word_chart_nmf(i = 8)\n",
    "plt.savefig('grand_plot.png',bbox_inches='tight')"
   ]
  },
  {
   "cell_type": "code",
   "execution_count": 990,
   "metadata": {},
   "outputs": [
    {
     "data": {
      "image/png": "[encoded data removed]",
      "text/plain": [
       "<Figure size 360x432 with 1 Axes>"
      ]
     },
     "metadata": {
      "needs_background": "light"
     },
     "output_type": "display_data"
    }
   ],
   "source": [
    "# Plot for nyc\n",
    "\n",
    "%matplotlib inline\n",
    "nyc_plot = create_topic_word_chart_nmf(i = 5)\n",
    "plt.savefig('nyc_plot.png',bbox_inches='tight')"
   ]
  },
  {
   "cell_type": "code",
   "execution_count": 1009,
   "metadata": {},
   "outputs": [
    {
     "data": {
      "image/png": "[encoded data removed]",
      "text/plain": [
       "<Figure size 360x432 with 1 Axes>"
      ]
     },
     "metadata": {
      "needs_background": "light"
     },
     "output_type": "display_data"
    }
   ],
   "source": [
    "# Plot for immediate family\n",
    "\n",
    "%matplotlib inline\n",
    "imm_family_plot = create_topic_word_chart_nmf(i = 1)\n",
    "plt.savefig('imm_family_plot.png',bbox_inches='tight')"
   ]
  },
  {
   "cell_type": "code",
   "execution_count": 1011,
   "metadata": {},
   "outputs": [
    {
     "data": {
      "image/png": "[encoded data removed]",
      "text/plain": [
       "<Figure size 360x432 with 1 Axes>"
      ]
     },
     "metadata": {
      "needs_background": "light"
     },
     "output_type": "display_data"
    }
   ],
   "source": [
    "# Plot for family\n",
    "\n",
    "%matplotlib inline\n",
    "family_plot = create_topic_word_chart_nmf(i = 4)\n",
    "plt.savefig('family_plot.png',bbox_inches='tight')"
   ]
  },
  {
   "cell_type": "code",
   "execution_count": 991,
   "metadata": {},
   "outputs": [
    {
     "data": {
      "image/png": "[encoded data removed]",
      "text/plain": [
       "<Figure size 360x432 with 1 Axes>"
      ]
     },
     "metadata": {
      "needs_background": "light"
     },
     "output_type": "display_data"
    }
   ],
   "source": [
    "# Plot for dating\n",
    "\n",
    "%matplotlib inline\n",
    "dating_plot = create_topic_word_chart_nmf(i = 3)\n",
    "plt.savefig('dating_plot.png',bbox_inches='tight')"
   ]
  },
  {
   "cell_type": "code",
   "execution_count": 995,
   "metadata": {},
   "outputs": [
    {
     "data": {
      "image/png": "[encoded data removed]",
      "text/plain": [
       "<Figure size 360x432 with 1 Axes>"
      ]
     },
     "metadata": {
      "needs_background": "light"
     },
     "output_type": "display_data"
    }
   ],
   "source": [
    "# Plot for pregnancy\n",
    "\n",
    "%matplotlib inline\n",
    "pregnancy_plot = create_topic_word_chart_nmf(i = 6)\n",
    "plt.savefig('pregnancy_plot.png',bbox_inches='tight')"
   ]
  },
  {
   "cell_type": "code",
   "execution_count": 1008,
   "metadata": {},
   "outputs": [
    {
     "data": {
      "image/png": "[encoded data removed]",
      "text/plain": [
       "<Figure size 360x432 with 1 Axes>"
      ]
     },
     "metadata": {
      "needs_background": "light"
     },
     "output_type": "display_data"
    }
   ],
   "source": [
    "# Plot for misc\n",
    "\n",
    "%matplotlib inline\n",
    "misc_plot = create_topic_word_chart_nmf(i = 0)\n",
    "plt.savefig('misc_plot.png',bbox_inches='tight')"
   ]
  },
  {
   "cell_type": "markdown",
   "metadata": {},
   "source": [
    "# Predicting the topic of new essays/short stories with NMF Model 9"
   ]
  },
  {
   "cell_type": "code",
   "execution_count": 940,
   "metadata": {},
   "outputs": [],
   "source": [
    "# new docs to assign a topic\n",
    "\n",
    "new_docs = pd.Series(['Durian. It’s love or hate with this fruit. \\\n",
    "            In my family, only Grandma and I were fans. \\\n",
    "            Because of its pungent odor, my family members with milder tastes made a house rule: \\\n",
    "            Durian must be consumed in the parking lot or playground, never indoors. \\\n",
    "            Indignant and banished, I found comfort in Grandma’s solidarity.',\n",
    "            'The day after an ill-fated second date, I called my little brother as I lay in bed, despondent, \\\n",
    "            in my dingy college apartment. “I don’t have time to come home and do laundry today,” I said. \\\n",
    "            “Oh, and I met someone.” My brother, Felix, listened quietly to my inventory of hesitations: \\\n",
    "            She liked me more than I liked her. She wanted commitment. She lived around the block, and I really \\\n",
    "            didn’t want to hurt her. A pause. My brother said, “You have time for one load. I’ll come get you.”\\\n",
    "            His pragmatic, gentle love is just right. — Ione Madsen Hardy',\n",
    "           'Being in an abusive relationship is like acting in a play with an erratic director. \\\n",
    "           The script they write unfailingly serves them, affirms them and diminishes you. If you break \\\n",
    "           character (say, hang out with friends or move a houseplant without asking), they will make you pay. \\\n",
    "           So, every day, you get up and improvise to the best of your ability. Day after day of improv, \\\n",
    "           all in service of upholding their narrative and avoiding their wrath. Until, perhaps, you decide to \\\n",
    "           find a partner who will write a story with you, not for you. — Drew Lindgren',\n",
    "            'Hugh wept talking about his late wife, his best friend. After that first grief support session, I \\\n",
    "            said to my co-facilitator, “I don’t think Hugh will be back.” But he came, all eight weeks. \\\n",
    "            He called it a class, though we kept reminding him it wasn’t. I ran into him months later. \\\n",
    "            I wasn’t looking for romance, but I told him about my swing dance lessons. He asked if he could join; \\\n",
    "            he was such a good dancer. A decade later, politics divide the country. We’re in opposite camps. \\\n",
    "            We can’t watch the news together, but we can dance. — Eileen Vorbach Collins'])"
   ]
  },
  {
   "cell_type": "code",
   "execution_count": 941,
   "metadata": {},
   "outputs": [],
   "source": [
    "# pre-process new_docs the same ways as the original corpus fit to the model\n",
    "\n",
    "new_docs = list(nlp.pipe(new_docs))\n",
    "new_docs_clean = [[token.lemma_.lower() for token in doc if token.is_alpha and \\\n",
    "                          (not token.is_stop and not token.is_punct and not token.like_num and not token.is_digit)] \\\n",
    "                           for doc in new_docs]\n",
    "new_docs_clean = [' '.join(map(str, l)) for l in new_docs_clean]\n",
    "\n",
    "new_docs_2 = list(nlp.pipe(new_docs_clean))\n",
    "new_docs_clean_2 = [[token for token in doc if token.text not in sw_spacy] for doc in new_docs_2]\n",
    "new_docs_clean_2 = [' '.join(map(str, l)) for l in new_docs_clean_2]\n",
    "new_docs_clean_2 = list(nlp.pipe(new_docs_clean_2))\n",
    "\n",
    "new_docs_3 = list(nlp.pipe(new_docs_clean_2))\n",
    "new_docs_clean_3 = [[token.lemma_ for token in doc] for doc in new_docs_3]\n",
    "new_docs_clean_3 = [' '.join(map(str, l)) for l in new_docs_clean_3]"
   ]
  },
  {
   "cell_type": "code",
   "execution_count": 942,
   "metadata": {},
   "outputs": [],
   "source": [
    "# vectorize new_docs_clean_3 on vectorizer fit to original corpus\n",
    "\n",
    "new_doc_word_vectors_nmf = tfidf_vectorizer.transform(new_docs_clean_3)"
   ]
  },
  {
   "cell_type": "code",
   "execution_count": 943,
   "metadata": {},
   "outputs": [],
   "source": [
    "# predict topics for each doc in new_docs_clean_3 on NMF model fit to original vectorized corpus\n",
    "\n",
    "new_doc_topic_nmf = nmf_topic_modeler.transform(new_doc_word_vectors_nmf)"
   ]
  },
  {
   "cell_type": "code",
   "execution_count": 946,
   "metadata": {},
   "outputs": [],
   "source": [
    "# create dataframe from new_doc_topic_nmf matrix and join it with the text documents\n",
    "\n",
    "nmf_new_doc_topic_df = pd.DataFrame(new_doc_topic_nmf, columns=['miscellaneous','immediate_family_tragedy',\n",
    "                                                                'marriage_divorce','dating','family',\n",
    "                                                               'nyc','pregnancy_birth','sex_affection',\n",
    "                                                               'grandparents','school'])\n",
    "\n",
    "nmf_new_doc_topic_df['doc'] = new_docs_clean_3\n",
    "\n",
    "nmf_new_doc_topic_df['topic'] = nmf_new_doc_topic_df.iloc[:,:10].idxmax(axis=1)"
   ]
  },
  {
   "cell_type": "code",
   "execution_count": 947,
   "metadata": {},
   "outputs": [
    {
     "data": {
      "text/html": [
       "<div>\n",
       "<style scoped>\n",
       "    .dataframe tbody tr th:only-of-type {\n",
       "        vertical-align: middle;\n",
       "    }\n",
       "\n",
       "    .dataframe tbody tr th {\n",
       "        vertical-align: top;\n",
       "    }\n",
       "\n",
       "    .dataframe thead th {\n",
       "        text-align: right;\n",
       "    }\n",
       "</style>\n",
       "<table border=\"1\" class=\"dataframe\">\n",
       "  <thead>\n",
       "    <tr style=\"text-align: right;\">\n",
       "      <th></th>\n",
       "      <th>miscellaneous</th>\n",
       "      <th>immediate_family_tragedy</th>\n",
       "      <th>marriage_divorce</th>\n",
       "      <th>dating</th>\n",
       "      <th>family</th>\n",
       "      <th>nyc</th>\n",
       "      <th>pregnancy_birth</th>\n",
       "      <th>sex_affection</th>\n",
       "      <th>grandparents</th>\n",
       "      <th>school</th>\n",
       "      <th>doc</th>\n",
       "      <th>topic</th>\n",
       "    </tr>\n",
       "  </thead>\n",
       "  <tbody>\n",
       "    <tr>\n",
       "      <th>0</th>\n",
       "      <td>0.000000</td>\n",
       "      <td>0.000000</td>\n",
       "      <td>0.003286</td>\n",
       "      <td>0.000000</td>\n",
       "      <td>0.004537</td>\n",
       "      <td>0.000000</td>\n",
       "      <td>0.000000</td>\n",
       "      <td>0.000000</td>\n",
       "      <td>0.253531</td>\n",
       "      <td>0.000000</td>\n",
       "      <td>durian love hate fruit family grandmother fan pungent odor family member milder taste house rule durian consume parking lot playground indoor indignant banish find comfort grandmother solidarity</td>\n",
       "      <td>grandparents</td>\n",
       "    </tr>\n",
       "    <tr>\n",
       "      <th>1</th>\n",
       "      <td>0.007135</td>\n",
       "      <td>0.017381</td>\n",
       "      <td>0.000000</td>\n",
       "      <td>0.034732</td>\n",
       "      <td>0.019275</td>\n",
       "      <td>0.026107</td>\n",
       "      <td>0.003458</td>\n",
       "      <td>0.001584</td>\n",
       "      <td>0.000000</td>\n",
       "      <td>0.008199</td>\n",
       "      <td>ill fate date little brother lie bed despondent dingy college apartment home laundry today oh meet brother felix listen quietly inventory hesitation commitment live block hurt pause brother load pragmatic gentle love right ione madsen hardy</td>\n",
       "      <td>dating</td>\n",
       "    </tr>\n",
       "    <tr>\n",
       "      <th>2</th>\n",
       "      <td>0.000000</td>\n",
       "      <td>0.001426</td>\n",
       "      <td>0.013047</td>\n",
       "      <td>0.073156</td>\n",
       "      <td>0.000000</td>\n",
       "      <td>0.000000</td>\n",
       "      <td>0.000000</td>\n",
       "      <td>0.021017</td>\n",
       "      <td>0.000000</td>\n",
       "      <td>0.000000</td>\n",
       "      <td>abusive relationship act play erratic director script write unfailingly serve affirm diminish break character hang friend houseplant pay improvise good ability improv service uphold narrative avoid wrath decide find partner write story draw lindgren</td>\n",
       "      <td>dating</td>\n",
       "    </tr>\n",
       "    <tr>\n",
       "      <th>3</th>\n",
       "      <td>0.010880</td>\n",
       "      <td>0.000000</td>\n",
       "      <td>0.026126</td>\n",
       "      <td>0.051413</td>\n",
       "      <td>0.009537</td>\n",
       "      <td>0.018485</td>\n",
       "      <td>0.005597</td>\n",
       "      <td>0.000000</td>\n",
       "      <td>0.000487</td>\n",
       "      <td>0.001183</td>\n",
       "      <td>hugh weep talk late wife good friend grief support session co facilitator hugh week class remind run month later look romance swing dance lesson join good dancer decade later politic divide country opposite camp watch news dance eileen vorbach collin</td>\n",
       "      <td>dating</td>\n",
       "    </tr>\n",
       "  </tbody>\n",
       "</table>\n",
       "</div>"
      ],
      "text/plain": [
       "   miscellaneous  immediate_family_tragedy  marriage_divorce    dating  \\\n",
       "0  0.000000       0.000000                  0.003286          0.000000   \n",
       "1  0.007135       0.017381                  0.000000          0.034732   \n",
       "2  0.000000       0.001426                  0.013047          0.073156   \n",
       "3  0.010880       0.000000                  0.026126          0.051413   \n",
       "\n",
       "     family       nyc  pregnancy_birth  sex_affection  grandparents    school  \\\n",
       "0  0.004537  0.000000  0.000000         0.000000       0.253531      0.000000   \n",
       "1  0.019275  0.026107  0.003458         0.001584       0.000000      0.008199   \n",
       "2  0.000000  0.000000  0.000000         0.021017       0.000000      0.000000   \n",
       "3  0.009537  0.018485  0.005597         0.000000       0.000487      0.001183   \n",
       "\n",
       "                                                                                                                                                                                                                                                          doc  \\\n",
       "0  durian love hate fruit family grandmother fan pungent odor family member milder taste house rule durian consume parking lot playground indoor indignant banish find comfort grandmother solidarity                                                           \n",
       "1  ill fate date little brother lie bed despondent dingy college apartment home laundry today oh meet brother felix listen quietly inventory hesitation commitment live block hurt pause brother load pragmatic gentle love right ione madsen hardy             \n",
       "2  abusive relationship act play erratic director script write unfailingly serve affirm diminish break character hang friend houseplant pay improvise good ability improv service uphold narrative avoid wrath decide find partner write story draw lindgren    \n",
       "3  hugh weep talk late wife good friend grief support session co facilitator hugh week class remind run month later look romance swing dance lesson join good dancer decade later politic divide country opposite camp watch news dance eileen vorbach collin   \n",
       "\n",
       "          topic  \n",
       "0  grandparents  \n",
       "1  dating        \n",
       "2  dating        \n",
       "3  dating        "
      ]
     },
     "execution_count": 947,
     "metadata": {},
     "output_type": "execute_result"
    }
   ],
   "source": [
    "nmf_new_doc_topic_df"
   ]
  },
  {
   "cell_type": "markdown",
   "metadata": {},
   "source": [
    "# Topic Modeling with LDA"
   ]
  },
  {
   "cell_type": "code",
   "execution_count": 612,
   "metadata": {},
   "outputs": [],
   "source": [
    "from sklearn.decomposition import LatentDirichletAllocation"
   ]
  },
  {
   "cell_type": "code",
   "execution_count": 1013,
   "metadata": {},
   "outputs": [
    {
     "name": "stdout",
     "output_type": "stream",
     "text": [
      "Topic 0: father, mother, friend, marriage, way, child, life, date, talk, look\n",
      "Topic 1: marriage, husband, friend, mother, look, life, meet, child, long, way\n",
      "Topic 2: mother, father, child, old, family, life, friend, home, dj, parent\n",
      "Topic 3: father, mother, life, look, child, friend, new, marriage, husband, date\n",
      "Topic 4: mother, father, child, life, friend, look, grandmother, find, marriage, parent\n",
      "Topic 5: look, mother, child, life, friend, husband, date, enjoy, marriage, father\n",
      "Topic 6: mother, father, marriage, life, friend, new, look, husband, home, date\n",
      "Topic 7: marriage, father, mother, ring, look, husband, friend, child, leave, life\n",
      "Topic 8: mother, look, date, life, later, new, father, home, marriage, way\n",
      "Topic 9: mother, marriage, life, find, father, meet, home, long, friend, new\n"
     ]
    },
    {
     "data": {
      "text/plain": [
       "array([[0.00272089, 0.00272113, 0.00272072, ..., 0.00272076, 0.0027208 ,\n",
       "        0.00272109],\n",
       "       [0.00281779, 0.00281814, 0.00281763, ..., 0.00281763, 0.00281796,\n",
       "        0.00281782],\n",
       "       [0.97154686, 0.00316174, 0.0031613 , ..., 0.00316114, 0.00316144,\n",
       "        0.0031614 ],\n",
       "       ...,\n",
       "       [0.01012149, 0.01012176, 0.01012137, ..., 0.01012175, 0.01012165,\n",
       "        0.01012178],\n",
       "       [0.00801169, 0.00801185, 0.00801154, ..., 0.00801159, 0.92789496,\n",
       "        0.00801178],\n",
       "       [0.00815102, 0.00815133, 0.00815056, ..., 0.92664188, 0.00815084,\n",
       "        0.00815102]])"
      ]
     },
     "execution_count": 1013,
     "metadata": {},
     "output_type": "execute_result"
    }
   ],
   "source": [
    "corpus = modern_love_df_rev_2['essay_rev_clean_3']\n",
    "tfidf_vectorizer = TfidfVectorizer(ngram_range=(1,3), max_df=.6)\n",
    "dtm_tfidf = tfidf_vectorizer.fit_transform(corpus)\n",
    "\n",
    "lda = LatentDirichletAllocation(n_components=10, random_state=42)\n",
    "lda.fit(dtm_tfidf)\n",
    "\n",
    "make_topics(corpus, vectorizer=tfidf_vectorizer, topic_modeler=lda)"
   ]
  },
  {
   "cell_type": "markdown",
   "metadata": {},
   "source": [
    "# Topic Modeling with CorEx"
   ]
  },
  {
   "cell_type": "markdown",
   "metadata": {},
   "source": [
    "Helpful resources on CorEx\n",
    "- <a href=\"https://github.com/gregversteeg/corex_topic/blob/master/corextopic/example/corex_topic_example.ipynb\">notebook on how to use it</a>"
   ]
  },
  {
   "cell_type": "code",
   "execution_count": 93,
   "metadata": {},
   "outputs": [
    {
     "name": "stdout",
     "output_type": "stream",
     "text": [
      "Requirement already satisfied: corextopic in /opt/anaconda3/lib/python3.8/site-packages (1.1)\n",
      "Requirement already satisfied: networkx in /opt/anaconda3/lib/python3.8/site-packages (2.4)\n",
      "Requirement already satisfied: decorator>=4.3.0 in /opt/anaconda3/lib/python3.8/site-packages (from networkx) (4.4.2)\n"
     ]
    }
   ],
   "source": [
    "!pip install corextopic\n",
    "!pip install networkx"
   ]
  },
  {
   "cell_type": "code",
   "execution_count": 71,
   "metadata": {},
   "outputs": [],
   "source": [
    "import scipy.sparse as ss\n",
    "\n",
    "from corextopic import corextopic as ct\n",
    "from corextopic import vis_topic as vt"
   ]
  },
  {
   "cell_type": "markdown",
   "metadata": {},
   "source": [
    "# CorEx topic modeling utility"
   ]
  },
  {
   "cell_type": "code",
   "execution_count": 72,
   "metadata": {},
   "outputs": [],
   "source": [
    "def make_topics_cx(corpus, vectorizer, topic_modeler, anchor_words=None, anchor_strength=None):\n",
    "    \"\"\"A very simple pipeline.\"\"\"\n",
    "    \n",
    "    # Vectorize documents into a document-word matrix\n",
    "    doc_word = vectorizer.fit_transform(corpus)\n",
    "    doc_word = ss.csr_matrix(doc_word)\n",
    "    print(doc_word.shape)\n",
    "    print(\"\")\n",
    "    \n",
    "    # Get words that label the columns (needed to extract readable topics and make anchoring easier)\n",
    "    words = list(np.asarray(vectorizer.get_feature_names()))\n",
    "    \n",
    "    # Fit the model\n",
    "    topic_model = topic_modeler.fit(doc_word)\n",
    "    if anchor_words:\n",
    "        topic_model.fit(doc_word, anchors=anchor_words, anchor_strength=anchor_strength, \\\n",
    "                        words=words, docs=corpus)\n",
    "    else:\n",
    "        topic_model.fit(doc_word,words=words, docs=corpus)\n",
    "    \n",
    "    \n",
    "    # Print the topics and top words\n",
    "    topics = topic_model.get_topics()\n",
    "    for n,topic in enumerate(topics):\n",
    "        topic_words,_,_ = zip(*topic)\n",
    "        print('{}: '.format(n) + ','.join(topic_words))\n",
    "     \n",
    "    # Print total correlation of each topic and the sum of all topics in the model\n",
    "    print(\"\")\n",
    "    print(topic_model.tcs)\n",
    "    print(topic_model.tc)\n",
    "    \n",
    "    return topic_model"
   ]
  },
  {
   "cell_type": "markdown",
   "metadata": {},
   "source": [
    "# CorEx Baseline model"
   ]
  },
  {
   "cell_type": "code",
   "execution_count": 264,
   "metadata": {},
   "outputs": [
    {
     "name": "stdout",
     "output_type": "stream",
     "text": [
      "(1458, 20000)\n",
      "\n",
      "0: way,come,long,life,look,find,good,try,leave,friend\n",
      "1: information,sidewalk,reference,supply,accord,knowledge,campus,trap,fantasize,current\n",
      "2: disapprove,equip,undo,naturally,paddle,parameter,sane,relent,accessory,decipher\n",
      "3: resentment,apple,traumatize,outgrow,logical,underwater,filter,banter,bent,cascade\n",
      "4: design,shopping,fertility,trait,cart,boil,cure,magic,futon,dish\n",
      "5: participate,beam,bookstore,branch,stylish,cabinet,bread,minneapolis,charlie,roast\n",
      "6: chase,previously,abortion,pursuit,gas,curse,prop,bore,fragile,reproductive\n",
      "7: conform,novelty,unimaginable,award,stroke,chaperone,spreadsheet,arizona,celebration,delhi\n",
      "\n",
      "[87.72330266  5.32199851  5.10039868  3.38039333  2.96990819  2.71098833\n",
      "  2.59114962  1.27169641]\n",
      "111.06983572249246\n"
     ]
    },
    {
     "data": {
      "text/plain": [
       "<corextopic.corextopic.Corex at 0x7fe1736f4ca0>"
      ]
     },
     "execution_count": 264,
     "metadata": {},
     "output_type": "execute_result"
    }
   ],
   "source": [
    "corpus = modern_love_df_rev_2['essay_rev_clean_3']\n",
    "vectorizer = CountVectorizer(max_features=20000, binary=True)\n",
    "topic_modeler = ct.Corex(n_hidden=8, seed=1) \n",
    "\n",
    "make_topics_cx(corpus, vectorizer, topic_modeler, anchor_words=None, anchor_strength=None)"
   ]
  },
  {
   "cell_type": "markdown",
   "metadata": {},
   "source": [
    "# CorEx Model 2 - add anchor words (words from NFM model)"
   ]
  },
  {
   "cell_type": "code",
   "execution_count": 924,
   "metadata": {},
   "outputs": [
    {
     "name": "stdout",
     "output_type": "stream",
     "text": [
      "(1458, 20000)\n",
      "\n",
      "0: father,mother,parent,death,brother,sister,hold,family,child,carry\n",
      "1: date,sex,boyfriend,relationship,guy,romantic,rest,single,eat,restaurant\n",
      "2: marriage,way,long,divorce,life,look,find,good,try,leave\n",
      "3: party,high school,settle,cool,year early,birthday,hotel,tall,anxiety,cross\n",
      "4: baby,doctor,pregnancy,birth,son,hospital,condition,report,health,hall\n",
      "\n",
      "[22.19885338 13.31621493 62.43126875 14.37898264 20.62962373]\n",
      "132.95494341824065\n"
     ]
    }
   ],
   "source": [
    "corpus = modern_love_df_rev_2['essay_rev_clean_3']\n",
    "vectorizer = CountVectorizer(ngram_range=(1,3),max_features=20000, binary=True)\n",
    "topic_modeler = ct.Corex(n_hidden=5, seed=1) \n",
    "anchor_words = [['father','mother','parent','brother','sister','death'],\\\n",
    "                ['sex','date','boyfriend'],\\\n",
    "                ['divorce','marriage'],\\\n",
    "                ['party', 'high school'],\\\n",
    "                ['birth','doctor','pregnancy','baby']]\n",
    "anchor_strength = 6\n",
    "\n",
    "corex_doc_topic = make_topics_cx(corpus, vectorizer, topic_modeler, anchor_words=anchor_words, anchor_strength=anchor_strength)"
   ]
  },
  {
   "cell_type": "markdown",
   "metadata": {},
   "source": [
    "# Plot top words associated with each topic from CorEx Model 2"
   ]
  },
  {
   "cell_type": "markdown",
   "metadata": {},
   "source": [
    "The topic words are those with the highest mutual information with the topic, rather than those with highest probability within the topic as in LDA. The mutual information with the topic is the number reported in each tuple. CorEx also returns the \"sign\" of each word, which is either 1 or -1. If the sign is -1, then that means the absence of a word is informative in that topic, rather than its presence."
   ]
  },
  {
   "cell_type": "code",
   "execution_count": 925,
   "metadata": {},
   "outputs": [],
   "source": [
    "# save the topics and top words associated with each topic (it becomes a list of lists, where each list corresponds\n",
    "# with a topic and contains tuples with each word, its mutual information, and the word's 'sign'\n",
    "\n",
    "corex_topics_words = corex_doc_topic.get_topics()\n",
    "\n",
    "# remove third item in tuple, since we only \n",
    "corex_topics_words = [[word[:-1] for word in topic] for topic in corex_topics_words]"
   ]
  },
  {
   "cell_type": "code",
   "execution_count": 926,
   "metadata": {},
   "outputs": [],
   "source": [
    "# helper function to generate bar charts of topics and their words with the highest mutual info w/ the topic\n",
    "\n",
    "def create_topic_word_chart(i):\n",
    "    \n",
    "    topic_i = []\n",
    "    \n",
    "    for topic in corex_topics_words[i]:\n",
    "        topic_i.append(topic)\n",
    "        \n",
    "    words, mi = zip(*topic_i)\n",
    "    s = pd.Series(mi, words)\n",
    "    df = pd.DataFrame(s).reset_index().rename(columns={'index':'topic word',\n",
    "                                                        0:'mutual information'})\n",
    "    df = df.sort_values('mutual information',ascending=False)\n",
    "    \n",
    "    plt.figure(figsize=(5,6))\n",
    "    sns.set(font_scale=1.5)\n",
    "    sns.set_style(style='white')\n",
    "    plt.xlim(0,1)\n",
    "    sns.barplot(x='mutual information',y='topic word', data=df,color='pink')\n",
    "    sns.despine(top=True, right=True, left=False, bottom=False)"
   ]
  },
  {
   "cell_type": "code",
   "execution_count": 927,
   "metadata": {},
   "outputs": [
    {
     "data": {
      "image/png": "[encoded data removed]",
      "text/plain": [
       "<Figure size 360x432 with 1 Axes>"
      ]
     },
     "metadata": {
      "needs_background": "light"
     },
     "output_type": "display_data"
    }
   ],
   "source": [
    "# Plot for family topic\n",
    "\n",
    "%matplotlib inline\n",
    "family_plot = create_topic_word_chart(i = 0)\n",
    "plt.savefig('family_plot.png',bbox_inches='tight')"
   ]
  },
  {
   "cell_type": "code",
   "execution_count": 928,
   "metadata": {
    "scrolled": false
   },
   "outputs": [
    {
     "data": {
      "image/png": "[encoded data removed]",
      "text/plain": [
       "<Figure size 360x432 with 1 Axes>"
      ]
     },
     "metadata": {
      "needs_background": "light"
     },
     "output_type": "display_data"
    }
   ],
   "source": [
    "# Plot for dating topic\n",
    "\n",
    "%matplotlib inline\n",
    "dating_plot = create_topic_word_chart(i = 1)\n",
    "plt.savefig('dating_plot.png',bbox_inches='tight')"
   ]
  },
  {
   "cell_type": "code",
   "execution_count": 929,
   "metadata": {},
   "outputs": [
    {
     "data": {
      "image/png": "[encoded data removed]",
      "text/plain": [
       "<Figure size 360x432 with 1 Axes>"
      ]
     },
     "metadata": {
      "needs_background": "light"
     },
     "output_type": "display_data"
    }
   ],
   "source": [
    "# Plot for marriage and divorce topic\n",
    "\n",
    "%matplotlib inline\n",
    "marriage_divorce_plot = create_topic_word_chart(i = 2)\n",
    "plt.savefig('marriage_divorce_plot.png',bbox_inches='tight')"
   ]
  },
  {
   "cell_type": "code",
   "execution_count": 930,
   "metadata": {},
   "outputs": [
    {
     "data": {
      "image/png": "[encoded data removed]",
      "text/plain": [
       "<Figure size 360x432 with 1 Axes>"
      ]
     },
     "metadata": {
      "needs_background": "light"
     },
     "output_type": "display_data"
    }
   ],
   "source": [
    "# Plot for school topic\n",
    "\n",
    "%matplotlib inline\n",
    "school_plot = create_topic_word_chart(i = 3)\n",
    "plt.savefig('school.png',bbox_inches='tight')"
   ]
  },
  {
   "cell_type": "code",
   "execution_count": 931,
   "metadata": {},
   "outputs": [
    {
     "data": {
      "image/png": "[encoded data removed]",
      "text/plain": [
       "<Figure size 360x432 with 1 Axes>"
      ]
     },
     "metadata": {
      "needs_background": "light"
     },
     "output_type": "display_data"
    }
   ],
   "source": [
    "# Plot for pregnancy and birth topic\n",
    "\n",
    "%matplotlib inline\n",
    "pregnancy_birth_plot = create_topic_word_chart(i = 4)\n",
    "plt.savefig('pregnancy_birth.png',bbox_inches='tight')"
   ]
  },
  {
   "cell_type": "markdown",
   "metadata": {},
   "source": [
    "# Predicting the topic of new content using CorEx Model 2"
   ]
  },
  {
   "cell_type": "markdown",
   "metadata": {},
   "source": [
    "CountVectorizer and CorEx"
   ]
  },
  {
   "cell_type": "code",
   "execution_count": 934,
   "metadata": {},
   "outputs": [],
   "source": [
    "# # vectorize new_docs_clean_3 on vectorizer fit to original corpus\n",
    "\n",
    "corpus = modern_love_df_rev_2['essay_rev_clean_3']\n",
    "vectorizer = CountVectorizer(ngram_range=(1,3), max_features=20000, binary=True)\n",
    "doc_word_vectors = vectorizer.fit_transform(corpus)\n",
    "new_doc_word_vectors = vectorizer.transform(new_docs_clean_3)"
   ]
  },
  {
   "cell_type": "code",
   "execution_count": 935,
   "metadata": {},
   "outputs": [],
   "source": [
    "# # predict topics for each doc in new_docs_clean_3 on CorEx model fit to original vectorized corpus\n",
    "\n",
    "new_doc_topic = corex_doc_topic.predict(new_doc_word_vectors)"
   ]
  },
  {
   "cell_type": "code",
   "execution_count": 936,
   "metadata": {},
   "outputs": [],
   "source": [
    "# create dataframe from new_doc_topic matrix and join it with the text documents\n",
    "\n",
    "corex_new_doc_topic_df = pd.DataFrame(new_doc_topic, columns=['family','dating','marriage_divorce',\n",
    "                                                             'school','birth_pregnancy'])\n",
    "\n",
    "corex_new_doc_topic_df['doc'] = new_docs_clean_3"
   ]
  },
  {
   "cell_type": "code",
   "execution_count": 937,
   "metadata": {},
   "outputs": [
    {
     "data": {
      "text/html": [
       "<div>\n",
       "<style scoped>\n",
       "    .dataframe tbody tr th:only-of-type {\n",
       "        vertical-align: middle;\n",
       "    }\n",
       "\n",
       "    .dataframe tbody tr th {\n",
       "        vertical-align: top;\n",
       "    }\n",
       "\n",
       "    .dataframe thead th {\n",
       "        text-align: right;\n",
       "    }\n",
       "</style>\n",
       "<table border=\"1\" class=\"dataframe\">\n",
       "  <thead>\n",
       "    <tr style=\"text-align: right;\">\n",
       "      <th></th>\n",
       "      <th>family</th>\n",
       "      <th>dating</th>\n",
       "      <th>marriage_divorce</th>\n",
       "      <th>school</th>\n",
       "      <th>birth_pregnancy</th>\n",
       "      <th>doc</th>\n",
       "    </tr>\n",
       "  </thead>\n",
       "  <tbody>\n",
       "    <tr>\n",
       "      <th>0</th>\n",
       "      <td>False</td>\n",
       "      <td>False</td>\n",
       "      <td>False</td>\n",
       "      <td>False</td>\n",
       "      <td>False</td>\n",
       "      <td>durian love hate fruit family grandmother fan pungent odor family member milder taste house rule durian consume parking lot playground indoor indignant banish find comfort grandmother solidarity</td>\n",
       "    </tr>\n",
       "    <tr>\n",
       "      <th>1</th>\n",
       "      <td>False</td>\n",
       "      <td>False</td>\n",
       "      <td>False</td>\n",
       "      <td>False</td>\n",
       "      <td>False</td>\n",
       "      <td>ill fate date little brother lie bed despondent dingy college apartment home laundry today oh meet brother felix listen quietly inventory hesitation commitment live block hurt pause brother load pragmatic gentle love right ione madsen hardy</td>\n",
       "    </tr>\n",
       "    <tr>\n",
       "      <th>2</th>\n",
       "      <td>False</td>\n",
       "      <td>False</td>\n",
       "      <td>False</td>\n",
       "      <td>False</td>\n",
       "      <td>False</td>\n",
       "      <td>abusive relationship act play erratic director script write unfailingly serve affirm diminish break character hang friend houseplant pay improvise good ability improv service uphold narrative avoid wrath decide find partner write story draw lindgren</td>\n",
       "    </tr>\n",
       "    <tr>\n",
       "      <th>3</th>\n",
       "      <td>False</td>\n",
       "      <td>False</td>\n",
       "      <td>False</td>\n",
       "      <td>False</td>\n",
       "      <td>False</td>\n",
       "      <td>hugh weep talk late wife good friend grief support session co facilitator hugh week class remind run month later look romance swing dance lesson join good dancer decade later politic divide country opposite camp watch news dance eileen vorbach collin</td>\n",
       "    </tr>\n",
       "  </tbody>\n",
       "</table>\n",
       "</div>"
      ],
      "text/plain": [
       "   family  dating  marriage_divorce  school  birth_pregnancy  \\\n",
       "0  False   False   False             False   False             \n",
       "1  False   False   False             False   False             \n",
       "2  False   False   False             False   False             \n",
       "3  False   False   False             False   False             \n",
       "\n",
       "                                                                                                                                                                                                                                                          doc  \n",
       "0  durian love hate fruit family grandmother fan pungent odor family member milder taste house rule durian consume parking lot playground indoor indignant banish find comfort grandmother solidarity                                                          \n",
       "1  ill fate date little brother lie bed despondent dingy college apartment home laundry today oh meet brother felix listen quietly inventory hesitation commitment live block hurt pause brother load pragmatic gentle love right ione madsen hardy            \n",
       "2  abusive relationship act play erratic director script write unfailingly serve affirm diminish break character hang friend houseplant pay improvise good ability improv service uphold narrative avoid wrath decide find partner write story draw lindgren   \n",
       "3  hugh weep talk late wife good friend grief support session co facilitator hugh week class remind run month later look romance swing dance lesson join good dancer decade later politic divide country opposite camp watch news dance eileen vorbach collin  "
      ]
     },
     "execution_count": 937,
     "metadata": {},
     "output_type": "execute_result"
    }
   ],
   "source": [
    "corex_new_doc_topic_df"
   ]
  },
  {
   "cell_type": "markdown",
   "metadata": {},
   "source": [
    "# Analyze number of essays/short stories by topic from CorEx Model 2"
   ]
  },
  {
   "cell_type": "code",
   "execution_count": 811,
   "metadata": {},
   "outputs": [],
   "source": [
    "corex_doc_topic_df = pd.DataFrame(corex_doc_topic.p_y_given_x) # n_docs x k_topics"
   ]
  },
  {
   "cell_type": "code",
   "execution_count": 812,
   "metadata": {},
   "outputs": [
    {
     "data": {
      "text/html": [
       "<div>\n",
       "<style scoped>\n",
       "    .dataframe tbody tr th:only-of-type {\n",
       "        vertical-align: middle;\n",
       "    }\n",
       "\n",
       "    .dataframe tbody tr th {\n",
       "        vertical-align: top;\n",
       "    }\n",
       "\n",
       "    .dataframe thead th {\n",
       "        text-align: right;\n",
       "    }\n",
       "</style>\n",
       "<table border=\"1\" class=\"dataframe\">\n",
       "  <thead>\n",
       "    <tr style=\"text-align: right;\">\n",
       "      <th></th>\n",
       "      <th>0</th>\n",
       "      <th>1</th>\n",
       "      <th>2</th>\n",
       "      <th>3</th>\n",
       "      <th>4</th>\n",
       "    </tr>\n",
       "  </thead>\n",
       "  <tbody>\n",
       "    <tr>\n",
       "      <th>751</th>\n",
       "      <td>0.000001</td>\n",
       "      <td>0.000001</td>\n",
       "      <td>0.000001</td>\n",
       "      <td>0.000001</td>\n",
       "      <td>0.000001</td>\n",
       "    </tr>\n",
       "    <tr>\n",
       "      <th>848</th>\n",
       "      <td>0.000001</td>\n",
       "      <td>0.000001</td>\n",
       "      <td>0.000001</td>\n",
       "      <td>0.000001</td>\n",
       "      <td>0.000001</td>\n",
       "    </tr>\n",
       "    <tr>\n",
       "      <th>433</th>\n",
       "      <td>0.999999</td>\n",
       "      <td>0.999999</td>\n",
       "      <td>0.999999</td>\n",
       "      <td>0.999999</td>\n",
       "      <td>0.999999</td>\n",
       "    </tr>\n",
       "    <tr>\n",
       "      <th>1170</th>\n",
       "      <td>0.000001</td>\n",
       "      <td>0.000001</td>\n",
       "      <td>0.000001</td>\n",
       "      <td>0.000001</td>\n",
       "      <td>0.000001</td>\n",
       "    </tr>\n",
       "    <tr>\n",
       "      <th>1211</th>\n",
       "      <td>0.000001</td>\n",
       "      <td>0.000001</td>\n",
       "      <td>0.000001</td>\n",
       "      <td>0.000001</td>\n",
       "      <td>0.000001</td>\n",
       "    </tr>\n",
       "  </tbody>\n",
       "</table>\n",
       "</div>"
      ],
      "text/plain": [
       "             0         1         2         3         4\n",
       "751   0.000001  0.000001  0.000001  0.000001  0.000001\n",
       "848   0.000001  0.000001  0.000001  0.000001  0.000001\n",
       "433   0.999999  0.999999  0.999999  0.999999  0.999999\n",
       "1170  0.000001  0.000001  0.000001  0.000001  0.000001\n",
       "1211  0.000001  0.000001  0.000001  0.000001  0.000001"
      ]
     },
     "execution_count": 812,
     "metadata": {},
     "output_type": "execute_result"
    }
   ],
   "source": [
    "corex_doc_topic_df.sample(5)"
   ]
  },
  {
   "cell_type": "code",
   "execution_count": 813,
   "metadata": {},
   "outputs": [],
   "source": [
    "corex_modern_love_doc_topic_df = modern_love_df_rev_2.join(corex_doc_topic_df)\n",
    "corex_modern_love_doc_topic_df = corex_modern_love_doc_topic_df.rename(columns={0:'topic_1',1:'topic_2',\n",
    "                                                                   2:'topic_3',3:'topic_4',\n",
    "                                                                   4:'topic_5'})"
   ]
  },
  {
   "cell_type": "code",
   "execution_count": 586,
   "metadata": {},
   "outputs": [],
   "source": [
    "corex_modern_love_doc_topic_df.loc['total'] = corex_modern_love_doc_topic_df[['topic_1','topic_2','topic_3','topic_4','topic_5']].sum()"
   ]
  },
  {
   "cell_type": "code",
   "execution_count": 587,
   "metadata": {},
   "outputs": [],
   "source": [
    "total_docs_per_topic = corex_modern_love_doc_topic_df.iloc[-1:,-5:].values\n",
    "total_docs_per_topic = [item for sublist in total_docs_per_topic for item in sublist]\n",
    "topics_list = ['Family','Dating','Marriage and Divorce','School','Pregnancy and Birth']"
   ]
  },
  {
   "cell_type": "code",
   "execution_count": 588,
   "metadata": {},
   "outputs": [
    {
     "name": "stdout",
     "output_type": "stream",
     "text": [
      "[634.0, 647.0, 663.0, 611.0, 531.0]\n",
      "['Family', 'Dating', 'Marriage and Divorce', 'School', 'Pregnancy and Birth']\n"
     ]
    }
   ],
   "source": [
    "print(total_docs_per_topic)\n",
    "print(topics_list)"
   ]
  },
  {
   "cell_type": "code",
   "execution_count": 589,
   "metadata": {},
   "outputs": [
    {
     "data": {
      "text/plain": [
       "641"
      ]
     },
     "execution_count": 589,
     "metadata": {},
     "output_type": "execute_result"
    }
   ],
   "source": [
    "docs_no_topic = len(corex_modern_love_doc_topic_df.loc[(corex_modern_love_doc_topic_df.topic_1 == False) & \\\n",
    "                                                  (corex_modern_love_doc_topic_df.topic_2 == False) & \\\n",
    "                                                  (corex_modern_love_doc_topic_df.topic_3 == False) & \\\n",
    "                                                  (corex_modern_love_doc_topic_df.topic_4 == False) & \\\n",
    "                                                  (corex_modern_love_doc_topic_df.topic_5 == False)])\n",
    "docs_no_topic"
   ]
  },
  {
   "cell_type": "code",
   "execution_count": 590,
   "metadata": {},
   "outputs": [],
   "source": [
    "total_docs_per_topic.append(docs_no_topic)\n",
    "topics_list.append('No topic')"
   ]
  },
  {
   "cell_type": "code",
   "execution_count": 591,
   "metadata": {},
   "outputs": [],
   "source": [
    "s = pd.Series(total_docs_per_topic, topics_list)\n",
    "df = pd.DataFrame(s).reset_index().rename(columns={'index':'topic',\n",
    "                                                        0:'total essays/short stories'})\n",
    "df = df.sort_values('total essays/short stories',ascending=False)"
   ]
  },
  {
   "cell_type": "code",
   "execution_count": 592,
   "metadata": {},
   "outputs": [
    {
     "data": {
      "image/png": "[encoded data removed]",
      "text/plain": [
       "<Figure size 360x432 with 1 Axes>"
      ]
     },
     "metadata": {
      "needs_background": "light"
     },
     "output_type": "display_data"
    }
   ],
   "source": [
    "%matplotlib inline\n",
    "\n",
    "plt.figure(figsize=(5,6))\n",
    "sns.set(font_scale=1.5)\n",
    "#sns.set_palette(\"pastel\")\n",
    "sns.set_style(style='white')\n",
    "#plt.xlim(0,1)\n",
    "sns.barplot(x='total essays/short stories',y='topic', data=df, color='gray')\n",
    "sns.despine(top=True, right=True, left=False, bottom=False)\n",
    "plt.savefig('docs_per_topic.png',bbox_inches='tight')"
   ]
  },
  {
   "cell_type": "markdown",
   "metadata": {},
   "source": [
    "# CorEx Model 3 - tune max_df, min_df and ngrams"
   ]
  },
  {
   "cell_type": "code",
   "execution_count": 273,
   "metadata": {},
   "outputs": [
    {
     "name": "stdout",
     "output_type": "stream",
     "text": [
      "(1458, 4031)\n",
      "\n",
      "0: parent,father,mother,brother,begin,sister,family,stand,real,child\n",
      "1: date,message,sex,girlfriend,boyfriend,online,profile,start date,mail message,text message\n",
      "2: marriage,sex,way,come,long,divorce,life,look,find,good\n",
      "3: school,college,class,place,early,watch,word,follow,realize,read\n",
      "4: baby,doctor,pregnancy,birth,hospital,nurse,healthy,intensive,intensive care,infant\n",
      "\n",
      "[37.19150201  4.61985162 32.22584163 18.99416746  3.66741986]\n",
      "96.6987825730295\n"
     ]
    },
    {
     "data": {
      "text/plain": [
       "<corextopic.corextopic.Corex at 0x7fe3d913b5e0>"
      ]
     },
     "execution_count": 273,
     "metadata": {},
     "output_type": "execute_result"
    }
   ],
   "source": [
    "corpus = modern_love_df_rev_2['essay_rev_clean_3']\n",
    "vectorizer = CountVectorizer(ngram_range=(1,3),max_features=20000,binary=True,min_df=.01)\n",
    "topic_modeler = ct.Corex(n_hidden=5, seed=1) \n",
    "anchor_words = [['father','mother','parent','brother','sister'],\\\n",
    "                ['sex','date','boyfriend','girlfriend','message'],\\\n",
    "                ['divorce','ex','sex','marriage'],\\\n",
    "                ['school','class','teacher','college'],\\\n",
    "                ['birth','doctor','pregnancy','baby']]\n",
    "anchor_strength = 6\n",
    "\n",
    "make_topics_cx(corpus, vectorizer, topic_modeler, anchor_words=anchor_words, anchor_strength=anchor_strength)"
   ]
  },
  {
   "cell_type": "markdown",
   "metadata": {},
   "source": [
    "# CorEx Model 4 - TF-IDF"
   ]
  },
  {
   "cell_type": "code",
   "execution_count": 82,
   "metadata": {},
   "outputs": [
    {
     "name": "stdout",
     "output_type": "stream",
     "text": [
      "(1458, 20000)\n",
      "\n",
      "0: way,come,friend,life,relationship,marriage,long,talk,sex,kind\n",
      "1: akari,frieda,deji,gerri,est,nar,shottsy,que,désolé,cecilia\n",
      "2: aadmi,pine,pidgin,piano,physics,photocopy,phony,phoebe,phnom,philosophical\n",
      "3: aaaarrrrgh,pneumonia,plush,plume,plow,plight,pliable,playroom,playoff,playful\n",
      "4: melina,preston,aah,ponce,pond,ponder,pong,pomplamoose,ponytail,poop\n",
      "5: aahed,poker,pointillist,poetic,podcast,pocketful,poach,plexu,playhouse,platitude\n",
      "6: aaa,phu,phonebook,phobic,phobia,phobe,phloem,philosopher,philistines,pharmaceutical\n",
      "7: greta,aa,prohibition,prohibit,productive,proclaim,proactive,prix,privilege,princeton\n",
      "\n",
      "[7.16534688e-01 2.19495301e-03 2.40788610e-04 2.02379155e-04\n",
      " 6.08145305e-05 3.63154012e-05 2.24060036e-05 1.89872635e-05]\n",
      "0.7193113324286294\n"
     ]
    },
    {
     "data": {
      "text/plain": [
       "<corextopic.corextopic.Corex at 0x7fe3dc65f760>"
      ]
     },
     "execution_count": 82,
     "metadata": {},
     "output_type": "execute_result"
    }
   ],
   "source": [
    "corpus = modern_love_df_rev_2['essay_rev_clean_3']\n",
    "vectorizer = TfidfVectorizer(max_features=20000)\n",
    "topic_modeler = ct.Corex(n_hidden=8, seed=1)  \n",
    "\n",
    "make_topics_cx(corpus, vectorizer, topic_modeler, anchor_words=None, anchor_strength=None)"
   ]
  },
  {
   "cell_type": "markdown",
   "metadata": {},
   "source": [
    "# CorEx Model 5 - TF-IDF and tune max_df, min_df and ngrams"
   ]
  },
  {
   "cell_type": "code",
   "execution_count": 83,
   "metadata": {},
   "outputs": [
    {
     "name": "stdout",
     "output_type": "stream",
     "text": [
      "(1458, 4032)\n",
      "\n",
      "0: way,come,friend,life,relationship,long,talk,marriage,kind,look\n",
      "1: absolutely,nephew,occupy,oh yeah,opinion,overhead,overwhelming,paperwork,paralyze,parent home\n",
      "2: absorb,professor,progressive,psychiatrist,punch,pure,rank,real world,recipe,replace\n",
      "3: adoration,ok,old son,paris,parking lot,participate,pattern,pause,payment,permit\n",
      "4: accustomed,noodle,northern,november,obscure,obsess,obsession,old child,parent divorce,parenting\n",
      "5: accidentally,new boyfriend,new yorker,newfound,newly,nightly,oblivious,open door,organize,overcome\n",
      "6: abroad,potato,poverty,proudly,purse,range,rate,reach hand,reader,refugee\n",
      "7: acquaintance,pillow,poem,poetry,polish,popular,portrait,poster,pretty good,program\n",
      "\n",
      "[ 9.82199161e-01  1.39147348e-04  1.04990265e-04  4.16248182e-05\n",
      "  2.72979791e-06 -5.69772392e-06 -2.38193070e-05 -7.30841294e-05]\n",
      "0.9823850518640102\n"
     ]
    },
    {
     "data": {
      "text/plain": [
       "<corextopic.corextopic.Corex at 0x7fe174b3cf70>"
      ]
     },
     "execution_count": 83,
     "metadata": {},
     "output_type": "execute_result"
    }
   ],
   "source": [
    "corpus = modern_love_df_rev_2['essay_rev_clean_3']\n",
    "vectorizer = TfidfVectorizer(ngram_range=(1,3),max_df=0.8, min_df=0.01)\n",
    "topic_modeler = ct.Corex(n_hidden=8, seed=1) \n",
    "\n",
    "make_topics_cx(corpus, vectorizer,topic_modeler,anchor_words=None, anchor_strength=None)"
   ]
  },
  {
   "cell_type": "markdown",
   "metadata": {},
   "source": [
    "# CorEx Model 6 - TF-IDF and anchor words"
   ]
  },
  {
   "cell_type": "code",
   "execution_count": 84,
   "metadata": {},
   "outputs": [
    {
     "name": "stdout",
     "output_type": "stream",
     "text": [
      "(1458, 4032)\n",
      "\n",
      "0: accidentally,punk,puppy,purse,rare,react,recall,recognition,relationship year,relax\n",
      "1: ache,performance,philadelphia,politic,poorly,portrait,poverty,profound,progress,proud\n",
      "2: admission,old daughter,olive,online date,opening,orange,oregon,organize,overwhelmed,pace\n",
      "3: abroad,new year eve,new york,new york city,newfound,nickname,noodle,november,nudge,nursing\n",
      "4: way,come,friend,life,relationship,long,talk,kind,look,guy\n",
      "5: accident,peanut,picnic,pink,playful,poet,politely,pose,pregnancy,property\n",
      "6: accompany,oxygen,pancake,paperwork,park,partnership,patch,path,paycheck,peek\n",
      "7: absolutely,overwhelm,overwhelming,parade,paralyze,parent home,passenger seat,pattern,pepper,permanently\n",
      "\n",
      "[-2.08560363e-05 -1.54611908e-06 -3.67686332e-05  1.17328788e-06\n",
      "  9.55899686e-01 -4.14849007e-06 -1.57200163e-05 -5.48450748e-06]\n",
      "0.9558163353714854\n"
     ]
    },
    {
     "data": {
      "text/plain": [
       "<corextopic.corextopic.Corex at 0x7fe175290820>"
      ]
     },
     "execution_count": 84,
     "metadata": {},
     "output_type": "execute_result"
    }
   ],
   "source": [
    "corpus = modern_love_df_rev_2['essay_rev_clean_3']\n",
    "vectorizer = TfidfVectorizer(max_features=20000,ngram_range=(1,3),max_df=0.8, min_df=.01)\n",
    "topic_modeler = ct.Corex(n_hidden=8, seed=1) \n",
    "anchor_words = [['father','mother','parent','brother','sister'],\\\n",
    "                ['sex','date','boyfriend','girlfriend','message'],\\\n",
    "                ['divorce','ex','sex','marriage'],\\\n",
    "                ['new york','new york city','apartment','manhattan'],\\\n",
    "                ['high school','school','class','teacher','college'],\\\n",
    "                ['birth','doctor','pregnancy','baby']]\n",
    "anchor_strength = 2\n",
    "\n",
    "make_topics_cx(corpus, vectorizer,topic_modeler,anchor_words=anchor_words, anchor_strength=anchor_strength)"
   ]
  }
 ],
 "metadata": {
  "kernelspec": {
   "display_name": "Python 3",
   "language": "python",
   "name": "python3"
  },
  "language_info": {
   "codemirror_mode": {
    "name": "ipython",
    "version": 3
   },
   "file_extension": ".py",
   "mimetype": "text/x-python",
   "name": "python",
   "nbconvert_exporter": "python",
   "pygments_lexer": "ipython3",
   "version": "3.8.3"
  }
 },
 "nbformat": 4,
 "nbformat_minor": 5
}
