{
 "cells": [
  {
   "cell_type": "markdown",
   "id": "b9a9ab43",
   "metadata": {},
   "source": [
    "# Project Proposal\n",
    "\n",
    "## Categorizing content from the New York Times' *Modern Love* column\n",
    "***\n",
    "### Question/Need:\n",
    "\n",
    "<a href=\"https://www.nytimes.com/column/modern-love\">Modern Love</a> is a weekly column in the New York Times that began in 2004. Over the past 18 years, it has expanded into a book, podcast, and, most recently, a TV show on Amazon Prime. \n",
    "\n",
    "One of the aspects of Modern Love that distinguishes it from other columns in the <a href=\"https://www.nytimes.com/section/fashion/weddings\">Love</a> subsection of the New York Times' website - including <a href=\"https://www.nytimes.com/column/vows\">Vows</a> and <a href=\"https://www.nytimes.com/column/unhitched\">Unhitched</a> - is its breadth; it includes stories about love in all types of relationships, including romantic couples, siblings, parents and children, and friends. However, as of now, it is still not possible to search the New York Times' website for essays (or tiny love stories, which are reader-submitted stories of no more than 100 words) by topic, such as divorce, dating or sisterhood.\n",
    "\n",
    "The New York Times has contracted me to help them categorize the Modern Love essays and short stories so they may add a feature to their website that allows users to search for content based on these categories.\n",
    "\n",
    "To that end, I propose building an unsupervised learning model that includes topic modeling to extract the main themes across the Modern Love essays and short stories.\n",
    "***\n",
    "### Data\n",
    "\n",
    "The data for this project was acquired from the New York Times' website via its API (see code <a href=\"https://github.com/chloebs4590/NLP-Unsupervised-Learning/blob/master/NY%20Times%20API%20data%20extraction.ipynb\">here</a>) and web scraping (see code <a href=\"https://github.com/chloebs4590/NLP-Unsupervised-Learning/blob/master/Essays%20Web%20Scraping.ipynb\">here</a>). The dataset is saved in a csv file linked <a href=\"https://github.com/chloebs4590/NLP-Unsupervised-Learning/blob/master/modern_love_df.csv\">here</a>.\n",
    "\n",
    "***\n",
    "### Tools\n",
    "\n",
    "- New York Times API and Requests for data acquisition\n",
    "- BeautifulSoup, Pandas, Sklearn and SpaCy for data cleaning and preprocessing\n",
    "- Gensim for topic modeling\n",
    "- Tableau and/or Seaborn/Matplotlib for data visualizations\n",
    "- SQL for storage\n",
    "***\n",
    "### MVP\n",
    "\n",
    "An MVP for this project is a topic modeling visualization."
   ]
  }
 ],
 "metadata": {
  "kernelspec": {
   "display_name": "Python [conda env:metis] *",
   "language": "python",
   "name": "conda-env-metis-py"
  },
  "language_info": {
   "codemirror_mode": {
    "name": "ipython",
    "version": 3
   },
   "file_extension": ".py",
   "mimetype": "text/x-python",
   "name": "python",
   "nbconvert_exporter": "python",
   "pygments_lexer": "ipython3",
   "version": "3.8.10"
  }
 },
 "nbformat": 4,
 "nbformat_minor": 5
}
