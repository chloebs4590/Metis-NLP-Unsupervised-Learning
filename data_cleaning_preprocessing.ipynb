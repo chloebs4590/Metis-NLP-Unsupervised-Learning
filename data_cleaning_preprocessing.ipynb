{
 "cells": [
  {
   "cell_type": "code",
   "execution_count": 1,
   "metadata": {},
   "outputs": [],
   "source": [
    "reset -fs"
   ]
  },
  {
   "cell_type": "code",
   "execution_count": 2,
   "metadata": {},
   "outputs": [],
   "source": [
    "# import libraries\n",
    "import pandas as pd\n",
    "import numpy as np\n",
    "import re\n",
    "import string\n",
    "import os\n",
    "\n",
    "#import nltk\n",
    "#from nltk.stem import PorterStemmer, SnowballStemmer, LancasterStemmer, WordNetLemmatizer\n",
    "#nltk.download('stopwords')\n",
    "#nltk.download('wordnet')\n",
    "#nltk.download('punkt')\n",
    "#nltk.download('averaged_perceptron_tagger')\n",
    "#nltk.download('maxent_ne_chunker')\n",
    "#nltk.download('words')\n",
    "\n",
    "from sklearn.feature_extraction.text import TfidfVectorizer, CountVectorizer\n",
    "from sklearn.decomposition import PCA"
   ]
  },
  {
   "cell_type": "markdown",
   "metadata": {},
   "source": [
    "# Read in data"
   ]
  },
  {
   "cell_type": "code",
   "execution_count": 3,
   "metadata": {},
   "outputs": [],
   "source": [
    "modern_love_df = pd.read_csv('modern_love_df.csv')"
   ]
  },
  {
   "cell_type": "code",
   "execution_count": 4,
   "metadata": {},
   "outputs": [
    {
     "data": {
      "text/plain": [
       "(1615, 12)"
      ]
     },
     "execution_count": 4,
     "metadata": {},
     "output_type": "execute_result"
    }
   ],
   "source": [
    "modern_love_df.shape"
   ]
  },
  {
   "cell_type": "code",
   "execution_count": 5,
   "metadata": {},
   "outputs": [
    {
     "name": "stdout",
     "output_type": "stream",
     "text": [
      "<class 'pandas.core.frame.DataFrame'>\n",
      "RangeIndex: 1615 entries, 0 to 1614\n",
      "Data columns (total 12 columns):\n",
      " #   Column                  Non-Null Count  Dtype \n",
      "---  ------                  --------------  ----- \n",
      " 0   article_url             1615 non-null   object\n",
      " 1   article                 1609 non-null   object\n",
      " 2   article_id              1615 non-null   object\n",
      " 3   article_headline        1615 non-null   object\n",
      " 4   article_abstract        1615 non-null   object\n",
      " 5   article_snippet         1615 non-null   object\n",
      " 6   article_lead_paragraph  1604 non-null   object\n",
      " 7   article_pub_date        1615 non-null   object\n",
      " 8   article_news_desk       1615 non-null   object\n",
      " 9   article_section         1615 non-null   object\n",
      " 10  article_type_material   1615 non-null   object\n",
      " 11  article_word_count      1615 non-null   int64 \n",
      "dtypes: int64(1), object(11)\n",
      "memory usage: 151.5+ KB\n"
     ]
    }
   ],
   "source": [
    "modern_love_df.info()"
   ]
  },
  {
   "cell_type": "markdown",
   "metadata": {},
   "source": [
    "# Clean data"
   ]
  },
  {
   "cell_type": "code",
   "execution_count": 6,
   "metadata": {},
   "outputs": [],
   "source": [
    "pd.set_option(\"display.max_colwidth\", 1)"
   ]
  },
  {
   "cell_type": "code",
   "execution_count": 7,
   "metadata": {},
   "outputs": [],
   "source": [
    "# drop rows with na in article column\n",
    "\n",
    "modern_love_df = modern_love_df.dropna(subset=['article'])"
   ]
  },
  {
   "cell_type": "code",
   "execution_count": 8,
   "metadata": {},
   "outputs": [
    {
     "name": "stdout",
     "output_type": "stream",
     "text": [
      "<class 'pandas.core.frame.DataFrame'>\n",
      "Int64Index: 1609 entries, 0 to 1614\n",
      "Data columns (total 12 columns):\n",
      " #   Column                  Non-Null Count  Dtype \n",
      "---  ------                  --------------  ----- \n",
      " 0   article_url             1609 non-null   object\n",
      " 1   article                 1609 non-null   object\n",
      " 2   article_id              1609 non-null   object\n",
      " 3   article_headline        1609 non-null   object\n",
      " 4   article_abstract        1609 non-null   object\n",
      " 5   article_snippet         1609 non-null   object\n",
      " 6   article_lead_paragraph  1599 non-null   object\n",
      " 7   article_pub_date        1609 non-null   object\n",
      " 8   article_news_desk       1609 non-null   object\n",
      " 9   article_section         1609 non-null   object\n",
      " 10  article_type_material   1609 non-null   object\n",
      " 11  article_word_count      1609 non-null   int64 \n",
      "dtypes: int64(1), object(11)\n",
      "memory usage: 163.4+ KB\n"
     ]
    }
   ],
   "source": [
    "modern_love_df.info()"
   ]
  },
  {
   "cell_type": "code",
   "execution_count": 9,
   "metadata": {},
   "outputs": [],
   "source": [
    "# rename article column\n",
    "\n",
    "modern_love_df = modern_love_df.rename({'article':'essay'}, axis=1)"
   ]
  },
  {
   "cell_type": "code",
   "execution_count": 10,
   "metadata": {},
   "outputs": [],
   "source": [
    "# rename the rest of the columns by removing 'article_'\n",
    "\n",
    "modern_love_df.columns = modern_love_df.columns.str.replace('article_',\"\")"
   ]
  },
  {
   "cell_type": "code",
   "execution_count": 11,
   "metadata": {},
   "outputs": [
    {
     "data": {
      "text/plain": [
       "0"
      ]
     },
     "execution_count": 11,
     "metadata": {},
     "output_type": "execute_result"
    }
   ],
   "source": [
    "# check for duplicated rows\n",
    "\n",
    "modern_love_df.duplicated().sum() # there are none!"
   ]
  },
  {
   "cell_type": "code",
   "execution_count": 12,
   "metadata": {},
   "outputs": [],
   "source": [
    "# convert pub_date to datetime and then keep only the date\n",
    "\n",
    "modern_love_df['pub_date'] = pd.to_datetime(modern_love_df['pub_date']).dt.date"
   ]
  },
  {
   "cell_type": "code",
   "execution_count": 13,
   "metadata": {},
   "outputs": [
    {
     "name": "stdout",
     "output_type": "stream",
     "text": [
      "<class 'pandas.core.frame.DataFrame'>\n",
      "Int64Index: 1609 entries, 0 to 1614\n",
      "Data columns (total 12 columns):\n",
      " #   Column          Non-Null Count  Dtype \n",
      "---  ------          --------------  ----- \n",
      " 0   url             1609 non-null   object\n",
      " 1   essay           1609 non-null   object\n",
      " 2   id              1609 non-null   object\n",
      " 3   headline        1609 non-null   object\n",
      " 4   abstract        1609 non-null   object\n",
      " 5   snippet         1609 non-null   object\n",
      " 6   lead_paragraph  1599 non-null   object\n",
      " 7   pub_date        1609 non-null   object\n",
      " 8   news_desk       1609 non-null   object\n",
      " 9   section         1609 non-null   object\n",
      " 10  type_material   1609 non-null   object\n",
      " 11  word_count      1609 non-null   int64 \n",
      "dtypes: int64(1), object(11)\n",
      "memory usage: 163.4+ KB\n"
     ]
    }
   ],
   "source": [
    "modern_love_df.info()"
   ]
  },
  {
   "cell_type": "code",
   "execution_count": 14,
   "metadata": {},
   "outputs": [
    {
     "data": {
      "text/plain": [
       "105"
      ]
     },
     "execution_count": 14,
     "metadata": {},
     "output_type": "execute_result"
    }
   ],
   "source": [
    "# see how many articles mention the nytimes in the essay, as this text should be removed\n",
    "\n",
    "len(modern_love_df[modern_love_df.essay.str.contains('nytimes.com|New York Times')])"
   ]
  },
  {
   "cell_type": "code",
   "execution_count": 15,
   "metadata": {},
   "outputs": [],
   "source": [
    "# drop these essays for times' sake (go back to data acquisition stage to remove these paragraphs, time permitting)\n",
    "\n",
    "modern_love_df_rev = modern_love_df[~modern_love_df.essay.str.contains('nytimes.com|New York Times')]"
   ]
  },
  {
   "cell_type": "code",
   "execution_count": 16,
   "metadata": {
    "scrolled": true
   },
   "outputs": [
    {
     "data": {
      "text/plain": [
       "8"
      ]
     },
     "execution_count": 16,
     "metadata": {},
     "output_type": "execute_result"
    }
   ],
   "source": [
    "# see how many articles mention 'This essay is part of a collaborative project with Black History, Continued. We invited readers and renowned writers to respond to the question “What is Black love today?”'\n",
    "\n",
    "len(modern_love_df_rev[modern_love_df_rev.essay.str.contains('collaborative project')])"
   ]
  },
  {
   "cell_type": "code",
   "execution_count": 17,
   "metadata": {},
   "outputs": [
    {
     "data": {
      "text/html": [
       "<div>\n",
       "<style scoped>\n",
       "    .dataframe tbody tr th:only-of-type {\n",
       "        vertical-align: middle;\n",
       "    }\n",
       "\n",
       "    .dataframe tbody tr th {\n",
       "        vertical-align: top;\n",
       "    }\n",
       "\n",
       "    .dataframe thead th {\n",
       "        text-align: right;\n",
       "    }\n",
       "</style>\n",
       "<table border=\"1\" class=\"dataframe\">\n",
       "  <thead>\n",
       "    <tr style=\"text-align: right;\">\n",
       "      <th></th>\n",
       "      <th>url</th>\n",
       "      <th>essay</th>\n",
       "      <th>id</th>\n",
       "      <th>headline</th>\n",
       "      <th>abstract</th>\n",
       "      <th>snippet</th>\n",
       "      <th>lead_paragraph</th>\n",
       "      <th>pub_date</th>\n",
       "      <th>news_desk</th>\n",
       "      <th>section</th>\n",
       "      <th>type_material</th>\n",
       "      <th>word_count</th>\n",
       "    </tr>\n",
       "  </thead>\n",
       "  <tbody>\n",
       "    <tr>\n",
       "      <th>2</th>\n",
       "      <td>https://www.nytimes.com/2022/02/11/style/modern-love-gay-couple.html</td>\n",
       "      <td>This essay is part of a collaborative project with Black History, Continued. We invited readers and renowned writers to respond to the question “What is Black love today?” Peter and I hitched our wagons young. Early 20s. He was wildly handsome, gay, with soulful brown eyes and a head full of loose, unruly curls. Raised by an African American woman and a white preacher man, Peter spent his childhood steeped in the evangelical ministry. He was as terrified of his father’s sermons as he was soothed by his mother’s inclination to administer to the more human aspects of the congregation they both led. The night I met Peter, he and I fell all the way in love. Kismet, you could say. He made me laugh with his very first words. It was my first time at the Nuyorican Poets Cafe, the premier debut joint for every performance poet trying to get onto the New York City poetry scene. I read my first piece on the open mic after the slam. Peter was among the first admirers to make his way through the applauding crowd to tell me I had simultaneously embodied the fury of his father and the vulnerability of his mother — and, as such, I was destined to be one of his true loves. “Only one of?” I asked. “Fate isn’t fixed,” he said, “The gods have to leave room for surprises!” By the time we met in the fall of 1997, Peter’s parents were long divorced. His father had left the church. And Peter was already exploring other truths to believe in. Poetry was his new religion. His poems were long, lyrical and lovingly painted with the impossibly beautiful brushstrokes of utopia. He lived his life with the same energy. He believed in the goodness of people. Once, in the middle of winter in Washington Square Park, I watched him unbutton his coat and drape it across the shoulders of a drunk who had just called him a homophobic slur. I was an ex-Christian and newly out lesbian fleeing the violent homophobia of the late 1990s in Jamaica, still wearing the fury of being attacked by a dozen boys and sexually assaulted in Kingston. I was ashamed and angry that it defined my final year of university. That’s why I moved to New York City on a tourist visa. I needed somewhere safe to call home. But I felt at sea in this new country. I had a few aunts and uncles in New York, but before any of this I had absolutely no relationship with my biological family. My parents had abandoned me — my mother at birth, and my father hadn’t even shown up. And now that I had announced that I was a lesbian, that already distant extended family wanted less to do with me. I was in New York in search of safety. Freedom. And room to explore my budding lesbian identity. I was seeking a tribe to which I could unequivocally belong. And the performance poetry slam scene was a mixture of every kind of misfit. Peter and I fit right in. In no time, it felt as if we had known each other our whole lives. We shared everything: stories, poems, disappointments, hopes. We spent most evenings together. I’d meet him after work and go to whichever cafe was holding a slam competition that night. He knew everything about me: how broke I was, who stole my favorite vibrator, the ex-cop who hit me — how I kept going back to her. Every time. One night, after a particularly bad fight with my abusive partner, my roommate cornered me and told me she was going to raise the rent unless I had sex with her. My tourist visa was almost expired. I had no money except what I won at the slams — and that was barely enough to pay for the couch, ramen noodles and a MetroCard. I had no work permit, so I couldn’t get a job. I couldn’t apply for any services. Without papers I couldn’t even get into a shelter. I told Peter I was going to give up on this crazy dream of freedom in New York to go back to Jamaica. He was quiet while I explained what it meant to be undocumented; I went on about green cards and citizenship and visas and immigration authorities. When I was done talking, he asked me to marry him. When I pushed back, saying such a marriage was illegal and that it might land us in trouble with the law, he said the law was wrong. “You love me, right?” I nodded. “Well, I love you. You love me. I want children. You want children, right?” “Right …” “Well, that is what people do when they love each other and they want to have children together. They get married. And that makes them a family. They can’t have it both ways. And love is love, right?” His argument was sound. If the rules were fair, I would have been able to marry a woman, get citizenship and start a family with her. As it stood in the U.S., that wasn’t allowed. But Peter and I were well within our right to claim the perks of being a couple. We were already partners. He was already my family. We were married at City Hall. Peter’s lover, who was to be our witness, didn’t even show up for the wedding. We had to ask a beautiful man in cowboy boots and a sequined vest to stand in for him. After our very giggly “I dos,” Peter invited me to Thanksgiving dinner with his family. Before the month was out, I moved in with him and his amazing mother, Carole Linda, in the beautiful old house, the one that was once his parents’ church, two blocks from the beach in Far Rockaway. We spent three magical years living together. No one understood the quirky, kooky couple who arrived together, left together, but flirted with everyone in between. We had so much fun together. We were the perfect couple. We knew we’d be the perfect parents. But we were a modern couple. We wanted to be more intentional, more deliberate about our choices than our parents had been. We had more living to do before we took on the responsibilities of children. We didn’t have money, but we had lots of time. We were committed to living first. But at 29 Peter was diagnosed with cancer. Stage 4. He was diagnosed in May. He died on Dec. 16. At 11:30. Half-hour before he would turn 30. I was so furious at him dying, I couldn’t cry. It felt as if all my dreams of family died with him; a partner, children, my willing comrade in the radical redefining of the modern family, modern love. His mother was better at making peace with the heavens over the loss of her firstborn. I was surprised at her ability to remain connected to me. She stayed close, calling, sending Christmas cards, checking in, even as I remained distant, angry, unsure about deserving the magic of the family Peter had so tragically, suddenly, left behind. I grudgingly remained connected to his younger brother, CJ, who reminded me so much of Peter. Except he wasn’t gay, or a poet. He grew up to be a fine filmmaker and the only straight man in the L.G.B.T.Q. alliance in college. We often called each other to reminisce about Peter, to recount the sorcery of him, to bask in the shared memory of his magic. Later, when I became frantic with the desire to start a family — chasing gay men at house parties, begging sperm from strangers on planes — I broke down and wept for what felt like the too-early death of my husband. I didn’t want to be the strange young widow hosting lesbian parties in Crown Heights. I wanted to be the badass lesbian writer, with the flamboyant gay husband, raising four children in a rambling old house that used to be a church, two blocks from the beach in Far Rockaway. In one conversation with CJ, he interrupted to ask if there was a way he could stand in for Peter, by giving me his sperm. A year later, my daughter, Zuri, the most astounding miracle, born a decade after Peter’s death, refers to Peter as her “almost dad.” Carole Linda is still my mother-in-law and my kid’s actual, biological grandmother. Zuri’s “Baba,” CJ, got married last August. Zuri almost passed out from the joy of being asked to be the ring bearer at the wedding. We all traveled from multiple cities to watch them speak the vows. His brothers, their wives, Peter’s grandmother, his father, me, my non-monogamous partner and a beautiful cohort of ordinary folks, misfits, artists, preachers, writers, activists, gay, straight, nonbinary. I looked around the room, thinking if we had had the choice, this is what Peter’s and my wedding would have looked like. Peter would have reveled in it. Some days I still hear Peter’s voice inside my head, rustling in the fall wind, booming in the rush of traffic on the West Side Highway. He’s always whispering, screaming, saying the same thing, “Fate isn’t fixed, Staceyann. There is always some room for the gods to surprise us.”</td>\n",
       "      <td>nyt://article/9bf4e7f6-c4f5-57c7-b77f-5b55736fa99c</td>\n",
       "      <td>The Lesbian Writer and Her Flamboyant Gay Husband</td>\n",
       "      <td>Peter taught me to laugh at fate as we lived our dream. At least for a while.</td>\n",
       "      <td>Peter taught me to laugh at fate as we lived our dream. At least for a while.</td>\n",
       "      <td>This essay is part of a collaborative project with Black History, Continued. We invited readers and renowned writers to respond to the question “What is Black love today?”</td>\n",
       "      <td>2022-02-11</td>\n",
       "      <td>SpecialSections</td>\n",
       "      <td>Style</td>\n",
       "      <td>News</td>\n",
       "      <td>1619</td>\n",
       "    </tr>\n",
       "    <tr>\n",
       "      <th>3</th>\n",
       "      <td>https://www.nytimes.com/2022/02/11/style/modern-love-confidence-self-love.html</td>\n",
       "      <td>This essay is part of a collaborative project with Black History, Continued. We invited readers and renowned writers to respond to the question “What is Black love today?” I’ve spent my whole life looking for similarities between myself and the protagonists in love stories. When I lost my father to prison and my mother’s attention to her double duties as a single parent, I escaped through books in an attempt to reimagine what love could look like. But the couples, usually locked in an embrace on the cover of those “harmless” rags, looked nothing like the people in my house. Abuse ruined the bones of our homes and turned them into rotten structures. My hopes of experiencing romance in the future seemed incompatible with my reality. I had no example of romantic love, not for girls that looked like me, until my cousin, Tiffany. Two years older than me, and seemingly in control of her life, Tiffany became a blueprint; no, a mirror — a way to see myself clearly. She was everything I wanted to be. She garnered attention when she walked into a room: ash brown hair, freckles and a genuine smile. Tiffany was beyond cool, she was fresh; beyond fresh, she was fly; beyond fly, her energy was unmatched. My cousin was my protector, the way an older sister should be. Tiffany taught me love by listening. She let me read her books and sing her songs from my favorite musicals. She joined me at my softball games and would sit next to me on the bench when I played catcher. She gave me tips for getting my crushes’ attention (none of which worked). First place in the oratory contest, she cheered. Solo during choir performance, she tossed a thumbs-up sign from the pew. We were inseparable until she went to high school and left me to fend for myself in those unimaginable middle school bouts of self-doubt. At 15, Tiffany had her first child. A little girl with a light as remarkable as her own, and the temperament of a doe. When she was pregnant, I asked her, “Are you sure?” She smiled and rubbed her belly. And just like that, my purpose was clear: I would have a daughter, too. Tiffany’s Little Light studied everything. Her mouth was an overturned cup spilling sunshine. They were an emerging constellation when they walked into a room together, stars to anybody who drew breath. They became a part of my vision board for maternal love. Do not be fooled, I too received this kind of love from my own mother. But it was so far removed from my teenage psyche, it wasn’t something I could pluck from my memory easily. You know, the way mirrors neglect to reflect what we’ve been conditioned to disbelieve. Despite the judgment of her being too young to raise a baby, Tiffany glowed. She glowed so brightly one could even say it blinded the jealous. And when Tiffany had her third child, she moved from California to find her footing in Baton Rouge. Her relationship with the father of her children, who I would later learn became more obsessed with the idea of owning Tiffany than loving her, was a wake-up call: Love is not transactional. Love is not ownership. Love is simply an act of absolute care. While love is an active verb, sometimes it ain’t enough at all. At 21, I had my daughter with my high school sweetheart. At 23, I left the dissolving relationship for a life that could hold my dreams to secure a future for my daughter. I called Tiffany to tell her the news. She answered, and I could hear her three children playing in the background. Little Light was now the eldest and took her job as protector of her two younger brothers seriously. “Cousin, are you sure?” Tiffany asked me. “Aren’t you scared?” I laughed away whatever fear I was carrying and told her I would be back. That it was just for the summer. But Tiffany knew what I couldn’t see yet. That I would find writing and become the woman of my own dreams. I cloaked myself in Tiffany’s charm and wore it until it became a second skin. This is how I arrived in Bed-Stuy, Brooklyn. I only dated men who called me beautiful. I flirted with anyone who could hold an interesting conversation. I gave love a run for its money because the only thing that truly kept my attention was my daughter’s health and laughter, and my burgeoning career in writing. I carried this new me everywhere: New York City, Poland, Britain and Canada. When the summer became a year, and the year became a decade, I recognized so much of my cousin in the way I carried myself. I loved how I looked to myself in the mirror. I loved how I looked from the reflection in my daughter’s eyes. Like Tiffany, I began to move through rooms easy like the wind, soundless and certain. This feeling stayed with me, from the red steps of our grandparents’ home in West Oakland to the Bed-Stuy stoops that became my sanctuary. At first, before she had her fifth child, Tiffany and I checked in weekly, then monthly, after she had her seventh child. Phone calls became text messages as our lives busied. She was raising eight children on her own and re-establishing herself after finally leaving an abusive relationship. Every other year I would visit, and when I couldn’t be physically present, I sent supportive messages, care packages and invitations for her to visit me on tour. After 15 years of visits dictated by holiday breaks and family reunions, I invited Tiffany to Florida. Tiffany had never been and was on a break from her on-again off-again relationship. I wanted to protect her. I wanted her to see what the world had to offer. She was the very best part of me. She gave me courage. She gave me reassurance. She gave me pep talks. She gave me compliments. Loving and celebrating others was natural for Tiffany. The least I could do was repay her generosity by giving her the space she needed to figure out who she wanted to be. Through Tiffany’s turbulent relationships, and her absolute love for her children, I began to understand what love costs. When she met me in Miami, a place I traveled to for weekends and took for granted, her eyes welled up with tears. I asked, “What’s wrong, cousin?” By the time she could pull herself together, we were walking alongside the beach, our manicured toes leaving kiss-prints on the sand. “I never thought I would get to see the Atlantic Ocean,” she said, tears sliding down her freckled face. “I feel like all I have is my kids. I’ve never traveled and seen the world like you.” I held my breath, terrified by the weight of the moment, but ready to rise to the occasion and remind her what she taught me so many years before. Fairy tales might teach us stories of whimsy, designed to mold single Black women into roles of grateful service before they’ve ever seen the world. It was my turn to show Tiffany that we are in fact an entire world ourselves.</td>\n",
       "      <td>nyt://article/2ce87e3f-5333-5561-ad65-47608e6b8d5f</td>\n",
       "      <td>Beyond Cool, She Was Fly. Her Confidence Gave Me Wings.</td>\n",
       "      <td>I had no example of love, not for girls that looked like me. Until my cousin Tiffany.</td>\n",
       "      <td>I had no example of love, not for girls that looked like me. Until my cousin Tiffany.</td>\n",
       "      <td>This essay is part of a collaborative project with Black History, Continued. We invited readers and renowned writers to respond to the question “What is Black love today?”</td>\n",
       "      <td>2022-02-11</td>\n",
       "      <td>SpecialSections</td>\n",
       "      <td>Style</td>\n",
       "      <td>News</td>\n",
       "      <td>1304</td>\n",
       "    </tr>\n",
       "    <tr>\n",
       "      <th>4</th>\n",
       "      <td>https://www.nytimes.com/2022/02/11/style/modern-love-black-boyfriend-applications.html</td>\n",
       "      <td>This essay is part of a collaborative project with Black History, Continued. We invited readers and renowned writers to respond to the question “What is Black love today?” “I am no longer dating white guys. Nonwhite guys may submit their applications in my DMs.” These words, posted on my Facebook page, marked the beginning of a racial reckoning in my dating life. Some context: It was June 2020. George Floyd had just been murdered. Black people like myself were consumed with rage and were openly airing our grief. On top of that, I was a woman scorned. I was 35 years old, a highly educated Black woman, a homeowner and an attorney, and I had just been rejected by yet another mediocre white guy who then pursued a relationship with a white woman. In short, I was fed up with white people. So one afternoon, I wrote a half-crazed manifesto on my Facebook page. Specifically, I railed against a white society that clearly didn’t see me as white but insisted on rejecting my Blackness because of my appearance (fair-skinned) and upbringing (middle class). White people had called me “not Black” for liking Taylor Swift, told me they were “more Black than me” because they grew up in a predominantly Black neighborhood (or had an especially dark tan), and fetishized my “exoticness” and ethnic ambiguity. I ended my ramblings with the call for applicants. I clicked “post” without thinking. To my amazement, the likes and comments started pouring in. Black people saying that they’d had similar experiences. White allies thanking me and promising to “do the work.” I felt so vindicated. And then this popped up on Facebook Messenger: “Application submitted!” The message was from Josh, whom I went to high school with 18 years earlier in Maryland. He was tall, handsome, smart, funny and successful. And Black. I’d briefly reconnected with him at a bar in Baltimore in 2018 when I was in town for a work conference. We had flirted, but I remembered from Facebook that he’d gotten married, so I flew back to California at the end of the conference with a wistful “what-if” feeling fluttering in my chest. I soon found out through mutual friends that his marriage had ended before we connected, but seeing as we lived 3,000 miles apart, I figured there was no point in trying to pursue anything. But here he was now, reading my manifesto and submitting an actual application to date me. I was gobsmacked. Up to that point, the vast majority of my relationships had been with white men, the predictable result of years spent in a Maryland prep school and at a Massachusetts liberal arts college. In fact, it had become a running joke among my friends and family: If the guy was basic and white, he was my type. But I had never, not once, dated a Black man. And I’ll be honest — I had always felt a kind of shame around that, as though my not dating Black men reflected a deep-seated insecurity with my own Blackness. But here was an eligible Black bachelor offering me a chance at love, and a chance at embracing my Blackness. Josh and I started texting. We had a couple of video calls that were awkward at first but became more natural. I suggested flying out to Baltimore to see him, and he agreed. On the one hand, it seemed wild and reckless, jumping on a plane to visit someone I barely knew. And during a pandemic to boot. On the other, the whole thing felt like something out of a movie. I was flying 3,000 miles to have our “first date.” We packed a lot into that four-day first date. He took me to Baltimore’s National Aquarium. He treated me to dinners and wine. He even took me to a (socially distanced) visit with my grandmother on her birthday. Most of all, we reveled in our Blackness. We danced to hip-hop in his living room — and he could dance, something I had rarely experienced with my white boyfriends. We joked about the endearing quirks of our older Black relatives. We shared stories about being among the few Black people in our respective professional arenas — finance for him; law for me. With him I could openly “speak the language” and not have to explain myself. For the first time in my life, I felt like I could be completely, unapologetically Black with the guy I was dating. Like most first dates, there were uncomfortable moments. Josh was reserved and rarely volunteered information about himself, which meant it was hard to get to know him. And while there was definitely a mutual physical attraction, there was a shyness in Josh that only seemed to fall away with the help of a few drinks. Still, I chalked that up to our still getting to know one another. However, on my last night there, as we gazed at the city lights over the Inner Harbor, he turned to me and said, “You know this isn’t going to work, right?” Completely out of nowhere. I asked him to explain. He said our personalities were too different — I’m outgoing, high-energy and emotional; he’s analytical, quiet and calm. I, both a romantic and a lawyer, attempted to argue my case — “Doesn’t love find a way?” — and he, the realistic, number-crunching one, pointed out the obvious practical hurdles. With the physical distance between us, there was no way to properly date or figure out how we would fit together. My fairy tale seemingly shattered, I started to cry. He seemed sad too, though whether it was because of a mutual feeling of despair or simply uneasiness at my tears, I couldn’t tell. The next morning he drove me to the airport and I asked him to visit me in California. He gave a noncommittal answer. I left wondering if I would ever see him again. Turns out, I would. A few weeks after my Maryland trip, Josh asked to visit me in California. I was thrilled. I convinced myself that he wanted to visit California to see if he could make a home here with me. I planned a day trip to Napa. I borrowed my neighbor’s bike for Josh so we could tool around town together in true Californian style. I proudly showed him off to my friends, took him to my favorite local haunts, and tried my hardest to prove how great we could be together, the perfect Black power couple. Still, we weren’t quite clicking. Josh wasn’t entirely on board with my carefree Cali style. When we biked to the river on a hot day, I eagerly stripped down to splash around in the cool water, but he refused. When we strolled the sidewalks of downtown Napa, I reached out to intertwine my fingers with his, and he shook my hand off — turns out he wasn’t a fan of P.D.A. And the reservedness I had witnessed in Baltimore persisted. I tried to ask him questions about his family, of whom he seldom spoke. He demurred: “That’s personal.” As someone who had always been an open book, I was frustrated. When I drove him to the airport at the end of the visit, I had a hollow feeling. Why weren’t we clicking when we were perfect for each other, at least on paper: same hometown, same education, same career-driven lives, and most importantly (or so I thought), same race? How was this not kismet? It all came to a head in the spring of 2021. Josh invited me to Baltimore for the Preakness, an annual horse race and social event. But a disagreement over a coffee maker before I arrived — he didn’t own one, and for reasons I couldn’t fathom, didn’t want to have one on hand for my visits — pushed me over the edge. I said, “If you can’t even keep a coffee maker for me, it’s obvious you don’t care enough for me to fly 3,000 miles to see you.” To my horror, he didn’t argue. I said I wasn’t coming, and he didn’t try to change my mind. And that was it. What the hell had just happened? How did my lofty dreams fall so flat? Did I really fly to Maryland, and him to California — during a pandemic — for nothing more than a booty call? Over time, I realized my attachment to Josh was more intellectual than emotional. I had tried to make him — kind and well-meaning, but unable to match my spirit or provide me the emotional connection I wanted — into my perfect boyfriend, because he was Black. Josh represented the first time I naïvely attached my worth as a Black person to the success of my relationship with a Black man. But dating a Black man will not make me more Black, just as dating a white man won’t make me less Black. I am Black, period.  Regardless of the race or ethnicity of my next boyfriend, at least I’ll know one thing: Whoever loves me next must love all of me.</td>\n",
       "      <td>nyt://article/595d2c38-f78c-5aae-8b2c-4730e868637e</td>\n",
       "      <td>Accepting Applications for a Black Boyfriend</td>\n",
       "      <td>After a lifetime of dating white men, I hoped a new romance could offer a chance at love, and at embracing my own Blackness.</td>\n",
       "      <td>After a lifetime of dating white men, I hoped a new romance could offer a chance at love, and at embracing my own Blackness.</td>\n",
       "      <td>This essay is part of a collaborative project with Black History, Continued. We invited readers and renowned writers to respond to the question “What is Black love today?”</td>\n",
       "      <td>2022-02-11</td>\n",
       "      <td>SpecialSections</td>\n",
       "      <td>Style</td>\n",
       "      <td>News</td>\n",
       "      <td>1580</td>\n",
       "    </tr>\n",
       "    <tr>\n",
       "      <th>5</th>\n",
       "      <td>https://www.nytimes.com/2022/02/11/style/modern-love-queer-dating-open-relationship.html</td>\n",
       "      <td>This essay is part of a collaborative project with Black History, Continued. We invited readers and renowned writers to respond to the question “What is Black love today?” I’ve always been wary of sports, competition and falling in love. So growing up, I avoided all three. As a kid, I would shrug when “accidentally” letting goals into the net from the opposing team. I would walk slowly behind everyone else on the basketball court as they ran from end to end. My mother eventually stopped asking if I was interested in signing up for extracurriculars and my friends came to understand my lack of interest in playing board games, card games, drinking games or anything that required competing for the title winner. I was even able to avoid acting on romantic feelings for a long time but with age I let up slightly. After an indecisive football player, a shady basketball player, and a club bouncer who was as bad at kissing as he was at his job, I decided I had made a mistake opening myself up, and convinced myself that the real issue was vulnerability. I would no longer be attaching any emotional investments to my sexual partners. I never bothered to be competitive or to fall in love because I didn’t care to win. I met him on HER, a dating app for queer women and gender diverse people. He had long brown dreadlocks with subtle hints of blond and a promising smile. There was something about him that told me he would be the exact kind of fun I was looking for. He approached me with a smooth pickup line, and I responded with something much less cool. Before I could give it much thought he told me that he was assigned female at birth and had transitioned to live his life in the gender that was most authentic to him. “So, what are you looking for?” I said. “Well, I’m in an open relationship. So I’m not anticipating anything too serious,” he responded, adding that he and his partner were engaged to be married. My friends wanted to know how someone could be committed to a partner while pursuing other relationships. I didn’t blame them: the idea of a relationship where both partners agree to seeing other people while being together isn’t something that most learn about in “the birds and the bees” conversation. My immediate reaction when I learned he was in an open relationship was relief. I would have fun with no emotional responsibility. They were deeply in love and had a strong foundation on which their love was built. They knew that marriage was the ultimate goal of their relationship, and had its benefits both legally and personally, but they also knew that, in order to meet both of their physical and emotional needs, their marriage would need to be unconventional — which, in this case, meant leaving the door open for other intimate possibilities. What neither of us expected was the fast progression of our feelings. I started wondering more about when he’d see his fiancé next. He wanted details about the dates I went on. We both grew possessive as our unanticipated love bloomed. We began feeling entitled to each other. Yet, while my insecurity grew more obvious, he managed to mostly keep his casual demeanor. And of course he could. He always went home to the loving arms of his partner, and I always went home to thoughts of a lover that I couldn’t truly call my own. We were everything I vowed to never be: very vulnerable, and very corny. “You hang up first,” he’d say. “No, you!” I’d say, my naturally deep voice suddenly sounding prepubescent. We were inseparable. Soaking ourselves in wet kisses on the Toronto Transit Commission as if no one was around and feeding each other street meat on the corner of Church and Wellesley. Here I was, never having been intrigued by competition, but suddenly up to the challenge of convincing him that I was worthy of being his only one. I tried to appear unfazed by the uncertainty of our relationship, but with each passing day I could feel my nonchalant facade peeling away. I knew it wouldn’t take long before I had nothing left to hide behind. One evening, we joined our mutual friends for a night out. I had high hopes that the loud music and many shots of tequila would drown out the unanswered questions of our relationship. The dim club lights and the drink intensified the moment and when he and our friend began dancing with each other, I felt justified in my rage. Watching them dance — two Caribbeans sharing a strictly platonic love language of slow whining and good drinks — amplified everything that threatened our life together as a couple: my fear of losing him and not being able to do anything about it. It was then that I knew we couldn’t return to our no-strings-attached deal. I wanted to take away the love he reserved for his fiancé and keep it for myself (which is the exact antithesis of an open relationship). Here was this person who was sent to me through a dating app that hosts mostly nude pictures. Here, somehow, I met someone whose presence soothed me, and he had chosen to devote himself to someone else. Someone who had known the smell of his collar and the softness of his lips long before I even knew he existed. Nothing about that felt fair. I spent that night preparing for the curtain call on our love story. And though we continued to date for weeks afterward, that moment was a clear shift in our relationship. An obvious flag that this “casual thing” had gone too far. Our relationship came to an unavoidable end; I needed more and he knew he couldn’t give that to me. As I reflected on us, I realized that I was in competition with no one but myself. I assumed that “winning” in this situation meant we would abandon the concept of non-monogamy altogether and walk off into a sunset hand-in-hand. Just the two of us. But the open relationship wasn’t the problem. The problem was the strange expectation for Black women to be in competition with each other, even if they are unaware of it. And the even stranger expectation for Black queer relationships to still fit enough into the confines of heteronormativity to make other people comfortable. The normalization of heterosexuality has been so insidious in my life through the consumption of media, education, and social assumptions and attitudes, that even as a queer woman in love with a trans man, I still questioned the validity of our non-monogamy. I had to learn to quiet the noise of heteronormativity; the idea that being in love can only look one way for it to be valid. That intimacy can only include two people. That there needs to be competition in order to receive the love we deserve. Black folks have been queering the family dynamic for as long as we have existed in this world. We’ve had stepparents who have loved us like they made us from scratch. We’ve promoted any friendship that has lasted over five years to that’s my cousin status. I have half-siblings that I’ve only ever referred to as whole. The words “half-sibling” were treated as if they were illegal in my household; my parents constantly reminded us that the small, and scientific details of our family weren’t important. When my sister’s mom passed away and my aunt raised her, she called her auntie-mommy. We never questioned that. It never required an explanation. There has never been anything nuclear about any Black family dynamic I’ve ever known, so why did I villainize, and — in my own mind — compete with a Black woman who loved herself, and her fiancé enough to encourage him to share his love with me? Possibly, all along, I was never scared of competition or losing, but instead, as a Black woman, I couldn’t fathom the idea that, contrary to popular belief, love doesn’t actually require competition. Everyone can feel worthy. It was because of the open relationship with my engaged lover that I was able to say yes to a date with the next person I would go on to fall deeply in love with. Our non-monogamous ways gave me the freedom to explore other relationships openly. He went on to marry his fiancé and we have managed to remain friends. In our choice to smoothly transition from romantic to platonic, we stuck up a subliminal middle finger to a world where relationships between Black women — especially when there is a man in the middle — are so often reduced to the notion that there is only ever enough love for one of us. Open relationships are far from a means for competition, they are an embodiment of love unable to be confined. They have the ability to bring together a small-town, awkward Black girl and a cool island boy with effortless swagger, and somehow allow them to exist together in the Toronto summer heat, exiting their romance more filled with love than they found each other.</td>\n",
       "      <td>nyt://article/aa4266c4-81b5-5807-852b-95dbf7d9cd56</td>\n",
       "      <td>Love Isn’t a Zero-Sum Game</td>\n",
       "      <td>I thought the open relationship was the problem. But it was me.</td>\n",
       "      <td>I thought the open relationship was the problem. But it was me.</td>\n",
       "      <td>This essay is part of a collaborative project with Black History, Continued. We invited readers and renowned writers to respond to the question “What is Black love today?”</td>\n",
       "      <td>2022-02-11</td>\n",
       "      <td>SpecialSections</td>\n",
       "      <td>Style</td>\n",
       "      <td>News</td>\n",
       "      <td>1627</td>\n",
       "    </tr>\n",
       "    <tr>\n",
       "      <th>7</th>\n",
       "      <td>https://www.nytimes.com/2022/02/11/style/modern-love-bond-father.html</td>\n",
       "      <td>This essay is part of a collaborative project with Black History, Continued. We invited readers and renowned writers to respond to the question “What is Black love today?” I was trying to think about the first time I met my godfather, but that would be like asking me to remember the first time I met my mother. From the time my brain was able to hold memories, my Uncle Ronnie was there. He had been my mother’s best friend since she was in college (maybe even longer — I was never clear on their exact origin story) and was an unwavering pillar in the tribe that raised me in the absence of my biological father. As a child I didn’t understand the depths of what I was witnessing between him and my mother, but now, at 34, with my own best friends whom I’ve known since college, I have a deep appreciation for how special their bond was. How healing it was. They weren’t just besties: They were siblings. My mom asking Ronnie to don the title of my godfather was truly just a formality. I belonged to him before we ever met. In second grade, I had to do a family tree project. My classmates and I were each handed an illustration of a big tree that had labels for us to fill in. At the bottom of the tree was a space for me to write my name and above it were two spaces — one for my mother and one for my father — and then above those were spaces for my maternal and paternal grandparents. Our assignment was to work with our parents to fill in the names on the tree and write a mini report. My 7-year-old brain stared at the paper with confusion. I didn’t know my father’s name. I’d never really thought much about having a dad. When I got home, all four feet of me cornered my statuesque Caribbean mother in the kitchen of our Queens home and asked, “Do I have a father?” She looked at me, a bit stunned, and took a breath before she said, “Of course you do.” In my high-pitched voice, I shot back, “Then where is he?” She looked at me for a moment as though searching for the answer. “Your father lives with his family.” It was a concept too big for me to fully understand. “Aren’t we his family?” I asked. Before my mother could respond, I asked the question that I think every single parent dreads: “Does he not love me?” My mother crouched in front of me, took my small hands into hers. “Your father is a good man,” she said. I softened a bit, and she continued: “I loved him because he was such a good man. He was so smart, talented and charming. Everybody loved him. And you remind me of him.” Somehow, hearing I was like him was enough. For the moment. But periodically his absence would feel unbearable. Father’s Day, parent-teacher conferences and school sporting events were always the hardest. As a child of the ’90s, I clung to Carl Winslow from “Family Matters,” fantasizing about having a man in my house who would impart words of wisdom, dish out compassionate discipline and look at me with pride. There was a very “blood is thicker than water” energy about my yearning — a notion that my biological father and I would have an inexplicable bond that would heal all my wounds. He would be a compass that would point my life in the right direction and guide me effortlessly into Black manhood. But no matter how hard I prayed to God or how many letters I wrote to Santa at Christmas, my father never appeared. Uncle Ronnie, however, always did. He had golden brown skin, and though his marathon runner’s body rendered him smaller than most of the men I was related to, he was strong. He was innately kind but could read you for filth with just a look, and, like me, he loved to laugh. Not only did he attend school plays, piano recitals, basketball games, track meets, even church once or twice, but he was also the one who would drive me to and from those events. Whenever I copped an attitude, he knew how to put a smile on my face. He would scoop me up and take me to museums or the playground or the flea market, teaching me how to pick out quality art and furniture pieces. He would take me to bougie restaurants in Manhattan so that I’d be exposed to different cuisines and fine dining; he’d take me to McDonald’s because he knew, ultimately, that it was my favorite. And if those things didn’t have me beaming, he resorted to my most hated tactic: becoming an insatiable tickle monster, stopping only when there were tears of laughter streaming down my face. He was also the only person that never questioned my effeminate nature. Others would demand that I “man up” and not be so “girly” in my demeanor or interests. Uncle Ronnie, however, owned a hair salon and was the only man I knew who used words like “fabulous” and “honey.” He never tried to stomp out my innate softness; instead, he quietly nurtured it. He encouraged it by laughing at my impressions of Cher. He protected it by giving me my first summer job as a receptionist at the salon. He honored it by having my signed Destiny’s Child poster framed, saying that they were to me what the Supremes had been to him. Shortly after I graduated from college at 21, my mother and Uncle Ronnie had a big falling out. I won’t share the private details of their discord, but I can tell you my mother came to me and plainly told me what happened. Uncle Ronnie did the same. Both had a different experience of the situation, and my Uncle Ronnie in particular expressed being hurt. I had never known them to disagree on anything, let alone have a fight, so I wasn’t used to being in the middle. But based on my understanding of parental fights from those ’90s TV shows, the child always picks a side. Since Uncle Ronnie was my godfather and not my biological father, my choice was clear: Blood is thicker than water. I chose my mother and stopped reaching out to my godfather. At 25, I was working for a fitness company called Flywheel Sports. Our flagship studio at the time was in the Flatiron district in Manhattan. I would often teach 7 a.m., 8 a.m. and 9 a.m. classes, which meant, before my afternoon sessions, I would have what we instructors referred to as “second breakfast” — too early for lunch, but still a full meal because I always ate before my classes and needed even more food after. As I was walking to the Starbucks around the corner, still sweating in my company-branded tank top and shorts, I switched my phone off airplane mode. The first notification to pop up was a voice mail message from Uncle Ronnie. I hadn’t spoken to him in four years. I stopped on the sidewalk, my stomach growling but my voracious heartbeat drowning it out, and pressed play. “Brandon, it’s your godfather. This is getting ridiculous. Now cut the shit and call me.” As I pulled the phone from my ear, I could feel my hand shaking. He was angry. And rightfully so — his falling out was with my mother, not me. “I’ll call him back,” I thought. “I have to call him back. I will call him back.” My stomach rumbled, and I was reminded of my usual routine. I walked into Starbucks and continued my day. I didn’t call him back. A few months later — on Nov. 1, 2013, to be exact — I got a voice mail message from my mother. “Hey Bran, I’m calling because Uncle Ronnie died today.” I don’t remember the rest of it because an enormous wave of shock ran through my veins. Then, deep guilt. To this day I don’t know if he knew then that he was on his final trip around the sun, but of course I wonder if that’s why he called. If he was trying to tell me. I didn’t attend his funeral, which took place in Delaware, where he was from originally. After my grandmother’s homegoing only three years earlier, I couldn’t bring myself to experience that again. I also felt too much shame. As a second grader, I had been embarrassed of not having a father. Now, I was faced with the devastating reality that I did in fact have one and didn’t treasure him. And now he was gone. A little over eight years later — which also happens to be the length of time I’ve been in therapy — I can see the undeniable imprint his life made on mine. I may not have resembled Uncle Ronnie physically — my skin darker, my face rounder, my frame bigger — but there are few words I love more than “fabulous” and “honey.” Few things I love more than art and furniture. Few places I love more than a bougie restaurant. Few sensations I miss more than his insatiable tickle monster. We may not have been blood, but I belonged to him before we ever met. And though I may not deserve it, he still manages to be my life’s compass. He still manages to be my father. I may have lost him, but I’ll always be his son.</td>\n",
       "      <td>nyt://article/4b9b1bc6-5339-5e25-9331-0fad905c0fc3</td>\n",
       "      <td>Our Bond Was Thicker Than Blood</td>\n",
       "      <td>No matter how hard I prayed, my father never appeared. But my godfather always did.</td>\n",
       "      <td>No matter how hard I prayed, my father never appeared. But my godfather always did.</td>\n",
       "      <td>This essay is part of a collaborative project with Black History, Continued. We invited readers and renowned writers to respond to the question “What is Black love today?”</td>\n",
       "      <td>2022-02-11</td>\n",
       "      <td>SpecialSections</td>\n",
       "      <td>Style</td>\n",
       "      <td>News</td>\n",
       "      <td>1683</td>\n",
       "    </tr>\n",
       "    <tr>\n",
       "      <th>8</th>\n",
       "      <td>https://www.nytimes.com/2022/02/11/style/modern-love-black-boys.html</td>\n",
       "      <td>This essay is part of a collaborative project with Black History, Continued. We invited readers and renowned writers to respond to the question “What is Black love today?” Two summers before Mary J. Blige crooned soulfully about searching for a “Real Love,” I found mine. I was 11 years old.  I haven’t seen him since, and I have no idea where he is now, so for our purposes I’ll use his initial: L. In the summer of 1989, my family had moved to South Jamaica, Queens, and a year later L. and his mother moved into a house across the street.  He rode into my life doing tricks on the wheels of a BMX bike accented with a checkerboard frame and handlebar grips. I had a bike, too, but I never tried the tricks that L. did. I was not that kind of boy. I was more apt to read my mother’s romance novels or spend all day during school breaks watching soap operas. I was the kind of boy more likely to fall in love than to fall off a bike. I was sitting on the porch reading a romance novel when L. turned the corner. He rode his bike over to me, standing on the bike’s pedals, towering over me as I read. “You want to ride with me?” he asked. “Uh, OK. Let me put this in the house,” I said, stumbling to my feet. Minutes later we were riding our bikes side by side. For boys like us — Black boys whose worlds could at once seem large and daunting and at the same time feel small and constricting — mounting our bikes and going beyond our immediate neighborhood was a freedom ride. That first ride, taken amid the promise of a New York springtime, turned into dozens of rides. We began to spend time together outside of bike riding. We pooled our allowances and went to the bodega to fill up brown paper bags with Now &amp; Laters, Lemonheads, Boston Baked Beans and penny candy to share as we played with my Ninja Turtles action figures. As summer ended and the day when school would begin drew near (a year when I would start the fifth grade and L. would start the sixth) I felt real sadness. My stomach was upset. “Did I eat too many sweets?” I thought. It was then that I remembered other people felt this way: the characters in those romance novels and soaps.  Almost immediately my stomach was set right because I realized the answer was simple. I liked L. every bit as much as my favorite soap heroine, Erica Kane, loved each and every one of her husbands. “I like you,” I told him. “I like you, too,” he replied. “No, I like you, like you,” I said. “OK fool. I know,” he said. We stared at each other for a second before going back to playing with our action figures, until my aunt said it was time for dinner. During the last days of summer, he and I hung out as always. The night before the first day of school, he said, “I want to give you something.” He reached into his pocket and pulled out a ring, his mother’s. It was gold with a medium-size amber stone in an oval basket setting. The ring was so tiny that even as a child, though a chubby one, I could fit it only on my pinkie. The next day he and I walked to school together. Once at school we went to our different classes but I was still wearing the ring. That whole morning I played with it, waiting for lunch and recess. This would be the next time we’d see each other. I got my lunch tray and sat down to eat, spotting L. in the sixth-grade section. I waved at him from across the room. He smiled widely, just enough to expose a chipped left incisor, and he gave me a soldier’s salute and sat down. I smiled and turned to my lunch. As I picked up my spork to eat, I looked at the ring on my left pinkie and began to daydream of our beautiful summer together. My daydream was interrupted by the voice of a classmate, the school gossip. She was an adolescent Black Barbara Walters, full of questions. Once she set her sights on you there was no escape. “Ooooh, that’s so niiiiiice,” she said, pointing to the ring. “Is that your mom’s ring?” “No.” I said. With her it was best to keep it short. “Whose is it? Where did you get it from?” she asked.  I told her who had given it to me. “Oh, in sixth grade? That’s why you waved at him. Is he your boyfriend?” “Yes,” I said. “Ooooh, that’s so sweet. Boys liking boys,” she said, rolling her eyes and walking away. I smirked triumphantly, believing she must be jealous. It never occurred to me that she might roll her eyes for any other reason. After school, I waited to walk home with him but he never showed. Nor was he on the stoop of his house when I reached our street. I ran in to my house, did my homework lightning fast and changed into my play clothes. I ran to L.’s house and knocked on the door. No answer. I sat on his steps and waited. About fifteen minutes passed before I heard footsteps from inside the house. I jumped up; it was him. I smiled and said, “Want to ride?” But he did not smile back. Before I could ask what was wrong, he punched me in the eye.  My head was spinning, but I managed to steady myself and say, “Why’d you?!?” as he ran toward me. I thought, for a moment, that he was coming to help me, but instead he hit me again. At that point, I did the only thing that made sense to me: I hit him back. Suddenly we were in the street, fighting like strangers. “Aunt Lorry!” my cousin screamed. “They’re out here fighting!” Within seconds my aunt ran toward us to pull us apart. “What happened? I thought y’all were friends,” she said as soon as she and I were in the house. I couldn’t even speak. “Eric! What happened?” Still nothing. Then finally, “I thought he liked me,” I said, looking at the ground. “He said he liked me.” I burst into tears, a full-on ugly cry. “Oh, Eric,” Aunt Lorry said, as she hugged me and let me sob into her chest. For days, L. and I didn’t see each other. Then another one of my cousins, also in our school’s sixth grade, told us that she had a new boyfriend.  “Who is it?” someone asked.  She said his name. “You know, from across the street.”  I walked off quietly.  Heartbreak, combined with confusion and anger form a very specific pain. Add in guilt and my despair was all consuming. I felt guilty because, as I tried to make sense of everything, I recalled my gossipy classmate’s eyes rolling and her toothless grin as she walked away from our conversation. I remembered seeing that same grin in other instances. It was not a nice grin at all. It was “nice-nasty,” as my Mama would say. I had given people a way to be “nice nasty” to L., and this must have hurt him. I sat the rest of the day in my room staring at the ring. That evening, I walked across the street to his house. I dropped the ring through the door’s mail slot. I immediately heard footsteps inside so I ran back to my house, closing my door just as I saw L.’s mother open her door and look around, holding the ring in her hand. Two months later, in November, I sat on the steps reading a book when a van pulled up in front of L.’s house. Within minutes, his mother was putting boxes in the trunk of the van. It took a minute to register that L. and his mother were moving. By the time it was clear to me, L. was walking down the stairs. As he went to get into the van, we made eye contact for the first time in what felt like a lifetime. He smiled, wide enough to expose that chipped left incisor, saluted me like a soldier again, got in the van and they drove away. After everything, L. exited my life as abruptly as he’d entered it. I never saw or spoke with him again. Because of him, I have come to know that love is never apolitical, even in adolescence. Love only works if all involved are accountable to that proposition. As Black boys we lived in a world that did not let us love ourselves, let alone have space to love each other.  But I still cherish the innocent and honest moments when we were just two boys who like liked each other, before the world came in and pulled us apart.</td>\n",
       "      <td>nyt://article/a0bdb2ff-72ff-5f97-b3de-9133847a8ac7</td>\n",
       "      <td>Two Boys on Bicycles, Falling in Love</td>\n",
       "      <td>He gave me a ring. He also punched me in the eye. I learned a lot that summer about how “nice-nasty” the world can be.</td>\n",
       "      <td>He gave me a ring. He also punched me in the eye. I learned a lot that summer about how “nice-nasty” the world can be.</td>\n",
       "      <td>This essay is part of a collaborative project with Black History, Continued. We invited readers and renowned writers to respond to the question “What is Black love today?”</td>\n",
       "      <td>2022-02-11</td>\n",
       "      <td>SpecialSections</td>\n",
       "      <td>Style</td>\n",
       "      <td>News</td>\n",
       "      <td>1561</td>\n",
       "    </tr>\n",
       "    <tr>\n",
       "      <th>9</th>\n",
       "      <td>https://www.nytimes.com/2022/02/11/style/modern-love-healer-heartbreak.html</td>\n",
       "      <td>This essay is part of a collaborative project with Black History, Continued. We invited readers and renowned writers to respond to the question “What is Black love today?” A few days before my last day at my job administering a college scholarship program, I’d received an email from someone named Dani. I’d contacted her to make an appointment, but she never showed. On my last day, as I did one final skim through my emails, I stopped at hers again. I zoomed in on her Outlook profile picture. Half of her hair fell in a cascade of locks the color of honey, while the rest faded into skin the same color as her eyes. Her smile was irresistible. Just past noon, I headed out to lunch, locking my computer and opening my office door to leave. And there she was. She wore a black baseball hat pulled down just above her eyes, a floral button-up shirt and Vans, with a skateboard tucked under her arm. I watched as she investigated the posters on my office walls, the books on my shelf and the pictures on my desk. She had an energy that pulled at me like a bad habit. “Is this your sister?” she asked, pointing to a picture of me and my partner sitting on a bench holding hands. I couldn’t tell if she was serious or not. “No, that’s my partner.” “Oh, how long have y’all been together?” “A little over two years.” “Humph.” She sat down and I tried to dive into the reason she’d come to visit me, but all her questions were about my personal life: Where are you from? How is it that we never ran into each other on campus before today? What do you do outside of work? I told her I was a poet, and we started vibing about the monthly Slam event we both had connections to. I tried to let her know I’d be at the Slam later that night without it sounding like an invitation. She simply nodded. That night, as it snowed like the entire season decided to happen all at once, I got dressed for the event then went downstairs to find my partner sitting on the couch, playing Xbox. “You sure you don’t want to go?” I asked on my way out the door. Her eyes remained locked on the TV. “Have a good time and be careful driving.” About an hour into the event, Dani walked in. She hugged me and took the seat next to me. On my way up to the mic, I could feel her eyes follow me. My voice and hands shook as I asked the audience for grace since I hadn’t performed in a couple of years. I looked straight ahead and in my direct line of sight was Dani, urging me on. Later, she took the stage. Unlike every other artist that night, she performed without the mic. I had never heard anyone the way I heard her that night. And I could tell she knew it. I met up with Dani at a coffee shop the following week. I told her all about the things in my relationship that were making me unhappy. As we sat across from each other, her eyes reached for the parts of me that she knew weren’t seen very often. Coffee shops became our thing after that. I’d arrive and she’d be waiting for me with my drink already ordered and her hands and heart out for me to rest my sadness in. Things were getting worse at home. My partner was emotionally absent; Dani was always there to listen. My partner hardly ever said she loved me; Dani told me I deserved to be loved. The more my partner abandoned me, the more Dani became necessary. This was dangerous for us both because I had no intention of leaving my partner. I was married to the idea of her, and of us: of our history, our house and our potential for future children. The promise of all that still seemed more realistic to me than running off with a woman who’d just come into my life out of nowhere. Dani had mentioned to me she was a healer and, about a year after we met, I told her about a longstanding pain in my uterus that had recently gone from tolerable to unbearable. My doctor always said I just had a treacherous menstrual cycle — nothing to worry about. Dani invited me to her apartment for a second opinion. Her living room was full of plants and golden light that seeped in from the setting sun. I lay on her yoga mat while she lit white sage and Palo Santo, tracing my body with the smoke. She held my hand and asked me to trust her. I watched as she closed her eyes and rubbed her hands together, placing her palms on my belly. When she opened her eyes, she told me to revisit my doctor and to ask about uterine fibroids. I went back to my doctor the following week and asked her to check for fibroids. After she scheduled an ultrasound and did a proper exam, she identified my fibroids, some of which were the size of tennis balls. Dani had been right. I fell in love with her at that moment of diagnosis. I’d been stuck chasing a fantasy version of my relationship but Dani was the one who made me feel real and alive. Yet I still couldn’t leave my relationship. I’d taken too long to wake up. Before she left my life, Dani sat with me in the middle of her floor, my hands resting in hers. She told me that I was her favorite person and that she just wanted to love me the way I deserved but she knew I still loved my partner too much to leave her. She told me that she couldn’t keep breaking her own heart even if it meant helping me to mend mine. Shortly after that, she was gone. I eventually moved out and left my partner, who honestly seemed happy to have the out. As I sit here now, feeling more alone than ever before, I wonder why the love I had that was painful had such a strong hold on me, while the love Dani offered that was healing was the one I kept at bay. My surgery to remove the fibroids from my uterus is now just a few weeks away. I realize that, when Dani left my life, the magic I was coming to know went with her. I’m still not sure how I will heal without it.</td>\n",
       "      <td>nyt://article/d13c8194-7a13-583a-ab4b-d109f8463190</td>\n",
       "      <td>She Wouldn’t Break Her Heart to Mend Mine</td>\n",
       "      <td>She was a healer, but was I ready to be fixed?</td>\n",
       "      <td>She was a healer, but was I ready to be fixed?</td>\n",
       "      <td>This essay is part of a collaborative project with Black History, Continued. We invited readers and renowned writers to respond to the question “What is Black love today?”</td>\n",
       "      <td>2022-02-11</td>\n",
       "      <td>SpecialSections</td>\n",
       "      <td>Style</td>\n",
       "      <td>News</td>\n",
       "      <td>1183</td>\n",
       "    </tr>\n",
       "    <tr>\n",
       "      <th>10</th>\n",
       "      <td>https://www.nytimes.com/2022/02/11/style/modern-love-teeth-smile.html</td>\n",
       "      <td>This essay is part of a collaborative project with Black History, Continued. We invited readers and renowned writers to respond to the question “What is Black love today?” I met her the way it felt like most people met in 2006. Which means we met on Myspace. Its search function allowed you to filter for gender (female), age (22-28), location (within 25 miles of 15232) and race (Black). I was 27, newly single and aggressively broke. So browsing curated thumbnails from my bedroom was better than the club. She checked all my boxes. Fine. Witty. Active. Single. Age-appropriate. Not too crunchy or churchy. Enough of a sense of humor to think I’m funny, which is all that really mattered. And, most important, had shared enough information on her profile that I could craft a DM to prove I’d read it. “Finally, someone else who thought Val Kilmer was the best Batman.” She replied 20 minutes later — “He was the best Elvis too!” — proving she’d read my profile (I’d listed “True Romance” as one of my favorite movies). I waited 15 minutes to write back. Couldn’t seem too thirsty. She possessed no such need for performative coolness and wrote back immediately. Four hours and dozens of jokes, vets and flirts later, we agreed to meet at Barnes &amp; Noble at 7 the next evening. I rolled up at 6:50. She was already there. It reminded me of that diner scene in “Goodfellas,” where Jimmy arrives so early to meet Henry that Henry deduces that Jimmy planned to kill him. I didn’t think she wanted me dead, so this was good news. In person she was everything she was online, but 3 percent better. The conversation was easy, like water. Not even like solid water, but like walking through a gentle drizzle. We drank tea, we browsed books, we played footsie. It was the third best first date I’d ever been on. It was a Monday. We made soft plans to kick it that weekend. Maybe a movie. Maybe food. Maybe more. I called Wednesday to confirm. Voice mail. Hmm. The next morning, she texted back. “Hey homie! It’s been a crazy week. Rain check for this weekend, but let’s try again soon!” In movies sometimes it takes a character a few more interactions like this to get the hint — a montage of unreturned texts and indisputably platonic voice mail messages as they pace hallways and make sad faces in car mirrors. This was not that. If the day-later text as a response to my call was a sign, the “Hey homie!” was a flashing neon billboard. I was disappointed, sure. But mostly just confused. I’d been on enough first dates to know when things were going well enough to warrant a second. This had felt like that. We remained friendly (and still are). Or whatever you call the Tilt-a-Whirl of communication when you text someone Thursday afternoon, and they reply Sunday evening, and you reply Wednesday morning. But even though I had moved on, I was still curious about what had caused her to shift from hot to cold so quickly. And then, a month or so after our date, she posted one of those rapid response questionnaires to her profile. “Fav food? Tacos! Fav artist? Aaliyah!” As I scrolled down, I found my answer. “Dealmaker? GREAT SMILE! Dealbreaker? BAD TEETH!” When I was 11, and had just moved with my parents to East Lib, Pittsburgh, this brazen stubby white boy started calling me “Beaver” because of my slightly bucked teeth and perpetual overbite, and that nickname stuck. (People who know me from then still know me as “Beav.”) By the time I reached high school and the rest of my face began to match my front teeth, a gap formed between them. Between the gap and the overbite, my teeth did the thing that happens when misaligned entities repeatedly crash into each other. Some grinded, some eroded, some sharpened, some separated from each other — slowly, but decisively, like my mouth was Pangea. (And then, while playing pickup basketball in 2005, an accidental elbow to the grill shifted one of them, closing the front gap by a millimeter or so but also leaving that tooth slightly crooked.) I cannot recall a time when my teeth were not in need of drastic correction. Specifically, I cannot recall a time when I felt like my teeth were not in need of drastic correction — a feeling that lurked around and eventually consumed me because the world kept reminding me. Cartoons distinguished villains by giving them exaggerated or missing choppers. In movies, if you had noticeably bad teeth, you could be a goblin. Or a dope fiend. Or a Mississippian cannibal. If lucky, you could be the “not hot” dweeb who, by the third act, Frisbees their braces off and becomes Halle Berry. In real life, if I were roasted by friends or heckled by crowds during away games, my teeth were usually the target. I remember how I felt when first clocking my date in the Barnes &amp; Noble that night. She was sitting at one of those tiny and wobbly circular tables and smiled at me as I approached. I started to smile back, but then I felt like I’d just entered a room to take an exam I’d forgotten to study for. She’d seen all of the pictures on my profile. Her wanting to meet so quickly was an indicator of her enthusiastic approval of them. I was also at least five inches taller than her, which I know is a concern that women who meet men over the internet sometimes have. But she hadn’t seen my teeth. The pictures on my profile captured the range of possible looks I could have without revealing them — smirking during a wedding toast, holding my infant cousin and squinting at her, so close to the camera’s flash that all you saw in my mouth was an indistinguishable white. A gallery curated to hide what I believed needed to be hidden. I was a toothfish. She’d have to see my teeth eventually though. A relationship can’t blossom if one of the people in it only opens their mouth when their partner blinks. So I decided to open-mouth smile back. There are infinite possible reasons she could’ve decided that night that I was cool enough to be cool with, but not attractive enough to be more with. First dates are when you’re supposed to be discerning and particular. Which is a nice way of saying petty. And the gap between my front teeth is just one line in that poem. But I also know enough Black women interested in Black men to know that the symmetrical contrast of straight bright whites against deep brown skin is a thing. And that meeting a man who doesn’t have that thing can be the visual equivalent of the “The Price Is Right” losing horn. And I know that in America, good, strong, bright, straight teeth signal good, strong, bright, straight money. The whiter the teeth, the whiter the credit. An open mouth is a résumé, a Carfax and a FICO score. And this, I know, is the real source of my neurosis. I’m 43. For 35 or so of those years, I existed either below the poverty line or a missed paycheck away from it. I’ve been broke-adjacent. Broke. Poor. My mouth is a memoir. Of canceled orthodontist appointments when my parents couldn’t afford the premium. Of never having two consecutive years of health care as an adult, until I got Obamacare in 2014. Of shame. That’s the tricky one. The shame. I know now that there was nothing to be ashamed of. That doing well, while Black in America, is the exception not the norm, and that the exception could change with a coin flip. But then, all I wanted was a pantry. A pantry, to me, meant you had extra. Not too much. Not Jack and Jill money or anything. But just enough to maybe not sweat too hard all the damn time. A pantry also meant good teeth. Cause why wouldn’t you have them if you could afford extra ketchups? This anxiety ain’t new if you’re Black. We’re the world champs at faking it till you make it. I couldn’t even really do that, though. Because as much as I’d try to stunt, my teeth told the truth. But maybe my teeth lied to me, too. I think about all the times I’ve been asked why I don’t smile more. It always felt like a taunt, because I’d think “Ain’t it obvious?” But maybe it wasn’t as obvious as I thought. Maybe that’s just me getting gamed by shame. Maybe the Black women who have been interested in me — the Black women who’ve loved me, the Black woman who married me — weren’t compelled to overlook this conspicuous flaw because they liked the other parts, like I was a nice new car with a cracked windshield. Maybe, to them, there was nothing to overlook. Maybe, to them, they were just my teeth. Maybe, to them, I have a nice smile. Maybe when I opened my mouth at that Barnes &amp; Noble, she thought I had a nice smile too. I could just ask her. We’re still cool. I don’t care as much anymore though. Growth, right? Maturity? Perspective? Nah. I just have a pantry now. Invisalign too.</td>\n",
       "      <td>nyt://article/4b7f30b3-2715-5454-92ae-d0119da1fe92</td>\n",
       "      <td>Was It Me? Or My Teeth?</td>\n",
       "      <td>In America, a smile is like a résumé. I was afraid mine wasn’t closing the deal.</td>\n",
       "      <td>In America, a smile is like a résumé. I was afraid mine wasn’t closing the deal.</td>\n",
       "      <td>This essay is part of a collaborative project with Black History, Continued. We invited readers and renowned writers to respond to the question “What is Black love today?”</td>\n",
       "      <td>2022-02-11</td>\n",
       "      <td>SpecialSections</td>\n",
       "      <td>Style</td>\n",
       "      <td>News</td>\n",
       "      <td>1650</td>\n",
       "    </tr>\n",
       "  </tbody>\n",
       "</table>\n",
       "</div>"
      ],
      "text/plain": [
       "                                                                                         url  \\\n",
       "2   https://www.nytimes.com/2022/02/11/style/modern-love-gay-couple.html                       \n",
       "3   https://www.nytimes.com/2022/02/11/style/modern-love-confidence-self-love.html             \n",
       "4   https://www.nytimes.com/2022/02/11/style/modern-love-black-boyfriend-applications.html     \n",
       "5   https://www.nytimes.com/2022/02/11/style/modern-love-queer-dating-open-relationship.html   \n",
       "7   https://www.nytimes.com/2022/02/11/style/modern-love-bond-father.html                      \n",
       "8   https://www.nytimes.com/2022/02/11/style/modern-love-black-boys.html                       \n",
       "9   https://www.nytimes.com/2022/02/11/style/modern-love-healer-heartbreak.html                \n",
       "10  https://www.nytimes.com/2022/02/11/style/modern-love-teeth-smile.html                      \n",
       "\n",
       "                                                                                                                                                                                                                                                                                                                                                                                                                                                                                                                                                                                                                                                                                                                                                                                                                                                                                                                                                                                                                                                                                                                                                                                                                                                                                                                                                                                                                                                                                                                                                                                                                                                                                                                                                                                                                                                                                                                                                                                                                                                                                                                                                                                                                                                                                                                                                                                                                                                                                                                                                                                                                                                                                                                                                                                                                                                                                                                                                                                                                                                                                                                                                                                                                                                                                                                                                                                                                                                                                                                                                                                                                                                                                                                                                                                                                                                                                                                                                                                                                                                                                                                                                                                                                                                                                                                                                                                                                                                                                                                                                                                                                                                                                                                                                                                                                                                                                                                                                                                                                                                                                                                                                                                                                                                                                                                                                                                                                                                                                                                                                                                                                                                                                                                                                                                                                                                                                                                                                                                                                                                                                                                                                                                                                                                                                                                                                                                                                                                                                                                                                                                                                                                                                                                                                                                                                                                                                                                                                                                                                                                                                                                                                                                                                                                                                                                                                                                                                                                                                                                                                                                                                                                                                                                                                                                                                                                                                                                                                                                                                                                                                                                                                                                                                                                                                                                                                                                                                                                                                                                                                                                                                                                                                                                                                                                                                                                                                                                                                                                                                                          essay  \\\n",
       "2   This essay is part of a collaborative project with Black History, Continued. We invited readers and renowned writers to respond to the question “What is Black love today?” Peter and I hitched our wagons young. Early 20s. He was wildly handsome, gay, with soulful brown eyes and a head full of loose, unruly curls. Raised by an African American woman and a white preacher man, Peter spent his childhood steeped in the evangelical ministry. He was as terrified of his father’s sermons as he was soothed by his mother’s inclination to administer to the more human aspects of the congregation they both led. The night I met Peter, he and I fell all the way in love. Kismet, you could say. He made me laugh with his very first words. It was my first time at the Nuyorican Poets Cafe, the premier debut joint for every performance poet trying to get onto the New York City poetry scene. I read my first piece on the open mic after the slam. Peter was among the first admirers to make his way through the applauding crowd to tell me I had simultaneously embodied the fury of his father and the vulnerability of his mother — and, as such, I was destined to be one of his true loves. “Only one of?” I asked. “Fate isn’t fixed,” he said, “The gods have to leave room for surprises!” By the time we met in the fall of 1997, Peter’s parents were long divorced. His father had left the church. And Peter was already exploring other truths to believe in. Poetry was his new religion. His poems were long, lyrical and lovingly painted with the impossibly beautiful brushstrokes of utopia. He lived his life with the same energy. He believed in the goodness of people. Once, in the middle of winter in Washington Square Park, I watched him unbutton his coat and drape it across the shoulders of a drunk who had just called him a homophobic slur. I was an ex-Christian and newly out lesbian fleeing the violent homophobia of the late 1990s in Jamaica, still wearing the fury of being attacked by a dozen boys and sexually assaulted in Kingston. I was ashamed and angry that it defined my final year of university. That’s why I moved to New York City on a tourist visa. I needed somewhere safe to call home. But I felt at sea in this new country. I had a few aunts and uncles in New York, but before any of this I had absolutely no relationship with my biological family. My parents had abandoned me — my mother at birth, and my father hadn’t even shown up. And now that I had announced that I was a lesbian, that already distant extended family wanted less to do with me. I was in New York in search of safety. Freedom. And room to explore my budding lesbian identity. I was seeking a tribe to which I could unequivocally belong. And the performance poetry slam scene was a mixture of every kind of misfit. Peter and I fit right in. In no time, it felt as if we had known each other our whole lives. We shared everything: stories, poems, disappointments, hopes. We spent most evenings together. I’d meet him after work and go to whichever cafe was holding a slam competition that night. He knew everything about me: how broke I was, who stole my favorite vibrator, the ex-cop who hit me — how I kept going back to her. Every time. One night, after a particularly bad fight with my abusive partner, my roommate cornered me and told me she was going to raise the rent unless I had sex with her. My tourist visa was almost expired. I had no money except what I won at the slams — and that was barely enough to pay for the couch, ramen noodles and a MetroCard. I had no work permit, so I couldn’t get a job. I couldn’t apply for any services. Without papers I couldn’t even get into a shelter. I told Peter I was going to give up on this crazy dream of freedom in New York to go back to Jamaica. He was quiet while I explained what it meant to be undocumented; I went on about green cards and citizenship and visas and immigration authorities. When I was done talking, he asked me to marry him. When I pushed back, saying such a marriage was illegal and that it might land us in trouble with the law, he said the law was wrong. “You love me, right?” I nodded. “Well, I love you. You love me. I want children. You want children, right?” “Right …” “Well, that is what people do when they love each other and they want to have children together. They get married. And that makes them a family. They can’t have it both ways. And love is love, right?” His argument was sound. If the rules were fair, I would have been able to marry a woman, get citizenship and start a family with her. As it stood in the U.S., that wasn’t allowed. But Peter and I were well within our right to claim the perks of being a couple. We were already partners. He was already my family. We were married at City Hall. Peter’s lover, who was to be our witness, didn’t even show up for the wedding. We had to ask a beautiful man in cowboy boots and a sequined vest to stand in for him. After our very giggly “I dos,” Peter invited me to Thanksgiving dinner with his family. Before the month was out, I moved in with him and his amazing mother, Carole Linda, in the beautiful old house, the one that was once his parents’ church, two blocks from the beach in Far Rockaway. We spent three magical years living together. No one understood the quirky, kooky couple who arrived together, left together, but flirted with everyone in between. We had so much fun together. We were the perfect couple. We knew we’d be the perfect parents. But we were a modern couple. We wanted to be more intentional, more deliberate about our choices than our parents had been. We had more living to do before we took on the responsibilities of children. We didn’t have money, but we had lots of time. We were committed to living first. But at 29 Peter was diagnosed with cancer. Stage 4. He was diagnosed in May. He died on Dec. 16. At 11:30. Half-hour before he would turn 30. I was so furious at him dying, I couldn’t cry. It felt as if all my dreams of family died with him; a partner, children, my willing comrade in the radical redefining of the modern family, modern love. His mother was better at making peace with the heavens over the loss of her firstborn. I was surprised at her ability to remain connected to me. She stayed close, calling, sending Christmas cards, checking in, even as I remained distant, angry, unsure about deserving the magic of the family Peter had so tragically, suddenly, left behind. I grudgingly remained connected to his younger brother, CJ, who reminded me so much of Peter. Except he wasn’t gay, or a poet. He grew up to be a fine filmmaker and the only straight man in the L.G.B.T.Q. alliance in college. We often called each other to reminisce about Peter, to recount the sorcery of him, to bask in the shared memory of his magic. Later, when I became frantic with the desire to start a family — chasing gay men at house parties, begging sperm from strangers on planes — I broke down and wept for what felt like the too-early death of my husband. I didn’t want to be the strange young widow hosting lesbian parties in Crown Heights. I wanted to be the badass lesbian writer, with the flamboyant gay husband, raising four children in a rambling old house that used to be a church, two blocks from the beach in Far Rockaway. In one conversation with CJ, he interrupted to ask if there was a way he could stand in for Peter, by giving me his sperm. A year later, my daughter, Zuri, the most astounding miracle, born a decade after Peter’s death, refers to Peter as her “almost dad.” Carole Linda is still my mother-in-law and my kid’s actual, biological grandmother. Zuri’s “Baba,” CJ, got married last August. Zuri almost passed out from the joy of being asked to be the ring bearer at the wedding. We all traveled from multiple cities to watch them speak the vows. His brothers, their wives, Peter’s grandmother, his father, me, my non-monogamous partner and a beautiful cohort of ordinary folks, misfits, artists, preachers, writers, activists, gay, straight, nonbinary. I looked around the room, thinking if we had had the choice, this is what Peter’s and my wedding would have looked like. Peter would have reveled in it. Some days I still hear Peter’s voice inside my head, rustling in the fall wind, booming in the rush of traffic on the West Side Highway. He’s always whispering, screaming, saying the same thing, “Fate isn’t fixed, Staceyann. There is always some room for the gods to surprise us.”                                                                                                                                                                                                                       \n",
       "3   This essay is part of a collaborative project with Black History, Continued. We invited readers and renowned writers to respond to the question “What is Black love today?” I’ve spent my whole life looking for similarities between myself and the protagonists in love stories. When I lost my father to prison and my mother’s attention to her double duties as a single parent, I escaped through books in an attempt to reimagine what love could look like. But the couples, usually locked in an embrace on the cover of those “harmless” rags, looked nothing like the people in my house. Abuse ruined the bones of our homes and turned them into rotten structures. My hopes of experiencing romance in the future seemed incompatible with my reality. I had no example of romantic love, not for girls that looked like me, until my cousin, Tiffany. Two years older than me, and seemingly in control of her life, Tiffany became a blueprint; no, a mirror — a way to see myself clearly. She was everything I wanted to be. She garnered attention when she walked into a room: ash brown hair, freckles and a genuine smile. Tiffany was beyond cool, she was fresh; beyond fresh, she was fly; beyond fly, her energy was unmatched. My cousin was my protector, the way an older sister should be. Tiffany taught me love by listening. She let me read her books and sing her songs from my favorite musicals. She joined me at my softball games and would sit next to me on the bench when I played catcher. She gave me tips for getting my crushes’ attention (none of which worked). First place in the oratory contest, she cheered. Solo during choir performance, she tossed a thumbs-up sign from the pew. We were inseparable until she went to high school and left me to fend for myself in those unimaginable middle school bouts of self-doubt. At 15, Tiffany had her first child. A little girl with a light as remarkable as her own, and the temperament of a doe. When she was pregnant, I asked her, “Are you sure?” She smiled and rubbed her belly. And just like that, my purpose was clear: I would have a daughter, too. Tiffany’s Little Light studied everything. Her mouth was an overturned cup spilling sunshine. They were an emerging constellation when they walked into a room together, stars to anybody who drew breath. They became a part of my vision board for maternal love. Do not be fooled, I too received this kind of love from my own mother. But it was so far removed from my teenage psyche, it wasn’t something I could pluck from my memory easily. You know, the way mirrors neglect to reflect what we’ve been conditioned to disbelieve. Despite the judgment of her being too young to raise a baby, Tiffany glowed. She glowed so brightly one could even say it blinded the jealous. And when Tiffany had her third child, she moved from California to find her footing in Baton Rouge. Her relationship with the father of her children, who I would later learn became more obsessed with the idea of owning Tiffany than loving her, was a wake-up call: Love is not transactional. Love is not ownership. Love is simply an act of absolute care. While love is an active verb, sometimes it ain’t enough at all. At 21, I had my daughter with my high school sweetheart. At 23, I left the dissolving relationship for a life that could hold my dreams to secure a future for my daughter. I called Tiffany to tell her the news. She answered, and I could hear her three children playing in the background. Little Light was now the eldest and took her job as protector of her two younger brothers seriously. “Cousin, are you sure?” Tiffany asked me. “Aren’t you scared?” I laughed away whatever fear I was carrying and told her I would be back. That it was just for the summer. But Tiffany knew what I couldn’t see yet. That I would find writing and become the woman of my own dreams. I cloaked myself in Tiffany’s charm and wore it until it became a second skin. This is how I arrived in Bed-Stuy, Brooklyn. I only dated men who called me beautiful. I flirted with anyone who could hold an interesting conversation. I gave love a run for its money because the only thing that truly kept my attention was my daughter’s health and laughter, and my burgeoning career in writing. I carried this new me everywhere: New York City, Poland, Britain and Canada. When the summer became a year, and the year became a decade, I recognized so much of my cousin in the way I carried myself. I loved how I looked to myself in the mirror. I loved how I looked from the reflection in my daughter’s eyes. Like Tiffany, I began to move through rooms easy like the wind, soundless and certain. This feeling stayed with me, from the red steps of our grandparents’ home in West Oakland to the Bed-Stuy stoops that became my sanctuary. At first, before she had her fifth child, Tiffany and I checked in weekly, then monthly, after she had her seventh child. Phone calls became text messages as our lives busied. She was raising eight children on her own and re-establishing herself after finally leaving an abusive relationship. Every other year I would visit, and when I couldn’t be physically present, I sent supportive messages, care packages and invitations for her to visit me on tour. After 15 years of visits dictated by holiday breaks and family reunions, I invited Tiffany to Florida. Tiffany had never been and was on a break from her on-again off-again relationship. I wanted to protect her. I wanted her to see what the world had to offer. She was the very best part of me. She gave me courage. She gave me reassurance. She gave me pep talks. She gave me compliments. Loving and celebrating others was natural for Tiffany. The least I could do was repay her generosity by giving her the space she needed to figure out who she wanted to be. Through Tiffany’s turbulent relationships, and her absolute love for her children, I began to understand what love costs. When she met me in Miami, a place I traveled to for weekends and took for granted, her eyes welled up with tears. I asked, “What’s wrong, cousin?” By the time she could pull herself together, we were walking alongside the beach, our manicured toes leaving kiss-prints on the sand. “I never thought I would get to see the Atlantic Ocean,” she said, tears sliding down her freckled face. “I feel like all I have is my kids. I’ve never traveled and seen the world like you.” I held my breath, terrified by the weight of the moment, but ready to rise to the occasion and remind her what she taught me so many years before. Fairy tales might teach us stories of whimsy, designed to mold single Black women into roles of grateful service before they’ve ever seen the world. It was my turn to show Tiffany that we are in fact an entire world ourselves.                                                                                                                                                                                                                                                                                                                                                                                                                                                                                                                                                                                                                                                                                                                                                                                                                                                                                                                                                                                                                                                                                                                                                                                                                                                                                                                                                                                                                                                                                                                                                                                                                                                                                                                                                                                                                                                                                                                                                                                                            \n",
       "4   This essay is part of a collaborative project with Black History, Continued. We invited readers and renowned writers to respond to the question “What is Black love today?” “I am no longer dating white guys. Nonwhite guys may submit their applications in my DMs.” These words, posted on my Facebook page, marked the beginning of a racial reckoning in my dating life. Some context: It was June 2020. George Floyd had just been murdered. Black people like myself were consumed with rage and were openly airing our grief. On top of that, I was a woman scorned. I was 35 years old, a highly educated Black woman, a homeowner and an attorney, and I had just been rejected by yet another mediocre white guy who then pursued a relationship with a white woman. In short, I was fed up with white people. So one afternoon, I wrote a half-crazed manifesto on my Facebook page. Specifically, I railed against a white society that clearly didn’t see me as white but insisted on rejecting my Blackness because of my appearance (fair-skinned) and upbringing (middle class). White people had called me “not Black” for liking Taylor Swift, told me they were “more Black than me” because they grew up in a predominantly Black neighborhood (or had an especially dark tan), and fetishized my “exoticness” and ethnic ambiguity. I ended my ramblings with the call for applicants. I clicked “post” without thinking. To my amazement, the likes and comments started pouring in. Black people saying that they’d had similar experiences. White allies thanking me and promising to “do the work.” I felt so vindicated. And then this popped up on Facebook Messenger: “Application submitted!” The message was from Josh, whom I went to high school with 18 years earlier in Maryland. He was tall, handsome, smart, funny and successful. And Black. I’d briefly reconnected with him at a bar in Baltimore in 2018 when I was in town for a work conference. We had flirted, but I remembered from Facebook that he’d gotten married, so I flew back to California at the end of the conference with a wistful “what-if” feeling fluttering in my chest. I soon found out through mutual friends that his marriage had ended before we connected, but seeing as we lived 3,000 miles apart, I figured there was no point in trying to pursue anything. But here he was now, reading my manifesto and submitting an actual application to date me. I was gobsmacked. Up to that point, the vast majority of my relationships had been with white men, the predictable result of years spent in a Maryland prep school and at a Massachusetts liberal arts college. In fact, it had become a running joke among my friends and family: If the guy was basic and white, he was my type. But I had never, not once, dated a Black man. And I’ll be honest — I had always felt a kind of shame around that, as though my not dating Black men reflected a deep-seated insecurity with my own Blackness. But here was an eligible Black bachelor offering me a chance at love, and a chance at embracing my Blackness. Josh and I started texting. We had a couple of video calls that were awkward at first but became more natural. I suggested flying out to Baltimore to see him, and he agreed. On the one hand, it seemed wild and reckless, jumping on a plane to visit someone I barely knew. And during a pandemic to boot. On the other, the whole thing felt like something out of a movie. I was flying 3,000 miles to have our “first date.” We packed a lot into that four-day first date. He took me to Baltimore’s National Aquarium. He treated me to dinners and wine. He even took me to a (socially distanced) visit with my grandmother on her birthday. Most of all, we reveled in our Blackness. We danced to hip-hop in his living room — and he could dance, something I had rarely experienced with my white boyfriends. We joked about the endearing quirks of our older Black relatives. We shared stories about being among the few Black people in our respective professional arenas — finance for him; law for me. With him I could openly “speak the language” and not have to explain myself. For the first time in my life, I felt like I could be completely, unapologetically Black with the guy I was dating. Like most first dates, there were uncomfortable moments. Josh was reserved and rarely volunteered information about himself, which meant it was hard to get to know him. And while there was definitely a mutual physical attraction, there was a shyness in Josh that only seemed to fall away with the help of a few drinks. Still, I chalked that up to our still getting to know one another. However, on my last night there, as we gazed at the city lights over the Inner Harbor, he turned to me and said, “You know this isn’t going to work, right?” Completely out of nowhere. I asked him to explain. He said our personalities were too different — I’m outgoing, high-energy and emotional; he’s analytical, quiet and calm. I, both a romantic and a lawyer, attempted to argue my case — “Doesn’t love find a way?” — and he, the realistic, number-crunching one, pointed out the obvious practical hurdles. With the physical distance between us, there was no way to properly date or figure out how we would fit together. My fairy tale seemingly shattered, I started to cry. He seemed sad too, though whether it was because of a mutual feeling of despair or simply uneasiness at my tears, I couldn’t tell. The next morning he drove me to the airport and I asked him to visit me in California. He gave a noncommittal answer. I left wondering if I would ever see him again. Turns out, I would. A few weeks after my Maryland trip, Josh asked to visit me in California. I was thrilled. I convinced myself that he wanted to visit California to see if he could make a home here with me. I planned a day trip to Napa. I borrowed my neighbor’s bike for Josh so we could tool around town together in true Californian style. I proudly showed him off to my friends, took him to my favorite local haunts, and tried my hardest to prove how great we could be together, the perfect Black power couple. Still, we weren’t quite clicking. Josh wasn’t entirely on board with my carefree Cali style. When we biked to the river on a hot day, I eagerly stripped down to splash around in the cool water, but he refused. When we strolled the sidewalks of downtown Napa, I reached out to intertwine my fingers with his, and he shook my hand off — turns out he wasn’t a fan of P.D.A. And the reservedness I had witnessed in Baltimore persisted. I tried to ask him questions about his family, of whom he seldom spoke. He demurred: “That’s personal.” As someone who had always been an open book, I was frustrated. When I drove him to the airport at the end of the visit, I had a hollow feeling. Why weren’t we clicking when we were perfect for each other, at least on paper: same hometown, same education, same career-driven lives, and most importantly (or so I thought), same race? How was this not kismet? It all came to a head in the spring of 2021. Josh invited me to Baltimore for the Preakness, an annual horse race and social event. But a disagreement over a coffee maker before I arrived — he didn’t own one, and for reasons I couldn’t fathom, didn’t want to have one on hand for my visits — pushed me over the edge. I said, “If you can’t even keep a coffee maker for me, it’s obvious you don’t care enough for me to fly 3,000 miles to see you.” To my horror, he didn’t argue. I said I wasn’t coming, and he didn’t try to change my mind. And that was it. What the hell had just happened? How did my lofty dreams fall so flat? Did I really fly to Maryland, and him to California — during a pandemic — for nothing more than a booty call? Over time, I realized my attachment to Josh was more intellectual than emotional. I had tried to make him — kind and well-meaning, but unable to match my spirit or provide me the emotional connection I wanted — into my perfect boyfriend, because he was Black. Josh represented the first time I naïvely attached my worth as a Black person to the success of my relationship with a Black man. But dating a Black man will not make me more Black, just as dating a white man won’t make me less Black. I am Black, period.  Regardless of the race or ethnicity of my next boyfriend, at least I’ll know one thing: Whoever loves me next must love all of me.                                                                                                                                                                                                                                                                                                                                            \n",
       "5   This essay is part of a collaborative project with Black History, Continued. We invited readers and renowned writers to respond to the question “What is Black love today?” I’ve always been wary of sports, competition and falling in love. So growing up, I avoided all three. As a kid, I would shrug when “accidentally” letting goals into the net from the opposing team. I would walk slowly behind everyone else on the basketball court as they ran from end to end. My mother eventually stopped asking if I was interested in signing up for extracurriculars and my friends came to understand my lack of interest in playing board games, card games, drinking games or anything that required competing for the title winner. I was even able to avoid acting on romantic feelings for a long time but with age I let up slightly. After an indecisive football player, a shady basketball player, and a club bouncer who was as bad at kissing as he was at his job, I decided I had made a mistake opening myself up, and convinced myself that the real issue was vulnerability. I would no longer be attaching any emotional investments to my sexual partners. I never bothered to be competitive or to fall in love because I didn’t care to win. I met him on HER, a dating app for queer women and gender diverse people. He had long brown dreadlocks with subtle hints of blond and a promising smile. There was something about him that told me he would be the exact kind of fun I was looking for. He approached me with a smooth pickup line, and I responded with something much less cool. Before I could give it much thought he told me that he was assigned female at birth and had transitioned to live his life in the gender that was most authentic to him. “So, what are you looking for?” I said. “Well, I’m in an open relationship. So I’m not anticipating anything too serious,” he responded, adding that he and his partner were engaged to be married. My friends wanted to know how someone could be committed to a partner while pursuing other relationships. I didn’t blame them: the idea of a relationship where both partners agree to seeing other people while being together isn’t something that most learn about in “the birds and the bees” conversation. My immediate reaction when I learned he was in an open relationship was relief. I would have fun with no emotional responsibility. They were deeply in love and had a strong foundation on which their love was built. They knew that marriage was the ultimate goal of their relationship, and had its benefits both legally and personally, but they also knew that, in order to meet both of their physical and emotional needs, their marriage would need to be unconventional — which, in this case, meant leaving the door open for other intimate possibilities. What neither of us expected was the fast progression of our feelings. I started wondering more about when he’d see his fiancé next. He wanted details about the dates I went on. We both grew possessive as our unanticipated love bloomed. We began feeling entitled to each other. Yet, while my insecurity grew more obvious, he managed to mostly keep his casual demeanor. And of course he could. He always went home to the loving arms of his partner, and I always went home to thoughts of a lover that I couldn’t truly call my own. We were everything I vowed to never be: very vulnerable, and very corny. “You hang up first,” he’d say. “No, you!” I’d say, my naturally deep voice suddenly sounding prepubescent. We were inseparable. Soaking ourselves in wet kisses on the Toronto Transit Commission as if no one was around and feeding each other street meat on the corner of Church and Wellesley. Here I was, never having been intrigued by competition, but suddenly up to the challenge of convincing him that I was worthy of being his only one. I tried to appear unfazed by the uncertainty of our relationship, but with each passing day I could feel my nonchalant facade peeling away. I knew it wouldn’t take long before I had nothing left to hide behind. One evening, we joined our mutual friends for a night out. I had high hopes that the loud music and many shots of tequila would drown out the unanswered questions of our relationship. The dim club lights and the drink intensified the moment and when he and our friend began dancing with each other, I felt justified in my rage. Watching them dance — two Caribbeans sharing a strictly platonic love language of slow whining and good drinks — amplified everything that threatened our life together as a couple: my fear of losing him and not being able to do anything about it. It was then that I knew we couldn’t return to our no-strings-attached deal. I wanted to take away the love he reserved for his fiancé and keep it for myself (which is the exact antithesis of an open relationship). Here was this person who was sent to me through a dating app that hosts mostly nude pictures. Here, somehow, I met someone whose presence soothed me, and he had chosen to devote himself to someone else. Someone who had known the smell of his collar and the softness of his lips long before I even knew he existed. Nothing about that felt fair. I spent that night preparing for the curtain call on our love story. And though we continued to date for weeks afterward, that moment was a clear shift in our relationship. An obvious flag that this “casual thing” had gone too far. Our relationship came to an unavoidable end; I needed more and he knew he couldn’t give that to me. As I reflected on us, I realized that I was in competition with no one but myself. I assumed that “winning” in this situation meant we would abandon the concept of non-monogamy altogether and walk off into a sunset hand-in-hand. Just the two of us. But the open relationship wasn’t the problem. The problem was the strange expectation for Black women to be in competition with each other, even if they are unaware of it. And the even stranger expectation for Black queer relationships to still fit enough into the confines of heteronormativity to make other people comfortable. The normalization of heterosexuality has been so insidious in my life through the consumption of media, education, and social assumptions and attitudes, that even as a queer woman in love with a trans man, I still questioned the validity of our non-monogamy. I had to learn to quiet the noise of heteronormativity; the idea that being in love can only look one way for it to be valid. That intimacy can only include two people. That there needs to be competition in order to receive the love we deserve. Black folks have been queering the family dynamic for as long as we have existed in this world. We’ve had stepparents who have loved us like they made us from scratch. We’ve promoted any friendship that has lasted over five years to that’s my cousin status. I have half-siblings that I’ve only ever referred to as whole. The words “half-sibling” were treated as if they were illegal in my household; my parents constantly reminded us that the small, and scientific details of our family weren’t important. When my sister’s mom passed away and my aunt raised her, she called her auntie-mommy. We never questioned that. It never required an explanation. There has never been anything nuclear about any Black family dynamic I’ve ever known, so why did I villainize, and — in my own mind — compete with a Black woman who loved herself, and her fiancé enough to encourage him to share his love with me? Possibly, all along, I was never scared of competition or losing, but instead, as a Black woman, I couldn’t fathom the idea that, contrary to popular belief, love doesn’t actually require competition. Everyone can feel worthy. It was because of the open relationship with my engaged lover that I was able to say yes to a date with the next person I would go on to fall deeply in love with. Our non-monogamous ways gave me the freedom to explore other relationships openly. He went on to marry his fiancé and we have managed to remain friends. In our choice to smoothly transition from romantic to platonic, we stuck up a subliminal middle finger to a world where relationships between Black women — especially when there is a man in the middle — are so often reduced to the notion that there is only ever enough love for one of us. Open relationships are far from a means for competition, they are an embodiment of love unable to be confined. They have the ability to bring together a small-town, awkward Black girl and a cool island boy with effortless swagger, and somehow allow them to exist together in the Toronto summer heat, exiting their romance more filled with love than they found each other.   \n",
       "7   This essay is part of a collaborative project with Black History, Continued. We invited readers and renowned writers to respond to the question “What is Black love today?” I was trying to think about the first time I met my godfather, but that would be like asking me to remember the first time I met my mother. From the time my brain was able to hold memories, my Uncle Ronnie was there. He had been my mother’s best friend since she was in college (maybe even longer — I was never clear on their exact origin story) and was an unwavering pillar in the tribe that raised me in the absence of my biological father. As a child I didn’t understand the depths of what I was witnessing between him and my mother, but now, at 34, with my own best friends whom I’ve known since college, I have a deep appreciation for how special their bond was. How healing it was. They weren’t just besties: They were siblings. My mom asking Ronnie to don the title of my godfather was truly just a formality. I belonged to him before we ever met. In second grade, I had to do a family tree project. My classmates and I were each handed an illustration of a big tree that had labels for us to fill in. At the bottom of the tree was a space for me to write my name and above it were two spaces — one for my mother and one for my father — and then above those were spaces for my maternal and paternal grandparents. Our assignment was to work with our parents to fill in the names on the tree and write a mini report. My 7-year-old brain stared at the paper with confusion. I didn’t know my father’s name. I’d never really thought much about having a dad. When I got home, all four feet of me cornered my statuesque Caribbean mother in the kitchen of our Queens home and asked, “Do I have a father?” She looked at me, a bit stunned, and took a breath before she said, “Of course you do.” In my high-pitched voice, I shot back, “Then where is he?” She looked at me for a moment as though searching for the answer. “Your father lives with his family.” It was a concept too big for me to fully understand. “Aren’t we his family?” I asked. Before my mother could respond, I asked the question that I think every single parent dreads: “Does he not love me?” My mother crouched in front of me, took my small hands into hers. “Your father is a good man,” she said. I softened a bit, and she continued: “I loved him because he was such a good man. He was so smart, talented and charming. Everybody loved him. And you remind me of him.” Somehow, hearing I was like him was enough. For the moment. But periodically his absence would feel unbearable. Father’s Day, parent-teacher conferences and school sporting events were always the hardest. As a child of the ’90s, I clung to Carl Winslow from “Family Matters,” fantasizing about having a man in my house who would impart words of wisdom, dish out compassionate discipline and look at me with pride. There was a very “blood is thicker than water” energy about my yearning — a notion that my biological father and I would have an inexplicable bond that would heal all my wounds. He would be a compass that would point my life in the right direction and guide me effortlessly into Black manhood. But no matter how hard I prayed to God or how many letters I wrote to Santa at Christmas, my father never appeared. Uncle Ronnie, however, always did. He had golden brown skin, and though his marathon runner’s body rendered him smaller than most of the men I was related to, he was strong. He was innately kind but could read you for filth with just a look, and, like me, he loved to laugh. Not only did he attend school plays, piano recitals, basketball games, track meets, even church once or twice, but he was also the one who would drive me to and from those events. Whenever I copped an attitude, he knew how to put a smile on my face. He would scoop me up and take me to museums or the playground or the flea market, teaching me how to pick out quality art and furniture pieces. He would take me to bougie restaurants in Manhattan so that I’d be exposed to different cuisines and fine dining; he’d take me to McDonald’s because he knew, ultimately, that it was my favorite. And if those things didn’t have me beaming, he resorted to my most hated tactic: becoming an insatiable tickle monster, stopping only when there were tears of laughter streaming down my face. He was also the only person that never questioned my effeminate nature. Others would demand that I “man up” and not be so “girly” in my demeanor or interests. Uncle Ronnie, however, owned a hair salon and was the only man I knew who used words like “fabulous” and “honey.” He never tried to stomp out my innate softness; instead, he quietly nurtured it. He encouraged it by laughing at my impressions of Cher. He protected it by giving me my first summer job as a receptionist at the salon. He honored it by having my signed Destiny’s Child poster framed, saying that they were to me what the Supremes had been to him. Shortly after I graduated from college at 21, my mother and Uncle Ronnie had a big falling out. I won’t share the private details of their discord, but I can tell you my mother came to me and plainly told me what happened. Uncle Ronnie did the same. Both had a different experience of the situation, and my Uncle Ronnie in particular expressed being hurt. I had never known them to disagree on anything, let alone have a fight, so I wasn’t used to being in the middle. But based on my understanding of parental fights from those ’90s TV shows, the child always picks a side. Since Uncle Ronnie was my godfather and not my biological father, my choice was clear: Blood is thicker than water. I chose my mother and stopped reaching out to my godfather. At 25, I was working for a fitness company called Flywheel Sports. Our flagship studio at the time was in the Flatiron district in Manhattan. I would often teach 7 a.m., 8 a.m. and 9 a.m. classes, which meant, before my afternoon sessions, I would have what we instructors referred to as “second breakfast” — too early for lunch, but still a full meal because I always ate before my classes and needed even more food after. As I was walking to the Starbucks around the corner, still sweating in my company-branded tank top and shorts, I switched my phone off airplane mode. The first notification to pop up was a voice mail message from Uncle Ronnie. I hadn’t spoken to him in four years. I stopped on the sidewalk, my stomach growling but my voracious heartbeat drowning it out, and pressed play. “Brandon, it’s your godfather. This is getting ridiculous. Now cut the shit and call me.” As I pulled the phone from my ear, I could feel my hand shaking. He was angry. And rightfully so — his falling out was with my mother, not me. “I’ll call him back,” I thought. “I have to call him back. I will call him back.” My stomach rumbled, and I was reminded of my usual routine. I walked into Starbucks and continued my day. I didn’t call him back. A few months later — on Nov. 1, 2013, to be exact — I got a voice mail message from my mother. “Hey Bran, I’m calling because Uncle Ronnie died today.” I don’t remember the rest of it because an enormous wave of shock ran through my veins. Then, deep guilt. To this day I don’t know if he knew then that he was on his final trip around the sun, but of course I wonder if that’s why he called. If he was trying to tell me. I didn’t attend his funeral, which took place in Delaware, where he was from originally. After my grandmother’s homegoing only three years earlier, I couldn’t bring myself to experience that again. I also felt too much shame. As a second grader, I had been embarrassed of not having a father. Now, I was faced with the devastating reality that I did in fact have one and didn’t treasure him. And now he was gone. A little over eight years later — which also happens to be the length of time I’ve been in therapy — I can see the undeniable imprint his life made on mine. I may not have resembled Uncle Ronnie physically — my skin darker, my face rounder, my frame bigger — but there are few words I love more than “fabulous” and “honey.” Few things I love more than art and furniture. Few places I love more than a bougie restaurant. Few sensations I miss more than his insatiable tickle monster. We may not have been blood, but I belonged to him before we ever met. And though I may not deserve it, he still manages to be my life’s compass. He still manages to be my father. I may have lost him, but I’ll always be his son.                                                                                                                                                \n",
       "8   This essay is part of a collaborative project with Black History, Continued. We invited readers and renowned writers to respond to the question “What is Black love today?” Two summers before Mary J. Blige crooned soulfully about searching for a “Real Love,” I found mine. I was 11 years old.  I haven’t seen him since, and I have no idea where he is now, so for our purposes I’ll use his initial: L. In the summer of 1989, my family had moved to South Jamaica, Queens, and a year later L. and his mother moved into a house across the street.  He rode into my life doing tricks on the wheels of a BMX bike accented with a checkerboard frame and handlebar grips. I had a bike, too, but I never tried the tricks that L. did. I was not that kind of boy. I was more apt to read my mother’s romance novels or spend all day during school breaks watching soap operas. I was the kind of boy more likely to fall in love than to fall off a bike. I was sitting on the porch reading a romance novel when L. turned the corner. He rode his bike over to me, standing on the bike’s pedals, towering over me as I read. “You want to ride with me?” he asked. “Uh, OK. Let me put this in the house,” I said, stumbling to my feet. Minutes later we were riding our bikes side by side. For boys like us — Black boys whose worlds could at once seem large and daunting and at the same time feel small and constricting — mounting our bikes and going beyond our immediate neighborhood was a freedom ride. That first ride, taken amid the promise of a New York springtime, turned into dozens of rides. We began to spend time together outside of bike riding. We pooled our allowances and went to the bodega to fill up brown paper bags with Now & Laters, Lemonheads, Boston Baked Beans and penny candy to share as we played with my Ninja Turtles action figures. As summer ended and the day when school would begin drew near (a year when I would start the fifth grade and L. would start the sixth) I felt real sadness. My stomach was upset. “Did I eat too many sweets?” I thought. It was then that I remembered other people felt this way: the characters in those romance novels and soaps.  Almost immediately my stomach was set right because I realized the answer was simple. I liked L. every bit as much as my favorite soap heroine, Erica Kane, loved each and every one of her husbands. “I like you,” I told him. “I like you, too,” he replied. “No, I like you, like you,” I said. “OK fool. I know,” he said. We stared at each other for a second before going back to playing with our action figures, until my aunt said it was time for dinner. During the last days of summer, he and I hung out as always. The night before the first day of school, he said, “I want to give you something.” He reached into his pocket and pulled out a ring, his mother’s. It was gold with a medium-size amber stone in an oval basket setting. The ring was so tiny that even as a child, though a chubby one, I could fit it only on my pinkie. The next day he and I walked to school together. Once at school we went to our different classes but I was still wearing the ring. That whole morning I played with it, waiting for lunch and recess. This would be the next time we’d see each other. I got my lunch tray and sat down to eat, spotting L. in the sixth-grade section. I waved at him from across the room. He smiled widely, just enough to expose a chipped left incisor, and he gave me a soldier’s salute and sat down. I smiled and turned to my lunch. As I picked up my spork to eat, I looked at the ring on my left pinkie and began to daydream of our beautiful summer together. My daydream was interrupted by the voice of a classmate, the school gossip. She was an adolescent Black Barbara Walters, full of questions. Once she set her sights on you there was no escape. “Ooooh, that’s so niiiiiice,” she said, pointing to the ring. “Is that your mom’s ring?” “No.” I said. With her it was best to keep it short. “Whose is it? Where did you get it from?” she asked.  I told her who had given it to me. “Oh, in sixth grade? That’s why you waved at him. Is he your boyfriend?” “Yes,” I said. “Ooooh, that’s so sweet. Boys liking boys,” she said, rolling her eyes and walking away. I smirked triumphantly, believing she must be jealous. It never occurred to me that she might roll her eyes for any other reason. After school, I waited to walk home with him but he never showed. Nor was he on the stoop of his house when I reached our street. I ran in to my house, did my homework lightning fast and changed into my play clothes. I ran to L.’s house and knocked on the door. No answer. I sat on his steps and waited. About fifteen minutes passed before I heard footsteps from inside the house. I jumped up; it was him. I smiled and said, “Want to ride?” But he did not smile back. Before I could ask what was wrong, he punched me in the eye.  My head was spinning, but I managed to steady myself and say, “Why’d you?!?” as he ran toward me. I thought, for a moment, that he was coming to help me, but instead he hit me again. At that point, I did the only thing that made sense to me: I hit him back. Suddenly we were in the street, fighting like strangers. “Aunt Lorry!” my cousin screamed. “They’re out here fighting!” Within seconds my aunt ran toward us to pull us apart. “What happened? I thought y’all were friends,” she said as soon as she and I were in the house. I couldn’t even speak. “Eric! What happened?” Still nothing. Then finally, “I thought he liked me,” I said, looking at the ground. “He said he liked me.” I burst into tears, a full-on ugly cry. “Oh, Eric,” Aunt Lorry said, as she hugged me and let me sob into her chest. For days, L. and I didn’t see each other. Then another one of my cousins, also in our school’s sixth grade, told us that she had a new boyfriend.  “Who is it?” someone asked.  She said his name. “You know, from across the street.”  I walked off quietly.  Heartbreak, combined with confusion and anger form a very specific pain. Add in guilt and my despair was all consuming. I felt guilty because, as I tried to make sense of everything, I recalled my gossipy classmate’s eyes rolling and her toothless grin as she walked away from our conversation. I remembered seeing that same grin in other instances. It was not a nice grin at all. It was “nice-nasty,” as my Mama would say. I had given people a way to be “nice nasty” to L., and this must have hurt him. I sat the rest of the day in my room staring at the ring. That evening, I walked across the street to his house. I dropped the ring through the door’s mail slot. I immediately heard footsteps inside so I ran back to my house, closing my door just as I saw L.’s mother open her door and look around, holding the ring in her hand. Two months later, in November, I sat on the steps reading a book when a van pulled up in front of L.’s house. Within minutes, his mother was putting boxes in the trunk of the van. It took a minute to register that L. and his mother were moving. By the time it was clear to me, L. was walking down the stairs. As he went to get into the van, we made eye contact for the first time in what felt like a lifetime. He smiled, wide enough to expose that chipped left incisor, saluted me like a soldier again, got in the van and they drove away. After everything, L. exited my life as abruptly as he’d entered it. I never saw or spoke with him again. Because of him, I have come to know that love is never apolitical, even in adolescence. Love only works if all involved are accountable to that proposition. As Black boys we lived in a world that did not let us love ourselves, let alone have space to love each other.  But I still cherish the innocent and honest moments when we were just two boys who like liked each other, before the world came in and pulled us apart.                                                                                                                                                                                                                                                                                                                                                                                                                                                                                                                                                                                                                                                                                                                                                                                                                                                                                   \n",
       "9   This essay is part of a collaborative project with Black History, Continued. We invited readers and renowned writers to respond to the question “What is Black love today?” A few days before my last day at my job administering a college scholarship program, I’d received an email from someone named Dani. I’d contacted her to make an appointment, but she never showed. On my last day, as I did one final skim through my emails, I stopped at hers again. I zoomed in on her Outlook profile picture. Half of her hair fell in a cascade of locks the color of honey, while the rest faded into skin the same color as her eyes. Her smile was irresistible. Just past noon, I headed out to lunch, locking my computer and opening my office door to leave. And there she was. She wore a black baseball hat pulled down just above her eyes, a floral button-up shirt and Vans, with a skateboard tucked under her arm. I watched as she investigated the posters on my office walls, the books on my shelf and the pictures on my desk. She had an energy that pulled at me like a bad habit. “Is this your sister?” she asked, pointing to a picture of me and my partner sitting on a bench holding hands. I couldn’t tell if she was serious or not. “No, that’s my partner.” “Oh, how long have y’all been together?” “A little over two years.” “Humph.” She sat down and I tried to dive into the reason she’d come to visit me, but all her questions were about my personal life: Where are you from? How is it that we never ran into each other on campus before today? What do you do outside of work? I told her I was a poet, and we started vibing about the monthly Slam event we both had connections to. I tried to let her know I’d be at the Slam later that night without it sounding like an invitation. She simply nodded. That night, as it snowed like the entire season decided to happen all at once, I got dressed for the event then went downstairs to find my partner sitting on the couch, playing Xbox. “You sure you don’t want to go?” I asked on my way out the door. Her eyes remained locked on the TV. “Have a good time and be careful driving.” About an hour into the event, Dani walked in. She hugged me and took the seat next to me. On my way up to the mic, I could feel her eyes follow me. My voice and hands shook as I asked the audience for grace since I hadn’t performed in a couple of years. I looked straight ahead and in my direct line of sight was Dani, urging me on. Later, she took the stage. Unlike every other artist that night, she performed without the mic. I had never heard anyone the way I heard her that night. And I could tell she knew it. I met up with Dani at a coffee shop the following week. I told her all about the things in my relationship that were making me unhappy. As we sat across from each other, her eyes reached for the parts of me that she knew weren’t seen very often. Coffee shops became our thing after that. I’d arrive and she’d be waiting for me with my drink already ordered and her hands and heart out for me to rest my sadness in. Things were getting worse at home. My partner was emotionally absent; Dani was always there to listen. My partner hardly ever said she loved me; Dani told me I deserved to be loved. The more my partner abandoned me, the more Dani became necessary. This was dangerous for us both because I had no intention of leaving my partner. I was married to the idea of her, and of us: of our history, our house and our potential for future children. The promise of all that still seemed more realistic to me than running off with a woman who’d just come into my life out of nowhere. Dani had mentioned to me she was a healer and, about a year after we met, I told her about a longstanding pain in my uterus that had recently gone from tolerable to unbearable. My doctor always said I just had a treacherous menstrual cycle — nothing to worry about. Dani invited me to her apartment for a second opinion. Her living room was full of plants and golden light that seeped in from the setting sun. I lay on her yoga mat while she lit white sage and Palo Santo, tracing my body with the smoke. She held my hand and asked me to trust her. I watched as she closed her eyes and rubbed her hands together, placing her palms on my belly. When she opened her eyes, she told me to revisit my doctor and to ask about uterine fibroids. I went back to my doctor the following week and asked her to check for fibroids. After she scheduled an ultrasound and did a proper exam, she identified my fibroids, some of which were the size of tennis balls. Dani had been right. I fell in love with her at that moment of diagnosis. I’d been stuck chasing a fantasy version of my relationship but Dani was the one who made me feel real and alive. Yet I still couldn’t leave my relationship. I’d taken too long to wake up. Before she left my life, Dani sat with me in the middle of her floor, my hands resting in hers. She told me that I was her favorite person and that she just wanted to love me the way I deserved but she knew I still loved my partner too much to leave her. She told me that she couldn’t keep breaking her own heart even if it meant helping me to mend mine. Shortly after that, she was gone. I eventually moved out and left my partner, who honestly seemed happy to have the out. As I sit here now, feeling more alone than ever before, I wonder why the love I had that was painful had such a strong hold on me, while the love Dani offered that was healing was the one I kept at bay. My surgery to remove the fibroids from my uterus is now just a few weeks away. I realize that, when Dani left my life, the magic I was coming to know went with her. I’m still not sure how I will heal without it.                                                                                                                                                                                                                                                                                                                                                                                                                                                                                                                                                                                                                                                                                                                                                                                                                                                                                                                                                                                                                                                                                                                                                                                                                                                                                                                                                                                                                                                                                                                                                                                                                                                                                                                                                                                                                                                                                                                                                                                                                                                                                                                                                                                                                                                                                                                                                                                                                                                                                                                                                                                                                                                                                                                                                                                                                                                                                                                                                                                                                                                                                    \n",
       "10  This essay is part of a collaborative project with Black History, Continued. We invited readers and renowned writers to respond to the question “What is Black love today?” I met her the way it felt like most people met in 2006. Which means we met on Myspace. Its search function allowed you to filter for gender (female), age (22-28), location (within 25 miles of 15232) and race (Black). I was 27, newly single and aggressively broke. So browsing curated thumbnails from my bedroom was better than the club. She checked all my boxes. Fine. Witty. Active. Single. Age-appropriate. Not too crunchy or churchy. Enough of a sense of humor to think I’m funny, which is all that really mattered. And, most important, had shared enough information on her profile that I could craft a DM to prove I’d read it. “Finally, someone else who thought Val Kilmer was the best Batman.” She replied 20 minutes later — “He was the best Elvis too!” — proving she’d read my profile (I’d listed “True Romance” as one of my favorite movies). I waited 15 minutes to write back. Couldn’t seem too thirsty. She possessed no such need for performative coolness and wrote back immediately. Four hours and dozens of jokes, vets and flirts later, we agreed to meet at Barnes & Noble at 7 the next evening. I rolled up at 6:50. She was already there. It reminded me of that diner scene in “Goodfellas,” where Jimmy arrives so early to meet Henry that Henry deduces that Jimmy planned to kill him. I didn’t think she wanted me dead, so this was good news. In person she was everything she was online, but 3 percent better. The conversation was easy, like water. Not even like solid water, but like walking through a gentle drizzle. We drank tea, we browsed books, we played footsie. It was the third best first date I’d ever been on. It was a Monday. We made soft plans to kick it that weekend. Maybe a movie. Maybe food. Maybe more. I called Wednesday to confirm. Voice mail. Hmm. The next morning, she texted back. “Hey homie! It’s been a crazy week. Rain check for this weekend, but let’s try again soon!” In movies sometimes it takes a character a few more interactions like this to get the hint — a montage of unreturned texts and indisputably platonic voice mail messages as they pace hallways and make sad faces in car mirrors. This was not that. If the day-later text as a response to my call was a sign, the “Hey homie!” was a flashing neon billboard. I was disappointed, sure. But mostly just confused. I’d been on enough first dates to know when things were going well enough to warrant a second. This had felt like that. We remained friendly (and still are). Or whatever you call the Tilt-a-Whirl of communication when you text someone Thursday afternoon, and they reply Sunday evening, and you reply Wednesday morning. But even though I had moved on, I was still curious about what had caused her to shift from hot to cold so quickly. And then, a month or so after our date, she posted one of those rapid response questionnaires to her profile. “Fav food? Tacos! Fav artist? Aaliyah!” As I scrolled down, I found my answer. “Dealmaker? GREAT SMILE! Dealbreaker? BAD TEETH!” When I was 11, and had just moved with my parents to East Lib, Pittsburgh, this brazen stubby white boy started calling me “Beaver” because of my slightly bucked teeth and perpetual overbite, and that nickname stuck. (People who know me from then still know me as “Beav.”) By the time I reached high school and the rest of my face began to match my front teeth, a gap formed between them. Between the gap and the overbite, my teeth did the thing that happens when misaligned entities repeatedly crash into each other. Some grinded, some eroded, some sharpened, some separated from each other — slowly, but decisively, like my mouth was Pangea. (And then, while playing pickup basketball in 2005, an accidental elbow to the grill shifted one of them, closing the front gap by a millimeter or so but also leaving that tooth slightly crooked.) I cannot recall a time when my teeth were not in need of drastic correction. Specifically, I cannot recall a time when I felt like my teeth were not in need of drastic correction — a feeling that lurked around and eventually consumed me because the world kept reminding me. Cartoons distinguished villains by giving them exaggerated or missing choppers. In movies, if you had noticeably bad teeth, you could be a goblin. Or a dope fiend. Or a Mississippian cannibal. If lucky, you could be the “not hot” dweeb who, by the third act, Frisbees their braces off and becomes Halle Berry. In real life, if I were roasted by friends or heckled by crowds during away games, my teeth were usually the target. I remember how I felt when first clocking my date in the Barnes & Noble that night. She was sitting at one of those tiny and wobbly circular tables and smiled at me as I approached. I started to smile back, but then I felt like I’d just entered a room to take an exam I’d forgotten to study for. She’d seen all of the pictures on my profile. Her wanting to meet so quickly was an indicator of her enthusiastic approval of them. I was also at least five inches taller than her, which I know is a concern that women who meet men over the internet sometimes have. But she hadn’t seen my teeth. The pictures on my profile captured the range of possible looks I could have without revealing them — smirking during a wedding toast, holding my infant cousin and squinting at her, so close to the camera’s flash that all you saw in my mouth was an indistinguishable white. A gallery curated to hide what I believed needed to be hidden. I was a toothfish. She’d have to see my teeth eventually though. A relationship can’t blossom if one of the people in it only opens their mouth when their partner blinks. So I decided to open-mouth smile back. There are infinite possible reasons she could’ve decided that night that I was cool enough to be cool with, but not attractive enough to be more with. First dates are when you’re supposed to be discerning and particular. Which is a nice way of saying petty. And the gap between my front teeth is just one line in that poem. But I also know enough Black women interested in Black men to know that the symmetrical contrast of straight bright whites against deep brown skin is a thing. And that meeting a man who doesn’t have that thing can be the visual equivalent of the “The Price Is Right” losing horn. And I know that in America, good, strong, bright, straight teeth signal good, strong, bright, straight money. The whiter the teeth, the whiter the credit. An open mouth is a résumé, a Carfax and a FICO score. And this, I know, is the real source of my neurosis. I’m 43. For 35 or so of those years, I existed either below the poverty line or a missed paycheck away from it. I’ve been broke-adjacent. Broke. Poor. My mouth is a memoir. Of canceled orthodontist appointments when my parents couldn’t afford the premium. Of never having two consecutive years of health care as an adult, until I got Obamacare in 2014. Of shame. That’s the tricky one. The shame. I know now that there was nothing to be ashamed of. That doing well, while Black in America, is the exception not the norm, and that the exception could change with a coin flip. But then, all I wanted was a pantry. A pantry, to me, meant you had extra. Not too much. Not Jack and Jill money or anything. But just enough to maybe not sweat too hard all the damn time. A pantry also meant good teeth. Cause why wouldn’t you have them if you could afford extra ketchups? This anxiety ain’t new if you’re Black. We’re the world champs at faking it till you make it. I couldn’t even really do that, though. Because as much as I’d try to stunt, my teeth told the truth. But maybe my teeth lied to me, too. I think about all the times I’ve been asked why I don’t smile more. It always felt like a taunt, because I’d think “Ain’t it obvious?” But maybe it wasn’t as obvious as I thought. Maybe that’s just me getting gamed by shame. Maybe the Black women who have been interested in me — the Black women who’ve loved me, the Black woman who married me — weren’t compelled to overlook this conspicuous flaw because they liked the other parts, like I was a nice new car with a cracked windshield. Maybe, to them, there was nothing to overlook. Maybe, to them, they were just my teeth. Maybe, to them, I have a nice smile. Maybe when I opened my mouth at that Barnes & Noble, she thought I had a nice smile too. I could just ask her. We’re still cool. I don’t care as much anymore though. Growth, right? Maturity? Perspective? Nah. I just have a pantry now. Invisalign too.                        \n",
       "\n",
       "                                                    id  \\\n",
       "2   nyt://article/9bf4e7f6-c4f5-57c7-b77f-5b55736fa99c   \n",
       "3   nyt://article/2ce87e3f-5333-5561-ad65-47608e6b8d5f   \n",
       "4   nyt://article/595d2c38-f78c-5aae-8b2c-4730e868637e   \n",
       "5   nyt://article/aa4266c4-81b5-5807-852b-95dbf7d9cd56   \n",
       "7   nyt://article/4b9b1bc6-5339-5e25-9331-0fad905c0fc3   \n",
       "8   nyt://article/a0bdb2ff-72ff-5f97-b3de-9133847a8ac7   \n",
       "9   nyt://article/d13c8194-7a13-583a-ab4b-d109f8463190   \n",
       "10  nyt://article/4b7f30b3-2715-5454-92ae-d0119da1fe92   \n",
       "\n",
       "                                                   headline  \\\n",
       "2   The Lesbian Writer and Her Flamboyant Gay Husband         \n",
       "3   Beyond Cool, She Was Fly. Her Confidence Gave Me Wings.   \n",
       "4   Accepting Applications for a Black Boyfriend              \n",
       "5   Love Isn’t a Zero-Sum Game                                \n",
       "7   Our Bond Was Thicker Than Blood                           \n",
       "8   Two Boys on Bicycles, Falling in Love                     \n",
       "9   She Wouldn’t Break Her Heart to Mend Mine                 \n",
       "10  Was It Me? Or My Teeth?                                   \n",
       "\n",
       "                                                                                                                        abstract  \\\n",
       "2   Peter taught me to laugh at fate as we lived our dream. At least for a while.                                                  \n",
       "3   I had no example of love, not for girls that looked like me. Until my cousin Tiffany.                                          \n",
       "4   After a lifetime of dating white men, I hoped a new romance could offer a chance at love, and at embracing my own Blackness.   \n",
       "5   I thought the open relationship was the problem. But it was me.                                                                \n",
       "7   No matter how hard I prayed, my father never appeared. But my godfather always did.                                            \n",
       "8   He gave me a ring. He also punched me in the eye. I learned a lot that summer about how “nice-nasty” the world can be.         \n",
       "9   She was a healer, but was I ready to be fixed?                                                                                 \n",
       "10  In America, a smile is like a résumé. I was afraid mine wasn’t closing the deal.                                               \n",
       "\n",
       "                                                                                                                         snippet  \\\n",
       "2   Peter taught me to laugh at fate as we lived our dream. At least for a while.                                                  \n",
       "3   I had no example of love, not for girls that looked like me. Until my cousin Tiffany.                                          \n",
       "4   After a lifetime of dating white men, I hoped a new romance could offer a chance at love, and at embracing my own Blackness.   \n",
       "5   I thought the open relationship was the problem. But it was me.                                                                \n",
       "7   No matter how hard I prayed, my father never appeared. But my godfather always did.                                            \n",
       "8   He gave me a ring. He also punched me in the eye. I learned a lot that summer about how “nice-nasty” the world can be.         \n",
       "9   She was a healer, but was I ready to be fixed?                                                                                 \n",
       "10  In America, a smile is like a résumé. I was afraid mine wasn’t closing the deal.                                               \n",
       "\n",
       "                                                                                                                                                                 lead_paragraph  \\\n",
       "2   This essay is part of a collaborative project with Black History, Continued. We invited readers and renowned writers to respond to the question “What is Black love today?”   \n",
       "3   This essay is part of a collaborative project with Black History, Continued. We invited readers and renowned writers to respond to the question “What is Black love today?”   \n",
       "4   This essay is part of a collaborative project with Black History, Continued. We invited readers and renowned writers to respond to the question “What is Black love today?”   \n",
       "5   This essay is part of a collaborative project with Black History, Continued. We invited readers and renowned writers to respond to the question “What is Black love today?”   \n",
       "7   This essay is part of a collaborative project with Black History, Continued. We invited readers and renowned writers to respond to the question “What is Black love today?”   \n",
       "8   This essay is part of a collaborative project with Black History, Continued. We invited readers and renowned writers to respond to the question “What is Black love today?”   \n",
       "9   This essay is part of a collaborative project with Black History, Continued. We invited readers and renowned writers to respond to the question “What is Black love today?”   \n",
       "10  This essay is part of a collaborative project with Black History, Continued. We invited readers and renowned writers to respond to the question “What is Black love today?”   \n",
       "\n",
       "      pub_date        news_desk section type_material  word_count  \n",
       "2   2022-02-11  SpecialSections  Style   News          1619        \n",
       "3   2022-02-11  SpecialSections  Style   News          1304        \n",
       "4   2022-02-11  SpecialSections  Style   News          1580        \n",
       "5   2022-02-11  SpecialSections  Style   News          1627        \n",
       "7   2022-02-11  SpecialSections  Style   News          1683        \n",
       "8   2022-02-11  SpecialSections  Style   News          1561        \n",
       "9   2022-02-11  SpecialSections  Style   News          1183        \n",
       "10  2022-02-11  SpecialSections  Style   News          1650        "
      ]
     },
     "execution_count": 17,
     "metadata": {},
     "output_type": "execute_result"
    }
   ],
   "source": [
    "modern_love_df_rev[modern_love_df_rev.essay.str.contains('collaborative project')]"
   ]
  },
  {
   "cell_type": "code",
   "execution_count": 18,
   "metadata": {},
   "outputs": [
    {
     "name": "stdout",
     "output_type": "stream",
     "text": [
      "172\n"
     ]
    },
    {
     "name": "stderr",
     "output_type": "stream",
     "text": [
      "<ipython-input-18-b77f0ab32bac>:8: SettingWithCopyWarning: \n",
      "A value is trying to be set on a copy of a slice from a DataFrame.\n",
      "Try using .loc[row_indexer,col_indexer] = value instead\n",
      "\n",
      "See the caveats in the documentation: https://pandas.pydata.org/pandas-docs/stable/user_guide/indexing.html#returning-a-view-versus-a-copy\n",
      "  modern_love_df_rev['essay'] = modern_love_df['essay'].map(sentences_to_remove)\n"
     ]
    }
   ],
   "source": [
    "# remove opening sentences from collaborative project with Black History, Continued\n",
    "\n",
    "sentences = 'This essay is part of a collaborative project with Black History, Continued. We invited readers and renowned writers to respond to the question “What is Black love today?” '\n",
    "print(len(sentences))\n",
    "sentences[:172]\n",
    "collaborative_project = 'collaborative project'\n",
    "sentences_to_remove = lambda x: x[172:] if collaborative_project in x else x\n",
    "modern_love_df_rev['essay'] = modern_love_df['essay'].map(sentences_to_remove)"
   ]
  },
  {
   "cell_type": "code",
   "execution_count": 19,
   "metadata": {},
   "outputs": [
    {
     "data": {
      "text/html": [
       "<div>\n",
       "<style scoped>\n",
       "    .dataframe tbody tr th:only-of-type {\n",
       "        vertical-align: middle;\n",
       "    }\n",
       "\n",
       "    .dataframe tbody tr th {\n",
       "        vertical-align: top;\n",
       "    }\n",
       "\n",
       "    .dataframe thead th {\n",
       "        text-align: right;\n",
       "    }\n",
       "</style>\n",
       "<table border=\"1\" class=\"dataframe\">\n",
       "  <thead>\n",
       "    <tr style=\"text-align: right;\">\n",
       "      <th></th>\n",
       "      <th>essay</th>\n",
       "    </tr>\n",
       "  </thead>\n",
       "  <tbody>\n",
       "    <tr>\n",
       "      <th>1103</th>\n",
       "      <td>Sometimes the mind slips into dark places. On one such day, I was in the kitchen when my mind busied itself thinking about all I hadn’t achieved. Juggling a career and motherhood, I wished I had more time for both. Believing myself to be alone, I muttered, “What am I good at?” Behind me, quite unexpectedly and matter-of-factly, without a moment’s hesitation, my 6-year-old piped up in his precocious way. “But Mom, without you there would be no laughter.” Nate is almost 33 now, living on the opposite coast. Thankfully, laughter still lights our way on dark days. — Nancy Rae</td>\n",
       "    </tr>\n",
       "  </tbody>\n",
       "</table>\n",
       "</div>"
      ],
      "text/plain": [
       "                                                                                                                                                                                                                                                                                                                                                                                                                                                                                                                                                                                                   essay\n",
       "1103  Sometimes the mind slips into dark places. On one such day, I was in the kitchen when my mind busied itself thinking about all I hadn’t achieved. Juggling a career and motherhood, I wished I had more time for both. Believing myself to be alone, I muttered, “What am I good at?” Behind me, quite unexpectedly and matter-of-factly, without a moment’s hesitation, my 6-year-old piped up in his precocious way. “But Mom, without you there would be no laughter.” Nate is almost 33 now, living on the opposite coast. Thankfully, laughter still lights our way on dark days. — Nancy Rae"
      ]
     },
     "execution_count": 19,
     "metadata": {},
     "output_type": "execute_result"
    }
   ],
   "source": [
    "modern_love_df_rev[['essay']].sample(1)"
   ]
  },
  {
   "cell_type": "code",
   "execution_count": 20,
   "metadata": {},
   "outputs": [
    {
     "data": {
      "text/plain": [
       "(1504, 12)"
      ]
     },
     "execution_count": 20,
     "metadata": {},
     "output_type": "execute_result"
    }
   ],
   "source": [
    "modern_love_df_rev.shape"
   ]
  },
  {
   "cell_type": "code",
   "execution_count": 220,
   "metadata": {},
   "outputs": [
    {
     "data": {
      "text/html": [
       "<div>\n",
       "<style scoped>\n",
       "    .dataframe tbody tr th:only-of-type {\n",
       "        vertical-align: middle;\n",
       "    }\n",
       "\n",
       "    .dataframe tbody tr th {\n",
       "        vertical-align: top;\n",
       "    }\n",
       "\n",
       "    .dataframe thead th {\n",
       "        text-align: right;\n",
       "    }\n",
       "</style>\n",
       "<table border=\"1\" class=\"dataframe\">\n",
       "  <thead>\n",
       "    <tr style=\"text-align: right;\">\n",
       "      <th></th>\n",
       "      <th>url</th>\n",
       "      <th>essay</th>\n",
       "      <th>id</th>\n",
       "      <th>headline</th>\n",
       "      <th>abstract</th>\n",
       "      <th>snippet</th>\n",
       "      <th>lead_paragraph</th>\n",
       "      <th>pub_date</th>\n",
       "      <th>news_desk</th>\n",
       "      <th>section</th>\n",
       "      <th>type_material</th>\n",
       "      <th>word_count</th>\n",
       "      <th>essay_no_sw</th>\n",
       "      <th>essay_rev</th>\n",
       "      <th>essay_rev_2</th>\n",
       "    </tr>\n",
       "  </thead>\n",
       "  <tbody>\n",
       "    <tr>\n",
       "      <th>0</th>\n",
       "      <td>https://www.nytimes.com/2022/02/25/style/modern-love-seeking-a-father-for-my-child-relationship-optional.html</td>\n",
       "      <td>Two days before I left South Dakota, Rex and I sat talking beneath the open hatchback of my car. In the distance, a lightning storm moved toward us over the open expanse of the Great Plains, churning the sky a murky purple. He was talking passionately about lithium batteries. The more he talked, the less he and I seemed to have in common. I considered myself someone who could become interested in almost anything, especially when I was attracted to the person speaking. But now I asked myself: Did I care about batteries? He and I were volunteers on the Pine Ridge Reservation, building and repairing infrastructure. He had been the first person to greet me when I arrived at the end of the long, dirt road. When he climbed out of the cab of a skid loader, and I saw his face, my body warmed. In the lyrical version of what happened as the storm approached, we would have stopped talking and taken seriously the pleasure of our bodies. But wanting to have a baby had made dating in my late 30s less like a poem and more like a math problem. There was a lot that had to line up, and what I was looking for now differed from what my younger self had envisioned. I didn’t care about dating someone for a certain amount of time before we had a baby, or being in love, or getting married. I wanted to like the biological father of my child, maybe admire him. That was about it. I had arrived at this set of criteria because the alternatives seemed sentimental and unrealistic, especially the husband-to-be wish lists that many of us champion during those years when we are both ready and able to have children. With the help of my sitting meditation practice, I had observed that the more I worried about getting pregnant, the less discerning I was about love, an effect I feared would intensify as I got older. How could I trust my judgment under pressure? Wouldn’t a lot of men start to smell like fathers? I decided the safest way to protect myself against romantic delusion would be to separate the two stories from the outset: I could try to find a mate or become a mother, but not at the same time. Since biological constraints made it easy to figure out which was more urgent, I resolved to have a child outside of the context of love. My solo road trip to South Dakota was conceived as an experience my future self, the one saddled with a dependent, would someday thank me for. When I returned home, I planned to get pregnant using an anonymous donor’s sperm. On my last evening with Rex, kissing in his tent, I realized there was a lot about him I didn’t know — who was in his life, where he worked, his last name. Before I crawled out of his tent, he asked for my phone number. He was headed home to Michigan, and I to California. I told him I thought we should leave things exactly as they were, which seemed perfect to me. “What, are you crazy?” he said, and he gave me his number. Back home, I pored over donor questionnaires at the local sperm bank, trying to keep straight who liked video games and who preferred billiards, but it all mixed blandly together for me. Phone conversations with Rex, though, were weird and memorable. He had inherited his father’s expressions such as “Son of a biscuit!” and “Jeez O’Pete’s!” Doting on his backyard laying hens, he often referred to himself as a “chicken mama.” He was the only 30-something adult I knew who had traveled on an airplane exactly once, a domestic round trip for a former job. We didn’t talk much about the parts of our lives that existed beyond the present. He mentioned that his relationship with a woman in Michigan was crumbling. All he knew of my path to motherhood was that I wanted a child. When my search for a donor stagnated from lacking a warm feeling about any of them, friends offered to screen profiles with me on the eve of my 40th birthday. Two donors received my friends’ approval, so I put myself on the wait-list for their sperm, though I still felt ambivalent. When I finally told Rex about my stalled plan to become a mother, he said, “I can help you with that.” I was silent. Then I said, “Don’t say something like that without thinking about it.” “I have.” He wasn’t interested in being a father or co-parent, so the scenarios we discussed assumed that by the time I gave birth, he and I no longer would be romantically involved. Soon he visited me in California and had his first experience soaking naked with strangers in hot springs, his first contact with thousand-year-old redwood trees (he cried). He gave back rubs that were accurate, not clumsy; his hands were full of life. We were still working on our donor arrangement. We were also falling in love. I went to stay with him in Michigan, where he taught me how to use a chain saw and care for chickens. Eventually, he followed me back to California, driving the whole way towing a homemade trailer filled with tools. During this time, we were trying to live two separate stories: the one in which every month we tried to conceive, and the other in which we were still getting to know each other. But the more we enjoyed ourselves, the more confusing our situation became. If I got pregnant, would he leave the relationship? If I didn’t get pregnant, would I switch to another donor? About a year after he offered to be my donor, we began to have these difficult conversations. And in the middle of them, I got pregnant. Such was his generosity that he was genuinely thrilled for me. Inwardly, though, he began to withdraw. He still didn’t want to be a father or co-parent; the thought of either brought up old wounds from his childhood. Every day of his indecision, I was tempted to try to convince him to stay. Most days, I had enough sanity to recognize that doing this would harm us both. On the day he left California, he took a photograph of me looking haunted. Then he got in his car and drove east. It was Father’s Day. After he left, I scrambled into action, interviewing midwives, searching online for used baby gear, and trying to explain to the being in my womb why I was crying a lot: “I’m sorry, baby. I’m OK, just sad.” Then weeks later, without warning, a text arrived: “I made a terrible mistake.” By then, I recognized he wasn’t the only one. When love and a baby coincided for me, I still believed I could separate the two and remain fundamentally unchanged. Not until Rex and I were suffering was I able to see that the clean reality I envisioned had never existed between us. It had evaporated the moment he greeted me at the end of the dirt road, and my body responded with warmth. Buddhism is founded on the truth that suffering is caused by desire, which at first glance can make both suffering and desire sound unequivocally bad. But the beauty of suffering is that it offers the opportunity to have a curious and tender relationship with desire, to listen to it rather than try to eradicate it. Often what I hear beneath my desire’s surface noise isn’t problematic, only human: the vulnerability in having a life tangled up with others. In Rex’s absence, I remembered that tending to a lover or child is dirty work, in the most wholesome sense. We don’t fall in love or have a baby to have our points of view and preferences affirmed. We do it, at least a little bit, to soften our singular, lonesome grip on reality and invite in the unexpected, the undesirable and the inexplicable. This — call it messiness, or richness, or hands full of life — is what is beautiful and natural about being an animal with appetites beyond our understanding. Being faithful in the deepest sense to a lover or baby is saying yes to the weird and memorable before you know you want it or welcome it. Rex came to this in his own way. He told me that since he left California, he had been listening to podcasts about fatherhood and looking at the photo of me he took the day he left. He’d been crying, too. And he wanted to come back. “To the baby?” I said. “Or to me?” “Both,” he said. And he did. He sold his heaviest tools, repainted walls and put his house in Michigan up for sale. And two months later, he was back in California in time to catch in his hands our son being born.</td>\n",
       "      <td>nyt://article/6e9a00c9-b1c7-5f0e-b16e-74e4cdab6ceb</td>\n",
       "      <td>Seeking a Father for My Child (Relationship Optional)</td>\n",
       "      <td>Nearing 40, I decided to separate dating from mating.</td>\n",
       "      <td>Nearing 40, I decided to separate dating from mating.</td>\n",
       "      <td>Two days before I left South Dakota, Rex and I sat talking beneath the open hatchback of my car. In the distance, a lightning storm moved toward us over the open expanse of the Great Plains, churning the sky a murky purple.</td>\n",
       "      <td>2022-02-25</td>\n",
       "      <td>Styles</td>\n",
       "      <td>Style</td>\n",
       "      <td>News</td>\n",
       "      <td>1557</td>\n",
       "      <td>Two days I left South Dakota, Rex I sat talking beneath open hatchback car. In distance, lightning storm moved open expanse Great Plains, churning sky murky purple. He talking passionately lithium batteries. The talked, I common. I considered interested anything, especially I attracted person speaking. But I asked myself: Did I care batteries? He I volunteers Pine Ridge Reservation, building repairing infrastructure. He person greet I arrived end long, dirt road. When climbed cab skid loader, I saw face, body warmed. In lyrical version happened storm approached, stopped talking taken seriously pleasure bodies. But wanting baby dating late 30s like poem like math problem. There lot line up, I looking differed younger self envisioned. I didn’t care dating certain time baby, love, getting married. I wanted like biological father child, maybe admire him. That it. I arrived set criteria alternatives sentimental unrealistic, especially husband-to-be wish lists champion years ready able children. With help sitting meditation practice, I observed I worried getting pregnant, discerning I love, effect I feared intensify I got older. How I trust judgment pressure? Wouldn’t lot men start smell like fathers? I decided safest way protect romantic delusion separate stories outset: I try find mate mother, time. Since biological constraints easy figure urgent, I resolved child outside context love. My solo road trip South Dakota conceived experience future self, saddled dependent, someday thank for. When I returned home, I planned pregnant anonymous donor’s sperm. On evening Rex, kissing tent, I realized lot I didn’t know — life, worked, name. Before I crawled tent, asked phone number. He headed home Michigan, I California. I told I thought leave things exactly were, perfect me. “What, crazy?” said, gave number. Back home, I pored donor questionnaires local sperm bank, trying straight liked video games preferred billiards, mixed blandly me. Phone conversations Rex, though, weird memorable. He inherited father’s expressions “Son biscuit!” “Jeez O’Pete’s!” Doting backyard laying hens, referred “chicken mama.” He 30-something adult I knew traveled airplane exactly once, domestic round trip job. We didn’t talk parts lives existed present. He mentioned relationship woman Michigan crumbling. All knew path motherhood I wanted child. When search donor stagnated lacking warm feeling them, friends offered screen profiles eve 40th birthday. Two donors received friends’ approval, I wait-list sperm, I felt ambivalent. When I finally told Rex stalled plan mother, said, “I help that.” I silent. Then I said, “Don’t like thinking it.” “I have.” He wasn’t interested father co-parent, scenarios discussed assumed time I gave birth, I longer romantically involved. Soon visited California experience soaking naked strangers hot springs, contact thousand-year-old redwood trees (he cried). He gave rubs accurate, clumsy; hands life. We working donor arrangement. We falling love. I went stay Michigan, taught use chain saw care chickens. Eventually, followed California, driving way towing homemade trailer filled tools. During time, trying live separate stories: month tried conceive, getting know other. But enjoyed ourselves, confusing situation became. If I got pregnant, leave relationship? If I didn’t pregnant, I switch donor? About year offered donor, began difficult conversations. And middle them, I got pregnant. Such generosity genuinely thrilled me. Inwardly, though, began withdraw. He didn’t want father co-parent; thought brought old wounds childhood. Every day indecision, I tempted try convince stay. Most days, I sanity recognize harm both. On day left California, took photograph looking haunted. Then got car drove east. It Father’s Day. After left, I scrambled action, interviewing midwives, searching online baby gear, trying explain womb I crying lot: “I’m sorry, baby. I’m OK, sad.” Then weeks later, warning, text arrived: “I terrible mistake.” By then, I recognized wasn’t one. When love baby coincided me, I believed I separate remain fundamentally unchanged. Not Rex I suffering I able clean reality I envisioned existed us. It evaporated moment greeted end dirt road, body responded warmth. Buddhism founded truth suffering caused desire, glance suffering desire sound unequivocally bad. But beauty suffering offers opportunity curious tender relationship desire, listen try eradicate it. Often I hear beneath desire’s surface noise isn’t problematic, human: vulnerability having life tangled others. In Rex’s absence, I remembered tending lover child dirty work, wholesome sense. We don’t fall love baby points view preferences affirmed. We it, little bit, soften singular, lonesome grip reality invite unexpected, undesirable inexplicable. This — messiness, richness, hands life — beautiful natural animal appetites understanding. Being faithful deepest sense lover baby saying yes weird memorable know want welcome it. Rex came way. He told left California, listening podcasts fatherhood looking photo took day left. He’d crying, too. And wanted come back. “To baby?” I said. “Or me?” “Both,” said. And did. He sold heaviest tools, repainted walls house Michigan sale. And months later, California time catch hands son born.</td>\n",
       "      <td>day leave south dakota rex sit talk beneath open hatchback car distance lightning storm move open expanse great plains churn sky murky purple talk passionately lithium battery talk common consider interested especially attract person speak ask care battery volunteer pine ridge reservation build repair infrastructure person greet arrive end long dirt road climb cab skid loader see face body warm lyrical version happen storm approach stop talk take seriously pleasure body want baby date late poem math problem lot line look differ young self envision care date certain time baby love getting marry want biological father child maybe admire arrive set criterion alternative sentimental unrealistic especially husband wish list champion year ready able child help sit meditation practice observe worry get pregnant discerning love effect fear intensify get old trust judgment pressure lot man start smell father decide safe way protect romantic delusion separate story outset try find mate mother time biological constraint easy figure urgent resolve child outside context love solo road trip south dakota conceive experience future self saddle dependent someday thank return home plan pregnant anonymous donor sperm evening rex kiss tent realize lot know life work crawl tent ask phone number head home michigan california tell think leave thing exactly perfect crazy say give number home pore donor questionnaire local sperm bank try straight like video game preferred billiard mix blandly phone conversation rex weird memorable inherit father expression son biscuit jeez dote backyard lay hen refer chicken mama adult know travel airplane exactly domestic round trip job talk part life exist present mention relationship woman michigan crumble know path motherhood want child search donor stagnate lack warm feeling friend offer screen profile eve birthday donor receive friend approval wait list sperm feel ambivalent finally tell rex stalled plan mother say help silent say think interested father co parent scenario discuss assume time give birth long romantically involve soon visit california experience soak naked stranger hot spring contact year old redwood tree cry give rub accurate clumsy hand life work donor arrangement fall love go stay michigan teach use chain saw care chicken eventually follow california drive way tow homemade trailer fill tool time try live separate story month try conceive get know enjoy confusing situation get pregnant leave relationship pregnant switch donor year offer donor begin difficult conversation middle get pregnant generosity genuinely thrilled inwardly begin withdraw father co parent thought bring old wound childhood day indecision tempt try convince stay day sanity recognize harm day leave california take photograph look haunted get car drive east father day leave scramble action interview midwife search online baby gear try explain womb cry lot sorry baby ok sad week later warning text arrive terrible mistake recognize love baby coincide believe separate remain fundamentally unchanged rex suffer able clean reality envision exist evaporate moment greet end dirt road body respond warmth buddhism found truth suffering cause desire glance suffer desire sound unequivocally bad beauty suffering offer opportunity curious tender relationship desire listen try eradicate hear beneath desire surface noise problematic human vulnerability have life tangle rex absence remember tend lover child dirty work wholesome sense fall love baby point view preference affirm little bit soften singular lonesome grip reality invite unexpected undesirable inexplicable messiness richness hand life beautiful natural animal appetite understanding faithful deep sense lover baby say yes weird memorable know welcome rex come way tell leave california listen podcast fatherhood look photo take day leave cry want come baby say say sell heavy tool repaint wall house michigan sale month later california time catch hand son bear</td>\n",
       "      <td>day leave south dakota rex sit talk beneath open hatchback car distance lightning storm open expanse great plains churn sky murky purple talk passionately lithium battery talk common consider interested especially attract person speak care battery volunteer pine ridge reservation build repair infrastructure person greet arrive end long dirt road climb cab skid loader face body warm lyrical version happen storm approach stop talk seriously pleasure body baby date late poem math problem lot line look differ young self envision care date certain time baby love getting marry biological father child maybe admire arrive set criterion alternative sentimental unrealistic especially husband wish list champion year ready able child help sit meditation practice observe worry pregnant discerning love effect fear intensify old trust judgment pressure lot man start smell father decide safe way protect romantic delusion separate story outset try find mate mother time biological constraint easy figure urgent resolve child outside context love solo road trip south dakota conceive experience future self saddle dependent someday thank return home plan pregnant anonymous donor sperm evening rex kiss tent realize lot life work crawl tent phone number head home michigan california leave exactly perfect crazy number home pore donor questionnaire local sperm bank try straight video game preferred billiard mix blandly phone conversation rex weird memorable inherit father expression son biscuit jeez dote backyard lay hen refer chicken mama adult travel airplane exactly domestic round trip job talk life exist present mention relationship woman michigan crumble path motherhood child search donor stagnate lack warm feeling friend offer screen profile eve birthday donor receive friend approval wait list sperm feel ambivalent finally rex stalled plan mother help silent interested father co parent scenario discuss assume time birth long romantically involve soon visit california experience soak naked stranger hot spring contact year old redwood tree cry rub accurate clumsy hand life work donor arrangement fall love stay michigan teach use chain saw care chicken eventually follow california drive way tow homemade trailer fill tool time try live separate story month try conceive enjoy confusing situation pregnant leave relationship pregnant switch donor year offer donor begin difficult conversation middle pregnant generosity genuinely thrilled inwardly begin withdraw father co parent thought bring old wound childhood day indecision tempt try convince stay day sanity recognize harm day leave california photograph look haunted car drive east father day leave scramble action interview midwife search online baby gear try explain womb cry lot sorry baby ok sad week later warning text arrive terrible mistake recognize love baby coincide believe separate remain fundamentally unchanged rex suffer able clean reality envision exist evaporate moment greet end dirt road body respond warmth buddhism found truth suffering cause desire glance suffer desire sound unequivocally bad beauty suffering offer opportunity curious tender relationship desire listen try eradicate hear beneath desire surface noise problematic human vulnerability life tangle rex absence remember tend lover child dirty work wholesome sense fall love baby point view preference affirm little bit soften singular lonesome grip reality invite unexpected undesirable inexplicable messiness richness hand life beautiful natural animal appetite understanding faithful deep sense lover baby yes weird memorable welcome rex come way leave california listen podcast fatherhood look photo day leave cry come baby sell heavy tool repaint wall house michigan sale month later california time catch hand son bear</td>\n",
       "    </tr>\n",
       "    <tr>\n",
       "      <th>2</th>\n",
       "      <td>https://www.nytimes.com/2022/02/11/style/modern-love-gay-couple.html</td>\n",
       "      <td>Peter and I hitched our wagons young. Early 20s. He was wildly handsome, gay, with soulful brown eyes and a head full of loose, unruly curls. Raised by an African American woman and a white preacher man, Peter spent his childhood steeped in the evangelical ministry. He was as terrified of his father’s sermons as he was soothed by his mother’s inclination to administer to the more human aspects of the congregation they both led. The night I met Peter, he and I fell all the way in love. Kismet, you could say. He made me laugh with his very first words. It was my first time at the Nuyorican Poets Cafe, the premier debut joint for every performance poet trying to get onto the New York City poetry scene. I read my first piece on the open mic after the slam. Peter was among the first admirers to make his way through the applauding crowd to tell me I had simultaneously embodied the fury of his father and the vulnerability of his mother — and, as such, I was destined to be one of his true loves. “Only one of?” I asked. “Fate isn’t fixed,” he said, “The gods have to leave room for surprises!” By the time we met in the fall of 1997, Peter’s parents were long divorced. His father had left the church. And Peter was already exploring other truths to believe in. Poetry was his new religion. His poems were long, lyrical and lovingly painted with the impossibly beautiful brushstrokes of utopia. He lived his life with the same energy. He believed in the goodness of people. Once, in the middle of winter in Washington Square Park, I watched him unbutton his coat and drape it across the shoulders of a drunk who had just called him a homophobic slur. I was an ex-Christian and newly out lesbian fleeing the violent homophobia of the late 1990s in Jamaica, still wearing the fury of being attacked by a dozen boys and sexually assaulted in Kingston. I was ashamed and angry that it defined my final year of university. That’s why I moved to New York City on a tourist visa. I needed somewhere safe to call home. But I felt at sea in this new country. I had a few aunts and uncles in New York, but before any of this I had absolutely no relationship with my biological family. My parents had abandoned me — my mother at birth, and my father hadn’t even shown up. And now that I had announced that I was a lesbian, that already distant extended family wanted less to do with me. I was in New York in search of safety. Freedom. And room to explore my budding lesbian identity. I was seeking a tribe to which I could unequivocally belong. And the performance poetry slam scene was a mixture of every kind of misfit. Peter and I fit right in. In no time, it felt as if we had known each other our whole lives. We shared everything: stories, poems, disappointments, hopes. We spent most evenings together. I’d meet him after work and go to whichever cafe was holding a slam competition that night. He knew everything about me: how broke I was, who stole my favorite vibrator, the ex-cop who hit me — how I kept going back to her. Every time. One night, after a particularly bad fight with my abusive partner, my roommate cornered me and told me she was going to raise the rent unless I had sex with her. My tourist visa was almost expired. I had no money except what I won at the slams — and that was barely enough to pay for the couch, ramen noodles and a MetroCard. I had no work permit, so I couldn’t get a job. I couldn’t apply for any services. Without papers I couldn’t even get into a shelter. I told Peter I was going to give up on this crazy dream of freedom in New York to go back to Jamaica. He was quiet while I explained what it meant to be undocumented; I went on about green cards and citizenship and visas and immigration authorities. When I was done talking, he asked me to marry him. When I pushed back, saying such a marriage was illegal and that it might land us in trouble with the law, he said the law was wrong. “You love me, right?” I nodded. “Well, I love you. You love me. I want children. You want children, right?” “Right …” “Well, that is what people do when they love each other and they want to have children together. They get married. And that makes them a family. They can’t have it both ways. And love is love, right?” His argument was sound. If the rules were fair, I would have been able to marry a woman, get citizenship and start a family with her. As it stood in the U.S., that wasn’t allowed. But Peter and I were well within our right to claim the perks of being a couple. We were already partners. He was already my family. We were married at City Hall. Peter’s lover, who was to be our witness, didn’t even show up for the wedding. We had to ask a beautiful man in cowboy boots and a sequined vest to stand in for him. After our very giggly “I dos,” Peter invited me to Thanksgiving dinner with his family. Before the month was out, I moved in with him and his amazing mother, Carole Linda, in the beautiful old house, the one that was once his parents’ church, two blocks from the beach in Far Rockaway. We spent three magical years living together. No one understood the quirky, kooky couple who arrived together, left together, but flirted with everyone in between. We had so much fun together. We were the perfect couple. We knew we’d be the perfect parents. But we were a modern couple. We wanted to be more intentional, more deliberate about our choices than our parents had been. We had more living to do before we took on the responsibilities of children. We didn’t have money, but we had lots of time. We were committed to living first. But at 29 Peter was diagnosed with cancer. Stage 4. He was diagnosed in May. He died on Dec. 16. At 11:30. Half-hour before he would turn 30. I was so furious at him dying, I couldn’t cry. It felt as if all my dreams of family died with him; a partner, children, my willing comrade in the radical redefining of the modern family, modern love. His mother was better at making peace with the heavens over the loss of her firstborn. I was surprised at her ability to remain connected to me. She stayed close, calling, sending Christmas cards, checking in, even as I remained distant, angry, unsure about deserving the magic of the family Peter had so tragically, suddenly, left behind. I grudgingly remained connected to his younger brother, CJ, who reminded me so much of Peter. Except he wasn’t gay, or a poet. He grew up to be a fine filmmaker and the only straight man in the L.G.B.T.Q. alliance in college. We often called each other to reminisce about Peter, to recount the sorcery of him, to bask in the shared memory of his magic. Later, when I became frantic with the desire to start a family — chasing gay men at house parties, begging sperm from strangers on planes — I broke down and wept for what felt like the too-early death of my husband. I didn’t want to be the strange young widow hosting lesbian parties in Crown Heights. I wanted to be the badass lesbian writer, with the flamboyant gay husband, raising four children in a rambling old house that used to be a church, two blocks from the beach in Far Rockaway. In one conversation with CJ, he interrupted to ask if there was a way he could stand in for Peter, by giving me his sperm. A year later, my daughter, Zuri, the most astounding miracle, born a decade after Peter’s death, refers to Peter as her “almost dad.” Carole Linda is still my mother-in-law and my kid’s actual, biological grandmother. Zuri’s “Baba,” CJ, got married last August. Zuri almost passed out from the joy of being asked to be the ring bearer at the wedding. We all traveled from multiple cities to watch them speak the vows. His brothers, their wives, Peter’s grandmother, his father, me, my non-monogamous partner and a beautiful cohort of ordinary folks, misfits, artists, preachers, writers, activists, gay, straight, nonbinary. I looked around the room, thinking if we had had the choice, this is what Peter’s and my wedding would have looked like. Peter would have reveled in it. Some days I still hear Peter’s voice inside my head, rustling in the fall wind, booming in the rush of traffic on the West Side Highway. He’s always whispering, screaming, saying the same thing, “Fate isn’t fixed, Staceyann. There is always some room for the gods to surprise us.”</td>\n",
       "      <td>nyt://article/9bf4e7f6-c4f5-57c7-b77f-5b55736fa99c</td>\n",
       "      <td>The Lesbian Writer and Her Flamboyant Gay Husband</td>\n",
       "      <td>Peter taught me to laugh at fate as we lived our dream. At least for a while.</td>\n",
       "      <td>Peter taught me to laugh at fate as we lived our dream. At least for a while.</td>\n",
       "      <td>This essay is part of a collaborative project with Black History, Continued. We invited readers and renowned writers to respond to the question “What is Black love today?”</td>\n",
       "      <td>2022-02-11</td>\n",
       "      <td>SpecialSections</td>\n",
       "      <td>Style</td>\n",
       "      <td>News</td>\n",
       "      <td>1619</td>\n",
       "      <td>Peter I hitched wagons young. Early 20s. He wildly handsome, gay, soulful brown eyes head loose, unruly curls. Raised African American woman white preacher man, Peter spent childhood steeped evangelical ministry. He terrified father’s sermons soothed mother’s inclination administer human aspects congregation led. The night I met Peter, I fell way love. Kismet, say. He laugh words. It time Nuyorican Poets Cafe, premier debut joint performance poet trying New York City poetry scene. I read piece open mic slam. Peter admirers way applauding crowd tell I simultaneously embodied fury father vulnerability mother — and, such, I destined true loves. “Only of?” I asked. “Fate isn’t fixed,” said, “The gods leave room surprises!” By time met fall 1997, Peter’s parents long divorced. His father left church. And Peter exploring truths believe in. Poetry new religion. His poems long, lyrical lovingly painted impossibly beautiful brushstrokes utopia. He lived life energy. He believed goodness people. Once, middle winter Washington Square Park, I watched unbutton coat drape shoulders drunk called homophobic slur. I ex-Christian newly lesbian fleeing violent homophobia late 1990s Jamaica, wearing fury attacked dozen boys sexually assaulted Kingston. I ashamed angry defined final year university. That’s I moved New York City tourist visa. I needed safe home. But I felt sea new country. I aunts uncles New York, I absolutely relationship biological family. My parents abandoned — mother birth, father hadn’t shown up. And I announced I lesbian, distant extended family wanted me. I New York search safety. Freedom. And room explore budding lesbian identity. I seeking tribe I unequivocally belong. And performance poetry slam scene mixture kind misfit. Peter I fit right in. In time, felt known lives. We shared everything: stories, poems, disappointments, hopes. We spent evenings together. I’d meet work whichever cafe holding slam competition night. He knew me: broke I was, stole favorite vibrator, ex-cop hit — I kept going her. Every time. One night, particularly bad fight abusive partner, roommate cornered told going raise rent I sex her. My tourist visa expired. I money I won slams — barely pay couch, ramen noodles MetroCard. I work permit, I couldn’t job. I couldn’t apply services. Without papers I couldn’t shelter. I told Peter I going crazy dream freedom New York Jamaica. He quiet I explained meant undocumented; I went green cards citizenship visas immigration authorities. When I talking, asked marry him. When I pushed back, saying marriage illegal land trouble law, said law wrong. “You love me, right?” I nodded. “Well, I love you. You love me. I want children. You want children, right?” “Right …” “Well, people love want children together. They married. And makes family. They can’t ways. And love love, right?” His argument sound. If rules fair, I able marry woman, citizenship start family her. As stood U.S., wasn’t allowed. But Peter I right claim perks couple. We partners. He family. We married City Hall. Peter’s lover, witness, didn’t wedding. We ask beautiful man cowboy boots sequined vest stand him. After giggly “I dos,” Peter invited Thanksgiving dinner family. Before month out, I moved amazing mother, Carole Linda, beautiful old house, parents’ church, blocks beach Far Rockaway. We spent magical years living together. No understood quirky, kooky couple arrived together, left together, flirted between. We fun together. We perfect couple. We knew we’d perfect parents. But modern couple. We wanted intentional, deliberate choices parents been. We living took responsibilities children. We didn’t money, lots time. We committed living first. But 29 Peter diagnosed cancer. Stage 4. He diagnosed May. He died Dec. 16. At 11:30. Half-hour turn 30. I furious dying, I couldn’t cry. It felt dreams family died him; partner, children, willing comrade radical redefining modern family, modern love. His mother better making peace heavens loss firstborn. I surprised ability remain connected me. She stayed close, calling, sending Christmas cards, checking in, I remained distant, angry, unsure deserving magic family Peter tragically, suddenly, left behind. I grudgingly remained connected younger brother, CJ, reminded Peter. Except wasn’t gay, poet. He grew fine filmmaker straight man L.G.B.T.Q. alliance college. We called reminisce Peter, recount sorcery him, bask shared memory magic. Later, I frantic desire start family — chasing gay men house parties, begging sperm strangers planes — I broke wept felt like too-early death husband. I didn’t want strange young widow hosting lesbian parties Crown Heights. I wanted badass lesbian writer, flamboyant gay husband, raising children rambling old house church, blocks beach Far Rockaway. In conversation CJ, interrupted ask way stand Peter, giving sperm. A year later, daughter, Zuri, astounding miracle, born decade Peter’s death, refers Peter “almost dad.” Carole Linda mother-in-law kid’s actual, biological grandmother. Zuri’s “Baba,” CJ, got married August. Zuri passed joy asked ring bearer wedding. We traveled multiple cities watch speak vows. His brothers, wives, Peter’s grandmother, father, me, non-monogamous partner beautiful cohort ordinary folks, misfits, artists, preachers, writers, activists, gay, straight, nonbinary. I looked room, thinking choice, Peter’s wedding looked like. Peter reveled it. Some days I hear Peter’s voice inside head, rustling fall wind, booming rush traffic West Side Highway. He’s whispering, screaming, saying thing, “Fate isn’t fixed, Staceyann. There room gods surprise us.”</td>\n",
       "      <td>peter hitch wagon young early wildly handsome gay soulful brown eye head loose unruly curl raise african american woman white preacher man peter spend childhood steep evangelical ministry terrified father sermon soothe mother inclination administer human aspect congregation lead night meet peter fall way love kismet laugh word time nuyorican poets cafe premier debut joint performance poet try new york city poetry scene read piece open mic slam peter admirer way applauding crowd simultaneously embody fury father vulnerability mother destine true love ask fate fix say god leave room surprise time meet fall peter parent long divorced father leave church peter explore truth believe poetry new religion poem long lyrical lovingly paint impossibly beautiful brushstroke utopia live life energy believe goodness people middle winter washington square park watch unbutton coat drape shoulder drunk call homophobic slur ex christian newly lesbian flee violent homophobia late jamaica wear fury attack dozen boy sexually assault kingston ashamed angry define final year university move new york city tourist visa need safe home feel sea new country aunt uncle new york absolutely relationship biological family parent abandon mother birth father show announce lesbian distant extended family want new york search safety freedom room explore budding lesbian identity seek tribe unequivocally belong performance poetry slam scene mixture kind misfit peter fit right time feel know life share story poem disappointment hope spend evening meet work whichever cafe hold slam competition night know break steal favorite vibrator ex cop hit keep go time night particularly bad fight abusive partner roommate corner tell go raise rent sex tourist visa expire money win slam barely pay couch ramen noodle metrocard work permit job apply service paper shelter tell peter go crazy dream freedom new york jamaica quiet explain mean undocumente go green card citizenship visa immigration authority talk ask marry push say marriage illegal land trouble law say law wrong love right nod love love child child right right people love child marry make family way love love right argument sound rule fair able marry woman citizenship start family stand allow peter right claim perk couple partner family marry city hall peter lover witness wedding ask beautiful man cowboy boot sequined vest stand giggly do peter invite thanksgiving dinner family month move amazing mother carole linda beautiful old house parent church block beach far rockaway spend magical year live understand quirky kooky couple arrive leave flirt fun perfect couple know perfect parent modern couple want intentional deliberate choice parent live take responsibility child money lot time commit live peter diagnose cancer stage diagnose die half hour turn furious die cry feel dream family die partner child willing comrade radical redefining modern family modern love mother well make peace heaven loss firstborn surprised ability remain connected stay close call send christmas card check remain distant angry unsure deserve magic family peter tragically suddenly leave grudgingly remain connected young brother cj remind peter gay poet grow fine filmmaker straight man alliance college call reminisce peter recount sorcery bask shared memory magic later frantic desire start family chase gay man house party beg sperm stranger plane break weep feel early death husband strange young widow host lesbian party crown heights want badass lesbian writer flamboyant gay husband raise child ramble old house church block beach far rockaway conversation cj interrupt ask way stand peter give sperm year later daughter zuri astounding miracle bear decade peter death refer peter dad carole linda mother law kid actual biological grandmother zuri baba cj got marry august zuri pass joy ask ring bearer wedding travel multiple city watch speak vow brother wife peter grandmother father non monogamous partner beautiful cohort ordinary folk misfit artist preacher writer activist gay straight nonbinary look room think choice peter wedding look peter revel day hear peter voice inside head rustle fall wind boom rush traffic west highway whisper scream say thing fate fix staceyann room god surprise</td>\n",
       "      <td>peter hitch wagon young early wildly handsome gay soulful brown eye head loose unruly curl raise african american woman white preacher man peter spend childhood steep evangelical ministry terrified father sermon soothe mother inclination administer human aspect congregation lead night meet peter fall way love kismet laugh word time nuyorican poets cafe premier debut joint performance poet try new york city poetry scene read piece open mic slam peter admirer way applauding crowd simultaneously embody fury father vulnerability mother destine true love fate fix god leave room surprise time meet fall peter parent long divorced father leave church peter explore truth believe poetry new religion poem long lyrical lovingly paint impossibly beautiful brushstroke utopia live life energy believe goodness people middle winter washington square park watch unbutton coat drape shoulder drunk homophobic slur ex christian newly lesbian flee violent homophobia late jamaica wear fury attack dozen boy sexually assault kingston ashamed angry define final year university new york city tourist visa need safe home feel sea new country aunt uncle new york absolutely relationship biological family parent abandon mother birth father announce lesbian distant extended family new york search safety freedom room explore budding lesbian identity seek tribe unequivocally belong performance poetry slam scene mixture kind misfit peter fit right time feel life share story poem disappointment hope spend evening meet work whichever cafe hold slam competition night break steal favorite vibrator ex cop hit time night particularly bad fight abusive partner roommate corner raise rent sex tourist visa expire money win slam barely pay couch ramen noodle metrocard work permit job apply service paper shelter peter crazy dream freedom new york jamaica quiet explain mean undocumente green card citizenship visa immigration authority talk marry push marriage illegal land trouble law law wrong love right nod love love child child right right people love child marry family way love love right argument sound rule fair able marry woman citizenship start family stand allow peter right claim perk couple partner family marry city hall peter lover witness wedding beautiful man cowboy boot sequined vest stand giggly peter invite thanksgiving dinner family month amazing mother carole linda beautiful old house parent church block beach far rockaway spend magical year live understand quirky kooky couple arrive leave flirt fun perfect couple perfect parent modern couple intentional deliberate choice parent live responsibility child money lot time commit live peter diagnose cancer stage diagnose die half hour turn furious die cry feel dream family die partner child willing comrade radical redefining modern family modern love mother peace heaven loss firstborn surprised ability remain connected stay close send christmas card check remain distant angry unsure deserve magic family peter tragically suddenly leave grudgingly remain connected young brother cj remind peter gay poet grow fine filmmaker straight man alliance college reminisce peter recount sorcery bask shared memory magic later frantic desire start family chase gay man house party beg sperm stranger plane break weep feel early death husband strange young widow host lesbian party crown heights badass lesbian writer flamboyant gay husband raise child ramble old house church block beach far rockaway conversation cj interrupt way stand peter sperm year later daughter zuri astounding miracle bear decade peter death refer peter dad carole linda mother law kid actual biological grandmother zuri baba cj got marry august zuri pass joy ring bearer wedding travel multiple city watch speak vow brother wife peter grandmother father non monogamous partner beautiful cohort ordinary folk misfit artist preacher writer activist gay straight nonbinary look room choice peter wedding look peter revel day hear peter voice inside head rustle fall wind boom rush traffic west highway whisper scream fate fix staceyann room god surprise</td>\n",
       "    </tr>\n",
       "    <tr>\n",
       "      <th>3</th>\n",
       "      <td>https://www.nytimes.com/2022/02/11/style/modern-love-confidence-self-love.html</td>\n",
       "      <td>I’ve spent my whole life looking for similarities between myself and the protagonists in love stories. When I lost my father to prison and my mother’s attention to her double duties as a single parent, I escaped through books in an attempt to reimagine what love could look like. But the couples, usually locked in an embrace on the cover of those “harmless” rags, looked nothing like the people in my house. Abuse ruined the bones of our homes and turned them into rotten structures. My hopes of experiencing romance in the future seemed incompatible with my reality. I had no example of romantic love, not for girls that looked like me, until my cousin, Tiffany. Two years older than me, and seemingly in control of her life, Tiffany became a blueprint; no, a mirror — a way to see myself clearly. She was everything I wanted to be. She garnered attention when she walked into a room: ash brown hair, freckles and a genuine smile. Tiffany was beyond cool, she was fresh; beyond fresh, she was fly; beyond fly, her energy was unmatched. My cousin was my protector, the way an older sister should be. Tiffany taught me love by listening. She let me read her books and sing her songs from my favorite musicals. She joined me at my softball games and would sit next to me on the bench when I played catcher. She gave me tips for getting my crushes’ attention (none of which worked). First place in the oratory contest, she cheered. Solo during choir performance, she tossed a thumbs-up sign from the pew. We were inseparable until she went to high school and left me to fend for myself in those unimaginable middle school bouts of self-doubt. At 15, Tiffany had her first child. A little girl with a light as remarkable as her own, and the temperament of a doe. When she was pregnant, I asked her, “Are you sure?” She smiled and rubbed her belly. And just like that, my purpose was clear: I would have a daughter, too. Tiffany’s Little Light studied everything. Her mouth was an overturned cup spilling sunshine. They were an emerging constellation when they walked into a room together, stars to anybody who drew breath. They became a part of my vision board for maternal love. Do not be fooled, I too received this kind of love from my own mother. But it was so far removed from my teenage psyche, it wasn’t something I could pluck from my memory easily. You know, the way mirrors neglect to reflect what we’ve been conditioned to disbelieve. Despite the judgment of her being too young to raise a baby, Tiffany glowed. She glowed so brightly one could even say it blinded the jealous. And when Tiffany had her third child, she moved from California to find her footing in Baton Rouge. Her relationship with the father of her children, who I would later learn became more obsessed with the idea of owning Tiffany than loving her, was a wake-up call: Love is not transactional. Love is not ownership. Love is simply an act of absolute care. While love is an active verb, sometimes it ain’t enough at all. At 21, I had my daughter with my high school sweetheart. At 23, I left the dissolving relationship for a life that could hold my dreams to secure a future for my daughter. I called Tiffany to tell her the news. She answered, and I could hear her three children playing in the background. Little Light was now the eldest and took her job as protector of her two younger brothers seriously. “Cousin, are you sure?” Tiffany asked me. “Aren’t you scared?” I laughed away whatever fear I was carrying and told her I would be back. That it was just for the summer. But Tiffany knew what I couldn’t see yet. That I would find writing and become the woman of my own dreams. I cloaked myself in Tiffany’s charm and wore it until it became a second skin. This is how I arrived in Bed-Stuy, Brooklyn. I only dated men who called me beautiful. I flirted with anyone who could hold an interesting conversation. I gave love a run for its money because the only thing that truly kept my attention was my daughter’s health and laughter, and my burgeoning career in writing. I carried this new me everywhere: New York City, Poland, Britain and Canada. When the summer became a year, and the year became a decade, I recognized so much of my cousin in the way I carried myself. I loved how I looked to myself in the mirror. I loved how I looked from the reflection in my daughter’s eyes. Like Tiffany, I began to move through rooms easy like the wind, soundless and certain. This feeling stayed with me, from the red steps of our grandparents’ home in West Oakland to the Bed-Stuy stoops that became my sanctuary. At first, before she had her fifth child, Tiffany and I checked in weekly, then monthly, after she had her seventh child. Phone calls became text messages as our lives busied. She was raising eight children on her own and re-establishing herself after finally leaving an abusive relationship. Every other year I would visit, and when I couldn’t be physically present, I sent supportive messages, care packages and invitations for her to visit me on tour. After 15 years of visits dictated by holiday breaks and family reunions, I invited Tiffany to Florida. Tiffany had never been and was on a break from her on-again off-again relationship. I wanted to protect her. I wanted her to see what the world had to offer. She was the very best part of me. She gave me courage. She gave me reassurance. She gave me pep talks. She gave me compliments. Loving and celebrating others was natural for Tiffany. The least I could do was repay her generosity by giving her the space she needed to figure out who she wanted to be. Through Tiffany’s turbulent relationships, and her absolute love for her children, I began to understand what love costs. When she met me in Miami, a place I traveled to for weekends and took for granted, her eyes welled up with tears. I asked, “What’s wrong, cousin?” By the time she could pull herself together, we were walking alongside the beach, our manicured toes leaving kiss-prints on the sand. “I never thought I would get to see the Atlantic Ocean,” she said, tears sliding down her freckled face. “I feel like all I have is my kids. I’ve never traveled and seen the world like you.” I held my breath, terrified by the weight of the moment, but ready to rise to the occasion and remind her what she taught me so many years before. Fairy tales might teach us stories of whimsy, designed to mold single Black women into roles of grateful service before they’ve ever seen the world. It was my turn to show Tiffany that we are in fact an entire world ourselves.</td>\n",
       "      <td>nyt://article/2ce87e3f-5333-5561-ad65-47608e6b8d5f</td>\n",
       "      <td>Beyond Cool, She Was Fly. Her Confidence Gave Me Wings.</td>\n",
       "      <td>I had no example of love, not for girls that looked like me. Until my cousin Tiffany.</td>\n",
       "      <td>I had no example of love, not for girls that looked like me. Until my cousin Tiffany.</td>\n",
       "      <td>This essay is part of a collaborative project with Black History, Continued. We invited readers and renowned writers to respond to the question “What is Black love today?”</td>\n",
       "      <td>2022-02-11</td>\n",
       "      <td>SpecialSections</td>\n",
       "      <td>Style</td>\n",
       "      <td>News</td>\n",
       "      <td>1304</td>\n",
       "      <td>I’ve spent life looking similarities protagonists love stories. When I lost father prison mother’s attention double duties single parent, I escaped books attempt reimagine love look like. But couples, usually locked embrace cover “harmless” rags, looked like people house. Abuse ruined bones homes turned rotten structures. My hopes experiencing romance future incompatible reality. I example romantic love, girls looked like me, cousin, Tiffany. Two years older me, seemingly control life, Tiffany blueprint; no, mirror — way clearly. She I wanted be. She garnered attention walked room: ash brown hair, freckles genuine smile. Tiffany cool, fresh; fresh, fly; fly, energy unmatched. My cousin protector, way older sister be. Tiffany taught love listening. She let read books sing songs favorite musicals. She joined softball games sit bench I played catcher. She gave tips getting crushes’ attention (none worked). First place oratory contest, cheered. Solo choir performance, tossed thumbs-up sign pew. We inseparable went high school left fend unimaginable middle school bouts self-doubt. At 15, Tiffany child. A little girl light remarkable own, temperament doe. When pregnant, I asked her, “Are sure?” She smiled rubbed belly. And like that, purpose clear: I daughter, too. Tiffany’s Little Light studied everything. Her mouth overturned cup spilling sunshine. They emerging constellation walked room together, stars anybody drew breath. They vision board maternal love. Do fooled, I received kind love mother. But far removed teenage psyche, wasn’t I pluck memory easily. You know, way mirrors neglect reflect we’ve conditioned disbelieve. Despite judgment young raise baby, Tiffany glowed. She glowed brightly blinded jealous. And Tiffany child, moved California find footing Baton Rouge. Her relationship father children, I later learn obsessed idea owning Tiffany loving her, wake-up call: Love transactional. Love ownership. Love simply act absolute care. While love active verb, ain’t all. At 21, I daughter high school sweetheart. At 23, I left dissolving relationship life hold dreams secure future daughter. I called Tiffany tell news. She answered, I hear children playing background. Little Light eldest took job protector younger brothers seriously. “Cousin, sure?” Tiffany asked me. “Aren’t scared?” I laughed away fear I carrying told I back. That summer. But Tiffany knew I couldn’t yet. That I find writing woman dreams. I cloaked Tiffany’s charm wore second skin. This I arrived Bed-Stuy, Brooklyn. I dated men called beautiful. I flirted hold interesting conversation. I gave love run money thing truly kept attention daughter’s health laughter, burgeoning career writing. I carried new everywhere: New York City, Poland, Britain Canada. When summer year, year decade, I recognized cousin way I carried myself. I loved I looked mirror. I loved I looked reflection daughter’s eyes. Like Tiffany, I began rooms easy like wind, soundless certain. This feeling stayed me, red steps grandparents’ home West Oakland Bed-Stuy stoops sanctuary. At first, fifth child, Tiffany I checked weekly, monthly, seventh child. Phone calls text messages lives busied. She raising children re-establishing finally leaving abusive relationship. Every year I visit, I couldn’t physically present, I sent supportive messages, care packages invitations visit tour. After 15 years visits dictated holiday breaks family reunions, I invited Tiffany Florida. Tiffany break on-again off-again relationship. I wanted protect her. I wanted world offer. She best me. She gave courage. She gave reassurance. She gave pep talks. She gave compliments. Loving celebrating natural Tiffany. The I repay generosity giving space needed figure wanted be. Through Tiffany’s turbulent relationships, absolute love children, I began understand love costs. When met Miami, place I traveled weekends took granted, eyes welled tears. I asked, “What’s wrong, cousin?” By time pull together, walking alongside beach, manicured toes leaving kiss-prints sand. “I thought I Atlantic Ocean,” said, tears sliding freckled face. “I feel like I kids. I’ve traveled seen world like you.” I held breath, terrified weight moment, ready rise occasion remind taught years before. Fairy tales teach stories whimsy, designed mold single Black women roles grateful service they’ve seen world. It turn Tiffany fact entire world ourselves.</td>\n",
       "      <td>spend life look similarity protagonist love story lose father prison mother attention double duty single parent escape book attempt reimagine love look couple usually lock embrace cover harmless rag look people house abuse ruin bone home turn rotten structure hope experience romance future incompatible reality example romantic love girl look cousin tiffany year old seemingly control life tiffany blueprint mirror way clearly want garner attention walk room ash brown hair freckle genuine smile tiffany cool fresh fresh fly fly energy unmatched cousin protector way old sister tiffany teach love listen let read book sing song favorite musical join softball game sit bench play catcher give tip get crush attention work place oratory contest cheer solo choir performance toss thumb sign pew inseparable go high school leave fend unimaginable middle school bout self doubt tiffany child little girl light remarkable temperament doe pregnant ask sure smile rub belly purpose clear daughter tiffany little light study mouth overturned cup spill sunshine emerge constellation walk room star anybody draw breath vision board maternal love fool receive kind love mother far remove teenage psyche pluck memory easily know way mirror neglect reflect condition disbelieve despite judgment young raise baby tiffany glow glow brightly blind jealous tiffany child move california find footing baton rouge relationship father child later learn obsessed idea own tiffany love wake love transactional love ownership love simply act absolute care love active verb ai daughter high school sweetheart leave dissolve relationship life hold dream secure future daughter call tiffany news answer hear child play background little light eld take job protector young brother seriously cousin sure tiffany ask scared laugh away fear carry tell summer tiffany know find writing woman dream cloak tiffany charm wear skin arrive bed stuy brooklyn date man call beautiful flirt hold interesting conversation give love run money thing truly keep attention daughter health laughter burgeon career writing carry new new york city poland britain canada summer year year decade recognize cousin way carry love look mirror love look reflection daughter eye tiffany begin room easy wind soundless certain feeling stay red step grandparent home west oakland bed stuy stoop sanctuary child tiffany check weekly monthly child phone call text message life busy raise child establish finally leave abusive relationship year visit physically present send supportive message care package invitation visit tour year visit dictate holiday break family reunion invite tiffany florida tiffany break relationship want protect want world offer good give courage give reassurance give pep talk give compliment love celebrate natural tiffany repay generosity give space need figure want tiffany turbulent relationship absolute love child begin understand love cost meet miami place travel weekend take grant eye well tear ask wrong cousin time pull walk alongside beach manicure toe leave kiss print sand think atlantic ocean say tear slide freckle face feel kid travel see world hold breath terrify weight moment ready rise occasion remind teach year fairy tale teach story whimsy design mold single black woman role grateful service see world turn tiffany fact entire world</td>\n",
       "      <td>spend life look similarity protagonist love story lose father prison mother attention double duty single parent escape book attempt reimagine love look couple usually lock embrace cover harmless rag look people house abuse ruin bone home turn rotten structure hope experience romance future incompatible reality example romantic love girl look cousin tiffany year old seemingly control life tiffany blueprint mirror way clearly garner attention walk room ash brown hair freckle genuine smile tiffany cool fresh fresh fly fly energy unmatched cousin protector way old sister tiffany teach love listen let read book sing song favorite musical join softball game sit bench play catcher tip crush attention work place oratory contest cheer solo choir performance toss thumb sign pew inseparable high school leave fend unimaginable middle school bout self doubt tiffany child little girl light remarkable temperament doe pregnant sure smile rub belly purpose clear daughter tiffany little light study mouth overturned cup spill sunshine emerge constellation walk room star anybody draw breath vision board maternal love fool receive kind love mother far remove teenage psyche pluck memory easily way mirror neglect reflect condition disbelieve despite judgment young raise baby tiffany glow glow brightly blind jealous tiffany child california find footing baton rouge relationship father child later learn obsessed idea tiffany love wake love transactional love ownership love simply act absolute care love active verb ai daughter high school sweetheart leave dissolve relationship life hold dream secure future daughter tiffany news answer hear child play background little light eld job protector young brother seriously cousin sure tiffany scared laugh away fear carry summer tiffany find writing woman dream cloak tiffany charm wear skin arrive bed stuy brooklyn date man beautiful flirt hold interesting conversation love run money truly attention daughter health laughter burgeon career writing carry new new york city poland britain canada summer year year decade recognize cousin way carry love look mirror love look reflection daughter eye tiffany begin room easy wind soundless certain feeling stay red step grandparent home west oakland bed stuy stoop sanctuary child tiffany check weekly monthly child phone text message life busy raise child establish finally leave abusive relationship year visit physically present send supportive message care package invitation visit tour year visit dictate holiday break family reunion invite tiffany florida tiffany break relationship protect world offer good courage reassurance pep talk compliment love celebrate natural tiffany repay generosity space need figure tiffany turbulent relationship absolute love child begin understand love cost meet miami place travel weekend grant eye tear wrong cousin time pull walk alongside beach manicure toe leave kiss print sand atlantic ocean tear slide freckle face feel kid travel world hold breath terrify weight moment ready rise occasion remind teach year fairy tale teach story whimsy design mold single black woman role grateful service world turn tiffany fact entire world</td>\n",
       "    </tr>\n",
       "    <tr>\n",
       "      <th>4</th>\n",
       "      <td>https://www.nytimes.com/2022/02/11/style/modern-love-black-boyfriend-applications.html</td>\n",
       "      <td>“I am no longer dating white guys. Nonwhite guys may submit their applications in my DMs.” These words, posted on my Facebook page, marked the beginning of a racial reckoning in my dating life. Some context: It was June 2020. George Floyd had just been murdered. Black people like myself were consumed with rage and were openly airing our grief. On top of that, I was a woman scorned. I was 35 years old, a highly educated Black woman, a homeowner and an attorney, and I had just been rejected by yet another mediocre white guy who then pursued a relationship with a white woman. In short, I was fed up with white people. So one afternoon, I wrote a half-crazed manifesto on my Facebook page. Specifically, I railed against a white society that clearly didn’t see me as white but insisted on rejecting my Blackness because of my appearance (fair-skinned) and upbringing (middle class). White people had called me “not Black” for liking Taylor Swift, told me they were “more Black than me” because they grew up in a predominantly Black neighborhood (or had an especially dark tan), and fetishized my “exoticness” and ethnic ambiguity. I ended my ramblings with the call for applicants. I clicked “post” without thinking. To my amazement, the likes and comments started pouring in. Black people saying that they’d had similar experiences. White allies thanking me and promising to “do the work.” I felt so vindicated. And then this popped up on Facebook Messenger: “Application submitted!” The message was from Josh, whom I went to high school with 18 years earlier in Maryland. He was tall, handsome, smart, funny and successful. And Black. I’d briefly reconnected with him at a bar in Baltimore in 2018 when I was in town for a work conference. We had flirted, but I remembered from Facebook that he’d gotten married, so I flew back to California at the end of the conference with a wistful “what-if” feeling fluttering in my chest. I soon found out through mutual friends that his marriage had ended before we connected, but seeing as we lived 3,000 miles apart, I figured there was no point in trying to pursue anything. But here he was now, reading my manifesto and submitting an actual application to date me. I was gobsmacked. Up to that point, the vast majority of my relationships had been with white men, the predictable result of years spent in a Maryland prep school and at a Massachusetts liberal arts college. In fact, it had become a running joke among my friends and family: If the guy was basic and white, he was my type. But I had never, not once, dated a Black man. And I’ll be honest — I had always felt a kind of shame around that, as though my not dating Black men reflected a deep-seated insecurity with my own Blackness. But here was an eligible Black bachelor offering me a chance at love, and a chance at embracing my Blackness. Josh and I started texting. We had a couple of video calls that were awkward at first but became more natural. I suggested flying out to Baltimore to see him, and he agreed. On the one hand, it seemed wild and reckless, jumping on a plane to visit someone I barely knew. And during a pandemic to boot. On the other, the whole thing felt like something out of a movie. I was flying 3,000 miles to have our “first date.” We packed a lot into that four-day first date. He took me to Baltimore’s National Aquarium. He treated me to dinners and wine. He even took me to a (socially distanced) visit with my grandmother on her birthday. Most of all, we reveled in our Blackness. We danced to hip-hop in his living room — and he could dance, something I had rarely experienced with my white boyfriends. We joked about the endearing quirks of our older Black relatives. We shared stories about being among the few Black people in our respective professional arenas — finance for him; law for me. With him I could openly “speak the language” and not have to explain myself. For the first time in my life, I felt like I could be completely, unapologetically Black with the guy I was dating. Like most first dates, there were uncomfortable moments. Josh was reserved and rarely volunteered information about himself, which meant it was hard to get to know him. And while there was definitely a mutual physical attraction, there was a shyness in Josh that only seemed to fall away with the help of a few drinks. Still, I chalked that up to our still getting to know one another. However, on my last night there, as we gazed at the city lights over the Inner Harbor, he turned to me and said, “You know this isn’t going to work, right?” Completely out of nowhere. I asked him to explain. He said our personalities were too different — I’m outgoing, high-energy and emotional; he’s analytical, quiet and calm. I, both a romantic and a lawyer, attempted to argue my case — “Doesn’t love find a way?” — and he, the realistic, number-crunching one, pointed out the obvious practical hurdles. With the physical distance between us, there was no way to properly date or figure out how we would fit together. My fairy tale seemingly shattered, I started to cry. He seemed sad too, though whether it was because of a mutual feeling of despair or simply uneasiness at my tears, I couldn’t tell. The next morning he drove me to the airport and I asked him to visit me in California. He gave a noncommittal answer. I left wondering if I would ever see him again. Turns out, I would. A few weeks after my Maryland trip, Josh asked to visit me in California. I was thrilled. I convinced myself that he wanted to visit California to see if he could make a home here with me. I planned a day trip to Napa. I borrowed my neighbor’s bike for Josh so we could tool around town together in true Californian style. I proudly showed him off to my friends, took him to my favorite local haunts, and tried my hardest to prove how great we could be together, the perfect Black power couple. Still, we weren’t quite clicking. Josh wasn’t entirely on board with my carefree Cali style. When we biked to the river on a hot day, I eagerly stripped down to splash around in the cool water, but he refused. When we strolled the sidewalks of downtown Napa, I reached out to intertwine my fingers with his, and he shook my hand off — turns out he wasn’t a fan of P.D.A. And the reservedness I had witnessed in Baltimore persisted. I tried to ask him questions about his family, of whom he seldom spoke. He demurred: “That’s personal.” As someone who had always been an open book, I was frustrated. When I drove him to the airport at the end of the visit, I had a hollow feeling. Why weren’t we clicking when we were perfect for each other, at least on paper: same hometown, same education, same career-driven lives, and most importantly (or so I thought), same race? How was this not kismet? It all came to a head in the spring of 2021. Josh invited me to Baltimore for the Preakness, an annual horse race and social event. But a disagreement over a coffee maker before I arrived — he didn’t own one, and for reasons I couldn’t fathom, didn’t want to have one on hand for my visits — pushed me over the edge. I said, “If you can’t even keep a coffee maker for me, it’s obvious you don’t care enough for me to fly 3,000 miles to see you.” To my horror, he didn’t argue. I said I wasn’t coming, and he didn’t try to change my mind. And that was it. What the hell had just happened? How did my lofty dreams fall so flat? Did I really fly to Maryland, and him to California — during a pandemic — for nothing more than a booty call? Over time, I realized my attachment to Josh was more intellectual than emotional. I had tried to make him — kind and well-meaning, but unable to match my spirit or provide me the emotional connection I wanted — into my perfect boyfriend, because he was Black. Josh represented the first time I naïvely attached my worth as a Black person to the success of my relationship with a Black man. But dating a Black man will not make me more Black, just as dating a white man won’t make me less Black. I am Black, period.  Regardless of the race or ethnicity of my next boyfriend, at least I’ll know one thing: Whoever loves me next must love all of me.</td>\n",
       "      <td>nyt://article/595d2c38-f78c-5aae-8b2c-4730e868637e</td>\n",
       "      <td>Accepting Applications for a Black Boyfriend</td>\n",
       "      <td>After a lifetime of dating white men, I hoped a new romance could offer a chance at love, and at embracing my own Blackness.</td>\n",
       "      <td>After a lifetime of dating white men, I hoped a new romance could offer a chance at love, and at embracing my own Blackness.</td>\n",
       "      <td>This essay is part of a collaborative project with Black History, Continued. We invited readers and renowned writers to respond to the question “What is Black love today?”</td>\n",
       "      <td>2022-02-11</td>\n",
       "      <td>SpecialSections</td>\n",
       "      <td>Style</td>\n",
       "      <td>News</td>\n",
       "      <td>1580</td>\n",
       "      <td>“I longer dating white guys. Nonwhite guys submit applications DMs.” These words, posted Facebook page, marked beginning racial reckoning dating life. Some context: It June 2020. George Floyd murdered. Black people like consumed rage openly airing grief. On that, I woman scorned. I 35 years old, highly educated Black woman, homeowner attorney, I rejected mediocre white guy pursued relationship white woman. In short, I fed white people. So afternoon, I wrote half-crazed manifesto Facebook page. Specifically, I railed white society clearly didn’t white insisted rejecting Blackness appearance (fair-skinned) upbringing (middle class). White people called “not Black” liking Taylor Swift, told “more Black me” grew predominantly Black neighborhood (or especially dark tan), fetishized “exoticness” ethnic ambiguity. I ended ramblings applicants. I clicked “post” thinking. To amazement, likes comments started pouring in. Black people saying they’d similar experiences. White allies thanking promising “do work.” I felt vindicated. And popped Facebook Messenger: “Application submitted!” The message Josh, I went high school 18 years earlier Maryland. He tall, handsome, smart, funny successful. And Black. I’d briefly reconnected bar Baltimore 2018 I town work conference. We flirted, I remembered Facebook he’d gotten married, I flew California end conference wistful “what-if” feeling fluttering chest. I soon found mutual friends marriage ended connected, seeing lived 3,000 miles apart, I figured point trying pursue anything. But now, reading manifesto submitting actual application date me. I gobsmacked. Up point, vast majority relationships white men, predictable result years spent Maryland prep school Massachusetts liberal arts college. In fact, running joke friends family: If guy basic white, type. But I never, once, dated Black man. And I’ll honest — I felt kind shame that, dating Black men reflected deep-seated insecurity Blackness. But eligible Black bachelor offering chance love, chance embracing Blackness. Josh I started texting. We couple video calls awkward natural. I suggested flying Baltimore him, agreed. On hand, wild reckless, jumping plane visit I barely knew. And pandemic boot. On other, thing felt like movie. I flying 3,000 miles “first date.” We packed lot four-day date. He took Baltimore’s National Aquarium. He treated dinners wine. He took (socially distanced) visit grandmother birthday. Most all, reveled Blackness. We danced hip-hop living room — dance, I rarely experienced white boyfriends. We joked endearing quirks older Black relatives. We shared stories Black people respective professional arenas — finance him; law me. With I openly “speak language” explain myself. For time life, I felt like I completely, unapologetically Black guy I dating. Like dates, uncomfortable moments. Josh reserved rarely volunteered information himself, meant hard know him. And definitely mutual physical attraction, shyness Josh fall away help drinks. Still, I chalked getting know another. However, night there, gazed city lights Inner Harbor, turned said, “You know isn’t going work, right?” Completely nowhere. I asked explain. He said personalities different — I’m outgoing, high-energy emotional; he’s analytical, quiet calm. I, romantic lawyer, attempted argue case — “Doesn’t love find way?” — he, realistic, number-crunching one, pointed obvious practical hurdles. With physical distance us, way properly date figure fit together. My fairy tale seemingly shattered, I started cry. He sad too, mutual feeling despair simply uneasiness tears, I couldn’t tell. The morning drove airport I asked visit California. He gave noncommittal answer. I left wondering I again. Turns out, I would. A weeks Maryland trip, Josh asked visit California. I thrilled. I convinced wanted visit California home me. I planned day trip Napa. I borrowed neighbor’s bike Josh tool town true Californian style. I proudly showed friends, took favorite local haunts, tried hardest prove great together, perfect Black power couple. Still, weren’t clicking. Josh wasn’t entirely board carefree Cali style. When biked river hot day, I eagerly stripped splash cool water, refused. When strolled sidewalks downtown Napa, I reached intertwine fingers his, shook hand — turns wasn’t fan P.D.A. And reservedness I witnessed Baltimore persisted. I tried ask questions family, seldom spoke. He demurred: “That’s personal.” As open book, I frustrated. When I drove airport end visit, I hollow feeling. Why weren’t clicking perfect other, paper: hometown, education, career-driven lives, importantly (or I thought), race? How kismet? It came head spring 2021. Josh invited Baltimore Preakness, annual horse race social event. But disagreement coffee maker I arrived — didn’t one, reasons I couldn’t fathom, didn’t want hand visits — pushed edge. I said, “If can’t coffee maker me, it’s obvious don’t care fly 3,000 miles you.” To horror, didn’t argue. I said I wasn’t coming, didn’t try change mind. And it. What hell happened? How lofty dreams fall flat? Did I fly Maryland, California — pandemic — booty call? Over time, I realized attachment Josh intellectual emotional. I tried — kind well-meaning, unable match spirit provide emotional connection I wanted — perfect boyfriend, Black. Josh represented time I naïvely attached worth Black person success relationship Black man. But dating Black man Black, dating white man won’t Black. I Black, period. Regardless race ethnicity boyfriend, I’ll know thing: Whoever loves love me.</td>\n",
       "      <td>long date white guy nonwhite guy submit application dm word post facebook page mark beginning racial reckoning date life context june george floyd murder black people consume rage openly air grief woman scorn year old highly educate black woman homeowner attorney reject mediocre white guy pursue relationship white woman short feed white people afternoon write half craze manifesto facebook page specifically rail white society clearly white insist reject blackness appearance fair skinned upbringe middle class white people call black like taylor swift tell black grow predominantly black neighborhood especially dark tan fetishize exoticness ethnic ambiguity end rambling applicant click post think amazement like comment start pour black people say similar experience white ally thank promise work feel vindicate pop facebook messenger application submit message josh go high school year early maryland tall handsome smart funny successful black briefly reconnecte bar baltimore town work conference flirt remember facebook get marry fly california end conference wistful feel flutter chest soon find mutual friend marriage end connect see live mile apart figure point try pursue read manifesto submit actual application date gobsmacke point vast majority relationship white man predictable result year spend maryland prep school massachusetts liberal art college fact running joke friend family guy basic white type date black man honest feel kind shame date black man reflect deep seat insecurity blackness eligible black bachelor offer chance love chance embrace blackness josh start texte couple video call awkward natural suggest fly baltimore agree hand wild reckless jump plane visit barely know pandemic boot thing feel movie fly mile date pack lot day date take baltimore national aquarium treat dinner wine take socially distance visit grandmother birthday revel blackness dance hip hop living room dance rarely experience white boyfriend joke endear quirk old black relative share story black people respective professional arena finance law openly speak language explain time life feel completely unapologetically black guy date date uncomfortable moment josh reserve rarely volunteer information mean hard know definitely mutual physical attraction shyness josh fall away help drink chalk get know night gaze city light inner harbor turn say know go work right completely ask explain say personality different outgoing high energy emotional analytical quiet calm romantic lawyer attempt argue case love find way realistic number crunch point obvious practical hurdle physical distance way properly date figure fit fairy tale seemingly shatter start cry sad mutual feeling despair simply uneasiness tear morning drive airport ask visit california give noncommittal answer leave wonder turn week maryland trip josh ask visit california thrilled convince want visit california home plan day trip napa borrow neighbor bike josh tool town true californian style proudly show friend take favorite local haunt try hard prove great perfect black power couple click josh entirely board carefree cali style bike river hot day eagerly strip splash cool water refuse stroll sidewalk downtown napa reach intertwine finger shake hand turn fan reservedness witness baltimore persist try ask question family seldom speak demur personal open book frustrate drive airport end visit hollow feeling click perfect paper hometown education career drive life importantly think race kismet come head spring josh invite baltimore preakness annual horse race social event disagreement coffee maker arrive reason fathom hand visit push edge say coffee maker obvious care fly mile horror argue say come try change mind hell happen lofty dream fall flat fly maryland california pandemic booty time realize attachment josh intellectual emotional try kind meaning unable match spirit provide emotional connection want perfect boyfriend black josh represent time naïvely attach worth black person success relationship black man date black man black date white man will black black period regardless race ethnicity boyfriend know thing love love</td>\n",
       "      <td>long date white guy nonwhite guy submit application dm word post facebook page mark beginning racial reckoning date life context june george floyd murder black people consume rage openly air grief woman scorn year old highly educate black woman homeowner attorney reject mediocre white guy pursue relationship white woman short feed white people afternoon write half craze manifesto facebook page specifically rail white society clearly white insist reject blackness appearance fair skinned upbringe middle class white people black taylor swift black grow predominantly black neighborhood especially dark tan fetishize exoticness ethnic ambiguity end rambling applicant click post amazement comment start pour black people similar experience white ally thank promise work feel vindicate pop facebook messenger application submit message josh high school year early maryland tall handsome smart funny successful black briefly reconnecte bar baltimore town work conference flirt remember facebook marry fly california end conference wistful feel flutter chest soon find mutual friend marriage end connect live mile apart figure point try pursue read manifesto submit actual application date gobsmacke point vast majority relationship white man predictable result year spend maryland prep school massachusetts liberal art college fact running joke friend family guy basic white type date black man honest feel kind shame date black man reflect deep seat insecurity blackness eligible black bachelor offer chance love chance embrace blackness josh start texte couple video awkward natural suggest fly baltimore agree hand wild reckless jump plane visit barely pandemic boot feel movie fly mile date pack lot day date baltimore national aquarium treat dinner wine socially distance visit grandmother birthday revel blackness dance hip hop living room dance rarely experience white boyfriend joke endear quirk old black relative share story black people respective professional arena finance law openly speak language explain time life feel completely unapologetically black guy date date uncomfortable moment josh reserve rarely volunteer information mean hard definitely mutual physical attraction shyness josh fall away help drink chalk night gaze city light inner harbor turn work right completely explain personality different outgoing high energy emotional analytical quiet calm romantic lawyer attempt argue case love find way realistic number crunch point obvious practical hurdle physical distance way properly date figure fit fairy tale seemingly shatter start cry sad mutual feeling despair simply uneasiness tear morning drive airport visit california noncommittal answer leave wonder turn week maryland trip josh visit california thrilled convince visit california home plan day trip napa borrow neighbor bike josh tool town true californian style proudly friend favorite local haunt try hard prove great perfect black power couple click josh entirely board carefree cali style bike river hot day eagerly strip splash cool water refuse stroll sidewalk downtown napa reach intertwine finger shake hand turn fan reservedness witness baltimore persist try question family seldom speak demur personal open book frustrate drive airport end visit hollow feeling click perfect paper hometown education career drive life importantly race kismet come head spring josh invite baltimore preakness annual horse race social event disagreement coffee maker arrive reason fathom hand visit push edge coffee maker obvious care fly mile horror argue come try change mind hell happen lofty dream fall flat fly maryland california pandemic booty time realize attachment josh intellectual emotional try kind meaning unable match spirit provide emotional connection perfect boyfriend black josh represent time naïvely attach worth black person success relationship black man date black man black date white man black black period regardless race ethnicity boyfriend love love</td>\n",
       "    </tr>\n",
       "    <tr>\n",
       "      <th>5</th>\n",
       "      <td>https://www.nytimes.com/2022/02/11/style/modern-love-queer-dating-open-relationship.html</td>\n",
       "      <td>I’ve always been wary of sports, competition and falling in love. So growing up, I avoided all three. As a kid, I would shrug when “accidentally” letting goals into the net from the opposing team. I would walk slowly behind everyone else on the basketball court as they ran from end to end. My mother eventually stopped asking if I was interested in signing up for extracurriculars and my friends came to understand my lack of interest in playing board games, card games, drinking games or anything that required competing for the title winner. I was even able to avoid acting on romantic feelings for a long time but with age I let up slightly. After an indecisive football player, a shady basketball player, and a club bouncer who was as bad at kissing as he was at his job, I decided I had made a mistake opening myself up, and convinced myself that the real issue was vulnerability. I would no longer be attaching any emotional investments to my sexual partners. I never bothered to be competitive or to fall in love because I didn’t care to win. I met him on HER, a dating app for queer women and gender diverse people. He had long brown dreadlocks with subtle hints of blond and a promising smile. There was something about him that told me he would be the exact kind of fun I was looking for. He approached me with a smooth pickup line, and I responded with something much less cool. Before I could give it much thought he told me that he was assigned female at birth and had transitioned to live his life in the gender that was most authentic to him. “So, what are you looking for?” I said. “Well, I’m in an open relationship. So I’m not anticipating anything too serious,” he responded, adding that he and his partner were engaged to be married. My friends wanted to know how someone could be committed to a partner while pursuing other relationships. I didn’t blame them: the idea of a relationship where both partners agree to seeing other people while being together isn’t something that most learn about in “the birds and the bees” conversation. My immediate reaction when I learned he was in an open relationship was relief. I would have fun with no emotional responsibility. They were deeply in love and had a strong foundation on which their love was built. They knew that marriage was the ultimate goal of their relationship, and had its benefits both legally and personally, but they also knew that, in order to meet both of their physical and emotional needs, their marriage would need to be unconventional — which, in this case, meant leaving the door open for other intimate possibilities. What neither of us expected was the fast progression of our feelings. I started wondering more about when he’d see his fiancé next. He wanted details about the dates I went on. We both grew possessive as our unanticipated love bloomed. We began feeling entitled to each other. Yet, while my insecurity grew more obvious, he managed to mostly keep his casual demeanor. And of course he could. He always went home to the loving arms of his partner, and I always went home to thoughts of a lover that I couldn’t truly call my own. We were everything I vowed to never be: very vulnerable, and very corny. “You hang up first,” he’d say. “No, you!” I’d say, my naturally deep voice suddenly sounding prepubescent. We were inseparable. Soaking ourselves in wet kisses on the Toronto Transit Commission as if no one was around and feeding each other street meat on the corner of Church and Wellesley. Here I was, never having been intrigued by competition, but suddenly up to the challenge of convincing him that I was worthy of being his only one. I tried to appear unfazed by the uncertainty of our relationship, but with each passing day I could feel my nonchalant facade peeling away. I knew it wouldn’t take long before I had nothing left to hide behind. One evening, we joined our mutual friends for a night out. I had high hopes that the loud music and many shots of tequila would drown out the unanswered questions of our relationship. The dim club lights and the drink intensified the moment and when he and our friend began dancing with each other, I felt justified in my rage. Watching them dance — two Caribbeans sharing a strictly platonic love language of slow whining and good drinks — amplified everything that threatened our life together as a couple: my fear of losing him and not being able to do anything about it. It was then that I knew we couldn’t return to our no-strings-attached deal. I wanted to take away the love he reserved for his fiancé and keep it for myself (which is the exact antithesis of an open relationship). Here was this person who was sent to me through a dating app that hosts mostly nude pictures. Here, somehow, I met someone whose presence soothed me, and he had chosen to devote himself to someone else. Someone who had known the smell of his collar and the softness of his lips long before I even knew he existed. Nothing about that felt fair. I spent that night preparing for the curtain call on our love story. And though we continued to date for weeks afterward, that moment was a clear shift in our relationship. An obvious flag that this “casual thing” had gone too far. Our relationship came to an unavoidable end; I needed more and he knew he couldn’t give that to me. As I reflected on us, I realized that I was in competition with no one but myself. I assumed that “winning” in this situation meant we would abandon the concept of non-monogamy altogether and walk off into a sunset hand-in-hand. Just the two of us. But the open relationship wasn’t the problem. The problem was the strange expectation for Black women to be in competition with each other, even if they are unaware of it. And the even stranger expectation for Black queer relationships to still fit enough into the confines of heteronormativity to make other people comfortable. The normalization of heterosexuality has been so insidious in my life through the consumption of media, education, and social assumptions and attitudes, that even as a queer woman in love with a trans man, I still questioned the validity of our non-monogamy. I had to learn to quiet the noise of heteronormativity; the idea that being in love can only look one way for it to be valid. That intimacy can only include two people. That there needs to be competition in order to receive the love we deserve. Black folks have been queering the family dynamic for as long as we have existed in this world. We’ve had stepparents who have loved us like they made us from scratch. We’ve promoted any friendship that has lasted over five years to that’s my cousin status. I have half-siblings that I’ve only ever referred to as whole. The words “half-sibling” were treated as if they were illegal in my household; my parents constantly reminded us that the small, and scientific details of our family weren’t important. When my sister’s mom passed away and my aunt raised her, she called her auntie-mommy. We never questioned that. It never required an explanation. There has never been anything nuclear about any Black family dynamic I’ve ever known, so why did I villainize, and — in my own mind — compete with a Black woman who loved herself, and her fiancé enough to encourage him to share his love with me? Possibly, all along, I was never scared of competition or losing, but instead, as a Black woman, I couldn’t fathom the idea that, contrary to popular belief, love doesn’t actually require competition. Everyone can feel worthy. It was because of the open relationship with my engaged lover that I was able to say yes to a date with the next person I would go on to fall deeply in love with. Our non-monogamous ways gave me the freedom to explore other relationships openly. He went on to marry his fiancé and we have managed to remain friends. In our choice to smoothly transition from romantic to platonic, we stuck up a subliminal middle finger to a world where relationships between Black women — especially when there is a man in the middle — are so often reduced to the notion that there is only ever enough love for one of us. Open relationships are far from a means for competition, they are an embodiment of love unable to be confined. They have the ability to bring together a small-town, awkward Black girl and a cool island boy with effortless swagger, and somehow allow them to exist together in the Toronto summer heat, exiting their romance more filled with love than they found each other.</td>\n",
       "      <td>nyt://article/aa4266c4-81b5-5807-852b-95dbf7d9cd56</td>\n",
       "      <td>Love Isn’t a Zero-Sum Game</td>\n",
       "      <td>I thought the open relationship was the problem. But it was me.</td>\n",
       "      <td>I thought the open relationship was the problem. But it was me.</td>\n",
       "      <td>This essay is part of a collaborative project with Black History, Continued. We invited readers and renowned writers to respond to the question “What is Black love today?”</td>\n",
       "      <td>2022-02-11</td>\n",
       "      <td>SpecialSections</td>\n",
       "      <td>Style</td>\n",
       "      <td>News</td>\n",
       "      <td>1627</td>\n",
       "      <td>I’ve wary sports, competition falling love. So growing up, I avoided three. As kid, I shrug “accidentally” letting goals net opposing team. I walk slowly basketball court ran end end. My mother eventually stopped asking I interested signing extracurriculars friends came understand lack interest playing board games, card games, drinking games required competing title winner. I able avoid acting romantic feelings long time age I let slightly. After indecisive football player, shady basketball player, club bouncer bad kissing job, I decided I mistake opening up, convinced real issue vulnerability. I longer attaching emotional investments sexual partners. I bothered competitive fall love I didn’t care win. I met HER, dating app queer women gender diverse people. He long brown dreadlocks subtle hints blond promising smile. There told exact kind fun I looking for. He approached smooth pickup line, I responded cool. Before I thought told assigned female birth transitioned live life gender authentic him. “So, looking for?” I said. “Well, I’m open relationship. So I’m anticipating serious,” responded, adding partner engaged married. My friends wanted know committed partner pursuing relationships. I didn’t blame them: idea relationship partners agree seeing people isn’t learn “the birds bees” conversation. My immediate reaction I learned open relationship relief. I fun emotional responsibility. They deeply love strong foundation love built. They knew marriage ultimate goal relationship, benefits legally personally, knew that, order meet physical emotional needs, marriage need unconventional — which, case, meant leaving door open intimate possibilities. What expected fast progression feelings. I started wondering he’d fiancé next. He wanted details dates I went on. We grew possessive unanticipated love bloomed. We began feeling entitled other. Yet, insecurity grew obvious, managed casual demeanor. And course could. He went home loving arms partner, I went home thoughts lover I couldn’t truly own. We I vowed be: vulnerable, corny. “You hang first,” he’d say. “No, you!” I’d say, naturally deep voice suddenly sounding prepubescent. We inseparable. Soaking wet kisses Toronto Transit Commission feeding street meat corner Church Wellesley. Here I was, having intrigued competition, suddenly challenge convincing I worthy one. I tried appear unfazed uncertainty relationship, passing day I feel nonchalant facade peeling away. I knew wouldn’t long I left hide behind. One evening, joined mutual friends night out. I high hopes loud music shots tequila drown unanswered questions relationship. The dim club lights drink intensified moment friend began dancing other, I felt justified rage. Watching dance — Caribbeans sharing strictly platonic love language slow whining good drinks — amplified threatened life couple: fear losing able it. It I knew couldn’t return no-strings-attached deal. I wanted away love reserved fiancé (which exact antithesis open relationship). Here person sent dating app hosts nude pictures. Here, somehow, I met presence soothed me, chosen devote else. Someone known smell collar softness lips long I knew existed. Nothing felt fair. I spent night preparing curtain love story. And continued date weeks afterward, moment clear shift relationship. An obvious flag “casual thing” gone far. Our relationship came unavoidable end; I needed knew couldn’t me. As I reflected us, I realized I competition myself. I assumed “winning” situation meant abandon concept non-monogamy altogether walk sunset hand-in-hand. Just us. But open relationship wasn’t problem. The problem strange expectation Black women competition other, unaware it. And stranger expectation Black queer relationships fit confines heteronormativity people comfortable. The normalization heterosexuality insidious life consumption media, education, social assumptions attitudes, queer woman love trans man, I questioned validity non-monogamy. I learn quiet noise heteronormativity; idea love look way valid. That intimacy include people. That needs competition order receive love deserve. Black folks queering family dynamic long existed world. We’ve stepparents loved like scratch. We’ve promoted friendship lasted years that’s cousin status. I half-siblings I’ve referred whole. The words “half-sibling” treated illegal household; parents constantly reminded small, scientific details family weren’t important. When sister’s mom passed away aunt raised her, called auntie-mommy. We questioned that. It required explanation. There nuclear Black family dynamic I’ve known, I villainize, — mind — compete Black woman loved herself, fiancé encourage share love me? Possibly, along, I scared competition losing, instead, Black woman, I couldn’t fathom idea that, contrary popular belief, love doesn’t actually require competition. Everyone feel worthy. It open relationship engaged lover I able yes date person I fall deeply love with. Our non-monogamous ways gave freedom explore relationships openly. He went marry fiancé managed remain friends. In choice smoothly transition romantic platonic, stuck subliminal middle finger world relationships Black women — especially man middle — reduced notion love us. Open relationships far means competition, embodiment love unable confined. They ability bring small-town, awkward Black girl cool island boy effortless swagger, allow exist Toronto summer heat, exiting romance filled love found other.</td>\n",
       "      <td>wary sport competition fall love grow avoid kid shrug accidentally let goal net oppose team walk slowly basketball court run end end mother eventually stop ask interested sign extracurricular friend come understand lack interest play board game card game drinking game require compete title winner able avoid act romantic feeling long time age let slightly indecisive football player shady basketball player club bouncer bad kiss job decide mistake open convince real issue vulnerability long attach emotional investment sexual partner bother competitive fall love care win meet date app queer woman gender diverse people long brown dreadlock subtle hint blond promising smile tell exact kind fun look approach smooth pickup line respond cool thought tell assign female birth transition live life gender authentic look say open relationship anticipate respond add partner engage marry friend want know commit partner pursue relationship blame idea relationship partner agree see people learn bird bee conversation immediate reaction learn open relationship relief fun emotional responsibility deeply love strong foundation love build know marriage ultimate goal relationship benefit legally personally know order meet physical emotional need marriage need unconventional case mean leave door open intimate possibility expect fast progression feeling start wonder fiancé want detail date go grow possessive unanticipated love bloom begin feel entitled insecurity grow obvious manage casual demeanor course go home love arm partner go home thought lover truly vow vulnerable corny hang naturally deep voice suddenly sound prepubescent inseparable soak wet kiss toronto transit commission feed street meat corner church wellesley having intrigue competition suddenly challenge convince worthy try appear unfazed uncertainty relationship pass day feel nonchalant facade peel away know long leave hide evening join mutual friend night high hope loud music shot tequila drown unanswered question relationship dim club light drink intensify moment friend begin dance feel justified rage watch dance caribbeans share strictly platonic love language slow whining good drink amplify threaten life couple fear lose able know return string attach deal want away love reserve fiancé exact antithesis open relationship person send date app host nude picture meet presence soothe choose devote know smell collar softness lip long know exist feel fair spend night prepare curtain love story continue date week afterward moment clear shift relationship obvious flag casual thing go far relationship come unavoidable end need know reflect realize competition assume win situation mean abandon concept non monogamy altogether walk sunset hand hand open relationship problem problem strange expectation black woman competition unaware strange expectation black queer relationship fit confine heteronormativity people comfortable normalization heterosexuality insidious life consumption medium education social assumption attitude queer woman love trans man question validity non monogamy learn quiet noise heteronormativity idea love look way valid intimacy include people need competition order receive love deserve black folk queer family dynamic long exist world stepparent love scratch promote friendship last year cousin status half sibling refer word half sibling treat illegal household parent constantly remind small scientific detail family important sister mom pass away aunt raise call auntie mommy question require explanation nuclear black family dynamic know villainize mind compete black woman love fiancé encourage share love possibly scared competition lose instead black woman fathom idea contrary popular belief love actually require competition feel worthy open relationship engaged lover able yes date person fall deeply love non monogamous way give freedom explore relationship openly go marry fiancé manage remain friend choice smoothly transition romantic platonic stick subliminal middle finger world relationship black woman especially man middle reduce notion love open relationship far mean competition embodiment love unable confine ability bring small town awkward black girl cool island boy effortless swagger allow exist toronto summer heat exit romance fill love find</td>\n",
       "      <td>wary sport competition fall love grow avoid kid shrug accidentally let goal net oppose team walk slowly basketball court run end end mother eventually stop interested sign extracurricular friend come understand lack interest play board game card game drinking game require compete title winner able avoid act romantic feeling long time age let slightly indecisive football player shady basketball player club bouncer bad kiss job decide mistake open convince real issue vulnerability long attach emotional investment sexual partner bother competitive fall love care win meet date app queer woman gender diverse people long brown dreadlock subtle hint blond promising smile exact kind fun look approach smooth pickup line respond cool thought assign female birth transition live life gender authentic look open relationship anticipate respond add partner engage marry friend commit partner pursue relationship blame idea relationship partner agree people learn bird bee conversation immediate reaction learn open relationship relief fun emotional responsibility deeply love strong foundation love build marriage ultimate goal relationship benefit legally personally order meet physical emotional need marriage need unconventional case mean leave door open intimate possibility expect fast progression feeling start wonder fiancé detail date grow possessive unanticipated love bloom begin feel entitled insecurity grow obvious manage casual demeanor course home love arm partner home thought lover truly vow vulnerable corny hang naturally deep voice suddenly sound prepubescent inseparable soak wet kiss toronto transit commission feed street meat corner church wellesley having intrigue competition suddenly challenge convince worthy try appear unfazed uncertainty relationship pass day feel nonchalant facade peel away long leave hide evening join mutual friend night high hope loud music shot tequila drown unanswered question relationship dim club light drink intensify moment friend begin dance feel justified rage watch dance caribbeans share strictly platonic love language slow whining good drink amplify threaten life couple fear lose able return string attach deal away love reserve fiancé exact antithesis open relationship person send date app host nude picture meet presence soothe choose devote smell collar softness lip long exist feel fair spend night prepare curtain love story continue date week afterward moment clear shift relationship obvious flag casual far relationship come unavoidable end need reflect realize competition assume win situation mean abandon concept non monogamy altogether walk sunset hand hand open relationship problem problem strange expectation black woman competition unaware strange expectation black queer relationship fit confine heteronormativity people comfortable normalization heterosexuality insidious life consumption medium education social assumption attitude queer woman love trans man question validity non monogamy learn quiet noise heteronormativity idea love look way valid intimacy include people need competition order receive love deserve black folk queer family dynamic long exist world stepparent love scratch promote friendship year cousin status half sibling refer word half sibling treat illegal household parent constantly remind small scientific detail family important sister mom pass away aunt raise auntie mommy question require explanation nuclear black family dynamic villainize mind compete black woman love fiancé encourage share love possibly scared competition lose instead black woman fathom idea contrary popular belief love actually require competition feel worthy open relationship engaged lover able yes date person fall deeply love non monogamous way freedom explore relationship openly marry fiancé manage remain friend choice smoothly transition romantic platonic stick subliminal middle finger world relationship black woman especially man middle reduce notion love open relationship far mean competition embodiment love unable confine ability bring small town awkward black girl cool island boy effortless swagger allow exist toronto summer heat exit romance fill love find</td>\n",
       "    </tr>\n",
       "  </tbody>\n",
       "</table>\n",
       "</div>"
      ],
      "text/plain": [
       "                                                                                                             url  \\\n",
       "0  https://www.nytimes.com/2022/02/25/style/modern-love-seeking-a-father-for-my-child-relationship-optional.html   \n",
       "2  https://www.nytimes.com/2022/02/11/style/modern-love-gay-couple.html                                            \n",
       "3  https://www.nytimes.com/2022/02/11/style/modern-love-confidence-self-love.html                                  \n",
       "4  https://www.nytimes.com/2022/02/11/style/modern-love-black-boyfriend-applications.html                          \n",
       "5  https://www.nytimes.com/2022/02/11/style/modern-love-queer-dating-open-relationship.html                        \n",
       "\n",
       "                                                                                                                                                                                                                                                                                                                                                                                                                                                                                                                                                                                                                                                                                                                                                                                                                                                                                                                                                                                                                                                                                                                                                                                                                                                                                                                                                                                                                                                                                                                                                                                                                                                                                                                                                                                                                                                                                                                                                                                                                                                                                                                                                                                                                                                                                                                                                                                                                                                                                                                                                                                                                                                                                                                                                                                                                                                                                                                                                                                                                                                                                                                                                                                                                                                                                                                                                                                                                                                                                                                                                                                                                                                                                                                                                                                                                                                                                                                                                                                                                                                                                                                                                                                                                                                                                                                                                                                                                                                                                                                                                                                                                                                                                                                                                                                                                                                                                                                                                                                                                                                                                                                                                                                                                                                                                                                                                                                                                                                                                                                                                                                                                                                                                                                                                                                                                                                                                                                                                                                                                                                                                                                                                                                                                                                                                                                                                                                                                                                                                                                                                                                                                                                                                                                                                                                                                                                                                                                                                                                                                                                                                                                                                                                                                                                                                                                                                                                                                                                                                                                                                                                                                                                                                                                                                                                                                                                                                                                                                                                                                                                                                                                                                                                                                                                                                                                                                                                                                                                                                                                                                                                                                                                                                                                                                                                                                                                             essay  \\\n",
       "0  Two days before I left South Dakota, Rex and I sat talking beneath the open hatchback of my car. In the distance, a lightning storm moved toward us over the open expanse of the Great Plains, churning the sky a murky purple. He was talking passionately about lithium batteries. The more he talked, the less he and I seemed to have in common. I considered myself someone who could become interested in almost anything, especially when I was attracted to the person speaking. But now I asked myself: Did I care about batteries? He and I were volunteers on the Pine Ridge Reservation, building and repairing infrastructure. He had been the first person to greet me when I arrived at the end of the long, dirt road. When he climbed out of the cab of a skid loader, and I saw his face, my body warmed. In the lyrical version of what happened as the storm approached, we would have stopped talking and taken seriously the pleasure of our bodies. But wanting to have a baby had made dating in my late 30s less like a poem and more like a math problem. There was a lot that had to line up, and what I was looking for now differed from what my younger self had envisioned. I didn’t care about dating someone for a certain amount of time before we had a baby, or being in love, or getting married. I wanted to like the biological father of my child, maybe admire him. That was about it. I had arrived at this set of criteria because the alternatives seemed sentimental and unrealistic, especially the husband-to-be wish lists that many of us champion during those years when we are both ready and able to have children. With the help of my sitting meditation practice, I had observed that the more I worried about getting pregnant, the less discerning I was about love, an effect I feared would intensify as I got older. How could I trust my judgment under pressure? Wouldn’t a lot of men start to smell like fathers? I decided the safest way to protect myself against romantic delusion would be to separate the two stories from the outset: I could try to find a mate or become a mother, but not at the same time. Since biological constraints made it easy to figure out which was more urgent, I resolved to have a child outside of the context of love. My solo road trip to South Dakota was conceived as an experience my future self, the one saddled with a dependent, would someday thank me for. When I returned home, I planned to get pregnant using an anonymous donor’s sperm. On my last evening with Rex, kissing in his tent, I realized there was a lot about him I didn’t know — who was in his life, where he worked, his last name. Before I crawled out of his tent, he asked for my phone number. He was headed home to Michigan, and I to California. I told him I thought we should leave things exactly as they were, which seemed perfect to me. “What, are you crazy?” he said, and he gave me his number. Back home, I pored over donor questionnaires at the local sperm bank, trying to keep straight who liked video games and who preferred billiards, but it all mixed blandly together for me. Phone conversations with Rex, though, were weird and memorable. He had inherited his father’s expressions such as “Son of a biscuit!” and “Jeez O’Pete’s!” Doting on his backyard laying hens, he often referred to himself as a “chicken mama.” He was the only 30-something adult I knew who had traveled on an airplane exactly once, a domestic round trip for a former job. We didn’t talk much about the parts of our lives that existed beyond the present. He mentioned that his relationship with a woman in Michigan was crumbling. All he knew of my path to motherhood was that I wanted a child. When my search for a donor stagnated from lacking a warm feeling about any of them, friends offered to screen profiles with me on the eve of my 40th birthday. Two donors received my friends’ approval, so I put myself on the wait-list for their sperm, though I still felt ambivalent. When I finally told Rex about my stalled plan to become a mother, he said, “I can help you with that.” I was silent. Then I said, “Don’t say something like that without thinking about it.” “I have.” He wasn’t interested in being a father or co-parent, so the scenarios we discussed assumed that by the time I gave birth, he and I no longer would be romantically involved. Soon he visited me in California and had his first experience soaking naked with strangers in hot springs, his first contact with thousand-year-old redwood trees (he cried). He gave back rubs that were accurate, not clumsy; his hands were full of life. We were still working on our donor arrangement. We were also falling in love. I went to stay with him in Michigan, where he taught me how to use a chain saw and care for chickens. Eventually, he followed me back to California, driving the whole way towing a homemade trailer filled with tools. During this time, we were trying to live two separate stories: the one in which every month we tried to conceive, and the other in which we were still getting to know each other. But the more we enjoyed ourselves, the more confusing our situation became. If I got pregnant, would he leave the relationship? If I didn’t get pregnant, would I switch to another donor? About a year after he offered to be my donor, we began to have these difficult conversations. And in the middle of them, I got pregnant. Such was his generosity that he was genuinely thrilled for me. Inwardly, though, he began to withdraw. He still didn’t want to be a father or co-parent; the thought of either brought up old wounds from his childhood. Every day of his indecision, I was tempted to try to convince him to stay. Most days, I had enough sanity to recognize that doing this would harm us both. On the day he left California, he took a photograph of me looking haunted. Then he got in his car and drove east. It was Father’s Day. After he left, I scrambled into action, interviewing midwives, searching online for used baby gear, and trying to explain to the being in my womb why I was crying a lot: “I’m sorry, baby. I’m OK, just sad.” Then weeks later, without warning, a text arrived: “I made a terrible mistake.” By then, I recognized he wasn’t the only one. When love and a baby coincided for me, I still believed I could separate the two and remain fundamentally unchanged. Not until Rex and I were suffering was I able to see that the clean reality I envisioned had never existed between us. It had evaporated the moment he greeted me at the end of the dirt road, and my body responded with warmth. Buddhism is founded on the truth that suffering is caused by desire, which at first glance can make both suffering and desire sound unequivocally bad. But the beauty of suffering is that it offers the opportunity to have a curious and tender relationship with desire, to listen to it rather than try to eradicate it. Often what I hear beneath my desire’s surface noise isn’t problematic, only human: the vulnerability in having a life tangled up with others. In Rex’s absence, I remembered that tending to a lover or child is dirty work, in the most wholesome sense. We don’t fall in love or have a baby to have our points of view and preferences affirmed. We do it, at least a little bit, to soften our singular, lonesome grip on reality and invite in the unexpected, the undesirable and the inexplicable. This — call it messiness, or richness, or hands full of life — is what is beautiful and natural about being an animal with appetites beyond our understanding. Being faithful in the deepest sense to a lover or baby is saying yes to the weird and memorable before you know you want it or welcome it. Rex came to this in his own way. He told me that since he left California, he had been listening to podcasts about fatherhood and looking at the photo of me he took the day he left. He’d been crying, too. And he wanted to come back. “To the baby?” I said. “Or to me?” “Both,” he said. And he did. He sold his heaviest tools, repainted walls and put his house in Michigan up for sale. And two months later, he was back in California in time to catch in his hands our son being born.                                                                                                                                                                                                                                                                                                                                                                                   \n",
       "2  Peter and I hitched our wagons young. Early 20s. He was wildly handsome, gay, with soulful brown eyes and a head full of loose, unruly curls. Raised by an African American woman and a white preacher man, Peter spent his childhood steeped in the evangelical ministry. He was as terrified of his father’s sermons as he was soothed by his mother’s inclination to administer to the more human aspects of the congregation they both led. The night I met Peter, he and I fell all the way in love. Kismet, you could say. He made me laugh with his very first words. It was my first time at the Nuyorican Poets Cafe, the premier debut joint for every performance poet trying to get onto the New York City poetry scene. I read my first piece on the open mic after the slam. Peter was among the first admirers to make his way through the applauding crowd to tell me I had simultaneously embodied the fury of his father and the vulnerability of his mother — and, as such, I was destined to be one of his true loves. “Only one of?” I asked. “Fate isn’t fixed,” he said, “The gods have to leave room for surprises!” By the time we met in the fall of 1997, Peter’s parents were long divorced. His father had left the church. And Peter was already exploring other truths to believe in. Poetry was his new religion. His poems were long, lyrical and lovingly painted with the impossibly beautiful brushstrokes of utopia. He lived his life with the same energy. He believed in the goodness of people. Once, in the middle of winter in Washington Square Park, I watched him unbutton his coat and drape it across the shoulders of a drunk who had just called him a homophobic slur. I was an ex-Christian and newly out lesbian fleeing the violent homophobia of the late 1990s in Jamaica, still wearing the fury of being attacked by a dozen boys and sexually assaulted in Kingston. I was ashamed and angry that it defined my final year of university. That’s why I moved to New York City on a tourist visa. I needed somewhere safe to call home. But I felt at sea in this new country. I had a few aunts and uncles in New York, but before any of this I had absolutely no relationship with my biological family. My parents had abandoned me — my mother at birth, and my father hadn’t even shown up. And now that I had announced that I was a lesbian, that already distant extended family wanted less to do with me. I was in New York in search of safety. Freedom. And room to explore my budding lesbian identity. I was seeking a tribe to which I could unequivocally belong. And the performance poetry slam scene was a mixture of every kind of misfit. Peter and I fit right in. In no time, it felt as if we had known each other our whole lives. We shared everything: stories, poems, disappointments, hopes. We spent most evenings together. I’d meet him after work and go to whichever cafe was holding a slam competition that night. He knew everything about me: how broke I was, who stole my favorite vibrator, the ex-cop who hit me — how I kept going back to her. Every time. One night, after a particularly bad fight with my abusive partner, my roommate cornered me and told me she was going to raise the rent unless I had sex with her. My tourist visa was almost expired. I had no money except what I won at the slams — and that was barely enough to pay for the couch, ramen noodles and a MetroCard. I had no work permit, so I couldn’t get a job. I couldn’t apply for any services. Without papers I couldn’t even get into a shelter. I told Peter I was going to give up on this crazy dream of freedom in New York to go back to Jamaica. He was quiet while I explained what it meant to be undocumented; I went on about green cards and citizenship and visas and immigration authorities. When I was done talking, he asked me to marry him. When I pushed back, saying such a marriage was illegal and that it might land us in trouble with the law, he said the law was wrong. “You love me, right?” I nodded. “Well, I love you. You love me. I want children. You want children, right?” “Right …” “Well, that is what people do when they love each other and they want to have children together. They get married. And that makes them a family. They can’t have it both ways. And love is love, right?” His argument was sound. If the rules were fair, I would have been able to marry a woman, get citizenship and start a family with her. As it stood in the U.S., that wasn’t allowed. But Peter and I were well within our right to claim the perks of being a couple. We were already partners. He was already my family. We were married at City Hall. Peter’s lover, who was to be our witness, didn’t even show up for the wedding. We had to ask a beautiful man in cowboy boots and a sequined vest to stand in for him. After our very giggly “I dos,” Peter invited me to Thanksgiving dinner with his family. Before the month was out, I moved in with him and his amazing mother, Carole Linda, in the beautiful old house, the one that was once his parents’ church, two blocks from the beach in Far Rockaway. We spent three magical years living together. No one understood the quirky, kooky couple who arrived together, left together, but flirted with everyone in between. We had so much fun together. We were the perfect couple. We knew we’d be the perfect parents. But we were a modern couple. We wanted to be more intentional, more deliberate about our choices than our parents had been. We had more living to do before we took on the responsibilities of children. We didn’t have money, but we had lots of time. We were committed to living first. But at 29 Peter was diagnosed with cancer. Stage 4. He was diagnosed in May. He died on Dec. 16. At 11:30. Half-hour before he would turn 30. I was so furious at him dying, I couldn’t cry. It felt as if all my dreams of family died with him; a partner, children, my willing comrade in the radical redefining of the modern family, modern love. His mother was better at making peace with the heavens over the loss of her firstborn. I was surprised at her ability to remain connected to me. She stayed close, calling, sending Christmas cards, checking in, even as I remained distant, angry, unsure about deserving the magic of the family Peter had so tragically, suddenly, left behind. I grudgingly remained connected to his younger brother, CJ, who reminded me so much of Peter. Except he wasn’t gay, or a poet. He grew up to be a fine filmmaker and the only straight man in the L.G.B.T.Q. alliance in college. We often called each other to reminisce about Peter, to recount the sorcery of him, to bask in the shared memory of his magic. Later, when I became frantic with the desire to start a family — chasing gay men at house parties, begging sperm from strangers on planes — I broke down and wept for what felt like the too-early death of my husband. I didn’t want to be the strange young widow hosting lesbian parties in Crown Heights. I wanted to be the badass lesbian writer, with the flamboyant gay husband, raising four children in a rambling old house that used to be a church, two blocks from the beach in Far Rockaway. In one conversation with CJ, he interrupted to ask if there was a way he could stand in for Peter, by giving me his sperm. A year later, my daughter, Zuri, the most astounding miracle, born a decade after Peter’s death, refers to Peter as her “almost dad.” Carole Linda is still my mother-in-law and my kid’s actual, biological grandmother. Zuri’s “Baba,” CJ, got married last August. Zuri almost passed out from the joy of being asked to be the ring bearer at the wedding. We all traveled from multiple cities to watch them speak the vows. His brothers, their wives, Peter’s grandmother, his father, me, my non-monogamous partner and a beautiful cohort of ordinary folks, misfits, artists, preachers, writers, activists, gay, straight, nonbinary. I looked around the room, thinking if we had had the choice, this is what Peter’s and my wedding would have looked like. Peter would have reveled in it. Some days I still hear Peter’s voice inside my head, rustling in the fall wind, booming in the rush of traffic on the West Side Highway. He’s always whispering, screaming, saying the same thing, “Fate isn’t fixed, Staceyann. There is always some room for the gods to surprise us.”                                                                                                                                                                                                                       \n",
       "3  I’ve spent my whole life looking for similarities between myself and the protagonists in love stories. When I lost my father to prison and my mother’s attention to her double duties as a single parent, I escaped through books in an attempt to reimagine what love could look like. But the couples, usually locked in an embrace on the cover of those “harmless” rags, looked nothing like the people in my house. Abuse ruined the bones of our homes and turned them into rotten structures. My hopes of experiencing romance in the future seemed incompatible with my reality. I had no example of romantic love, not for girls that looked like me, until my cousin, Tiffany. Two years older than me, and seemingly in control of her life, Tiffany became a blueprint; no, a mirror — a way to see myself clearly. She was everything I wanted to be. She garnered attention when she walked into a room: ash brown hair, freckles and a genuine smile. Tiffany was beyond cool, she was fresh; beyond fresh, she was fly; beyond fly, her energy was unmatched. My cousin was my protector, the way an older sister should be. Tiffany taught me love by listening. She let me read her books and sing her songs from my favorite musicals. She joined me at my softball games and would sit next to me on the bench when I played catcher. She gave me tips for getting my crushes’ attention (none of which worked). First place in the oratory contest, she cheered. Solo during choir performance, she tossed a thumbs-up sign from the pew. We were inseparable until she went to high school and left me to fend for myself in those unimaginable middle school bouts of self-doubt. At 15, Tiffany had her first child. A little girl with a light as remarkable as her own, and the temperament of a doe. When she was pregnant, I asked her, “Are you sure?” She smiled and rubbed her belly. And just like that, my purpose was clear: I would have a daughter, too. Tiffany’s Little Light studied everything. Her mouth was an overturned cup spilling sunshine. They were an emerging constellation when they walked into a room together, stars to anybody who drew breath. They became a part of my vision board for maternal love. Do not be fooled, I too received this kind of love from my own mother. But it was so far removed from my teenage psyche, it wasn’t something I could pluck from my memory easily. You know, the way mirrors neglect to reflect what we’ve been conditioned to disbelieve. Despite the judgment of her being too young to raise a baby, Tiffany glowed. She glowed so brightly one could even say it blinded the jealous. And when Tiffany had her third child, she moved from California to find her footing in Baton Rouge. Her relationship with the father of her children, who I would later learn became more obsessed with the idea of owning Tiffany than loving her, was a wake-up call: Love is not transactional. Love is not ownership. Love is simply an act of absolute care. While love is an active verb, sometimes it ain’t enough at all. At 21, I had my daughter with my high school sweetheart. At 23, I left the dissolving relationship for a life that could hold my dreams to secure a future for my daughter. I called Tiffany to tell her the news. She answered, and I could hear her three children playing in the background. Little Light was now the eldest and took her job as protector of her two younger brothers seriously. “Cousin, are you sure?” Tiffany asked me. “Aren’t you scared?” I laughed away whatever fear I was carrying and told her I would be back. That it was just for the summer. But Tiffany knew what I couldn’t see yet. That I would find writing and become the woman of my own dreams. I cloaked myself in Tiffany’s charm and wore it until it became a second skin. This is how I arrived in Bed-Stuy, Brooklyn. I only dated men who called me beautiful. I flirted with anyone who could hold an interesting conversation. I gave love a run for its money because the only thing that truly kept my attention was my daughter’s health and laughter, and my burgeoning career in writing. I carried this new me everywhere: New York City, Poland, Britain and Canada. When the summer became a year, and the year became a decade, I recognized so much of my cousin in the way I carried myself. I loved how I looked to myself in the mirror. I loved how I looked from the reflection in my daughter’s eyes. Like Tiffany, I began to move through rooms easy like the wind, soundless and certain. This feeling stayed with me, from the red steps of our grandparents’ home in West Oakland to the Bed-Stuy stoops that became my sanctuary. At first, before she had her fifth child, Tiffany and I checked in weekly, then monthly, after she had her seventh child. Phone calls became text messages as our lives busied. She was raising eight children on her own and re-establishing herself after finally leaving an abusive relationship. Every other year I would visit, and when I couldn’t be physically present, I sent supportive messages, care packages and invitations for her to visit me on tour. After 15 years of visits dictated by holiday breaks and family reunions, I invited Tiffany to Florida. Tiffany had never been and was on a break from her on-again off-again relationship. I wanted to protect her. I wanted her to see what the world had to offer. She was the very best part of me. She gave me courage. She gave me reassurance. She gave me pep talks. She gave me compliments. Loving and celebrating others was natural for Tiffany. The least I could do was repay her generosity by giving her the space she needed to figure out who she wanted to be. Through Tiffany’s turbulent relationships, and her absolute love for her children, I began to understand what love costs. When she met me in Miami, a place I traveled to for weekends and took for granted, her eyes welled up with tears. I asked, “What’s wrong, cousin?” By the time she could pull herself together, we were walking alongside the beach, our manicured toes leaving kiss-prints on the sand. “I never thought I would get to see the Atlantic Ocean,” she said, tears sliding down her freckled face. “I feel like all I have is my kids. I’ve never traveled and seen the world like you.” I held my breath, terrified by the weight of the moment, but ready to rise to the occasion and remind her what she taught me so many years before. Fairy tales might teach us stories of whimsy, designed to mold single Black women into roles of grateful service before they’ve ever seen the world. It was my turn to show Tiffany that we are in fact an entire world ourselves.                                                                                                                                                                                                                                                                                                                                                                                                                                                                                                                                                                                                                                                                                                                                                                                                                                                                                                                                                                                                                                                                                                                                                                                                                                                                                                                                                                                                                                                                                                                                                                                                                                                                                                                                                                                                                                                                                                                                                                                                            \n",
       "4  “I am no longer dating white guys. Nonwhite guys may submit their applications in my DMs.” These words, posted on my Facebook page, marked the beginning of a racial reckoning in my dating life. Some context: It was June 2020. George Floyd had just been murdered. Black people like myself were consumed with rage and were openly airing our grief. On top of that, I was a woman scorned. I was 35 years old, a highly educated Black woman, a homeowner and an attorney, and I had just been rejected by yet another mediocre white guy who then pursued a relationship with a white woman. In short, I was fed up with white people. So one afternoon, I wrote a half-crazed manifesto on my Facebook page. Specifically, I railed against a white society that clearly didn’t see me as white but insisted on rejecting my Blackness because of my appearance (fair-skinned) and upbringing (middle class). White people had called me “not Black” for liking Taylor Swift, told me they were “more Black than me” because they grew up in a predominantly Black neighborhood (or had an especially dark tan), and fetishized my “exoticness” and ethnic ambiguity. I ended my ramblings with the call for applicants. I clicked “post” without thinking. To my amazement, the likes and comments started pouring in. Black people saying that they’d had similar experiences. White allies thanking me and promising to “do the work.” I felt so vindicated. And then this popped up on Facebook Messenger: “Application submitted!” The message was from Josh, whom I went to high school with 18 years earlier in Maryland. He was tall, handsome, smart, funny and successful. And Black. I’d briefly reconnected with him at a bar in Baltimore in 2018 when I was in town for a work conference. We had flirted, but I remembered from Facebook that he’d gotten married, so I flew back to California at the end of the conference with a wistful “what-if” feeling fluttering in my chest. I soon found out through mutual friends that his marriage had ended before we connected, but seeing as we lived 3,000 miles apart, I figured there was no point in trying to pursue anything. But here he was now, reading my manifesto and submitting an actual application to date me. I was gobsmacked. Up to that point, the vast majority of my relationships had been with white men, the predictable result of years spent in a Maryland prep school and at a Massachusetts liberal arts college. In fact, it had become a running joke among my friends and family: If the guy was basic and white, he was my type. But I had never, not once, dated a Black man. And I’ll be honest — I had always felt a kind of shame around that, as though my not dating Black men reflected a deep-seated insecurity with my own Blackness. But here was an eligible Black bachelor offering me a chance at love, and a chance at embracing my Blackness. Josh and I started texting. We had a couple of video calls that were awkward at first but became more natural. I suggested flying out to Baltimore to see him, and he agreed. On the one hand, it seemed wild and reckless, jumping on a plane to visit someone I barely knew. And during a pandemic to boot. On the other, the whole thing felt like something out of a movie. I was flying 3,000 miles to have our “first date.” We packed a lot into that four-day first date. He took me to Baltimore’s National Aquarium. He treated me to dinners and wine. He even took me to a (socially distanced) visit with my grandmother on her birthday. Most of all, we reveled in our Blackness. We danced to hip-hop in his living room — and he could dance, something I had rarely experienced with my white boyfriends. We joked about the endearing quirks of our older Black relatives. We shared stories about being among the few Black people in our respective professional arenas — finance for him; law for me. With him I could openly “speak the language” and not have to explain myself. For the first time in my life, I felt like I could be completely, unapologetically Black with the guy I was dating. Like most first dates, there were uncomfortable moments. Josh was reserved and rarely volunteered information about himself, which meant it was hard to get to know him. And while there was definitely a mutual physical attraction, there was a shyness in Josh that only seemed to fall away with the help of a few drinks. Still, I chalked that up to our still getting to know one another. However, on my last night there, as we gazed at the city lights over the Inner Harbor, he turned to me and said, “You know this isn’t going to work, right?” Completely out of nowhere. I asked him to explain. He said our personalities were too different — I’m outgoing, high-energy and emotional; he’s analytical, quiet and calm. I, both a romantic and a lawyer, attempted to argue my case — “Doesn’t love find a way?” — and he, the realistic, number-crunching one, pointed out the obvious practical hurdles. With the physical distance between us, there was no way to properly date or figure out how we would fit together. My fairy tale seemingly shattered, I started to cry. He seemed sad too, though whether it was because of a mutual feeling of despair or simply uneasiness at my tears, I couldn’t tell. The next morning he drove me to the airport and I asked him to visit me in California. He gave a noncommittal answer. I left wondering if I would ever see him again. Turns out, I would. A few weeks after my Maryland trip, Josh asked to visit me in California. I was thrilled. I convinced myself that he wanted to visit California to see if he could make a home here with me. I planned a day trip to Napa. I borrowed my neighbor’s bike for Josh so we could tool around town together in true Californian style. I proudly showed him off to my friends, took him to my favorite local haunts, and tried my hardest to prove how great we could be together, the perfect Black power couple. Still, we weren’t quite clicking. Josh wasn’t entirely on board with my carefree Cali style. When we biked to the river on a hot day, I eagerly stripped down to splash around in the cool water, but he refused. When we strolled the sidewalks of downtown Napa, I reached out to intertwine my fingers with his, and he shook my hand off — turns out he wasn’t a fan of P.D.A. And the reservedness I had witnessed in Baltimore persisted. I tried to ask him questions about his family, of whom he seldom spoke. He demurred: “That’s personal.” As someone who had always been an open book, I was frustrated. When I drove him to the airport at the end of the visit, I had a hollow feeling. Why weren’t we clicking when we were perfect for each other, at least on paper: same hometown, same education, same career-driven lives, and most importantly (or so I thought), same race? How was this not kismet? It all came to a head in the spring of 2021. Josh invited me to Baltimore for the Preakness, an annual horse race and social event. But a disagreement over a coffee maker before I arrived — he didn’t own one, and for reasons I couldn’t fathom, didn’t want to have one on hand for my visits — pushed me over the edge. I said, “If you can’t even keep a coffee maker for me, it’s obvious you don’t care enough for me to fly 3,000 miles to see you.” To my horror, he didn’t argue. I said I wasn’t coming, and he didn’t try to change my mind. And that was it. What the hell had just happened? How did my lofty dreams fall so flat? Did I really fly to Maryland, and him to California — during a pandemic — for nothing more than a booty call? Over time, I realized my attachment to Josh was more intellectual than emotional. I had tried to make him — kind and well-meaning, but unable to match my spirit or provide me the emotional connection I wanted — into my perfect boyfriend, because he was Black. Josh represented the first time I naïvely attached my worth as a Black person to the success of my relationship with a Black man. But dating a Black man will not make me more Black, just as dating a white man won’t make me less Black. I am Black, period.  Regardless of the race or ethnicity of my next boyfriend, at least I’ll know one thing: Whoever loves me next must love all of me.                                                                                                                                                                                                                                                                                                                                            \n",
       "5  I’ve always been wary of sports, competition and falling in love. So growing up, I avoided all three. As a kid, I would shrug when “accidentally” letting goals into the net from the opposing team. I would walk slowly behind everyone else on the basketball court as they ran from end to end. My mother eventually stopped asking if I was interested in signing up for extracurriculars and my friends came to understand my lack of interest in playing board games, card games, drinking games or anything that required competing for the title winner. I was even able to avoid acting on romantic feelings for a long time but with age I let up slightly. After an indecisive football player, a shady basketball player, and a club bouncer who was as bad at kissing as he was at his job, I decided I had made a mistake opening myself up, and convinced myself that the real issue was vulnerability. I would no longer be attaching any emotional investments to my sexual partners. I never bothered to be competitive or to fall in love because I didn’t care to win. I met him on HER, a dating app for queer women and gender diverse people. He had long brown dreadlocks with subtle hints of blond and a promising smile. There was something about him that told me he would be the exact kind of fun I was looking for. He approached me with a smooth pickup line, and I responded with something much less cool. Before I could give it much thought he told me that he was assigned female at birth and had transitioned to live his life in the gender that was most authentic to him. “So, what are you looking for?” I said. “Well, I’m in an open relationship. So I’m not anticipating anything too serious,” he responded, adding that he and his partner were engaged to be married. My friends wanted to know how someone could be committed to a partner while pursuing other relationships. I didn’t blame them: the idea of a relationship where both partners agree to seeing other people while being together isn’t something that most learn about in “the birds and the bees” conversation. My immediate reaction when I learned he was in an open relationship was relief. I would have fun with no emotional responsibility. They were deeply in love and had a strong foundation on which their love was built. They knew that marriage was the ultimate goal of their relationship, and had its benefits both legally and personally, but they also knew that, in order to meet both of their physical and emotional needs, their marriage would need to be unconventional — which, in this case, meant leaving the door open for other intimate possibilities. What neither of us expected was the fast progression of our feelings. I started wondering more about when he’d see his fiancé next. He wanted details about the dates I went on. We both grew possessive as our unanticipated love bloomed. We began feeling entitled to each other. Yet, while my insecurity grew more obvious, he managed to mostly keep his casual demeanor. And of course he could. He always went home to the loving arms of his partner, and I always went home to thoughts of a lover that I couldn’t truly call my own. We were everything I vowed to never be: very vulnerable, and very corny. “You hang up first,” he’d say. “No, you!” I’d say, my naturally deep voice suddenly sounding prepubescent. We were inseparable. Soaking ourselves in wet kisses on the Toronto Transit Commission as if no one was around and feeding each other street meat on the corner of Church and Wellesley. Here I was, never having been intrigued by competition, but suddenly up to the challenge of convincing him that I was worthy of being his only one. I tried to appear unfazed by the uncertainty of our relationship, but with each passing day I could feel my nonchalant facade peeling away. I knew it wouldn’t take long before I had nothing left to hide behind. One evening, we joined our mutual friends for a night out. I had high hopes that the loud music and many shots of tequila would drown out the unanswered questions of our relationship. The dim club lights and the drink intensified the moment and when he and our friend began dancing with each other, I felt justified in my rage. Watching them dance — two Caribbeans sharing a strictly platonic love language of slow whining and good drinks — amplified everything that threatened our life together as a couple: my fear of losing him and not being able to do anything about it. It was then that I knew we couldn’t return to our no-strings-attached deal. I wanted to take away the love he reserved for his fiancé and keep it for myself (which is the exact antithesis of an open relationship). Here was this person who was sent to me through a dating app that hosts mostly nude pictures. Here, somehow, I met someone whose presence soothed me, and he had chosen to devote himself to someone else. Someone who had known the smell of his collar and the softness of his lips long before I even knew he existed. Nothing about that felt fair. I spent that night preparing for the curtain call on our love story. And though we continued to date for weeks afterward, that moment was a clear shift in our relationship. An obvious flag that this “casual thing” had gone too far. Our relationship came to an unavoidable end; I needed more and he knew he couldn’t give that to me. As I reflected on us, I realized that I was in competition with no one but myself. I assumed that “winning” in this situation meant we would abandon the concept of non-monogamy altogether and walk off into a sunset hand-in-hand. Just the two of us. But the open relationship wasn’t the problem. The problem was the strange expectation for Black women to be in competition with each other, even if they are unaware of it. And the even stranger expectation for Black queer relationships to still fit enough into the confines of heteronormativity to make other people comfortable. The normalization of heterosexuality has been so insidious in my life through the consumption of media, education, and social assumptions and attitudes, that even as a queer woman in love with a trans man, I still questioned the validity of our non-monogamy. I had to learn to quiet the noise of heteronormativity; the idea that being in love can only look one way for it to be valid. That intimacy can only include two people. That there needs to be competition in order to receive the love we deserve. Black folks have been queering the family dynamic for as long as we have existed in this world. We’ve had stepparents who have loved us like they made us from scratch. We’ve promoted any friendship that has lasted over five years to that’s my cousin status. I have half-siblings that I’ve only ever referred to as whole. The words “half-sibling” were treated as if they were illegal in my household; my parents constantly reminded us that the small, and scientific details of our family weren’t important. When my sister’s mom passed away and my aunt raised her, she called her auntie-mommy. We never questioned that. It never required an explanation. There has never been anything nuclear about any Black family dynamic I’ve ever known, so why did I villainize, and — in my own mind — compete with a Black woman who loved herself, and her fiancé enough to encourage him to share his love with me? Possibly, all along, I was never scared of competition or losing, but instead, as a Black woman, I couldn’t fathom the idea that, contrary to popular belief, love doesn’t actually require competition. Everyone can feel worthy. It was because of the open relationship with my engaged lover that I was able to say yes to a date with the next person I would go on to fall deeply in love with. Our non-monogamous ways gave me the freedom to explore other relationships openly. He went on to marry his fiancé and we have managed to remain friends. In our choice to smoothly transition from romantic to platonic, we stuck up a subliminal middle finger to a world where relationships between Black women — especially when there is a man in the middle — are so often reduced to the notion that there is only ever enough love for one of us. Open relationships are far from a means for competition, they are an embodiment of love unable to be confined. They have the ability to bring together a small-town, awkward Black girl and a cool island boy with effortless swagger, and somehow allow them to exist together in the Toronto summer heat, exiting their romance more filled with love than they found each other.   \n",
       "\n",
       "                                                   id  \\\n",
       "0  nyt://article/6e9a00c9-b1c7-5f0e-b16e-74e4cdab6ceb   \n",
       "2  nyt://article/9bf4e7f6-c4f5-57c7-b77f-5b55736fa99c   \n",
       "3  nyt://article/2ce87e3f-5333-5561-ad65-47608e6b8d5f   \n",
       "4  nyt://article/595d2c38-f78c-5aae-8b2c-4730e868637e   \n",
       "5  nyt://article/aa4266c4-81b5-5807-852b-95dbf7d9cd56   \n",
       "\n",
       "                                                  headline  \\\n",
       "0  Seeking a Father for My Child (Relationship Optional)     \n",
       "2  The Lesbian Writer and Her Flamboyant Gay Husband         \n",
       "3  Beyond Cool, She Was Fly. Her Confidence Gave Me Wings.   \n",
       "4  Accepting Applications for a Black Boyfriend              \n",
       "5  Love Isn’t a Zero-Sum Game                                \n",
       "\n",
       "                                                                                                                       abstract  \\\n",
       "0  Nearing 40, I decided to separate dating from mating.                                                                          \n",
       "2  Peter taught me to laugh at fate as we lived our dream. At least for a while.                                                  \n",
       "3  I had no example of love, not for girls that looked like me. Until my cousin Tiffany.                                          \n",
       "4  After a lifetime of dating white men, I hoped a new romance could offer a chance at love, and at embracing my own Blackness.   \n",
       "5  I thought the open relationship was the problem. But it was me.                                                                \n",
       "\n",
       "                                                                                                                        snippet  \\\n",
       "0  Nearing 40, I decided to separate dating from mating.                                                                          \n",
       "2  Peter taught me to laugh at fate as we lived our dream. At least for a while.                                                  \n",
       "3  I had no example of love, not for girls that looked like me. Until my cousin Tiffany.                                          \n",
       "4  After a lifetime of dating white men, I hoped a new romance could offer a chance at love, and at embracing my own Blackness.   \n",
       "5  I thought the open relationship was the problem. But it was me.                                                                \n",
       "\n",
       "                                                                                                                                                                                                                    lead_paragraph  \\\n",
       "0  Two days before I left South Dakota, Rex and I sat talking beneath the open hatchback of my car. In the distance, a lightning storm moved toward us over the open expanse of the Great Plains, churning the sky a murky purple.   \n",
       "2  This essay is part of a collaborative project with Black History, Continued. We invited readers and renowned writers to respond to the question “What is Black love today?”                                                       \n",
       "3  This essay is part of a collaborative project with Black History, Continued. We invited readers and renowned writers to respond to the question “What is Black love today?”                                                       \n",
       "4  This essay is part of a collaborative project with Black History, Continued. We invited readers and renowned writers to respond to the question “What is Black love today?”                                                       \n",
       "5  This essay is part of a collaborative project with Black History, Continued. We invited readers and renowned writers to respond to the question “What is Black love today?”                                                       \n",
       "\n",
       "     pub_date        news_desk section type_material  word_count  \\\n",
       "0  2022-02-25  Styles           Style   News          1557         \n",
       "2  2022-02-11  SpecialSections  Style   News          1619         \n",
       "3  2022-02-11  SpecialSections  Style   News          1304         \n",
       "4  2022-02-11  SpecialSections  Style   News          1580         \n",
       "5  2022-02-11  SpecialSections  Style   News          1627         \n",
       "\n",
       "                                                                                                                                                                                                                                                                                                                                                                                                                                                                                                                                                                                                                                                                                                                                                                                                                                                                                                                                                                                                                                                                                                                                                                                                                                                                                                                                                                                                                                                                                                                                                                                                                                                                                                                                                                                                                                                                                                                                                                                                                                                                                                                                                                                                                                                                                                                                                                                                                                                                                                                                                                                                                                                                                                                                                                                                                                                                                                                                                                                                                                                                                                                                                                                                                                                                                                                                                                                                                                                                                                                                                                                                                                                                                                                                                                                                                                                                                                                                                                                                                                                                                                                                                                                                                                                                                                                                                                                                                                                                                                                                                                                                                                                                                                                                                                                                                                                                                                                                                                                                                                                                                                                                                                                                                                                                                                                                                                                                                                                                                                                                                                                                                                                                                                                                                                                                                                       essay_no_sw  \\\n",
       "0  Two days I left South Dakota, Rex I sat talking beneath open hatchback car. In distance, lightning storm moved open expanse Great Plains, churning sky murky purple. He talking passionately lithium batteries. The talked, I common. I considered interested anything, especially I attracted person speaking. But I asked myself: Did I care batteries? He I volunteers Pine Ridge Reservation, building repairing infrastructure. He person greet I arrived end long, dirt road. When climbed cab skid loader, I saw face, body warmed. In lyrical version happened storm approached, stopped talking taken seriously pleasure bodies. But wanting baby dating late 30s like poem like math problem. There lot line up, I looking differed younger self envisioned. I didn’t care dating certain time baby, love, getting married. I wanted like biological father child, maybe admire him. That it. I arrived set criteria alternatives sentimental unrealistic, especially husband-to-be wish lists champion years ready able children. With help sitting meditation practice, I observed I worried getting pregnant, discerning I love, effect I feared intensify I got older. How I trust judgment pressure? Wouldn’t lot men start smell like fathers? I decided safest way protect romantic delusion separate stories outset: I try find mate mother, time. Since biological constraints easy figure urgent, I resolved child outside context love. My solo road trip South Dakota conceived experience future self, saddled dependent, someday thank for. When I returned home, I planned pregnant anonymous donor’s sperm. On evening Rex, kissing tent, I realized lot I didn’t know — life, worked, name. Before I crawled tent, asked phone number. He headed home Michigan, I California. I told I thought leave things exactly were, perfect me. “What, crazy?” said, gave number. Back home, I pored donor questionnaires local sperm bank, trying straight liked video games preferred billiards, mixed blandly me. Phone conversations Rex, though, weird memorable. He inherited father’s expressions “Son biscuit!” “Jeez O’Pete’s!” Doting backyard laying hens, referred “chicken mama.” He 30-something adult I knew traveled airplane exactly once, domestic round trip job. We didn’t talk parts lives existed present. He mentioned relationship woman Michigan crumbling. All knew path motherhood I wanted child. When search donor stagnated lacking warm feeling them, friends offered screen profiles eve 40th birthday. Two donors received friends’ approval, I wait-list sperm, I felt ambivalent. When I finally told Rex stalled plan mother, said, “I help that.” I silent. Then I said, “Don’t like thinking it.” “I have.” He wasn’t interested father co-parent, scenarios discussed assumed time I gave birth, I longer romantically involved. Soon visited California experience soaking naked strangers hot springs, contact thousand-year-old redwood trees (he cried). He gave rubs accurate, clumsy; hands life. We working donor arrangement. We falling love. I went stay Michigan, taught use chain saw care chickens. Eventually, followed California, driving way towing homemade trailer filled tools. During time, trying live separate stories: month tried conceive, getting know other. But enjoyed ourselves, confusing situation became. If I got pregnant, leave relationship? If I didn’t pregnant, I switch donor? About year offered donor, began difficult conversations. And middle them, I got pregnant. Such generosity genuinely thrilled me. Inwardly, though, began withdraw. He didn’t want father co-parent; thought brought old wounds childhood. Every day indecision, I tempted try convince stay. Most days, I sanity recognize harm both. On day left California, took photograph looking haunted. Then got car drove east. It Father’s Day. After left, I scrambled action, interviewing midwives, searching online baby gear, trying explain womb I crying lot: “I’m sorry, baby. I’m OK, sad.” Then weeks later, warning, text arrived: “I terrible mistake.” By then, I recognized wasn’t one. When love baby coincided me, I believed I separate remain fundamentally unchanged. Not Rex I suffering I able clean reality I envisioned existed us. It evaporated moment greeted end dirt road, body responded warmth. Buddhism founded truth suffering caused desire, glance suffering desire sound unequivocally bad. But beauty suffering offers opportunity curious tender relationship desire, listen try eradicate it. Often I hear beneath desire’s surface noise isn’t problematic, human: vulnerability having life tangled others. In Rex’s absence, I remembered tending lover child dirty work, wholesome sense. We don’t fall love baby points view preferences affirmed. We it, little bit, soften singular, lonesome grip reality invite unexpected, undesirable inexplicable. This — messiness, richness, hands life — beautiful natural animal appetites understanding. Being faithful deepest sense lover baby saying yes weird memorable know want welcome it. Rex came way. He told left California, listening podcasts fatherhood looking photo took day left. He’d crying, too. And wanted come back. “To baby?” I said. “Or me?” “Both,” said. And did. He sold heaviest tools, repainted walls house Michigan sale. And months later, California time catch hands son born.                                                                                                                                                                                                                                                                                                                                                              \n",
       "2  Peter I hitched wagons young. Early 20s. He wildly handsome, gay, soulful brown eyes head loose, unruly curls. Raised African American woman white preacher man, Peter spent childhood steeped evangelical ministry. He terrified father’s sermons soothed mother’s inclination administer human aspects congregation led. The night I met Peter, I fell way love. Kismet, say. He laugh words. It time Nuyorican Poets Cafe, premier debut joint performance poet trying New York City poetry scene. I read piece open mic slam. Peter admirers way applauding crowd tell I simultaneously embodied fury father vulnerability mother — and, such, I destined true loves. “Only of?” I asked. “Fate isn’t fixed,” said, “The gods leave room surprises!” By time met fall 1997, Peter’s parents long divorced. His father left church. And Peter exploring truths believe in. Poetry new religion. His poems long, lyrical lovingly painted impossibly beautiful brushstrokes utopia. He lived life energy. He believed goodness people. Once, middle winter Washington Square Park, I watched unbutton coat drape shoulders drunk called homophobic slur. I ex-Christian newly lesbian fleeing violent homophobia late 1990s Jamaica, wearing fury attacked dozen boys sexually assaulted Kingston. I ashamed angry defined final year university. That’s I moved New York City tourist visa. I needed safe home. But I felt sea new country. I aunts uncles New York, I absolutely relationship biological family. My parents abandoned — mother birth, father hadn’t shown up. And I announced I lesbian, distant extended family wanted me. I New York search safety. Freedom. And room explore budding lesbian identity. I seeking tribe I unequivocally belong. And performance poetry slam scene mixture kind misfit. Peter I fit right in. In time, felt known lives. We shared everything: stories, poems, disappointments, hopes. We spent evenings together. I’d meet work whichever cafe holding slam competition night. He knew me: broke I was, stole favorite vibrator, ex-cop hit — I kept going her. Every time. One night, particularly bad fight abusive partner, roommate cornered told going raise rent I sex her. My tourist visa expired. I money I won slams — barely pay couch, ramen noodles MetroCard. I work permit, I couldn’t job. I couldn’t apply services. Without papers I couldn’t shelter. I told Peter I going crazy dream freedom New York Jamaica. He quiet I explained meant undocumented; I went green cards citizenship visas immigration authorities. When I talking, asked marry him. When I pushed back, saying marriage illegal land trouble law, said law wrong. “You love me, right?” I nodded. “Well, I love you. You love me. I want children. You want children, right?” “Right …” “Well, people love want children together. They married. And makes family. They can’t ways. And love love, right?” His argument sound. If rules fair, I able marry woman, citizenship start family her. As stood U.S., wasn’t allowed. But Peter I right claim perks couple. We partners. He family. We married City Hall. Peter’s lover, witness, didn’t wedding. We ask beautiful man cowboy boots sequined vest stand him. After giggly “I dos,” Peter invited Thanksgiving dinner family. Before month out, I moved amazing mother, Carole Linda, beautiful old house, parents’ church, blocks beach Far Rockaway. We spent magical years living together. No understood quirky, kooky couple arrived together, left together, flirted between. We fun together. We perfect couple. We knew we’d perfect parents. But modern couple. We wanted intentional, deliberate choices parents been. We living took responsibilities children. We didn’t money, lots time. We committed living first. But 29 Peter diagnosed cancer. Stage 4. He diagnosed May. He died Dec. 16. At 11:30. Half-hour turn 30. I furious dying, I couldn’t cry. It felt dreams family died him; partner, children, willing comrade radical redefining modern family, modern love. His mother better making peace heavens loss firstborn. I surprised ability remain connected me. She stayed close, calling, sending Christmas cards, checking in, I remained distant, angry, unsure deserving magic family Peter tragically, suddenly, left behind. I grudgingly remained connected younger brother, CJ, reminded Peter. Except wasn’t gay, poet. He grew fine filmmaker straight man L.G.B.T.Q. alliance college. We called reminisce Peter, recount sorcery him, bask shared memory magic. Later, I frantic desire start family — chasing gay men house parties, begging sperm strangers planes — I broke wept felt like too-early death husband. I didn’t want strange young widow hosting lesbian parties Crown Heights. I wanted badass lesbian writer, flamboyant gay husband, raising children rambling old house church, blocks beach Far Rockaway. In conversation CJ, interrupted ask way stand Peter, giving sperm. A year later, daughter, Zuri, astounding miracle, born decade Peter’s death, refers Peter “almost dad.” Carole Linda mother-in-law kid’s actual, biological grandmother. Zuri’s “Baba,” CJ, got married August. Zuri passed joy asked ring bearer wedding. We traveled multiple cities watch speak vows. His brothers, wives, Peter’s grandmother, father, me, non-monogamous partner beautiful cohort ordinary folks, misfits, artists, preachers, writers, activists, gay, straight, nonbinary. I looked room, thinking choice, Peter’s wedding looked like. Peter reveled it. Some days I hear Peter’s voice inside head, rustling fall wind, booming rush traffic West Side Highway. He’s whispering, screaming, saying thing, “Fate isn’t fixed, Staceyann. There room gods surprise us.”   \n",
       "3  I’ve spent life looking similarities protagonists love stories. When I lost father prison mother’s attention double duties single parent, I escaped books attempt reimagine love look like. But couples, usually locked embrace cover “harmless” rags, looked like people house. Abuse ruined bones homes turned rotten structures. My hopes experiencing romance future incompatible reality. I example romantic love, girls looked like me, cousin, Tiffany. Two years older me, seemingly control life, Tiffany blueprint; no, mirror — way clearly. She I wanted be. She garnered attention walked room: ash brown hair, freckles genuine smile. Tiffany cool, fresh; fresh, fly; fly, energy unmatched. My cousin protector, way older sister be. Tiffany taught love listening. She let read books sing songs favorite musicals. She joined softball games sit bench I played catcher. She gave tips getting crushes’ attention (none worked). First place oratory contest, cheered. Solo choir performance, tossed thumbs-up sign pew. We inseparable went high school left fend unimaginable middle school bouts self-doubt. At 15, Tiffany child. A little girl light remarkable own, temperament doe. When pregnant, I asked her, “Are sure?” She smiled rubbed belly. And like that, purpose clear: I daughter, too. Tiffany’s Little Light studied everything. Her mouth overturned cup spilling sunshine. They emerging constellation walked room together, stars anybody drew breath. They vision board maternal love. Do fooled, I received kind love mother. But far removed teenage psyche, wasn’t I pluck memory easily. You know, way mirrors neglect reflect we’ve conditioned disbelieve. Despite judgment young raise baby, Tiffany glowed. She glowed brightly blinded jealous. And Tiffany child, moved California find footing Baton Rouge. Her relationship father children, I later learn obsessed idea owning Tiffany loving her, wake-up call: Love transactional. Love ownership. Love simply act absolute care. While love active verb, ain’t all. At 21, I daughter high school sweetheart. At 23, I left dissolving relationship life hold dreams secure future daughter. I called Tiffany tell news. She answered, I hear children playing background. Little Light eldest took job protector younger brothers seriously. “Cousin, sure?” Tiffany asked me. “Aren’t scared?” I laughed away fear I carrying told I back. That summer. But Tiffany knew I couldn’t yet. That I find writing woman dreams. I cloaked Tiffany’s charm wore second skin. This I arrived Bed-Stuy, Brooklyn. I dated men called beautiful. I flirted hold interesting conversation. I gave love run money thing truly kept attention daughter’s health laughter, burgeoning career writing. I carried new everywhere: New York City, Poland, Britain Canada. When summer year, year decade, I recognized cousin way I carried myself. I loved I looked mirror. I loved I looked reflection daughter’s eyes. Like Tiffany, I began rooms easy like wind, soundless certain. This feeling stayed me, red steps grandparents’ home West Oakland Bed-Stuy stoops sanctuary. At first, fifth child, Tiffany I checked weekly, monthly, seventh child. Phone calls text messages lives busied. She raising children re-establishing finally leaving abusive relationship. Every year I visit, I couldn’t physically present, I sent supportive messages, care packages invitations visit tour. After 15 years visits dictated holiday breaks family reunions, I invited Tiffany Florida. Tiffany break on-again off-again relationship. I wanted protect her. I wanted world offer. She best me. She gave courage. She gave reassurance. She gave pep talks. She gave compliments. Loving celebrating natural Tiffany. The I repay generosity giving space needed figure wanted be. Through Tiffany’s turbulent relationships, absolute love children, I began understand love costs. When met Miami, place I traveled weekends took granted, eyes welled tears. I asked, “What’s wrong, cousin?” By time pull together, walking alongside beach, manicured toes leaving kiss-prints sand. “I thought I Atlantic Ocean,” said, tears sliding freckled face. “I feel like I kids. I’ve traveled seen world like you.” I held breath, terrified weight moment, ready rise occasion remind taught years before. Fairy tales teach stories whimsy, designed mold single Black women roles grateful service they’ve seen world. It turn Tiffany fact entire world ourselves.                                                                                                                                                                                                                                                                                                                                                                                                                                                                                                                                                                                                                                                                                                                                                                                                                                                                                                                                                                                                                                                                                                                                                                                                                                                                    \n",
       "4  “I longer dating white guys. Nonwhite guys submit applications DMs.” These words, posted Facebook page, marked beginning racial reckoning dating life. Some context: It June 2020. George Floyd murdered. Black people like consumed rage openly airing grief. On that, I woman scorned. I 35 years old, highly educated Black woman, homeowner attorney, I rejected mediocre white guy pursued relationship white woman. In short, I fed white people. So afternoon, I wrote half-crazed manifesto Facebook page. Specifically, I railed white society clearly didn’t white insisted rejecting Blackness appearance (fair-skinned) upbringing (middle class). White people called “not Black” liking Taylor Swift, told “more Black me” grew predominantly Black neighborhood (or especially dark tan), fetishized “exoticness” ethnic ambiguity. I ended ramblings applicants. I clicked “post” thinking. To amazement, likes comments started pouring in. Black people saying they’d similar experiences. White allies thanking promising “do work.” I felt vindicated. And popped Facebook Messenger: “Application submitted!” The message Josh, I went high school 18 years earlier Maryland. He tall, handsome, smart, funny successful. And Black. I’d briefly reconnected bar Baltimore 2018 I town work conference. We flirted, I remembered Facebook he’d gotten married, I flew California end conference wistful “what-if” feeling fluttering chest. I soon found mutual friends marriage ended connected, seeing lived 3,000 miles apart, I figured point trying pursue anything. But now, reading manifesto submitting actual application date me. I gobsmacked. Up point, vast majority relationships white men, predictable result years spent Maryland prep school Massachusetts liberal arts college. In fact, running joke friends family: If guy basic white, type. But I never, once, dated Black man. And I’ll honest — I felt kind shame that, dating Black men reflected deep-seated insecurity Blackness. But eligible Black bachelor offering chance love, chance embracing Blackness. Josh I started texting. We couple video calls awkward natural. I suggested flying Baltimore him, agreed. On hand, wild reckless, jumping plane visit I barely knew. And pandemic boot. On other, thing felt like movie. I flying 3,000 miles “first date.” We packed lot four-day date. He took Baltimore’s National Aquarium. He treated dinners wine. He took (socially distanced) visit grandmother birthday. Most all, reveled Blackness. We danced hip-hop living room — dance, I rarely experienced white boyfriends. We joked endearing quirks older Black relatives. We shared stories Black people respective professional arenas — finance him; law me. With I openly “speak language” explain myself. For time life, I felt like I completely, unapologetically Black guy I dating. Like dates, uncomfortable moments. Josh reserved rarely volunteered information himself, meant hard know him. And definitely mutual physical attraction, shyness Josh fall away help drinks. Still, I chalked getting know another. However, night there, gazed city lights Inner Harbor, turned said, “You know isn’t going work, right?” Completely nowhere. I asked explain. He said personalities different — I’m outgoing, high-energy emotional; he’s analytical, quiet calm. I, romantic lawyer, attempted argue case — “Doesn’t love find way?” — he, realistic, number-crunching one, pointed obvious practical hurdles. With physical distance us, way properly date figure fit together. My fairy tale seemingly shattered, I started cry. He sad too, mutual feeling despair simply uneasiness tears, I couldn’t tell. The morning drove airport I asked visit California. He gave noncommittal answer. I left wondering I again. Turns out, I would. A weeks Maryland trip, Josh asked visit California. I thrilled. I convinced wanted visit California home me. I planned day trip Napa. I borrowed neighbor’s bike Josh tool town true Californian style. I proudly showed friends, took favorite local haunts, tried hardest prove great together, perfect Black power couple. Still, weren’t clicking. Josh wasn’t entirely board carefree Cali style. When biked river hot day, I eagerly stripped splash cool water, refused. When strolled sidewalks downtown Napa, I reached intertwine fingers his, shook hand — turns wasn’t fan P.D.A. And reservedness I witnessed Baltimore persisted. I tried ask questions family, seldom spoke. He demurred: “That’s personal.” As open book, I frustrated. When I drove airport end visit, I hollow feeling. Why weren’t clicking perfect other, paper: hometown, education, career-driven lives, importantly (or I thought), race? How kismet? It came head spring 2021. Josh invited Baltimore Preakness, annual horse race social event. But disagreement coffee maker I arrived — didn’t one, reasons I couldn’t fathom, didn’t want hand visits — pushed edge. I said, “If can’t coffee maker me, it’s obvious don’t care fly 3,000 miles you.” To horror, didn’t argue. I said I wasn’t coming, didn’t try change mind. And it. What hell happened? How lofty dreams fall flat? Did I fly Maryland, California — pandemic — booty call? Over time, I realized attachment Josh intellectual emotional. I tried — kind well-meaning, unable match spirit provide emotional connection I wanted — perfect boyfriend, Black. Josh represented time I naïvely attached worth Black person success relationship Black man. But dating Black man Black, dating white man won’t Black. I Black, period. Regardless race ethnicity boyfriend, I’ll know thing: Whoever loves love me.                                                                                 \n",
       "5  I’ve wary sports, competition falling love. So growing up, I avoided three. As kid, I shrug “accidentally” letting goals net opposing team. I walk slowly basketball court ran end end. My mother eventually stopped asking I interested signing extracurriculars friends came understand lack interest playing board games, card games, drinking games required competing title winner. I able avoid acting romantic feelings long time age I let slightly. After indecisive football player, shady basketball player, club bouncer bad kissing job, I decided I mistake opening up, convinced real issue vulnerability. I longer attaching emotional investments sexual partners. I bothered competitive fall love I didn’t care win. I met HER, dating app queer women gender diverse people. He long brown dreadlocks subtle hints blond promising smile. There told exact kind fun I looking for. He approached smooth pickup line, I responded cool. Before I thought told assigned female birth transitioned live life gender authentic him. “So, looking for?” I said. “Well, I’m open relationship. So I’m anticipating serious,” responded, adding partner engaged married. My friends wanted know committed partner pursuing relationships. I didn’t blame them: idea relationship partners agree seeing people isn’t learn “the birds bees” conversation. My immediate reaction I learned open relationship relief. I fun emotional responsibility. They deeply love strong foundation love built. They knew marriage ultimate goal relationship, benefits legally personally, knew that, order meet physical emotional needs, marriage need unconventional — which, case, meant leaving door open intimate possibilities. What expected fast progression feelings. I started wondering he’d fiancé next. He wanted details dates I went on. We grew possessive unanticipated love bloomed. We began feeling entitled other. Yet, insecurity grew obvious, managed casual demeanor. And course could. He went home loving arms partner, I went home thoughts lover I couldn’t truly own. We I vowed be: vulnerable, corny. “You hang first,” he’d say. “No, you!” I’d say, naturally deep voice suddenly sounding prepubescent. We inseparable. Soaking wet kisses Toronto Transit Commission feeding street meat corner Church Wellesley. Here I was, having intrigued competition, suddenly challenge convincing I worthy one. I tried appear unfazed uncertainty relationship, passing day I feel nonchalant facade peeling away. I knew wouldn’t long I left hide behind. One evening, joined mutual friends night out. I high hopes loud music shots tequila drown unanswered questions relationship. The dim club lights drink intensified moment friend began dancing other, I felt justified rage. Watching dance — Caribbeans sharing strictly platonic love language slow whining good drinks — amplified threatened life couple: fear losing able it. It I knew couldn’t return no-strings-attached deal. I wanted away love reserved fiancé (which exact antithesis open relationship). Here person sent dating app hosts nude pictures. Here, somehow, I met presence soothed me, chosen devote else. Someone known smell collar softness lips long I knew existed. Nothing felt fair. I spent night preparing curtain love story. And continued date weeks afterward, moment clear shift relationship. An obvious flag “casual thing” gone far. Our relationship came unavoidable end; I needed knew couldn’t me. As I reflected us, I realized I competition myself. I assumed “winning” situation meant abandon concept non-monogamy altogether walk sunset hand-in-hand. Just us. But open relationship wasn’t problem. The problem strange expectation Black women competition other, unaware it. And stranger expectation Black queer relationships fit confines heteronormativity people comfortable. The normalization heterosexuality insidious life consumption media, education, social assumptions attitudes, queer woman love trans man, I questioned validity non-monogamy. I learn quiet noise heteronormativity; idea love look way valid. That intimacy include people. That needs competition order receive love deserve. Black folks queering family dynamic long existed world. We’ve stepparents loved like scratch. We’ve promoted friendship lasted years that’s cousin status. I half-siblings I’ve referred whole. The words “half-sibling” treated illegal household; parents constantly reminded small, scientific details family weren’t important. When sister’s mom passed away aunt raised her, called auntie-mommy. We questioned that. It required explanation. There nuclear Black family dynamic I’ve known, I villainize, — mind — compete Black woman loved herself, fiancé encourage share love me? Possibly, along, I scared competition losing, instead, Black woman, I couldn’t fathom idea that, contrary popular belief, love doesn’t actually require competition. Everyone feel worthy. It open relationship engaged lover I able yes date person I fall deeply love with. Our non-monogamous ways gave freedom explore relationships openly. He went marry fiancé managed remain friends. In choice smoothly transition romantic platonic, stuck subliminal middle finger world relationships Black women — especially man middle — reduced notion love us. Open relationships far means competition, embodiment love unable confined. They ability bring small-town, awkward Black girl cool island boy effortless swagger, allow exist Toronto summer heat, exiting romance filled love found other.                                                                                                                                                                     \n",
       "\n",
       "                                                                                                                                                                                                                                                                                                                                                                                                                                                                                                                                                                                                                                                                                                                                                                                                                                                                                                                                                                                                                                                                                                                                                                                                                                                                                                                                                                                                                                                                                                                                                                                                                                                                                                                                                                                                                                                                                                                                                                                                                                                                                                                                                                                                                                                                                                                                                                                                                                                                                                                                                                                                                                                                                                                                                                                                                                                                                                                                                                                                                                                                                                                                                                                                                                                                                                                                                                                                                                                                                                                                                                                                                                                                                                                                                                                                                                                                                                                                                                                                                                                                                                                                                                                                                                                                                                                                                                                                                                                  essay_rev  \\\n",
       "0  day leave south dakota rex sit talk beneath open hatchback car distance lightning storm move open expanse great plains churn sky murky purple talk passionately lithium battery talk common consider interested especially attract person speak ask care battery volunteer pine ridge reservation build repair infrastructure person greet arrive end long dirt road climb cab skid loader see face body warm lyrical version happen storm approach stop talk take seriously pleasure body want baby date late poem math problem lot line look differ young self envision care date certain time baby love getting marry want biological father child maybe admire arrive set criterion alternative sentimental unrealistic especially husband wish list champion year ready able child help sit meditation practice observe worry get pregnant discerning love effect fear intensify get old trust judgment pressure lot man start smell father decide safe way protect romantic delusion separate story outset try find mate mother time biological constraint easy figure urgent resolve child outside context love solo road trip south dakota conceive experience future self saddle dependent someday thank return home plan pregnant anonymous donor sperm evening rex kiss tent realize lot know life work crawl tent ask phone number head home michigan california tell think leave thing exactly perfect crazy say give number home pore donor questionnaire local sperm bank try straight like video game preferred billiard mix blandly phone conversation rex weird memorable inherit father expression son biscuit jeez dote backyard lay hen refer chicken mama adult know travel airplane exactly domestic round trip job talk part life exist present mention relationship woman michigan crumble know path motherhood want child search donor stagnate lack warm feeling friend offer screen profile eve birthday donor receive friend approval wait list sperm feel ambivalent finally tell rex stalled plan mother say help silent say think interested father co parent scenario discuss assume time give birth long romantically involve soon visit california experience soak naked stranger hot spring contact year old redwood tree cry give rub accurate clumsy hand life work donor arrangement fall love go stay michigan teach use chain saw care chicken eventually follow california drive way tow homemade trailer fill tool time try live separate story month try conceive get know enjoy confusing situation get pregnant leave relationship pregnant switch donor year offer donor begin difficult conversation middle get pregnant generosity genuinely thrilled inwardly begin withdraw father co parent thought bring old wound childhood day indecision tempt try convince stay day sanity recognize harm day leave california take photograph look haunted get car drive east father day leave scramble action interview midwife search online baby gear try explain womb cry lot sorry baby ok sad week later warning text arrive terrible mistake recognize love baby coincide believe separate remain fundamentally unchanged rex suffer able clean reality envision exist evaporate moment greet end dirt road body respond warmth buddhism found truth suffering cause desire glance suffer desire sound unequivocally bad beauty suffering offer opportunity curious tender relationship desire listen try eradicate hear beneath desire surface noise problematic human vulnerability have life tangle rex absence remember tend lover child dirty work wholesome sense fall love baby point view preference affirm little bit soften singular lonesome grip reality invite unexpected undesirable inexplicable messiness richness hand life beautiful natural animal appetite understanding faithful deep sense lover baby say yes weird memorable know welcome rex come way tell leave california listen podcast fatherhood look photo take day leave cry want come baby say say sell heavy tool repaint wall house michigan sale month later california time catch hand son bear                                                                                                                                                                                                                                                                                                                       \n",
       "2  peter hitch wagon young early wildly handsome gay soulful brown eye head loose unruly curl raise african american woman white preacher man peter spend childhood steep evangelical ministry terrified father sermon soothe mother inclination administer human aspect congregation lead night meet peter fall way love kismet laugh word time nuyorican poets cafe premier debut joint performance poet try new york city poetry scene read piece open mic slam peter admirer way applauding crowd simultaneously embody fury father vulnerability mother destine true love ask fate fix say god leave room surprise time meet fall peter parent long divorced father leave church peter explore truth believe poetry new religion poem long lyrical lovingly paint impossibly beautiful brushstroke utopia live life energy believe goodness people middle winter washington square park watch unbutton coat drape shoulder drunk call homophobic slur ex christian newly lesbian flee violent homophobia late jamaica wear fury attack dozen boy sexually assault kingston ashamed angry define final year university move new york city tourist visa need safe home feel sea new country aunt uncle new york absolutely relationship biological family parent abandon mother birth father show announce lesbian distant extended family want new york search safety freedom room explore budding lesbian identity seek tribe unequivocally belong performance poetry slam scene mixture kind misfit peter fit right time feel know life share story poem disappointment hope spend evening meet work whichever cafe hold slam competition night know break steal favorite vibrator ex cop hit keep go time night particularly bad fight abusive partner roommate corner tell go raise rent sex tourist visa expire money win slam barely pay couch ramen noodle metrocard work permit job apply service paper shelter tell peter go crazy dream freedom new york jamaica quiet explain mean undocumente go green card citizenship visa immigration authority talk ask marry push say marriage illegal land trouble law say law wrong love right nod love love child child right right people love child marry make family way love love right argument sound rule fair able marry woman citizenship start family stand allow peter right claim perk couple partner family marry city hall peter lover witness wedding ask beautiful man cowboy boot sequined vest stand giggly do peter invite thanksgiving dinner family month move amazing mother carole linda beautiful old house parent church block beach far rockaway spend magical year live understand quirky kooky couple arrive leave flirt fun perfect couple know perfect parent modern couple want intentional deliberate choice parent live take responsibility child money lot time commit live peter diagnose cancer stage diagnose die half hour turn furious die cry feel dream family die partner child willing comrade radical redefining modern family modern love mother well make peace heaven loss firstborn surprised ability remain connected stay close call send christmas card check remain distant angry unsure deserve magic family peter tragically suddenly leave grudgingly remain connected young brother cj remind peter gay poet grow fine filmmaker straight man alliance college call reminisce peter recount sorcery bask shared memory magic later frantic desire start family chase gay man house party beg sperm stranger plane break weep feel early death husband strange young widow host lesbian party crown heights want badass lesbian writer flamboyant gay husband raise child ramble old house church block beach far rockaway conversation cj interrupt ask way stand peter give sperm year later daughter zuri astounding miracle bear decade peter death refer peter dad carole linda mother law kid actual biological grandmother zuri baba cj got marry august zuri pass joy ask ring bearer wedding travel multiple city watch speak vow brother wife peter grandmother father non monogamous partner beautiful cohort ordinary folk misfit artist preacher writer activist gay straight nonbinary look room think choice peter wedding look peter revel day hear peter voice inside head rustle fall wind boom rush traffic west highway whisper scream say thing fate fix staceyann room god surprise                                       \n",
       "3  spend life look similarity protagonist love story lose father prison mother attention double duty single parent escape book attempt reimagine love look couple usually lock embrace cover harmless rag look people house abuse ruin bone home turn rotten structure hope experience romance future incompatible reality example romantic love girl look cousin tiffany year old seemingly control life tiffany blueprint mirror way clearly want garner attention walk room ash brown hair freckle genuine smile tiffany cool fresh fresh fly fly energy unmatched cousin protector way old sister tiffany teach love listen let read book sing song favorite musical join softball game sit bench play catcher give tip get crush attention work place oratory contest cheer solo choir performance toss thumb sign pew inseparable go high school leave fend unimaginable middle school bout self doubt tiffany child little girl light remarkable temperament doe pregnant ask sure smile rub belly purpose clear daughter tiffany little light study mouth overturned cup spill sunshine emerge constellation walk room star anybody draw breath vision board maternal love fool receive kind love mother far remove teenage psyche pluck memory easily know way mirror neglect reflect condition disbelieve despite judgment young raise baby tiffany glow glow brightly blind jealous tiffany child move california find footing baton rouge relationship father child later learn obsessed idea own tiffany love wake love transactional love ownership love simply act absolute care love active verb ai daughter high school sweetheart leave dissolve relationship life hold dream secure future daughter call tiffany news answer hear child play background little light eld take job protector young brother seriously cousin sure tiffany ask scared laugh away fear carry tell summer tiffany know find writing woman dream cloak tiffany charm wear skin arrive bed stuy brooklyn date man call beautiful flirt hold interesting conversation give love run money thing truly keep attention daughter health laughter burgeon career writing carry new new york city poland britain canada summer year year decade recognize cousin way carry love look mirror love look reflection daughter eye tiffany begin room easy wind soundless certain feeling stay red step grandparent home west oakland bed stuy stoop sanctuary child tiffany check weekly monthly child phone call text message life busy raise child establish finally leave abusive relationship year visit physically present send supportive message care package invitation visit tour year visit dictate holiday break family reunion invite tiffany florida tiffany break relationship want protect want world offer good give courage give reassurance give pep talk give compliment love celebrate natural tiffany repay generosity give space need figure want tiffany turbulent relationship absolute love child begin understand love cost meet miami place travel weekend take grant eye well tear ask wrong cousin time pull walk alongside beach manicure toe leave kiss print sand think atlantic ocean say tear slide freckle face feel kid travel see world hold breath terrify weight moment ready rise occasion remind teach year fairy tale teach story whimsy design mold single black woman role grateful service see world turn tiffany fact entire world                                                                                                                                                                                                                                                                                                                                                                                                                                                                                                                                                                                                                                                                                                                                                                                                                                                                                                                                                                                            \n",
       "4  long date white guy nonwhite guy submit application dm word post facebook page mark beginning racial reckoning date life context june george floyd murder black people consume rage openly air grief woman scorn year old highly educate black woman homeowner attorney reject mediocre white guy pursue relationship white woman short feed white people afternoon write half craze manifesto facebook page specifically rail white society clearly white insist reject blackness appearance fair skinned upbringe middle class white people call black like taylor swift tell black grow predominantly black neighborhood especially dark tan fetishize exoticness ethnic ambiguity end rambling applicant click post think amazement like comment start pour black people say similar experience white ally thank promise work feel vindicate pop facebook messenger application submit message josh go high school year early maryland tall handsome smart funny successful black briefly reconnecte bar baltimore town work conference flirt remember facebook get marry fly california end conference wistful feel flutter chest soon find mutual friend marriage end connect see live mile apart figure point try pursue read manifesto submit actual application date gobsmacke point vast majority relationship white man predictable result year spend maryland prep school massachusetts liberal art college fact running joke friend family guy basic white type date black man honest feel kind shame date black man reflect deep seat insecurity blackness eligible black bachelor offer chance love chance embrace blackness josh start texte couple video call awkward natural suggest fly baltimore agree hand wild reckless jump plane visit barely know pandemic boot thing feel movie fly mile date pack lot day date take baltimore national aquarium treat dinner wine take socially distance visit grandmother birthday revel blackness dance hip hop living room dance rarely experience white boyfriend joke endear quirk old black relative share story black people respective professional arena finance law openly speak language explain time life feel completely unapologetically black guy date date uncomfortable moment josh reserve rarely volunteer information mean hard know definitely mutual physical attraction shyness josh fall away help drink chalk get know night gaze city light inner harbor turn say know go work right completely ask explain say personality different outgoing high energy emotional analytical quiet calm romantic lawyer attempt argue case love find way realistic number crunch point obvious practical hurdle physical distance way properly date figure fit fairy tale seemingly shatter start cry sad mutual feeling despair simply uneasiness tear morning drive airport ask visit california give noncommittal answer leave wonder turn week maryland trip josh ask visit california thrilled convince want visit california home plan day trip napa borrow neighbor bike josh tool town true californian style proudly show friend take favorite local haunt try hard prove great perfect black power couple click josh entirely board carefree cali style bike river hot day eagerly strip splash cool water refuse stroll sidewalk downtown napa reach intertwine finger shake hand turn fan reservedness witness baltimore persist try ask question family seldom speak demur personal open book frustrate drive airport end visit hollow feeling click perfect paper hometown education career drive life importantly think race kismet come head spring josh invite baltimore preakness annual horse race social event disagreement coffee maker arrive reason fathom hand visit push edge say coffee maker obvious care fly mile horror argue say come try change mind hell happen lofty dream fall flat fly maryland california pandemic booty time realize attachment josh intellectual emotional try kind meaning unable match spirit provide emotional connection want perfect boyfriend black josh represent time naïvely attach worth black person success relationship black man date black man black date white man will black black period regardless race ethnicity boyfriend know thing love love                                                                                                                                                          \n",
       "5  wary sport competition fall love grow avoid kid shrug accidentally let goal net oppose team walk slowly basketball court run end end mother eventually stop ask interested sign extracurricular friend come understand lack interest play board game card game drinking game require compete title winner able avoid act romantic feeling long time age let slightly indecisive football player shady basketball player club bouncer bad kiss job decide mistake open convince real issue vulnerability long attach emotional investment sexual partner bother competitive fall love care win meet date app queer woman gender diverse people long brown dreadlock subtle hint blond promising smile tell exact kind fun look approach smooth pickup line respond cool thought tell assign female birth transition live life gender authentic look say open relationship anticipate respond add partner engage marry friend want know commit partner pursue relationship blame idea relationship partner agree see people learn bird bee conversation immediate reaction learn open relationship relief fun emotional responsibility deeply love strong foundation love build know marriage ultimate goal relationship benefit legally personally know order meet physical emotional need marriage need unconventional case mean leave door open intimate possibility expect fast progression feeling start wonder fiancé want detail date go grow possessive unanticipated love bloom begin feel entitled insecurity grow obvious manage casual demeanor course go home love arm partner go home thought lover truly vow vulnerable corny hang naturally deep voice suddenly sound prepubescent inseparable soak wet kiss toronto transit commission feed street meat corner church wellesley having intrigue competition suddenly challenge convince worthy try appear unfazed uncertainty relationship pass day feel nonchalant facade peel away know long leave hide evening join mutual friend night high hope loud music shot tequila drown unanswered question relationship dim club light drink intensify moment friend begin dance feel justified rage watch dance caribbeans share strictly platonic love language slow whining good drink amplify threaten life couple fear lose able know return string attach deal want away love reserve fiancé exact antithesis open relationship person send date app host nude picture meet presence soothe choose devote know smell collar softness lip long know exist feel fair spend night prepare curtain love story continue date week afterward moment clear shift relationship obvious flag casual thing go far relationship come unavoidable end need know reflect realize competition assume win situation mean abandon concept non monogamy altogether walk sunset hand hand open relationship problem problem strange expectation black woman competition unaware strange expectation black queer relationship fit confine heteronormativity people comfortable normalization heterosexuality insidious life consumption medium education social assumption attitude queer woman love trans man question validity non monogamy learn quiet noise heteronormativity idea love look way valid intimacy include people need competition order receive love deserve black folk queer family dynamic long exist world stepparent love scratch promote friendship last year cousin status half sibling refer word half sibling treat illegal household parent constantly remind small scientific detail family important sister mom pass away aunt raise call auntie mommy question require explanation nuclear black family dynamic know villainize mind compete black woman love fiancé encourage share love possibly scared competition lose instead black woman fathom idea contrary popular belief love actually require competition feel worthy open relationship engaged lover able yes date person fall deeply love non monogamous way give freedom explore relationship openly go marry fiancé manage remain friend choice smoothly transition romantic platonic stick subliminal middle finger world relationship black woman especially man middle reduce notion love open relationship far mean competition embodiment love unable confine ability bring small town awkward black girl cool island boy effortless swagger allow exist toronto summer heat exit romance fill love find   \n",
       "\n",
       "                                                                                                                                                                                                                                                                                                                                                                                                                                                                                                                                                                                                                                                                                                                                                                                                                                                                                                                                                                                                                                                                                                                                                                                                                                                                                                                                                                                                                                                                                                                                                                                                                                                                                                                                                                                                                                                                                                                                                                                                                                                                                                                                                                                                                                                                                                                                                                                                                                                                                                                                                                                                                                                                                                                                                                                                                                                                                                                                                                                                                                                                                                                                                                                                                                                                                                                                                                                                                                                                                                                                                                                                                                                                                                                                                                                                                                                                                                                                                                                                                                                                                                                                                                                                                                                                                                                          essay_rev_2  \n",
       "0  day leave south dakota rex sit talk beneath open hatchback car distance lightning storm open expanse great plains churn sky murky purple talk passionately lithium battery talk common consider interested especially attract person speak care battery volunteer pine ridge reservation build repair infrastructure person greet arrive end long dirt road climb cab skid loader face body warm lyrical version happen storm approach stop talk seriously pleasure body baby date late poem math problem lot line look differ young self envision care date certain time baby love getting marry biological father child maybe admire arrive set criterion alternative sentimental unrealistic especially husband wish list champion year ready able child help sit meditation practice observe worry pregnant discerning love effect fear intensify old trust judgment pressure lot man start smell father decide safe way protect romantic delusion separate story outset try find mate mother time biological constraint easy figure urgent resolve child outside context love solo road trip south dakota conceive experience future self saddle dependent someday thank return home plan pregnant anonymous donor sperm evening rex kiss tent realize lot life work crawl tent phone number head home michigan california leave exactly perfect crazy number home pore donor questionnaire local sperm bank try straight video game preferred billiard mix blandly phone conversation rex weird memorable inherit father expression son biscuit jeez dote backyard lay hen refer chicken mama adult travel airplane exactly domestic round trip job talk life exist present mention relationship woman michigan crumble path motherhood child search donor stagnate lack warm feeling friend offer screen profile eve birthday donor receive friend approval wait list sperm feel ambivalent finally rex stalled plan mother help silent interested father co parent scenario discuss assume time birth long romantically involve soon visit california experience soak naked stranger hot spring contact year old redwood tree cry rub accurate clumsy hand life work donor arrangement fall love stay michigan teach use chain saw care chicken eventually follow california drive way tow homemade trailer fill tool time try live separate story month try conceive enjoy confusing situation pregnant leave relationship pregnant switch donor year offer donor begin difficult conversation middle pregnant generosity genuinely thrilled inwardly begin withdraw father co parent thought bring old wound childhood day indecision tempt try convince stay day sanity recognize harm day leave california photograph look haunted car drive east father day leave scramble action interview midwife search online baby gear try explain womb cry lot sorry baby ok sad week later warning text arrive terrible mistake recognize love baby coincide believe separate remain fundamentally unchanged rex suffer able clean reality envision exist evaporate moment greet end dirt road body respond warmth buddhism found truth suffering cause desire glance suffer desire sound unequivocally bad beauty suffering offer opportunity curious tender relationship desire listen try eradicate hear beneath desire surface noise problematic human vulnerability life tangle rex absence remember tend lover child dirty work wholesome sense fall love baby point view preference affirm little bit soften singular lonesome grip reality invite unexpected undesirable inexplicable messiness richness hand life beautiful natural animal appetite understanding faithful deep sense lover baby yes weird memorable welcome rex come way leave california listen podcast fatherhood look photo day leave cry come baby sell heavy tool repaint wall house michigan sale month later california time catch hand son bear                                                                                                                                                                                                                                                                                                                                                                                               \n",
       "2  peter hitch wagon young early wildly handsome gay soulful brown eye head loose unruly curl raise african american woman white preacher man peter spend childhood steep evangelical ministry terrified father sermon soothe mother inclination administer human aspect congregation lead night meet peter fall way love kismet laugh word time nuyorican poets cafe premier debut joint performance poet try new york city poetry scene read piece open mic slam peter admirer way applauding crowd simultaneously embody fury father vulnerability mother destine true love fate fix god leave room surprise time meet fall peter parent long divorced father leave church peter explore truth believe poetry new religion poem long lyrical lovingly paint impossibly beautiful brushstroke utopia live life energy believe goodness people middle winter washington square park watch unbutton coat drape shoulder drunk homophobic slur ex christian newly lesbian flee violent homophobia late jamaica wear fury attack dozen boy sexually assault kingston ashamed angry define final year university new york city tourist visa need safe home feel sea new country aunt uncle new york absolutely relationship biological family parent abandon mother birth father announce lesbian distant extended family new york search safety freedom room explore budding lesbian identity seek tribe unequivocally belong performance poetry slam scene mixture kind misfit peter fit right time feel life share story poem disappointment hope spend evening meet work whichever cafe hold slam competition night break steal favorite vibrator ex cop hit time night particularly bad fight abusive partner roommate corner raise rent sex tourist visa expire money win slam barely pay couch ramen noodle metrocard work permit job apply service paper shelter peter crazy dream freedom new york jamaica quiet explain mean undocumente green card citizenship visa immigration authority talk marry push marriage illegal land trouble law law wrong love right nod love love child child right right people love child marry family way love love right argument sound rule fair able marry woman citizenship start family stand allow peter right claim perk couple partner family marry city hall peter lover witness wedding beautiful man cowboy boot sequined vest stand giggly peter invite thanksgiving dinner family month amazing mother carole linda beautiful old house parent church block beach far rockaway spend magical year live understand quirky kooky couple arrive leave flirt fun perfect couple perfect parent modern couple intentional deliberate choice parent live responsibility child money lot time commit live peter diagnose cancer stage diagnose die half hour turn furious die cry feel dream family die partner child willing comrade radical redefining modern family modern love mother peace heaven loss firstborn surprised ability remain connected stay close send christmas card check remain distant angry unsure deserve magic family peter tragically suddenly leave grudgingly remain connected young brother cj remind peter gay poet grow fine filmmaker straight man alliance college reminisce peter recount sorcery bask shared memory magic later frantic desire start family chase gay man house party beg sperm stranger plane break weep feel early death husband strange young widow host lesbian party crown heights badass lesbian writer flamboyant gay husband raise child ramble old house church block beach far rockaway conversation cj interrupt way stand peter sperm year later daughter zuri astounding miracle bear decade peter death refer peter dad carole linda mother law kid actual biological grandmother zuri baba cj got marry august zuri pass joy ring bearer wedding travel multiple city watch speak vow brother wife peter grandmother father non monogamous partner beautiful cohort ordinary folk misfit artist preacher writer activist gay straight nonbinary look room choice peter wedding look peter revel day hear peter voice inside head rustle fall wind boom rush traffic west highway whisper scream fate fix staceyann room god surprise                                                                                   \n",
       "3  spend life look similarity protagonist love story lose father prison mother attention double duty single parent escape book attempt reimagine love look couple usually lock embrace cover harmless rag look people house abuse ruin bone home turn rotten structure hope experience romance future incompatible reality example romantic love girl look cousin tiffany year old seemingly control life tiffany blueprint mirror way clearly garner attention walk room ash brown hair freckle genuine smile tiffany cool fresh fresh fly fly energy unmatched cousin protector way old sister tiffany teach love listen let read book sing song favorite musical join softball game sit bench play catcher tip crush attention work place oratory contest cheer solo choir performance toss thumb sign pew inseparable high school leave fend unimaginable middle school bout self doubt tiffany child little girl light remarkable temperament doe pregnant sure smile rub belly purpose clear daughter tiffany little light study mouth overturned cup spill sunshine emerge constellation walk room star anybody draw breath vision board maternal love fool receive kind love mother far remove teenage psyche pluck memory easily way mirror neglect reflect condition disbelieve despite judgment young raise baby tiffany glow glow brightly blind jealous tiffany child california find footing baton rouge relationship father child later learn obsessed idea tiffany love wake love transactional love ownership love simply act absolute care love active verb ai daughter high school sweetheart leave dissolve relationship life hold dream secure future daughter tiffany news answer hear child play background little light eld job protector young brother seriously cousin sure tiffany scared laugh away fear carry summer tiffany find writing woman dream cloak tiffany charm wear skin arrive bed stuy brooklyn date man beautiful flirt hold interesting conversation love run money truly attention daughter health laughter burgeon career writing carry new new york city poland britain canada summer year year decade recognize cousin way carry love look mirror love look reflection daughter eye tiffany begin room easy wind soundless certain feeling stay red step grandparent home west oakland bed stuy stoop sanctuary child tiffany check weekly monthly child phone text message life busy raise child establish finally leave abusive relationship year visit physically present send supportive message care package invitation visit tour year visit dictate holiday break family reunion invite tiffany florida tiffany break relationship protect world offer good courage reassurance pep talk compliment love celebrate natural tiffany repay generosity space need figure tiffany turbulent relationship absolute love child begin understand love cost meet miami place travel weekend grant eye tear wrong cousin time pull walk alongside beach manicure toe leave kiss print sand atlantic ocean tear slide freckle face feel kid travel world hold breath terrify weight moment ready rise occasion remind teach year fairy tale teach story whimsy design mold single black woman role grateful service world turn tiffany fact entire world                                                                                                                                                                                                                                                                                                                                                                                                                                                                                                                                                                                                                                                                                                                                                                                                                                                                                                                                                                                                                                  \n",
       "4  long date white guy nonwhite guy submit application dm word post facebook page mark beginning racial reckoning date life context june george floyd murder black people consume rage openly air grief woman scorn year old highly educate black woman homeowner attorney reject mediocre white guy pursue relationship white woman short feed white people afternoon write half craze manifesto facebook page specifically rail white society clearly white insist reject blackness appearance fair skinned upbringe middle class white people black taylor swift black grow predominantly black neighborhood especially dark tan fetishize exoticness ethnic ambiguity end rambling applicant click post amazement comment start pour black people similar experience white ally thank promise work feel vindicate pop facebook messenger application submit message josh high school year early maryland tall handsome smart funny successful black briefly reconnecte bar baltimore town work conference flirt remember facebook marry fly california end conference wistful feel flutter chest soon find mutual friend marriage end connect live mile apart figure point try pursue read manifesto submit actual application date gobsmacke point vast majority relationship white man predictable result year spend maryland prep school massachusetts liberal art college fact running joke friend family guy basic white type date black man honest feel kind shame date black man reflect deep seat insecurity blackness eligible black bachelor offer chance love chance embrace blackness josh start texte couple video awkward natural suggest fly baltimore agree hand wild reckless jump plane visit barely pandemic boot feel movie fly mile date pack lot day date baltimore national aquarium treat dinner wine socially distance visit grandmother birthday revel blackness dance hip hop living room dance rarely experience white boyfriend joke endear quirk old black relative share story black people respective professional arena finance law openly speak language explain time life feel completely unapologetically black guy date date uncomfortable moment josh reserve rarely volunteer information mean hard definitely mutual physical attraction shyness josh fall away help drink chalk night gaze city light inner harbor turn work right completely explain personality different outgoing high energy emotional analytical quiet calm romantic lawyer attempt argue case love find way realistic number crunch point obvious practical hurdle physical distance way properly date figure fit fairy tale seemingly shatter start cry sad mutual feeling despair simply uneasiness tear morning drive airport visit california noncommittal answer leave wonder turn week maryland trip josh visit california thrilled convince visit california home plan day trip napa borrow neighbor bike josh tool town true californian style proudly friend favorite local haunt try hard prove great perfect black power couple click josh entirely board carefree cali style bike river hot day eagerly strip splash cool water refuse stroll sidewalk downtown napa reach intertwine finger shake hand turn fan reservedness witness baltimore persist try question family seldom speak demur personal open book frustrate drive airport end visit hollow feeling click perfect paper hometown education career drive life importantly race kismet come head spring josh invite baltimore preakness annual horse race social event disagreement coffee maker arrive reason fathom hand visit push edge coffee maker obvious care fly mile horror argue come try change mind hell happen lofty dream fall flat fly maryland california pandemic booty time realize attachment josh intellectual emotional try kind meaning unable match spirit provide emotional connection perfect boyfriend black josh represent time naïvely attach worth black person success relationship black man date black man black date white man black black period regardless race ethnicity boyfriend love love                                                                                                                                                                                                           \n",
       "5  wary sport competition fall love grow avoid kid shrug accidentally let goal net oppose team walk slowly basketball court run end end mother eventually stop interested sign extracurricular friend come understand lack interest play board game card game drinking game require compete title winner able avoid act romantic feeling long time age let slightly indecisive football player shady basketball player club bouncer bad kiss job decide mistake open convince real issue vulnerability long attach emotional investment sexual partner bother competitive fall love care win meet date app queer woman gender diverse people long brown dreadlock subtle hint blond promising smile exact kind fun look approach smooth pickup line respond cool thought assign female birth transition live life gender authentic look open relationship anticipate respond add partner engage marry friend commit partner pursue relationship blame idea relationship partner agree people learn bird bee conversation immediate reaction learn open relationship relief fun emotional responsibility deeply love strong foundation love build marriage ultimate goal relationship benefit legally personally order meet physical emotional need marriage need unconventional case mean leave door open intimate possibility expect fast progression feeling start wonder fiancé detail date grow possessive unanticipated love bloom begin feel entitled insecurity grow obvious manage casual demeanor course home love arm partner home thought lover truly vow vulnerable corny hang naturally deep voice suddenly sound prepubescent inseparable soak wet kiss toronto transit commission feed street meat corner church wellesley having intrigue competition suddenly challenge convince worthy try appear unfazed uncertainty relationship pass day feel nonchalant facade peel away long leave hide evening join mutual friend night high hope loud music shot tequila drown unanswered question relationship dim club light drink intensify moment friend begin dance feel justified rage watch dance caribbeans share strictly platonic love language slow whining good drink amplify threaten life couple fear lose able return string attach deal away love reserve fiancé exact antithesis open relationship person send date app host nude picture meet presence soothe choose devote smell collar softness lip long exist feel fair spend night prepare curtain love story continue date week afterward moment clear shift relationship obvious flag casual far relationship come unavoidable end need reflect realize competition assume win situation mean abandon concept non monogamy altogether walk sunset hand hand open relationship problem problem strange expectation black woman competition unaware strange expectation black queer relationship fit confine heteronormativity people comfortable normalization heterosexuality insidious life consumption medium education social assumption attitude queer woman love trans man question validity non monogamy learn quiet noise heteronormativity idea love look way valid intimacy include people need competition order receive love deserve black folk queer family dynamic long exist world stepparent love scratch promote friendship year cousin status half sibling refer word half sibling treat illegal household parent constantly remind small scientific detail family important sister mom pass away aunt raise auntie mommy question require explanation nuclear black family dynamic villainize mind compete black woman love fiancé encourage share love possibly scared competition lose instead black woman fathom idea contrary popular belief love actually require competition feel worthy open relationship engaged lover able yes date person fall deeply love non monogamous way freedom explore relationship openly marry fiancé manage remain friend choice smoothly transition romantic platonic stick subliminal middle finger world relationship black woman especially man middle reduce notion love open relationship far mean competition embodiment love unable confine ability bring small town awkward black girl cool island boy effortless swagger allow exist toronto summer heat exit romance fill love find  "
      ]
     },
     "execution_count": 220,
     "metadata": {},
     "output_type": "execute_result"
    }
   ],
   "source": [
    "modern_love_df_rev.head(5)"
   ]
  },
  {
   "cell_type": "markdown",
   "metadata": {},
   "source": [
    "# Topic modeling utility"
   ]
  },
  {
   "cell_type": "markdown",
   "metadata": {},
   "source": [
    "Before creating a baseline model, create a pipeline function that does the following:\n",
    "\n",
    "- Arguments are the corpus, vectorizer and topic_modeler\n",
    "- Applies these in order\n",
    "- Prints the top 15 words for each topic found from training"
   ]
  },
  {
   "cell_type": "code",
   "execution_count": 21,
   "metadata": {},
   "outputs": [],
   "source": [
    "# def make_topics(corpus, vectorizer, topic_modeler, print_n_words=15):\n",
    "#     \"\"\"A very simple pipeline.\"\"\"\n",
    "    \n",
    "#     # Vectorize documents into a document-word matrix.\n",
    "#     doc_word_vectors = vectorizer.fit_transform(corpus)\n",
    "    \n",
    "#     # Fit the topic model.\n",
    "#     doc_topic_vectors = topic_modeler.fit_transform(doc_word_vectors)\n",
    "    \n",
    "#     # Print the topics.\n",
    "#     vocab = vectorizer.get_feature_names()\n",
    "#     for idx, topic in enumerate(topic_modeler.components_):\n",
    "#         # Select the top 15 words in vocab for this topic.\n",
    "#         top_words = [vocab[i].upper() for i in topic.argsort()[:-print_n_words-1:-1]]\n",
    "#         print(f\"Topic {idx}:\\n\", \", \".join(top_words), \"\\n\")\n",
    "    \n",
    "#     return doc_topic_vectors"
   ]
  },
  {
   "cell_type": "markdown",
   "metadata": {},
   "source": [
    "# Make a baseline topic model"
   ]
  },
  {
   "cell_type": "markdown",
   "metadata": {},
   "source": [
    "As priors, use Tfidf vectorizer and NMF topic modeler"
   ]
  },
  {
   "cell_type": "code",
   "execution_count": 22,
   "metadata": {},
   "outputs": [],
   "source": [
    "# from sklearn.feature_extraction.text import TfidfVectorizer\n",
    "# from sklearn.decomposition import NMF"
   ]
  },
  {
   "cell_type": "code",
   "execution_count": 23,
   "metadata": {},
   "outputs": [],
   "source": [
    "# corpus = modern_love_df_rev['essay']\n",
    "# vectorizer = TfidfVectorizer()\n",
    "# topic_modeler = NMF(5, random_state=42, max_iter=1000) # start with 5 topics\n",
    "\n",
    "# make_topics(corpus, vectorizer, topic_modeler)"
   ]
  },
  {
   "cell_type": "markdown",
   "metadata": {},
   "source": [
    "Looks like the topics are capturing lots of stop words - time to remove them!"
   ]
  },
  {
   "cell_type": "markdown",
   "metadata": {},
   "source": [
    "# Topic Model 2 - remove stop words"
   ]
  },
  {
   "cell_type": "markdown",
   "metadata": {},
   "source": [
    "Use spaCy package for text processing"
   ]
  },
  {
   "cell_type": "code",
   "execution_count": 24,
   "metadata": {},
   "outputs": [],
   "source": [
    "# import spacy\n",
    "# nlp = spacy.load('en_core_web_sm')\n",
    "# #from spacy.language import Language"
   ]
  },
  {
   "cell_type": "code",
   "execution_count": 25,
   "metadata": {
    "scrolled": true
   },
   "outputs": [],
   "source": [
    "# docs = list(nlp.pipe(modern_love_df_rev['essay']))\n",
    "# modern_love_df_rev['spacy_essay'] = docs"
   ]
  },
  {
   "cell_type": "code",
   "execution_count": 26,
   "metadata": {},
   "outputs": [],
   "source": [
    "# docs_no_sw = [[str(w) for w in doc if not w.is_stop] for doc in docs]\n",
    "# modern_love_df_rev['essay_no_stopwords'] = docs_no_sw"
   ]
  },
  {
   "cell_type": "code",
   "execution_count": 27,
   "metadata": {},
   "outputs": [],
   "source": [
    "# corpus = [token for doc in docs_no_sw for token in doc]\n",
    "# vectorizer = TfidfVectorizer()\n",
    "# topic_modeler = NMF(5, random_state=42, max_iter=1000)\n",
    "\n",
    "# make_topics(corpus, vectorizer, topic_modeler)"
   ]
  },
  {
   "cell_type": "markdown",
   "metadata": {},
   "source": [
    "Things are looking better, but now it's time to remove non-alpha characters."
   ]
  },
  {
   "cell_type": "markdown",
   "metadata": {},
   "source": [
    "# Topic Model 3 - remove punctuation and non-alpha characters"
   ]
  },
  {
   "cell_type": "code",
   "execution_count": 28,
   "metadata": {},
   "outputs": [],
   "source": [
    "# docs_no_sw_alpha = [[str(w) for w in doc if w.is_alpha and \\\n",
    "#               (not w.is_stop and not w.is_punct and not w.like_num)] for doc in docs]\n",
    "# modern_love_df_rev['essay_alpha'] = docs_no_sw_alpha"
   ]
  },
  {
   "cell_type": "code",
   "execution_count": 29,
   "metadata": {},
   "outputs": [],
   "source": [
    "# corpus = [token for doc in docs_no_sw_alpha for token in doc]\n",
    "# vectorizer = TfidfVectorizer()\n",
    "# topic_modeler = NMF(5, random_state=42, max_iter=1000)\n",
    "\n",
    "# make_topics(corpus, vectorizer, topic_modeler)"
   ]
  },
  {
   "cell_type": "markdown",
   "metadata": {},
   "source": [
    "# Topic Model 4 - keep only nouns"
   ]
  },
  {
   "cell_type": "code",
   "execution_count": 30,
   "metadata": {},
   "outputs": [],
   "source": [
    "# docs_no_sw_alpha_nouns = [[str(w) for w in doc if w.is_alpha and \\\n",
    "#                            (w.pos_ == 'NOUN' or w.pos_ == 'PROPN') and \\\n",
    "#                            (not w.is_stop and not w.is_punct and not w.like_num)] \\\n",
    "#                           for doc in docs]\n",
    "# modern_love_df_rev['essay_noun'] = docs_no_sw_alpha_nouns"
   ]
  },
  {
   "cell_type": "code",
   "execution_count": 31,
   "metadata": {},
   "outputs": [],
   "source": [
    "# corpus = [token for doc in docs_no_sw_alpha_nouns for token in doc]\n",
    "# vectorizer = TfidfVectorizer()\n",
    "# topic_modeler = NMF(5, random_state=42, max_iter=1000)\n",
    "\n",
    "# make_topics(corpus, vectorizer, topic_modeler)"
   ]
  },
  {
   "cell_type": "markdown",
   "metadata": {},
   "source": [
    "# Topic Model 5 - lemmatize tokens"
   ]
  },
  {
   "cell_type": "code",
   "execution_count": 32,
   "metadata": {},
   "outputs": [],
   "source": [
    "# docs_no_sw_alpha_nouns_lemma = [[w.lemma_.lower() for w in doc if w.is_alpha and \\\n",
    "#                            (w.pos_ == 'NOUN' or w.pos_ == 'PROPN') and \\\n",
    "#                            (not w.is_stop and not w.is_punct and not w.like_num)] \\\n",
    "#                           for doc in docs]\n",
    "# modern_love_df_rev['essay_nouns_lemma'] = docs_no_sw_alpha_nouns_lemma"
   ]
  },
  {
   "cell_type": "code",
   "execution_count": 33,
   "metadata": {},
   "outputs": [],
   "source": [
    "# corpus = [token for doc in docs_no_sw_alpha_nouns_lemma for token in doc]\n",
    "# vectorizer = TfidfVectorizer()\n",
    "# topic_modeler = NMF(5, random_state=42, max_iter=1000)\n",
    "\n",
    "# make_topics(corpus, vectorizer, topic_modeler)"
   ]
  },
  {
   "cell_type": "markdown",
   "metadata": {},
   "source": [
    "# Look at top most common and least common noun tokens to perhaps remove some"
   ]
  },
  {
   "cell_type": "code",
   "execution_count": 34,
   "metadata": {},
   "outputs": [],
   "source": [
    "# noun_tokens = [token for doc in modern_love_df_rev['essay_lemma'] for token in doc]\n",
    "# set_tokens = set(noun_tokens)\n",
    "# word_freq = Counter(noun_tokens)\n",
    "# word_freq.most_common(50)"
   ]
  },
  {
   "cell_type": "code",
   "execution_count": 35,
   "metadata": {},
   "outputs": [],
   "source": [
    "# # least common words\n",
    "# word_freq.most_common()[-50:]"
   ]
  },
  {
   "cell_type": "markdown",
   "metadata": {},
   "source": [
    "# CorEx"
   ]
  },
  {
   "cell_type": "markdown",
   "metadata": {},
   "source": [
    "Helpful resources on CorEx\n",
    "- <a href=\"https://github.com/gregversteeg/corex_topic/blob/master/corextopic/example/corex_topic_example.ipynb\">notebook on how to use it</a>"
   ]
  },
  {
   "cell_type": "code",
   "execution_count": 36,
   "metadata": {},
   "outputs": [
    {
     "name": "stdout",
     "output_type": "stream",
     "text": [
      "Requirement already satisfied: corextopic in /opt/anaconda3/lib/python3.8/site-packages (1.1)\n",
      "Requirement already satisfied: networkx in /opt/anaconda3/lib/python3.8/site-packages (2.4)\n",
      "Requirement already satisfied: decorator>=4.3.0 in /opt/anaconda3/lib/python3.8/site-packages (from networkx) (4.4.2)\n"
     ]
    }
   ],
   "source": [
    "!pip install corextopic\n",
    "!pip install networkx"
   ]
  },
  {
   "cell_type": "code",
   "execution_count": 37,
   "metadata": {},
   "outputs": [],
   "source": [
    "import scipy.sparse as ss\n",
    "\n",
    "from corextopic import corextopic as ct\n",
    "from corextopic import vis_topic as vt"
   ]
  },
  {
   "cell_type": "markdown",
   "metadata": {},
   "source": [
    "## CorEx Baseline model"
   ]
  },
  {
   "cell_type": "code",
   "execution_count": 38,
   "metadata": {},
   "outputs": [
    {
     "data": {
      "text/plain": [
       "(1504, 20000)"
      ]
     },
     "execution_count": 38,
     "metadata": {},
     "output_type": "execute_result"
    }
   ],
   "source": [
    "vectorizer = CountVectorizer(max_features=20000,binary=True)\n",
    "\n",
    "doc_word = vectorizer.fit_transform(modern_love_df_rev['essay'])\n",
    "doc_word = ss.csr_matrix(doc_word)\n",
    "\n",
    "doc_word.shape # n_docs x m_words"
   ]
  },
  {
   "cell_type": "code",
   "execution_count": 39,
   "metadata": {},
   "outputs": [],
   "source": [
    "# get words that label the columns (needed to extract readable topics and make anchoring easier)\n",
    "\n",
    "words = list(np.asarray(vectorizer.get_feature_names()))"
   ]
  },
  {
   "cell_type": "code",
   "execution_count": 40,
   "metadata": {},
   "outputs": [
    {
     "data": {
      "text/plain": [
       "<corextopic.corextopic.Corex at 0x7f9fa9956fa0>"
      ]
     },
     "execution_count": 40,
     "metadata": {},
     "output_type": "execute_result"
    }
   ],
   "source": [
    "# n_hidden is the number of topics\n",
    "# words is the list of words used in the corpus\n",
    "# *Brian recommends adding docs=df.data to make it easier to check which sentences are in each resulting topic*\n",
    "\n",
    "topic_model_base = ct.Corex(n_hidden=5, words=words, seed=1)\n",
    "topic_model_base.fit(doc_word, words=words, docs=modern_love_df_rev['essay'])"
   ]
  },
  {
   "cell_type": "code",
   "execution_count": 41,
   "metadata": {},
   "outputs": [
    {
     "name": "stdout",
     "output_type": "stream",
     "text": [
      "0: if,or,what,all,there,about,not,could,who,been\n",
      "1: as,couldn,seemed,right,took,later,without,was,sure,less\n",
      "2: frame,creative,ritual,reserved,village,bond,resolution,beloved,reflected,envy\n",
      "3: permission,department,worthy,radical,sliding,repeatedly,uncles,gingerly,stability,anticipating\n",
      "4: universe,therefore,screamed,stays,harvard,reasoned,landing,angles,indication,scolded\n"
     ]
    }
   ],
   "source": [
    "# print all topics from the CorEx topic model\n",
    "\n",
    "topics = topic_model_base.get_topics()\n",
    "for n,topic in enumerate(topics):\n",
    "    topic_words,_,_ = zip(*topic)\n",
    "    print('{}: '.format(n) + ','.join(topic_words))"
   ]
  },
  {
   "cell_type": "code",
   "execution_count": 42,
   "metadata": {},
   "outputs": [
    {
     "data": {
      "text/plain": [
       "array([104.32318172,  51.96132843,   5.48535982,   5.06341038,\n",
       "         3.96704812])"
      ]
     },
     "execution_count": 42,
     "metadata": {},
     "output_type": "execute_result"
    }
   ],
   "source": [
    "topic_model_base.tcs"
   ]
  },
  {
   "cell_type": "code",
   "execution_count": 43,
   "metadata": {},
   "outputs": [
    {
     "data": {
      "text/plain": [
       "[[('if', 0.634797243840824, 1.0),\n",
       "  ('or', 0.5869965046165553, 1.0),\n",
       "  ('what', 0.5860359844179419, 1.0),\n",
       "  ('all', 0.5822022030430116, 1.0),\n",
       "  ('there', 0.5766822923933494, 1.0),\n",
       "  ('about', 0.5700054395001276, 1.0),\n",
       "  ('not', 0.5633406494329875, 1.0),\n",
       "  ('could', 0.556471046902532, 1.0),\n",
       "  ('who', 0.5540730054110281, 1.0),\n",
       "  ('been', 0.550871904075741, 1.0)],\n",
       " [('as', 0.4242397756052274, 1.0),\n",
       "  ('couldn', 0.3361854019438551, 1.0),\n",
       "  ('seemed', 0.32234669728862086, 1.0),\n",
       "  ('right', 0.31641962646988553, 1.0),\n",
       "  ('took', 0.3062458081541832, 1.0),\n",
       "  ('later', 0.2730202592211932, 1.0),\n",
       "  ('without', 0.2374747526040581, 1.0),\n",
       "  ('was', 0.22181333537795472, 1.0),\n",
       "  ('sure', 0.20584728155557808, 1.0),\n",
       "  ('less', 0.19942654397876863, 1.0)],\n",
       " [('frame', 0.021989744275400704, 1.0),\n",
       "  ('creative', 0.020890907223346498, 1.0),\n",
       "  ('ritual', 0.01828537804063526, 1.0),\n",
       "  ('reserved', 0.017455177377376164, 1.0),\n",
       "  ('village', 0.017412661010089352, 1.0),\n",
       "  ('bond', 0.01571894886046132, 1.0),\n",
       "  ('resolution', 0.015572392157603055, 1.0),\n",
       "  ('beloved', 0.014898120605247403, 1.0),\n",
       "  ('reflected', 0.014620169350133551, 1.0),\n",
       "  ('envy', 0.014564663425081434, 1.0)],\n",
       " [('permission', 0.017625812684684074, 1.0),\n",
       "  ('department', 0.016346612699537407, 1.0),\n",
       "  ('worthy', 0.015045948594340443, 1.0),\n",
       "  ('radical', 0.013911511741664762, 1.0),\n",
       "  ('sliding', 0.013090960378456787, 1.0),\n",
       "  ('repeatedly', 0.013090952099214874, 1.0),\n",
       "  ('uncles', 0.012617851533646996, 1.0),\n",
       "  ('gingerly', 0.012119671313387393, 1.0),\n",
       "  ('stability', 0.01187031274690114, 1.0),\n",
       "  ('anticipating', 0.011442013120204741, 1.0)],\n",
       " [('universe', 0.019801716920488485, 1.0),\n",
       "  ('therefore', 0.018103737442022524, 1.0),\n",
       "  ('screamed', 0.016839585538145806, 1.0),\n",
       "  ('stays', 0.015806204132688753, 1.0),\n",
       "  ('harvard', 0.013843308481525535, 1.0),\n",
       "  ('reasoned', 0.013838201150496176, 1.0),\n",
       "  ('landing', 0.011025822915223795, 1.0),\n",
       "  ('angles', 0.010809853468405909, 1.0),\n",
       "  ('indication', 0.010809853468405909, 1.0),\n",
       "  ('scolded', 0.010809853468405909, 1.0)]]"
      ]
     },
     "execution_count": 43,
     "metadata": {},
     "output_type": "execute_result"
    }
   ],
   "source": [
    "topic_model_base.get_topics()"
   ]
  },
  {
   "cell_type": "markdown",
   "metadata": {},
   "source": [
    "Model selection: CorEx starts its algorithm with a random initialization, and so different runs can result in different topic models. One way of finding a better topic model is to restart the CorEx algorithm several times and take the run that has the highest TC value (i.e. the run that produces topics that are most informative about the documents)."
   ]
  },
  {
   "cell_type": "markdown",
   "metadata": {},
   "source": [
    "Time to remove some stop words, punctuation, numbers and lemmatize tokens"
   ]
  },
  {
   "cell_type": "markdown",
   "metadata": {},
   "source": [
    "## CorEx Model 2 - remove stopwords, lemmatize, lowercase, keep only alpha characters"
   ]
  },
  {
   "cell_type": "markdown",
   "metadata": {},
   "source": [
    "Use spaCy package for text processing"
   ]
  },
  {
   "cell_type": "code",
   "execution_count": 94,
   "metadata": {},
   "outputs": [],
   "source": [
    "import spacy\n",
    "nlp = spacy.load('en_core_web_sm')\n",
    "from spacy.language import Language\n",
    "#nlp.add_pipe(\"merge_noun_chunks\")\n",
    "#nlp.add_pipe(\"merge_entities\")"
   ]
  },
  {
   "cell_type": "code",
   "execution_count": 95,
   "metadata": {},
   "outputs": [],
   "source": [
    "sw_spacy = nlp.Defaults.stop_words"
   ]
  },
  {
   "cell_type": "code",
   "execution_count": 58,
   "metadata": {},
   "outputs": [],
   "source": [
    "# add some items to sw_spacy\n",
    "#more_sw = {'t','s','ll','nt'}\n",
    "#sw_spacy.update(more_sw)"
   ]
  },
  {
   "cell_type": "code",
   "execution_count": 56,
   "metadata": {},
   "outputs": [],
   "source": [
    "# remove stop words from essay column\n",
    "# docs_sw = [[word for word in doc.split() if (word not in sw_spacy)] for doc in modern_love_df_rev['essay']]\n",
    "# modern_love_df_rev['essay_no_sw'] = [' '.join(map(str, l)) for l in docs_sw]"
   ]
  },
  {
   "cell_type": "code",
   "execution_count": 96,
   "metadata": {},
   "outputs": [],
   "source": [
    "docs = list(nlp.pipe(modern_love_df_rev['essay']))"
   ]
  },
  {
   "cell_type": "markdown",
   "metadata": {},
   "source": [
    "The below code was inspired by <a href=\"https://stackoverflow.com/questions/25692293/inserting-a-link-to-a-webpage-in-an-ipython-notebook\">this stackoverflow post</a>"
   ]
  },
  {
   "cell_type": "code",
   "execution_count": 120,
   "metadata": {},
   "outputs": [
    {
     "name": "stderr",
     "output_type": "stream",
     "text": [
      "<ipython-input-120-0061f97acdcb>:4: SettingWithCopyWarning: \n",
      "A value is trying to be set on a copy of a slice from a DataFrame.\n",
      "Try using .loc[row_indexer,col_indexer] = value instead\n",
      "\n",
      "See the caveats in the documentation: https://pandas.pydata.org/pandas-docs/stable/user_guide/indexing.html#returning-a-view-versus-a-copy\n",
      "  modern_love_df_rev['essay_rev'] = [' '.join(map(str, l)) for l in docs_clean]\n"
     ]
    }
   ],
   "source": [
    "docs_clean = [[token.lemma_.lower() for token in doc if token.is_alpha and \\\n",
    "                        (not token.is_stop and not token.is_punct and not token.like_num and not token.is_digit)] \\\n",
    "                         for doc in docs]\n",
    "modern_love_df_rev['essay_rev'] = [' '.join(map(str, l)) for l in docs_clean]"
   ]
  },
  {
   "cell_type": "code",
   "execution_count": 59,
   "metadata": {},
   "outputs": [],
   "source": [
    "# old code\n",
    "\n",
    "# docs_sw_alpha_lemma = [[token.lemma_.lower() for token in doc if \\\n",
    "#                         (not token.is_punct and not token.is_stop and not token.like_num and not token.is_digit)] \\\n",
    "#                          for doc in docs]\n",
    "# modern_love_df_rev['essay_lemma'] = [' '.join(map(str, l)) for l in docs_sw_alpha_lemma]"
   ]
  },
  {
   "cell_type": "code",
   "execution_count": 99,
   "metadata": {},
   "outputs": [
    {
     "data": {
      "text/plain": [
       "(1504, 20000)"
      ]
     },
     "execution_count": 99,
     "metadata": {},
     "output_type": "execute_result"
    }
   ],
   "source": [
    "vectorizer = CountVectorizer(max_features=20000, binary=True)\n",
    "\n",
    "doc_word = vectorizer.fit_transform(modern_love_df_rev['essay_rev'])\n",
    "doc_word = ss.csr_matrix(doc_word)\n",
    "\n",
    "doc_word.shape # n_docs x m_words"
   ]
  },
  {
   "cell_type": "code",
   "execution_count": 100,
   "metadata": {},
   "outputs": [],
   "source": [
    "# get words that label the columns (needed to extract readable topics and make anchoring easier)\n",
    "\n",
    "words = list(np.asarray(vectorizer.get_feature_names()))"
   ]
  },
  {
   "cell_type": "code",
   "execution_count": 101,
   "metadata": {},
   "outputs": [
    {
     "data": {
      "text/plain": [
       "<corextopic.corextopic.Corex at 0x7f9cf01d5100>"
      ]
     },
     "execution_count": 101,
     "metadata": {},
     "output_type": "execute_result"
    }
   ],
   "source": [
    "topic_model_2 = ct.Corex(n_hidden=5, words=words, seed=1)\n",
    "topic_model_2.fit(doc_word, words=words, docs=modern_love_df_rev['essay_rev'])"
   ]
  },
  {
   "cell_type": "code",
   "execution_count": 102,
   "metadata": {},
   "outputs": [
    {
     "name": "stdout",
     "output_type": "stream",
     "text": [
      "0: time,go,know,way,come,feel,long,thing,life,want\n",
      "1: week,voice,late,show,apartment,heart,pull,table,wear,feeling\n",
      "2: response,reflect,dating,curiosity,reminder,tough,ritual,creative,exclaim,responsible\n",
      "3: permission,department,tangle,scatter,overly,radical,drunken,sly,doorman,gingerly\n",
      "4: harvard,extract,assurance,deprive,ripple,sling,animate,command,toddler,khaki\n"
     ]
    }
   ],
   "source": [
    "topics = topic_model_2.get_topics()\n",
    "for n,topic in enumerate(topics):\n",
    "    topic_words,_,_ = zip(*topic)\n",
    "    print('{}: '.format(n) + ','.join(topic_words))"
   ]
  },
  {
   "cell_type": "code",
   "execution_count": 170,
   "metadata": {},
   "outputs": [],
   "source": [
    "# import tkinter\n",
    "# import matplotlib\n",
    "# import matplotlib.pyplot as plt\n",
    "# matplotlib.use('TkAgg')\n",
    "\n",
    "# plt.figure(figsize=(10,5))\n",
    "# plt.bar(range(topic_model_2.tcs.shape[0]), topic_model_2.tcs, color='#4e79a7', width=0.5)\n",
    "# plt.xlabel('Topic', fontsize=16)\n",
    "# plt.ylabel('Total Correlation (nats)', fontsize=16)\n",
    "# plt.show()"
   ]
  },
  {
   "cell_type": "code",
   "execution_count": 103,
   "metadata": {},
   "outputs": [
    {
     "name": "stdout",
     "output_type": "stream",
     "text": [
      "[72.09614677 29.68482836  5.35299031  5.3291977   2.88328306]\n"
     ]
    }
   ],
   "source": [
    "print(topic_model_2.tcs)"
   ]
  },
  {
   "cell_type": "code",
   "execution_count": 104,
   "metadata": {},
   "outputs": [
    {
     "name": "stdout",
     "output_type": "stream",
     "text": [
      "115.34644620632521\n"
     ]
    }
   ],
   "source": [
    "print(topic_model_2.tc)"
   ]
  },
  {
   "cell_type": "markdown",
   "metadata": {},
   "source": [
    "# CorEx Model 3 - try 50 topics"
   ]
  },
  {
   "cell_type": "code",
   "execution_count": 105,
   "metadata": {},
   "outputs": [
    {
     "data": {
      "text/plain": [
       "<corextopic.corextopic.Corex at 0x7f9cf01d5610>"
      ]
     },
     "execution_count": 105,
     "metadata": {},
     "output_type": "execute_result"
    }
   ],
   "source": [
    "topic_model_3 = ct.Corex(n_hidden=50, words=words, seed=1)\n",
    "topic_model_3.fit(doc_word, words=words, docs=modern_love_df_rev['essay_rev'])"
   ]
  },
  {
   "cell_type": "code",
   "execution_count": 106,
   "metadata": {},
   "outputs": [
    {
     "name": "stdout",
     "output_type": "stream",
     "text": [
      "0: feel,life,tell,look,ask,say,get,start,right,end\n",
      "1: time,go,know,way,come,long,thing,want,find,take\n",
      "2: friend,turn,place,face,room,eye,meet,hour,fall,follow\n",
      "3: spend,hope,drive,guy,sleep,hair,arm,apartment,wear,girl\n",
      "4: buy,past,inside,trip,near,eat,throw,window,list,bag\n",
      "5: maid,mountains,lobe,enlarge,lavender,aboard,subaru,frenzy,historically,muslims\n",
      "6: fetch,humiliation,victorian,determination,occupy,bonus,cheerful,clerk,minimum,corridor\n",
      "7: letter,summer,weekly,forget,barely,dead,beach,press,memory,california\n",
      "8: body,hospital,lift,health,skin,leg,center,road,plastic,ground\n",
      "9: mentally,inadequate,caretaker,magnificent,materialize,akin,bucket,rapid,listing,womanhood\n",
      "10: announce,cool,kitchen,fire,provide,tall,blow,feature,recent,cup\n",
      "11: instill,paul,banquet,twilight,precision,humility,genius,agonize,margarita,headlight\n",
      "12: middle,blue,low,emotional,game,pretend,shop,effort,gaze,passion\n",
      "13: mail,result,test,hardly,schedule,beginning,following,page,potential,desk\n",
      "14: button,sky,awake,blood,orange,wood,pool,crave,yellow,swim\n",
      "15: suffer,grab,quick,surface,accord,witness,collapse,glow,pace,bond\n",
      "16: burn,shoe,mile,neighbor,gray,curl,earn,wild,degree,freedom\n",
      "17: bottle,interested,merely,luck,roommate,web,cigarette,fold,blond,texte\n",
      "18: rolling,betty,prowess,protector,zealand,clueless,realistic,consistent,counterpart,incarnation\n",
      "19: action,language,english,bank,cast,noise,shut,wonderful,steady,kick\n",
      "20: flimsy,manuscript,detective,noon,regimen,zoom,judgmental,flea,sanity,peak\n",
      "21: disappear,stage,practically,hungry,wooden,tuesday,instinct,hat,egg,guide\n",
      "22: fatal,stiff,chin,convey,quilt,reunite,prevail,hunting,warrant,pleased\n",
      "23: period,lock,project,design,internet,failure,spin,comedy,mix,threaten\n",
      "24: nurse,illness,laundry,movement,revel,peace,thrive,symptom,resource,ritual\n",
      "25: birth,pregnant,toy,los,angeles,nose,southern,radio,responsible,breathe\n",
      "26: northeast,adoration,scientific,stubbornly,broker,thoroughly,notify,soothe,audacity,foggy\n",
      "27: vast,cousin,code,conviction,danger,relatively,specific,fairly,plain,soak\n",
      "28: worker,co,exotic,devote,giddy,fairy,nap,september,roof,represent\n",
      "29: shimmer,necklace,substitute,inappropriate,communion,invariably,irritated,dismantle,rebel,conception\n",
      "30: envision,expand,patient,false,cow,channel,donate,conference,impulse,ramble\n",
      "31: border,remote,tooth,staff,frequent,program,disbelief,wildly,traumatic,blurt\n",
      "32: reversal,op,proportion,civil,recur,phenomenon,spectacle,quasi,appal,hideous\n",
      "33: frown,contradiction,recipe,loosen,misunderstood,statistic,scold,liberal,corn,eagerness\n",
      "34: document,forge,explode,react,script,user,charlie,hurdle,bristle,strangle\n",
      "35: delivery,thousand,recount,interrupt,lace,loved,bloody,chunk,shared,bark\n",
      "36: church,tank,lust,gay,assumption,mixed,acceptable,advantage,vacuum,sexuality\n",
      "37: fundamental,innocuous,height,awkwardness,payment,smudge,spectacular,essentially,holy,deteriorate\n",
      "38: quit,hill,western,fluorescent,tongue,heaven,adventurous,trap,grass,gown\n",
      "39: downtown,supply,phase,december,mortgage,con,tag,inevitably,vintage,entertain\n",
      "40: attach,worthy,argument,scarf,thankful,golf,initial,hookup,internship,aide\n",
      "41: president,frankly,neon,chief,debt,sheer,net,officer,criterion,reward\n",
      "42: emptiness,sin,austin,oyster,primal,vastly,nag,cruelty,ethnic,babble\n",
      "43: singer,paycheck,alcoholic,knife,retire,mount,trendy,sober,analyze,outer\n",
      "44: de,skirt,football,spiritual,toxic,renew,mutter,turmoil,fellowship,eternal\n",
      "45: joan,defy,canada,imaginary,conservative,critique,reluctance,surrogate,integrity,amazon\n",
      "46: stove,nurture,ceiling,feminist,ordinary,flow,broad,void,toll,moon\n",
      "47: heat,select,wheelchair,locate,sole,christian,flicker,orientation,brunch,persistent\n",
      "48: tourist,cliff,resume,brightly,inbox,virtual,steep,hong,kong,environment\n",
      "49: wholly,trace,flood,chemo,iv,cope,blindness,immune,chemotherapy,weapon\n"
     ]
    }
   ],
   "source": [
    "topics = topic_model_3.get_topics()\n",
    "for n,topic in enumerate(topics):\n",
    "    topic_words,_,_ = zip(*topic)\n",
    "    print('{}: '.format(n) + ','.join(topic_words))"
   ]
  },
  {
   "cell_type": "code",
   "execution_count": 107,
   "metadata": {},
   "outputs": [
    {
     "data": {
      "text/plain": [
       "array([21.66660865, 19.71951039, 13.01940333,  8.15700562,  4.73020545,\n",
       "        2.67378916,  2.58123697,  2.49280951,  2.16700252,  2.00251426,\n",
       "        1.93698357,  1.90151179,  1.87179346,  1.86121293,  1.53661956,\n",
       "        1.51532832,  1.45888423,  1.45664714,  1.38257409,  1.22629575,\n",
       "        1.22431626,  1.21175397,  1.20642376,  1.12535111,  1.12178565,\n",
       "        1.10224   ,  1.05005436,  1.04669082,  0.9933184 ,  0.9359119 ,\n",
       "        0.91613265,  0.89190696,  0.87061242,  0.85986809,  0.83936464,\n",
       "        0.81429638,  0.81395266,  0.81170822,  0.775956  ,  0.76928301,\n",
       "        0.69484187,  0.69176532,  0.68409237,  0.66977718,  0.61906472,\n",
       "        0.60684336,  0.6057628 ,  0.6056417 ,  0.57675788,  0.52578447])"
      ]
     },
     "execution_count": 107,
     "metadata": {},
     "output_type": "execute_result"
    }
   ],
   "source": [
    "topic_model_3.tcs"
   ]
  },
  {
   "cell_type": "markdown",
   "metadata": {},
   "source": [
    "# CorEx Model 4 - try 2 topics"
   ]
  },
  {
   "cell_type": "code",
   "execution_count": 108,
   "metadata": {},
   "outputs": [
    {
     "data": {
      "text/plain": [
       "<corextopic.corextopic.Corex at 0x7f9cf01d5280>"
      ]
     },
     "execution_count": 108,
     "metadata": {},
     "output_type": "execute_result"
    }
   ],
   "source": [
    "topic_model_4 = ct.Corex(n_hidden=2, words=words, seed=1)\n",
    "topic_model_4.fit(doc_word, words=words, docs=modern_love_df_rev['essay_rev'])"
   ]
  },
  {
   "cell_type": "code",
   "execution_count": 109,
   "metadata": {},
   "outputs": [
    {
     "name": "stdout",
     "output_type": "stream",
     "text": [
      "0: time,go,know,way,come,feel,long,thing,life,want\n",
      "1: chore,proudly,jew,acknowledgment,disapproval,judy,orthodox,wrapping,debit,spiky\n"
     ]
    }
   ],
   "source": [
    "topics = topic_model_4.get_topics()\n",
    "for n,topic in enumerate(topics):\n",
    "    topic_words,_,_ = zip(*topic)\n",
    "    print('{}: '.format(n) + ','.join(topic_words))"
   ]
  },
  {
   "cell_type": "code",
   "execution_count": 79,
   "metadata": {},
   "outputs": [
    {
     "data": {
      "text/plain": [
       "115.02884308608039"
      ]
     },
     "execution_count": 79,
     "metadata": {},
     "output_type": "execute_result"
    }
   ],
   "source": [
    "topic_model_4.tc"
   ]
  },
  {
   "cell_type": "markdown",
   "metadata": {},
   "source": [
    "# CorEx Model 5 - try 10 topics and max_df=.8 in CountVectorizer"
   ]
  },
  {
   "cell_type": "code",
   "execution_count": 110,
   "metadata": {},
   "outputs": [
    {
     "name": "stdout",
     "output_type": "stream",
     "text": [
      "(1504, 20000)\n"
     ]
    }
   ],
   "source": [
    "vectorizer = CountVectorizer(max_features=20000, binary=True, max_df=0.8)\n",
    "\n",
    "doc_word = vectorizer.fit_transform(modern_love_df_rev['essay_rev'])\n",
    "doc_word = ss.csr_matrix(doc_word)\n",
    "\n",
    "print(doc_word.shape)\n",
    "\n",
    "words = list(np.asarray(vectorizer.get_feature_names()))"
   ]
  },
  {
   "cell_type": "code",
   "execution_count": 111,
   "metadata": {},
   "outputs": [
    {
     "data": {
      "text/plain": [
       "<corextopic.corextopic.Corex at 0x7f9cf04f48e0>"
      ]
     },
     "execution_count": 111,
     "metadata": {},
     "output_type": "execute_result"
    }
   ],
   "source": [
    "topic_model_5 = ct.Corex(n_hidden=10, words=words, seed=1)\n",
    "topic_model_5.fit(doc_word, words=words, docs=modern_love_df_rev['essay_rev'])"
   ]
  },
  {
   "cell_type": "code",
   "execution_count": 112,
   "metadata": {},
   "outputs": [
    {
     "name": "stdout",
     "output_type": "stream",
     "text": [
      "0: know,want,take,tell,think,good,day,friend,work,leave\n",
      "1: time,go,way,come,feel,long,thing,life,find,look\n",
      "2: later,hand,meet,move,imagine,bed,book,visit,car,hair\n",
      "3: pretend,club,song,gentle,adorable,shy,garden,exit,comedy,burden\n",
      "4: retrospect,planning,instantly,admission,satisfy,james,fixate,thump,offend,tentatively\n",
      "5: acknowledge,commit,shout,forth,pink,grateful,mystery,crave,side,stone\n",
      "6: mate,salt,unusual,medium,fundamental,stalk,fiction,caution,hover,juice\n",
      "7: fond,bake,plaster,recount,tire,iron,nighttime,balm,whiz,detective\n",
      "8: rational,crooked,immigrant,commentary,empathetic,traumatize,ownership,affirm,virginity,dissolution\n",
      "9: frank,hood,urgent,designer,populate,endeavor,download,thankful,tinder,unpleasant\n"
     ]
    }
   ],
   "source": [
    "topics = topic_model_5.get_topics()\n",
    "for n,topic in enumerate(topics):\n",
    "    topic_words,_,_ = zip(*topic)\n",
    "    print('{}: '.format(n) + ','.join(topic_words))"
   ]
  },
  {
   "cell_type": "code",
   "execution_count": 113,
   "metadata": {},
   "outputs": [
    {
     "name": "stdout",
     "output_type": "stream",
     "text": [
      "[35.75276695 29.89888858 29.8185573   5.52932766  4.68164605  4.22471877\n",
      "  3.41618501  2.74953174  2.60118349  1.78000341]\n",
      "120.45280895369599\n"
     ]
    }
   ],
   "source": [
    "print(topic_model_5.tcs)\n",
    "print(topic_model_5.tc)"
   ]
  },
  {
   "cell_type": "code",
   "execution_count": 86,
   "metadata": {},
   "outputs": [],
   "source": [
    "# Let's check out topic : graphics\n",
    "# topic_model_5.get_top_docs(topic=0, n_docs=10, sort_by='log_prob')"
   ]
  },
  {
   "cell_type": "markdown",
   "metadata": {},
   "source": [
    "# CorEx Model 6 - 10 topics and remove more stopwords"
   ]
  },
  {
   "cell_type": "code",
   "execution_count": 142,
   "metadata": {},
   "outputs": [],
   "source": [
    "tokens_to_remove = {'know','want','take','tell','think','thing','ask'}\n",
    "sw_spacy.update(tokens_to_remove)"
   ]
  },
  {
   "cell_type": "code",
   "execution_count": 143,
   "metadata": {},
   "outputs": [],
   "source": [
    "docs_2 = list(nlp.pipe(modern_love_df_rev['essay_rev']))"
   ]
  },
  {
   "cell_type": "code",
   "execution_count": 144,
   "metadata": {},
   "outputs": [
    {
     "name": "stderr",
     "output_type": "stream",
     "text": [
      "<ipython-input-144-d65b7ab55ec4>:2: SettingWithCopyWarning: \n",
      "A value is trying to be set on a copy of a slice from a DataFrame.\n",
      "Try using .loc[row_indexer,col_indexer] = value instead\n",
      "\n",
      "See the caveats in the documentation: https://pandas.pydata.org/pandas-docs/stable/user_guide/indexing.html#returning-a-view-versus-a-copy\n",
      "  modern_love_df_rev['essay_rev_2'] = [' '.join(map(str, l)) for l in docs_2_clean]\n"
     ]
    }
   ],
   "source": [
    "docs_2_clean = [[token for token in doc if token.text not in sw_spacy] for doc in docs_2]\n",
    "modern_love_df_rev['essay_rev_2'] = [' '.join(map(str, l)) for l in docs_2_clean]"
   ]
  },
  {
   "cell_type": "code",
   "execution_count": 145,
   "metadata": {},
   "outputs": [
    {
     "name": "stdout",
     "output_type": "stream",
     "text": [
      "(1504, 20000)\n"
     ]
    }
   ],
   "source": [
    "vectorizer = CountVectorizer(max_features=20000, binary=True, max_df=0.8)\n",
    "\n",
    "doc_word = vectorizer.fit_transform(modern_love_df_rev['essay_rev_2'])\n",
    "doc_word = ss.csr_matrix(doc_word)\n",
    "\n",
    "print(doc_word.shape)\n",
    "\n",
    "words = list(np.asarray(vectorizer.get_feature_names()))"
   ]
  },
  {
   "cell_type": "code",
   "execution_count": 146,
   "metadata": {},
   "outputs": [
    {
     "data": {
      "text/plain": [
       "<corextopic.corextopic.Corex at 0x7f9cff241e20>"
      ]
     },
     "execution_count": 146,
     "metadata": {},
     "output_type": "execute_result"
    }
   ],
   "source": [
    "topic_model_6 = ct.Corex(n_hidden=10, words=words, seed=1)\n",
    "topic_model_6.fit(doc_word, words=words, docs=modern_love_df_rev['essay_rev_2'])"
   ]
  },
  {
   "cell_type": "code",
   "execution_count": 147,
   "metadata": {},
   "outputs": [
    {
     "name": "stdout",
     "output_type": "stream",
     "text": [
      "0: good,day,friend,leave,start,right,away,week,let,place\n",
      "1: time,way,come,feel,long,life,find,look,try,work\n",
      "2: morning,hair,black,white,ready,party,carry,picture,tear,drop\n",
      "3: bedside,tackle,impossibly,shade,scott,wing,nursing,sushi,officially,shiny\n",
      "4: warn,co,financial,palm,butter,treatment,traditional,bond,national,spark\n",
      "5: recent,exit,garden,bubble,pillow,successful,adorable,russian,backpack,weary\n",
      "6: retrospect,planning,instantly,backward,satisfy,fragile,james,shyly,bust,fixate\n",
      "7: fundamental,library,salt,planet,complex,driveway,stalk,hover,monogamous,participate\n",
      "8: lower,pleasant,affirm,hop,rational,battery,skype,de,commentary,traumatize\n",
      "9: beam,cooler,tire,nighttime,georgia,jet,fur,interstate,whiz,bungalow\n"
     ]
    }
   ],
   "source": [
    "topics = topic_model_6.get_topics()\n",
    "for n,topic in enumerate(topics):\n",
    "    topic_words,_,_ = zip(*topic)\n",
    "    print('{}: '.format(n) + ','.join(topic_words))"
   ]
  },
  {
   "cell_type": "code",
   "execution_count": 148,
   "metadata": {},
   "outputs": [
    {
     "name": "stdout",
     "output_type": "stream",
     "text": [
      "[38.8977179  33.14996079 19.309669    4.57012929  4.56540084  3.5211443\n",
      "  3.45288227  2.99481697  2.57343416  1.60686393]\n",
      "114.6420194489523\n"
     ]
    }
   ],
   "source": [
    "print(topic_model_6.tcs)\n",
    "print(topic_model_6.tc)"
   ]
  },
  {
   "cell_type": "markdown",
   "metadata": {},
   "source": [
    "# CorEx Model 7 - 10 topics and max_df=.8 and min_df=.01 in CountVectorizer"
   ]
  },
  {
   "cell_type": "code",
   "execution_count": 149,
   "metadata": {},
   "outputs": [
    {
     "name": "stdout",
     "output_type": "stream",
     "text": [
      "(1504, 3525)\n"
     ]
    }
   ],
   "source": [
    "vectorizer = CountVectorizer(max_features=20000, binary=True, max_df=0.8, min_df=.01)\n",
    "\n",
    "doc_word = vectorizer.fit_transform(modern_love_df_rev['essay_rev_2'])\n",
    "doc_word = ss.csr_matrix(doc_word)\n",
    "\n",
    "print(doc_word.shape)\n",
    "\n",
    "words = list(np.asarray(vectorizer.get_feature_names()))"
   ]
  },
  {
   "cell_type": "code",
   "execution_count": 150,
   "metadata": {},
   "outputs": [
    {
     "data": {
      "text/plain": [
       "<corextopic.corextopic.Corex at 0x7f9fcc3ad580>"
      ]
     },
     "execution_count": 150,
     "metadata": {},
     "output_type": "execute_result"
    }
   ],
   "source": [
    "topic_model_7 = ct.Corex(n_hidden=10, words=words, seed=1)\n",
    "topic_model_7.fit(doc_word, words=words, docs=modern_love_df_rev['essay_rev_2'])"
   ]
  },
  {
   "cell_type": "code",
   "execution_count": 151,
   "metadata": {},
   "outputs": [
    {
     "name": "stdout",
     "output_type": "stream",
     "text": [
      "0: leave,end,week,let,walk,lose,ago,book,laugh,car\n",
      "1: soon,family,job,run,drive,pay,mother,pick,food,choice\n",
      "2: work,turn,right,night,hear,little,face,hold,head,hour\n",
      "3: way,come,feel,long,life,try,people,need,man,live\n",
      "4: day,start,away,month,hand,later,sit,early,bad,stop\n",
      "5: time,find,look,talk,new,mean,kind,love,room,maybe\n",
      "6: good,place,sense,experience,visit,hair,yes,black,city,fly\n",
      "7: relationship,fact,wonder,phone,world,couple,past,easy,heart,feeling\n",
      "8: friend,begin,story,lot,play,break,conversation,dinner,school,share\n",
      "9: home,stay,watch,eat,near,free,simple,kitchen,color,low\n"
     ]
    }
   ],
   "source": [
    "topics = topic_model_7.get_topics()\n",
    "for n,topic in enumerate(topics):\n",
    "    topic_words,_,_ = zip(*topic)\n",
    "    print('{}: '.format(n) + ','.join(topic_words))"
   ]
  },
  {
   "cell_type": "code",
   "execution_count": 152,
   "metadata": {},
   "outputs": [
    {
     "name": "stdout",
     "output_type": "stream",
     "text": [
      "[13.88557833 10.54385396  9.22036791  8.83218696  8.44710073  8.33023918\n",
      "  7.54114482  5.50298439  4.56745658  2.7632552 ]\n",
      "79.63416805810043\n"
     ]
    }
   ],
   "source": [
    "print(topic_model_7.tcs)\n",
    "print(topic_model_7.tc)"
   ]
  },
  {
   "cell_type": "markdown",
   "metadata": {},
   "source": [
    "# CorEx Model 8 - 9 topics and max_df=.7 and min_df=.005 in CountVectorizer"
   ]
  },
  {
   "cell_type": "code",
   "execution_count": 206,
   "metadata": {},
   "outputs": [
    {
     "name": "stdout",
     "output_type": "stream",
     "text": [
      "(1504, 5801)\n"
     ]
    }
   ],
   "source": [
    "vectorizer = CountVectorizer(max_features=20000, binary=True, max_df=0.7, min_df=.005)\n",
    "\n",
    "doc_word = vectorizer.fit_transform(modern_love_df_rev['essay_rev_2'])\n",
    "doc_word = ss.csr_matrix(doc_word)\n",
    "\n",
    "print(doc_word.shape)\n",
    "\n",
    "words = list(np.asarray(vectorizer.get_feature_names()))"
   ]
  },
  {
   "cell_type": "code",
   "execution_count": 207,
   "metadata": {},
   "outputs": [
    {
     "data": {
      "text/plain": [
       "<corextopic.corextopic.Corex at 0x7f9da0f30f10>"
      ]
     },
     "execution_count": 207,
     "metadata": {},
     "output_type": "execute_result"
    }
   ],
   "source": [
    "topic_model_8 = ct.Corex(n_hidden=9, words=words, seed=1)\n",
    "topic_model_8.fit(doc_word, words=words, docs=modern_love_df_rev['essay_rev_2'])"
   ]
  },
  {
   "cell_type": "code",
   "execution_count": 204,
   "metadata": {},
   "outputs": [
    {
     "name": "stdout",
     "output_type": "stream",
     "text": [
      "0: night,hand,hear,sit,little,hold,soon,point,stand,stop\n",
      "1: start,right,let,early,spend,bad,hour,fact,stay,realize\n",
      "2: try,need,man,away,live,month,woman,relationship,home,happen\n",
      "3: way,long,find,good,people,talk,new,mean,room,maybe\n",
      "4: work,end,turn,couple,party,large,clean,company,require,emotional\n",
      "5: friend,begin,hard,change,word,lose,conversation,world,actually,imagine\n",
      "6: message,online,profile,art,encounter,pile,pocket,wander,crush,attract\n",
      "7: leave,week,walk,car,heart,arrive,simply,smile,kiss,red\n",
      "8: place,share,lie,city,include,boyfriend,travel,restaurant,choice,dream\n"
     ]
    }
   ],
   "source": [
    "topics = topic_model_8.get_topics()\n",
    "for n,topic in enumerate(topics):\n",
    "    topic_words,_,_ = zip(*topic)\n",
    "    print('{}: '.format(n) + ','.join(topic_words))"
   ]
  },
  {
   "cell_type": "code",
   "execution_count": 205,
   "metadata": {},
   "outputs": [
    {
     "name": "stdout",
     "output_type": "stream",
     "text": [
      "[26.58084139 12.85158589 10.79440924  8.91650956  7.96836379  5.57360239\n",
      "  4.30435898  3.26692924  2.99636494]\n",
      "83.2529654150799\n"
     ]
    }
   ],
   "source": [
    "print(topic_model_8.tcs)\n",
    "print(topic_model_8.tc)"
   ]
  },
  {
   "cell_type": "markdown",
   "metadata": {},
   "source": [
    "# CorEx Model 9 - 10 topics and TF-IDF"
   ]
  },
  {
   "cell_type": "code",
   "execution_count": 209,
   "metadata": {},
   "outputs": [
    {
     "name": "stdout",
     "output_type": "stream",
     "text": [
      "(1504, 20000)\n"
     ]
    }
   ],
   "source": [
    "vectorizer = TfidfVectorizer(max_features=20000)\n",
    "\n",
    "doc_word = vectorizer.fit_transform(modern_love_df_rev['essay_rev_2'])\n",
    "doc_word = ss.csr_matrix(doc_word)\n",
    "\n",
    "print(doc_word.shape)\n",
    "\n",
    "words = list(np.asarray(vectorizer.get_feature_names()))"
   ]
  },
  {
   "cell_type": "code",
   "execution_count": 210,
   "metadata": {},
   "outputs": [
    {
     "data": {
      "text/plain": [
       "<corextopic.corextopic.Corex at 0x7f9da0f30490>"
      ]
     },
     "execution_count": 210,
     "metadata": {},
     "output_type": "execute_result"
    }
   ],
   "source": [
    "topic_model_9 = ct.Corex(n_hidden=10, words=words, seed=1)\n",
    "topic_model_9.fit(doc_word, words=words, docs=modern_love_df_rev['essay_rev_2'])"
   ]
  },
  {
   "cell_type": "code",
   "execution_count": 211,
   "metadata": {},
   "outputs": [
    {
     "name": "stdout",
     "output_type": "stream",
     "text": [
      "0: feel,time,way,man,woman,come,relationship,life,friend,talk\n",
      "1: bouchara,seder,cutlet,plaintiff,tayo,carlito,railway,akari,venus,munich\n",
      "2: azim,mahjong,hammock,gam,frieda,plushie,melina,preston,chewie,ugonna\n",
      "3: nicole,chantal,myanmar,brandan,demouth,entidhar,burmese,shelly,freincle,alba\n",
      "4: greta,isabelle,kerr,storefront,heartless,est,nar,intersect,marjorie,bunnie\n",
      "5: hertwig,chaulk,qué,vida,pasó,mi,aarp,polyamorous,pollen,politic\n",
      "6: abdomen,predictability,preconceive,precocious,prayers,powerless,pouch,potted,pot,postmenopausal\n",
      "7: abaldo,planned,plank,pitifully,piper,pinto,pimple,pigtail,pierce,photo\n",
      "8: abhorrent,postcard,postabortion,possessed,positively,posit,portuguese,portly,portlandia,portion\n",
      "9: abnormality,projectile,progeny,procession,probable,prioritize,principal,prince,primitive,presumably\n"
     ]
    }
   ],
   "source": [
    "topics = topic_model_9.get_topics()\n",
    "for n,topic in enumerate(topics):\n",
    "    topic_words,_,_ = zip(*topic)\n",
    "    print('{}: '.format(n) + ','.join(topic_words))"
   ]
  },
  {
   "cell_type": "markdown",
   "metadata": {},
   "source": [
    "# CorEx Model 10 - 10 topics and TF-IDF and max_df = .7 and min_df= .01"
   ]
  },
  {
   "cell_type": "code",
   "execution_count": 214,
   "metadata": {},
   "outputs": [
    {
     "name": "stdout",
     "output_type": "stream",
     "text": [
      "(1504, 3524)\n"
     ]
    }
   ],
   "source": [
    "vectorizer = TfidfVectorizer(max_features=20000, max_df=.7, min_df=.01)\n",
    "\n",
    "doc_word = vectorizer.fit_transform(modern_love_df_rev['essay_rev_2'])\n",
    "doc_word = ss.csr_matrix(doc_word)\n",
    "\n",
    "print(doc_word.shape)\n",
    "\n",
    "words = list(np.asarray(vectorizer.get_feature_names()))"
   ]
  },
  {
   "cell_type": "code",
   "execution_count": 217,
   "metadata": {},
   "outputs": [
    {
     "data": {
      "text/plain": [
       "<corextopic.corextopic.Corex at 0x7f9df5a40910>"
      ]
     },
     "execution_count": 217,
     "metadata": {},
     "output_type": "execute_result"
    }
   ],
   "source": [
    "topic_model_10 = ct.Corex(n_hidden=5, words=words, seed=1)\n",
    "topic_model_10.fit(doc_word, words=words, docs=modern_love_df_rev['essay_rev_2'])"
   ]
  },
  {
   "cell_type": "code",
   "execution_count": 218,
   "metadata": {},
   "outputs": [
    {
     "name": "stdout",
     "output_type": "stream",
     "text": [
      "0: feel,time,way,man,woman,relationship,come,life,friend,long\n",
      "1: abide,refuge,recovery,recover,recite,react,rain,refugee,queer,quarantine\n",
      "2: adore,prime,possess,platform,plant,pillow,pie,privacy,photographer,peanut\n",
      "3: absent,piano,photo,paycheck,patron,patience,pat,pipe,paperwork,oxygen\n",
      "4: accident,punk,pub,psychologist,proudly,protest,prop,proof,purse,professor\n"
     ]
    }
   ],
   "source": [
    "topics = topic_model_10.get_topics()\n",
    "for n,topic in enumerate(topics):\n",
    "    topic_words,_,_ = zip(*topic)\n",
    "    print('{}: '.format(n) + ','.join(topic_words))"
   ]
  },
  {
   "cell_type": "markdown",
   "metadata": {},
   "source": [
    "# CorEx Model 11 - 10 topics and CountVectorizer and max_df = .7 and min_df= .01 and n-grams = 2"
   ]
  },
  {
   "cell_type": "code",
   "execution_count": 261,
   "metadata": {},
   "outputs": [
    {
     "name": "stdout",
     "output_type": "stream",
     "text": [
      "(1504, 4165)\n"
     ]
    }
   ],
   "source": [
    "vectorizer = CountVectorizer(max_features=20000, max_df=.7, min_df=.01, ngram_range=(1,3))\n",
    "\n",
    "doc_word = vectorizer.fit_transform(modern_love_df_rev['essay_rev_2'])\n",
    "doc_word = ss.csr_matrix(doc_word)\n",
    "\n",
    "print(doc_word.shape)\n",
    "\n",
    "words = list(np.asarray(vectorizer.get_feature_names()))"
   ]
  },
  {
   "cell_type": "code",
   "execution_count": 262,
   "metadata": {},
   "outputs": [
    {
     "data": {
      "text/plain": [
       "<corextopic.corextopic.Corex at 0x7f9fcc33b2b0>"
      ]
     },
     "execution_count": 262,
     "metadata": {},
     "output_type": "execute_result"
    }
   ],
   "source": [
    "topic_model_11 = ct.Corex(n_hidden=10, words=words, seed=1)\n",
    "topic_model_11.fit(doc_word, words=words, docs=modern_love_df_rev['essay_rev_2'])"
   ]
  },
  {
   "cell_type": "code",
   "execution_count": 244,
   "metadata": {},
   "outputs": [
    {
     "data": {
      "text/html": [
       "<div>\n",
       "<style scoped>\n",
       "    .dataframe tbody tr th:only-of-type {\n",
       "        vertical-align: middle;\n",
       "    }\n",
       "\n",
       "    .dataframe tbody tr th {\n",
       "        vertical-align: top;\n",
       "    }\n",
       "\n",
       "    .dataframe thead th {\n",
       "        text-align: right;\n",
       "    }\n",
       "</style>\n",
       "<table border=\"1\" class=\"dataframe\">\n",
       "  <thead>\n",
       "    <tr style=\"text-align: right;\">\n",
       "      <th></th>\n",
       "      <th>0</th>\n",
       "      <th>1</th>\n",
       "      <th>2</th>\n",
       "      <th>3</th>\n",
       "      <th>4</th>\n",
       "      <th>5</th>\n",
       "      <th>6</th>\n",
       "      <th>7</th>\n",
       "      <th>8</th>\n",
       "      <th>9</th>\n",
       "    </tr>\n",
       "  </thead>\n",
       "  <tbody>\n",
       "    <tr>\n",
       "      <th>0</th>\n",
       "      <td>0.999999</td>\n",
       "      <td>0.999999</td>\n",
       "      <td>0.999999</td>\n",
       "      <td>0.999999</td>\n",
       "      <td>0.999999</td>\n",
       "      <td>0.999999</td>\n",
       "      <td>0.999999</td>\n",
       "      <td>0.999999</td>\n",
       "      <td>0.000001</td>\n",
       "      <td>0.999999</td>\n",
       "    </tr>\n",
       "    <tr>\n",
       "      <th>1</th>\n",
       "      <td>0.999999</td>\n",
       "      <td>0.999999</td>\n",
       "      <td>0.999999</td>\n",
       "      <td>0.999999</td>\n",
       "      <td>0.999999</td>\n",
       "      <td>0.999999</td>\n",
       "      <td>0.999999</td>\n",
       "      <td>0.999999</td>\n",
       "      <td>0.000001</td>\n",
       "      <td>0.999999</td>\n",
       "    </tr>\n",
       "    <tr>\n",
       "      <th>2</th>\n",
       "      <td>0.999999</td>\n",
       "      <td>0.999999</td>\n",
       "      <td>0.999999</td>\n",
       "      <td>0.999999</td>\n",
       "      <td>0.999999</td>\n",
       "      <td>0.999999</td>\n",
       "      <td>0.000001</td>\n",
       "      <td>0.999266</td>\n",
       "      <td>0.000001</td>\n",
       "      <td>0.999999</td>\n",
       "    </tr>\n",
       "    <tr>\n",
       "      <th>3</th>\n",
       "      <td>0.999999</td>\n",
       "      <td>0.999999</td>\n",
       "      <td>0.999999</td>\n",
       "      <td>0.999999</td>\n",
       "      <td>0.999999</td>\n",
       "      <td>0.999999</td>\n",
       "      <td>0.999999</td>\n",
       "      <td>0.999999</td>\n",
       "      <td>0.000001</td>\n",
       "      <td>0.999999</td>\n",
       "    </tr>\n",
       "    <tr>\n",
       "      <th>4</th>\n",
       "      <td>0.999999</td>\n",
       "      <td>0.999999</td>\n",
       "      <td>0.999999</td>\n",
       "      <td>0.999999</td>\n",
       "      <td>0.999999</td>\n",
       "      <td>0.999999</td>\n",
       "      <td>0.000011</td>\n",
       "      <td>0.999999</td>\n",
       "      <td>0.000001</td>\n",
       "      <td>0.999999</td>\n",
       "    </tr>\n",
       "    <tr>\n",
       "      <th>...</th>\n",
       "      <td>...</td>\n",
       "      <td>...</td>\n",
       "      <td>...</td>\n",
       "      <td>...</td>\n",
       "      <td>...</td>\n",
       "      <td>...</td>\n",
       "      <td>...</td>\n",
       "      <td>...</td>\n",
       "      <td>...</td>\n",
       "      <td>...</td>\n",
       "    </tr>\n",
       "    <tr>\n",
       "      <th>1499</th>\n",
       "      <td>0.000001</td>\n",
       "      <td>0.000001</td>\n",
       "      <td>0.000001</td>\n",
       "      <td>0.000001</td>\n",
       "      <td>0.000001</td>\n",
       "      <td>0.000001</td>\n",
       "      <td>0.000001</td>\n",
       "      <td>0.000001</td>\n",
       "      <td>0.000001</td>\n",
       "      <td>0.000009</td>\n",
       "    </tr>\n",
       "    <tr>\n",
       "      <th>1500</th>\n",
       "      <td>0.000001</td>\n",
       "      <td>0.000001</td>\n",
       "      <td>0.000001</td>\n",
       "      <td>0.000001</td>\n",
       "      <td>0.000001</td>\n",
       "      <td>0.000001</td>\n",
       "      <td>0.000001</td>\n",
       "      <td>0.000009</td>\n",
       "      <td>0.000001</td>\n",
       "      <td>0.000001</td>\n",
       "    </tr>\n",
       "    <tr>\n",
       "      <th>1501</th>\n",
       "      <td>0.000001</td>\n",
       "      <td>0.000001</td>\n",
       "      <td>0.000001</td>\n",
       "      <td>0.000001</td>\n",
       "      <td>0.000001</td>\n",
       "      <td>0.000001</td>\n",
       "      <td>0.000001</td>\n",
       "      <td>0.000001</td>\n",
       "      <td>0.000001</td>\n",
       "      <td>0.000001</td>\n",
       "    </tr>\n",
       "    <tr>\n",
       "      <th>1502</th>\n",
       "      <td>0.000001</td>\n",
       "      <td>0.000001</td>\n",
       "      <td>0.000001</td>\n",
       "      <td>0.000001</td>\n",
       "      <td>0.000001</td>\n",
       "      <td>0.000001</td>\n",
       "      <td>0.000001</td>\n",
       "      <td>0.000003</td>\n",
       "      <td>0.000001</td>\n",
       "      <td>0.000001</td>\n",
       "    </tr>\n",
       "    <tr>\n",
       "      <th>1503</th>\n",
       "      <td>0.000001</td>\n",
       "      <td>0.000001</td>\n",
       "      <td>0.000001</td>\n",
       "      <td>0.000001</td>\n",
       "      <td>0.000001</td>\n",
       "      <td>0.000001</td>\n",
       "      <td>0.000001</td>\n",
       "      <td>0.000004</td>\n",
       "      <td>0.000001</td>\n",
       "      <td>0.000001</td>\n",
       "    </tr>\n",
       "  </tbody>\n",
       "</table>\n",
       "<p>1504 rows × 10 columns</p>\n",
       "</div>"
      ],
      "text/plain": [
       "             0         1         2         3         4         5         6  \\\n",
       "0     0.999999  0.999999  0.999999  0.999999  0.999999  0.999999  0.999999   \n",
       "1     0.999999  0.999999  0.999999  0.999999  0.999999  0.999999  0.999999   \n",
       "2     0.999999  0.999999  0.999999  0.999999  0.999999  0.999999  0.000001   \n",
       "3     0.999999  0.999999  0.999999  0.999999  0.999999  0.999999  0.999999   \n",
       "4     0.999999  0.999999  0.999999  0.999999  0.999999  0.999999  0.000011   \n",
       "...        ...       ...       ...       ...       ...       ...       ...   \n",
       "1499  0.000001  0.000001  0.000001  0.000001  0.000001  0.000001  0.000001   \n",
       "1500  0.000001  0.000001  0.000001  0.000001  0.000001  0.000001  0.000001   \n",
       "1501  0.000001  0.000001  0.000001  0.000001  0.000001  0.000001  0.000001   \n",
       "1502  0.000001  0.000001  0.000001  0.000001  0.000001  0.000001  0.000001   \n",
       "1503  0.000001  0.000001  0.000001  0.000001  0.000001  0.000001  0.000001   \n",
       "\n",
       "             7         8         9  \n",
       "0     0.999999  0.000001  0.999999  \n",
       "1     0.999999  0.000001  0.999999  \n",
       "2     0.999266  0.000001  0.999999  \n",
       "3     0.999999  0.000001  0.999999  \n",
       "4     0.999999  0.000001  0.999999  \n",
       "...        ...       ...       ...  \n",
       "1499  0.000001  0.000001  0.000009  \n",
       "1500  0.000009  0.000001  0.000001  \n",
       "1501  0.000001  0.000001  0.000001  \n",
       "1502  0.000003  0.000001  0.000001  \n",
       "1503  0.000004  0.000001  0.000001  \n",
       "\n",
       "[1504 rows x 10 columns]"
      ]
     },
     "execution_count": 244,
     "metadata": {},
     "output_type": "execute_result"
    }
   ],
   "source": [
    "pd.DataFrame(topic_model_11.p_y_given_x) # n_docs x k_topics"
   ]
  },
  {
   "cell_type": "code",
   "execution_count": 254,
   "metadata": {},
   "outputs": [
    {
     "data": {
      "text/html": [
       "<div>\n",
       "<style scoped>\n",
       "    .dataframe tbody tr th:only-of-type {\n",
       "        vertical-align: middle;\n",
       "    }\n",
       "\n",
       "    .dataframe tbody tr th {\n",
       "        vertical-align: top;\n",
       "    }\n",
       "\n",
       "    .dataframe thead th {\n",
       "        text-align: right;\n",
       "    }\n",
       "</style>\n",
       "<table border=\"1\" class=\"dataframe\">\n",
       "  <thead>\n",
       "    <tr style=\"text-align: right;\">\n",
       "      <th></th>\n",
       "      <th>0</th>\n",
       "      <th>1</th>\n",
       "      <th>2</th>\n",
       "      <th>3</th>\n",
       "      <th>4</th>\n",
       "      <th>5</th>\n",
       "      <th>6</th>\n",
       "      <th>7</th>\n",
       "      <th>8</th>\n",
       "      <th>9</th>\n",
       "    </tr>\n",
       "  </thead>\n",
       "  <tbody>\n",
       "    <tr>\n",
       "      <th>0</th>\n",
       "      <td>True</td>\n",
       "      <td>True</td>\n",
       "      <td>True</td>\n",
       "      <td>True</td>\n",
       "      <td>True</td>\n",
       "      <td>True</td>\n",
       "      <td>True</td>\n",
       "      <td>True</td>\n",
       "      <td>True</td>\n",
       "      <td>True</td>\n",
       "    </tr>\n",
       "    <tr>\n",
       "      <th>1</th>\n",
       "      <td>True</td>\n",
       "      <td>True</td>\n",
       "      <td>True</td>\n",
       "      <td>True</td>\n",
       "      <td>True</td>\n",
       "      <td>True</td>\n",
       "      <td>True</td>\n",
       "      <td>True</td>\n",
       "      <td>True</td>\n",
       "      <td>True</td>\n",
       "    </tr>\n",
       "    <tr>\n",
       "      <th>2</th>\n",
       "      <td>True</td>\n",
       "      <td>True</td>\n",
       "      <td>True</td>\n",
       "      <td>True</td>\n",
       "      <td>True</td>\n",
       "      <td>True</td>\n",
       "      <td>True</td>\n",
       "      <td>False</td>\n",
       "      <td>True</td>\n",
       "      <td>True</td>\n",
       "    </tr>\n",
       "    <tr>\n",
       "      <th>3</th>\n",
       "      <td>True</td>\n",
       "      <td>True</td>\n",
       "      <td>True</td>\n",
       "      <td>True</td>\n",
       "      <td>True</td>\n",
       "      <td>True</td>\n",
       "      <td>True</td>\n",
       "      <td>True</td>\n",
       "      <td>True</td>\n",
       "      <td>True</td>\n",
       "    </tr>\n",
       "    <tr>\n",
       "      <th>4</th>\n",
       "      <td>True</td>\n",
       "      <td>True</td>\n",
       "      <td>True</td>\n",
       "      <td>True</td>\n",
       "      <td>True</td>\n",
       "      <td>True</td>\n",
       "      <td>True</td>\n",
       "      <td>True</td>\n",
       "      <td>True</td>\n",
       "      <td>True</td>\n",
       "    </tr>\n",
       "    <tr>\n",
       "      <th>...</th>\n",
       "      <td>...</td>\n",
       "      <td>...</td>\n",
       "      <td>...</td>\n",
       "      <td>...</td>\n",
       "      <td>...</td>\n",
       "      <td>...</td>\n",
       "      <td>...</td>\n",
       "      <td>...</td>\n",
       "      <td>...</td>\n",
       "      <td>...</td>\n",
       "    </tr>\n",
       "    <tr>\n",
       "      <th>1499</th>\n",
       "      <td>False</td>\n",
       "      <td>False</td>\n",
       "      <td>False</td>\n",
       "      <td>False</td>\n",
       "      <td>False</td>\n",
       "      <td>False</td>\n",
       "      <td>False</td>\n",
       "      <td>False</td>\n",
       "      <td>False</td>\n",
       "      <td>False</td>\n",
       "    </tr>\n",
       "    <tr>\n",
       "      <th>1500</th>\n",
       "      <td>False</td>\n",
       "      <td>False</td>\n",
       "      <td>False</td>\n",
       "      <td>False</td>\n",
       "      <td>False</td>\n",
       "      <td>False</td>\n",
       "      <td>False</td>\n",
       "      <td>False</td>\n",
       "      <td>False</td>\n",
       "      <td>False</td>\n",
       "    </tr>\n",
       "    <tr>\n",
       "      <th>1501</th>\n",
       "      <td>False</td>\n",
       "      <td>False</td>\n",
       "      <td>False</td>\n",
       "      <td>False</td>\n",
       "      <td>False</td>\n",
       "      <td>False</td>\n",
       "      <td>False</td>\n",
       "      <td>False</td>\n",
       "      <td>False</td>\n",
       "      <td>False</td>\n",
       "    </tr>\n",
       "    <tr>\n",
       "      <th>1502</th>\n",
       "      <td>False</td>\n",
       "      <td>False</td>\n",
       "      <td>False</td>\n",
       "      <td>False</td>\n",
       "      <td>False</td>\n",
       "      <td>False</td>\n",
       "      <td>False</td>\n",
       "      <td>False</td>\n",
       "      <td>False</td>\n",
       "      <td>False</td>\n",
       "    </tr>\n",
       "    <tr>\n",
       "      <th>1503</th>\n",
       "      <td>False</td>\n",
       "      <td>False</td>\n",
       "      <td>False</td>\n",
       "      <td>False</td>\n",
       "      <td>False</td>\n",
       "      <td>False</td>\n",
       "      <td>False</td>\n",
       "      <td>False</td>\n",
       "      <td>False</td>\n",
       "      <td>False</td>\n",
       "    </tr>\n",
       "  </tbody>\n",
       "</table>\n",
       "<p>1504 rows × 10 columns</p>\n",
       "</div>"
      ],
      "text/plain": [
       "          0      1      2      3      4      5      6      7      8      9\n",
       "0     True   True   True   True   True   True   True   True   True   True \n",
       "1     True   True   True   True   True   True   True   True   True   True \n",
       "2     True   True   True   True   True   True   True   False  True   True \n",
       "3     True   True   True   True   True   True   True   True   True   True \n",
       "4     True   True   True   True   True   True   True   True   True   True \n",
       "...    ...    ...    ...    ...    ...    ...    ...    ...    ...    ... \n",
       "1499  False  False  False  False  False  False  False  False  False  False\n",
       "1500  False  False  False  False  False  False  False  False  False  False\n",
       "1501  False  False  False  False  False  False  False  False  False  False\n",
       "1502  False  False  False  False  False  False  False  False  False  False\n",
       "1503  False  False  False  False  False  False  False  False  False  False\n",
       "\n",
       "[1504 rows x 10 columns]"
      ]
     },
     "execution_count": 254,
     "metadata": {},
     "output_type": "execute_result"
    }
   ],
   "source": [
    "pd.DataFrame(topic_model_11.labels) # n_docs x k_topics"
   ]
  },
  {
   "cell_type": "code",
   "execution_count": 267,
   "metadata": {},
   "outputs": [
    {
     "name": "stdout",
     "output_type": "stream",
     "text": [
      "0: good,friend,begin,meet,wait,story,couple,plan,idea,marry\n",
      "1: away,place,kind,hand,later,early,family,bad,fact,stay\n",
      "2: big,car,light,voice,sleep,hair,clear,apartment,arm,black\n",
      "3: time,long,find,look,try,people,turn,talk,end,new\n",
      "4: way,come,life,day,need,live,month,relationship,sit,soon\n",
      "5: work,start,right,week,home,let,night,mean,hear,little\n",
      "6: window,foot,hospital,living,pound,park,beach,local,road,green\n",
      "7: leave,head,spend,believe,hour,sure,help,decide,sign,open\n",
      "8: sign love letter,love letter weekly,weekly email,letter weekly email,letter weekly,sign love,love letter,weekly,modern love,email\n",
      "9: feel,man,woman,moment,experience,pass,laugh,white,reach,figure\n"
     ]
    }
   ],
   "source": [
    "topics = topic_model_11.get_topics()\n",
    "for n,topic in enumerate(topics):\n",
    "    topic_words,_,_ = zip(*topic)\n",
    "    print('{}: '.format(n) + ','.join(topic_words))"
   ]
  },
  {
   "cell_type": "code",
   "execution_count": 264,
   "metadata": {},
   "outputs": [
    {
     "name": "stdout",
     "output_type": "stream",
     "text": [
      "[19.55347721 16.99129584 13.20470215  8.01439473  7.84611342  7.76966188\n",
      "  5.11406658  4.04109763  3.94603923  3.22754236]\n",
      "89.70839104454345\n"
     ]
    }
   ],
   "source": [
    "print(topic_model_11.tcs)\n",
    "print(topic_model_11.tc)"
   ]
  },
  {
   "cell_type": "code",
   "execution_count": 265,
   "metadata": {},
   "outputs": [
    {
     "data": {
      "text/plain": [
       "[('day leave south dakota rex sit talk beneath open hatchback car distance lightning storm open expanse great plains churn sky murky purple talk passionately lithium battery talk common consider interested especially attract person speak care battery volunteer pine ridge reservation build repair infrastructure person greet arrive end long dirt road climb cab skid loader face body warm lyrical version happen storm approach stop talk seriously pleasure body baby date late poem math problem lot line look differ young self envision care date certain time baby love getting marry biological father child maybe admire arrive set criterion alternative sentimental unrealistic especially husband wish list champion year ready able child help sit meditation practice observe worry pregnant discerning love effect fear intensify old trust judgment pressure lot man start smell father decide safe way protect romantic delusion separate story outset try find mate mother time biological constraint easy figure urgent resolve child outside context love solo road trip south dakota conceive experience future self saddle dependent someday thank return home plan pregnant anonymous donor sperm evening rex kiss tent realize lot life work crawl tent phone number head home michigan california leave exactly perfect crazy number home pore donor questionnaire local sperm bank try straight video game preferred billiard mix blandly phone conversation rex weird memorable inherit father expression son biscuit jeez dote backyard lay hen refer chicken mama adult travel airplane exactly domestic round trip job talk life exist present mention relationship woman michigan crumble path motherhood child search donor stagnate lack warm feeling friend offer screen profile eve birthday donor receive friend approval wait list sperm feel ambivalent finally rex stalled plan mother help silent interested father co parent scenario discuss assume time birth long romantically involve soon visit california experience soak naked stranger hot spring contact year old redwood tree cry rub accurate clumsy hand life work donor arrangement fall love stay michigan teach use chain saw care chicken eventually follow california drive way tow homemade trailer fill tool time try live separate story month try conceive enjoy confusing situation pregnant leave relationship pregnant switch donor year offer donor begin difficult conversation middle pregnant generosity genuinely thrilled inwardly begin withdraw father co parent thought bring old wound childhood day indecision tempt try convince stay day sanity recognize harm day leave california photograph look haunted car drive east father day leave scramble action interview midwife search online baby gear try explain womb cry lot sorry baby ok sad week later warning text arrive terrible mistake recognize love baby coincide believe separate remain fundamentally unchanged rex suffer able clean reality envision exist evaporate moment greet end dirt road body respond warmth buddhism found truth suffering cause desire glance suffer desire sound unequivocally bad beauty suffering offer opportunity curious tender relationship desire listen try eradicate hear beneath desire surface noise problematic human vulnerability life tangle rex absence remember tend lover child dirty work wholesome sense fall love baby point view preference affirm little bit soften singular lonesome grip reality invite unexpected undesirable inexplicable messiness richness hand life beautiful natural animal appetite understanding faithful deep sense lover baby yes weird memorable welcome rex come way leave california listen podcast fatherhood look photo day leave cry come baby sell heavy tool repaint wall house michigan sale month later california time catch hand son bear',\n",
       "  0.0),\n",
       " ('prove strategy find love suspect million people year edit column receive story baffled frustrated tsunami metaphor convey volume answer sure abound raise hand self help author relationship coach matchmaker eager ply trade open wallet maybe learn secret follow set antiquated rule lower expectation settle describe favorite salty snack preference add profile cross reference preference turn key surely science science accord grin newlywed lock eye pilates conga line tiki bar find hitch happy consultant fee single round speed date maddeningly happen patient patience virtue strategy find love short hire adviser create direct mail campaign reveal vital site valentine day offer sampling intriguing tactic come lately familiar oldie dust modernize economical technology drive option perfect text seduction love letter long rich history text messaging genre enjoy renaissance albeit mark shallowness brevity bad hard impress efficiency message ur let second type fraction send require stamp wax seal calligraphy cost depend texting plan start beautiful relationship object desire reply chatty lol way consider add playful photo datum charge apply careful aim camera ill advise picture ruin word consult religious guru month ago column amy klein explain lapsed jew faith divine intervention follow friend advice consult jerusalem rabbi predict coupledom amy meet husband hanukkah month away wait holiday high alert succumb despair hanukkah find love happen rabbi predict wonder prediction cause answer analyze miracle miracle way lot reader tap e mail response impressive number israel way write comment urgently request rabbi contact information tantalize tweets long ago young brooklynite hear julieanne smolinski discover interesting phenomenon seduce people seduce suggestive touch whisper come ons character dispatch accompany chest self portrait size scrabble tile truism social medium twitter facebook small profile picture great fantasizing people double click photo try drag desktop hope view photo stubbornly remain minuscule square seductive potential fuel obsession combine witty tweet package prove irresistible scrabble tile meet person course impossible circumstance encounter live fantasy downside imagine romantic future base smattering thumbnail image glib phrase increasingly meet day uh oh people apply date person write jessica delfino tired date hamster wheel decide compose old fashioned list partner height age eye color parental job status pet ownership status publicize new fashioned way post craigslist invite applicant pledge respond meet man fulfil criterion end age year minimum possess characteristic real person come love come love engage true list arbitrary misguided need way forward believe way feel right person right need short create illusion destiny chase end earth matter love chase chasing look desperate pathetic obsessed read tale chasing common version involve drive bys doorbell ring way unreturned text message squirm induce chase love end earth different crush life decide japan lisa ruth brunner story summer miss arrange foreign study beijing close lisa year later find reunite tiananmen square magnitude act absurdly scale turn original paradigm head pathetic romantic desperate determined grand gesture lead love lisa story stand chance police blotter hollywood love love life reason couple column publish story human relationship hope illuminate facet love love story bona fide love story rare gary presley appear month ago near quadriplegic childhood polio gary mind burden maneuver body outside wheelchair substantial help dependent person hard imagine love relationship romantic relationship start inequality gary develop feeling home care aide young single mother belinda hopeless yearning regularly feel compel quash consider feeling sense fact belinda fall gary clear time maintain deserve love allow love hold hard idea content ride remainder life complaint write burn case absurd hodgepodge break eventually belinda constancy overcome denial marry year fully resolve reality belinda love write add simply choose love belinda choose head logic heart dream logic heart yes prove strategy happy valentine day',\n",
       "  0.0),\n",
       " ('break boyfriend proper noun come nigerian american survive warri crisis survive art school inner city baltimore professional soccer player lecturer english literature live phnom penh cambodia meet african bar kim shady hurdle christian shadrack people diminutive little boy early love sweep day gush cellphone mother idaho pick way improbable traffic phnom penh honda scooter basket live pig tether recent hospital escapee ride saddle motorbike dangle iv bag wooden pole hold aloft trident carefully refer boyfriend tribal chibuzor baby hate people speak tribal language grow city city boy stumble love develop generalist theory difference man woman woman slow reveal man example day man loath child recover addict mommy issue face value large fact believe define date walk inky street neighborhood khmer restaurant guitare de order single coke watch eat claim hungry later return apartment sit balcony light votive candle baleful cry dog alley face half hide flicker shadow light begin story violent story vivid menace niger delta grow torchlight time dig grave hear scream forest lucky baby boy help smoker dig grave light bury little girl child relative die father away body wait bury continue coff coff grave dig finish light explode forest phone light mobile phone explain white american girl spend childhood jakarta bangkok motorcycle wreck left leg hold titanium rod recover addict relapse time guess close permanent hardware large fact shady try date warri boy english perfect spend high school year play soccer guard female friend rape schoolyard ablaze rebel fire wit athleticism dumb luck good family blessing simply god grace survive tribal war remember bit story night sick suffer debilitate bladder condition spur addiction painkiller grateful feel live place define past old trauma tired identity sick person troubled person people worry confess trace line thigh finger offer word darkness understand month later break difference background ridiculous suspect relationship folk home finally occur refer shadrack talk family begin relax slip shadrack soon way shady cringe time parent try english connotation nickname draw different vowel sound shah dee shad ee breakup live speak marriage child hit biblical casting exile wander forever recover fast day break apartment sprinkle floor flower consult prophet nigeria pay khmer boy collect bottle water mekong river filthy urban lake let water sit week prophet instruction strong smell scum ride speciman bathe rub fouled distant water monsoon mekong deep dreadlock smooth face rough tattoo hard abdominal wake red carnation leave floor idea decidedly spiritual action win away indonesia month waterlogge cry sodden feeling relationship fever dream non sequitur strange story inhabit impossible character pray fervently certain outcome hope matter change twisted reshape sincere desire consider matter subject prayer vulnerable believe transformative power subliminal restructuring launch afar return trip ill heart body begin pain medicine addict narcotic easily procure pharmacy cambodia require prescription haze week phnom penh instinct shady fantasy plot urge beef fry rice month ago long dream lie bed mother look disapprovingly live strange hotel room enter steal key week later pain pill hand lean spiritual solution problem stop pill immediately fast pray day agree fast pray attempt quit pill quickly sense support tempt whine consider fact shady eat reason concern break fast cup coffee flood caffeine grab dictionary institute language learning system define english word day come course conversation write word meaning piece paper return write translate phrase pidgin english morning wake early shuffle refrigerator coffee bean swing open door eye spy yellow sheet paper dangle weak magnet write contort twist bend draw shape person perform gymnastic feat involve contort posture contortionist underneath write pidgin shady day house underneath bolder hand english shady let home',\n",
       "  0.0),\n",
       " ('meet tim donohue set movie work upstate new york start date year later meet film set massachusetts time come tim donohue mean tim enjoy work production assistant run set day cater petty need cast crew hold high position rung movie crew hierarchy tim somewhat low rank realm crew perfect match agree supportive date high high school relationship spring set movie draw unwanted suspicion gossip date outside caste romance begin rare day skydive whir exhilaration carry evening spend friend tim sit dinner chemistry instant film wrap tiny apartment new york city await assignment relationship location tend die return reality flourish long word pretty big tear apart day stranger came knock hi tim donohue tall guy stand doorway hand outstretche finger long delicate grip strong clean handsome sporty look football player ivy league school kid laugh answer tim donohue new neighbor boyfriend tim donohue look couch tim nap long stand run finger salt pepper hair tim donohue tim donohue tim seriously tim donohue size goodbye tim look puzzled tim donohue impostor tim donohue good look tim good look true tim model tim boyish cute skinny knee crooked smile find adorable type real tim donohue good kiss cheek time day love vice versa respond private jokey answer couple saying smile week pass tim occasionally walk hand hand beautiful woman reading cafe night jog soon tim start talk quit smoking shape soon summon work film shoot city different shift weekend treasure drowsy time vice versa tired smile week tim schedule sync early morning come exercise night head party late night arrive door time beer accept apartment fill photograph far fling place soon got talk travel open beer live block away tim occur tims neighbor tim start date reach number operator choice tim donohues choose wrong tim insist message believe tim maybe leave message actually remember sound nice distant phone rang come apartment thank beer key studio pick find tim line wave guilt wash confess run tim invite beer yeah um tim travel oh tim quietly tim travel immediately regret having night lie awake thinking tims tim donohue mean wrong mean tim actually year ago instead unthink good love tim adore sense humor contentment tim alluring good look worldly read athletic come wealthy family tim come middle class background later week tim apartment flush drink hug tight suddenly cup cheek hand glassy eye verge tear run impostor tim donohue downstairs whisper feel life come away ridiculous entirely convinced promise avoid tim mention presence foot hall perfectly package hollywood version tim donohue tim version tim weeks turn month tim spend time place refer comfortable home work ladder gain access studio executive money tim production assistant fault day union status find question ambition lazy complacent case tim change day near soon end return building run tim dress tuxedo head charity event climb flight place find tim asleep couch golf tournament television cramp surrounding snoozing boyfriend version future flashed life strike average year tims tim having buy condo goodbye tim leave good blame blame twisted joke month follow determined version pretty smart ambitious look new boyfriend turn look new york especially movie business hard dispel fantasy corner embrace notion allow life ongoing cycle shallow disappointment leave long tim donohue satisfied exactly long kind person',\n",
       "  0.0),\n",
       " ('bathroom door crack center paper paint outside inside crack visible yash break accidentally fix weeks fix door yes time wasting yash months fly yell yash yell year later write door yash break door promise fix year ago year cross year write year year later write yash promise fix door year ago fix dead brother law yash old brother shock year old adopt son apart alarm clock work family facility work long brother law long married yash year half husband wife emergency contact share apartment meal bed bed sort loom night dissolve nothingness bed lack bed discuss yash year possibly kind man encounter date walk past ben jerry contemporary jayne mansfield type stride wear pink shoulder angora sweater turn man woman child pigeon yash woman yes chocolate dip waffle cone strawberry cookie cream whip cream nut discover yash obsess food later learn exercise stay fit love meet parent mother pull aside meal seriousness food feed yash day shop quickly man date feel comfortable yash expose flaw spectacular evening wedding small people garden midtown restaurant mother away yash mother red neglect walker fine time friend jazz trio night tree color glass bulb pledge love vow toast love room marriage live difficult right start engagement begin complete bachelor degree drop college finish mean lot yash proud school credit year stop work wedding stall reason tired concentrate work quit problem problem problem malaise inattention bring marriage beautiful sunday afternoon walk riverside park decline work hour later return find scream fight stand computer feel yash mother pleading cajole praise shout point yash got marry expect help social life addition trouble spare time work opposite schedule teach day work restaurant night lonely walk long long sunshine cease happy begin affair long short disastrous way man choose involve situation yash improve hope try marriage counseling success counselor summarize irresistible force meet immovable object wonderful man lisa yash man budge stand cliff ground crumble beneath foot despondent yash night let wedding ring yash come visit anxious depressed sleep love promise different month later wait interminable length time change file divorce year magical thinking joan didion write marriage love time memory past share yash parent death read eulogy mother service goodbye shroud white coffin toss handful earth grave yash meet estranged father cat close countless christmas eve feast menorah lightings birthday carousel ride central park trip domestic foreign day divorce decree cry mother alarm cry rule talk ledge personal profound failure hang big breath funny happen anger yash disappear vanish stone roll away heart lift divorce fix marriage somewhat totally deal yash affair forgive telling man hold allure spell break yash finish degree trouble small work day considerate walk divorce mean long grant change profoundly expectation word wife husband long intrinsically carry kinder accepting forgiving long married choose person come home story share life friend family member situation odd sister divorce rid anger little extreme case little piece paper propel ready begin new life idea divorce key shed anger pain lead forgiveness appreciation week ceiling fan break apartment day later conversation fixture crooked chain jammed look yash try fix ceiling fan yesterday ceiling fan touch yash groan shake head laugh husband marry accept fact handy skilled area accept yash wait little bad begin laugh yash pick phone super',\n",
       "  0.0),\n",
       " ('tattoo shop illegal south carolina live time drive savannah ink drunk jack daniels choose image display shop base afford dollar buy tiny black flower brash audacious lift skirt hop table remember boy offer hold hand baby group smooth face pretty vacuous swagger ridiculously transparent embarrassing unlike tattoo temporary wow cool conventional wisdom suggest regret aspect decision tattoo permanent permanent immediate life stability feel cement long tattoo buy little truck vow pack bed crave motion structure life transient americorps program exist small stipend travel east coast work week project time monitor sea turtle helped build log cabin serve food soup kitchen cut new hiking trail machete navigate highway instinct learn sleep comfortably strange place remote georgia island wild horse run freely beach nursing home cincinnati haunted series door slam midnight decommission navy base bed man meet temporary stranger enter life connection young flux unable process fumble emotion learn find exit quietly sunrise drive away truck catch cab board flight close discover tattoo repeat word boy time wow cool skim surface light hesitant touch trace outline hurt sensation tattoo similar snap rubber band linger sunburn tight discomfort describe pain describe aspect life painful live motion quick target emotional sensory impact wow cool agree occur hurt year later long dig clothing backpack smell freshness washing machine truck friend use haul music equipment meet man try find door metaphorically sunrise hand suggest stay gesture man project permanence study solid steady shoulder motion crave dizzying contemplate design skin life find open permanent transient phase fade old tattoo design tattoo little significance boy youth rarely pay attention shower occasion notice crisp black floral outline morph bluish smudge celebrate birthday celebrate peek edge bikini cover modest beach short lose swagger swagger slip easy stride sure change happen house fill item cumbersome valuable pack truck bed time life furniture kitchen appliance earn steady paycheck buy expensive shoe aunt potential role model niece shift audacious bikini sudden self consciousness shocking immediate eventually notice year old self birthday listen marianne faithfull sing shel silverstein word insanity white suburban bedroom white suburban town fear eventual lucy jordan moment bad fate imagine structure sterile prescribe existence guide word appropriate decide new tattoo decide reclaim old instead walk unsteadily dimly light savannah street find tattoo parlor door bright afternoon outside familiar area portland home tattoo artist woman danielle wear bettie page hairstyle carry vintage leopard print bag immediately strange coincidence mimic life travel pattern live charleston general time talk wall beer horse cart acme club music stop light come dancing crowd blink attempt connection danielle reminisce rock concert music farm describe bright orange minidress wear hunting dress joke danielle face leg inspect old tattoo matter fact face crotch work day office danielle fix tattoo plan ink new tattoo old incorporate shadow previous design big bright choose carelessly base afford consider settle tiger lily art nouveau style tiger lily grow wild patch backyard art nouveau movement visually attractive alphonse mucha influence danielle style size image work come appointment week later return measured intentional manner experience emotionally unbound instead hop table fuzzy head bravado hold hand random boy arrive minute early alert labor day client privacy danielle spread paper sheet special reclining chair mix ink supply chat business surprise hurt hurt hurt remember light ste year early snap elastic band feel razor tip slice skin breathe breathe endure kind sharp mean intense pain impossible feel cry acutely aware capable feel pain remember young recklessness current pain intense wonder vulnerable feel year imagine find danielle tattoo chair way unknowable comfort tattoo reclamation tiger lily mute orange art nouveau style exactly leave shop feel high good come home drunk dance hood car parking lot drive stone sober danielle shop house husband welcome hug question hurt',\n",
       "  0.0),\n",
       " ('update hear essay read actress justina machado modern love podcast look play button place feel sure planned parenthood list perform abortion condom kid warn spring afternoon find waiting room teenage girl clearly perplex intake form likely bind uncomfortable humiliate minute borrow chevy chevelle year old virgin prepare time incidentally happen frigid fearful socially inept overweight unattractive suffer halitosis social anxiety disorder practice mormon mormon wait marriage wait spend decade adult life celibate trial faith bless eternal marriage pray blow mind bedroom occur remain unmarried especially system marriage commandment life primary purpose turn place community single woman child available choice church wait reward heaven mormon doctrine promise single member deny marriage family sex life earth death needless compelling argument troubling fact grow old distinct sense remain child woman body virginity bring arrest development level handicapping condition russian orphan read lack physical contact alter neurobiology prevent form emotional bond similarly feel celibacy stunt growth sex lack relationship man entirely independent mormon man virgin set feel trap adolescence act open rebellion brokeback mountain seattle rainbow stripe capitol hill neighborhood pair lesbian friend ready alcoholic beverage cup coffee lie man smoke cigarette watch movie movie obvious attack sanctity hetero marriage handsome straight hollywood actor act homosexuality perverse straight believe god clear day empathize gay cowboy unmarried happy child mormon woman feel grow apart community fundamentally bind ill fit life object pity judgment feel choice pray hard god bless suppose stage rebellion happen immediately movie babeland city world renowne sex toy store lesbian companion supportive perplex commitment law chastity protective innocence way friend knock pot cookie hand lest unwittingly stone watch fun year old virgin shop sell art glass dildo vibrate nipple clamp funny watching virgin earnestly study product list feature water resistance battery life noise factor shape size heft relationship non mormon man week month summertime date begin end outside daylight delay expectation physical contact darkness inspire pattern predictable man intrigue turn virginity landscape uncharted territory innocence curiosity certain scenario man believe hope play elaborate game hard charade culminate night seedy sweaty wall scene road house star young patrick swayze time fantasy meet reality man search simple blame grow adult active sex life decade weird ridiculous suddenly thrust grade date mormon man nutshell pool small people marry young obvious reason leftover leave closet gay man porn addict virgin merely awkward uncompromising unlucky favorite movie industry veteran offer peanut butter cup marie love peanut butter marie osmond date college handle mister marie osmond obviously leave sure problem man let overhear friend compare weekend horror date story walk problem problem die find problem need man good able care oneself job yes car yes house yes clothe course food obviously problem excuse man church raise provider breadwinner steward household suppose provide love intimacy partnership run world nope provider regardless tragic date history fact reason feel hopeful try year lose hope gospel answer save parent convert separately young thank mormon church escape childhood rife abuse alcoholism neglect find god find rescue community commit family forgiveness joy chaos create tiny space family live happily prosper surround love teach child god divine purpose life feel secure fulfil purposeful connected commitment abandon god church way receive failure sure church member way weak endure wait decade spend life god require unwilling believe god unwilling continue spiral disconnected life feel abandon discount oddly trip planned parenthood provide church recent year exam clinician explain permission touch routine procedure mystify compassion level attention pay body fragile sacred occur terrified abuse woman planned parenthood treat day bring tear sorrowful way suffer way grateful unlikely refuge place grateful safety grant tear prompt delicate weight hand shoulder warmth palm unprepared experience tenderness place warn vehemently unprepared flood relief bud hope life devote separate body path opening empathy iud instead child intellectual spiritual freedom write poem finally live inside body love god feel man hand die',\n",
       "  0.0),\n",
       " ('evening spring month wedding partner mug gunpoint jittery saucer eyed man walk home macarthur bart station oakland mugger creep residential street half tackle blue flicker television dance innocently partner try briefly heroically hit heavy shopping bag reach pocket pull dull black handgun point head shoot drag away stay crouched memorize face later remark disturbing kindness eye gun immediately mugger appear partner debate role gender play san francisco topic relevant life partner parent typically boy michael feminine masculine appearance dress look smallish man easily mistake straight couple look forward wedding wait spiritual transformation imagine accompanied marriage survive traumatic childhood abuse decide marriage new family counterbalance ultimately outweigh fear hopelessness youth michael find perfect spot ceremony mendocino set date hope partner bright eyed confident kind girl france summer vague sense purpose dollar knife boot witty happy stable unlike mean meet housemate boston spend time write bruise poem parade unavailable sad girl subside spaghetti cigarette drink nightly pack spending sweaty boozy summer rove band queer notebook chronicle pocket boston separate way find year later gloomy bar san francisco sudden spark month country set oakland apartment fly kite berkeley marina sail golden gate bridge fight bitterly stupid read self help book communication tender ragged ground brassy union opposite heart soften perfectly diametric way year apartment later shake doubt comfortable ease new life cliff house fireside cocktail smell thanksgiving feel different good natured people enjoy life anxious free certain marriage turn adult counteract messy childhood loaded expectation work michael plan tiny seaside affair shoestring budget lawn game handcraft invitation ceremony lead sister jagged northern california bluff community artist friend volunteer work photograph cater reception dinner ring perfect weekend long celebration offbeat thoughtful fun knee deep checklist rsvp realize wrong plan past credit roll life live happily harbor sneak suspicion wedding fix lie beneath romanticism visceral cynicism relationship deeply worthy life create find street mugger mugger dangerously fluster michael try wallet ignore focus gaze stay knee execution style feel flutter black sky past break streetlight eye stay focused gun forget michael deliver crude familiar time life hinge maintain animal stillness minute pass excruciatingly expand point whisper run startle movement michael street strangely silent footfall finally stranger open door safety police shudder lock lonely night purchase car afford shepherd door door avoid night succumb claustrophobia trauma fight fight argument coil severe language code michael humor disappear entirely resurface find long buoy lead place violence certain mistake wedding approach cruel speed feel raw sack loss distance imagine depressed lack escape change new understanding world place wedding solution event summer big news oakland series mugging couple car street near open mouth downtown transit station attack eerily couple straight man shoot michael assailant picture arrest july felt nauseate recognition course mugger bizarrely kind eye shine forth computer night mug wear heavy flannel shirt jean sneaker knit cap certainly look guy possible mugger odd focus originally intend shoot chilling possibility hang house suddenly mugger face mind memory beneath familiar fear feel begin bloom thump true michael finally understand trouble long symptom post traumatic stress manifest insomnia sudden storm anxiety finally understand hyper vigilance confusion fear mugger universality trauma tear loose inside tooth wiggle free gum fact completely normal behave michael tree sunlight survive mugging abuse childhood discover life deserve saturday morning michael coffee long wander conversation sister speakerphone plan detail ceremony conversation coalesce plan find away previous fantasy perfection transformation celebration real impermanent guest wild coastline suggestion bulk ceremony involve guest pass ring speak directly share advice wish stand circle restless ocean wind whip fog roll day stunningly bright people speak grandparent share heartfelt observation bring cry michael appreciate faith teach faith realize soon true firework joy solid assuredness wisdom complicated contentment find trade high ideal raw beauty moment hawk circle tourist bumble aware crookedness gather circle strike moment pass come spectacular flawed beginning',\n",
       "  0.0),\n",
       " ('expect denver christmas year child arrive august wife california parent brother sister long despair start family averse child love hope right away postponement stretch year graduate degree career consume attention start family hurry surrender freedom intimidate parenthood idea responsibility new life daunt worthy trust finally manage aside fear embrace challenge remind fully charge strategic plan miscarriage intervene compound worry extend delay drew arrive safe sound defy worry parent euphoria set share state line head directly west decide scenic route south snow pock plateaus new mexico arizona southern california north los angeles visit danish village solvang famous christmas splendor head coast destination sonoma county pack trip require ingenuity space gulp paraphernalia month old fit toy size car yellow volkswagen bug car seat seat diaper bag collapsible stroller christmas gift fill niche urging friend lack winter travel experience stash large candle match water rear window compartment safety precaution marooned desolate stretch southwest way motor south interstate talk nonstop revel gurgle new family member delight ribbon snow skittering pavement midafternoon ready change dot wheel read pop dramamine avoid motion sickness dive book surprisingly drug choice soon close curtain literary intention drift dot rouse near albuquerque hour later awake start amiss sky grow dark sun wrong set right face turn west albuquerque dot reply wake sign grunt sleep idea desert south albuquerque dark snow swirl headlight temperature plummet feel muscle wind car notice fuel gauge hint drowsiness evaporate register final grade course parental preparedness needle hover e e effort e consult map confirm unlikely close town gas station pass time sight sagebrush distant mountain knowledge emergency supply offer little consolation bidding star bethlehem need try panic bay baby risk shudder denver morning drew birth fervent resolve good father promise barely dry walk rock hour dot wrestle anesthesia nuzzle talk sing promise good life life red wagon sled book zoos milk graham cracker smear butter way christmas tree jeopardize life fail basic parental duty provide warmth shelter road lead northwest reward flicker light distance turn direction chance soon arrive string bare bulb dangle barbed wire enclosure truck park inside fence brand white letter read bureau indian affairs turn laguna indian reservation security fence dozen small cement block house pickup pull close truck step snow movement set village canine alarm system dog begin growl bark curtain parted shadow peer vw intruder spot eye snarl sentinel knock door near house open slightly reveal small boy explain plight gasoline available nearby peek crack point house opposite soon retell story man answer door wife baby car woman shove man aside open door fully baby car mother car house right freeze death soon feel warmth house introduction host offer drive truck gas station reservation store mile away hurry urge close road bashful gas pedal soon fill gallon way pickup pass high speed recklessly chase horn blaring host solemnly explain laguna teenager son probably surely drink kid trap leave reservation good education waste money car truck booze girl worry future talk fear toxic tailing son friend expose speak feel kinship elude month early father father child worry start path joy hope son face real threat shoulder grave concern arrive house find drew blanket live room floor smile contentedly child entertain light christmas tree room dot sit table eat supper hostess woman rise point chair place set plate ham scallop potato husband dine trade universal currency story child stay long table oasis kindness difficult leave goodbye loss thank blunder insult shake host hand bill begin repay family generosity reimburse gas money thank grace career diplomat step dot hold drew carefully tuck money drew blanket chance son christmas gift final kindness head west darkness',\n",
       "  0.0),\n",
       " ('husband old rabbi mumble yiddish accent english probably person expect kabbalist rabbi blessing marry stop religious year early uninterested pursue typical orthodox jewish lifestyle settle baby straight college summer turn freak approach old nonreligious world israel live visit old friend figure life wrong day run mother father good friend high school prompt friend mother insist rabbi entrust weighty matter exactly daughter marry gush write phone number newspaper save husband death add gesture story doctor husband day live rabbi pray cure man seemingly good health stand roll eye literally snort disbelief modern orthodox people consider ground rational aside creationism moses parting red sea god giving commandment mountain believe border alternative kabbalah especially rabbi supernatural power stop orthodox indoctrination leave sense nearly god spiritualist healer psychic witch equally possible find airless jerusalem classroom old rabbi white beard long mouth glass thick eye yes husband admit aloud time hold heavy hebrew book open page page magician read word page open book point finger center read random hebrew word kishuf mean witch witch curse curse married married pray daily eat kosher food observe sabbath mention nonvirginal date habit curse expect curse mean curse need pidyon nefashot refer redemption soul similar ceremony jews day atonement pay shekel cash shekel protest point door word come walk hot august sunshine kind sucker walk bus stop hotel buck prayer problem raise religious matter skepticism acquire later life sure instinct secretly suspect rabbi right stop observe jewish law look cut line religious woman waiting room rabbi makeshift office wonder remember money rabbi remember cash place plastic baggie wave head lasso gesture repeat prayer mean roughly exchange substitute atonement money charity good long life peace bless meet man love jewish child sexually love love mother amen possible kind man date passport rabbi bring document close milky eye examine hidden ancient secret dead sea scroll sit rickety chair start write furiously look copy passport ballpoint pen scratch loudly silent room addition relieve charity steal identity close rabbi desk tiny piece paper write column number complex equation finally slam pen desk hand passport sagur announce hanukkah month away hanukkah repeat sagur forget oil day meet husband month real hanukkah miracle united states rabbi blessing winter single force holiday party night look warm loud room christmas tree hanukkah menorah look man longingly holiday pass unremarkably old friend tease hey suppose meet husband surprise break tear meet husband cry rabbi come feel cheat ashamed remember year old lay white dress chair bed learn messiah suppose come passover messiah come husband try succeed faith month later september meet cuddly guy start maybe engage hanukkah rabbi actually exactly cuddly dump right holiday doubt sense mount expectation good friend holiday party extra care appearance cuddles miss notice drink flirt randomly singe karaoke mike finally drunkenly decide leave deep voice boom coat room scour winter wool pile guy face darkness recognize voice karaoke partner total eclipse heart leave hand lead room solomon dark curly hair thick lipped smile soft musician hand play chat hour party petere day later voice mail message amy solomon meet bar night happy hanukkah day meet brunch day hanukkah year ago recently courtship seamless lack usual drama inherent relationship country confident rabbi blessing solomon story rabbi blessing right away believe religion rabbis curse people power sure despite recent event solomon turn wonder rabbi predict rabbi prediction cause matter religiously dictate miracle miracle',\n",
       "  0.0)]"
      ]
     },
     "execution_count": 265,
     "metadata": {},
     "output_type": "execute_result"
    }
   ],
   "source": [
    "topic_model_11.get_top_docs(topic=0)"
   ]
  },
  {
   "cell_type": "markdown",
   "metadata": {},
   "source": [
    "# CorEx Model 12 - 10 topics and CountVectorizer and max_df = .7 and min_df= .01 and n-grams = 2 and one anchored topic"
   ]
  },
  {
   "cell_type": "code",
   "execution_count": 270,
   "metadata": {},
   "outputs": [],
   "source": [
    "# anchor one word to the first topic\n",
    "anchor_words = ['marry']\n",
    "\n",
    "# anchor the word 'marry' to the first topic\n",
    "topic_model_12 = ct.Corex(n_hidden=10, seed=1)\n",
    "topic_model_12.fit(doc_word, words=words, docs=modern_love_df_rev['essay_rev_2'], \\\n",
    "                   anchors=anchor_words, anchor_strength=6);"
   ]
  },
  {
   "cell_type": "code",
   "execution_count": 271,
   "metadata": {},
   "outputs": [
    {
     "name": "stdout",
     "output_type": "stream",
     "text": [
      "0: marry,life,find,people,start,talk,new,woman,begin,maybe\n",
      "1: try,hard,bad,sign,wonder,write,run,young,ago,line\n",
      "2: way,friend,home,room,family,stand,watch,change,close,child\n",
      "3: letter,sign love letter,letter weekly,love letter weekly,letter weekly email,weekly email,sign love,love letter,weekly,email\n",
      "4: away,hand,walk,course,imagine,drive,small,fear,sleep,easy\n",
      "5: leave,need,right,week,hear,little,head,early,believe,sure\n",
      "6: window,foot,baby,hospital,slow,road,tiny,park,brother,bright\n",
      "7: look,day,end,month,place,later,kind,sit,face,hold\n",
      "8: good,work,turn,let,night,spend,fact,point,hour,stay\n",
      "9: time,come,feel,long,man,live,relationship,happen,mean,finally\n"
     ]
    }
   ],
   "source": [
    "topics = topic_model_12.get_topics()\n",
    "for n,topic in enumerate(topics):\n",
    "    topic_words,_,_ = zip(*topic)\n",
    "    print('{}: '.format(n) + ','.join(topic_words))"
   ]
  },
  {
   "cell_type": "markdown",
   "metadata": {},
   "source": [
    "# CorEx Model 13 - remove more stopwords"
   ]
  },
  {
   "cell_type": "code",
   "execution_count": 336,
   "metadata": {},
   "outputs": [],
   "source": [
    "more_tokens_to_remove = {'man','woman','person','people','relationship','feel'}\n",
    "sw_spacy.update(more_tokens_to_remove)"
   ]
  },
  {
   "cell_type": "code",
   "execution_count": 337,
   "metadata": {},
   "outputs": [
    {
     "name": "stderr",
     "output_type": "stream",
     "text": [
      "<ipython-input-337-8b3d8bea7125>:2: SettingWithCopyWarning: \n",
      "A value is trying to be set on a copy of a slice from a DataFrame.\n",
      "Try using .loc[row_indexer,col_indexer] = value instead\n",
      "\n",
      "See the caveats in the documentation: https://pandas.pydata.org/pandas-docs/stable/user_guide/indexing.html#returning-a-view-versus-a-copy\n",
      "  modern_love_df_rev['essay_rev_3'] = [' '.join(map(str, l)) for l in docs_2_clean_2]\n"
     ]
    }
   ],
   "source": [
    "docs_2_clean_2 = [[token for token in doc if token.text not in sw_spacy] for doc in docs_2]\n",
    "modern_love_df_rev['essay_rev_3'] = [' '.join(map(str, l)) for l in docs_2_clean_2]"
   ]
  },
  {
   "cell_type": "code",
   "execution_count": 371,
   "metadata": {},
   "outputs": [
    {
     "name": "stdout",
     "output_type": "stream",
     "text": [
      "(1504, 5796)\n"
     ]
    }
   ],
   "source": [
    "vectorizer = CountVectorizer(max_features=20000, binary=True, max_df=.8, min_df=.005)\n",
    "\n",
    "doc_word = vectorizer.fit_transform(modern_love_df_rev['essay_rev_3'])\n",
    "doc_word = ss.csr_matrix(doc_word)\n",
    "\n",
    "print(doc_word.shape)\n",
    "\n",
    "words = list(np.asarray(vectorizer.get_feature_names()))"
   ]
  },
  {
   "cell_type": "code",
   "execution_count": 390,
   "metadata": {},
   "outputs": [],
   "source": [
    "topic_model_13 = ct.Corex(n_hidden=5, seed=1)\n",
    "topic_model_13.fit(doc_word, words=words, docs=modern_love_df_rev['essay_rev_3'], \\\n",
    "                   anchors=anchor_words, anchor_strength=2);"
   ]
  },
  {
   "cell_type": "code",
   "execution_count": 391,
   "metadata": {},
   "outputs": [
    {
     "name": "stdout",
     "output_type": "stream",
     "text": [
      "0: time,way,come,long,life,find,look,good,try,friend\n",
      "1: day,live,week,place,hand,hear,sit,head,hold,year\n",
      "2: buy,table,mail,decade,town,graduate,blue,support,form,view\n",
      "3: home,night,hard,family,instead,word,lose,course,explain,high\n",
      "4: finally,marriage,send,husband,wife,expect,message,nice,term,sex\n"
     ]
    }
   ],
   "source": [
    "topics = topic_model_13.get_topics()\n",
    "for n,topic in enumerate(topics):\n",
    "    topic_words,_,_ = zip(*topic)\n",
    "    print('{}: '.format(n) + ','.join(topic_words))"
   ]
  },
  {
   "cell_type": "code",
   "execution_count": 392,
   "metadata": {},
   "outputs": [
    {
     "name": "stdout",
     "output_type": "stream",
     "text": [
      "[27.89178675 16.00656831 17.3941484  15.38456016 16.98599933]\n",
      "93.6630629430795\n"
     ]
    }
   ],
   "source": [
    "print(topic_model_13.tcs)\n",
    "print(topic_model_13.tc)"
   ]
  },
  {
   "cell_type": "markdown",
   "metadata": {},
   "source": [
    "# CorEx Model 14 - add more anchors"
   ]
  },
  {
   "cell_type": "code",
   "execution_count": 387,
   "metadata": {},
   "outputs": [],
   "source": [
    "anchor_words = ['hospital']\n",
    "\n",
    "topic_model_14 = ct.Corex(n_hidden=8, seed=1)\n",
    "topic_model_14.fit(doc_word, words=words, docs=modern_love_df_rev['essay_rev_3'], \\\n",
    "                   anchors=anchor_words, anchor_strength=6);"
   ]
  },
  {
   "cell_type": "code",
   "execution_count": 388,
   "metadata": {},
   "outputs": [
    {
     "name": "stdout",
     "output_type": "stream",
     "text": [
      "0: time,way,come,long,life,find,look,try,turn,need\n",
      "1: new,family,old,learn,plan,share,grow,able,marriage,inside\n",
      "2: home,begin,walk,watch,help,return,understand,door,late,car\n",
      "3: writer,encounter,accord,tale,account,holiday,crisis,explanation,garden,cute\n",
      "4: good,leave,work,start,right,away,week,let,night,hear\n",
      "5: day,friend,place,sit,early,finally,fact,stand,stay,phone\n",
      "6: room,meet,spend,open,run,school,buy,remember,easy,sound\n",
      "7: window,daughter,nurse,birth,pregnant,sun,paint,wood,toy,gray\n"
     ]
    }
   ],
   "source": [
    "topics = topic_model_14.get_topics()\n",
    "for n,topic in enumerate(topics):\n",
    "    topic_words,_,_ = zip(*topic)\n",
    "    print('{}: '.format(n) + ','.join(topic_words))"
   ]
  },
  {
   "cell_type": "code",
   "execution_count": 389,
   "metadata": {},
   "outputs": [
    {
     "name": "stdout",
     "output_type": "stream",
     "text": [
      "[14.90851715  7.60201598 29.54186906  3.11007085 13.18148948  9.74396495\n",
      " 11.259201    4.81889542]\n",
      "94.16602388097101\n"
     ]
    }
   ],
   "source": [
    "print(topic_model_14.tcs)\n",
    "print(topic_model_14.tc)"
   ]
  },
  {
   "cell_type": "markdown",
   "metadata": {},
   "source": [
    "Create custom factory to add to spacy pipeline to remove entities whose labels are 'PERSON'"
   ]
  },
  {
   "cell_type": "code",
   "execution_count": 76,
   "metadata": {},
   "outputs": [],
   "source": [
    "#@Language.component('person_removal')\n",
    "#def person_removal(doc):\n",
    "#    ents = list(doc.ents)\n",
    "   # for ent in ents:\n",
    "   #     if ent.label_ == 'PERSON':\n",
    "    #        ents.remove(ent)\n",
    "   # ents = tuple(ents)\n",
    "  #  doc.ents = ents\n",
    "   # return (doc)\n",
    "#Language.component(\"person_removal\", func=person_removal)"
   ]
  },
  {
   "cell_type": "code",
   "execution_count": 77,
   "metadata": {},
   "outputs": [],
   "source": [
    "#nlp.add_pipe('person_removal')"
   ]
  },
  {
   "cell_type": "code",
   "execution_count": 78,
   "metadata": {},
   "outputs": [],
   "source": [
    "#print(nlp.pipe_names)"
   ]
  },
  {
   "cell_type": "markdown",
   "metadata": {},
   "source": [
    "Add some words to the stop words list to be removed from the corpus"
   ]
  },
  {
   "cell_type": "code",
   "execution_count": 87,
   "metadata": {},
   "outputs": [],
   "source": [
    "sw_spacy = nlp.Defaults.stop_words\n",
    "\n",
    "# verbs and a noun from top 50 tokens to remove\n",
    "top_tokens_to_remove = {'relationship', 'say', 'love', 'know', 'like', 'want', 'feel', 'think', 'tell', 'go', 'ask', 'look','come'}\n",
    "sw_spacy.update(top_tokens_to_remove)\n",
    "\n",
    "# bottom 20 tokens to remove\n",
    "\n",
    "twenty_least_common = word_freq.most_common()[-20:]\n",
    "bottom_tokens_to_remove = set([a_tuple[0] for a_tuple in twenty_least_common])\n",
    "sw_spacy.update(bottom_tokens_to_remove)"
   ]
  },
  {
   "cell_type": "markdown",
   "metadata": {},
   "source": [
    "Apply updated stop words list to tokens"
   ]
  },
  {
   "cell_type": "code",
   "execution_count": 91,
   "metadata": {},
   "outputs": [
    {
     "name": "stderr",
     "output_type": "stream",
     "text": [
      "<ipython-input-91-d9a1a52d80ab>:2: SettingWithCopyWarning: \n",
      "A value is trying to be set on a copy of a slice from a DataFrame.\n",
      "Try using .loc[row_indexer,col_indexer] = value instead\n",
      "\n",
      "See the caveats in the documentation: https://pandas.pydata.org/pandas-docs/stable/user_guide/indexing.html#returning-a-view-versus-a-copy\n",
      "  modern_love_df_rev['essay_fewer_stopwords'] = docs_clean_2\n"
     ]
    }
   ],
   "source": [
    "docs_clean_2 = [[w for w in doc if w not in sw_spacy] for doc in docs_clean]\n",
    "modern_love_df_rev['essay_fewer_stopwords'] = docs_clean_2"
   ]
  },
  {
   "cell_type": "code",
   "execution_count": 93,
   "metadata": {},
   "outputs": [
    {
     "data": {
      "text/html": [
       "<div>\n",
       "<style scoped>\n",
       "    .dataframe tbody tr th:only-of-type {\n",
       "        vertical-align: middle;\n",
       "    }\n",
       "\n",
       "    .dataframe tbody tr th {\n",
       "        vertical-align: top;\n",
       "    }\n",
       "\n",
       "    .dataframe thead th {\n",
       "        text-align: right;\n",
       "    }\n",
       "</style>\n",
       "<table border=\"1\" class=\"dataframe\">\n",
       "  <thead>\n",
       "    <tr style=\"text-align: right;\">\n",
       "      <th></th>\n",
       "      <th>essay_clean</th>\n",
       "      <th>essay_fewer_stopwords</th>\n",
       "    </tr>\n",
       "  </thead>\n",
       "  <tbody>\n",
       "    <tr>\n",
       "      <th>0</th>\n",
       "      <td>[day, leave, south, dakota, rex, sit, talk, beneath, open, hatchback, car, distance, lightning, storm, move, open, expanse, great, plains, churn, sky, murky, purple, talk, passionately, lithium, battery, talk, common, consider, interested, especially, attract, person, speak, ask, care, battery, volunteer, pine, ridge, reservation, build, repair, infrastructure, person, greet, arrive, end, long, dirt, road, climb, cab, skid, loader, see, face, body, warm, lyrical, version, happen, storm, approach, stop, talk, take, seriously, pleasure, body, want, baby, date, late, like, poem, like, math, problem, lot, line, look, differ, young, self, envision, care, date, certain, time, baby, love, getting, marry, want, like, biological, father, child, ...]</td>\n",
       "      <td>[day, leave, south, dakota, rex, sit, talk, beneath, open, hatchback, car, distance, lightning, storm, open, expanse, great, plains, churn, sky, murky, purple, talk, passionately, lithium, battery, talk, common, consider, interested, especially, attract, person, speak, care, battery, volunteer, pine, ridge, reservation, build, repair, infrastructure, person, greet, arrive, end, long, dirt, road, climb, cab, skid, loader, face, body, warm, lyrical, version, happen, storm, approach, stop, talk, seriously, pleasure, body, baby, date, late, poem, math, problem, lot, line, differ, young, self, envision, care, date, certain, time, baby, getting, marry, biological, father, child, maybe, admire, arrive, set, criterion, alternative, sentimental, unrealistic, especially, husband, wish, ...]</td>\n",
       "    </tr>\n",
       "    <tr>\n",
       "      <th>2</th>\n",
       "      <td>[peter, hitch, wagon, young, early, wildly, handsome, gay, soulful, brown, eye, head, loose, unruly, curl, raise, african, american, woman, white, preacher, man, peter, spend, childhood, steep, evangelical, ministry, terrified, father, sermon, soothe, mother, inclination, administer, human, aspect, congregation, lead, night, meet, peter, fall, way, love, kismet, laugh, word, time, nuyorican, poets, cafe, premier, debut, joint, performance, poet, try, new, york, city, poetry, scene, read, piece, open, mic, slam, peter, admirer, way, applauding, crowd, tell, simultaneously, embody, fury, father, vulnerability, mother, destine, true, love, ask, fate, fix, say, god, leave, room, surprise, time, meet, fall, peter, parent, long, divorced, father, leave, ...]</td>\n",
       "      <td>[peter, hitch, wagon, young, early, wildly, handsome, gay, soulful, brown, eye, head, loose, unruly, curl, raise, african, american, woman, white, preacher, man, peter, spend, childhood, steep, evangelical, ministry, terrified, father, sermon, soothe, mother, inclination, administer, human, aspect, congregation, lead, night, meet, peter, fall, way, kismet, laugh, word, time, nuyorican, poets, cafe, premier, debut, joint, performance, poet, try, new, york, city, poetry, scene, read, piece, open, mic, slam, peter, admirer, way, applauding, crowd, simultaneously, embody, fury, father, vulnerability, mother, destine, true, fate, fix, god, leave, room, surprise, time, meet, fall, peter, parent, long, divorced, father, leave, church, peter, explore, truth, believe, ...]</td>\n",
       "    </tr>\n",
       "  </tbody>\n",
       "</table>\n",
       "</div>"
      ],
      "text/plain": [
       "                                                                                                                                                                                                                                                                                                                                                                                                                                                                                                                                                                                                                                                                                                                                                                                  essay_clean  \\\n",
       "0  [day, leave, south, dakota, rex, sit, talk, beneath, open, hatchback, car, distance, lightning, storm, move, open, expanse, great, plains, churn, sky, murky, purple, talk, passionately, lithium, battery, talk, common, consider, interested, especially, attract, person, speak, ask, care, battery, volunteer, pine, ridge, reservation, build, repair, infrastructure, person, greet, arrive, end, long, dirt, road, climb, cab, skid, loader, see, face, body, warm, lyrical, version, happen, storm, approach, stop, talk, take, seriously, pleasure, body, want, baby, date, late, like, poem, like, math, problem, lot, line, look, differ, young, self, envision, care, date, certain, time, baby, love, getting, marry, want, like, biological, father, child, ...]               \n",
       "2  [peter, hitch, wagon, young, early, wildly, handsome, gay, soulful, brown, eye, head, loose, unruly, curl, raise, african, american, woman, white, preacher, man, peter, spend, childhood, steep, evangelical, ministry, terrified, father, sermon, soothe, mother, inclination, administer, human, aspect, congregation, lead, night, meet, peter, fall, way, love, kismet, laugh, word, time, nuyorican, poets, cafe, premier, debut, joint, performance, poet, try, new, york, city, poetry, scene, read, piece, open, mic, slam, peter, admirer, way, applauding, crowd, tell, simultaneously, embody, fury, father, vulnerability, mother, destine, true, love, ask, fate, fix, say, god, leave, room, surprise, time, meet, fall, peter, parent, long, divorced, father, leave, ...]   \n",
       "\n",
       "                                                                                                                                                                                                                                                                                                                                                                                                                                                                                                                                                                                                                                                                                                                                                                                                     essay_fewer_stopwords  \n",
       "0  [day, leave, south, dakota, rex, sit, talk, beneath, open, hatchback, car, distance, lightning, storm, open, expanse, great, plains, churn, sky, murky, purple, talk, passionately, lithium, battery, talk, common, consider, interested, especially, attract, person, speak, care, battery, volunteer, pine, ridge, reservation, build, repair, infrastructure, person, greet, arrive, end, long, dirt, road, climb, cab, skid, loader, face, body, warm, lyrical, version, happen, storm, approach, stop, talk, seriously, pleasure, body, baby, date, late, poem, math, problem, lot, line, differ, young, self, envision, care, date, certain, time, baby, getting, marry, biological, father, child, maybe, admire, arrive, set, criterion, alternative, sentimental, unrealistic, especially, husband, wish, ...]  \n",
       "2  [peter, hitch, wagon, young, early, wildly, handsome, gay, soulful, brown, eye, head, loose, unruly, curl, raise, african, american, woman, white, preacher, man, peter, spend, childhood, steep, evangelical, ministry, terrified, father, sermon, soothe, mother, inclination, administer, human, aspect, congregation, lead, night, meet, peter, fall, way, kismet, laugh, word, time, nuyorican, poets, cafe, premier, debut, joint, performance, poet, try, new, york, city, poetry, scene, read, piece, open, mic, slam, peter, admirer, way, applauding, crowd, simultaneously, embody, fury, father, vulnerability, mother, destine, true, fate, fix, god, leave, room, surprise, time, meet, fall, peter, parent, long, divorced, father, leave, church, peter, explore, truth, believe, ...]                   "
      ]
     },
     "execution_count": 93,
     "metadata": {},
     "output_type": "execute_result"
    }
   ],
   "source": [
    "modern_love_df_rev[['essay_clean','essay_fewer_stopwords']].head(2)"
   ]
  },
  {
   "cell_type": "markdown",
   "metadata": {},
   "source": [
    "The below cell did run"
   ]
  },
  {
   "cell_type": "code",
   "execution_count": 33,
   "metadata": {},
   "outputs": [],
   "source": [
    "# tokenization into words and parts of speech tagging\n",
    "\n",
    "#from nltk.tokenize import word_tokenize, sent_tokenize\n",
    "#from nltk.tag import pos_tag\n",
    "\n",
    "#tokens = [pos_tag(word_tokenize(row)) for row in modern_love_df['essay']] # labels each word as a part of speech"
   ]
  },
  {
   "cell_type": "markdown",
   "metadata": {},
   "source": [
    "The below cell ran but took a while to do so"
   ]
  },
  {
   "cell_type": "code",
   "execution_count": null,
   "metadata": {},
   "outputs": [],
   "source": [
    "# named entity recognition\n",
    "\n",
    "#from nltk.chunk import ne_chunk\n",
    "\n",
    "#entities = [ne_chunk(token) for token in tokens] # this extracts entities from the list of words\n",
    "#entities.draw()"
   ]
  },
  {
   "cell_type": "markdown",
   "metadata": {},
   "source": [
    "The below cell did run"
   ]
  },
  {
   "cell_type": "code",
   "execution_count": 22,
   "metadata": {},
   "outputs": [],
   "source": [
    "# Import module\n",
    "#from nltk.tokenize import RegexpTokenizer\n",
    "#from nltk.tag import pos_tag\n",
    "\n",
    "# Create an instance of RegexpTokenizer for alphanumeric tokens\n",
    "#tokeniser = RegexpTokenizer(r'\\w+')\n",
    "\n",
    "# Tokenize text and tag parts of speech\n",
    "#tokens = [pos_tag(tokeniser.tokenize(row)) for row in modern_love_df['essay']] # labels each word as a part of speech"
   ]
  },
  {
   "cell_type": "markdown",
   "metadata": {},
   "source": [
    "The below cell didn't work for me"
   ]
  },
  {
   "cell_type": "code",
   "execution_count": 40,
   "metadata": {},
   "outputs": [],
   "source": [
    "# function to remove tuples in tokens that contain 'NNP' or 'NNPS'\n",
    "\n",
    "#def remove_items(lst, item):\n",
    "    #r = []\n",
    "    #for i in lst:\n",
    "       # if isinstance(i, list):\n",
    "        #    r.append(remove_items(i, item))\n",
    "       # elif item not in i:\n",
    "         #   r.append(i)\n",
    "   # return r"
   ]
  },
  {
   "cell_type": "code",
   "execution_count": 41,
   "metadata": {},
   "outputs": [],
   "source": [
    "# remove proper nouns from tokenized text\n",
    "#tokens_rev = remove_items(tokens,'NNP')\n",
    "#tokens_rev = remove_items(tokens,'NNPS')"
   ]
  },
  {
   "cell_type": "markdown",
   "metadata": {},
   "source": [
    "The below cell didn't work for me"
   ]
  },
  {
   "cell_type": "code",
   "execution_count": 43,
   "metadata": {},
   "outputs": [],
   "source": [
    "#def filter_nnp_nnps(x):\n",
    "  #  return [(u,v) for (u,v) in x if (v !='NNP') | (v != 'NNPS')]\n",
    "\n",
    "#tokens_rev = [filter_nnp_nnps(sub_list) for sub_list in tokens]"
   ]
  },
  {
   "cell_type": "markdown",
   "metadata": {},
   "source": [
    "The below cell works"
   ]
  },
  {
   "cell_type": "code",
   "execution_count": 30,
   "metadata": {},
   "outputs": [],
   "source": [
    "# remove numbers and punctuation in essay column\n",
    "    # used this resource: https://datagy.io/python-remove-punctuation-from-string/\n",
    "\n",
    "#alphanumeric = lambda x: re.sub('[^a-zA-Z]', ' ', str(x)) # removes numbers\n",
    "#punc_lower = lambda x: re.sub(r'[^\\w\\s]', ' ',str(x).lower()) # removes punctuation and makes all letters lowercase\n",
    "\n",
    "#modern_love_df_rev['essay_rev'] = modern_love_df_rev.essay.map(alphanumeric).map(punc_lower)"
   ]
  },
  {
   "cell_type": "code",
   "execution_count": 31,
   "metadata": {},
   "outputs": [
    {
     "data": {
      "text/plain": [
       "'\\nLoad NLTK\\'s English stopwords as well as its stemmer, then define:\\n* tokenize_and_stem: to tokenize into sentences, then words, \\n  and return the stems of the words;\\n* tokenize_only: to only tokenize\\n\\nAlso create a stemmed version of the list of stopwords.  Note that the order \\nof operations matters: (filter,stem) is not the same as (stem,filter), where \"filter\"\\nmeans \"remove stopwords\" in the first case and \"remove stemmed stopwords\" in the \\nsecond.  For example, the word \"willing\" is not a stopword, but its stem \"will\" is.  \\nThus, the order (stem,filter) tends to eliminate more tokens than (filter,stem).\\n\\nFinally, create a dictionary that allows us to go back from stem to word (a one-to-many \\nrelationship that we arbitrarily reduce to a one-to-one relationship to facilitate \\ninterpretation of results later.)\\n'"
      ]
     },
     "execution_count": 31,
     "metadata": {},
     "output_type": "execute_result"
    }
   ],
   "source": [
    "# the below code and text came from here: https://github.com/LucDemortier/MachineLearningWithTweets/blob/master/YogaTweetAnalysis.ipynb\n",
    "'''\n",
    "Load NLTK's English stopwords as well as its stemmer, then define:\n",
    "* tokenize_and_stem: to tokenize into sentences, then words, \n",
    "  and return the stems of the words;\n",
    "* tokenize_only: to only tokenize\n",
    "\n",
    "Also create a stemmed version of the list of stopwords.  Note that the order \n",
    "of operations matters: (filter,stem) is not the same as (stem,filter), where \"filter\"\n",
    "means \"remove stopwords\" in the first case and \"remove stemmed stopwords\" in the \n",
    "second.  For example, the word \"willing\" is not a stopword, but its stem \"will\" is.  \n",
    "Thus, the order (stem,filter) tends to eliminate more tokens than (filter,stem).\n",
    "\n",
    "Finally, create a dictionary that allows us to go back from stem to word (a one-to-many \n",
    "relationship that we arbitrarily reduce to a one-to-one relationship to facilitate \n",
    "interpretation of results later.)\n",
    "'''\n",
    "#import nltk\n",
    "#from   nltk.stem.snowball import SnowballStemmer\n",
    "#from   more_itertools import unique_everseen\n",
    "\n",
    "#stopwords = nltk.corpus.stopwords.words('english')\n",
    "#stopwords.append(\"'ve\")\n",
    "#stopwords.append(\"'re\")\n",
    "#more_stopwords = [\"'d\", 'could', 'might', 'must', \"n't\", 'need', 'r', 'sha', 'v', 'wo', 'would']\n",
    "#stopwords.extend(more_stopwords)\n",
    "#print('Stop words (%i): \\n%s\\n' %(len(stopwords),[str(word) for word in stopwords]))\n",
    "\n",
    "#stemmer           = SnowballStemmer(\"english\")\n",
    "#stemmed_stopwords = list(unique_everseen([stemmer.stem(word) for word in stopwords]))\n",
    "#print('Stemmed stop words (%i): \\n%s\\n' %(len(stemmed_stopwords),[str(word) for word in stemmed_stopwords]))\n",
    "\n",
    "#alphanumeric = lambda x: re.sub('[^a-zA-Z]', ' ', str(x)) # removes numbers\n",
    "#punc_lower = lambda x: re.sub(r'[^\\w\\s]', ' ',str(x).lower()) # removes punctuation and makes all letters lowercase\n",
    "\n",
    "#def tokenize_and_stem(text):\n",
    "    \n",
    "    #tokens = [word.lower() for sent in nltk.sent_tokenize(text) for word in nltk.word_tokenize(sent)]\n",
    "   # stems = [stemmer.stem(t) for t in tokens]\n",
    "    #return stems\n",
    "\n",
    "#def tokenize_only(text):\n",
    "\n",
    "  #  tokens = [word.lower() for sent in nltk.sent_tokenize(text) for word in nltk.word_tokenize(sent)]\n",
    "   # return tokens"
   ]
  },
  {
   "cell_type": "markdown",
   "metadata": {},
   "source": [
    "# Document similiarity: vectorize"
   ]
  },
  {
   "cell_type": "code",
   "execution_count": 100,
   "metadata": {},
   "outputs": [],
   "source": [
    "# define corpus\n",
    "\n",
    "docs_list_clean = [' '.join(doc) for doc in docs_clean_2]\n",
    "corpus = docs_list_clean"
   ]
  },
  {
   "cell_type": "code",
   "execution_count": 101,
   "metadata": {},
   "outputs": [
    {
     "data": {
      "text/html": [
       "<div>\n",
       "<style scoped>\n",
       "    .dataframe tbody tr th:only-of-type {\n",
       "        vertical-align: middle;\n",
       "    }\n",
       "\n",
       "    .dataframe tbody tr th {\n",
       "        vertical-align: top;\n",
       "    }\n",
       "\n",
       "    .dataframe thead th {\n",
       "        text-align: right;\n",
       "    }\n",
       "</style>\n",
       "<table border=\"1\" class=\"dataframe\">\n",
       "  <thead>\n",
       "    <tr style=\"text-align: right;\">\n",
       "      <th></th>\n",
       "      <th>abandon</th>\n",
       "      <th>abide</th>\n",
       "      <th>ability</th>\n",
       "      <th>able</th>\n",
       "      <th>abroad</th>\n",
       "      <th>abruptly</th>\n",
       "      <th>absence</th>\n",
       "      <th>absent</th>\n",
       "      <th>absolutely</th>\n",
       "      <th>absorb</th>\n",
       "      <th>...</th>\n",
       "      <th>young</th>\n",
       "      <th>young brother</th>\n",
       "      <th>young child</th>\n",
       "      <th>young girl</th>\n",
       "      <th>young man</th>\n",
       "      <th>young sister</th>\n",
       "      <th>young woman</th>\n",
       "      <th>youth</th>\n",
       "      <th>zone</th>\n",
       "      <th>zoom</th>\n",
       "    </tr>\n",
       "  </thead>\n",
       "  <tbody>\n",
       "    <tr>\n",
       "      <th>0</th>\n",
       "      <td>0.000000</td>\n",
       "      <td>0.0</td>\n",
       "      <td>0.000000</td>\n",
       "      <td>0.050780</td>\n",
       "      <td>0.0</td>\n",
       "      <td>0.0</td>\n",
       "      <td>0.039439</td>\n",
       "      <td>0.0</td>\n",
       "      <td>0.000000</td>\n",
       "      <td>0.0</td>\n",
       "      <td>...</td>\n",
       "      <td>0.022051</td>\n",
       "      <td>0.000000</td>\n",
       "      <td>0.0</td>\n",
       "      <td>0.0</td>\n",
       "      <td>0.0</td>\n",
       "      <td>0.0</td>\n",
       "      <td>0.0</td>\n",
       "      <td>0.0</td>\n",
       "      <td>0.0</td>\n",
       "      <td>0.0</td>\n",
       "    </tr>\n",
       "    <tr>\n",
       "      <th>1</th>\n",
       "      <td>0.040593</td>\n",
       "      <td>0.0</td>\n",
       "      <td>0.037210</td>\n",
       "      <td>0.026029</td>\n",
       "      <td>0.0</td>\n",
       "      <td>0.0</td>\n",
       "      <td>0.000000</td>\n",
       "      <td>0.0</td>\n",
       "      <td>0.043847</td>\n",
       "      <td>0.0</td>\n",
       "      <td>...</td>\n",
       "      <td>0.067819</td>\n",
       "      <td>0.050952</td>\n",
       "      <td>0.0</td>\n",
       "      <td>0.0</td>\n",
       "      <td>0.0</td>\n",
       "      <td>0.0</td>\n",
       "      <td>0.0</td>\n",
       "      <td>0.0</td>\n",
       "      <td>0.0</td>\n",
       "      <td>0.0</td>\n",
       "    </tr>\n",
       "    <tr>\n",
       "      <th>2</th>\n",
       "      <td>0.000000</td>\n",
       "      <td>0.0</td>\n",
       "      <td>0.000000</td>\n",
       "      <td>0.000000</td>\n",
       "      <td>0.0</td>\n",
       "      <td>0.0</td>\n",
       "      <td>0.000000</td>\n",
       "      <td>0.0</td>\n",
       "      <td>0.000000</td>\n",
       "      <td>0.0</td>\n",
       "      <td>...</td>\n",
       "      <td>0.058661</td>\n",
       "      <td>0.066108</td>\n",
       "      <td>0.0</td>\n",
       "      <td>0.0</td>\n",
       "      <td>0.0</td>\n",
       "      <td>0.0</td>\n",
       "      <td>0.0</td>\n",
       "      <td>0.0</td>\n",
       "      <td>0.0</td>\n",
       "      <td>0.0</td>\n",
       "    </tr>\n",
       "    <tr>\n",
       "      <th>3</th>\n",
       "      <td>0.000000</td>\n",
       "      <td>0.0</td>\n",
       "      <td>0.000000</td>\n",
       "      <td>0.000000</td>\n",
       "      <td>0.0</td>\n",
       "      <td>0.0</td>\n",
       "      <td>0.000000</td>\n",
       "      <td>0.0</td>\n",
       "      <td>0.000000</td>\n",
       "      <td>0.0</td>\n",
       "      <td>...</td>\n",
       "      <td>0.000000</td>\n",
       "      <td>0.000000</td>\n",
       "      <td>0.0</td>\n",
       "      <td>0.0</td>\n",
       "      <td>0.0</td>\n",
       "      <td>0.0</td>\n",
       "      <td>0.0</td>\n",
       "      <td>0.0</td>\n",
       "      <td>0.0</td>\n",
       "      <td>0.0</td>\n",
       "    </tr>\n",
       "    <tr>\n",
       "      <th>4</th>\n",
       "      <td>0.038088</td>\n",
       "      <td>0.0</td>\n",
       "      <td>0.034913</td>\n",
       "      <td>0.073267</td>\n",
       "      <td>0.0</td>\n",
       "      <td>0.0</td>\n",
       "      <td>0.000000</td>\n",
       "      <td>0.0</td>\n",
       "      <td>0.000000</td>\n",
       "      <td>0.0</td>\n",
       "      <td>...</td>\n",
       "      <td>0.000000</td>\n",
       "      <td>0.000000</td>\n",
       "      <td>0.0</td>\n",
       "      <td>0.0</td>\n",
       "      <td>0.0</td>\n",
       "      <td>0.0</td>\n",
       "      <td>0.0</td>\n",
       "      <td>0.0</td>\n",
       "      <td>0.0</td>\n",
       "      <td>0.0</td>\n",
       "    </tr>\n",
       "    <tr>\n",
       "      <th>...</th>\n",
       "      <td>...</td>\n",
       "      <td>...</td>\n",
       "      <td>...</td>\n",
       "      <td>...</td>\n",
       "      <td>...</td>\n",
       "      <td>...</td>\n",
       "      <td>...</td>\n",
       "      <td>...</td>\n",
       "      <td>...</td>\n",
       "      <td>...</td>\n",
       "      <td>...</td>\n",
       "      <td>...</td>\n",
       "      <td>...</td>\n",
       "      <td>...</td>\n",
       "      <td>...</td>\n",
       "      <td>...</td>\n",
       "      <td>...</td>\n",
       "      <td>...</td>\n",
       "      <td>...</td>\n",
       "      <td>...</td>\n",
       "      <td>...</td>\n",
       "    </tr>\n",
       "    <tr>\n",
       "      <th>1499</th>\n",
       "      <td>0.000000</td>\n",
       "      <td>0.0</td>\n",
       "      <td>0.000000</td>\n",
       "      <td>0.000000</td>\n",
       "      <td>0.0</td>\n",
       "      <td>0.0</td>\n",
       "      <td>0.000000</td>\n",
       "      <td>0.0</td>\n",
       "      <td>0.000000</td>\n",
       "      <td>0.0</td>\n",
       "      <td>...</td>\n",
       "      <td>0.000000</td>\n",
       "      <td>0.000000</td>\n",
       "      <td>0.0</td>\n",
       "      <td>0.0</td>\n",
       "      <td>0.0</td>\n",
       "      <td>0.0</td>\n",
       "      <td>0.0</td>\n",
       "      <td>0.0</td>\n",
       "      <td>0.0</td>\n",
       "      <td>0.0</td>\n",
       "    </tr>\n",
       "    <tr>\n",
       "      <th>1500</th>\n",
       "      <td>0.000000</td>\n",
       "      <td>0.0</td>\n",
       "      <td>0.000000</td>\n",
       "      <td>0.000000</td>\n",
       "      <td>0.0</td>\n",
       "      <td>0.0</td>\n",
       "      <td>0.000000</td>\n",
       "      <td>0.0</td>\n",
       "      <td>0.000000</td>\n",
       "      <td>0.0</td>\n",
       "      <td>...</td>\n",
       "      <td>0.125728</td>\n",
       "      <td>0.000000</td>\n",
       "      <td>0.0</td>\n",
       "      <td>0.0</td>\n",
       "      <td>0.0</td>\n",
       "      <td>0.0</td>\n",
       "      <td>0.0</td>\n",
       "      <td>0.0</td>\n",
       "      <td>0.0</td>\n",
       "      <td>0.0</td>\n",
       "    </tr>\n",
       "    <tr>\n",
       "      <th>1501</th>\n",
       "      <td>0.000000</td>\n",
       "      <td>0.0</td>\n",
       "      <td>0.000000</td>\n",
       "      <td>0.000000</td>\n",
       "      <td>0.0</td>\n",
       "      <td>0.0</td>\n",
       "      <td>0.000000</td>\n",
       "      <td>0.0</td>\n",
       "      <td>0.000000</td>\n",
       "      <td>0.0</td>\n",
       "      <td>...</td>\n",
       "      <td>0.000000</td>\n",
       "      <td>0.000000</td>\n",
       "      <td>0.0</td>\n",
       "      <td>0.0</td>\n",
       "      <td>0.0</td>\n",
       "      <td>0.0</td>\n",
       "      <td>0.0</td>\n",
       "      <td>0.0</td>\n",
       "      <td>0.0</td>\n",
       "      <td>0.0</td>\n",
       "    </tr>\n",
       "    <tr>\n",
       "      <th>1502</th>\n",
       "      <td>0.000000</td>\n",
       "      <td>0.0</td>\n",
       "      <td>0.000000</td>\n",
       "      <td>0.000000</td>\n",
       "      <td>0.0</td>\n",
       "      <td>0.0</td>\n",
       "      <td>0.000000</td>\n",
       "      <td>0.0</td>\n",
       "      <td>0.000000</td>\n",
       "      <td>0.0</td>\n",
       "      <td>...</td>\n",
       "      <td>0.000000</td>\n",
       "      <td>0.000000</td>\n",
       "      <td>0.0</td>\n",
       "      <td>0.0</td>\n",
       "      <td>0.0</td>\n",
       "      <td>0.0</td>\n",
       "      <td>0.0</td>\n",
       "      <td>0.0</td>\n",
       "      <td>0.0</td>\n",
       "      <td>0.0</td>\n",
       "    </tr>\n",
       "    <tr>\n",
       "      <th>1503</th>\n",
       "      <td>0.000000</td>\n",
       "      <td>0.0</td>\n",
       "      <td>0.000000</td>\n",
       "      <td>0.000000</td>\n",
       "      <td>0.0</td>\n",
       "      <td>0.0</td>\n",
       "      <td>0.000000</td>\n",
       "      <td>0.0</td>\n",
       "      <td>0.000000</td>\n",
       "      <td>0.0</td>\n",
       "      <td>...</td>\n",
       "      <td>0.000000</td>\n",
       "      <td>0.000000</td>\n",
       "      <td>0.0</td>\n",
       "      <td>0.0</td>\n",
       "      <td>0.0</td>\n",
       "      <td>0.0</td>\n",
       "      <td>0.0</td>\n",
       "      <td>0.0</td>\n",
       "      <td>0.0</td>\n",
       "      <td>0.0</td>\n",
       "    </tr>\n",
       "  </tbody>\n",
       "</table>\n",
       "<p>1504 rows × 4060 columns</p>\n",
       "</div>"
      ],
      "text/plain": [
       "       abandon  abide   ability      able  abroad  abruptly   absence  absent  \\\n",
       "0     0.000000  0.0    0.000000  0.050780  0.0     0.0       0.039439  0.0      \n",
       "1     0.040593  0.0    0.037210  0.026029  0.0     0.0       0.000000  0.0      \n",
       "2     0.000000  0.0    0.000000  0.000000  0.0     0.0       0.000000  0.0      \n",
       "3     0.000000  0.0    0.000000  0.000000  0.0     0.0       0.000000  0.0      \n",
       "4     0.038088  0.0    0.034913  0.073267  0.0     0.0       0.000000  0.0      \n",
       "...        ...  ...         ...       ...  ...     ...            ...  ...      \n",
       "1499  0.000000  0.0    0.000000  0.000000  0.0     0.0       0.000000  0.0      \n",
       "1500  0.000000  0.0    0.000000  0.000000  0.0     0.0       0.000000  0.0      \n",
       "1501  0.000000  0.0    0.000000  0.000000  0.0     0.0       0.000000  0.0      \n",
       "1502  0.000000  0.0    0.000000  0.000000  0.0     0.0       0.000000  0.0      \n",
       "1503  0.000000  0.0    0.000000  0.000000  0.0     0.0       0.000000  0.0      \n",
       "\n",
       "      absolutely  absorb  ...     young  young brother  young child  \\\n",
       "0     0.000000    0.0     ...  0.022051  0.000000       0.0           \n",
       "1     0.043847    0.0     ...  0.067819  0.050952       0.0           \n",
       "2     0.000000    0.0     ...  0.058661  0.066108       0.0           \n",
       "3     0.000000    0.0     ...  0.000000  0.000000       0.0           \n",
       "4     0.000000    0.0     ...  0.000000  0.000000       0.0           \n",
       "...        ...    ...     ...       ...       ...       ...           \n",
       "1499  0.000000    0.0     ...  0.000000  0.000000       0.0           \n",
       "1500  0.000000    0.0     ...  0.125728  0.000000       0.0           \n",
       "1501  0.000000    0.0     ...  0.000000  0.000000       0.0           \n",
       "1502  0.000000    0.0     ...  0.000000  0.000000       0.0           \n",
       "1503  0.000000    0.0     ...  0.000000  0.000000       0.0           \n",
       "\n",
       "      young girl  young man  young sister  young woman  youth  zone  zoom  \n",
       "0     0.0         0.0        0.0           0.0          0.0    0.0   0.0   \n",
       "1     0.0         0.0        0.0           0.0          0.0    0.0   0.0   \n",
       "2     0.0         0.0        0.0           0.0          0.0    0.0   0.0   \n",
       "3     0.0         0.0        0.0           0.0          0.0    0.0   0.0   \n",
       "4     0.0         0.0        0.0           0.0          0.0    0.0   0.0   \n",
       "...   ...         ...        ...           ...          ...    ...   ...   \n",
       "1499  0.0         0.0        0.0           0.0          0.0    0.0   0.0   \n",
       "1500  0.0         0.0        0.0           0.0          0.0    0.0   0.0   \n",
       "1501  0.0         0.0        0.0           0.0          0.0    0.0   0.0   \n",
       "1502  0.0         0.0        0.0           0.0          0.0    0.0   0.0   \n",
       "1503  0.0         0.0        0.0           0.0          0.0    0.0   0.0   \n",
       "\n",
       "[1504 rows x 4060 columns]"
      ]
     },
     "execution_count": 101,
     "metadata": {},
     "output_type": "execute_result"
    }
   ],
   "source": [
    "'''\n",
    "Apply tfidf transformation\n",
    "max_df = maximum fraction of documents containing the word, for the word to be included in tfidf matrix\n",
    "min_df = minimum fraction ...\n",
    "ngram_range: We'll look at unigrams, bigrams and trigrams.\n",
    "'''\n",
    "\n",
    "vec_tfidf = TfidfVectorizer(max_df=0.80, min_df=0.01, ngram_range=(1,3))\n",
    "X_tfidf = vec_tfidf.fit_transform(corpus).toarray()\n",
    "pd.DataFrame(X_tfidf, columns=vec_tfidf.get_feature_names())"
   ]
  },
  {
   "cell_type": "markdown",
   "metadata": {},
   "source": [
    "# Make a baseline topic model"
   ]
  },
  {
   "cell_type": "markdown",
   "metadata": {},
   "source": [
    "The below cell works"
   ]
  },
  {
   "cell_type": "code",
   "execution_count": 18,
   "metadata": {},
   "outputs": [],
   "source": [
    "# read in custom stop words\n",
    "#with open('stop_words_english.txt', 'r') as f:\n",
    "    #stopwords_custom = [s.strip() for s in f.readlines()]"
   ]
  },
  {
   "cell_type": "markdown",
   "metadata": {},
   "source": [
    "The below cell works"
   ]
  },
  {
   "cell_type": "code",
   "execution_count": 19,
   "metadata": {},
   "outputs": [],
   "source": [
    "# create function to lemmatize tokens and eliminate stopwords\n",
    "#def lemmatize_and_eliminate(text):\n",
    "    #lemmatizer = WordNetLemmatizer()\n",
    "    #text = [word for word in text.split() if word not in stopwords_custom]\n",
    "    #text = [lemmatizer.lemmatize(word) for word in text]\n",
    "    #return \" \".join(text)"
   ]
  },
  {
   "cell_type": "markdown",
   "metadata": {},
   "source": [
    "The below cell works"
   ]
  },
  {
   "cell_type": "code",
   "execution_count": 26,
   "metadata": {},
   "outputs": [],
   "source": [
    "# lemmatize and remove stop words from corpus\n",
    "#corpus = modern_love_df_rev.essay_rev.map(lambda x: lemmatize_and_eliminate(x))"
   ]
  },
  {
   "cell_type": "code",
   "execution_count": 29,
   "metadata": {},
   "outputs": [
    {
     "data": {
      "text/plain": [
       "linda       0.534776\n",
       "accident    0.197141\n",
       "motel       0.145908\n",
       "car         0.120504\n",
       "bowel       0.119363\n",
       "Name: thursday morning cooking breakfast pajama daughter madeleine helping transferring egg cardboard carton refrigerator egg box pressing button elevator licking cake spoon morning performing duty sleepy devotion whisk asked madeleine throw egg peered curiously work egg nodded break throw madeleine ll catch looked egg small hand reason began carefully inspect shell trifling culinary request egg mixture unscripted moment trust father daughter wanted trust threw delicate save mother died year earlier sudden undiagnosed disorder suspected case marfan syndrome people heard madeleine talk day private nod listen ll share don answer time subtle exchange occurred week making dinner noticed madeleine leafing fashion magazine evening ve marry choked retrieved magazine opened featuring catwalk model blue dress yellow cape circled blue crayon bit snow white answer wasn time disney princess played life night mother died madeleine begged stay watch sleeping beauty sat couch blanket night fact living imagined hundred night simply fake normalcy hope felt madeleine fell asleep film missed prince brings sleeping beauty life kiss return normal wondered fell asleep purpose sleeping beauty daughter asleep lap remembering story war ii heard elderly neighbor grandparent british childhood remembered restaurant paris people beautiful clothes seemingly enjoying fine food wine paris occupied nazi soldier coldest winter memory people passing chic bistro scene unthinkable city social elite sitting luxurious supper cold starving closer revealed truth waiter brought menu patron asked good night wine ordered bottle champagne shouted businessmen black tie lady complimented clothes duration night emerged kitchen water food wine champagne bottle bottle water tray champagne bucket bowl glass night marked absence irreplaceable madeleine life completely father bumbling attempt motherly law live long island unfailingly kind overlook mistake madeleine day day life ve developed kinship time mother question subway supermarket park buy kind mop iron label feed ll tired ethnic diversity york working advice hispanic woman subway cook rice chicken broth buy store brand cereal box cartoon character man thought hide fashion magazine disney inspired couture worried madeleine model supposed woman differently christmas searched single father group craigslist ad wanted madeleine situation girl living father sort community men ala didn response madeleine miracle discovered hannah montana disney life father mother dead don television hannah montana entered life dvd purchased madeleine underground toy smuggling gossip network nursery school madeleine jeremy iron version brideshead revisited annoyed room quietly closed door eventually learned compromise movie night film starring fred astaire ginger rogers watching madeleine started dressing dinner mid meal extending hand dance year eve spent apartment asked black bow tie dinner jacket year countdown began clock internet footage reveler trafalgar square parent calling southwest england madeleine clinked wineglass sparkling apple cider resolution bed hour fast asleep york erupted cheer firework living manufacture kind happiness idea sync reality learning fake year party sew button ve learned day brushing cheek shaving cream madeleine bathroom surprisingly dressed school messy shaver afraid shaving cream dress company madeleine don close laughed realizing characterizes nature adult relationship madeleine smiled heart thought close hardest moment feel losing control night madeleine awake needed bath toilet leaking suspected mouse worried deadly hantavirus madeleine asked hot milk night open refrigerator ve thought dropped overnight pull diaper slowly filling bathtub leaking toilet earlier afternoon amazing time nanny told quitting photography job day worked nanny roommate experienced child discovered fresh direct delivery raoul super minute adjust toilet reported case hantavirus york city madeleine groove wake turn picking restaurant outfit movie crisis minute morning frying bacon drinking coffee scramble madeleine egg single moment craziness bacon turned black triggered smoke alarm egg began welding pan garbage bag tying split open covering slipper day linguine rice pudding fanned smoke detector furiously towel madeleine rushed couch tripped spilled orange juice floor corner kitchen girl covered juice looked father clown charlie chaplin close human life tragic distance funny morning madeleine clutching egg asked throw leaned counter softly throw madeleine promise won break dad quick motion flung single perfect egg father day egg catch great hope daughter trust throw growing heart place egg caught broken, dtype: float64"
      ]
     },
     "execution_count": 29,
     "metadata": {},
     "output_type": "execute_result"
    }
   ],
   "source": [
    "i = 600\n",
    "\n",
    "doc = (pd.Series(name=corpus[i],\n",
    "                data=X_tfidf[i], \n",
    "                index=vec_tfidf.get_feature_names()) \n",
    "        .sort_values(ascending=False))\n",
    "\n",
    "doc.head()"
   ]
  },
  {
   "cell_type": "markdown",
   "metadata": {},
   "source": [
    "# Principal Component Analysis"
   ]
  },
  {
   "cell_type": "code",
   "execution_count": null,
   "metadata": {},
   "outputs": [],
   "source": [
    "# \n",
    "pca = PCA()"
   ]
  }
 ],
 "metadata": {
  "kernelspec": {
   "display_name": "Python 3",
   "language": "python",
   "name": "python3"
  },
  "language_info": {
   "codemirror_mode": {
    "name": "ipython",
    "version": 3
   },
   "file_extension": ".py",
   "mimetype": "text/x-python",
   "name": "python",
   "nbconvert_exporter": "python",
   "pygments_lexer": "ipython3",
   "version": "3.8.3"
  }
 },
 "nbformat": 4,
 "nbformat_minor": 5
}
