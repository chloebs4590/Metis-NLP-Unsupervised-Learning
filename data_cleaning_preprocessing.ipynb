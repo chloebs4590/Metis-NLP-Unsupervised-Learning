{
 "cells": [
  {
   "cell_type": "code",
   "execution_count": 1,
   "metadata": {},
   "outputs": [],
   "source": [
    "reset -fs"
   ]
  },
  {
   "cell_type": "code",
   "execution_count": 2,
   "metadata": {},
   "outputs": [],
   "source": [
    "# import libraries\n",
    "import pandas as pd\n",
    "import numpy as np\n",
    "import re\n",
    "import string\n",
    "import os\n",
    "import matplotlib.pyplot as plt\n",
    "import seaborn as sns\n",
    "\n",
    "from sklearn.feature_extraction.text import TfidfVectorizer, CountVectorizer"
   ]
  },
  {
   "cell_type": "markdown",
   "metadata": {},
   "source": [
    "# Read in data"
   ]
  },
  {
   "cell_type": "code",
   "execution_count": 3,
   "metadata": {},
   "outputs": [],
   "source": [
    "modern_love_df = pd.read_csv('modern_love_df.csv')"
   ]
  },
  {
   "cell_type": "code",
   "execution_count": 4,
   "metadata": {},
   "outputs": [
    {
     "data": {
      "text/plain": [
       "(1615, 12)"
      ]
     },
     "execution_count": 4,
     "metadata": {},
     "output_type": "execute_result"
    }
   ],
   "source": [
    "modern_love_df.shape"
   ]
  },
  {
   "cell_type": "code",
   "execution_count": 5,
   "metadata": {},
   "outputs": [
    {
     "name": "stdout",
     "output_type": "stream",
     "text": [
      "<class 'pandas.core.frame.DataFrame'>\n",
      "RangeIndex: 1615 entries, 0 to 1614\n",
      "Data columns (total 12 columns):\n",
      " #   Column                  Non-Null Count  Dtype \n",
      "---  ------                  --------------  ----- \n",
      " 0   article_url             1615 non-null   object\n",
      " 1   article                 1609 non-null   object\n",
      " 2   article_id              1615 non-null   object\n",
      " 3   article_headline        1615 non-null   object\n",
      " 4   article_abstract        1615 non-null   object\n",
      " 5   article_snippet         1615 non-null   object\n",
      " 6   article_lead_paragraph  1604 non-null   object\n",
      " 7   article_pub_date        1615 non-null   object\n",
      " 8   article_news_desk       1615 non-null   object\n",
      " 9   article_section         1615 non-null   object\n",
      " 10  article_type_material   1615 non-null   object\n",
      " 11  article_word_count      1615 non-null   int64 \n",
      "dtypes: int64(1), object(11)\n",
      "memory usage: 151.5+ KB\n"
     ]
    }
   ],
   "source": [
    "modern_love_df.info()"
   ]
  },
  {
   "cell_type": "markdown",
   "metadata": {},
   "source": [
    "# Clean data"
   ]
  },
  {
   "cell_type": "code",
   "execution_count": 6,
   "metadata": {},
   "outputs": [],
   "source": [
    "pd.set_option(\"display.max_colwidth\", 1)"
   ]
  },
  {
   "cell_type": "code",
   "execution_count": 7,
   "metadata": {},
   "outputs": [],
   "source": [
    "# drop rows with na in article column\n",
    "\n",
    "modern_love_df = modern_love_df.dropna(subset=['article'])"
   ]
  },
  {
   "cell_type": "code",
   "execution_count": 8,
   "metadata": {},
   "outputs": [
    {
     "name": "stdout",
     "output_type": "stream",
     "text": [
      "<class 'pandas.core.frame.DataFrame'>\n",
      "Int64Index: 1609 entries, 0 to 1614\n",
      "Data columns (total 12 columns):\n",
      " #   Column                  Non-Null Count  Dtype \n",
      "---  ------                  --------------  ----- \n",
      " 0   article_url             1609 non-null   object\n",
      " 1   article                 1609 non-null   object\n",
      " 2   article_id              1609 non-null   object\n",
      " 3   article_headline        1609 non-null   object\n",
      " 4   article_abstract        1609 non-null   object\n",
      " 5   article_snippet         1609 non-null   object\n",
      " 6   article_lead_paragraph  1599 non-null   object\n",
      " 7   article_pub_date        1609 non-null   object\n",
      " 8   article_news_desk       1609 non-null   object\n",
      " 9   article_section         1609 non-null   object\n",
      " 10  article_type_material   1609 non-null   object\n",
      " 11  article_word_count      1609 non-null   int64 \n",
      "dtypes: int64(1), object(11)\n",
      "memory usage: 163.4+ KB\n"
     ]
    }
   ],
   "source": [
    "modern_love_df.info()"
   ]
  },
  {
   "cell_type": "code",
   "execution_count": 9,
   "metadata": {},
   "outputs": [],
   "source": [
    "# rename article column\n",
    "\n",
    "modern_love_df = modern_love_df.rename({'article':'essay'}, axis=1)"
   ]
  },
  {
   "cell_type": "code",
   "execution_count": 10,
   "metadata": {},
   "outputs": [],
   "source": [
    "# rename the rest of the columns by removing 'article_'\n",
    "\n",
    "modern_love_df.columns = modern_love_df.columns.str.replace('article_',\"\")"
   ]
  },
  {
   "cell_type": "code",
   "execution_count": 11,
   "metadata": {},
   "outputs": [
    {
     "data": {
      "text/plain": [
       "0"
      ]
     },
     "execution_count": 11,
     "metadata": {},
     "output_type": "execute_result"
    }
   ],
   "source": [
    "# check for duplicated rows\n",
    "\n",
    "modern_love_df.duplicated().sum() # there are none!"
   ]
  },
  {
   "cell_type": "code",
   "execution_count": 12,
   "metadata": {},
   "outputs": [],
   "source": [
    "# convert pub_date to datetime and then keep only the date\n",
    "\n",
    "modern_love_df['pub_date'] = pd.to_datetime(modern_love_df['pub_date']).dt.date"
   ]
  },
  {
   "cell_type": "code",
   "execution_count": 13,
   "metadata": {},
   "outputs": [
    {
     "name": "stdout",
     "output_type": "stream",
     "text": [
      "<class 'pandas.core.frame.DataFrame'>\n",
      "Int64Index: 1609 entries, 0 to 1614\n",
      "Data columns (total 12 columns):\n",
      " #   Column          Non-Null Count  Dtype \n",
      "---  ------          --------------  ----- \n",
      " 0   url             1609 non-null   object\n",
      " 1   essay           1609 non-null   object\n",
      " 2   id              1609 non-null   object\n",
      " 3   headline        1609 non-null   object\n",
      " 4   abstract        1609 non-null   object\n",
      " 5   snippet         1609 non-null   object\n",
      " 6   lead_paragraph  1599 non-null   object\n",
      " 7   pub_date        1609 non-null   object\n",
      " 8   news_desk       1609 non-null   object\n",
      " 9   section         1609 non-null   object\n",
      " 10  type_material   1609 non-null   object\n",
      " 11  word_count      1609 non-null   int64 \n",
      "dtypes: int64(1), object(11)\n",
      "memory usage: 163.4+ KB\n"
     ]
    }
   ],
   "source": [
    "modern_love_df.info()"
   ]
  },
  {
   "cell_type": "code",
   "execution_count": 17,
   "metadata": {},
   "outputs": [
    {
     "data": {
      "text/plain": [
       "108"
      ]
     },
     "execution_count": 17,
     "metadata": {},
     "output_type": "execute_result"
    }
   ],
   "source": [
    "# see how many articles mention the nytimes in the essay, as this text should be removed\n",
    "\n",
    "len(modern_love_df[modern_love_df.essay.str.contains('nytimes|New York Times|NYT')])"
   ]
  },
  {
   "cell_type": "code",
   "execution_count": 18,
   "metadata": {},
   "outputs": [],
   "source": [
    "# drop these essays for times' sake (go back to data acquisition stage to remove these paragraphs, time permitting)\n",
    "\n",
    "modern_love_df_rev = modern_love_df[~modern_love_df.essay.str.contains('nytimes|New York Times|NYT')]"
   ]
  },
  {
   "cell_type": "code",
   "execution_count": 19,
   "metadata": {
    "scrolled": true
   },
   "outputs": [
    {
     "name": "stdout",
     "output_type": "stream",
     "text": [
      "8\n"
     ]
    }
   ],
   "source": [
    "# see how many essays mention 'This essay is part of a collaborative project with Black History, Continued. We invited readers and renowned writers to respond to the question “What is Black love today?”'\n",
    "\n",
    "print(len(modern_love_df_rev[modern_love_df_rev.essay.str.contains('collaborative project')]))"
   ]
  },
  {
   "cell_type": "code",
   "execution_count": 20,
   "metadata": {},
   "outputs": [
    {
     "name": "stdout",
     "output_type": "stream",
     "text": [
      "172\n"
     ]
    }
   ],
   "source": [
    "# remove the sentences 'This essay is part of a collaborative project with Black History, Continued. We invited readers and renowned writers to respond to the question “What is Black love today?”'\n",
    "    # from the essay column\n",
    "\n",
    "sentences_to_remove = 'This essay is part of a collaborative project with Black History, Continued. We invited readers and renowned writers to respond to the question “What is Black love today?” '\n",
    "print(len(sentences_to_remove))\n",
    "\n",
    "collaborative_project = modern_love_df_rev[modern_love_df_rev.essay.str.contains('collaborative project')]\n",
    "\n",
    "revised_text = []\n",
    "\n",
    "for row in collaborative_project['essay']:\n",
    "    row = row[172:]\n",
    "    revised_text.append(row)\n",
    "    \n",
    "index = collaborative_project['id']\n",
    "\n",
    "data_tuples = list(zip(index,revised_text))\n",
    "cleaned_essay = pd.DataFrame(data_tuples, columns=['id','essay_rev'])\n",
    "\n",
    "modern_love_df_rev = modern_love_df.merge(cleaned_essay,how='left',on='id')\n",
    "modern_love_df_rev['essay_rev'].fillna(modern_love_df_rev.essay, inplace=True)"
   ]
  },
  {
   "cell_type": "code",
   "execution_count": 21,
   "metadata": {},
   "outputs": [
    {
     "data": {
      "text/plain": [
       "111"
      ]
     },
     "execution_count": 21,
     "metadata": {},
     "output_type": "execute_result"
    }
   ],
   "source": [
    "# check how many essays include text for the link '[Sign up for Love Letter, our weekly email about Modern Love, weddings and relationships.]'\n",
    "\n",
    "len(modern_love_df_rev.loc[modern_love_df_rev.essay_rev.str.contains('Sign up for Love Letter')])"
   ]
  },
  {
   "cell_type": "code",
   "execution_count": 22,
   "metadata": {},
   "outputs": [],
   "source": [
    "# remove the sign-up link text from each article\n",
    "\n",
    "modern_love_df_rev['essay_rev'] = modern_love_df_rev['essay_rev'].str.replace(r'\\[.*?\\]','')"
   ]
  },
  {
   "cell_type": "code",
   "execution_count": 23,
   "metadata": {},
   "outputs": [
    {
     "data": {
      "text/plain": [
       "151"
      ]
     },
     "execution_count": 23,
     "metadata": {},
     "output_type": "execute_result"
    }
   ],
   "source": [
    "# check how many essays have 'Modern Love' in them\n",
    "\n",
    "len(modern_love_df_rev.loc[modern_love_df_rev.essay_rev.str.contains('Modern Love|modernlove')])"
   ]
  },
  {
   "cell_type": "code",
   "execution_count": 24,
   "metadata": {},
   "outputs": [],
   "source": [
    "# drop these essays \n",
    "\n",
    "modern_love_df_rev_2 = modern_love_df_rev.loc[~modern_love_df_rev.essay_rev.str.contains('Modern Love|modernlove')]"
   ]
  },
  {
   "cell_type": "code",
   "execution_count": 25,
   "metadata": {},
   "outputs": [
    {
     "data": {
      "text/plain": [
       "(1458, 13)"
      ]
     },
     "execution_count": 25,
     "metadata": {},
     "output_type": "execute_result"
    }
   ],
   "source": [
    "modern_love_df_rev_2.shape"
   ]
  },
  {
   "cell_type": "markdown",
   "metadata": {},
   "source": [
    "# Topic modeling utility"
   ]
  },
  {
   "cell_type": "markdown",
   "metadata": {},
   "source": [
    "Before creating a baseline model, create a pipeline function that does the following:\n",
    "\n",
    "- Arguments are the corpus, vectorizer and topic_modeler\n",
    "- Applies these in order\n",
    "- Prints the top 10 words for each topic found from training"
   ]
  },
  {
   "cell_type": "code",
   "execution_count": 726,
   "metadata": {},
   "outputs": [],
   "source": [
    "def make_topics(corpus, vectorizer, topic_modeler, print_n_words=10):\n",
    "    \"\"\"A very simple pipeline.\"\"\"\n",
    "    \n",
    "    # Vectorize documents into a document-word matrix.\n",
    "    doc_word_vectors = vectorizer.fit_transform(corpus) \n",
    "    \n",
    "    # Fit the topic model.\n",
    "    doc_topic_vectors = topic_modeler.fit_transform(doc_word_vectors)\n",
    "    \n",
    "    # Print the topics.\n",
    "    vocab = doc_word_vectors.get_feature_names_out() # vectorizer\n",
    "    for idx, topic in enumerate(doc_topic_vectors.components_): # topic_modeler\n",
    "        # Select the top 15 words in vocab for this topic.\n",
    "        top_words = [vocab[i] for i in topic.argsort()[:-print_n_words-1:-1]]\n",
    "        #print(f\"Topic {idx}:\\n\", \", \".join(top_words), \"\\n\")\n",
    "        print(f\"Topic {idx}:\", \", \".join(top_words))\n",
    "        \n",
    "    return doc_topic_vectors"
   ]
  },
  {
   "cell_type": "markdown",
   "metadata": {},
   "source": [
    "# NMF baseline model"
   ]
  },
  {
   "cell_type": "markdown",
   "metadata": {},
   "source": [
    "As priors, use Tfidf vectorizer and NMF topic modeler"
   ]
  },
  {
   "cell_type": "code",
   "execution_count": 27,
   "metadata": {},
   "outputs": [],
   "source": [
    "from sklearn.feature_extraction.text import TfidfVectorizer\n",
    "from sklearn.decomposition import NMF"
   ]
  },
  {
   "cell_type": "code",
   "execution_count": 28,
   "metadata": {},
   "outputs": [
    {
     "name": "stdout",
     "output_type": "stream",
     "text": [
      "Topic 0: the, and, of, to, in, that, was, it, had, my\n",
      "Topic 1: she, her, was, to, and, the, me, had, in, for\n",
      "Topic 2: he, his, him, to, was, me, and, said, had, you\n",
      "Topic 3: we, our, and, in, the, to, you, us, other, together\n",
      "Topic 4: my, mother, father, me, to, parents, and, with, in, for\n"
     ]
    },
    {
     "data": {
      "text/plain": [
       "array([[0.12026731, 0.        , 0.1151798 , 0.03879698, 0.01190443],\n",
       "       [0.10574248, 0.01946263, 0.06163275, 0.05058978, 0.03135195],\n",
       "       [0.06828757, 0.15704441, 0.        , 0.00618065, 0.07139688],\n",
       "       ...,\n",
       "       [0.        , 0.        , 0.05832072, 0.04512847, 0.        ],\n",
       "       [0.03195689, 0.        , 0.        , 0.00845712, 0.0650467 ],\n",
       "       [0.05628714, 0.00129334, 0.00476101, 0.013898  , 0.02507168]])"
      ]
     },
     "execution_count": 28,
     "metadata": {},
     "output_type": "execute_result"
    }
   ],
   "source": [
    "corpus = modern_love_df_rev_2['essay_rev']\n",
    "vectorizer = TfidfVectorizer()\n",
    "topic_modeler = NMF(5, random_state=42, max_iter=1000) # start with 5 topics\n",
    "\n",
    "make_topics(corpus, vectorizer, topic_modeler)"
   ]
  },
  {
   "cell_type": "markdown",
   "metadata": {},
   "source": [
    "Looks like the topics are capturing lots of stop words - time to remove them!"
   ]
  },
  {
   "cell_type": "markdown",
   "metadata": {},
   "source": [
    "# NMF Model 2 - remove stop words, numbers, punctuation and lemmatize tokens"
   ]
  },
  {
   "cell_type": "markdown",
   "metadata": {},
   "source": [
    "Use spaCy package for text processing"
   ]
  },
  {
   "cell_type": "code",
   "execution_count": 29,
   "metadata": {},
   "outputs": [],
   "source": [
    "import spacy\n",
    "from spacy.tokens import Token\n",
    "nlp = spacy.load('en_core_web_sm')"
   ]
  },
  {
   "cell_type": "code",
   "execution_count": 30,
   "metadata": {},
   "outputs": [],
   "source": [
    "# import stopwords\n",
    "sw_spacy = nlp.Defaults.stop_words"
   ]
  },
  {
   "cell_type": "markdown",
   "metadata": {},
   "source": [
    "The below code was inspired by this <a href=\"https://stackoverflow.com/questions/47523112/detect-stopword-after-lemma-in-spacy\">this stackoverflow post</a>"
   ]
  },
  {
   "cell_type": "code",
   "execution_count": 31,
   "metadata": {
    "scrolled": true
   },
   "outputs": [],
   "source": [
    "# update stopwords to ensure that capitalized and lemmatized tokens are identified as stop words\n",
    "\n",
    "stop_words_getter = lambda token: token.is_stop or token.lower_ in sw_spacy or token.lemma_ in sw_spacy\n",
    "Token.set_extension('is_stop', getter=stop_words_getter, force=True)  # set attribute with getter"
   ]
  },
  {
   "cell_type": "code",
   "execution_count": 32,
   "metadata": {
    "scrolled": true
   },
   "outputs": [],
   "source": [
    "docs = list(nlp.pipe(modern_love_df_rev_2['essay_rev']))"
   ]
  },
  {
   "cell_type": "markdown",
   "metadata": {},
   "source": [
    "The below code was inspired by <a href=\"https://stackoverflow.com/questions/25692293/inserting-a-link-to-a-webpage-in-an-ipython-notebook\">this stackoverflow post</a>"
   ]
  },
  {
   "cell_type": "code",
   "execution_count": 33,
   "metadata": {},
   "outputs": [
    {
     "name": "stderr",
     "output_type": "stream",
     "text": [
      "<ipython-input-33-3405cf085942>:4: SettingWithCopyWarning: \n",
      "A value is trying to be set on a copy of a slice from a DataFrame.\n",
      "Try using .loc[row_indexer,col_indexer] = value instead\n",
      "\n",
      "See the caveats in the documentation: https://pandas.pydata.org/pandas-docs/stable/user_guide/indexing.html#returning-a-view-versus-a-copy\n",
      "  modern_love_df_rev_2['essay_rev_clean'] = [' '.join(map(str, l)) for l in docs_clean]\n"
     ]
    }
   ],
   "source": [
    "docs_clean = [[token.lemma_.lower() for token in doc if token.is_alpha and \\\n",
    "                         (not token.is_stop and not token.is_punct and not token.like_num and not token.is_digit)] \\\n",
    "                          for doc in docs]\n",
    "modern_love_df_rev_2['essay_rev_clean'] = [' '.join(map(str, l)) for l in docs_clean]"
   ]
  },
  {
   "cell_type": "code",
   "execution_count": 34,
   "metadata": {},
   "outputs": [
    {
     "name": "stdout",
     "output_type": "stream",
     "text": [
      "Topic 0: day, time, like, say, home, go, night, bed, leave, know\n",
      "Topic 1: father, mother, parent, family, say, brother, year, sister, child, know\n",
      "Topic 2: say, date, like, want, man, know, think, tell, woman, meet\n",
      "Topic 3: husband, marriage, divorce, wife, marry, child, year, wedding, friend, life\n",
      "Topic 4: love, fall, year, grandmother, girl, boy, know, feel, relationship, child\n"
     ]
    },
    {
     "data": {
      "text/plain": [
       "array([[0.07236249, 0.05994489, 0.05163971, 0.02300993, 0.03358636],\n",
       "       [0.01151929, 0.06829537, 0.01585402, 0.06786783, 0.07423379],\n",
       "       [0.03034165, 0.02797976, 0.0203942 , 0.00605542, 0.13180721],\n",
       "       ...,\n",
       "       [0.02773193, 0.        , 0.        , 0.01958957, 0.04469718],\n",
       "       [0.02239977, 0.00234048, 0.        , 0.10264239, 0.        ],\n",
       "       [0.04431684, 0.        , 0.01291339, 0.        , 0.01675162]])"
      ]
     },
     "execution_count": 34,
     "metadata": {},
     "output_type": "execute_result"
    }
   ],
   "source": [
    "corpus = modern_love_df_rev_2['essay_rev_clean']\n",
    "vectorizer = TfidfVectorizer()\n",
    "topic_modeler = NMF(5, random_state=42, max_iter=1000)\n",
    "\n",
    "make_topics(corpus, vectorizer, topic_modeler)"
   ]
  },
  {
   "cell_type": "markdown",
   "metadata": {},
   "source": [
    "# NMF Model 3 - try 10 topics"
   ]
  },
  {
   "cell_type": "code",
   "execution_count": 35,
   "metadata": {},
   "outputs": [
    {
     "name": "stdout",
     "output_type": "stream",
     "text": [
      "Topic 0: mother, grandmother, year, family, sister, parent, home, old, die, care\n",
      "Topic 1: father, parent, mother, brother, dad, family, know, year, sister, die\n",
      "Topic 2: date, like, want, relationship, man, feel, woman, friend, know, time\n",
      "Topic 3: husband, marriage, divorce, wife, marry, year, wedding, friend, man, life\n",
      "Topic 4: love, fall, year, word, know, heart, feel, relationship, people, write\n",
      "Topic 5: say, ask, tell, know, think, want, yes, like, look, later\n",
      "Topic 6: day, time, night, new, home, like, car, leave, bed, dog\n",
      "Topic 7: child, baby, daughter, son, doctor, birth, pregnancy, pregnant, know, husband\n",
      "Topic 8: john, amy, mary, house, slipper, year, want, extraordinary, day, sofa\n",
      "Topic 9: girl, school, boy, prom, parent, michael, high, gay, dress, year\n"
     ]
    },
    {
     "data": {
      "text/plain": [
       "array([[0.00611814, 0.0547847 , 0.05585934, ..., 0.12416781, 0.        ,\n",
       "        0.        ],\n",
       "       [0.03177836, 0.05230815, 0.00942886, ..., 0.01877506, 0.001906  ,\n",
       "        0.02563816],\n",
       "       [0.01113183, 0.0195127 , 0.02676823, ..., 0.04980819, 0.00204291,\n",
       "        0.034947  ],\n",
       "       ...,\n",
       "       [0.        , 0.00666873, 0.        , ..., 0.        , 0.00466373,\n",
       "        0.00651875],\n",
       "       [0.00162195, 0.        , 0.        , ..., 0.        , 0.        ,\n",
       "        0.        ],\n",
       "       [0.        , 0.        , 0.00259708, ..., 0.        , 0.        ,\n",
       "        0.        ]])"
      ]
     },
     "execution_count": 35,
     "metadata": {},
     "output_type": "execute_result"
    }
   ],
   "source": [
    "corpus = modern_love_df_rev_2['essay_rev_clean']\n",
    "vectorizer = TfidfVectorizer()\n",
    "topic_modeler = NMF(10, random_state=42, max_iter=1000)\n",
    "\n",
    "make_topics(corpus, vectorizer, topic_modeler)"
   ]
  },
  {
   "cell_type": "markdown",
   "metadata": {},
   "source": [
    "# NMF Model 4 - try 50 topics"
   ]
  },
  {
   "cell_type": "code",
   "execution_count": 36,
   "metadata": {},
   "outputs": [
    {
     "name": "stdout",
     "output_type": "stream",
     "text": [
      "Topic 0: feel, know, relationship, time, want, like, way, life, think, friend\n",
      "Topic 1: father, dad, mother, parent, know, die, year, death, daddy, life\n",
      "Topic 2: date, meet, guy, app, friend, year, maybe, try, marry, later\n",
      "Topic 3: marriage, divorce, wife, marry, year, gay, married, couple, wedding, share\n",
      "Topic 4: love, fall, year, boyfriend, heart, word, milo, people, write, child\n",
      "Topic 5: say, ask, tell, know, think, yes, want, like, good, happy\n",
      "Topic 6: new, apartment, night, york, day, city, work, boyfriend, move, time\n",
      "Topic 7: baby, child, pregnancy, pregnant, birth, fertility, adoption, egg, doctor, sperm\n",
      "Topic 8: mother, home, year, old, care, die, day, dj, cry, family\n",
      "Topic 9: man, woman, guy, white, like, young, find, gay, think, know\n",
      "Topic 10: john, mary, slipper, house, extraordinary, want, sofa, party, bee, jessica\n",
      "Topic 11: grandmother, mahjong, tile, nick, game, purse, win, round, aunt, cousin\n",
      "Topic 12: son, child, house, wife, boy, year, church, god, tree, old\n",
      "Topic 13: michael, tito, randy, huppah, willem, die, ceremony, mugger, widow, death\n",
      "Topic 14: doctor, hospital, bed, nurse, room, cancer, patient, week, emergency, day\n",
      "Topic 15: ex, girlfriend, boyfriend, child, divorce, charles, asher, party, upstairs, uber\n",
      "Topic 16: chris, kurt, zack, rachel, virginia, brian, greg, big, discipline, think\n",
      "Topic 17: husband, leave, marriage, juice, rich, friend, home, say, day, try\n",
      "Topic 18: christmas, gift, tree, snow, eve, red, holiday, winter, santa, come\n",
      "Topic 19: guitar, world, pandemic, yoro, sleep, condense, isolation, charity, hope, newfound\n",
      "Topic 20: rabbi, friend, shoot, bar, pool, rabbis, tenenbaum, tova, jewish, trivia\n",
      "Topic 21: dog, ira, steve, home, glenn, animal, house, want, dusty, shelter\n",
      "Topic 22: parent, family, suitable, child, indian, friend, boy, american, school, seung\n",
      "Topic 23: message, write, photo, send, mail, picture, facebook, text, online, day\n",
      "Topic 24: color, gabriela, revilla, lugo, aesthetician, pedicure, multicolore, horrified, unimaginable, iv\n",
      "Topic 25: david, jenkins, spanking, dish, supper, oppose, authority, blanket, want, surrender\n",
      "Topic 26: sex, want, sexual, boyfriend, affair, secondary, desire, kiss, people, asexual\n",
      "Topic 27: march, bedroom, grief, guest, train, paris, barbara, comfortable, gerald, phillips\n",
      "Topic 28: book, look, read, library, shelf, write, libby, flunk, bookstore, list\n",
      "Topic 29: andrew, jewish, boyfriend, letter, paul, miguel, life, history, want, find\n",
      "Topic 30: joe, fish, dream, trader, croagh, clew, beary, roberta, defrost, patrick\n",
      "Topic 31: ring, jim, diamond, engagement, melinda, propose, wedding, marry, finger, want\n",
      "Topic 32: girl, boy, japan, kline, philippines, bombshell, ash, madly, states, united\n",
      "Topic 33: matt, lawyer, gratitude, brian, jar, treatment, hour, feel, addiction, pioneer\n",
      "Topic 34: school, high, prom, korynkiewicz, stacey, pancreatic, paterson, retell, gay, worried\n",
      "Topic 35: dave, army, locklin, poem, therapist, afghanistan, war, dull, soldier, chocolate\n",
      "Topic 36: demouth, nicole, whispering, cautiously, picture, begin, curious, tooth, brush, cross\n",
      "Topic 37: daughter, child, family, year, time, helen, fumiko, wheelchair, old, young\n",
      "Topic 38: alex, jonathan, eclipse, boy, kimberly, extrajudicial, motorcycle, change, profiling, reyes\n",
      "Topic 39: tracy, sighted, smell, look, blind, sound, image, blindness, like, funny\n",
      "Topic 40: sister, flower, angie, bear, charlie, half, teenage, singe, correct, game\n",
      "Topic 41: amy, ford, maternal, cinguina, bed, skimp, spunky, domina, suv, collarbone\n",
      "Topic 42: like, hand, body, feel, hold, eye, arm, look, kiss, night\n",
      "Topic 43: dress, wedding, wear, randy, ceremony, huppah, white, scott, skirt, groom\n",
      "Topic 44: brother, bob, big, tell, gay, year, twin, girlfriend, night, sarah\n",
      "Topic 45: tattoo, root, get, danielle, ink, jason, shop, motorcycle, andreas, anchor\n",
      "Topic 46: jeff, pudge, paul, minnie, monica, morris, memory, jeffrey, tell, bully\n",
      "Topic 47: fry, cutlet, chicken, math, dirty, curto, parmigiana, kathy, ma, verb\n",
      "Topic 48: car, drive, seat, van, road, door, stop, open, ford, accident\n",
      "Topic 49: sam, sandwich, memory, grace, beatles, kale, know, ham, run, klimoski\n"
     ]
    },
    {
     "data": {
      "text/plain": [
       "array([[0.03785426, 0.04446844, 0.01136468, ..., 0.03843785, 0.05835881,\n",
       "        0.        ],\n",
       "       [0.00599239, 0.02545525, 0.        , ..., 0.        , 0.        ,\n",
       "        0.        ],\n",
       "       [0.01788923, 0.01264681, 0.00522237, ..., 0.00494933, 0.        ,\n",
       "        0.        ],\n",
       "       ...,\n",
       "       [0.00627784, 0.00466612, 0.        , ..., 0.00769902, 0.001398  ,\n",
       "        0.0079676 ],\n",
       "       [0.        , 0.        , 0.        , ..., 0.        , 0.02583937,\n",
       "        0.        ],\n",
       "       [0.        , 0.        , 0.        , ..., 0.        , 0.00073479,\n",
       "        0.        ]])"
      ]
     },
     "execution_count": 36,
     "metadata": {},
     "output_type": "execute_result"
    }
   ],
   "source": [
    "corpus = modern_love_df_rev_2['essay_rev_clean']\n",
    "vectorizer = TfidfVectorizer()\n",
    "topic_modeler = NMF(50, random_state=42, max_iter=1000)\n",
    "\n",
    "make_topics(corpus, vectorizer, topic_modeler)"
   ]
  },
  {
   "cell_type": "markdown",
   "metadata": {},
   "source": [
    "# NMF Model 5 - try 2 topics"
   ]
  },
  {
   "cell_type": "code",
   "execution_count": 37,
   "metadata": {},
   "outputs": [
    {
     "name": "stdout",
     "output_type": "stream",
     "text": [
      "Topic 0: say, like, love, know, want, time, feel, think, tell, man\n",
      "Topic 1: mother, father, parent, year, family, child, daughter, say, son, brother\n"
     ]
    },
    {
     "data": {
      "text/plain": [
       "array([[0.08506482, 0.0791229 ],\n",
       "       [0.04808149, 0.08981857],\n",
       "       [0.0613017 , 0.05350221],\n",
       "       ...,\n",
       "       [0.0325893 , 0.01562112],\n",
       "       [0.03759431, 0.0286379 ],\n",
       "       [0.04365331, 0.        ]])"
      ]
     },
     "execution_count": 37,
     "metadata": {},
     "output_type": "execute_result"
    }
   ],
   "source": [
    "corpus = modern_love_df_rev_2['essay_rev_clean']\n",
    "vectorizer = TfidfVectorizer()\n",
    "topic_modeler = NMF(2, random_state=42, max_iter=1000)\n",
    "\n",
    "make_topics(corpus, vectorizer, topic_modeler)"
   ]
  },
  {
   "cell_type": "markdown",
   "metadata": {},
   "source": [
    "# NMF Model 6 - try 7 topics"
   ]
  },
  {
   "cell_type": "code",
   "execution_count": 38,
   "metadata": {},
   "outputs": [
    {
     "name": "stdout",
     "output_type": "stream",
     "text": [
      "Topic 0: day, time, like, home, bed, night, feel, go, leave, come\n",
      "Topic 1: father, mother, parent, family, brother, year, sister, child, die, know\n",
      "Topic 2: date, like, relationship, want, man, friend, feel, know, time, woman\n",
      "Topic 3: husband, marriage, divorce, wife, marry, child, year, wedding, friend, life\n",
      "Topic 4: love, grandmother, fall, year, boy, child, girl, parent, know, family\n",
      "Topic 5: say, ask, tell, know, think, want, like, yes, look, later\n",
      "Topic 6: john, amy, year, mary, house, slipper, want, school, high, new\n"
     ]
    },
    {
     "data": {
      "text/plain": [
       "array([[6.94770303e-02, 5.95715739e-02, 5.64972297e-02, ...,\n",
       "        2.49154081e-02, 2.61863639e-02, 0.00000000e+00],\n",
       "       [1.12106189e-02, 6.71349062e-02, 2.23416241e-02, ...,\n",
       "        6.87913745e-02, 1.58993337e-02, 3.68147979e-03],\n",
       "       [3.09364201e-02, 2.69966857e-02, 3.52077018e-02, ...,\n",
       "        1.22663658e-01, 4.63760672e-03, 2.44690127e-03],\n",
       "       ...,\n",
       "       [2.78458568e-02, 0.00000000e+00, 3.78684335e-05, ...,\n",
       "        4.32893509e-02, 3.50992582e-03, 7.85271941e-03],\n",
       "       [1.05131888e-02, 0.00000000e+00, 0.00000000e+00, ...,\n",
       "        0.00000000e+00, 3.80152476e-02, 0.00000000e+00],\n",
       "       [3.91264770e-02, 0.00000000e+00, 1.62182190e-02, ...,\n",
       "        1.08950736e-02, 1.17952016e-02, 5.02625520e-03]])"
      ]
     },
     "execution_count": 38,
     "metadata": {},
     "output_type": "execute_result"
    }
   ],
   "source": [
    "corpus = modern_love_df_rev_2['essay_rev_clean']\n",
    "vectorizer = TfidfVectorizer()\n",
    "topic_modeler = NMF(7, random_state=42, max_iter=1000)\n",
    "\n",
    "make_topics(corpus, vectorizer, topic_modeler)"
   ]
  },
  {
   "cell_type": "markdown",
   "metadata": {},
   "source": [
    "# NMF Model 7 - 10 topics and remove more stop words"
   ]
  },
  {
   "cell_type": "code",
   "execution_count": 494,
   "metadata": {
    "scrolled": true
   },
   "outputs": [],
   "source": [
    "tokens_to_remove = {'like','tell','like','want','say','know','ask','think','thing','man','woman','feel','person', \\\n",
    "                   'people','day','time','night'}\n",
    "\n",
    "sw_spacy.update(tokens_to_remove)\n",
    "\n",
    "docs_clean_2 = [[token for token in doc if token not in sw_spacy] for doc in docs_clean]\n",
    "modern_love_df_rev_2['essay_rev_clean_2'] = [' '.join(map(str, l)) for l in docs_clean_2]"
   ]
  },
  {
   "cell_type": "code",
   "execution_count": 40,
   "metadata": {},
   "outputs": [],
   "source": [
    "docs_2 = list(nlp.pipe(modern_love_df_rev_2['essay_rev_clean_2']))"
   ]
  },
  {
   "cell_type": "code",
   "execution_count": 76,
   "metadata": {},
   "outputs": [
    {
     "name": "stdout",
     "output_type": "stream",
     "text": [
      "Topic 0: look, car, come, bed, home, hand, leave, dog, walk, room\n",
      "Topic 1: father, parent, mother, brother, dad, year, family, die, sister, life\n",
      "Topic 2: date, meet, friend, relationship, guy, talk, message, year, new, good\n",
      "Topic 3: husband, marriage, divorce, wife, marry, year, child, wedding, friend, life\n",
      "Topic 4: love, fall, relationship, year, word, heart, child, life, write, boyfriend\n",
      "Topic 5: grandmother, mahjong, year, tile, game, grandfather, nick, win, die, purse\n",
      "Topic 6: girl, school, boy, prom, high, gay, parent, michael, dress, wear\n",
      "Topic 7: mother, child, daughter, baby, parent, family, son, year, birth, home\n",
      "Topic 8: john, amy, mary, house, year, slipper, party, extraordinary, new, sofa\n",
      "Topic 9: sex, sexual, body, relationship, kiss, boyfriend, desire, affair, lover, room\n"
     ]
    },
    {
     "data": {
      "text/plain": [
       "array([[0.04840131, 0.05530908, 0.04531294, ..., 0.05431055, 0.        ,\n",
       "        0.02805514],\n",
       "       [0.00671228, 0.05302862, 0.00352582, ..., 0.03763365, 0.00241413,\n",
       "        0.01240404],\n",
       "       [0.02583386, 0.0167566 , 0.01649675, ..., 0.02988922, 0.00075811,\n",
       "        0.        ],\n",
       "       ...,\n",
       "       [0.01780161, 0.00783781, 0.00775316, ..., 0.        , 0.00541701,\n",
       "        0.        ],\n",
       "       [0.02339109, 0.        , 0.        , ..., 0.00031615, 0.        ,\n",
       "        0.        ],\n",
       "       [0.03296736, 0.        , 0.03059008, ..., 0.        , 0.00273239,\n",
       "        0.00236437]])"
      ]
     },
     "execution_count": 76,
     "metadata": {},
     "output_type": "execute_result"
    }
   ],
   "source": [
    "corpus = modern_love_df_rev_2['essay_rev_clean_2']\n",
    "vectorizer = TfidfVectorizer()\n",
    "topic_modeler = NMF(10, random_state=42, max_iter=1000)\n",
    "\n",
    "make_topics(corpus, vectorizer, topic_modeler)"
   ]
  },
  {
   "cell_type": "markdown",
   "metadata": {},
   "source": [
    "# NMF Model 8 - 8 topics and tune max_df and min_df"
   ]
  },
  {
   "cell_type": "code",
   "execution_count": 42,
   "metadata": {},
   "outputs": [
    {
     "name": "stdout",
     "output_type": "stream",
     "text": [
      "Topic 0: look, hand, come, bed, room, leave, eye, body, way, dog\n",
      "Topic 1: father, parent, brother, dad, family, sister, mother, father die, die, death\n",
      "Topic 2: date, friend, relationship, meet, guy, sex, good, talk, find, way\n",
      "Topic 3: husband, marriage, wife, marry, divorce, wedding, friend, life, married, ex\n",
      "Topic 4: mother, grandmother, sister, family, die, parent, old, home, care, cry\n",
      "Topic 5: new, york, new york, city, new york city, york city, apartment, live, later, home\n",
      "Topic 6: child, daughter, son, baby, boy, family, parent, girl, school, birth\n",
      "Topic 7: john, school, mary, house, high, party, high school, sofa, find love, meet\n"
     ]
    },
    {
     "data": {
      "text/plain": [
       "array([[0.05447354, 0.07554757, 0.05939968, ..., 0.00640171, 0.097166  ,\n",
       "        0.        ],\n",
       "       [0.        , 0.07625664, 0.        , ..., 0.18313601, 0.07313185,\n",
       "        0.        ],\n",
       "       [0.04565932, 0.03092133, 0.05555968, ..., 0.0472786 , 0.14394689,\n",
       "        0.00385968],\n",
       "       ...,\n",
       "       [0.02271295, 0.00677029, 0.0109584 , ..., 0.01127195, 0.00148816,\n",
       "        0.00564429],\n",
       "       [0.02313781, 0.00162665, 0.        , ..., 0.00857453, 0.01810469,\n",
       "        0.        ],\n",
       "       [0.        , 0.        , 0.00907569, ..., 0.2118439 , 0.        ,\n",
       "        0.        ]])"
      ]
     },
     "execution_count": 42,
     "metadata": {},
     "output_type": "execute_result"
    }
   ],
   "source": [
    "corpus = modern_love_df_rev_2['essay_rev_clean_2']\n",
    "vectorizer = TfidfVectorizer(ngram_range=(1,3), max_df=0.6, min_df=.02)\n",
    "topic_modeler = NMF(8, random_state=42, max_iter=1000)\n",
    "\n",
    "make_topics(corpus, vectorizer, topic_modeler)"
   ]
  },
  {
   "cell_type": "markdown",
   "metadata": {},
   "source": [
    "# NMF Model 9 - 8 topics and customize some lemmatization"
   ]
  },
  {
   "cell_type": "markdown",
   "metadata": {},
   "source": [
    "The below code was inspired by this <a href=\"https://medium.com/mlearning-ai/nlp-03-lemmatization-and-stemming-using-spacy-b2829becceca\">this medium post</a>"
   ]
  },
  {
   "cell_type": "code",
   "execution_count": 240,
   "metadata": {},
   "outputs": [],
   "source": [
    "# customize lemmatization for married and marriage so their lemma is 'marry'; \n",
    "    # dad and daddy so their lemma is 'father'\n",
    "    # mom and mommy so their lemma is 'mother'\n",
    "    # pregnant so it's lemma is 'pregnancy'\n",
    "    # grandma so its lemma is 'grandmother'\n",
    "    # grandpa so its lemma is 'grandfather'\n",
    "    # die so its lemma is 'death'\n",
    "\n",
    "nlp.get_pipe('attribute_ruler').add([[{\"TEXT\":\"married\"}]],{\"LEMMA\":\"marriage\"})\n",
    "nlp.get_pipe('attribute_ruler').add([[{\"TEXT\":\"marry\"}]],{\"LEMMA\":\"marriage\"})\n",
    "nlp.get_pipe('attribute_ruler').add([[{\"TEXT\":\"dad\"}]],{\"LEMMA\":\"father\"})\n",
    "nlp.get_pipe('attribute_ruler').add([[{\"TEXT\":\"daddy\"}]],{\"LEMMA\":\"father\"})\n",
    "nlp.get_pipe('attribute_ruler').add([[{\"TEXT\":\"mom\"}]],{\"LEMMA\":\"mother\"})\n",
    "nlp.get_pipe('attribute_ruler').add([[{\"TEXT\":\"mommy\"}]],{\"LEMMA\":\"mother\"})\n",
    "nlp.get_pipe('attribute_ruler').add([[{\"TEXT\":\"pregnant\"}]],{\"LEMMA\":\"pregnancy\"})\n",
    "nlp.get_pipe('attribute_ruler').add([[{\"TEXT\":\"grandma\"}]],{\"LEMMA\":\"grandmother\"})\n",
    "nlp.get_pipe('attribute_ruler').add([[{\"TEXT\":\"grandpa\"}]],{\"LEMMA\":\"grandfather\"})\n",
    "nlp.get_pipe('attribute_ruler').add([[{\"TEXT\":\"die\"}]],{\"LEMMA\":\"death\"})"
   ]
  },
  {
   "cell_type": "code",
   "execution_count": 241,
   "metadata": {},
   "outputs": [],
   "source": [
    "docs_3 = list(nlp.pipe(modern_love_df_rev_2['essay_rev_clean_2']))"
   ]
  },
  {
   "cell_type": "code",
   "execution_count": 242,
   "metadata": {},
   "outputs": [],
   "source": [
    "docs_clean_3 = [[token.lemma_ for token in doc] for doc in docs_3]\n",
    "modern_love_df_rev_2['essay_rev_clean_3'] = [' '.join(map(str, l)) for l in docs_clean_3]"
   ]
  },
  {
   "cell_type": "code",
   "execution_count": 735,
   "metadata": {},
   "outputs": [],
   "source": [
    "def make_topics(corpus, vectorizer, topic_modeler, print_n_words=10):\n",
    "    \"\"\"A very simple pipeline.\"\"\"\n",
    "    \n",
    "    # Vectorize documents into a document-word matrix.\n",
    "    doc_word_vectors = vectorizer.fit_transform(corpus) \n",
    "    \n",
    "    # Fit the topic model.\n",
    "    doc_topic_vectors = topic_modeler.fit_transform(doc_word_vectors)\n",
    "    \n",
    "    # Print the topics.\n",
    "    vocab = vectorizer.get_feature_names()\n",
    "    for idx, topic in enumerate(topic_modeler.components_):\n",
    "        # Select the top 15 words in vocab for this topic.\n",
    "        top_words = [vocab[i] for i in topic.argsort()[:-print_n_words-1:-1]]\n",
    "        #print(f\"Topic {idx}:\\n\", \", \".join(top_words), \"\\n\")\n",
    "        print(f\"Topic {idx}:\", \", \".join(top_words))\n",
    "        \n",
    "    return doc_topic_vectors"
   ]
  },
  {
   "cell_type": "code",
   "execution_count": 736,
   "metadata": {},
   "outputs": [
    {
     "name": "stdout",
     "output_type": "stream",
     "text": [
      "Topic 0: leave, look, come, home, car, hand, new, bed, dog, walk\n",
      "Topic 1: father, parent, mother, death, brother, father death, family, sister, divorce, child\n",
      "Topic 2: marriage, husband, divorce, wife, wedding, friend, life, ring, couple, family\n",
      "Topic 3: date, friend, meet, relationship, guy, write, school, message, find, talk\n",
      "Topic 4: mother, grandmother, parent, family, sister, brother, old, home, year old, school\n",
      "Topic 5: john, amy, mary, house, school, sofa, new, high, party, jessica\n",
      "Topic 6: child, baby, daughter, son, pregnancy, doctor, boy, birth, husband, family\n",
      "Topic 7: sex, relationship, sexual, body, boyfriend, kiss, partner, desire, way, lover\n"
     ]
    }
   ],
   "source": [
    "corpus = modern_love_df_rev_2['essay_rev_clean_3']\n",
    "vectorizer = TfidfVectorizer(ngram_range=(1,3), max_df=0.6, min_df=.01)\n",
    "topic_modeler = NMF(8, random_state=42, max_iter=1000)\n",
    "\n",
    "nmf_doc_topic = make_topics(corpus, vectorizer, topic_modeler)"
   ]
  },
  {
   "cell_type": "markdown",
   "metadata": {},
   "source": [
    "The above topics seem like they could be loosely described as the following:\n",
    "\n",
    "- Topic 1: misc\n",
    "- Topic 2: immediate family\n",
    "- Topic 3: marriage and divorce\n",
    "- Topic 4: dating\n",
    "- Topic 5: family\n",
    "- Topic 6: school\n",
    "- Topic 7: babies/pregnancy/birth\n",
    "- Topic 8: sex"
   ]
  },
  {
   "cell_type": "markdown",
   "metadata": {},
   "source": [
    "Create a dataframe  from the topic-word matrix (aka W) that shows us the topics and the terms associated with each topic. The values in each cell are the weights of each word (column) on each topic (row)."
   ]
  },
  {
   "cell_type": "code",
   "execution_count": 246,
   "metadata": {},
   "outputs": [
    {
     "data": {
      "text/html": [
       "<div>\n",
       "<style scoped>\n",
       "    .dataframe tbody tr th:only-of-type {\n",
       "        vertical-align: middle;\n",
       "    }\n",
       "\n",
       "    .dataframe tbody tr th {\n",
       "        vertical-align: top;\n",
       "    }\n",
       "\n",
       "    .dataframe thead th {\n",
       "        text-align: right;\n",
       "    }\n",
       "</style>\n",
       "<table border=\"1\" class=\"dataframe\">\n",
       "  <thead>\n",
       "    <tr style=\"text-align: right;\">\n",
       "      <th></th>\n",
       "      <th>abandon</th>\n",
       "      <th>ability</th>\n",
       "      <th>able</th>\n",
       "      <th>abroad</th>\n",
       "      <th>absence</th>\n",
       "      <th>absolutely</th>\n",
       "      <th>absorb</th>\n",
       "      <th>accent</th>\n",
       "      <th>accept</th>\n",
       "      <th>accident</th>\n",
       "      <th>...</th>\n",
       "      <th>year pass</th>\n",
       "      <th>year relationship</th>\n",
       "      <th>year year</th>\n",
       "      <th>yell</th>\n",
       "      <th>yellow</th>\n",
       "      <th>yes</th>\n",
       "      <th>york</th>\n",
       "      <th>york city</th>\n",
       "      <th>young</th>\n",
       "      <th>youth</th>\n",
       "    </tr>\n",
       "  </thead>\n",
       "  <tbody>\n",
       "    <tr>\n",
       "      <th>component_1</th>\n",
       "      <td>0.021689</td>\n",
       "      <td>0.013638</td>\n",
       "      <td>0.058470</td>\n",
       "      <td>0.003576</td>\n",
       "      <td>0.022196</td>\n",
       "      <td>0.008015</td>\n",
       "      <td>0.014804</td>\n",
       "      <td>0.019734</td>\n",
       "      <td>0.012183</td>\n",
       "      <td>0.079102</td>\n",
       "      <td>...</td>\n",
       "      <td>0.001364</td>\n",
       "      <td>0.008361</td>\n",
       "      <td>0.007211</td>\n",
       "      <td>0.046922</td>\n",
       "      <td>0.048166</td>\n",
       "      <td>0.068292</td>\n",
       "      <td>0.00000</td>\n",
       "      <td>0.00000</td>\n",
       "      <td>0.068916</td>\n",
       "      <td>0.015416</td>\n",
       "    </tr>\n",
       "    <tr>\n",
       "      <th>component_2</th>\n",
       "      <td>0.000000</td>\n",
       "      <td>0.000000</td>\n",
       "      <td>0.017905</td>\n",
       "      <td>0.000000</td>\n",
       "      <td>0.020057</td>\n",
       "      <td>0.001143</td>\n",
       "      <td>0.000000</td>\n",
       "      <td>0.015159</td>\n",
       "      <td>0.014871</td>\n",
       "      <td>0.000000</td>\n",
       "      <td>...</td>\n",
       "      <td>0.022499</td>\n",
       "      <td>0.000000</td>\n",
       "      <td>0.000000</td>\n",
       "      <td>0.004481</td>\n",
       "      <td>0.019418</td>\n",
       "      <td>0.018591</td>\n",
       "      <td>0.00000</td>\n",
       "      <td>0.00000</td>\n",
       "      <td>0.042497</td>\n",
       "      <td>0.000000</td>\n",
       "    </tr>\n",
       "    <tr>\n",
       "      <th>component_3</th>\n",
       "      <td>0.000000</td>\n",
       "      <td>0.027488</td>\n",
       "      <td>0.039265</td>\n",
       "      <td>0.002569</td>\n",
       "      <td>0.012667</td>\n",
       "      <td>0.014955</td>\n",
       "      <td>0.000000</td>\n",
       "      <td>0.000000</td>\n",
       "      <td>0.033883</td>\n",
       "      <td>0.000000</td>\n",
       "      <td>...</td>\n",
       "      <td>0.006056</td>\n",
       "      <td>0.010194</td>\n",
       "      <td>0.021646</td>\n",
       "      <td>0.005927</td>\n",
       "      <td>0.000000</td>\n",
       "      <td>0.066488</td>\n",
       "      <td>0.00000</td>\n",
       "      <td>0.00000</td>\n",
       "      <td>0.067415</td>\n",
       "      <td>0.000000</td>\n",
       "    </tr>\n",
       "    <tr>\n",
       "      <th>component_4</th>\n",
       "      <td>0.013997</td>\n",
       "      <td>0.021895</td>\n",
       "      <td>0.050336</td>\n",
       "      <td>0.017781</td>\n",
       "      <td>0.000000</td>\n",
       "      <td>0.013563</td>\n",
       "      <td>0.000000</td>\n",
       "      <td>0.012988</td>\n",
       "      <td>0.071781</td>\n",
       "      <td>0.004769</td>\n",
       "      <td>...</td>\n",
       "      <td>0.017296</td>\n",
       "      <td>0.016137</td>\n",
       "      <td>0.008427</td>\n",
       "      <td>0.000000</td>\n",
       "      <td>0.000000</td>\n",
       "      <td>0.132087</td>\n",
       "      <td>0.00000</td>\n",
       "      <td>0.00000</td>\n",
       "      <td>0.065324</td>\n",
       "      <td>0.008660</td>\n",
       "    </tr>\n",
       "    <tr>\n",
       "      <th>component_5</th>\n",
       "      <td>0.000000</td>\n",
       "      <td>0.000693</td>\n",
       "      <td>0.038845</td>\n",
       "      <td>0.002755</td>\n",
       "      <td>0.025352</td>\n",
       "      <td>0.000000</td>\n",
       "      <td>0.000000</td>\n",
       "      <td>0.000000</td>\n",
       "      <td>0.000000</td>\n",
       "      <td>0.014727</td>\n",
       "      <td>...</td>\n",
       "      <td>0.000000</td>\n",
       "      <td>0.000000</td>\n",
       "      <td>0.000000</td>\n",
       "      <td>0.002877</td>\n",
       "      <td>0.000000</td>\n",
       "      <td>0.001893</td>\n",
       "      <td>0.00000</td>\n",
       "      <td>0.00000</td>\n",
       "      <td>0.042330</td>\n",
       "      <td>0.000000</td>\n",
       "    </tr>\n",
       "    <tr>\n",
       "      <th>component_6</th>\n",
       "      <td>0.008507</td>\n",
       "      <td>0.000000</td>\n",
       "      <td>0.000000</td>\n",
       "      <td>0.026156</td>\n",
       "      <td>0.000000</td>\n",
       "      <td>0.000987</td>\n",
       "      <td>0.000000</td>\n",
       "      <td>0.013787</td>\n",
       "      <td>0.000000</td>\n",
       "      <td>0.000000</td>\n",
       "      <td>...</td>\n",
       "      <td>0.003645</td>\n",
       "      <td>0.005048</td>\n",
       "      <td>0.002565</td>\n",
       "      <td>0.000000</td>\n",
       "      <td>0.020590</td>\n",
       "      <td>0.014928</td>\n",
       "      <td>0.52754</td>\n",
       "      <td>0.27866</td>\n",
       "      <td>0.009856</td>\n",
       "      <td>0.019871</td>\n",
       "    </tr>\n",
       "    <tr>\n",
       "      <th>component_7</th>\n",
       "      <td>0.032660</td>\n",
       "      <td>0.030479</td>\n",
       "      <td>0.045984</td>\n",
       "      <td>0.000000</td>\n",
       "      <td>0.007036</td>\n",
       "      <td>0.006957</td>\n",
       "      <td>0.042688</td>\n",
       "      <td>0.000247</td>\n",
       "      <td>0.042124</td>\n",
       "      <td>0.000227</td>\n",
       "      <td>...</td>\n",
       "      <td>0.009152</td>\n",
       "      <td>0.000000</td>\n",
       "      <td>0.003761</td>\n",
       "      <td>0.014935</td>\n",
       "      <td>0.000000</td>\n",
       "      <td>0.021511</td>\n",
       "      <td>0.00000</td>\n",
       "      <td>0.00000</td>\n",
       "      <td>0.144380</td>\n",
       "      <td>0.019351</td>\n",
       "    </tr>\n",
       "    <tr>\n",
       "      <th>component_8</th>\n",
       "      <td>0.007864</td>\n",
       "      <td>0.002240</td>\n",
       "      <td>0.012433</td>\n",
       "      <td>0.003035</td>\n",
       "      <td>0.005695</td>\n",
       "      <td>0.002910</td>\n",
       "      <td>0.002634</td>\n",
       "      <td>0.010754</td>\n",
       "      <td>0.036335</td>\n",
       "      <td>0.010623</td>\n",
       "      <td>...</td>\n",
       "      <td>0.021225</td>\n",
       "      <td>0.002283</td>\n",
       "      <td>0.000000</td>\n",
       "      <td>0.000000</td>\n",
       "      <td>0.000274</td>\n",
       "      <td>0.002023</td>\n",
       "      <td>0.00000</td>\n",
       "      <td>0.00000</td>\n",
       "      <td>0.067607</td>\n",
       "      <td>0.000000</td>\n",
       "    </tr>\n",
       "  </tbody>\n",
       "</table>\n",
       "<p>8 rows × 2137 columns</p>\n",
       "</div>"
      ],
      "text/plain": [
       "              abandon   ability      able    abroad   absence  absolutely  \\\n",
       "component_1  0.021689  0.013638  0.058470  0.003576  0.022196  0.008015     \n",
       "component_2  0.000000  0.000000  0.017905  0.000000  0.020057  0.001143     \n",
       "component_3  0.000000  0.027488  0.039265  0.002569  0.012667  0.014955     \n",
       "component_4  0.013997  0.021895  0.050336  0.017781  0.000000  0.013563     \n",
       "component_5  0.000000  0.000693  0.038845  0.002755  0.025352  0.000000     \n",
       "component_6  0.008507  0.000000  0.000000  0.026156  0.000000  0.000987     \n",
       "component_7  0.032660  0.030479  0.045984  0.000000  0.007036  0.006957     \n",
       "component_8  0.007864  0.002240  0.012433  0.003035  0.005695  0.002910     \n",
       "\n",
       "               absorb    accent    accept  accident  ...  year pass  \\\n",
       "component_1  0.014804  0.019734  0.012183  0.079102  ...  0.001364    \n",
       "component_2  0.000000  0.015159  0.014871  0.000000  ...  0.022499    \n",
       "component_3  0.000000  0.000000  0.033883  0.000000  ...  0.006056    \n",
       "component_4  0.000000  0.012988  0.071781  0.004769  ...  0.017296    \n",
       "component_5  0.000000  0.000000  0.000000  0.014727  ...  0.000000    \n",
       "component_6  0.000000  0.013787  0.000000  0.000000  ...  0.003645    \n",
       "component_7  0.042688  0.000247  0.042124  0.000227  ...  0.009152    \n",
       "component_8  0.002634  0.010754  0.036335  0.010623  ...  0.021225    \n",
       "\n",
       "             year relationship  year year      yell    yellow       yes  \\\n",
       "component_1  0.008361           0.007211   0.046922  0.048166  0.068292   \n",
       "component_2  0.000000           0.000000   0.004481  0.019418  0.018591   \n",
       "component_3  0.010194           0.021646   0.005927  0.000000  0.066488   \n",
       "component_4  0.016137           0.008427   0.000000  0.000000  0.132087   \n",
       "component_5  0.000000           0.000000   0.002877  0.000000  0.001893   \n",
       "component_6  0.005048           0.002565   0.000000  0.020590  0.014928   \n",
       "component_7  0.000000           0.003761   0.014935  0.000000  0.021511   \n",
       "component_8  0.002283           0.000000   0.000000  0.000274  0.002023   \n",
       "\n",
       "                york  york city     young     youth  \n",
       "component_1  0.00000  0.00000    0.068916  0.015416  \n",
       "component_2  0.00000  0.00000    0.042497  0.000000  \n",
       "component_3  0.00000  0.00000    0.067415  0.000000  \n",
       "component_4  0.00000  0.00000    0.065324  0.008660  \n",
       "component_5  0.00000  0.00000    0.042330  0.000000  \n",
       "component_6  0.52754  0.27866    0.009856  0.019871  \n",
       "component_7  0.00000  0.00000    0.144380  0.019351  \n",
       "component_8  0.00000  0.00000    0.067607  0.000000  \n",
       "\n",
       "[8 rows x 2137 columns]"
      ]
     },
     "execution_count": 246,
     "metadata": {},
     "output_type": "execute_result"
    }
   ],
   "source": [
    "topic_word = pd.DataFrame(topic_modeler.components_,\n",
    "             index = [\"component_1\",\"component_2\",\"component_3\",\"component_4\",\"component_5\",\"component_6\",\n",
    "                     \"component_7\",\"component_8\"],\n",
    "             columns = vectorizer.get_feature_names())\n",
    "topic_word"
   ]
  },
  {
   "cell_type": "markdown",
   "metadata": {},
   "source": [
    "# Prepare doc-topic matrix for scattertext"
   ]
  },
  {
   "cell_type": "markdown",
   "metadata": {},
   "source": [
    "Join the NMF model doc_topic matrix (aka H) with the original dataframe of Modern Love essays and stories "
   ]
  },
  {
   "cell_type": "code",
   "execution_count": 85,
   "metadata": {},
   "outputs": [],
   "source": [
    "# reset option back to previous state so it's easier to view multiple rows of the dataframe at a time\n",
    "pd.reset_option(\"use_inf_as_na\")"
   ]
  },
  {
   "cell_type": "code",
   "execution_count": 247,
   "metadata": {},
   "outputs": [],
   "source": [
    "nmf_doc_topic_df = pd.DataFrame(nmf_doc_topic.round(5)) # n_docs x k_topics\n",
    "modern_love_doc_topic_df = modern_love_df_rev_2.join(nmf_doc_topic_df)\n",
    "modern_love_doc_topic_df = modern_love_doc_topic_df.rename(columns={0:'topic_1',1:'topic_2',\n",
    "                                                                   2:'topic_3',3:'topic_4',\n",
    "                                                                   4:'topic_5',5:'topic_6',\n",
    "                                                                   6:'topic_7',7:'topic_8'})"
   ]
  },
  {
   "cell_type": "code",
   "execution_count": 248,
   "metadata": {},
   "outputs": [
    {
     "data": {
      "text/html": [
       "<div>\n",
       "<style scoped>\n",
       "    .dataframe tbody tr th:only-of-type {\n",
       "        vertical-align: middle;\n",
       "    }\n",
       "\n",
       "    .dataframe tbody tr th {\n",
       "        vertical-align: top;\n",
       "    }\n",
       "\n",
       "    .dataframe thead th {\n",
       "        text-align: right;\n",
       "    }\n",
       "</style>\n",
       "<table border=\"1\" class=\"dataframe\">\n",
       "  <thead>\n",
       "    <tr style=\"text-align: right;\">\n",
       "      <th></th>\n",
       "      <th>url</th>\n",
       "      <th>essay</th>\n",
       "      <th>id</th>\n",
       "      <th>headline</th>\n",
       "      <th>abstract</th>\n",
       "      <th>snippet</th>\n",
       "      <th>lead_paragraph</th>\n",
       "      <th>pub_date</th>\n",
       "      <th>news_desk</th>\n",
       "      <th>section</th>\n",
       "      <th>...</th>\n",
       "      <th>essay_rev_clean_2</th>\n",
       "      <th>essay_rev_clean_3</th>\n",
       "      <th>topic_1</th>\n",
       "      <th>topic_2</th>\n",
       "      <th>topic_3</th>\n",
       "      <th>topic_4</th>\n",
       "      <th>topic_5</th>\n",
       "      <th>topic_6</th>\n",
       "      <th>topic_7</th>\n",
       "      <th>topic_8</th>\n",
       "    </tr>\n",
       "  </thead>\n",
       "  <tbody>\n",
       "    <tr>\n",
       "      <th>1183</th>\n",
       "      <td>https://www.nytimes.com/2020/09/22/style/tiny-modern-love-stories-coronavirus-i-didnt-want-to-like-him.html</td>\n",
       "      <td>We broke up all over New York City; no one block could see us through. I saw our split coming on Astor Place and on Greenpoint Avenue, too. One night we cried until our eyes were raw on the steps of an empty storefront in Williamsburg. The end was near, we knew. A few years and many failed first dates later, I noticed a frozen yogurt shop had moved into that empty storefront. Up the stairs, I crossed the threshold of our heartbreak and savored all the flavors inside. A sweet reminder of love, how one can never get enough. — Meg Christman</td>\n",
       "      <td>nyt://article/c4def64a-dad4-5c95-9f4d-1f2387972584</td>\n",
       "      <td>Tiny Love Stories: ‘I Didn’t Want to Like Him’</td>\n",
       "      <td>Modern Love in miniature, featuring reader-submitted stories of no more than 100 words.</td>\n",
       "      <td>Modern Love in miniature, featuring reader-submitted stories of no more than 100 words.</td>\n",
       "      <td>Six years ago, on a humid evening at an open-air bar in Vietnam, a tipsy acquaintance gave me a rock. She stole it from a potted plant, saying, “Don’t ever lose this rock.” Her goofy gesture made me blush. When I returned to the United States, we lost touch. I also lost touch with ease and intimacy in the following years, falling into bouts of unemployment, then unrelenting depression. But I did keep the rock. Each time I hold it, I remember that humid night — the feeling of belonging and excitement — and the potential to find it once again. — Ramzi Babouder-Matta</td>\n",
       "      <td>2020-09-22</td>\n",
       "      <td>Styles</td>\n",
       "      <td>Style</td>\n",
       "      <td>...</td>\n",
       "      <td>break new york city block split come astor place greenpoint avenue cry eye raw step storefront williamsburg end near year fail date later notice frozen yogurt shop storefront stair cross threshold heartbreak savor flavor inside sweet reminder love meg christman</td>\n",
       "      <td>break new york city block split come astor place greenpoint avenue cry eye raw step storefront williamsburg end near year fail date later notice frozen yogurt shop storefront stair cross threshold heartbreak savor flavor inside sweet reminder love meg christman</td>\n",
       "      <td>0.0</td>\n",
       "      <td>0.00383</td>\n",
       "      <td>0.0</td>\n",
       "      <td>0.05354</td>\n",
       "      <td>0.0</td>\n",
       "      <td>0.02655</td>\n",
       "      <td>0.0006</td>\n",
       "      <td>0.02116</td>\n",
       "    </tr>\n",
       "  </tbody>\n",
       "</table>\n",
       "<p>1 rows × 24 columns</p>\n",
       "</div>"
      ],
      "text/plain": [
       "                                                                                                              url  \\\n",
       "1183  https://www.nytimes.com/2020/09/22/style/tiny-modern-love-stories-coronavirus-i-didnt-want-to-like-him.html   \n",
       "\n",
       "                                                                                                                                                                                                                                                                                                                                                                                                                                                                                                                                                                essay  \\\n",
       "1183  We broke up all over New York City; no one block could see us through. I saw our split coming on Astor Place and on Greenpoint Avenue, too. One night we cried until our eyes were raw on the steps of an empty storefront in Williamsburg. The end was near, we knew. A few years and many failed first dates later, I noticed a frozen yogurt shop had moved into that empty storefront. Up the stairs, I crossed the threshold of our heartbreak and savored all the flavors inside. A sweet reminder of love, how one can never get enough. — Meg Christman   \n",
       "\n",
       "                                                      id  \\\n",
       "1183  nyt://article/c4def64a-dad4-5c95-9f4d-1f2387972584   \n",
       "\n",
       "                                            headline  \\\n",
       "1183  Tiny Love Stories: ‘I Didn’t Want to Like Him’   \n",
       "\n",
       "                                                                                     abstract  \\\n",
       "1183  Modern Love in miniature, featuring reader-submitted stories of no more than 100 words.   \n",
       "\n",
       "                                                                                      snippet  \\\n",
       "1183  Modern Love in miniature, featuring reader-submitted stories of no more than 100 words.   \n",
       "\n",
       "                                                                                                                                                                                                                                                                                                                                                                                                                                                                                                                                                                                  lead_paragraph  \\\n",
       "1183  Six years ago, on a humid evening at an open-air bar in Vietnam, a tipsy acquaintance gave me a rock. She stole it from a potted plant, saying, “Don’t ever lose this rock.” Her goofy gesture made me blush. When I returned to the United States, we lost touch. I also lost touch with ease and intimacy in the following years, falling into bouts of unemployment, then unrelenting depression. But I did keep the rock. Each time I hold it, I remember that humid night — the feeling of belonging and excitement — and the potential to find it once again. — Ramzi Babouder-Matta   \n",
       "\n",
       "        pub_date news_desk section  ...  \\\n",
       "1183  2020-09-22  Styles    Style   ...   \n",
       "\n",
       "                                                                                                                                                                                                                                                          essay_rev_clean_2  \\\n",
       "1183  break new york city block split come astor place greenpoint avenue cry eye raw step storefront williamsburg end near year fail date later notice frozen yogurt shop storefront stair cross threshold heartbreak savor flavor inside sweet reminder love meg christman   \n",
       "\n",
       "                                                                                                                                                                                                                                                          essay_rev_clean_3  \\\n",
       "1183  break new york city block split come astor place greenpoint avenue cry eye raw step storefront williamsburg end near year fail date later notice frozen yogurt shop storefront stair cross threshold heartbreak savor flavor inside sweet reminder love meg christman   \n",
       "\n",
       "     topic_1  topic_2 topic_3  topic_4  topic_5  topic_6  topic_7  topic_8  \n",
       "1183  0.0     0.00383  0.0     0.05354  0.0      0.02655  0.0006   0.02116  \n",
       "\n",
       "[1 rows x 24 columns]"
      ]
     },
     "execution_count": 248,
     "metadata": {},
     "output_type": "execute_result"
    }
   ],
   "source": [
    "modern_love_doc_topic_df.loc[modern_love_doc_topic_df.essay_rev.str.contains('Christman')]"
   ]
  },
  {
   "cell_type": "markdown",
   "metadata": {},
   "source": [
    "Add a new column that finds the topic with the maximum coefficient per doc"
   ]
  },
  {
   "cell_type": "code",
   "execution_count": 249,
   "metadata": {},
   "outputs": [],
   "source": [
    "modern_love_doc_topic_df['topics'] = modern_love_doc_topic_df.iloc[:,-8:].idxmax(axis=1)"
   ]
  },
  {
   "cell_type": "markdown",
   "metadata": {},
   "source": [
    "Get dummies from the new topics column"
   ]
  },
  {
   "cell_type": "code",
   "execution_count": 250,
   "metadata": {},
   "outputs": [],
   "source": [
    "topic_dummies = pd.get_dummies(modern_love_doc_topic_df['topics'])"
   ]
  },
  {
   "cell_type": "code",
   "execution_count": 251,
   "metadata": {},
   "outputs": [
    {
     "data": {
      "text/html": [
       "<div>\n",
       "<style scoped>\n",
       "    .dataframe tbody tr th:only-of-type {\n",
       "        vertical-align: middle;\n",
       "    }\n",
       "\n",
       "    .dataframe tbody tr th {\n",
       "        vertical-align: top;\n",
       "    }\n",
       "\n",
       "    .dataframe thead th {\n",
       "        text-align: right;\n",
       "    }\n",
       "</style>\n",
       "<table border=\"1\" class=\"dataframe\">\n",
       "  <thead>\n",
       "    <tr style=\"text-align: right;\">\n",
       "      <th></th>\n",
       "      <th>topic_1</th>\n",
       "      <th>topic_2</th>\n",
       "      <th>topic_3</th>\n",
       "      <th>topic_4</th>\n",
       "      <th>topic_5</th>\n",
       "      <th>topic_6</th>\n",
       "      <th>topic_7</th>\n",
       "      <th>topic_8</th>\n",
       "    </tr>\n",
       "  </thead>\n",
       "  <tbody>\n",
       "    <tr>\n",
       "      <th>0</th>\n",
       "      <td>0</td>\n",
       "      <td>0</td>\n",
       "      <td>0</td>\n",
       "      <td>0</td>\n",
       "      <td>0</td>\n",
       "      <td>0</td>\n",
       "      <td>1</td>\n",
       "      <td>0</td>\n",
       "    </tr>\n",
       "    <tr>\n",
       "      <th>2</th>\n",
       "      <td>0</td>\n",
       "      <td>0</td>\n",
       "      <td>0</td>\n",
       "      <td>0</td>\n",
       "      <td>0</td>\n",
       "      <td>0</td>\n",
       "      <td>1</td>\n",
       "      <td>0</td>\n",
       "    </tr>\n",
       "    <tr>\n",
       "      <th>3</th>\n",
       "      <td>0</td>\n",
       "      <td>0</td>\n",
       "      <td>0</td>\n",
       "      <td>1</td>\n",
       "      <td>0</td>\n",
       "      <td>0</td>\n",
       "      <td>0</td>\n",
       "      <td>0</td>\n",
       "    </tr>\n",
       "    <tr>\n",
       "      <th>4</th>\n",
       "      <td>0</td>\n",
       "      <td>0</td>\n",
       "      <td>0</td>\n",
       "      <td>1</td>\n",
       "      <td>0</td>\n",
       "      <td>0</td>\n",
       "      <td>0</td>\n",
       "      <td>0</td>\n",
       "    </tr>\n",
       "    <tr>\n",
       "      <th>5</th>\n",
       "      <td>0</td>\n",
       "      <td>1</td>\n",
       "      <td>0</td>\n",
       "      <td>0</td>\n",
       "      <td>0</td>\n",
       "      <td>0</td>\n",
       "      <td>0</td>\n",
       "      <td>0</td>\n",
       "    </tr>\n",
       "  </tbody>\n",
       "</table>\n",
       "</div>"
      ],
      "text/plain": [
       "   topic_1  topic_2  topic_3  topic_4  topic_5  topic_6  topic_7  topic_8\n",
       "0  0        0        0        0        0        0        1        0      \n",
       "2  0        0        0        0        0        0        1        0      \n",
       "3  0        0        0        1        0        0        0        0      \n",
       "4  0        0        0        1        0        0        0        0      \n",
       "5  0        1        0        0        0        0        0        0      "
      ]
     },
     "execution_count": 251,
     "metadata": {},
     "output_type": "execute_result"
    }
   ],
   "source": [
    "topic_dummies.head()"
   ]
  },
  {
   "cell_type": "code",
   "execution_count": 252,
   "metadata": {},
   "outputs": [],
   "source": [
    "topic_dummies['topic_1'] = topic_dummies['topic_1'].map(lambda x: 'topic 1' if x == 1 else 'not topic 1')\n",
    "topic_dummies['topic_2'] = topic_dummies['topic_2'].map(lambda x: 'topic 2' if x == 1 else 'not topic 2')\n",
    "topic_dummies['topic_3'] = topic_dummies['topic_3'].map(lambda x: 'topic 3' if x == 1 else 'not topic 3')\n",
    "topic_dummies['topic_4'] = topic_dummies['topic_4'].map(lambda x: 'topic 4' if x == 1 else 'not topic 4')\n",
    "topic_dummies['topic_5'] = topic_dummies['topic_5'].map(lambda x: 'topic 5' if x == 1 else 'not topic 5')\n",
    "topic_dummies['topic_6'] = topic_dummies['topic_6'].map(lambda x: 'topic 6' if x == 1 else 'not topic 6')\n",
    "topic_dummies['topic_7'] = topic_dummies['topic_7'].map(lambda x: 'topic 7' if x == 1 else 'not topic 7')\n",
    "topic_dummies['topic_8'] = topic_dummies['topic_8'].map(lambda x: 'topic 8' if x == 1 else 'not topic 8')"
   ]
  },
  {
   "cell_type": "markdown",
   "metadata": {},
   "source": [
    "Create smaller dataframe for scattertext"
   ]
  },
  {
   "cell_type": "code",
   "execution_count": 58,
   "metadata": {},
   "outputs": [],
   "source": [
    "scattertext_df = modern_love_doc_topic_df[['url','essay_rev']].join(topic_dummies)"
   ]
  },
  {
   "cell_type": "code",
   "execution_count": 253,
   "metadata": {},
   "outputs": [
    {
     "data": {
      "text/html": [
       "<div>\n",
       "<style scoped>\n",
       "    .dataframe tbody tr th:only-of-type {\n",
       "        vertical-align: middle;\n",
       "    }\n",
       "\n",
       "    .dataframe tbody tr th {\n",
       "        vertical-align: top;\n",
       "    }\n",
       "\n",
       "    .dataframe thead th {\n",
       "        text-align: right;\n",
       "    }\n",
       "</style>\n",
       "<table border=\"1\" class=\"dataframe\">\n",
       "  <thead>\n",
       "    <tr style=\"text-align: right;\">\n",
       "      <th></th>\n",
       "      <th>url</th>\n",
       "      <th>essay_rev</th>\n",
       "      <th>topic_1</th>\n",
       "      <th>topic_2</th>\n",
       "      <th>topic_3</th>\n",
       "      <th>topic_4</th>\n",
       "      <th>topic_5</th>\n",
       "      <th>topic_6</th>\n",
       "      <th>topic_7</th>\n",
       "      <th>topic_8</th>\n",
       "    </tr>\n",
       "  </thead>\n",
       "  <tbody>\n",
       "    <tr>\n",
       "      <th>0</th>\n",
       "      <td>https://www.nytimes.com/2022/02/25/style/modern-love-seeking-a-father-for-my-child-relationship-optional.html</td>\n",
       "      <td>Two days before I left South Dakota, Rex and I sat talking beneath the open hatchback of my car. In the distance, a lightning storm moved toward us over the open expanse of the Great Plains, churning the sky a murky purple. He was talking passionately about lithium batteries. The more he talked, the less he and I seemed to have in common. I considered myself someone who could become interested in almost anything, especially when I was attracted to the person speaking. But now I asked myself: Did I care about batteries? He and I were volunteers on the Pine Ridge Reservation, building and repairing infrastructure. He had been the first person to greet me when I arrived at the end of the long, dirt road. When he climbed out of the cab of a skid loader, and I saw his face, my body warmed. In the lyrical version of what happened as the storm approached, we would have stopped talking and taken seriously the pleasure of our bodies. But wanting to have a baby had made dating in my late 30s less like a poem and more like a math problem. There was a lot that had to line up, and what I was looking for now differed from what my younger self had envisioned. I didn’t care about dating someone for a certain amount of time before we had a baby, or being in love, or getting married. I wanted to like the biological father of my child, maybe admire him. That was about it. I had arrived at this set of criteria because the alternatives seemed sentimental and unrealistic, especially the husband-to-be wish lists that many of us champion during those years when we are both ready and able to have children. With the help of my sitting meditation practice, I had observed that the more I worried about getting pregnant, the less discerning I was about love, an effect I feared would intensify as I got older. How could I trust my judgment under pressure? Wouldn’t a lot of men start to smell like fathers? I decided the safest way to protect myself against romantic delusion would be to separate the two stories from the outset: I could try to find a mate or become a mother, but not at the same time. Since biological constraints made it easy to figure out which was more urgent, I resolved to have a child outside of the context of love. My solo road trip to South Dakota was conceived as an experience my future self, the one saddled with a dependent, would someday thank me for. When I returned home, I planned to get pregnant using an anonymous donor’s sperm. On my last evening with Rex, kissing in his tent, I realized there was a lot about him I didn’t know — who was in his life, where he worked, his last name. Before I crawled out of his tent, he asked for my phone number. He was headed home to Michigan, and I to California. I told him I thought we should leave things exactly as they were, which seemed perfect to me. “What, are you crazy?” he said, and he gave me his number. Back home, I pored over donor questionnaires at the local sperm bank, trying to keep straight who liked video games and who preferred billiards, but it all mixed blandly together for me. Phone conversations with Rex, though, were weird and memorable. He had inherited his father’s expressions such as “Son of a biscuit!” and “Jeez O’Pete’s!” Doting on his backyard laying hens, he often referred to himself as a “chicken mama.” He was the only 30-something adult I knew who had traveled on an airplane exactly once, a domestic round trip for a former job. We didn’t talk much about the parts of our lives that existed beyond the present. He mentioned that his relationship with a woman in Michigan was crumbling. All he knew of my path to motherhood was that I wanted a child. When my search for a donor stagnated from lacking a warm feeling about any of them, friends offered to screen profiles with me on the eve of my 40th birthday. Two donors received my friends’ approval, so I put myself on the wait-list for their sperm, though I still felt ambivalent. When I finally told Rex about my stalled plan to become a mother, he said, “I can help you with that.” I was silent. Then I said, “Don’t say something like that without thinking about it.” “I have.” He wasn’t interested in being a father or co-parent, so the scenarios we discussed assumed that by the time I gave birth, he and I no longer would be romantically involved. Soon he visited me in California and had his first experience soaking naked with strangers in hot springs, his first contact with thousand-year-old redwood trees (he cried). He gave back rubs that were accurate, not clumsy; his hands were full of life. We were still working on our donor arrangement. We were also falling in love. I went to stay with him in Michigan, where he taught me how to use a chain saw and care for chickens. Eventually, he followed me back to California, driving the whole way towing a homemade trailer filled with tools. During this time, we were trying to live two separate stories: the one in which every month we tried to conceive, and the other in which we were still getting to know each other. But the more we enjoyed ourselves, the more confusing our situation became. If I got pregnant, would he leave the relationship? If I didn’t get pregnant, would I switch to another donor? About a year after he offered to be my donor, we began to have these difficult conversations. And in the middle of them, I got pregnant. Such was his generosity that he was genuinely thrilled for me. Inwardly, though, he began to withdraw. He still didn’t want to be a father or co-parent; the thought of either brought up old wounds from his childhood. Every day of his indecision, I was tempted to try to convince him to stay. Most days, I had enough sanity to recognize that doing this would harm us both. On the day he left California, he took a photograph of me looking haunted. Then he got in his car and drove east. It was Father’s Day. After he left, I scrambled into action, interviewing midwives, searching online for used baby gear, and trying to explain to the being in my womb why I was crying a lot: “I’m sorry, baby. I’m OK, just sad.” Then weeks later, without warning, a text arrived: “I made a terrible mistake.” By then, I recognized he wasn’t the only one. When love and a baby coincided for me, I still believed I could separate the two and remain fundamentally unchanged. Not until Rex and I were suffering was I able to see that the clean reality I envisioned had never existed between us. It had evaporated the moment he greeted me at the end of the dirt road, and my body responded with warmth. Buddhism is founded on the truth that suffering is caused by desire, which at first glance can make both suffering and desire sound unequivocally bad. But the beauty of suffering is that it offers the opportunity to have a curious and tender relationship with desire, to listen to it rather than try to eradicate it. Often what I hear beneath my desire’s surface noise isn’t problematic, only human: the vulnerability in having a life tangled up with others. In Rex’s absence, I remembered that tending to a lover or child is dirty work, in the most wholesome sense. We don’t fall in love or have a baby to have our points of view and preferences affirmed. We do it, at least a little bit, to soften our singular, lonesome grip on reality and invite in the unexpected, the undesirable and the inexplicable. This — call it messiness, or richness, or hands full of life — is what is beautiful and natural about being an animal with appetites beyond our understanding. Being faithful in the deepest sense to a lover or baby is saying yes to the weird and memorable before you know you want it or welcome it. Rex came to this in his own way. He told me that since he left California, he had been listening to podcasts about fatherhood and looking at the photo of me he took the day he left. He’d been crying, too. And he wanted to come back. “To the baby?” I said. “Or to me?” “Both,” he said. And he did. He sold his heaviest tools, repainted walls and put his house in Michigan up for sale. And two months later, he was back in California in time to catch in his hands our son being born.</td>\n",
       "      <td>not topic 1</td>\n",
       "      <td>not topic 2</td>\n",
       "      <td>not topic 3</td>\n",
       "      <td>not topic 4</td>\n",
       "      <td>not topic 5</td>\n",
       "      <td>not topic 6</td>\n",
       "      <td>topic 7</td>\n",
       "      <td>not topic 8</td>\n",
       "    </tr>\n",
       "    <tr>\n",
       "      <th>2</th>\n",
       "      <td>https://www.nytimes.com/2022/02/11/style/modern-love-gay-couple.html</td>\n",
       "      <td>Peter and I hitched our wagons young. Early 20s. He was wildly handsome, gay, with soulful brown eyes and a head full of loose, unruly curls. Raised by an African American woman and a white preacher man, Peter spent his childhood steeped in the evangelical ministry. He was as terrified of his father’s sermons as he was soothed by his mother’s inclination to administer to the more human aspects of the congregation they both led. The night I met Peter, he and I fell all the way in love. Kismet, you could say. He made me laugh with his very first words. It was my first time at the Nuyorican Poets Cafe, the premier debut joint for every performance poet trying to get onto the New York City poetry scene. I read my first piece on the open mic after the slam. Peter was among the first admirers to make his way through the applauding crowd to tell me I had simultaneously embodied the fury of his father and the vulnerability of his mother — and, as such, I was destined to be one of his true loves. “Only one of?” I asked. “Fate isn’t fixed,” he said, “The gods have to leave room for surprises!” By the time we met in the fall of 1997, Peter’s parents were long divorced. His father had left the church. And Peter was already exploring other truths to believe in. Poetry was his new religion. His poems were long, lyrical and lovingly painted with the impossibly beautiful brushstrokes of utopia. He lived his life with the same energy. He believed in the goodness of people. Once, in the middle of winter in Washington Square Park, I watched him unbutton his coat and drape it across the shoulders of a drunk who had just called him a homophobic slur. I was an ex-Christian and newly out lesbian fleeing the violent homophobia of the late 1990s in Jamaica, still wearing the fury of being attacked by a dozen boys and sexually assaulted in Kingston. I was ashamed and angry that it defined my final year of university. That’s why I moved to New York City on a tourist visa. I needed somewhere safe to call home. But I felt at sea in this new country. I had a few aunts and uncles in New York, but before any of this I had absolutely no relationship with my biological family. My parents had abandoned me — my mother at birth, and my father hadn’t even shown up. And now that I had announced that I was a lesbian, that already distant extended family wanted less to do with me. I was in New York in search of safety. Freedom. And room to explore my budding lesbian identity. I was seeking a tribe to which I could unequivocally belong. And the performance poetry slam scene was a mixture of every kind of misfit. Peter and I fit right in. In no time, it felt as if we had known each other our whole lives. We shared everything: stories, poems, disappointments, hopes. We spent most evenings together. I’d meet him after work and go to whichever cafe was holding a slam competition that night. He knew everything about me: how broke I was, who stole my favorite vibrator, the ex-cop who hit me — how I kept going back to her. Every time. One night, after a particularly bad fight with my abusive partner, my roommate cornered me and told me she was going to raise the rent unless I had sex with her. My tourist visa was almost expired. I had no money except what I won at the slams — and that was barely enough to pay for the couch, ramen noodles and a MetroCard. I had no work permit, so I couldn’t get a job. I couldn’t apply for any services. Without papers I couldn’t even get into a shelter. I told Peter I was going to give up on this crazy dream of freedom in New York to go back to Jamaica. He was quiet while I explained what it meant to be undocumented; I went on about green cards and citizenship and visas and immigration authorities. When I was done talking, he asked me to marry him. When I pushed back, saying such a marriage was illegal and that it might land us in trouble with the law, he said the law was wrong. “You love me, right?” I nodded. “Well, I love you. You love me. I want children. You want children, right?” “Right …” “Well, that is what people do when they love each other and they want to have children together. They get married. And that makes them a family. They can’t have it both ways. And love is love, right?” His argument was sound. If the rules were fair, I would have been able to marry a woman, get citizenship and start a family with her. As it stood in the U.S., that wasn’t allowed. But Peter and I were well within our right to claim the perks of being a couple. We were already partners. He was already my family. We were married at City Hall. Peter’s lover, who was to be our witness, didn’t even show up for the wedding. We had to ask a beautiful man in cowboy boots and a sequined vest to stand in for him. After our very giggly “I dos,” Peter invited me to Thanksgiving dinner with his family. Before the month was out, I moved in with him and his amazing mother, Carole Linda, in the beautiful old house, the one that was once his parents’ church, two blocks from the beach in Far Rockaway. We spent three magical years living together. No one understood the quirky, kooky couple who arrived together, left together, but flirted with everyone in between. We had so much fun together. We were the perfect couple. We knew we’d be the perfect parents. But we were a modern couple. We wanted to be more intentional, more deliberate about our choices than our parents had been. We had more living to do before we took on the responsibilities of children. We didn’t have money, but we had lots of time. We were committed to living first. But at 29 Peter was diagnosed with cancer. Stage 4. He was diagnosed in May. He died on Dec. 16. At 11:30. Half-hour before he would turn 30. I was so furious at him dying, I couldn’t cry. It felt as if all my dreams of family died with him; a partner, children, my willing comrade in the radical redefining of the modern family, modern love. His mother was better at making peace with the heavens over the loss of her firstborn. I was surprised at her ability to remain connected to me. She stayed close, calling, sending Christmas cards, checking in, even as I remained distant, angry, unsure about deserving the magic of the family Peter had so tragically, suddenly, left behind. I grudgingly remained connected to his younger brother, CJ, who reminded me so much of Peter. Except he wasn’t gay, or a poet. He grew up to be a fine filmmaker and the only straight man in the L.G.B.T.Q. alliance in college. We often called each other to reminisce about Peter, to recount the sorcery of him, to bask in the shared memory of his magic. Later, when I became frantic with the desire to start a family — chasing gay men at house parties, begging sperm from strangers on planes — I broke down and wept for what felt like the too-early death of my husband. I didn’t want to be the strange young widow hosting lesbian parties in Crown Heights. I wanted to be the badass lesbian writer, with the flamboyant gay husband, raising four children in a rambling old house that used to be a church, two blocks from the beach in Far Rockaway. In one conversation with CJ, he interrupted to ask if there was a way he could stand in for Peter, by giving me his sperm. A year later, my daughter, Zuri, the most astounding miracle, born a decade after Peter’s death, refers to Peter as her “almost dad.” Carole Linda is still my mother-in-law and my kid’s actual, biological grandmother. Zuri’s “Baba,” CJ, got married last August. Zuri almost passed out from the joy of being asked to be the ring bearer at the wedding. We all traveled from multiple cities to watch them speak the vows. His brothers, their wives, Peter’s grandmother, his father, me, my non-monogamous partner and a beautiful cohort of ordinary folks, misfits, artists, preachers, writers, activists, gay, straight, nonbinary. I looked around the room, thinking if we had had the choice, this is what Peter’s and my wedding would have looked like. Peter would have reveled in it. Some days I still hear Peter’s voice inside my head, rustling in the fall wind, booming in the rush of traffic on the West Side Highway. He’s always whispering, screaming, saying the same thing, “Fate isn’t fixed, Staceyann. There is always some room for the gods to surprise us.”</td>\n",
       "      <td>not topic 1</td>\n",
       "      <td>not topic 2</td>\n",
       "      <td>not topic 3</td>\n",
       "      <td>not topic 4</td>\n",
       "      <td>not topic 5</td>\n",
       "      <td>not topic 6</td>\n",
       "      <td>not topic 7</td>\n",
       "      <td>topic 8</td>\n",
       "    </tr>\n",
       "    <tr>\n",
       "      <th>3</th>\n",
       "      <td>https://www.nytimes.com/2022/02/11/style/modern-love-confidence-self-love.html</td>\n",
       "      <td>I’ve spent my whole life looking for similarities between myself and the protagonists in love stories. When I lost my father to prison and my mother’s attention to her double duties as a single parent, I escaped through books in an attempt to reimagine what love could look like. But the couples, usually locked in an embrace on the cover of those “harmless” rags, looked nothing like the people in my house. Abuse ruined the bones of our homes and turned them into rotten structures. My hopes of experiencing romance in the future seemed incompatible with my reality. I had no example of romantic love, not for girls that looked like me, until my cousin, Tiffany. Two years older than me, and seemingly in control of her life, Tiffany became a blueprint; no, a mirror — a way to see myself clearly. She was everything I wanted to be. She garnered attention when she walked into a room: ash brown hair, freckles and a genuine smile. Tiffany was beyond cool, she was fresh; beyond fresh, she was fly; beyond fly, her energy was unmatched. My cousin was my protector, the way an older sister should be. Tiffany taught me love by listening. She let me read her books and sing her songs from my favorite musicals. She joined me at my softball games and would sit next to me on the bench when I played catcher. She gave me tips for getting my crushes’ attention (none of which worked). First place in the oratory contest, she cheered. Solo during choir performance, she tossed a thumbs-up sign from the pew. We were inseparable until she went to high school and left me to fend for myself in those unimaginable middle school bouts of self-doubt. At 15, Tiffany had her first child. A little girl with a light as remarkable as her own, and the temperament of a doe. When she was pregnant, I asked her, “Are you sure?” She smiled and rubbed her belly. And just like that, my purpose was clear: I would have a daughter, too. Tiffany’s Little Light studied everything. Her mouth was an overturned cup spilling sunshine. They were an emerging constellation when they walked into a room together, stars to anybody who drew breath. They became a part of my vision board for maternal love. Do not be fooled, I too received this kind of love from my own mother. But it was so far removed from my teenage psyche, it wasn’t something I could pluck from my memory easily. You know, the way mirrors neglect to reflect what we’ve been conditioned to disbelieve. Despite the judgment of her being too young to raise a baby, Tiffany glowed. She glowed so brightly one could even say it blinded the jealous. And when Tiffany had her third child, she moved from California to find her footing in Baton Rouge. Her relationship with the father of her children, who I would later learn became more obsessed with the idea of owning Tiffany than loving her, was a wake-up call: Love is not transactional. Love is not ownership. Love is simply an act of absolute care. While love is an active verb, sometimes it ain’t enough at all. At 21, I had my daughter with my high school sweetheart. At 23, I left the dissolving relationship for a life that could hold my dreams to secure a future for my daughter. I called Tiffany to tell her the news. She answered, and I could hear her three children playing in the background. Little Light was now the eldest and took her job as protector of her two younger brothers seriously. “Cousin, are you sure?” Tiffany asked me. “Aren’t you scared?” I laughed away whatever fear I was carrying and told her I would be back. That it was just for the summer. But Tiffany knew what I couldn’t see yet. That I would find writing and become the woman of my own dreams. I cloaked myself in Tiffany’s charm and wore it until it became a second skin. This is how I arrived in Bed-Stuy, Brooklyn. I only dated men who called me beautiful. I flirted with anyone who could hold an interesting conversation. I gave love a run for its money because the only thing that truly kept my attention was my daughter’s health and laughter, and my burgeoning career in writing. I carried this new me everywhere: New York City, Poland, Britain and Canada. When the summer became a year, and the year became a decade, I recognized so much of my cousin in the way I carried myself. I loved how I looked to myself in the mirror. I loved how I looked from the reflection in my daughter’s eyes. Like Tiffany, I began to move through rooms easy like the wind, soundless and certain. This feeling stayed with me, from the red steps of our grandparents’ home in West Oakland to the Bed-Stuy stoops that became my sanctuary. At first, before she had her fifth child, Tiffany and I checked in weekly, then monthly, after she had her seventh child. Phone calls became text messages as our lives busied. She was raising eight children on her own and re-establishing herself after finally leaving an abusive relationship. Every other year I would visit, and when I couldn’t be physically present, I sent supportive messages, care packages and invitations for her to visit me on tour. After 15 years of visits dictated by holiday breaks and family reunions, I invited Tiffany to Florida. Tiffany had never been and was on a break from her on-again off-again relationship. I wanted to protect her. I wanted her to see what the world had to offer. She was the very best part of me. She gave me courage. She gave me reassurance. She gave me pep talks. She gave me compliments. Loving and celebrating others was natural for Tiffany. The least I could do was repay her generosity by giving her the space she needed to figure out who she wanted to be. Through Tiffany’s turbulent relationships, and her absolute love for her children, I began to understand what love costs. When she met me in Miami, a place I traveled to for weekends and took for granted, her eyes welled up with tears. I asked, “What’s wrong, cousin?” By the time she could pull herself together, we were walking alongside the beach, our manicured toes leaving kiss-prints on the sand. “I never thought I would get to see the Atlantic Ocean,” she said, tears sliding down her freckled face. “I feel like all I have is my kids. I’ve never traveled and seen the world like you.” I held my breath, terrified by the weight of the moment, but ready to rise to the occasion and remind her what she taught me so many years before. Fairy tales might teach us stories of whimsy, designed to mold single Black women into roles of grateful service before they’ve ever seen the world. It was my turn to show Tiffany that we are in fact an entire world ourselves.</td>\n",
       "      <td>not topic 1</td>\n",
       "      <td>not topic 2</td>\n",
       "      <td>not topic 3</td>\n",
       "      <td>topic 4</td>\n",
       "      <td>not topic 5</td>\n",
       "      <td>not topic 6</td>\n",
       "      <td>not topic 7</td>\n",
       "      <td>not topic 8</td>\n",
       "    </tr>\n",
       "    <tr>\n",
       "      <th>4</th>\n",
       "      <td>https://www.nytimes.com/2022/02/11/style/modern-love-black-boyfriend-applications.html</td>\n",
       "      <td>“I am no longer dating white guys. Nonwhite guys may submit their applications in my DMs.” These words, posted on my Facebook page, marked the beginning of a racial reckoning in my dating life. Some context: It was June 2020. George Floyd had just been murdered. Black people like myself were consumed with rage and were openly airing our grief. On top of that, I was a woman scorned. I was 35 years old, a highly educated Black woman, a homeowner and an attorney, and I had just been rejected by yet another mediocre white guy who then pursued a relationship with a white woman. In short, I was fed up with white people. So one afternoon, I wrote a half-crazed manifesto on my Facebook page. Specifically, I railed against a white society that clearly didn’t see me as white but insisted on rejecting my Blackness because of my appearance (fair-skinned) and upbringing (middle class). White people had called me “not Black” for liking Taylor Swift, told me they were “more Black than me” because they grew up in a predominantly Black neighborhood (or had an especially dark tan), and fetishized my “exoticness” and ethnic ambiguity. I ended my ramblings with the call for applicants. I clicked “post” without thinking. To my amazement, the likes and comments started pouring in. Black people saying that they’d had similar experiences. White allies thanking me and promising to “do the work.” I felt so vindicated. And then this popped up on Facebook Messenger: “Application submitted!” The message was from Josh, whom I went to high school with 18 years earlier in Maryland. He was tall, handsome, smart, funny and successful. And Black. I’d briefly reconnected with him at a bar in Baltimore in 2018 when I was in town for a work conference. We had flirted, but I remembered from Facebook that he’d gotten married, so I flew back to California at the end of the conference with a wistful “what-if” feeling fluttering in my chest. I soon found out through mutual friends that his marriage had ended before we connected, but seeing as we lived 3,000 miles apart, I figured there was no point in trying to pursue anything. But here he was now, reading my manifesto and submitting an actual application to date me. I was gobsmacked. Up to that point, the vast majority of my relationships had been with white men, the predictable result of years spent in a Maryland prep school and at a Massachusetts liberal arts college. In fact, it had become a running joke among my friends and family: If the guy was basic and white, he was my type. But I had never, not once, dated a Black man. And I’ll be honest — I had always felt a kind of shame around that, as though my not dating Black men reflected a deep-seated insecurity with my own Blackness. But here was an eligible Black bachelor offering me a chance at love, and a chance at embracing my Blackness. Josh and I started texting. We had a couple of video calls that were awkward at first but became more natural. I suggested flying out to Baltimore to see him, and he agreed. On the one hand, it seemed wild and reckless, jumping on a plane to visit someone I barely knew. And during a pandemic to boot. On the other, the whole thing felt like something out of a movie. I was flying 3,000 miles to have our “first date.” We packed a lot into that four-day first date. He took me to Baltimore’s National Aquarium. He treated me to dinners and wine. He even took me to a (socially distanced) visit with my grandmother on her birthday. Most of all, we reveled in our Blackness. We danced to hip-hop in his living room — and he could dance, something I had rarely experienced with my white boyfriends. We joked about the endearing quirks of our older Black relatives. We shared stories about being among the few Black people in our respective professional arenas — finance for him; law for me. With him I could openly “speak the language” and not have to explain myself. For the first time in my life, I felt like I could be completely, unapologetically Black with the guy I was dating. Like most first dates, there were uncomfortable moments. Josh was reserved and rarely volunteered information about himself, which meant it was hard to get to know him. And while there was definitely a mutual physical attraction, there was a shyness in Josh that only seemed to fall away with the help of a few drinks. Still, I chalked that up to our still getting to know one another. However, on my last night there, as we gazed at the city lights over the Inner Harbor, he turned to me and said, “You know this isn’t going to work, right?” Completely out of nowhere. I asked him to explain. He said our personalities were too different — I’m outgoing, high-energy and emotional; he’s analytical, quiet and calm. I, both a romantic and a lawyer, attempted to argue my case — “Doesn’t love find a way?” — and he, the realistic, number-crunching one, pointed out the obvious practical hurdles. With the physical distance between us, there was no way to properly date or figure out how we would fit together. My fairy tale seemingly shattered, I started to cry. He seemed sad too, though whether it was because of a mutual feeling of despair or simply uneasiness at my tears, I couldn’t tell. The next morning he drove me to the airport and I asked him to visit me in California. He gave a noncommittal answer. I left wondering if I would ever see him again. Turns out, I would. A few weeks after my Maryland trip, Josh asked to visit me in California. I was thrilled. I convinced myself that he wanted to visit California to see if he could make a home here with me. I planned a day trip to Napa. I borrowed my neighbor’s bike for Josh so we could tool around town together in true Californian style. I proudly showed him off to my friends, took him to my favorite local haunts, and tried my hardest to prove how great we could be together, the perfect Black power couple. Still, we weren’t quite clicking. Josh wasn’t entirely on board with my carefree Cali style. When we biked to the river on a hot day, I eagerly stripped down to splash around in the cool water, but he refused. When we strolled the sidewalks of downtown Napa, I reached out to intertwine my fingers with his, and he shook my hand off — turns out he wasn’t a fan of P.D.A. And the reservedness I had witnessed in Baltimore persisted. I tried to ask him questions about his family, of whom he seldom spoke. He demurred: “That’s personal.” As someone who had always been an open book, I was frustrated. When I drove him to the airport at the end of the visit, I had a hollow feeling. Why weren’t we clicking when we were perfect for each other, at least on paper: same hometown, same education, same career-driven lives, and most importantly (or so I thought), same race? How was this not kismet? It all came to a head in the spring of 2021. Josh invited me to Baltimore for the Preakness, an annual horse race and social event. But a disagreement over a coffee maker before I arrived — he didn’t own one, and for reasons I couldn’t fathom, didn’t want to have one on hand for my visits — pushed me over the edge. I said, “If you can’t even keep a coffee maker for me, it’s obvious you don’t care enough for me to fly 3,000 miles to see you.” To my horror, he didn’t argue. I said I wasn’t coming, and he didn’t try to change my mind. And that was it. What the hell had just happened? How did my lofty dreams fall so flat? Did I really fly to Maryland, and him to California — during a pandemic — for nothing more than a booty call? Over time, I realized my attachment to Josh was more intellectual than emotional. I had tried to make him — kind and well-meaning, but unable to match my spirit or provide me the emotional connection I wanted — into my perfect boyfriend, because he was Black. Josh represented the first time I naïvely attached my worth as a Black person to the success of my relationship with a Black man. But dating a Black man will not make me more Black, just as dating a white man won’t make me less Black. I am Black, period.  Regardless of the race or ethnicity of my next boyfriend, at least I’ll know one thing: Whoever loves me next must love all of me.</td>\n",
       "      <td>not topic 1</td>\n",
       "      <td>not topic 2</td>\n",
       "      <td>not topic 3</td>\n",
       "      <td>topic 4</td>\n",
       "      <td>not topic 5</td>\n",
       "      <td>not topic 6</td>\n",
       "      <td>not topic 7</td>\n",
       "      <td>not topic 8</td>\n",
       "    </tr>\n",
       "    <tr>\n",
       "      <th>5</th>\n",
       "      <td>https://www.nytimes.com/2022/02/11/style/modern-love-queer-dating-open-relationship.html</td>\n",
       "      <td>I’ve always been wary of sports, competition and falling in love. So growing up, I avoided all three. As a kid, I would shrug when “accidentally” letting goals into the net from the opposing team. I would walk slowly behind everyone else on the basketball court as they ran from end to end. My mother eventually stopped asking if I was interested in signing up for extracurriculars and my friends came to understand my lack of interest in playing board games, card games, drinking games or anything that required competing for the title winner. I was even able to avoid acting on romantic feelings for a long time but with age I let up slightly. After an indecisive football player, a shady basketball player, and a club bouncer who was as bad at kissing as he was at his job, I decided I had made a mistake opening myself up, and convinced myself that the real issue was vulnerability. I would no longer be attaching any emotional investments to my sexual partners. I never bothered to be competitive or to fall in love because I didn’t care to win. I met him on HER, a dating app for queer women and gender diverse people. He had long brown dreadlocks with subtle hints of blond and a promising smile. There was something about him that told me he would be the exact kind of fun I was looking for. He approached me with a smooth pickup line, and I responded with something much less cool. Before I could give it much thought he told me that he was assigned female at birth and had transitioned to live his life in the gender that was most authentic to him. “So, what are you looking for?” I said. “Well, I’m in an open relationship. So I’m not anticipating anything too serious,” he responded, adding that he and his partner were engaged to be married. My friends wanted to know how someone could be committed to a partner while pursuing other relationships. I didn’t blame them: the idea of a relationship where both partners agree to seeing other people while being together isn’t something that most learn about in “the birds and the bees” conversation. My immediate reaction when I learned he was in an open relationship was relief. I would have fun with no emotional responsibility. They were deeply in love and had a strong foundation on which their love was built. They knew that marriage was the ultimate goal of their relationship, and had its benefits both legally and personally, but they also knew that, in order to meet both of their physical and emotional needs, their marriage would need to be unconventional — which, in this case, meant leaving the door open for other intimate possibilities. What neither of us expected was the fast progression of our feelings. I started wondering more about when he’d see his fiancé next. He wanted details about the dates I went on. We both grew possessive as our unanticipated love bloomed. We began feeling entitled to each other. Yet, while my insecurity grew more obvious, he managed to mostly keep his casual demeanor. And of course he could. He always went home to the loving arms of his partner, and I always went home to thoughts of a lover that I couldn’t truly call my own. We were everything I vowed to never be: very vulnerable, and very corny. “You hang up first,” he’d say. “No, you!” I’d say, my naturally deep voice suddenly sounding prepubescent. We were inseparable. Soaking ourselves in wet kisses on the Toronto Transit Commission as if no one was around and feeding each other street meat on the corner of Church and Wellesley. Here I was, never having been intrigued by competition, but suddenly up to the challenge of convincing him that I was worthy of being his only one. I tried to appear unfazed by the uncertainty of our relationship, but with each passing day I could feel my nonchalant facade peeling away. I knew it wouldn’t take long before I had nothing left to hide behind. One evening, we joined our mutual friends for a night out. I had high hopes that the loud music and many shots of tequila would drown out the unanswered questions of our relationship. The dim club lights and the drink intensified the moment and when he and our friend began dancing with each other, I felt justified in my rage. Watching them dance — two Caribbeans sharing a strictly platonic love language of slow whining and good drinks — amplified everything that threatened our life together as a couple: my fear of losing him and not being able to do anything about it. It was then that I knew we couldn’t return to our no-strings-attached deal. I wanted to take away the love he reserved for his fiancé and keep it for myself (which is the exact antithesis of an open relationship). Here was this person who was sent to me through a dating app that hosts mostly nude pictures. Here, somehow, I met someone whose presence soothed me, and he had chosen to devote himself to someone else. Someone who had known the smell of his collar and the softness of his lips long before I even knew he existed. Nothing about that felt fair. I spent that night preparing for the curtain call on our love story. And though we continued to date for weeks afterward, that moment was a clear shift in our relationship. An obvious flag that this “casual thing” had gone too far. Our relationship came to an unavoidable end; I needed more and he knew he couldn’t give that to me. As I reflected on us, I realized that I was in competition with no one but myself. I assumed that “winning” in this situation meant we would abandon the concept of non-monogamy altogether and walk off into a sunset hand-in-hand. Just the two of us. But the open relationship wasn’t the problem. The problem was the strange expectation for Black women to be in competition with each other, even if they are unaware of it. And the even stranger expectation for Black queer relationships to still fit enough into the confines of heteronormativity to make other people comfortable. The normalization of heterosexuality has been so insidious in my life through the consumption of media, education, and social assumptions and attitudes, that even as a queer woman in love with a trans man, I still questioned the validity of our non-monogamy. I had to learn to quiet the noise of heteronormativity; the idea that being in love can only look one way for it to be valid. That intimacy can only include two people. That there needs to be competition in order to receive the love we deserve. Black folks have been queering the family dynamic for as long as we have existed in this world. We’ve had stepparents who have loved us like they made us from scratch. We’ve promoted any friendship that has lasted over five years to that’s my cousin status. I have half-siblings that I’ve only ever referred to as whole. The words “half-sibling” were treated as if they were illegal in my household; my parents constantly reminded us that the small, and scientific details of our family weren’t important. When my sister’s mom passed away and my aunt raised her, she called her auntie-mommy. We never questioned that. It never required an explanation. There has never been anything nuclear about any Black family dynamic I’ve ever known, so why did I villainize, and — in my own mind — compete with a Black woman who loved herself, and her fiancé enough to encourage him to share his love with me? Possibly, all along, I was never scared of competition or losing, but instead, as a Black woman, I couldn’t fathom the idea that, contrary to popular belief, love doesn’t actually require competition. Everyone can feel worthy. It was because of the open relationship with my engaged lover that I was able to say yes to a date with the next person I would go on to fall deeply in love with. Our non-monogamous ways gave me the freedom to explore other relationships openly. He went on to marry his fiancé and we have managed to remain friends. In our choice to smoothly transition from romantic to platonic, we stuck up a subliminal middle finger to a world where relationships between Black women — especially when there is a man in the middle — are so often reduced to the notion that there is only ever enough love for one of us. Open relationships are far from a means for competition, they are an embodiment of love unable to be confined. They have the ability to bring together a small-town, awkward Black girl and a cool island boy with effortless swagger, and somehow allow them to exist together in the Toronto summer heat, exiting their romance more filled with love than they found each other.</td>\n",
       "      <td>not topic 1</td>\n",
       "      <td>topic 2</td>\n",
       "      <td>not topic 3</td>\n",
       "      <td>not topic 4</td>\n",
       "      <td>not topic 5</td>\n",
       "      <td>not topic 6</td>\n",
       "      <td>not topic 7</td>\n",
       "      <td>not topic 8</td>\n",
       "    </tr>\n",
       "  </tbody>\n",
       "</table>\n",
       "</div>"
      ],
      "text/plain": [
       "                                                                                                             url  \\\n",
       "0  https://www.nytimes.com/2022/02/25/style/modern-love-seeking-a-father-for-my-child-relationship-optional.html   \n",
       "2  https://www.nytimes.com/2022/02/11/style/modern-love-gay-couple.html                                            \n",
       "3  https://www.nytimes.com/2022/02/11/style/modern-love-confidence-self-love.html                                  \n",
       "4  https://www.nytimes.com/2022/02/11/style/modern-love-black-boyfriend-applications.html                          \n",
       "5  https://www.nytimes.com/2022/02/11/style/modern-love-queer-dating-open-relationship.html                        \n",
       "\n",
       "                                                                                                                                                                                                                                                                                                                                                                                                                                                                                                                                                                                                                                                                                                                                                                                                                                                                                                                                                                                                                                                                                                                                                                                                                                                                                                                                                                                                                                                                                                                                                                                                                                                                                                                                                                                                                                                                                                                                                                                                                                                                                                                                                                                                                                                                                                                                                                                                                                                                                                                                                                                                                                                                                                                                                                                                                                                                                                                                                                                                                                                                                                                                                                                                                                                                                                                                                                                                                                                                                                                                                                                                                                                                                                                                                                                                                                                                                                                                                                                                                                                                                                                                                                                                                                                                                                                                                                                                                                                                                                                                                                                                                                                                                                                                                                                                                                                                                                                                                                                                                                                                                                                                                                                                                                                                                                                                                                                                                                                                                                                                                                                                                                                                                                                                                                                                                                                                                                                                                                                                                                                                                                                                                                                                                                                                                                                                                                                                                                                                                                                                                                                                                                                                                                                                                                                                                                                                                                                                                                                                                                                                                                                                                                                                                                                                                                                                                                                                                                                                                                                                                                                                                                                                                                                                                                                                                                                                                                                                                                                                                                                                                                                                                                                                                                                                                                                                                                                                                                                                                                                                                                                                                                                                                                                                                                                                                                                         essay_rev  \\\n",
       "0  Two days before I left South Dakota, Rex and I sat talking beneath the open hatchback of my car. In the distance, a lightning storm moved toward us over the open expanse of the Great Plains, churning the sky a murky purple. He was talking passionately about lithium batteries. The more he talked, the less he and I seemed to have in common. I considered myself someone who could become interested in almost anything, especially when I was attracted to the person speaking. But now I asked myself: Did I care about batteries? He and I were volunteers on the Pine Ridge Reservation, building and repairing infrastructure. He had been the first person to greet me when I arrived at the end of the long, dirt road. When he climbed out of the cab of a skid loader, and I saw his face, my body warmed. In the lyrical version of what happened as the storm approached, we would have stopped talking and taken seriously the pleasure of our bodies. But wanting to have a baby had made dating in my late 30s less like a poem and more like a math problem. There was a lot that had to line up, and what I was looking for now differed from what my younger self had envisioned. I didn’t care about dating someone for a certain amount of time before we had a baby, or being in love, or getting married. I wanted to like the biological father of my child, maybe admire him. That was about it. I had arrived at this set of criteria because the alternatives seemed sentimental and unrealistic, especially the husband-to-be wish lists that many of us champion during those years when we are both ready and able to have children. With the help of my sitting meditation practice, I had observed that the more I worried about getting pregnant, the less discerning I was about love, an effect I feared would intensify as I got older. How could I trust my judgment under pressure? Wouldn’t a lot of men start to smell like fathers? I decided the safest way to protect myself against romantic delusion would be to separate the two stories from the outset: I could try to find a mate or become a mother, but not at the same time. Since biological constraints made it easy to figure out which was more urgent, I resolved to have a child outside of the context of love. My solo road trip to South Dakota was conceived as an experience my future self, the one saddled with a dependent, would someday thank me for. When I returned home, I planned to get pregnant using an anonymous donor’s sperm. On my last evening with Rex, kissing in his tent, I realized there was a lot about him I didn’t know — who was in his life, where he worked, his last name. Before I crawled out of his tent, he asked for my phone number. He was headed home to Michigan, and I to California. I told him I thought we should leave things exactly as they were, which seemed perfect to me. “What, are you crazy?” he said, and he gave me his number. Back home, I pored over donor questionnaires at the local sperm bank, trying to keep straight who liked video games and who preferred billiards, but it all mixed blandly together for me. Phone conversations with Rex, though, were weird and memorable. He had inherited his father’s expressions such as “Son of a biscuit!” and “Jeez O’Pete’s!” Doting on his backyard laying hens, he often referred to himself as a “chicken mama.” He was the only 30-something adult I knew who had traveled on an airplane exactly once, a domestic round trip for a former job. We didn’t talk much about the parts of our lives that existed beyond the present. He mentioned that his relationship with a woman in Michigan was crumbling. All he knew of my path to motherhood was that I wanted a child. When my search for a donor stagnated from lacking a warm feeling about any of them, friends offered to screen profiles with me on the eve of my 40th birthday. Two donors received my friends’ approval, so I put myself on the wait-list for their sperm, though I still felt ambivalent. When I finally told Rex about my stalled plan to become a mother, he said, “I can help you with that.” I was silent. Then I said, “Don’t say something like that without thinking about it.” “I have.” He wasn’t interested in being a father or co-parent, so the scenarios we discussed assumed that by the time I gave birth, he and I no longer would be romantically involved. Soon he visited me in California and had his first experience soaking naked with strangers in hot springs, his first contact with thousand-year-old redwood trees (he cried). He gave back rubs that were accurate, not clumsy; his hands were full of life. We were still working on our donor arrangement. We were also falling in love. I went to stay with him in Michigan, where he taught me how to use a chain saw and care for chickens. Eventually, he followed me back to California, driving the whole way towing a homemade trailer filled with tools. During this time, we were trying to live two separate stories: the one in which every month we tried to conceive, and the other in which we were still getting to know each other. But the more we enjoyed ourselves, the more confusing our situation became. If I got pregnant, would he leave the relationship? If I didn’t get pregnant, would I switch to another donor? About a year after he offered to be my donor, we began to have these difficult conversations. And in the middle of them, I got pregnant. Such was his generosity that he was genuinely thrilled for me. Inwardly, though, he began to withdraw. He still didn’t want to be a father or co-parent; the thought of either brought up old wounds from his childhood. Every day of his indecision, I was tempted to try to convince him to stay. Most days, I had enough sanity to recognize that doing this would harm us both. On the day he left California, he took a photograph of me looking haunted. Then he got in his car and drove east. It was Father’s Day. After he left, I scrambled into action, interviewing midwives, searching online for used baby gear, and trying to explain to the being in my womb why I was crying a lot: “I’m sorry, baby. I’m OK, just sad.” Then weeks later, without warning, a text arrived: “I made a terrible mistake.” By then, I recognized he wasn’t the only one. When love and a baby coincided for me, I still believed I could separate the two and remain fundamentally unchanged. Not until Rex and I were suffering was I able to see that the clean reality I envisioned had never existed between us. It had evaporated the moment he greeted me at the end of the dirt road, and my body responded with warmth. Buddhism is founded on the truth that suffering is caused by desire, which at first glance can make both suffering and desire sound unequivocally bad. But the beauty of suffering is that it offers the opportunity to have a curious and tender relationship with desire, to listen to it rather than try to eradicate it. Often what I hear beneath my desire’s surface noise isn’t problematic, only human: the vulnerability in having a life tangled up with others. In Rex’s absence, I remembered that tending to a lover or child is dirty work, in the most wholesome sense. We don’t fall in love or have a baby to have our points of view and preferences affirmed. We do it, at least a little bit, to soften our singular, lonesome grip on reality and invite in the unexpected, the undesirable and the inexplicable. This — call it messiness, or richness, or hands full of life — is what is beautiful and natural about being an animal with appetites beyond our understanding. Being faithful in the deepest sense to a lover or baby is saying yes to the weird and memorable before you know you want it or welcome it. Rex came to this in his own way. He told me that since he left California, he had been listening to podcasts about fatherhood and looking at the photo of me he took the day he left. He’d been crying, too. And he wanted to come back. “To the baby?” I said. “Or to me?” “Both,” he said. And he did. He sold his heaviest tools, repainted walls and put his house in Michigan up for sale. And two months later, he was back in California in time to catch in his hands our son being born.                                                                                                                                                                                                                                                                                                                                                                                   \n",
       "2  Peter and I hitched our wagons young. Early 20s. He was wildly handsome, gay, with soulful brown eyes and a head full of loose, unruly curls. Raised by an African American woman and a white preacher man, Peter spent his childhood steeped in the evangelical ministry. He was as terrified of his father’s sermons as he was soothed by his mother’s inclination to administer to the more human aspects of the congregation they both led. The night I met Peter, he and I fell all the way in love. Kismet, you could say. He made me laugh with his very first words. It was my first time at the Nuyorican Poets Cafe, the premier debut joint for every performance poet trying to get onto the New York City poetry scene. I read my first piece on the open mic after the slam. Peter was among the first admirers to make his way through the applauding crowd to tell me I had simultaneously embodied the fury of his father and the vulnerability of his mother — and, as such, I was destined to be one of his true loves. “Only one of?” I asked. “Fate isn’t fixed,” he said, “The gods have to leave room for surprises!” By the time we met in the fall of 1997, Peter’s parents were long divorced. His father had left the church. And Peter was already exploring other truths to believe in. Poetry was his new religion. His poems were long, lyrical and lovingly painted with the impossibly beautiful brushstrokes of utopia. He lived his life with the same energy. He believed in the goodness of people. Once, in the middle of winter in Washington Square Park, I watched him unbutton his coat and drape it across the shoulders of a drunk who had just called him a homophobic slur. I was an ex-Christian and newly out lesbian fleeing the violent homophobia of the late 1990s in Jamaica, still wearing the fury of being attacked by a dozen boys and sexually assaulted in Kingston. I was ashamed and angry that it defined my final year of university. That’s why I moved to New York City on a tourist visa. I needed somewhere safe to call home. But I felt at sea in this new country. I had a few aunts and uncles in New York, but before any of this I had absolutely no relationship with my biological family. My parents had abandoned me — my mother at birth, and my father hadn’t even shown up. And now that I had announced that I was a lesbian, that already distant extended family wanted less to do with me. I was in New York in search of safety. Freedom. And room to explore my budding lesbian identity. I was seeking a tribe to which I could unequivocally belong. And the performance poetry slam scene was a mixture of every kind of misfit. Peter and I fit right in. In no time, it felt as if we had known each other our whole lives. We shared everything: stories, poems, disappointments, hopes. We spent most evenings together. I’d meet him after work and go to whichever cafe was holding a slam competition that night. He knew everything about me: how broke I was, who stole my favorite vibrator, the ex-cop who hit me — how I kept going back to her. Every time. One night, after a particularly bad fight with my abusive partner, my roommate cornered me and told me she was going to raise the rent unless I had sex with her. My tourist visa was almost expired. I had no money except what I won at the slams — and that was barely enough to pay for the couch, ramen noodles and a MetroCard. I had no work permit, so I couldn’t get a job. I couldn’t apply for any services. Without papers I couldn’t even get into a shelter. I told Peter I was going to give up on this crazy dream of freedom in New York to go back to Jamaica. He was quiet while I explained what it meant to be undocumented; I went on about green cards and citizenship and visas and immigration authorities. When I was done talking, he asked me to marry him. When I pushed back, saying such a marriage was illegal and that it might land us in trouble with the law, he said the law was wrong. “You love me, right?” I nodded. “Well, I love you. You love me. I want children. You want children, right?” “Right …” “Well, that is what people do when they love each other and they want to have children together. They get married. And that makes them a family. They can’t have it both ways. And love is love, right?” His argument was sound. If the rules were fair, I would have been able to marry a woman, get citizenship and start a family with her. As it stood in the U.S., that wasn’t allowed. But Peter and I were well within our right to claim the perks of being a couple. We were already partners. He was already my family. We were married at City Hall. Peter’s lover, who was to be our witness, didn’t even show up for the wedding. We had to ask a beautiful man in cowboy boots and a sequined vest to stand in for him. After our very giggly “I dos,” Peter invited me to Thanksgiving dinner with his family. Before the month was out, I moved in with him and his amazing mother, Carole Linda, in the beautiful old house, the one that was once his parents’ church, two blocks from the beach in Far Rockaway. We spent three magical years living together. No one understood the quirky, kooky couple who arrived together, left together, but flirted with everyone in between. We had so much fun together. We were the perfect couple. We knew we’d be the perfect parents. But we were a modern couple. We wanted to be more intentional, more deliberate about our choices than our parents had been. We had more living to do before we took on the responsibilities of children. We didn’t have money, but we had lots of time. We were committed to living first. But at 29 Peter was diagnosed with cancer. Stage 4. He was diagnosed in May. He died on Dec. 16. At 11:30. Half-hour before he would turn 30. I was so furious at him dying, I couldn’t cry. It felt as if all my dreams of family died with him; a partner, children, my willing comrade in the radical redefining of the modern family, modern love. His mother was better at making peace with the heavens over the loss of her firstborn. I was surprised at her ability to remain connected to me. She stayed close, calling, sending Christmas cards, checking in, even as I remained distant, angry, unsure about deserving the magic of the family Peter had so tragically, suddenly, left behind. I grudgingly remained connected to his younger brother, CJ, who reminded me so much of Peter. Except he wasn’t gay, or a poet. He grew up to be a fine filmmaker and the only straight man in the L.G.B.T.Q. alliance in college. We often called each other to reminisce about Peter, to recount the sorcery of him, to bask in the shared memory of his magic. Later, when I became frantic with the desire to start a family — chasing gay men at house parties, begging sperm from strangers on planes — I broke down and wept for what felt like the too-early death of my husband. I didn’t want to be the strange young widow hosting lesbian parties in Crown Heights. I wanted to be the badass lesbian writer, with the flamboyant gay husband, raising four children in a rambling old house that used to be a church, two blocks from the beach in Far Rockaway. In one conversation with CJ, he interrupted to ask if there was a way he could stand in for Peter, by giving me his sperm. A year later, my daughter, Zuri, the most astounding miracle, born a decade after Peter’s death, refers to Peter as her “almost dad.” Carole Linda is still my mother-in-law and my kid’s actual, biological grandmother. Zuri’s “Baba,” CJ, got married last August. Zuri almost passed out from the joy of being asked to be the ring bearer at the wedding. We all traveled from multiple cities to watch them speak the vows. His brothers, their wives, Peter’s grandmother, his father, me, my non-monogamous partner and a beautiful cohort of ordinary folks, misfits, artists, preachers, writers, activists, gay, straight, nonbinary. I looked around the room, thinking if we had had the choice, this is what Peter’s and my wedding would have looked like. Peter would have reveled in it. Some days I still hear Peter’s voice inside my head, rustling in the fall wind, booming in the rush of traffic on the West Side Highway. He’s always whispering, screaming, saying the same thing, “Fate isn’t fixed, Staceyann. There is always some room for the gods to surprise us.”                                                                                                                                                                                                                       \n",
       "3  I’ve spent my whole life looking for similarities between myself and the protagonists in love stories. When I lost my father to prison and my mother’s attention to her double duties as a single parent, I escaped through books in an attempt to reimagine what love could look like. But the couples, usually locked in an embrace on the cover of those “harmless” rags, looked nothing like the people in my house. Abuse ruined the bones of our homes and turned them into rotten structures. My hopes of experiencing romance in the future seemed incompatible with my reality. I had no example of romantic love, not for girls that looked like me, until my cousin, Tiffany. Two years older than me, and seemingly in control of her life, Tiffany became a blueprint; no, a mirror — a way to see myself clearly. She was everything I wanted to be. She garnered attention when she walked into a room: ash brown hair, freckles and a genuine smile. Tiffany was beyond cool, she was fresh; beyond fresh, she was fly; beyond fly, her energy was unmatched. My cousin was my protector, the way an older sister should be. Tiffany taught me love by listening. She let me read her books and sing her songs from my favorite musicals. She joined me at my softball games and would sit next to me on the bench when I played catcher. She gave me tips for getting my crushes’ attention (none of which worked). First place in the oratory contest, she cheered. Solo during choir performance, she tossed a thumbs-up sign from the pew. We were inseparable until she went to high school and left me to fend for myself in those unimaginable middle school bouts of self-doubt. At 15, Tiffany had her first child. A little girl with a light as remarkable as her own, and the temperament of a doe. When she was pregnant, I asked her, “Are you sure?” She smiled and rubbed her belly. And just like that, my purpose was clear: I would have a daughter, too. Tiffany’s Little Light studied everything. Her mouth was an overturned cup spilling sunshine. They were an emerging constellation when they walked into a room together, stars to anybody who drew breath. They became a part of my vision board for maternal love. Do not be fooled, I too received this kind of love from my own mother. But it was so far removed from my teenage psyche, it wasn’t something I could pluck from my memory easily. You know, the way mirrors neglect to reflect what we’ve been conditioned to disbelieve. Despite the judgment of her being too young to raise a baby, Tiffany glowed. She glowed so brightly one could even say it blinded the jealous. And when Tiffany had her third child, she moved from California to find her footing in Baton Rouge. Her relationship with the father of her children, who I would later learn became more obsessed with the idea of owning Tiffany than loving her, was a wake-up call: Love is not transactional. Love is not ownership. Love is simply an act of absolute care. While love is an active verb, sometimes it ain’t enough at all. At 21, I had my daughter with my high school sweetheart. At 23, I left the dissolving relationship for a life that could hold my dreams to secure a future for my daughter. I called Tiffany to tell her the news. She answered, and I could hear her three children playing in the background. Little Light was now the eldest and took her job as protector of her two younger brothers seriously. “Cousin, are you sure?” Tiffany asked me. “Aren’t you scared?” I laughed away whatever fear I was carrying and told her I would be back. That it was just for the summer. But Tiffany knew what I couldn’t see yet. That I would find writing and become the woman of my own dreams. I cloaked myself in Tiffany’s charm and wore it until it became a second skin. This is how I arrived in Bed-Stuy, Brooklyn. I only dated men who called me beautiful. I flirted with anyone who could hold an interesting conversation. I gave love a run for its money because the only thing that truly kept my attention was my daughter’s health and laughter, and my burgeoning career in writing. I carried this new me everywhere: New York City, Poland, Britain and Canada. When the summer became a year, and the year became a decade, I recognized so much of my cousin in the way I carried myself. I loved how I looked to myself in the mirror. I loved how I looked from the reflection in my daughter’s eyes. Like Tiffany, I began to move through rooms easy like the wind, soundless and certain. This feeling stayed with me, from the red steps of our grandparents’ home in West Oakland to the Bed-Stuy stoops that became my sanctuary. At first, before she had her fifth child, Tiffany and I checked in weekly, then monthly, after she had her seventh child. Phone calls became text messages as our lives busied. She was raising eight children on her own and re-establishing herself after finally leaving an abusive relationship. Every other year I would visit, and when I couldn’t be physically present, I sent supportive messages, care packages and invitations for her to visit me on tour. After 15 years of visits dictated by holiday breaks and family reunions, I invited Tiffany to Florida. Tiffany had never been and was on a break from her on-again off-again relationship. I wanted to protect her. I wanted her to see what the world had to offer. She was the very best part of me. She gave me courage. She gave me reassurance. She gave me pep talks. She gave me compliments. Loving and celebrating others was natural for Tiffany. The least I could do was repay her generosity by giving her the space she needed to figure out who she wanted to be. Through Tiffany’s turbulent relationships, and her absolute love for her children, I began to understand what love costs. When she met me in Miami, a place I traveled to for weekends and took for granted, her eyes welled up with tears. I asked, “What’s wrong, cousin?” By the time she could pull herself together, we were walking alongside the beach, our manicured toes leaving kiss-prints on the sand. “I never thought I would get to see the Atlantic Ocean,” she said, tears sliding down her freckled face. “I feel like all I have is my kids. I’ve never traveled and seen the world like you.” I held my breath, terrified by the weight of the moment, but ready to rise to the occasion and remind her what she taught me so many years before. Fairy tales might teach us stories of whimsy, designed to mold single Black women into roles of grateful service before they’ve ever seen the world. It was my turn to show Tiffany that we are in fact an entire world ourselves.                                                                                                                                                                                                                                                                                                                                                                                                                                                                                                                                                                                                                                                                                                                                                                                                                                                                                                                                                                                                                                                                                                                                                                                                                                                                                                                                                                                                                                                                                                                                                                                                                                                                                                                                                                                                                                                                                                                                                                                                            \n",
       "4  “I am no longer dating white guys. Nonwhite guys may submit their applications in my DMs.” These words, posted on my Facebook page, marked the beginning of a racial reckoning in my dating life. Some context: It was June 2020. George Floyd had just been murdered. Black people like myself were consumed with rage and were openly airing our grief. On top of that, I was a woman scorned. I was 35 years old, a highly educated Black woman, a homeowner and an attorney, and I had just been rejected by yet another mediocre white guy who then pursued a relationship with a white woman. In short, I was fed up with white people. So one afternoon, I wrote a half-crazed manifesto on my Facebook page. Specifically, I railed against a white society that clearly didn’t see me as white but insisted on rejecting my Blackness because of my appearance (fair-skinned) and upbringing (middle class). White people had called me “not Black” for liking Taylor Swift, told me they were “more Black than me” because they grew up in a predominantly Black neighborhood (or had an especially dark tan), and fetishized my “exoticness” and ethnic ambiguity. I ended my ramblings with the call for applicants. I clicked “post” without thinking. To my amazement, the likes and comments started pouring in. Black people saying that they’d had similar experiences. White allies thanking me and promising to “do the work.” I felt so vindicated. And then this popped up on Facebook Messenger: “Application submitted!” The message was from Josh, whom I went to high school with 18 years earlier in Maryland. He was tall, handsome, smart, funny and successful. And Black. I’d briefly reconnected with him at a bar in Baltimore in 2018 when I was in town for a work conference. We had flirted, but I remembered from Facebook that he’d gotten married, so I flew back to California at the end of the conference with a wistful “what-if” feeling fluttering in my chest. I soon found out through mutual friends that his marriage had ended before we connected, but seeing as we lived 3,000 miles apart, I figured there was no point in trying to pursue anything. But here he was now, reading my manifesto and submitting an actual application to date me. I was gobsmacked. Up to that point, the vast majority of my relationships had been with white men, the predictable result of years spent in a Maryland prep school and at a Massachusetts liberal arts college. In fact, it had become a running joke among my friends and family: If the guy was basic and white, he was my type. But I had never, not once, dated a Black man. And I’ll be honest — I had always felt a kind of shame around that, as though my not dating Black men reflected a deep-seated insecurity with my own Blackness. But here was an eligible Black bachelor offering me a chance at love, and a chance at embracing my Blackness. Josh and I started texting. We had a couple of video calls that were awkward at first but became more natural. I suggested flying out to Baltimore to see him, and he agreed. On the one hand, it seemed wild and reckless, jumping on a plane to visit someone I barely knew. And during a pandemic to boot. On the other, the whole thing felt like something out of a movie. I was flying 3,000 miles to have our “first date.” We packed a lot into that four-day first date. He took me to Baltimore’s National Aquarium. He treated me to dinners and wine. He even took me to a (socially distanced) visit with my grandmother on her birthday. Most of all, we reveled in our Blackness. We danced to hip-hop in his living room — and he could dance, something I had rarely experienced with my white boyfriends. We joked about the endearing quirks of our older Black relatives. We shared stories about being among the few Black people in our respective professional arenas — finance for him; law for me. With him I could openly “speak the language” and not have to explain myself. For the first time in my life, I felt like I could be completely, unapologetically Black with the guy I was dating. Like most first dates, there were uncomfortable moments. Josh was reserved and rarely volunteered information about himself, which meant it was hard to get to know him. And while there was definitely a mutual physical attraction, there was a shyness in Josh that only seemed to fall away with the help of a few drinks. Still, I chalked that up to our still getting to know one another. However, on my last night there, as we gazed at the city lights over the Inner Harbor, he turned to me and said, “You know this isn’t going to work, right?” Completely out of nowhere. I asked him to explain. He said our personalities were too different — I’m outgoing, high-energy and emotional; he’s analytical, quiet and calm. I, both a romantic and a lawyer, attempted to argue my case — “Doesn’t love find a way?” — and he, the realistic, number-crunching one, pointed out the obvious practical hurdles. With the physical distance between us, there was no way to properly date or figure out how we would fit together. My fairy tale seemingly shattered, I started to cry. He seemed sad too, though whether it was because of a mutual feeling of despair or simply uneasiness at my tears, I couldn’t tell. The next morning he drove me to the airport and I asked him to visit me in California. He gave a noncommittal answer. I left wondering if I would ever see him again. Turns out, I would. A few weeks after my Maryland trip, Josh asked to visit me in California. I was thrilled. I convinced myself that he wanted to visit California to see if he could make a home here with me. I planned a day trip to Napa. I borrowed my neighbor’s bike for Josh so we could tool around town together in true Californian style. I proudly showed him off to my friends, took him to my favorite local haunts, and tried my hardest to prove how great we could be together, the perfect Black power couple. Still, we weren’t quite clicking. Josh wasn’t entirely on board with my carefree Cali style. When we biked to the river on a hot day, I eagerly stripped down to splash around in the cool water, but he refused. When we strolled the sidewalks of downtown Napa, I reached out to intertwine my fingers with his, and he shook my hand off — turns out he wasn’t a fan of P.D.A. And the reservedness I had witnessed in Baltimore persisted. I tried to ask him questions about his family, of whom he seldom spoke. He demurred: “That’s personal.” As someone who had always been an open book, I was frustrated. When I drove him to the airport at the end of the visit, I had a hollow feeling. Why weren’t we clicking when we were perfect for each other, at least on paper: same hometown, same education, same career-driven lives, and most importantly (or so I thought), same race? How was this not kismet? It all came to a head in the spring of 2021. Josh invited me to Baltimore for the Preakness, an annual horse race and social event. But a disagreement over a coffee maker before I arrived — he didn’t own one, and for reasons I couldn’t fathom, didn’t want to have one on hand for my visits — pushed me over the edge. I said, “If you can’t even keep a coffee maker for me, it’s obvious you don’t care enough for me to fly 3,000 miles to see you.” To my horror, he didn’t argue. I said I wasn’t coming, and he didn’t try to change my mind. And that was it. What the hell had just happened? How did my lofty dreams fall so flat? Did I really fly to Maryland, and him to California — during a pandemic — for nothing more than a booty call? Over time, I realized my attachment to Josh was more intellectual than emotional. I had tried to make him — kind and well-meaning, but unable to match my spirit or provide me the emotional connection I wanted — into my perfect boyfriend, because he was Black. Josh represented the first time I naïvely attached my worth as a Black person to the success of my relationship with a Black man. But dating a Black man will not make me more Black, just as dating a white man won’t make me less Black. I am Black, period.  Regardless of the race or ethnicity of my next boyfriend, at least I’ll know one thing: Whoever loves me next must love all of me.                                                                                                                                                                                                                                                                                                                                            \n",
       "5  I’ve always been wary of sports, competition and falling in love. So growing up, I avoided all three. As a kid, I would shrug when “accidentally” letting goals into the net from the opposing team. I would walk slowly behind everyone else on the basketball court as they ran from end to end. My mother eventually stopped asking if I was interested in signing up for extracurriculars and my friends came to understand my lack of interest in playing board games, card games, drinking games or anything that required competing for the title winner. I was even able to avoid acting on romantic feelings for a long time but with age I let up slightly. After an indecisive football player, a shady basketball player, and a club bouncer who was as bad at kissing as he was at his job, I decided I had made a mistake opening myself up, and convinced myself that the real issue was vulnerability. I would no longer be attaching any emotional investments to my sexual partners. I never bothered to be competitive or to fall in love because I didn’t care to win. I met him on HER, a dating app for queer women and gender diverse people. He had long brown dreadlocks with subtle hints of blond and a promising smile. There was something about him that told me he would be the exact kind of fun I was looking for. He approached me with a smooth pickup line, and I responded with something much less cool. Before I could give it much thought he told me that he was assigned female at birth and had transitioned to live his life in the gender that was most authentic to him. “So, what are you looking for?” I said. “Well, I’m in an open relationship. So I’m not anticipating anything too serious,” he responded, adding that he and his partner were engaged to be married. My friends wanted to know how someone could be committed to a partner while pursuing other relationships. I didn’t blame them: the idea of a relationship where both partners agree to seeing other people while being together isn’t something that most learn about in “the birds and the bees” conversation. My immediate reaction when I learned he was in an open relationship was relief. I would have fun with no emotional responsibility. They were deeply in love and had a strong foundation on which their love was built. They knew that marriage was the ultimate goal of their relationship, and had its benefits both legally and personally, but they also knew that, in order to meet both of their physical and emotional needs, their marriage would need to be unconventional — which, in this case, meant leaving the door open for other intimate possibilities. What neither of us expected was the fast progression of our feelings. I started wondering more about when he’d see his fiancé next. He wanted details about the dates I went on. We both grew possessive as our unanticipated love bloomed. We began feeling entitled to each other. Yet, while my insecurity grew more obvious, he managed to mostly keep his casual demeanor. And of course he could. He always went home to the loving arms of his partner, and I always went home to thoughts of a lover that I couldn’t truly call my own. We were everything I vowed to never be: very vulnerable, and very corny. “You hang up first,” he’d say. “No, you!” I’d say, my naturally deep voice suddenly sounding prepubescent. We were inseparable. Soaking ourselves in wet kisses on the Toronto Transit Commission as if no one was around and feeding each other street meat on the corner of Church and Wellesley. Here I was, never having been intrigued by competition, but suddenly up to the challenge of convincing him that I was worthy of being his only one. I tried to appear unfazed by the uncertainty of our relationship, but with each passing day I could feel my nonchalant facade peeling away. I knew it wouldn’t take long before I had nothing left to hide behind. One evening, we joined our mutual friends for a night out. I had high hopes that the loud music and many shots of tequila would drown out the unanswered questions of our relationship. The dim club lights and the drink intensified the moment and when he and our friend began dancing with each other, I felt justified in my rage. Watching them dance — two Caribbeans sharing a strictly platonic love language of slow whining and good drinks — amplified everything that threatened our life together as a couple: my fear of losing him and not being able to do anything about it. It was then that I knew we couldn’t return to our no-strings-attached deal. I wanted to take away the love he reserved for his fiancé and keep it for myself (which is the exact antithesis of an open relationship). Here was this person who was sent to me through a dating app that hosts mostly nude pictures. Here, somehow, I met someone whose presence soothed me, and he had chosen to devote himself to someone else. Someone who had known the smell of his collar and the softness of his lips long before I even knew he existed. Nothing about that felt fair. I spent that night preparing for the curtain call on our love story. And though we continued to date for weeks afterward, that moment was a clear shift in our relationship. An obvious flag that this “casual thing” had gone too far. Our relationship came to an unavoidable end; I needed more and he knew he couldn’t give that to me. As I reflected on us, I realized that I was in competition with no one but myself. I assumed that “winning” in this situation meant we would abandon the concept of non-monogamy altogether and walk off into a sunset hand-in-hand. Just the two of us. But the open relationship wasn’t the problem. The problem was the strange expectation for Black women to be in competition with each other, even if they are unaware of it. And the even stranger expectation for Black queer relationships to still fit enough into the confines of heteronormativity to make other people comfortable. The normalization of heterosexuality has been so insidious in my life through the consumption of media, education, and social assumptions and attitudes, that even as a queer woman in love with a trans man, I still questioned the validity of our non-monogamy. I had to learn to quiet the noise of heteronormativity; the idea that being in love can only look one way for it to be valid. That intimacy can only include two people. That there needs to be competition in order to receive the love we deserve. Black folks have been queering the family dynamic for as long as we have existed in this world. We’ve had stepparents who have loved us like they made us from scratch. We’ve promoted any friendship that has lasted over five years to that’s my cousin status. I have half-siblings that I’ve only ever referred to as whole. The words “half-sibling” were treated as if they were illegal in my household; my parents constantly reminded us that the small, and scientific details of our family weren’t important. When my sister’s mom passed away and my aunt raised her, she called her auntie-mommy. We never questioned that. It never required an explanation. There has never been anything nuclear about any Black family dynamic I’ve ever known, so why did I villainize, and — in my own mind — compete with a Black woman who loved herself, and her fiancé enough to encourage him to share his love with me? Possibly, all along, I was never scared of competition or losing, but instead, as a Black woman, I couldn’t fathom the idea that, contrary to popular belief, love doesn’t actually require competition. Everyone can feel worthy. It was because of the open relationship with my engaged lover that I was able to say yes to a date with the next person I would go on to fall deeply in love with. Our non-monogamous ways gave me the freedom to explore other relationships openly. He went on to marry his fiancé and we have managed to remain friends. In our choice to smoothly transition from romantic to platonic, we stuck up a subliminal middle finger to a world where relationships between Black women — especially when there is a man in the middle — are so often reduced to the notion that there is only ever enough love for one of us. Open relationships are far from a means for competition, they are an embodiment of love unable to be confined. They have the ability to bring together a small-town, awkward Black girl and a cool island boy with effortless swagger, and somehow allow them to exist together in the Toronto summer heat, exiting their romance more filled with love than they found each other.   \n",
       "\n",
       "       topic_1      topic_2      topic_3      topic_4      topic_5  \\\n",
       "0  not topic 1  not topic 2  not topic 3  not topic 4  not topic 5   \n",
       "2  not topic 1  not topic 2  not topic 3  not topic 4  not topic 5   \n",
       "3  not topic 1  not topic 2  not topic 3  topic 4      not topic 5   \n",
       "4  not topic 1  not topic 2  not topic 3  topic 4      not topic 5   \n",
       "5  not topic 1  topic 2      not topic 3  not topic 4  not topic 5   \n",
       "\n",
       "       topic_6      topic_7      topic_8  \n",
       "0  not topic 6  topic 7      not topic 8  \n",
       "2  not topic 6  not topic 7  topic 8      \n",
       "3  not topic 6  not topic 7  not topic 8  \n",
       "4  not topic 6  not topic 7  not topic 8  \n",
       "5  not topic 6  not topic 7  not topic 8  "
      ]
     },
     "execution_count": 253,
     "metadata": {},
     "output_type": "execute_result"
    }
   ],
   "source": [
    "scattertext_df.head()"
   ]
  },
  {
   "cell_type": "markdown",
   "metadata": {},
   "source": [
    "# Scattertext"
   ]
  },
  {
   "cell_type": "code",
   "execution_count": 198,
   "metadata": {},
   "outputs": [
    {
     "name": "stdout",
     "output_type": "stream",
     "text": [
      "Collecting scattertext\n",
      "  Downloading scattertext-0.1.5-py3-none-any.whl (7.3 MB)\n",
      "\u001b[K     |████████████████████████████████| 7.3 MB 6.4 MB/s eta 0:00:01\n",
      "\u001b[?25hRequirement already satisfied: pandas in /opt/anaconda3/lib/python3.8/site-packages (from scattertext) (1.0.5)\n",
      "Requirement already satisfied: scikit-learn in /opt/anaconda3/lib/python3.8/site-packages (from scattertext) (0.23.1)\n",
      "Requirement already satisfied: six in /opt/anaconda3/lib/python3.8/site-packages (from scattertext) (1.15.0)\n",
      "Requirement already satisfied: numpy in /opt/anaconda3/lib/python3.8/site-packages (from scattertext) (1.18.5)\n",
      "Requirement already satisfied: statsmodels in /opt/anaconda3/lib/python3.8/site-packages (from scattertext) (0.11.1)\n",
      "Requirement already satisfied: mock in /opt/anaconda3/lib/python3.8/site-packages (from scattertext) (4.0.2)\n",
      "Requirement already satisfied: scipy in /opt/anaconda3/lib/python3.8/site-packages (from scattertext) (1.5.0)\n",
      "Requirement already satisfied: gensim>=4.0.0 in /opt/anaconda3/lib/python3.8/site-packages (from scattertext) (4.1.2)\n",
      "Collecting flashtext\n",
      "  Downloading flashtext-2.7.tar.gz (14 kB)\n",
      "Requirement already satisfied: python-dateutil>=2.6.1 in /opt/anaconda3/lib/python3.8/site-packages (from pandas->scattertext) (2.8.1)\n",
      "Requirement already satisfied: pytz>=2017.2 in /opt/anaconda3/lib/python3.8/site-packages (from pandas->scattertext) (2020.1)\n",
      "Requirement already satisfied: threadpoolctl>=2.0.0 in /opt/anaconda3/lib/python3.8/site-packages (from scikit-learn->scattertext) (2.1.0)\n",
      "Requirement already satisfied: joblib>=0.11 in /opt/anaconda3/lib/python3.8/site-packages (from scikit-learn->scattertext) (0.16.0)\n",
      "Requirement already satisfied: patsy>=0.5 in /opt/anaconda3/lib/python3.8/site-packages (from statsmodels->scattertext) (0.5.1)\n",
      "Requirement already satisfied: smart-open>=1.8.1 in /opt/anaconda3/lib/python3.8/site-packages (from gensim>=4.0.0->scattertext) (5.2.1)\n",
      "Building wheels for collected packages: flashtext\n",
      "  Building wheel for flashtext (setup.py) ... \u001b[?25ldone\n",
      "\u001b[?25h  Created wheel for flashtext: filename=flashtext-2.7-py2.py3-none-any.whl size=9299 sha256=7673f3b2edf38340e227a201339412b0ca54f680e763c83b9ea11765faf60482\n",
      "  Stored in directory: /Users/chloebergsma-safar/Library/Caches/pip/wheels/8d/62/8b/71813348245ae1bcbae179193bbc72db819e8057e89298a6ac\n",
      "Successfully built flashtext\n",
      "Installing collected packages: flashtext, scattertext\n",
      "Successfully installed flashtext-2.7 scattertext-0.1.5\n"
     ]
    }
   ],
   "source": [
    "!pip install scattertext"
   ]
  },
  {
   "cell_type": "code",
   "execution_count": 60,
   "metadata": {},
   "outputs": [],
   "source": [
    "import scattertext as st"
   ]
  },
  {
   "cell_type": "markdown",
   "metadata": {},
   "source": [
    "Scattertext for Topic 3 (dating)"
   ]
  },
  {
   "cell_type": "code",
   "execution_count": 61,
   "metadata": {},
   "outputs": [],
   "source": [
    "st_corpus = st.CorpusFromPandas(scattertext_df,\n",
    "                             category_col='topic_3',\n",
    "                             text_col='essay_rev',\n",
    "                             nlp=st.whitespace_nlp_with_sentences\n",
    "                            ).build()"
   ]
  },
  {
   "cell_type": "code",
   "execution_count": 62,
   "metadata": {},
   "outputs": [],
   "source": [
    "html = st.produce_scattertext_explorer(\n",
    "        st_corpus,\n",
    "        category='topic 3',\n",
    "        category_name='Dating',\n",
    "        not_category_name='Not Dating',\n",
    "        minimum_term_frequency=10,\n",
    "        pmi_threshold_coefficient=5,\n",
    "        width_in_pixels=1000,\n",
    "        metadata=scattertext_df['url'],\n",
    "        )"
   ]
  },
  {
   "cell_type": "code",
   "execution_count": 63,
   "metadata": {},
   "outputs": [],
   "source": [
    "open('demo_dating.html', 'wb').write(html.encode('utf-8'));"
   ]
  },
  {
   "cell_type": "markdown",
   "metadata": {},
   "source": [
    "Scattertext for Topic 7 (pregnancy and birth)"
   ]
  },
  {
   "cell_type": "code",
   "execution_count": 65,
   "metadata": {},
   "outputs": [],
   "source": [
    "st_corpus_2 = st.CorpusFromPandas(scattertext_df,\n",
    "                             category_col='topic_7',\n",
    "                             text_col='essay_rev',\n",
    "                             nlp=st.whitespace_nlp_with_sentences\n",
    "                            ).build()"
   ]
  },
  {
   "cell_type": "code",
   "execution_count": 67,
   "metadata": {},
   "outputs": [],
   "source": [
    "html_2 = st.produce_scattertext_explorer(\n",
    "        st_corpus_2,\n",
    "        category='topic 7',\n",
    "        category_name='Pregnancy and Birth',\n",
    "        not_category_name='Not Pregnancy and Birth',\n",
    "        minimum_term_frequency=10,\n",
    "        pmi_threshold_coefficient=5,\n",
    "        width_in_pixels=1000,\n",
    "        metadata=scattertext_df['url'],\n",
    "        )"
   ]
  },
  {
   "cell_type": "code",
   "execution_count": 70,
   "metadata": {},
   "outputs": [],
   "source": [
    "open('demo_pregnancy.html', 'wb').write(html_2.encode('utf-8'));"
   ]
  },
  {
   "cell_type": "markdown",
   "metadata": {},
   "source": [
    "# Topic distribution for documents over time"
   ]
  },
  {
   "cell_type": "code",
   "execution_count": 254,
   "metadata": {},
   "outputs": [],
   "source": [
    "# convert pub_date to datetime and then keep only the date\n",
    "\n",
    "modern_love_doc_topic_df['pub_date_year'] = pd.DatetimeIndex(modern_love_doc_topic_df['pub_date']).year\n",
    "topics_over_time = (modern_love_doc_topic_df.groupby(['pub_date_year','topics']).size().reset_index().rename(columns={0: 'num_essays_short_stories'}))"
   ]
  },
  {
   "cell_type": "code",
   "execution_count": 255,
   "metadata": {},
   "outputs": [],
   "source": [
    "topics_over_time = (modern_love_doc_topic_df.groupby(['pub_date_year','topics']).size().reset_index().rename(columns={0: 'num_essays_short_stories'}))"
   ]
  },
  {
   "cell_type": "code",
   "execution_count": 256,
   "metadata": {},
   "outputs": [],
   "source": [
    "# convert pub_date to datetime and then keep only the date\n",
    "\n",
    "modern_love_doc_topic_df['pub_date_year'] = pd.DatetimeIndex(modern_love_doc_topic_df['pub_date']).year\n",
    "topics_over_time = (modern_love_doc_topic_df.groupby(['pub_date_year','topics']).size().reset_index().rename(columns={0: 'num_essays_short_stories'}))\n",
    "\n",
    "topics_over_time = (modern_love_doc_topic_df.groupby(['pub_date_year','topics']).size().reset_index().rename(columns={0: 'num_essays_short_stories'}))\n",
    "topics_over_time['total_essays_short_stories'] = topics_over_time.groupby(['pub_date_year'])['num_essays_short_stories'].transform(lambda x: x.sum())\n",
    "topics_over_time['freq_essay_short_story_topic'] = (topics_over_time['num_essays_short_stories'] / \\\n",
    "                                                   topics_over_time['total_essays_short_stories']).round(2)\n",
    "\n",
    "def revise_topics(x):\n",
    "    if x == 'topic_1':\n",
    "        return 'misc'\n",
    "    elif x == 'topic_2':\n",
    "        return 'immediate family'\n",
    "    elif x == 'topic_3':\n",
    "        return 'marriage and divorce'\n",
    "    elif x == 'topic_4':\n",
    "        return 'dating'\n",
    "    elif x == 'topic_5':\n",
    "        return 'family'\n",
    "    elif x == 'topic_6':\n",
    "        return 'New York City'\n",
    "    elif x == 'topic_7':\n",
    "        return 'medical issues and pregnancy'\n",
    "    else:\n",
    "        return 'extended family'\n",
    "    \n",
    "topics_over_time['topics'] = topics_over_time['topics'].map(revise_topics)"
   ]
  },
  {
   "cell_type": "code",
   "execution_count": 257,
   "metadata": {},
   "outputs": [
    {
     "data": {
      "text/html": [
       "<div>\n",
       "<style scoped>\n",
       "    .dataframe tbody tr th:only-of-type {\n",
       "        vertical-align: middle;\n",
       "    }\n",
       "\n",
       "    .dataframe tbody tr th {\n",
       "        vertical-align: top;\n",
       "    }\n",
       "\n",
       "    .dataframe thead th {\n",
       "        text-align: right;\n",
       "    }\n",
       "</style>\n",
       "<table border=\"1\" class=\"dataframe\">\n",
       "  <thead>\n",
       "    <tr style=\"text-align: right;\">\n",
       "      <th></th>\n",
       "      <th>pub_date_year</th>\n",
       "      <th>topics</th>\n",
       "      <th>num_essays_short_stories</th>\n",
       "      <th>total_essays_short_stories</th>\n",
       "      <th>freq_essay_short_story_topic</th>\n",
       "    </tr>\n",
       "  </thead>\n",
       "  <tbody>\n",
       "    <tr>\n",
       "      <th>0</th>\n",
       "      <td>2004</td>\n",
       "      <td>family</td>\n",
       "      <td>1</td>\n",
       "      <td>1</td>\n",
       "      <td>1.00</td>\n",
       "    </tr>\n",
       "    <tr>\n",
       "      <th>1</th>\n",
       "      <td>2005</td>\n",
       "      <td>marriage and divorce</td>\n",
       "      <td>1</td>\n",
       "      <td>10</td>\n",
       "      <td>0.10</td>\n",
       "    </tr>\n",
       "    <tr>\n",
       "      <th>2</th>\n",
       "      <td>2005</td>\n",
       "      <td>dating</td>\n",
       "      <td>3</td>\n",
       "      <td>10</td>\n",
       "      <td>0.30</td>\n",
       "    </tr>\n",
       "    <tr>\n",
       "      <th>3</th>\n",
       "      <td>2005</td>\n",
       "      <td>family</td>\n",
       "      <td>4</td>\n",
       "      <td>10</td>\n",
       "      <td>0.40</td>\n",
       "    </tr>\n",
       "    <tr>\n",
       "      <th>4</th>\n",
       "      <td>2005</td>\n",
       "      <td>medical issues and pregnancy</td>\n",
       "      <td>2</td>\n",
       "      <td>10</td>\n",
       "      <td>0.20</td>\n",
       "    </tr>\n",
       "    <tr>\n",
       "      <th>...</th>\n",
       "      <td>...</td>\n",
       "      <td>...</td>\n",
       "      <td>...</td>\n",
       "      <td>...</td>\n",
       "      <td>...</td>\n",
       "    </tr>\n",
       "    <tr>\n",
       "      <th>126</th>\n",
       "      <td>2022</td>\n",
       "      <td>dating</td>\n",
       "      <td>9</td>\n",
       "      <td>46</td>\n",
       "      <td>0.20</td>\n",
       "    </tr>\n",
       "    <tr>\n",
       "      <th>127</th>\n",
       "      <td>2022</td>\n",
       "      <td>family</td>\n",
       "      <td>9</td>\n",
       "      <td>46</td>\n",
       "      <td>0.20</td>\n",
       "    </tr>\n",
       "    <tr>\n",
       "      <th>128</th>\n",
       "      <td>2022</td>\n",
       "      <td>New York City</td>\n",
       "      <td>3</td>\n",
       "      <td>46</td>\n",
       "      <td>0.07</td>\n",
       "    </tr>\n",
       "    <tr>\n",
       "      <th>129</th>\n",
       "      <td>2022</td>\n",
       "      <td>medical issues and pregnancy</td>\n",
       "      <td>7</td>\n",
       "      <td>46</td>\n",
       "      <td>0.15</td>\n",
       "    </tr>\n",
       "    <tr>\n",
       "      <th>130</th>\n",
       "      <td>2022</td>\n",
       "      <td>extended family</td>\n",
       "      <td>3</td>\n",
       "      <td>46</td>\n",
       "      <td>0.07</td>\n",
       "    </tr>\n",
       "  </tbody>\n",
       "</table>\n",
       "<p>131 rows × 5 columns</p>\n",
       "</div>"
      ],
      "text/plain": [
       "     pub_date_year                        topics  num_essays_short_stories  \\\n",
       "0    2004           family                        1                          \n",
       "1    2005           marriage and divorce          1                          \n",
       "2    2005           dating                        3                          \n",
       "3    2005           family                        4                          \n",
       "4    2005           medical issues and pregnancy  2                          \n",
       "..    ...                                    ... ..                          \n",
       "126  2022           dating                        9                          \n",
       "127  2022           family                        9                          \n",
       "128  2022           New York City                 3                          \n",
       "129  2022           medical issues and pregnancy  7                          \n",
       "130  2022           extended family               3                          \n",
       "\n",
       "     total_essays_short_stories  freq_essay_short_story_topic  \n",
       "0    1                           1.00                          \n",
       "1    10                          0.10                          \n",
       "2    10                          0.30                          \n",
       "3    10                          0.40                          \n",
       "4    10                          0.20                          \n",
       "..   ..                           ...                          \n",
       "126  46                          0.20                          \n",
       "127  46                          0.20                          \n",
       "128  46                          0.07                          \n",
       "129  46                          0.15                          \n",
       "130  46                          0.07                          \n",
       "\n",
       "[131 rows x 5 columns]"
      ]
     },
     "execution_count": 257,
     "metadata": {},
     "output_type": "execute_result"
    }
   ],
   "source": [
    "topics_over_time"
   ]
  },
  {
   "cell_type": "code",
   "execution_count": 258,
   "metadata": {},
   "outputs": [
    {
     "name": "stdout",
     "output_type": "stream",
     "text": [
      "<class 'pandas.core.frame.DataFrame'>\n",
      "RangeIndex: 131 entries, 0 to 130\n",
      "Data columns (total 5 columns):\n",
      " #   Column                        Non-Null Count  Dtype  \n",
      "---  ------                        --------------  -----  \n",
      " 0   pub_date_year                 131 non-null    int64  \n",
      " 1   topics                        131 non-null    object \n",
      " 2   num_essays_short_stories      131 non-null    int64  \n",
      " 3   total_essays_short_stories    131 non-null    int64  \n",
      " 4   freq_essay_short_story_topic  131 non-null    float64\n",
      "dtypes: float64(1), int64(3), object(1)\n",
      "memory usage: 5.2+ KB\n"
     ]
    }
   ],
   "source": [
    "topics_over_time.info()"
   ]
  },
  {
   "cell_type": "code",
   "execution_count": 259,
   "metadata": {},
   "outputs": [],
   "source": [
    "topics_over_time['pub_date_year'] = topics_over_time['pub_date_year'].astype(str)"
   ]
  },
  {
   "cell_type": "code",
   "execution_count": 260,
   "metadata": {},
   "outputs": [],
   "source": [
    "topics_over_time = topics_over_time.loc[~(topics_over_time.pub_date_year == '2022')]\n",
    "\n",
    "topics_to_exclude = ['misc','family']\n",
    "topics_over_time = topics_over_time.loc[~(topics_over_time.topics.isin(topics_to_exclude))]"
   ]
  },
  {
   "cell_type": "code",
   "execution_count": 261,
   "metadata": {},
   "outputs": [
    {
     "data": {
      "text/plain": [
       "<matplotlib.axes._subplots.AxesSubplot at 0x7fe171cef4f0>"
      ]
     },
     "execution_count": 261,
     "metadata": {},
     "output_type": "execute_result"
    },
    {
     "data": {
      "image/png": "[encoded data removed]",
      "text/plain": [
       "<Figure size 864x576 with 1 Axes>"
      ]
     },
     "metadata": {
      "needs_background": "light"
     },
     "output_type": "display_data"
    }
   ],
   "source": [
    "%matplotlib inline \n",
    "plt.figure(figsize=(12,8))\n",
    "sns.lineplot(data=topics_over_time, x='pub_date_year', y='num_essays_short_stories',hue='topics')"
   ]
  },
  {
   "cell_type": "code",
   "execution_count": 262,
   "metadata": {},
   "outputs": [
    {
     "data": {
      "text/plain": [
       "<matplotlib.axes._subplots.AxesSubplot at 0x7fe3eee3ad90>"
      ]
     },
     "execution_count": 262,
     "metadata": {},
     "output_type": "execute_result"
    },
    {
     "data": {
      "image/png": "[encoded data removed]",
      "text/plain": [
       "<Figure size 864x576 with 1 Axes>"
      ]
     },
     "metadata": {
      "needs_background": "light"
     },
     "output_type": "display_data"
    }
   ],
   "source": [
    "%matplotlib inline \n",
    "plt.figure(figsize=(12,8))\n",
    "sns.lineplot(data=topics_over_time, x='pub_date_year', y='freq_essay_short_story_topic',hue='topics')"
   ]
  },
  {
   "cell_type": "markdown",
   "metadata": {},
   "source": [
    "# Topic Modeling with LDA"
   ]
  },
  {
   "cell_type": "code",
   "execution_count": 612,
   "metadata": {},
   "outputs": [],
   "source": [
    "from sklearn.decomposition import LatentDirichletAllocation"
   ]
  },
  {
   "cell_type": "code",
   "execution_count": 643,
   "metadata": {},
   "outputs": [
    {
     "name": "stdout",
     "output_type": "stream",
     "text": [
      "Topic 0: mother, father, life, marriage, come, new, look, friend, find, child\n",
      "Topic 1: look, date, mother, find, marriage, home, life, enjoy, father, leave\n",
      "Topic 2: mother, look, father, life, new, friend, marriage, date, meet, way\n",
      "Topic 3: friend, marriage, father, life, date, look, mother, meet, later, come\n",
      "Topic 4: mother, life, father, child, friend, date, marriage, come, leave, later\n",
      "Topic 5: mother, marriage, friend, child, father, come, life, meet, look, date\n",
      "Topic 6: mother, father, husband, child, life, come, look, marriage, friend, new\n",
      "Topic 7: marriage, mother, husband, father, child, come, life, friend, new, look\n",
      "Topic 8: mother, life, friend, look, father, parent, find, husband, marriage, child\n",
      "Topic 9: mother, marriage, look, father, life, new, child, come, husband, date\n"
     ]
    },
    {
     "data": {
      "text/plain": [
       "array([[0.00271592, 0.00271592, 0.00271598, ..., 0.00271596, 0.97555644,\n",
       "        0.0027159 ],\n",
       "       [0.00281781, 0.97463828, 0.00281785, ..., 0.00281765, 0.00281902,\n",
       "        0.00281773],\n",
       "       [0.00316127, 0.00316124, 0.00316119, ..., 0.00316119, 0.00316201,\n",
       "        0.00316145],\n",
       "       ...,\n",
       "       [0.01012208, 0.908902  , 0.01012163, ..., 0.01012169, 0.01012229,\n",
       "        0.01012148],\n",
       "       [0.00801151, 0.00801151, 0.00801154, ..., 0.00801151, 0.92789615,\n",
       "        0.0080115 ],\n",
       "       [0.00815031, 0.00815035, 0.0081504 , ..., 0.00815044, 0.00815067,\n",
       "        0.00815039]])"
      ]
     },
     "execution_count": 643,
     "metadata": {},
     "output_type": "execute_result"
    }
   ],
   "source": [
    "corpus = modern_love_df_rev_2['essay_rev_clean_3']\n",
    "tfidf_vectorizer = TfidfVectorizer(ngram_range=(1,3), max_df=.6)\n",
    "dtm_tfidf = tfidf_vectorizer.fit_transform(corpus)\n",
    "\n",
    "lda = LatentDirichletAllocation(n_components=10, random_state=42)\n",
    "lda.fit(dtm_tfidf)\n",
    "\n",
    "make_topics(corpus, vectorizer=tfidf_vectorizer, topic_modeler=lda)"
   ]
  },
  {
   "cell_type": "markdown",
   "metadata": {},
   "source": [
    "# Topic Modeling with CorEx"
   ]
  },
  {
   "cell_type": "markdown",
   "metadata": {},
   "source": [
    "Helpful resources on CorEx\n",
    "- <a href=\"https://github.com/gregversteeg/corex_topic/blob/master/corextopic/example/corex_topic_example.ipynb\">notebook on how to use it</a>"
   ]
  },
  {
   "cell_type": "code",
   "execution_count": 93,
   "metadata": {},
   "outputs": [
    {
     "name": "stdout",
     "output_type": "stream",
     "text": [
      "Requirement already satisfied: corextopic in /opt/anaconda3/lib/python3.8/site-packages (1.1)\n",
      "Requirement already satisfied: networkx in /opt/anaconda3/lib/python3.8/site-packages (2.4)\n",
      "Requirement already satisfied: decorator>=4.3.0 in /opt/anaconda3/lib/python3.8/site-packages (from networkx) (4.4.2)\n"
     ]
    }
   ],
   "source": [
    "!pip install corextopic\n",
    "!pip install networkx"
   ]
  },
  {
   "cell_type": "code",
   "execution_count": 71,
   "metadata": {},
   "outputs": [],
   "source": [
    "import scipy.sparse as ss\n",
    "\n",
    "from corextopic import corextopic as ct\n",
    "from corextopic import vis_topic as vt"
   ]
  },
  {
   "cell_type": "markdown",
   "metadata": {},
   "source": [
    "# Topic modeling utility"
   ]
  },
  {
   "cell_type": "code",
   "execution_count": 72,
   "metadata": {},
   "outputs": [],
   "source": [
    "def make_topics_cx(corpus, vectorizer, topic_modeler, anchor_words=None, anchor_strength=None):\n",
    "    \"\"\"A very simple pipeline.\"\"\"\n",
    "    \n",
    "    # Vectorize documents into a document-word matrix\n",
    "    doc_word = vectorizer.fit_transform(corpus)\n",
    "    doc_word = ss.csr_matrix(doc_word)\n",
    "    print(doc_word.shape)\n",
    "    print(\"\")\n",
    "    \n",
    "    # Get words that label the columns (needed to extract readable topics and make anchoring easier)\n",
    "    words = list(np.asarray(vectorizer.get_feature_names()))\n",
    "    \n",
    "    # Fit the model\n",
    "    topic_model = topic_modeler.fit(doc_word)\n",
    "    if anchor_words:\n",
    "        topic_model.fit(doc_word, anchors=anchor_words, anchor_strength=anchor_strength, \\\n",
    "                        words=words, docs=corpus)\n",
    "    else:\n",
    "        topic_model.fit(doc_word,words=words, docs=corpus)\n",
    "    \n",
    "    \n",
    "    # Print the topics and top words\n",
    "    topics = topic_model.get_topics()\n",
    "    for n,topic in enumerate(topics):\n",
    "        topic_words,_,_ = zip(*topic)\n",
    "        print('{}: '.format(n) + ','.join(topic_words))\n",
    "     \n",
    "    # Print total correlation of each topic and the sum of all topics in the model\n",
    "    print(\"\")\n",
    "    print(topic_model.tcs)\n",
    "    print(topic_model.tc)\n",
    "    \n",
    "    return topic_model"
   ]
  },
  {
   "cell_type": "markdown",
   "metadata": {},
   "source": [
    "# CorEx Baseline model"
   ]
  },
  {
   "cell_type": "code",
   "execution_count": 264,
   "metadata": {},
   "outputs": [
    {
     "name": "stdout",
     "output_type": "stream",
     "text": [
      "(1458, 20000)\n",
      "\n",
      "0: way,come,long,life,look,find,good,try,leave,friend\n",
      "1: information,sidewalk,reference,supply,accord,knowledge,campus,trap,fantasize,current\n",
      "2: disapprove,equip,undo,naturally,paddle,parameter,sane,relent,accessory,decipher\n",
      "3: resentment,apple,traumatize,outgrow,logical,underwater,filter,banter,bent,cascade\n",
      "4: design,shopping,fertility,trait,cart,boil,cure,magic,futon,dish\n",
      "5: participate,beam,bookstore,branch,stylish,cabinet,bread,minneapolis,charlie,roast\n",
      "6: chase,previously,abortion,pursuit,gas,curse,prop,bore,fragile,reproductive\n",
      "7: conform,novelty,unimaginable,award,stroke,chaperone,spreadsheet,arizona,celebration,delhi\n",
      "\n",
      "[87.72330266  5.32199851  5.10039868  3.38039333  2.96990819  2.71098833\n",
      "  2.59114962  1.27169641]\n",
      "111.06983572249246\n"
     ]
    },
    {
     "data": {
      "text/plain": [
       "<corextopic.corextopic.Corex at 0x7fe1736f4ca0>"
      ]
     },
     "execution_count": 264,
     "metadata": {},
     "output_type": "execute_result"
    }
   ],
   "source": [
    "corpus = modern_love_df_rev_2['essay_rev_clean_3']\n",
    "vectorizer = CountVectorizer(max_features=20000, binary=True)\n",
    "topic_modeler = ct.Corex(n_hidden=8, seed=1) \n",
    "\n",
    "make_topics_cx(corpus, vectorizer, topic_modeler, anchor_words=None, anchor_strength=None)"
   ]
  },
  {
   "cell_type": "code",
   "execution_count": 170,
   "metadata": {},
   "outputs": [],
   "source": [
    "# import tkinter\n",
    "# import matplotlib\n",
    "# import matplotlib.pyplot as plt\n",
    "# matplotlib.use('TkAgg')\n",
    "\n",
    "# plt.figure(figsize=(10,5))\n",
    "# plt.bar(range(topic_model_2.tcs.shape[0]), topic_model_2.tcs, color='#4e79a7', width=0.5)\n",
    "# plt.xlabel('Topic', fontsize=16)\n",
    "# plt.ylabel('Total Correlation (nats)', fontsize=16)\n",
    "# plt.show()"
   ]
  },
  {
   "cell_type": "markdown",
   "metadata": {},
   "source": [
    "# CorEx Model 2 - add anchor words (words from NFM model)"
   ]
  },
  {
   "cell_type": "code",
   "execution_count": 687,
   "metadata": {},
   "outputs": [
    {
     "name": "stdout",
     "output_type": "stream",
     "text": [
      "(1458, 20000)\n",
      "\n",
      "0: parent,father,mother,death,brother,sister,room,family,decide,child\n",
      "1: date,sex,boyfriend,job,allow,simply,truth,city,act,single\n",
      "2: marriage,way,come,long,divorce,life,look,find,good,try\n",
      "3: party,high school,girl,romance,cool,period,brown,painful,certainly,boot\n",
      "4: baby,doctor,pregnancy,birth,hospital,bright,nurse,machine,healthy,feature\n",
      "\n",
      "[20.68899194 23.7400969  55.13429811 16.88581432 17.03870544]\n",
      "133.48790671487816\n"
     ]
    }
   ],
   "source": [
    "corpus = modern_love_df_rev_2['essay_rev_clean_3']  # remove girlfriend # remove sex and ex # remove class, teacher, college\n",
    "vectorizer = CountVectorizer(ngram_range=(1,3),max_features=20000, binary=True)\n",
    "topic_modeler = ct.Corex(n_hidden=5, seed=1) \n",
    "anchor_words = [['father','mother','parent','brother','sister','death'],\\\n",
    "                ['sex','date','boyfriend'],\\\n",
    "                ['divorce','marriage'],\\\n",
    "                ['party', 'high school'],\\\n",
    "                ['birth','doctor','pregnancy','baby']]\n",
    "anchor_strength = 6\n",
    "\n",
    "corex_doc_topic = make_topics_cx(corpus, vectorizer, topic_modeler, anchor_words=anchor_words, anchor_strength=anchor_strength)"
   ]
  },
  {
   "cell_type": "markdown",
   "metadata": {},
   "source": [
    "# Plot top words associated with each topic"
   ]
  },
  {
   "cell_type": "markdown",
   "metadata": {},
   "source": [
    "The topic words are those with the highest mutual information with the topic, rather than those with highest probability within the topic as in LDA. The mutual information with the topic is the number reported in each tuple. CorEx also returns the \"sign\" of each word, which is either 1 or -1. If the sign is -1, then that means the absence of a word is informative in that topic, rather than its presence."
   ]
  },
  {
   "cell_type": "code",
   "execution_count": 688,
   "metadata": {},
   "outputs": [],
   "source": [
    "# save the topics and top words associated with each topic (it becomes a list of lists, where each list corresponds\n",
    "# with a topic and contains tuples with each word, its mutual information, and the word's 'sign'\n",
    "\n",
    "corex_topics_words = corex_doc_topic.get_topics()\n",
    "\n",
    "# remove third item in tuple, since we only \n",
    "corex_topics_words = [[word[:-1] for word in topic] for topic in corex_topics_words]"
   ]
  },
  {
   "cell_type": "code",
   "execution_count": 689,
   "metadata": {},
   "outputs": [],
   "source": [
    "# helper function to generate bar charts of topics and their words with the highest mutual info w/ the topic\n",
    "\n",
    "def create_topic_word_chart(i):\n",
    "    \n",
    "    topic_i = []\n",
    "    \n",
    "    for topic in corex_topics_words[i]:\n",
    "        topic_i.append(topic)\n",
    "        \n",
    "    words, mi = zip(*topic_i)\n",
    "    s = pd.Series(mi, words)\n",
    "    df = pd.DataFrame(s).reset_index().rename(columns={'index':'topic word',\n",
    "                                                        0:'mutual information'})\n",
    "    df = df.sort_values('mutual information',ascending=False)\n",
    "    \n",
    "    plt.figure(figsize=(5,6))\n",
    "    sns.set(font_scale=1.5)\n",
    "    sns.set_style(style='white')\n",
    "    plt.xlim(0,1)\n",
    "    sns.barplot(x='mutual information',y='topic word', data=df,color='pink')\n",
    "    sns.despine(top=True, right=True, left=False, bottom=False)"
   ]
  },
  {
   "cell_type": "markdown",
   "metadata": {},
   "source": [
    "Plot for family topic"
   ]
  },
  {
   "cell_type": "code",
   "execution_count": 690,
   "metadata": {},
   "outputs": [
    {
     "data": {
      "image/png": "[encoded data removed]",
      "text/plain": [
       "<Figure size 360x432 with 1 Axes>"
      ]
     },
     "metadata": {
      "needs_background": "light"
     },
     "output_type": "display_data"
    }
   ],
   "source": [
    "%matplotlib inline\n",
    "family_plot = create_topic_word_chart(i = 0)\n",
    "plt.savefig('family_plot.png',bbox_inches='tight')"
   ]
  },
  {
   "cell_type": "markdown",
   "metadata": {},
   "source": [
    "Plot for dating topic"
   ]
  },
  {
   "cell_type": "code",
   "execution_count": 691,
   "metadata": {
    "scrolled": false
   },
   "outputs": [
    {
     "data": {
      "image/png": "[encoded data removed]",
      "text/plain": [
       "<Figure size 360x432 with 1 Axes>"
      ]
     },
     "metadata": {
      "needs_background": "light"
     },
     "output_type": "display_data"
    }
   ],
   "source": [
    "%matplotlib inline\n",
    "dating_plot = create_topic_word_chart(i = 1)\n",
    "plt.savefig('dating_plot.png',bbox_inches='tight')"
   ]
  },
  {
   "cell_type": "markdown",
   "metadata": {},
   "source": [
    "Plot for marriage and divorce topic"
   ]
  },
  {
   "cell_type": "code",
   "execution_count": 692,
   "metadata": {},
   "outputs": [
    {
     "data": {
      "image/png": "[encoded data removed]",
      "text/plain": [
       "<Figure size 360x432 with 1 Axes>"
      ]
     },
     "metadata": {
      "needs_background": "light"
     },
     "output_type": "display_data"
    }
   ],
   "source": [
    "%matplotlib inline\n",
    "marriage_divorce_plot = create_topic_word_chart(i = 2)\n",
    "plt.savefig('marriage_divorce_plot.png',bbox_inches='tight')"
   ]
  },
  {
   "cell_type": "markdown",
   "metadata": {},
   "source": [
    "Plot for school topic"
   ]
  },
  {
   "cell_type": "code",
   "execution_count": 693,
   "metadata": {},
   "outputs": [
    {
     "data": {
      "image/png": "[encoded data removed]",
      "text/plain": [
       "<Figure size 360x432 with 1 Axes>"
      ]
     },
     "metadata": {
      "needs_background": "light"
     },
     "output_type": "display_data"
    }
   ],
   "source": [
    "%matplotlib inline\n",
    "school_plot = create_topic_word_chart(i = 3)\n",
    "plt.savefig('school.png',bbox_inches='tight')"
   ]
  },
  {
   "cell_type": "markdown",
   "metadata": {},
   "source": [
    "Plot for pregnancy and birth topic"
   ]
  },
  {
   "cell_type": "code",
   "execution_count": 694,
   "metadata": {},
   "outputs": [
    {
     "data": {
      "image/png": "[encoded data removed]",
      "text/plain": [
       "<Figure size 360x432 with 1 Axes>"
      ]
     },
     "metadata": {
      "needs_background": "light"
     },
     "output_type": "display_data"
    }
   ],
   "source": [
    "%matplotlib inline\n",
    "pregnancy_birth_plot = create_topic_word_chart(i = 4)\n",
    "plt.savefig('pregnancy_birth.png',bbox_inches='tight')"
   ]
  },
  {
   "cell_type": "markdown",
   "metadata": {},
   "source": [
    "# Map for taking a new document and outputting its topic"
   ]
  },
  {
   "cell_type": "code",
   "execution_count": 695,
   "metadata": {},
   "outputs": [],
   "source": [
    "# new docs to assign a topic\n",
    "\n",
    "new_docs = pd.Series(['Durian. It’s love or hate with this fruit. \\\n",
    "            In my family, only Grandma and I were fans. \\\n",
    "            Because of its pungent odor, my family members with milder tastes made a house rule: \\\n",
    "            Durian must be consumed in the parking lot or playground, never indoors. \\\n",
    "            Indignant and banished, I found comfort in Grandma’s solidarity.',\n",
    "            'The day after an ill-fated second date, I called my little brother as I lay in bed, despondent, \\\n",
    "            in my dingy college apartment. “I don’t have time to come home and do laundry today,” I said. \\\n",
    "            “Oh, and I met someone.” My brother, Felix, listened quietly to my inventory of hesitations: \\\n",
    "            She liked me more than I liked her. She wanted commitment. She lived around the block, and I really \\\n",
    "            didn’t want to hurt her. A pause. My brother said, “You have time for one load. I’ll come get you.”\\\n",
    "            His pragmatic, gentle love is just right. — Ione Madsen Hardy',\n",
    "           'Being in an abusive relationship is like acting in a play with an erratic director. \\\n",
    "           The script they write unfailingly serves them, affirms them and diminishes you. If you break \\\n",
    "           character (say, hang out with friends or move a houseplant without asking), they will make you pay. \\\n",
    "           So, every day, you get up and improvise to the best of your ability. Day after day of improv, \\\n",
    "           all in service of upholding their narrative and avoiding their wrath. Until, perhaps, you decide to \\\n",
    "           find a partner who will write a story with you, not for you. — Drew Lindgren',\n",
    "            'Hugh wept talking about his late wife, his best friend. After that first grief support session, I \\\n",
    "            said to my co-facilitator, “I don’t think Hugh will be back.” But he came, all eight weeks. \\\n",
    "            He called it a class, though we kept reminding him it wasn’t. I ran into him months later. \\\n",
    "            I wasn’t looking for romance, but I told him about my swing dance lessons. He asked if he could join; \\\n",
    "            he was such a good dancer. A decade later, politics divide the country. We’re in opposite camps. \\\n",
    "            We can’t watch the news together, but we can dance. — Eileen Vorbach Collins'])"
   ]
  },
  {
   "cell_type": "code",
   "execution_count": 696,
   "metadata": {},
   "outputs": [],
   "source": [
    "# pre-process new_docs the same ways as the original corpus fit to the model\n",
    "\n",
    "new_docs = list(nlp.pipe(new_docs))\n",
    "new_docs_clean = [[token.lemma_.lower() for token in doc if token.is_alpha and \\\n",
    "                          (not token.is_stop and not token.is_punct and not token.like_num and not token.is_digit)] \\\n",
    "                           for doc in new_docs]\n",
    "new_docs_clean = [' '.join(map(str, l)) for l in new_docs_clean]\n",
    "\n",
    "new_docs_2 = list(nlp.pipe(new_docs_clean))\n",
    "new_docs_clean_2 = [[token for token in doc if token.text not in sw_spacy] for doc in new_docs_2]\n",
    "new_docs_clean_2 = [' '.join(map(str, l)) for l in new_docs_clean_2]\n",
    "new_docs_clean_2 = list(nlp.pipe(new_docs_clean_2))\n",
    "\n",
    "new_docs_3 = list(nlp.pipe(new_docs_clean_2))\n",
    "new_docs_clean_3 = [[token.lemma_ for token in doc] for doc in new_docs_3]\n",
    "new_docs_clean_3 = [' '.join(map(str, l)) for l in new_docs_clean_3]"
   ]
  },
  {
   "cell_type": "markdown",
   "metadata": {},
   "source": [
    "CountVectorizer and CorEx first"
   ]
  },
  {
   "cell_type": "code",
   "execution_count": 697,
   "metadata": {},
   "outputs": [],
   "source": [
    "# vectorize new_docs_clean_3 on vectorizer fit to original corpus\n",
    "\n",
    "corpus = modern_love_df_rev_2['essay_rev_clean_3']\n",
    "vectorizer = CountVectorizer(ngram_range=(1,3), max_features=20000, binary=True)\n",
    "doc_word_vectors = vectorizer.fit_transform(corpus)\n",
    "new_doc_word_vectors = vectorizer.transform(new_docs_clean_3)"
   ]
  },
  {
   "cell_type": "code",
   "execution_count": 698,
   "metadata": {},
   "outputs": [],
   "source": [
    "# predict topics for each doc in new_docs_clean_3 on CorEx model fit to original vectorized corpus\n",
    "\n",
    "new_doc_topic = corex_doc_topic.predict(new_doc_word_vectors)"
   ]
  },
  {
   "cell_type": "code",
   "execution_count": 699,
   "metadata": {},
   "outputs": [],
   "source": [
    "# create dataframe from new_doc_topic matrix and join it with the text documents\n",
    "\n",
    "corex_new_doc_topic_df = pd.DataFrame(new_doc_topic, columns=['family','dating','marriage_divorce',\n",
    "                                                             'school','birth_pregnancy'])\n",
    "\n",
    "corex_new_doc_topic_df['doc'] = new_docs_clean_3"
   ]
  },
  {
   "cell_type": "code",
   "execution_count": 700,
   "metadata": {},
   "outputs": [
    {
     "data": {
      "text/html": [
       "<div>\n",
       "<style scoped>\n",
       "    .dataframe tbody tr th:only-of-type {\n",
       "        vertical-align: middle;\n",
       "    }\n",
       "\n",
       "    .dataframe tbody tr th {\n",
       "        vertical-align: top;\n",
       "    }\n",
       "\n",
       "    .dataframe thead th {\n",
       "        text-align: right;\n",
       "    }\n",
       "</style>\n",
       "<table border=\"1\" class=\"dataframe\">\n",
       "  <thead>\n",
       "    <tr style=\"text-align: right;\">\n",
       "      <th></th>\n",
       "      <th>family</th>\n",
       "      <th>dating</th>\n",
       "      <th>marriage_divorce</th>\n",
       "      <th>school</th>\n",
       "      <th>birth_pregnancy</th>\n",
       "      <th>doc</th>\n",
       "    </tr>\n",
       "  </thead>\n",
       "  <tbody>\n",
       "    <tr>\n",
       "      <th>0</th>\n",
       "      <td>False</td>\n",
       "      <td>False</td>\n",
       "      <td>False</td>\n",
       "      <td>True</td>\n",
       "      <td>False</td>\n",
       "      <td>durian love hate fruit family grandmother fan pungent odor family member milder taste house rule durian consume parking lot playground indoor indignant banish find comfort grandmother solidarity</td>\n",
       "    </tr>\n",
       "    <tr>\n",
       "      <th>1</th>\n",
       "      <td>False</td>\n",
       "      <td>False</td>\n",
       "      <td>False</td>\n",
       "      <td>False</td>\n",
       "      <td>False</td>\n",
       "      <td>ill fate date little brother lie bed despondent dingy college apartment come home laundry today oh meet brother felix listen quietly inventory hesitation commitment live block hurt pause brother load come pragmatic gentle love right ione madsen hardy</td>\n",
       "    </tr>\n",
       "    <tr>\n",
       "      <th>2</th>\n",
       "      <td>False</td>\n",
       "      <td>False</td>\n",
       "      <td>False</td>\n",
       "      <td>False</td>\n",
       "      <td>False</td>\n",
       "      <td>abusive relationship act play erratic director script write unfailingly serve affirm diminish break character hang friend houseplant pay improvise good ability improv service uphold narrative avoid wrath decide find partner write story draw lindgren</td>\n",
       "    </tr>\n",
       "    <tr>\n",
       "      <th>3</th>\n",
       "      <td>False</td>\n",
       "      <td>False</td>\n",
       "      <td>False</td>\n",
       "      <td>False</td>\n",
       "      <td>False</td>\n",
       "      <td>hugh weep talk late wife good friend grief support session co facilitator hugh come week class remind run month later look romance swing dance lesson join good dancer decade later politic divide country opposite camp watch news dance eileen vorbach collin</td>\n",
       "    </tr>\n",
       "  </tbody>\n",
       "</table>\n",
       "</div>"
      ],
      "text/plain": [
       "   family  dating  marriage_divorce  school  birth_pregnancy  \\\n",
       "0  False   False   False             True    False             \n",
       "1  False   False   False             False   False             \n",
       "2  False   False   False             False   False             \n",
       "3  False   False   False             False   False             \n",
       "\n",
       "                                                                                                                                                                                                                                                               doc  \n",
       "0  durian love hate fruit family grandmother fan pungent odor family member milder taste house rule durian consume parking lot playground indoor indignant banish find comfort grandmother solidarity                                                               \n",
       "1  ill fate date little brother lie bed despondent dingy college apartment come home laundry today oh meet brother felix listen quietly inventory hesitation commitment live block hurt pause brother load come pragmatic gentle love right ione madsen hardy       \n",
       "2  abusive relationship act play erratic director script write unfailingly serve affirm diminish break character hang friend houseplant pay improvise good ability improv service uphold narrative avoid wrath decide find partner write story draw lindgren        \n",
       "3  hugh weep talk late wife good friend grief support session co facilitator hugh come week class remind run month later look romance swing dance lesson join good dancer decade later politic divide country opposite camp watch news dance eileen vorbach collin  "
      ]
     },
     "execution_count": 700,
     "metadata": {},
     "output_type": "execute_result"
    }
   ],
   "source": [
    "corex_new_doc_topic_df"
   ]
  },
  {
   "cell_type": "markdown",
   "metadata": {},
   "source": [
    "TfidfVectorizer and NMF second (if necessary)"
   ]
  },
  {
   "cell_type": "code",
   "execution_count": 709,
   "metadata": {},
   "outputs": [],
   "source": [
    "# vectorize new_docs_clean_3 on vectorizer fit to original corpus\n",
    "\n",
    "tfidf_vectorizer = TfidfVectorizer(ngram_range=(1,3), max_df=0.6, min_df=.01)\n",
    "doc_word_vectors_nmf = tfidf_vectorizer.fit_transform(corpus)\n",
    "new_doc_word_vectors_nmf = tfidf_vectorizer.transform(new_docs_clean_3)"
   ]
  },
  {
   "cell_type": "code",
   "execution_count": 713,
   "metadata": {},
   "outputs": [
    {
     "ename": "AttributeError",
     "evalue": "'numpy.ndarray' object has no attribute 'transform'",
     "output_type": "error",
     "traceback": [
      "\u001b[0;31m---------------------------------------------------------------------------\u001b[0m",
      "\u001b[0;31mAttributeError\u001b[0m                            Traceback (most recent call last)",
      "\u001b[0;32m<ipython-input-713-dd9765ab3ccb>\u001b[0m in \u001b[0;36m<module>\u001b[0;34m\u001b[0m\n\u001b[1;32m      1\u001b[0m \u001b[0;31m# predict topics for each doc in new_docs_clean_3 on NMF model fit to original vectorized corpus\u001b[0m\u001b[0;34m\u001b[0m\u001b[0;34m\u001b[0m\u001b[0;34m\u001b[0m\u001b[0m\n\u001b[1;32m      2\u001b[0m \u001b[0;34m\u001b[0m\u001b[0m\n\u001b[0;32m----> 3\u001b[0;31m \u001b[0mnew_doc_topic_nmf\u001b[0m \u001b[0;34m=\u001b[0m \u001b[0mnmf_doc_topic\u001b[0m\u001b[0;34m.\u001b[0m\u001b[0mtransform\u001b[0m\u001b[0;34m(\u001b[0m\u001b[0mnew_doc_word_vectors_nmf\u001b[0m\u001b[0;34m)\u001b[0m\u001b[0;34m\u001b[0m\u001b[0;34m\u001b[0m\u001b[0m\n\u001b[0m",
      "\u001b[0;31mAttributeError\u001b[0m: 'numpy.ndarray' object has no attribute 'transform'"
     ]
    }
   ],
   "source": [
    "# predict topics for each doc in new_docs_clean_3 on NMF model fit to original vectorized corpus\n",
    "\n",
    "new_doc_topic_nmf = nmf_doc_topic.transform(new_doc_word_vectors_nmf)"
   ]
  },
  {
   "cell_type": "markdown",
   "metadata": {},
   "source": [
    "# Prepare dataframe for analysis"
   ]
  },
  {
   "cell_type": "code",
   "execution_count": 681,
   "metadata": {},
   "outputs": [],
   "source": [
    "corex_doc_topic_df = pd.DataFrame(corex_doc_topic.p_y_given_x) # n_docs x k_topics"
   ]
  },
  {
   "cell_type": "code",
   "execution_count": 682,
   "metadata": {},
   "outputs": [
    {
     "data": {
      "text/html": [
       "<div>\n",
       "<style scoped>\n",
       "    .dataframe tbody tr th:only-of-type {\n",
       "        vertical-align: middle;\n",
       "    }\n",
       "\n",
       "    .dataframe tbody tr th {\n",
       "        vertical-align: top;\n",
       "    }\n",
       "\n",
       "    .dataframe thead th {\n",
       "        text-align: right;\n",
       "    }\n",
       "</style>\n",
       "<table border=\"1\" class=\"dataframe\">\n",
       "  <thead>\n",
       "    <tr style=\"text-align: right;\">\n",
       "      <th></th>\n",
       "      <th>0</th>\n",
       "      <th>1</th>\n",
       "      <th>2</th>\n",
       "      <th>3</th>\n",
       "      <th>4</th>\n",
       "    </tr>\n",
       "  </thead>\n",
       "  <tbody>\n",
       "    <tr>\n",
       "      <th>851</th>\n",
       "      <td>0.000001</td>\n",
       "      <td>0.000001</td>\n",
       "      <td>0.000001</td>\n",
       "      <td>0.000001</td>\n",
       "      <td>0.000001</td>\n",
       "    </tr>\n",
       "    <tr>\n",
       "      <th>509</th>\n",
       "      <td>0.999999</td>\n",
       "      <td>0.999999</td>\n",
       "      <td>0.999999</td>\n",
       "      <td>0.999999</td>\n",
       "      <td>0.999999</td>\n",
       "    </tr>\n",
       "    <tr>\n",
       "      <th>1399</th>\n",
       "      <td>0.000001</td>\n",
       "      <td>0.000001</td>\n",
       "      <td>0.000001</td>\n",
       "      <td>0.000001</td>\n",
       "      <td>0.000001</td>\n",
       "    </tr>\n",
       "    <tr>\n",
       "      <th>793</th>\n",
       "      <td>0.000001</td>\n",
       "      <td>0.000001</td>\n",
       "      <td>0.000001</td>\n",
       "      <td>0.000001</td>\n",
       "      <td>0.000001</td>\n",
       "    </tr>\n",
       "    <tr>\n",
       "      <th>186</th>\n",
       "      <td>0.999999</td>\n",
       "      <td>0.999999</td>\n",
       "      <td>0.999999</td>\n",
       "      <td>0.999999</td>\n",
       "      <td>0.999999</td>\n",
       "    </tr>\n",
       "  </tbody>\n",
       "</table>\n",
       "</div>"
      ],
      "text/plain": [
       "             0         1         2         3         4\n",
       "851   0.000001  0.000001  0.000001  0.000001  0.000001\n",
       "509   0.999999  0.999999  0.999999  0.999999  0.999999\n",
       "1399  0.000001  0.000001  0.000001  0.000001  0.000001\n",
       "793   0.000001  0.000001  0.000001  0.000001  0.000001\n",
       "186   0.999999  0.999999  0.999999  0.999999  0.999999"
      ]
     },
     "execution_count": 682,
     "metadata": {},
     "output_type": "execute_result"
    }
   ],
   "source": [
    "corex_doc_topic_df.sample(5)"
   ]
  },
  {
   "cell_type": "code",
   "execution_count": 683,
   "metadata": {},
   "outputs": [],
   "source": [
    "corex_modern_love_doc_topic_df = modern_love_df_rev_2.join(corex_doc_topic_df)\n",
    "corex_modern_love_doc_topic_df = corex_modern_love_doc_topic_df.rename(columns={0:'topic_1',1:'topic_2',\n",
    "                                                                   2:'topic_3',3:'topic_4',\n",
    "                                                                   4:'topic_5'})"
   ]
  },
  {
   "cell_type": "code",
   "execution_count": 684,
   "metadata": {},
   "outputs": [
    {
     "data": {
      "text/html": [
       "<div>\n",
       "<style scoped>\n",
       "    .dataframe tbody tr th:only-of-type {\n",
       "        vertical-align: middle;\n",
       "    }\n",
       "\n",
       "    .dataframe tbody tr th {\n",
       "        vertical-align: top;\n",
       "    }\n",
       "\n",
       "    .dataframe thead th {\n",
       "        text-align: right;\n",
       "    }\n",
       "</style>\n",
       "<table border=\"1\" class=\"dataframe\">\n",
       "  <thead>\n",
       "    <tr style=\"text-align: right;\">\n",
       "      <th></th>\n",
       "      <th>topic_1</th>\n",
       "      <th>topic_2</th>\n",
       "      <th>topic_3</th>\n",
       "      <th>topic_4</th>\n",
       "      <th>topic_5</th>\n",
       "    </tr>\n",
       "  </thead>\n",
       "  <tbody>\n",
       "    <tr>\n",
       "      <th>75</th>\n",
       "      <td>0.999999</td>\n",
       "      <td>0.999999</td>\n",
       "      <td>0.999999</td>\n",
       "      <td>0.999999</td>\n",
       "      <td>0.999999</td>\n",
       "    </tr>\n",
       "    <tr>\n",
       "      <th>281</th>\n",
       "      <td>0.999999</td>\n",
       "      <td>0.999999</td>\n",
       "      <td>0.999999</td>\n",
       "      <td>0.000001</td>\n",
       "      <td>0.999999</td>\n",
       "    </tr>\n",
       "    <tr>\n",
       "      <th>1508</th>\n",
       "      <td>NaN</td>\n",
       "      <td>NaN</td>\n",
       "      <td>NaN</td>\n",
       "      <td>NaN</td>\n",
       "      <td>NaN</td>\n",
       "    </tr>\n",
       "    <tr>\n",
       "      <th>681</th>\n",
       "      <td>0.999999</td>\n",
       "      <td>0.999999</td>\n",
       "      <td>0.999999</td>\n",
       "      <td>0.999999</td>\n",
       "      <td>0.999999</td>\n",
       "    </tr>\n",
       "    <tr>\n",
       "      <th>822</th>\n",
       "      <td>0.000001</td>\n",
       "      <td>0.000001</td>\n",
       "      <td>0.000001</td>\n",
       "      <td>0.000001</td>\n",
       "      <td>0.000001</td>\n",
       "    </tr>\n",
       "  </tbody>\n",
       "</table>\n",
       "</div>"
      ],
      "text/plain": [
       "       topic_1   topic_2   topic_3   topic_4   topic_5\n",
       "75    0.999999  0.999999  0.999999  0.999999  0.999999\n",
       "281   0.999999  0.999999  0.999999  0.000001  0.999999\n",
       "1508 NaN       NaN       NaN       NaN       NaN      \n",
       "681   0.999999  0.999999  0.999999  0.999999  0.999999\n",
       "822   0.000001  0.000001  0.000001  0.000001  0.000001"
      ]
     },
     "execution_count": 684,
     "metadata": {},
     "output_type": "execute_result"
    }
   ],
   "source": [
    "corex_modern_love_doc_topic_df.iloc[:,-5:].sample(5)"
   ]
  },
  {
   "cell_type": "code",
   "execution_count": 680,
   "metadata": {},
   "outputs": [
    {
     "name": "stdout",
     "output_type": "stream",
     "text": [
      "<class 'pandas.core.frame.DataFrame'>\n",
      "Int64Index: 1458 entries, 0 to 1608\n",
      "Data columns (total 21 columns):\n",
      " #   Column             Non-Null Count  Dtype \n",
      "---  ------             --------------  ----- \n",
      " 0   url                1458 non-null   object\n",
      " 1   essay              1458 non-null   object\n",
      " 2   id                 1458 non-null   object\n",
      " 3   headline           1458 non-null   object\n",
      " 4   abstract           1458 non-null   object\n",
      " 5   snippet            1458 non-null   object\n",
      " 6   lead_paragraph     1450 non-null   object\n",
      " 7   pub_date           1458 non-null   object\n",
      " 8   news_desk          1458 non-null   object\n",
      " 9   section            1458 non-null   object\n",
      " 10  type_material      1458 non-null   object\n",
      " 11  word_count         1458 non-null   int64 \n",
      " 12  essay_rev          1458 non-null   object\n",
      " 13  essay_rev_clean    1458 non-null   object\n",
      " 14  essay_rev_clean_2  1458 non-null   object\n",
      " 15  essay_rev_clean_3  1458 non-null   object\n",
      " 16  topic_1            1307 non-null   object\n",
      " 17  topic_2            1307 non-null   object\n",
      " 18  topic_3            1307 non-null   object\n",
      " 19  topic_4            1307 non-null   object\n",
      " 20  topic_5            1307 non-null   object\n",
      "dtypes: int64(1), object(20)\n",
      "memory usage: 250.6+ KB\n"
     ]
    }
   ],
   "source": [
    "corex_modern_love_doc_topic_df.info()"
   ]
  },
  {
   "cell_type": "code",
   "execution_count": 586,
   "metadata": {},
   "outputs": [],
   "source": [
    "corex_modern_love_doc_topic_df.loc['total'] = corex_modern_love_doc_topic_df[['topic_1','topic_2','topic_3','topic_4','topic_5']].sum()"
   ]
  },
  {
   "cell_type": "code",
   "execution_count": 587,
   "metadata": {},
   "outputs": [],
   "source": [
    "total_docs_per_topic = corex_modern_love_doc_topic_df.iloc[-1:,-5:].values\n",
    "total_docs_per_topic = [item for sublist in total_docs_per_topic for item in sublist]\n",
    "topics_list = ['Family','Dating','Marriage and Divorce','School','Pregnancy and Birth']"
   ]
  },
  {
   "cell_type": "code",
   "execution_count": 588,
   "metadata": {},
   "outputs": [
    {
     "name": "stdout",
     "output_type": "stream",
     "text": [
      "[634.0, 647.0, 663.0, 611.0, 531.0]\n",
      "['Family', 'Dating', 'Marriage and Divorce', 'School', 'Pregnancy and Birth']\n"
     ]
    }
   ],
   "source": [
    "print(total_docs_per_topic)\n",
    "print(topics_list)"
   ]
  },
  {
   "cell_type": "code",
   "execution_count": 589,
   "metadata": {},
   "outputs": [
    {
     "data": {
      "text/plain": [
       "641"
      ]
     },
     "execution_count": 589,
     "metadata": {},
     "output_type": "execute_result"
    }
   ],
   "source": [
    "docs_no_topic = len(corex_modern_love_doc_topic_df.loc[(corex_modern_love_doc_topic_df.topic_1 == False) & \\\n",
    "                                                  (corex_modern_love_doc_topic_df.topic_2 == False) & \\\n",
    "                                                  (corex_modern_love_doc_topic_df.topic_3 == False) & \\\n",
    "                                                  (corex_modern_love_doc_topic_df.topic_4 == False) & \\\n",
    "                                                  (corex_modern_love_doc_topic_df.topic_5 == False)])\n",
    "docs_no_topic"
   ]
  },
  {
   "cell_type": "code",
   "execution_count": 590,
   "metadata": {},
   "outputs": [],
   "source": [
    "total_docs_per_topic.append(docs_no_topic)\n",
    "topics_list.append('No topic')"
   ]
  },
  {
   "cell_type": "code",
   "execution_count": 591,
   "metadata": {},
   "outputs": [],
   "source": [
    "s = pd.Series(total_docs_per_topic, topics_list)\n",
    "df = pd.DataFrame(s).reset_index().rename(columns={'index':'topic',\n",
    "                                                        0:'total essays/short stories'})\n",
    "df = df.sort_values('total essays/short stories',ascending=False)"
   ]
  },
  {
   "cell_type": "code",
   "execution_count": 592,
   "metadata": {},
   "outputs": [
    {
     "data": {
      "image/png": "[encoded data removed]",
      "text/plain": [
       "<Figure size 360x432 with 1 Axes>"
      ]
     },
     "metadata": {
      "needs_background": "light"
     },
     "output_type": "display_data"
    }
   ],
   "source": [
    "%matplotlib inline\n",
    "\n",
    "plt.figure(figsize=(5,6))\n",
    "sns.set(font_scale=1.5)\n",
    "#sns.set_palette(\"pastel\")\n",
    "sns.set_style(style='white')\n",
    "#plt.xlim(0,1)\n",
    "sns.barplot(x='total essays/short stories',y='topic', data=df, color='gray')\n",
    "sns.despine(top=True, right=True, left=False, bottom=False)\n",
    "plt.savefig('docs_per_topic.png',bbox_inches='tight')"
   ]
  },
  {
   "cell_type": "code",
   "execution_count": 597,
   "metadata": {},
   "outputs": [],
   "source": [
    "# drop total row from df\n",
    "\n",
    "corex_modern_love_doc_topic_df = corex_modern_love_doc_topic_df.iloc[:-1]\n",
    "\n",
    "# convert pub_date to datetime and then keep only the date\n",
    "\n",
    "corex_modern_love_doc_topic_df['pub_date_year'] = pd.DatetimeIndex(corex_modern_love_doc_topic_df['pub_date']).year"
   ]
  },
  {
   "cell_type": "code",
   "execution_count": 605,
   "metadata": {},
   "outputs": [
    {
     "name": "stderr",
     "output_type": "stream",
     "text": [
      "/opt/anaconda3/lib/python3.8/site-packages/pandas/core/ops/array_ops.py:253: FutureWarning: elementwise comparison failed; returning scalar instead, but in the future will perform elementwise comparison\n",
      "  res_values = method(rvalues)\n"
     ]
    },
    {
     "data": {
      "text/html": [
       "<div>\n",
       "<style scoped>\n",
       "    .dataframe tbody tr th:only-of-type {\n",
       "        vertical-align: middle;\n",
       "    }\n",
       "\n",
       "    .dataframe tbody tr th {\n",
       "        vertical-align: top;\n",
       "    }\n",
       "\n",
       "    .dataframe thead th {\n",
       "        text-align: right;\n",
       "    }\n",
       "</style>\n",
       "<table border=\"1\" class=\"dataframe\">\n",
       "  <thead>\n",
       "    <tr style=\"text-align: right;\">\n",
       "      <th></th>\n",
       "      <th>url</th>\n",
       "      <th>essay</th>\n",
       "      <th>id</th>\n",
       "      <th>headline</th>\n",
       "      <th>abstract</th>\n",
       "      <th>snippet</th>\n",
       "      <th>lead_paragraph</th>\n",
       "      <th>pub_date</th>\n",
       "      <th>news_desk</th>\n",
       "      <th>section</th>\n",
       "      <th>...</th>\n",
       "      <th>essay_rev</th>\n",
       "      <th>essay_rev_clean</th>\n",
       "      <th>essay_rev_clean_2</th>\n",
       "      <th>essay_rev_clean_3</th>\n",
       "      <th>topic_1</th>\n",
       "      <th>topic_2</th>\n",
       "      <th>topic_3</th>\n",
       "      <th>topic_4</th>\n",
       "      <th>topic_5</th>\n",
       "      <th>pub_date_year</th>\n",
       "    </tr>\n",
       "  </thead>\n",
       "  <tbody>\n",
       "  </tbody>\n",
       "</table>\n",
       "<p>0 rows × 22 columns</p>\n",
       "</div>"
      ],
      "text/plain": [
       "Empty DataFrame\n",
       "Columns: [url, essay, id, headline, abstract, snippet, lead_paragraph, pub_date, news_desk, section, type_material, word_count, essay_rev, essay_rev_clean, essay_rev_clean_2, essay_rev_clean_3, topic_1, topic_2, topic_3, topic_4, topic_5, pub_date_year]\n",
       "Index: []\n",
       "\n",
       "[0 rows x 22 columns]"
      ]
     },
     "execution_count": 605,
     "metadata": {},
     "output_type": "execute_result"
    }
   ],
   "source": [
    "corex_modern_love_doc_topic_df.loc[corex_modern_love_doc_topic_df.pub_date_year == '2004']"
   ]
  },
  {
   "cell_type": "code",
   "execution_count": 607,
   "metadata": {},
   "outputs": [],
   "source": [
    "topics_over_time = corex_modern_love_doc_topic_df.groupby('pub_date_year').agg({'topic_1':'sum','topic_2':'sum',\n",
    "                                                            'topic_3':'sum','topic_4':'sum',\n",
    "                                                            'topic_5':'sum'}).reset_index()"
   ]
  },
  {
   "cell_type": "code",
   "execution_count": 608,
   "metadata": {
    "scrolled": false
   },
   "outputs": [
    {
     "data": {
      "text/html": [
       "<div>\n",
       "<style scoped>\n",
       "    .dataframe tbody tr th:only-of-type {\n",
       "        vertical-align: middle;\n",
       "    }\n",
       "\n",
       "    .dataframe tbody tr th {\n",
       "        vertical-align: top;\n",
       "    }\n",
       "\n",
       "    .dataframe thead th {\n",
       "        text-align: right;\n",
       "    }\n",
       "</style>\n",
       "<table border=\"1\" class=\"dataframe\">\n",
       "  <thead>\n",
       "    <tr style=\"text-align: right;\">\n",
       "      <th></th>\n",
       "      <th>pub_date_year</th>\n",
       "      <th>topic_1</th>\n",
       "      <th>topic_2</th>\n",
       "      <th>topic_3</th>\n",
       "      <th>topic_4</th>\n",
       "      <th>topic_5</th>\n",
       "    </tr>\n",
       "  </thead>\n",
       "  <tbody>\n",
       "    <tr>\n",
       "      <th>0</th>\n",
       "      <td>2004</td>\n",
       "      <td>False</td>\n",
       "      <td>False</td>\n",
       "      <td>False</td>\n",
       "      <td>False</td>\n",
       "      <td>False</td>\n",
       "    </tr>\n",
       "    <tr>\n",
       "      <th>1</th>\n",
       "      <td>2005</td>\n",
       "      <td>0</td>\n",
       "      <td>0</td>\n",
       "      <td>0</td>\n",
       "      <td>0</td>\n",
       "      <td>0</td>\n",
       "    </tr>\n",
       "    <tr>\n",
       "      <th>2</th>\n",
       "      <td>2006</td>\n",
       "      <td>0</td>\n",
       "      <td>0</td>\n",
       "      <td>0</td>\n",
       "      <td>0</td>\n",
       "      <td>0</td>\n",
       "    </tr>\n",
       "    <tr>\n",
       "      <th>3</th>\n",
       "      <td>2007</td>\n",
       "      <td>42</td>\n",
       "      <td>44</td>\n",
       "      <td>44</td>\n",
       "      <td>38</td>\n",
       "      <td>38</td>\n",
       "    </tr>\n",
       "    <tr>\n",
       "      <th>4</th>\n",
       "      <td>2008</td>\n",
       "      <td>46</td>\n",
       "      <td>47</td>\n",
       "      <td>47</td>\n",
       "      <td>45</td>\n",
       "      <td>43</td>\n",
       "    </tr>\n",
       "    <tr>\n",
       "      <th>5</th>\n",
       "      <td>2009</td>\n",
       "      <td>47</td>\n",
       "      <td>47</td>\n",
       "      <td>47</td>\n",
       "      <td>46</td>\n",
       "      <td>42</td>\n",
       "    </tr>\n",
       "    <tr>\n",
       "      <th>6</th>\n",
       "      <td>2010</td>\n",
       "      <td>48</td>\n",
       "      <td>48</td>\n",
       "      <td>48</td>\n",
       "      <td>47</td>\n",
       "      <td>42</td>\n",
       "    </tr>\n",
       "    <tr>\n",
       "      <th>7</th>\n",
       "      <td>2011</td>\n",
       "      <td>48</td>\n",
       "      <td>49</td>\n",
       "      <td>50</td>\n",
       "      <td>47</td>\n",
       "      <td>41</td>\n",
       "    </tr>\n",
       "    <tr>\n",
       "      <th>8</th>\n",
       "      <td>2012</td>\n",
       "      <td>47</td>\n",
       "      <td>49</td>\n",
       "      <td>50</td>\n",
       "      <td>47</td>\n",
       "      <td>36</td>\n",
       "    </tr>\n",
       "    <tr>\n",
       "      <th>9</th>\n",
       "      <td>2013</td>\n",
       "      <td>21</td>\n",
       "      <td>21</td>\n",
       "      <td>21</td>\n",
       "      <td>20</td>\n",
       "      <td>18</td>\n",
       "    </tr>\n",
       "    <tr>\n",
       "      <th>10</th>\n",
       "      <td>2014</td>\n",
       "      <td>6</td>\n",
       "      <td>6</td>\n",
       "      <td>6</td>\n",
       "      <td>6</td>\n",
       "      <td>3</td>\n",
       "    </tr>\n",
       "    <tr>\n",
       "      <th>11</th>\n",
       "      <td>2015</td>\n",
       "      <td>44</td>\n",
       "      <td>43</td>\n",
       "      <td>46</td>\n",
       "      <td>41</td>\n",
       "      <td>33</td>\n",
       "    </tr>\n",
       "    <tr>\n",
       "      <th>12</th>\n",
       "      <td>2016</td>\n",
       "      <td>42</td>\n",
       "      <td>46</td>\n",
       "      <td>46</td>\n",
       "      <td>44</td>\n",
       "      <td>36</td>\n",
       "    </tr>\n",
       "    <tr>\n",
       "      <th>13</th>\n",
       "      <td>2017</td>\n",
       "      <td>47</td>\n",
       "      <td>48</td>\n",
       "      <td>50</td>\n",
       "      <td>45</td>\n",
       "      <td>41</td>\n",
       "    </tr>\n",
       "    <tr>\n",
       "      <th>14</th>\n",
       "      <td>2018</td>\n",
       "      <td>43</td>\n",
       "      <td>50</td>\n",
       "      <td>50</td>\n",
       "      <td>46</td>\n",
       "      <td>39</td>\n",
       "    </tr>\n",
       "    <tr>\n",
       "      <th>15</th>\n",
       "      <td>2019</td>\n",
       "      <td>41</td>\n",
       "      <td>41</td>\n",
       "      <td>43</td>\n",
       "      <td>41</td>\n",
       "      <td>35</td>\n",
       "    </tr>\n",
       "    <tr>\n",
       "      <th>16</th>\n",
       "      <td>2020</td>\n",
       "      <td>50</td>\n",
       "      <td>48</td>\n",
       "      <td>51</td>\n",
       "      <td>44</td>\n",
       "      <td>38</td>\n",
       "    </tr>\n",
       "    <tr>\n",
       "      <th>17</th>\n",
       "      <td>2021</td>\n",
       "      <td>48</td>\n",
       "      <td>46</td>\n",
       "      <td>50</td>\n",
       "      <td>40</td>\n",
       "      <td>35</td>\n",
       "    </tr>\n",
       "    <tr>\n",
       "      <th>18</th>\n",
       "      <td>2022</td>\n",
       "      <td>14</td>\n",
       "      <td>14</td>\n",
       "      <td>14</td>\n",
       "      <td>14</td>\n",
       "      <td>11</td>\n",
       "    </tr>\n",
       "  </tbody>\n",
       "</table>\n",
       "</div>"
      ],
      "text/plain": [
       "    pub_date_year topic_1 topic_2 topic_3 topic_4 topic_5\n",
       "0   2004           False   False   False   False   False \n",
       "1   2005           0       0       0       0       0     \n",
       "2   2006           0       0       0       0       0     \n",
       "3   2007           42      44      44      38      38    \n",
       "4   2008           46      47      47      45      43    \n",
       "5   2009           47      47      47      46      42    \n",
       "6   2010           48      48      48      47      42    \n",
       "7   2011           48      49      50      47      41    \n",
       "8   2012           47      49      50      47      36    \n",
       "9   2013           21      21      21      20      18    \n",
       "10  2014           6       6       6       6       3     \n",
       "11  2015           44      43      46      41      33    \n",
       "12  2016           42      46      46      44      36    \n",
       "13  2017           47      48      50      45      41    \n",
       "14  2018           43      50      50      46      39    \n",
       "15  2019           41      41      43      41      35    \n",
       "16  2020           50      48      51      44      38    \n",
       "17  2021           48      46      50      40      35    \n",
       "18  2022           14      14      14      14      11    "
      ]
     },
     "execution_count": 608,
     "metadata": {},
     "output_type": "execute_result"
    }
   ],
   "source": [
    "topics_over_time"
   ]
  },
  {
   "cell_type": "code",
   "execution_count": null,
   "metadata": {},
   "outputs": [],
   "source": [
    "# # convert pub_date to datetime and then keep only the date\n",
    "\n",
    "# corex_modern_love_doc_topic_df['pub_date_year'] = pd.DatetimeIndex(corex_modern_love_doc_topic_df['pub_date']).year\n",
    "# topics_over_time = (corex_modern_love_doc_topic_df.groupby(['pub_date_year','topics']).size().reset_index().rename(columns={0: 'num_essays_short_stories'}))\n",
    "\n",
    "# topics_over_time = (modern_love_doc_topic_df.groupby(['pub_date_year','topics']).size().reset_index().rename(columns={0: 'num_essays_short_stories'}))\n",
    "# topics_over_time['total_essays_short_stories'] = topics_over_time.groupby(['pub_date_year'])['num_essays_short_stories'].transform(lambda x: x.sum())\n",
    "# topics_over_time['freq_essay_short_story_topic'] = (topics_over_time['num_essays_short_stories'] / \\\n",
    "#                                                    topics_over_time['total_essays_short_stories']).round(2)\n",
    "\n",
    "# def revise_topics(x):\n",
    "#     if x == 'topic_1':\n",
    "#         return 'misc'\n",
    "#     elif x == 'topic_2':\n",
    "#         return 'immediate family'\n",
    "#     elif x == 'topic_3':\n",
    "#         return 'marriage and divorce'\n",
    "#     elif x == 'topic_4':\n",
    "#         return 'dating'\n",
    "#     elif x == 'topic_5':\n",
    "#         return 'family'\n",
    "#     elif x == 'topic_6':\n",
    "#         return 'New York City'\n",
    "#     elif x == 'topic_7':\n",
    "#         return 'medical issues and pregnancy'\n",
    "#     else:\n",
    "#         return 'extended family'\n",
    "    \n",
    "# topics_over_time['topics'] = topics_over_time['topics'].map(revise_topics)"
   ]
  },
  {
   "cell_type": "code",
   "execution_count": 540,
   "metadata": {},
   "outputs": [
    {
     "data": {
      "text/plain": [
       "[('leave south dakota rex sit talk beneath open hatchback car distance lightning storm open expanse great plain churn sky murky purple talk passionately lithium battery talk common consider interested especially attract speak care battery volunteer pine ridge reservation build repair infrastructure greet arrive end long dirt road climb cab skid loader face body warm lyrical version happen storm approach stop talk seriously pleasure body baby date late poem math problem lot line look differ young self envision care date certain baby love get marriage biological father child maybe admire arrive set criterion alternative sentimental unrealistic especially husband wish list champion year ready able child help sit meditation practice observe worry pregnancy discerning love effect fear intensify old trust judgment pressure lot start smell father decide safe way protect romantic delusion separate story outset try find mate mother biological constraint easy figure urgent resolve child outside context love solo road trip south dakota conceive experience future self saddle dependent someday thank return home plan pregnancy anonymous donor sperm evening rex kiss tent realize lot life work crawl tent phone number head home michigan california leave exactly perfect crazy number home pore donor questionnaire local sperm bank try straight video game prefer billiard mix blandly phone conversation rex weird memorable inherit father expression son biscuit jeez dote backyard lie hen refer chicken mama adult travel airplane exactly domestic round trip job talk life exist present mention relationship michigan crumble path motherhood child search donor stagnate lack warm feeling friend offer screen profile eve birthday donor receive friend approval wait list sperm ambivalent finally rex stall plan mother help silent interested father co parent scenario discuss assume birth long romantically involve soon visit california experience soak naked strange hot spring contact year old redwood tree cry rub accurate clumsy hand life work donor arrangement fall love stay michigan teach use chain see care chicken eventually follow california drive way tow homemade trailer fill tool try live separate story month try conceive enjoy confuse situation pregnancy leave relationship pregnancy switch donor year offer donor begin difficult conversation middle pregnancy generosity genuinely thrill inwardly begin withdraw father co parent think bring old wound childhood indecision tempt try convince stay sanity recognize harm leave california photograph look haunted car drive east father leave scramble action interview midwife search online baby gear try explain womb cry lot sorry baby ok sad week later warning text arrive terrible mistake recognize love baby coincide believe separate remain fundamentally unchanged rex suffer able clean reality envision exist evaporate moment greet end dirt road body respond warmth buddhism find truth suffering cause desire glance suffer desire sound unequivocally bad beauty suffering offer opportunity curious tender relationship desire listen try eradicate hear beneath desire surface noise problematic human vulnerability life tangle rex absence remember tend lover child dirty work wholesome sense fall love baby point view preference affirm little bit soften singular lonesome grip reality invite unexpected undesirable inexplicable messiness richness hand life beautiful natural animal appetite understand faithful deep sense lover baby yes weird memorable welcome rex come way leave california listen podcast fatherhood look photo leave cry come baby sell heavy tool repaint wall house michigan sale month later california catch hand son bear',\n",
       "  0.0),\n",
       " ('prove strategy find love suspect million year edit column receive story baffle frustrated tsunami metaphor convey volume answer sure abound raise hand self help author relationship coach matchmaker eager ply trade open wallet maybe learn secret follow set antiquated rule low expectation settle describe favorite salty snack preference add profile cross reference preference turn key surely science science accord grin newlywe lock eye pilate conga line tiki bar find hitch happy consultant fee single round speed date maddeningly happen patient patience virtue strategy find love short hire adviser create direct mail campaign reveal vital site valentine offer sample intriguing tactic come lately familiar oldie dust modernize economical technology drive option perfect text seduction love letter long rich history text message genre enjoy renaissance albeit mark shallowness brevity bad hard impress efficiency message ur let second type fraction send require stamp wax seal calligraphy cost depend texting plan start beautiful relationship object desire reply chatty lol way consider add playful photo datum charge apply careful aim camera ill advise picture ruin word consult religious guru month ago column amy klein explain lapse jew faith divine intervention follow friend advice consult jerusalem rabbi predict coupledom amy meet husband hanukkah month away wait holiday high alert succumb despair hanukkah find love happen rabbi predict wonder prediction cause answer analyze miracle miracle way lot reader tap e mail response impressive number israel way write comment urgently request rabbi contact information tantalize tweet long ago young brooklynite hear julieanne smolinski discover interesting phenomenon seduce seduce suggestive touch whisper come ons character dispatch accompany chest self portrait size scrabble tile truism social medium twitter facebook small profile picture great fantasize double click photo try drag desktop hope view photo stubbornly remain minuscule square seductive potential fuel obsession combine witty tweet package prove irresistible scrabble tile meet course impossible circumstance encounter live fantasy downside imagine romantic future base smattering thumbnail image glib phrase increasingly meet uh oh apply date write jessica delfino tired date hamster wheel decide compose old fashioned list partner height age eye color parental job status pet ownership status publicize new fashioned way post craigslist invite applicant pledge respond meet fulfil criterion end age year minimum possess characteristic real come love come love engage true list arbitrary misguided need way forward believe way right right need short create illusion destiny chase end earth matter love chase chasing look desperate pathetic obsessed read tale chase common version involve drive bys doorbell ring way unreturned text message squirm induce chase love end earth different crush life decide japan lisa ruth brunner story summer miss arrange foreign study beijing close lisa year later find reunite tiananmen square magnitude act absurdly scale turn original paradigm head pathetic romantic desperate determine grand gesture lead love lisa story stand chance police blotter hollywood love love life reason couple column publish story human relationship hope illuminate facet love love story bona fide love story rare gary presley appear month ago near quadriplegic childhood polio gary mind burden maneuver body outside wheelchair substantial help dependent hard imagine love relationship romantic relationship start inequality gary develop feel home care aide young single mother belinda hopeless yearn regularly compel quash consider feel sense fact belinda fall gary clear maintain deserve love allow love hold hard idea content ride remainder life complaint write burn case absurd hodgepodge break eventually belinda constancy overcome denial marriage year fully resolve reality belinda love write add simply choose love belinda choose head logic heart dream logic heart yes prove strategy happy valentine',\n",
       "  0.0)]"
      ]
     },
     "execution_count": 540,
     "metadata": {},
     "output_type": "execute_result"
    }
   ],
   "source": [
    "# Let's check out topic : graphics\n",
    "corex_doc_topic.get_top_docs(topic=0, n_docs=2)"
   ]
  },
  {
   "cell_type": "markdown",
   "metadata": {},
   "source": [
    "# CorEx Model 3 - tune max_df, min_df and ngrams"
   ]
  },
  {
   "cell_type": "code",
   "execution_count": 273,
   "metadata": {},
   "outputs": [
    {
     "name": "stdout",
     "output_type": "stream",
     "text": [
      "(1458, 4031)\n",
      "\n",
      "0: parent,father,mother,brother,begin,sister,family,stand,real,child\n",
      "1: date,message,sex,girlfriend,boyfriend,online,profile,start date,mail message,text message\n",
      "2: marriage,sex,way,come,long,divorce,life,look,find,good\n",
      "3: school,college,class,place,early,watch,word,follow,realize,read\n",
      "4: baby,doctor,pregnancy,birth,hospital,nurse,healthy,intensive,intensive care,infant\n",
      "\n",
      "[37.19150201  4.61985162 32.22584163 18.99416746  3.66741986]\n",
      "96.6987825730295\n"
     ]
    },
    {
     "data": {
      "text/plain": [
       "<corextopic.corextopic.Corex at 0x7fe3d913b5e0>"
      ]
     },
     "execution_count": 273,
     "metadata": {},
     "output_type": "execute_result"
    }
   ],
   "source": [
    "corpus = modern_love_df_rev_2['essay_rev_clean_3']\n",
    "vectorizer = CountVectorizer(ngram_range=(1,3),max_features=20000,binary=True,min_df=.01)\n",
    "topic_modeler = ct.Corex(n_hidden=5, seed=1) \n",
    "anchor_words = [['father','mother','parent','brother','sister'],\\\n",
    "                ['sex','date','boyfriend','girlfriend','message'],\\\n",
    "                ['divorce','ex','sex','marriage'],\\\n",
    "                ['school','class','teacher','college'],\\\n",
    "                ['birth','doctor','pregnancy','baby']]\n",
    "anchor_strength = 6\n",
    "\n",
    "make_topics_cx(corpus, vectorizer, topic_modeler, anchor_words=anchor_words, anchor_strength=anchor_strength)"
   ]
  },
  {
   "cell_type": "markdown",
   "metadata": {},
   "source": [
    "Topic 0 essays\n",
    "- https://www.nytimes.com/2012/05/13/fashion/modern-love-paralysis-of-the-heart.html - \"With my son, Joe, I wasn’t fearless. Quite the opposite, I was petrified by how much I loved him.\" (author talks about love for her son when she has an MRI done for numbness in her body)\n",
    "- https://www.nytimes.com/2015/03/22/style/together-always-in-darkness-and-in-light.html - author talks about going blind and how this impacted her and her husband's decision to have another baby\n",
    "- https://www.nytimes.com/2012/03/11/fashion/a-small-lump-challenges-a-prediction.html \"The psychic’s predictions were three-for-three. But what about the most important one?\" (author talks about a benign tumor)\n",
    "\n",
    "Topic 1 essays\n",
    "- https://www.nytimes.com/2006/11/12/fashion/12love.html - \"Pledging much more than his heart\"\n",
    "- https://www.nytimes.com/2019/08/23/style/modern-love-lets-meet-again-in-five-years.html - \"They thought college was too soon for lifelong love, so they scheduled their next date for a little later — 60 months.\"\n",
    "- https://www.nytimes.com/2017/05/19/style/modern-love-not-friends-then-no-benefits.html - \"A woman who feels no sexual attraction without first establishing a deep emotional connection wonders if there is something wrong with her.\"\n",
    "\n",
    "Topic 2 essays\n",
    "- https://www.nytimes.com/2011/04/10/fashion/03Modern.html\t'A grand wedding dress can stir up latent longings, even in a modest bride.'\n",
    "- https://www.nytimes.com/2008/06/15/fashion/15love.html - \"My one slim shot at redemption: learn his hat size.\"\n",
    "\n",
    "Topic 3 essays\n",
    "- https://www.nytimes.com/2012/11/04/fashion/the-mixed-politics-marriage.html - \"Two teachers of conflict resolution navigate a marriage straddling the political left and right.\"\n",
    "- https://www.nytimes.com/2021/04/16/style/modern-love-muslim-hindu-dating.html - \"As a Pakistani Muslim, I knew that falling for a Hindu Indian would break me. And it did.\"\n",
    "\n",
    "Topic 4 essays \n",
    "- https://www.nytimes.com/2020/05/29/style/modern-love-coronavirus-why-are-all-the-exes-texting.html - \"Not since The New York Post said I was dead have so many friends and lovers checked in on me.\"\n",
    "- https://www.nytimes.com/2016/10/09/fashion/modern-love-trump-clinton-family-affair.html - \"In midlife, a man quickly forges a tight bond with a sister he never knew he had, until the presidential campaign threatens to pull them apart.\"\n",
    "\n",
    "Topic 5 essays\n",
    "- https://www.nytimes.com/2018/10/26/style/modern-love-im-the-man.html - \"Stung by divorce, a high-earning professional tries to recast herself in the dating world as a woman in need of male protection.\"\n",
    "- https://www.nytimes.com/2008/06/29/fashion/29love.html - \"Sometimes we have to fight battles even when we don't want to.\"\n",
    "- https://www.nytimes.com/2013/06/02/fashion/My-Husbands-New-Son-Modern-Love.html - \"Hypothetically, donating sperm so friends can have a baby is a simple decision.\"\n",
    "\n",
    "Topic 6 essays\n",
    "- https://www.nytimes.com/2019/06/21/style/modern-love-tarot-cards-destiny.html - \"A tarot card reader said my ex would come back to me in three years. Until then, I was supposed to have relationships that fail.\" (author moves home)\n",
    "- https://www.nytimes.com/2017/09/01/style/modern-love-whos-allowed-to-hold-hands.html - \"A Jamaican woman chafes at the reality that expressing affection for her wife can lead to confrontations with her fellow immigrants in New York.\" (author talks about looks she and her partner get while holding hands as a black lesbian couple and describes Brooklyn and her homeland of Jamaica as places different from each other)\n",
    "\n",
    "Topic 7 essays\n",
    "- https://www.nytimes.com/2020/03/27/style/modern-love-coronavirus-seattle-kirkland.html - \"Separated from family and worried about patients and colleagues, an internist where the U.S. outbreak began counts losses and blessings.\" (talks about his work in a hospital at beginning of pandemic)\n",
    "- https://www.nytimes.com/2021/07/16/style/it-took-me-a-long-time-to-come-out-as-a-plushie-lover.html - \"As the second wave of coronavirus battered us in India, my partner and I found solace and pride in our stuffed animals.\" (author talks about how it took her a long time to come out as a stuffed animal lover)"
   ]
  },
  {
   "cell_type": "markdown",
   "metadata": {},
   "source": [
    "# CorEx Model 4 - TF-IDF"
   ]
  },
  {
   "cell_type": "code",
   "execution_count": 82,
   "metadata": {},
   "outputs": [
    {
     "name": "stdout",
     "output_type": "stream",
     "text": [
      "(1458, 20000)\n",
      "\n",
      "0: way,come,friend,life,relationship,marriage,long,talk,sex,kind\n",
      "1: akari,frieda,deji,gerri,est,nar,shottsy,que,désolé,cecilia\n",
      "2: aadmi,pine,pidgin,piano,physics,photocopy,phony,phoebe,phnom,philosophical\n",
      "3: aaaarrrrgh,pneumonia,plush,plume,plow,plight,pliable,playroom,playoff,playful\n",
      "4: melina,preston,aah,ponce,pond,ponder,pong,pomplamoose,ponytail,poop\n",
      "5: aahed,poker,pointillist,poetic,podcast,pocketful,poach,plexu,playhouse,platitude\n",
      "6: aaa,phu,phonebook,phobic,phobia,phobe,phloem,philosopher,philistines,pharmaceutical\n",
      "7: greta,aa,prohibition,prohibit,productive,proclaim,proactive,prix,privilege,princeton\n",
      "\n",
      "[7.16534688e-01 2.19495301e-03 2.40788610e-04 2.02379155e-04\n",
      " 6.08145305e-05 3.63154012e-05 2.24060036e-05 1.89872635e-05]\n",
      "0.7193113324286294\n"
     ]
    },
    {
     "data": {
      "text/plain": [
       "<corextopic.corextopic.Corex at 0x7fe3dc65f760>"
      ]
     },
     "execution_count": 82,
     "metadata": {},
     "output_type": "execute_result"
    }
   ],
   "source": [
    "corpus = modern_love_df_rev_2['essay_rev_clean_3']\n",
    "vectorizer = TfidfVectorizer(max_features=20000)\n",
    "topic_modeler = ct.Corex(n_hidden=8, seed=1)  \n",
    "\n",
    "make_topics_cx(corpus, vectorizer, topic_modeler, anchor_words=None, anchor_strength=None)"
   ]
  },
  {
   "cell_type": "markdown",
   "metadata": {},
   "source": [
    "# CorEx Model 5 - TF-IDF and tune max_df, min_df and ngrams"
   ]
  },
  {
   "cell_type": "code",
   "execution_count": 83,
   "metadata": {},
   "outputs": [
    {
     "name": "stdout",
     "output_type": "stream",
     "text": [
      "(1458, 4032)\n",
      "\n",
      "0: way,come,friend,life,relationship,long,talk,marriage,kind,look\n",
      "1: absolutely,nephew,occupy,oh yeah,opinion,overhead,overwhelming,paperwork,paralyze,parent home\n",
      "2: absorb,professor,progressive,psychiatrist,punch,pure,rank,real world,recipe,replace\n",
      "3: adoration,ok,old son,paris,parking lot,participate,pattern,pause,payment,permit\n",
      "4: accustomed,noodle,northern,november,obscure,obsess,obsession,old child,parent divorce,parenting\n",
      "5: accidentally,new boyfriend,new yorker,newfound,newly,nightly,oblivious,open door,organize,overcome\n",
      "6: abroad,potato,poverty,proudly,purse,range,rate,reach hand,reader,refugee\n",
      "7: acquaintance,pillow,poem,poetry,polish,popular,portrait,poster,pretty good,program\n",
      "\n",
      "[ 9.82199161e-01  1.39147348e-04  1.04990265e-04  4.16248182e-05\n",
      "  2.72979791e-06 -5.69772392e-06 -2.38193070e-05 -7.30841294e-05]\n",
      "0.9823850518640102\n"
     ]
    },
    {
     "data": {
      "text/plain": [
       "<corextopic.corextopic.Corex at 0x7fe174b3cf70>"
      ]
     },
     "execution_count": 83,
     "metadata": {},
     "output_type": "execute_result"
    }
   ],
   "source": [
    "corpus = modern_love_df_rev_2['essay_rev_clean_3']\n",
    "vectorizer = TfidfVectorizer(ngram_range=(1,3),max_df=0.8, min_df=0.01)\n",
    "topic_modeler = ct.Corex(n_hidden=8, seed=1) \n",
    "\n",
    "make_topics_cx(corpus, vectorizer,topic_modeler,anchor_words=None, anchor_strength=None)"
   ]
  },
  {
   "cell_type": "markdown",
   "metadata": {},
   "source": [
    "# CorEx Model 6 - TF-IDF and anchor words"
   ]
  },
  {
   "cell_type": "code",
   "execution_count": 84,
   "metadata": {},
   "outputs": [
    {
     "name": "stdout",
     "output_type": "stream",
     "text": [
      "(1458, 4032)\n",
      "\n",
      "0: accidentally,punk,puppy,purse,rare,react,recall,recognition,relationship year,relax\n",
      "1: ache,performance,philadelphia,politic,poorly,portrait,poverty,profound,progress,proud\n",
      "2: admission,old daughter,olive,online date,opening,orange,oregon,organize,overwhelmed,pace\n",
      "3: abroad,new year eve,new york,new york city,newfound,nickname,noodle,november,nudge,nursing\n",
      "4: way,come,friend,life,relationship,long,talk,kind,look,guy\n",
      "5: accident,peanut,picnic,pink,playful,poet,politely,pose,pregnancy,property\n",
      "6: accompany,oxygen,pancake,paperwork,park,partnership,patch,path,paycheck,peek\n",
      "7: absolutely,overwhelm,overwhelming,parade,paralyze,parent home,passenger seat,pattern,pepper,permanently\n",
      "\n",
      "[-2.08560363e-05 -1.54611908e-06 -3.67686332e-05  1.17328788e-06\n",
      "  9.55899686e-01 -4.14849007e-06 -1.57200163e-05 -5.48450748e-06]\n",
      "0.9558163353714854\n"
     ]
    },
    {
     "data": {
      "text/plain": [
       "<corextopic.corextopic.Corex at 0x7fe175290820>"
      ]
     },
     "execution_count": 84,
     "metadata": {},
     "output_type": "execute_result"
    }
   ],
   "source": [
    "corpus = modern_love_df_rev_2['essay_rev_clean_3']\n",
    "vectorizer = TfidfVectorizer(max_features=20000,ngram_range=(1,3),max_df=0.8, min_df=.01)\n",
    "topic_modeler = ct.Corex(n_hidden=8, seed=1) \n",
    "anchor_words = [['father','mother','parent','brother','sister'],\\\n",
    "                ['sex','date','boyfriend','girlfriend','message'],\\\n",
    "                ['divorce','ex','sex','marriage'],\\\n",
    "                ['new york','new york city','apartment','manhattan'],\\\n",
    "                ['high school','school','class','teacher','college'],\\\n",
    "                ['birth','doctor','pregnancy','baby']]\n",
    "anchor_strength = 2\n",
    "\n",
    "make_topics_cx(corpus, vectorizer,topic_modeler,anchor_words=anchor_words, anchor_strength=anchor_strength)"
   ]
  },
  {
   "cell_type": "markdown",
   "metadata": {},
   "source": [
    "# Find optimal number of topics using CorEx algorithm"
   ]
  },
  {
   "cell_type": "markdown",
   "metadata": {},
   "source": [
    "Got help with the below code from this source: https://github.com/keryums/topic_modelling_demo"
   ]
  },
  {
   "cell_type": "code",
   "execution_count": 120,
   "metadata": {},
   "outputs": [],
   "source": [
    "def get_corex_topics(num_topics_list, docs, features, print_flag = False):\n",
    "    \"\"\"\n",
    "    outputs correlation list for model selection\n",
    "    \"\"\"\n",
    "    \n",
    "    total_corr = []\n",
    "    for i in num_topics_list:\n",
    "        topic_model = ct.Corex(n_hidden=i, seed = 10)\n",
    "        topic_model.fit(docs, words=features) \n",
    "        total_corr.append(topic_model.tc)\n",
    "        \n",
    "        if print_flag == True:\n",
    "            topics = topic_model.get_topics()\n",
    "            print('Num topics: ', i)\n",
    "            for topic_n, topic in enumerate(topics):\n",
    "                words,mis = zip(*topic)\n",
    "                topic_str = str(topic_n+1)+': '+', '.join(words)\n",
    "                print(topic_str)\n",
    "            print('')\n",
    "\n",
    "    return total_corr"
   ]
  },
  {
   "cell_type": "code",
   "execution_count": 121,
   "metadata": {},
   "outputs": [],
   "source": [
    "corpus = modern_love_df_rev_2['essay_rev_clean_3']\n",
    "vectorizer = CountVectorizer(ngram_range=(1,3),max_features=20000, binary=True, max_df=.8, min_df=.003)\n",
    "doc_word = vectorizer.fit_transform(corpus)\n",
    "words = list(np.asarray(vectorizer.get_feature_names()))\n",
    "num_topics = list(range(2,25,1))\n",
    "correlation = get_corex_topics(num_topics,doc_word,words)"
   ]
  },
  {
   "cell_type": "code",
   "execution_count": 314,
   "metadata": {},
   "outputs": [],
   "source": [
    "import tkinter\n",
    "import matplotlib\n",
    "import matplotlib.pyplot as plt\n",
    "matplotlib.use('TkAgg')\n",
    "\n",
    "plt.plot(num_topics, correlation)\n",
    "plt.title('Correlation Plot')\n",
    "plt.show()"
   ]
  },
  {
   "attachments": {
    "correlation_plot.png": {
     "image/png": "[encoded data removed]"
    }
   },
   "cell_type": "markdown",
   "metadata": {},
   "source": [
    "![correlation_plot.png](attachment:correlation_plot.png)"
   ]
  },
  {
   "cell_type": "markdown",
   "metadata": {},
   "source": [
    "Looks like 6-7 topics is most useful."
   ]
  },
  {
   "cell_type": "markdown",
   "metadata": {},
   "source": [
    "# Word embeddings"
   ]
  },
  {
   "cell_type": "markdown",
   "metadata": {},
   "source": [
    "Learn the embeddings (i.e., train a word embedding model on the corpus)"
   ]
  },
  {
   "cell_type": "code",
   "execution_count": 320,
   "metadata": {},
   "outputs": [
    {
     "name": "stdout",
     "output_type": "stream",
     "text": [
      "Requirement already satisfied: gensim in /opt/anaconda3/lib/python3.8/site-packages (4.1.2)\n",
      "Requirement already satisfied: scipy>=0.18.1 in /opt/anaconda3/lib/python3.8/site-packages (from gensim) (1.5.0)\n",
      "Requirement already satisfied: numpy>=1.17.0 in /opt/anaconda3/lib/python3.8/site-packages (from gensim) (1.18.5)\n",
      "Requirement already satisfied: smart-open>=1.8.1 in /opt/anaconda3/lib/python3.8/site-packages (from gensim) (5.2.1)\n"
     ]
    }
   ],
   "source": [
    "#!pip install gensim\n",
    "from gensim.models import Word2Vec"
   ]
  },
  {
   "cell_type": "code",
   "execution_count": 321,
   "metadata": {},
   "outputs": [],
   "source": [
    "# train the word embedding model \n",
    "model = Word2Vec(modern_love_df_rev_2['essay_rev_2'], \n",
    "                 window=5,       \n",
    "                 min_count=1,     \n",
    "                 sg=True          \n",
    "      )"
   ]
  },
  {
   "cell_type": "code",
   "execution_count": 323,
   "metadata": {},
   "outputs": [],
   "source": [
    "# vectorize each document as the mean of its word embeddings \n",
    "docs_2_vectorized = []\n",
    "\n",
    "for tokens in modern_love_df_rev_2['essay_rev_2']:\n",
    "    zero_vector = np.zeros(model.vector_size)\n",
    "    vectors = []\n",
    "    for token in tokens:\n",
    "        if token in model.wv:\n",
    "            try:\n",
    "                vectors.append(model.wv[token])\n",
    "            except KeyError:\n",
    "                continue\n",
    "    if vectors:\n",
    "        vectors = np.asarray(vectors)\n",
    "        avg_vec = vectors.mean(axis=0)\n",
    "        docs_2_vectorized.append(avg_vec)\n",
    "    else:\n",
    "        docs_2_vectorized.append(zero_vector)"
   ]
  },
  {
   "cell_type": "code",
   "execution_count": 324,
   "metadata": {},
   "outputs": [
    {
     "data": {
      "text/plain": [
       "array([-0.02292322,  0.11803443,  0.056697  ,  0.17046551, -0.0160349 ,\n",
       "       -0.10827011,  0.09078135,  0.15055017, -0.09003785, -0.08001582,\n",
       "        0.03393637, -0.07850459,  0.028249  ,  0.02411185,  0.06860852,\n",
       "        0.04813413,  0.04753981,  0.00038851, -0.05853344, -0.14375518,\n",
       "        0.06361146,  0.08414424,  0.05859685, -0.03158077,  0.02283609,\n",
       "        0.05255172, -0.05295407,  0.04496053, -0.02690911, -0.05190751,\n",
       "        0.06283175, -0.13222581,  0.04286587, -0.06210323, -0.01756327,\n",
       "        0.01250572,  0.08230612,  0.0385306 , -0.0380304 , -0.01950155,\n",
       "        0.03422677, -0.02054968, -0.09334978,  0.0378869 ,  0.0287994 ,\n",
       "       -0.04882548, -0.1340217 ,  0.02269005,  0.08922879,  0.04429869,\n",
       "        0.00321754, -0.06913037, -0.03306342,  0.01104861, -0.05159345,\n",
       "        0.0267301 ,  0.03473747, -0.09021342, -0.03684847, -0.01571581,\n",
       "       -0.01827681,  0.01066743,  0.19028158,  0.03755265, -0.06211346,\n",
       "        0.15764627, -0.04949429,  0.11437193, -0.09585208,  0.00577063,\n",
       "        0.00071205,  0.1100976 ,  0.04056161, -0.023185  ,  0.02442369,\n",
       "        0.03484936,  0.0660697 ,  0.04575728, -0.02686654, -0.07349785,\n",
       "       -0.1555597 , -0.08386939,  0.07670259,  0.03255973, -0.00880775,\n",
       "       -0.01205661,  0.06250913,  0.01741573,  0.03756804,  0.06097745,\n",
       "        0.04492617,  0.02293536, -0.00234103,  0.08817252,  0.20846069,\n",
       "        0.00722051, -0.01705145, -0.01314589,  0.03222674,  0.05609845],\n",
       "      dtype=float32)"
      ]
     },
     "execution_count": 324,
     "metadata": {},
     "output_type": "execute_result"
    }
   ],
   "source": [
    "docs_2_vectorized[0]"
   ]
  },
  {
   "cell_type": "markdown",
   "metadata": {},
   "source": [
    "# K-means clustering on NMF doc-topic matrix"
   ]
  },
  {
   "cell_type": "code",
   "execution_count": 124,
   "metadata": {},
   "outputs": [],
   "source": [
    "from sklearn.cluster import KMeans"
   ]
  },
  {
   "cell_type": "code",
   "execution_count": 122,
   "metadata": {},
   "outputs": [],
   "source": [
    "corpus = modern_love_df_rev_2['essay_rev_3']\n",
    "vectorizer = TfidfVectorizer(ngram_range=(1,3), max_df=0.6, min_df=.02)\n",
    "doc_word_matrix = vectorizer.fit_transform(corpus)\n",
    "nmf_topic_modeler = NMF(8, random_state=42, max_iter=1000)\n",
    "doc_topic_matrix = nmf_topic_modeler.fit_transform(doc_word_matrix)"
   ]
  },
  {
   "cell_type": "code",
   "execution_count": 130,
   "metadata": {},
   "outputs": [
    {
     "data": {
      "text/plain": [
       "<matplotlib.legend.Legend at 0x7fe57e2d9fa0>"
      ]
     },
     "execution_count": 130,
     "metadata": {},
     "output_type": "execute_result"
    },
    {
     "data": {
      "image/png": "[encoded data removed]",
      "text/plain": [
       "<Figure size 432x288 with 1 Axes>"
      ]
     },
     "metadata": {
      "needs_background": "light"
     },
     "output_type": "display_data"
    }
   ],
   "source": [
    "%matplotlib inline \n",
    "\n",
    "cluster_range = range(2, 15)\n",
    "\n",
    "inertias = []\n",
    "\n",
    "for k in cluster_range:\n",
    "    km = KMeans(n_clusters=k)\n",
    "    km.fit(doc_topic_matrix) \n",
    "    inertias.append(km.inertia_)\n",
    "    \n",
    "plt.plot(cluster_range, inertias)\n",
    "plt.scatter(cluster_range, inertias)\n",
    "plt.vlines(x=9, ymin=0, ymax=max(inertias), ls='--', label='Elbow')\n",
    "plt.xlabel('Number of Clusters')\n",
    "plt.ylabel('Inertia')\n",
    "plt.legend()"
   ]
  },
  {
   "cell_type": "markdown",
   "metadata": {},
   "source": [
    "It appears that the \"elbow\" of the curve at 9 clusters, so we'll do K-means clustering with k=9."
   ]
  },
  {
   "cell_type": "code",
   "execution_count": 140,
   "metadata": {},
   "outputs": [],
   "source": [
    "# helper function that allows us to display data in 2 dimensions and highlights the clusters\n",
    "def display_cluster(X,km=[],num_clusters=0):\n",
    "    color = 'brgcmyk'\n",
    "    alpha = 0.5\n",
    "    s = 20\n",
    "    if num_clusters == 0:\n",
    "        plt.scatter(X[:,0],X[:,1],c = color[0],alpha = alpha,s = s)\n",
    "    else:\n",
    "        for i in range(num_clusters):\n",
    "            plt.scatter(X[km.labels_==i,0],X[km.labels_==i,1],c = color[i],alpha = alpha,s=s)\n",
    "            plt.scatter(km.cluster_centers_[i][0],km.cluster_centers_[i][1],c = color[i], marker = 'x', s = 100)"
   ]
  },
  {
   "cell_type": "code",
   "execution_count": 141,
   "metadata": {},
   "outputs": [
    {
     "ename": "IndexError",
     "evalue": "string index out of range",
     "output_type": "error",
     "traceback": [
      "\u001b[0;31m---------------------------------------------------------------------------\u001b[0m",
      "\u001b[0;31mIndexError\u001b[0m                                Traceback (most recent call last)",
      "\u001b[0;32m<ipython-input-141-d73e9cc1a942>\u001b[0m in \u001b[0;36m<module>\u001b[0;34m\u001b[0m\n\u001b[1;32m      3\u001b[0m \u001b[0mkm\u001b[0m \u001b[0;34m=\u001b[0m \u001b[0mKMeans\u001b[0m\u001b[0;34m(\u001b[0m\u001b[0mn_clusters\u001b[0m\u001b[0;34m=\u001b[0m\u001b[0mnum_clusters\u001b[0m\u001b[0;34m,\u001b[0m\u001b[0mn_init\u001b[0m\u001b[0;34m=\u001b[0m\u001b[0;36m1\u001b[0m\u001b[0;34m,\u001b[0m\u001b[0mrandom_state\u001b[0m\u001b[0;34m=\u001b[0m\u001b[0;36m42\u001b[0m\u001b[0;34m)\u001b[0m\u001b[0;34m\u001b[0m\u001b[0;34m\u001b[0m\u001b[0m\n\u001b[1;32m      4\u001b[0m \u001b[0mkm\u001b[0m\u001b[0;34m.\u001b[0m\u001b[0mfit\u001b[0m\u001b[0;34m(\u001b[0m\u001b[0mX\u001b[0m\u001b[0;34m)\u001b[0m\u001b[0;34m\u001b[0m\u001b[0;34m\u001b[0m\u001b[0m\n\u001b[0;32m----> 5\u001b[0;31m \u001b[0mdisplay_cluster\u001b[0m\u001b[0;34m(\u001b[0m\u001b[0mX\u001b[0m\u001b[0;34m,\u001b[0m\u001b[0mkm\u001b[0m\u001b[0;34m,\u001b[0m\u001b[0mnum_clusters\u001b[0m\u001b[0;34m=\u001b[0m\u001b[0mnum_clusters\u001b[0m\u001b[0;34m)\u001b[0m\u001b[0;34m\u001b[0m\u001b[0;34m\u001b[0m\u001b[0m\n\u001b[0m",
      "\u001b[0;32m<ipython-input-140-c4edf8f053bd>\u001b[0m in \u001b[0;36mdisplay_cluster\u001b[0;34m(X, km, num_clusters)\u001b[0m\n\u001b[1;32m      8\u001b[0m     \u001b[0;32melse\u001b[0m\u001b[0;34m:\u001b[0m\u001b[0;34m\u001b[0m\u001b[0;34m\u001b[0m\u001b[0m\n\u001b[1;32m      9\u001b[0m         \u001b[0;32mfor\u001b[0m \u001b[0mi\u001b[0m \u001b[0;32min\u001b[0m \u001b[0mrange\u001b[0m\u001b[0;34m(\u001b[0m\u001b[0mnum_clusters\u001b[0m\u001b[0;34m)\u001b[0m\u001b[0;34m:\u001b[0m\u001b[0;34m\u001b[0m\u001b[0;34m\u001b[0m\u001b[0m\n\u001b[0;32m---> 10\u001b[0;31m             \u001b[0mplt\u001b[0m\u001b[0;34m.\u001b[0m\u001b[0mscatter\u001b[0m\u001b[0;34m(\u001b[0m\u001b[0mX\u001b[0m\u001b[0;34m[\u001b[0m\u001b[0mkm\u001b[0m\u001b[0;34m.\u001b[0m\u001b[0mlabels_\u001b[0m\u001b[0;34m==\u001b[0m\u001b[0mi\u001b[0m\u001b[0;34m,\u001b[0m\u001b[0;36m0\u001b[0m\u001b[0;34m]\u001b[0m\u001b[0;34m,\u001b[0m\u001b[0mX\u001b[0m\u001b[0;34m[\u001b[0m\u001b[0mkm\u001b[0m\u001b[0;34m.\u001b[0m\u001b[0mlabels_\u001b[0m\u001b[0;34m==\u001b[0m\u001b[0mi\u001b[0m\u001b[0;34m,\u001b[0m\u001b[0;36m1\u001b[0m\u001b[0;34m]\u001b[0m\u001b[0;34m,\u001b[0m\u001b[0mc\u001b[0m \u001b[0;34m=\u001b[0m \u001b[0mcolor\u001b[0m\u001b[0;34m[\u001b[0m\u001b[0mi\u001b[0m\u001b[0;34m]\u001b[0m\u001b[0;34m,\u001b[0m\u001b[0malpha\u001b[0m \u001b[0;34m=\u001b[0m \u001b[0malpha\u001b[0m\u001b[0;34m,\u001b[0m\u001b[0ms\u001b[0m\u001b[0;34m=\u001b[0m\u001b[0ms\u001b[0m\u001b[0;34m)\u001b[0m\u001b[0;34m\u001b[0m\u001b[0;34m\u001b[0m\u001b[0m\n\u001b[0m\u001b[1;32m     11\u001b[0m             \u001b[0mplt\u001b[0m\u001b[0;34m.\u001b[0m\u001b[0mscatter\u001b[0m\u001b[0;34m(\u001b[0m\u001b[0mkm\u001b[0m\u001b[0;34m.\u001b[0m\u001b[0mcluster_centers_\u001b[0m\u001b[0;34m[\u001b[0m\u001b[0mi\u001b[0m\u001b[0;34m]\u001b[0m\u001b[0;34m[\u001b[0m\u001b[0;36m0\u001b[0m\u001b[0;34m]\u001b[0m\u001b[0;34m,\u001b[0m\u001b[0mkm\u001b[0m\u001b[0;34m.\u001b[0m\u001b[0mcluster_centers_\u001b[0m\u001b[0;34m[\u001b[0m\u001b[0mi\u001b[0m\u001b[0;34m]\u001b[0m\u001b[0;34m[\u001b[0m\u001b[0;36m1\u001b[0m\u001b[0;34m]\u001b[0m\u001b[0;34m,\u001b[0m\u001b[0mc\u001b[0m \u001b[0;34m=\u001b[0m \u001b[0mcolor\u001b[0m\u001b[0;34m[\u001b[0m\u001b[0mi\u001b[0m\u001b[0;34m]\u001b[0m\u001b[0;34m,\u001b[0m \u001b[0mmarker\u001b[0m \u001b[0;34m=\u001b[0m \u001b[0;34m'x'\u001b[0m\u001b[0;34m,\u001b[0m \u001b[0ms\u001b[0m \u001b[0;34m=\u001b[0m \u001b[0;36m100\u001b[0m\u001b[0;34m)\u001b[0m\u001b[0;34m\u001b[0m\u001b[0;34m\u001b[0m\u001b[0m\n",
      "\u001b[0;31mIndexError\u001b[0m: string index out of range"
     ]
    },
    {
     "data": {
      "image/png": "[encoded data removed]",
      "text/plain": [
       "<Figure size 432x288 with 1 Axes>"
      ]
     },
     "metadata": {
      "needs_background": "light"
     },
     "output_type": "display_data"
    }
   ],
   "source": [
    "num_clusters = 9\n",
    "X = doc_topic_matrix\n",
    "km = KMeans(n_clusters=num_clusters,n_init=1,random_state=42)\n",
    "km.fit(X)\n",
    "display_cluster(X,km,num_clusters=num_clusters)"
   ]
  },
  {
   "cell_type": "markdown",
   "metadata": {},
   "source": [
    "Create custom factory to add to spacy pipeline to remove entities whose labels are 'PERSON'"
   ]
  },
  {
   "cell_type": "code",
   "execution_count": 76,
   "metadata": {},
   "outputs": [],
   "source": [
    "#@Language.component('person_removal')\n",
    "#def person_removal(doc):\n",
    "#    ents = list(doc.ents)\n",
    "   # for ent in ents:\n",
    "   #     if ent.label_ == 'PERSON':\n",
    "    #        ents.remove(ent)\n",
    "   # ents = tuple(ents)\n",
    "  #  doc.ents = ents\n",
    "   # return (doc)\n",
    "#Language.component(\"person_removal\", func=person_removal)"
   ]
  },
  {
   "cell_type": "code",
   "execution_count": 77,
   "metadata": {},
   "outputs": [],
   "source": [
    "#nlp.add_pipe('person_removal')"
   ]
  },
  {
   "cell_type": "code",
   "execution_count": 78,
   "metadata": {},
   "outputs": [],
   "source": [
    "#print(nlp.pipe_names)"
   ]
  },
  {
   "cell_type": "markdown",
   "metadata": {},
   "source": [
    "The below cell did run"
   ]
  },
  {
   "cell_type": "code",
   "execution_count": 33,
   "metadata": {},
   "outputs": [],
   "source": [
    "# tokenization into words and parts of speech tagging\n",
    "\n",
    "#from nltk.tokenize import word_tokenize, sent_tokenize\n",
    "#from nltk.tag import pos_tag\n",
    "\n",
    "#tokens = [pos_tag(word_tokenize(row)) for row in modern_love_df['essay']] # labels each word as a part of speech"
   ]
  },
  {
   "cell_type": "markdown",
   "metadata": {},
   "source": [
    "The below cell ran but took a while to do so"
   ]
  },
  {
   "cell_type": "code",
   "execution_count": null,
   "metadata": {},
   "outputs": [],
   "source": [
    "# named entity recognition\n",
    "\n",
    "#from nltk.chunk import ne_chunk\n",
    "\n",
    "#entities = [ne_chunk(token) for token in tokens] # this extracts entities from the list of words\n",
    "#entities.draw()"
   ]
  },
  {
   "cell_type": "markdown",
   "metadata": {},
   "source": [
    "The below cell did run"
   ]
  },
  {
   "cell_type": "code",
   "execution_count": 22,
   "metadata": {},
   "outputs": [],
   "source": [
    "# Import module\n",
    "#from nltk.tokenize import RegexpTokenizer\n",
    "#from nltk.tag import pos_tag\n",
    "\n",
    "# Create an instance of RegexpTokenizer for alphanumeric tokens\n",
    "#tokeniser = RegexpTokenizer(r'\\w+')\n",
    "\n",
    "# Tokenize text and tag parts of speech\n",
    "#tokens = [pos_tag(tokeniser.tokenize(row)) for row in modern_love_df['essay']] # labels each word as a part of speech"
   ]
  },
  {
   "cell_type": "markdown",
   "metadata": {},
   "source": [
    "The below cell didn't work for me"
   ]
  },
  {
   "cell_type": "code",
   "execution_count": 40,
   "metadata": {},
   "outputs": [],
   "source": [
    "# function to remove tuples in tokens that contain 'NNP' or 'NNPS'\n",
    "\n",
    "#def remove_items(lst, item):\n",
    "    #r = []\n",
    "    #for i in lst:\n",
    "       # if isinstance(i, list):\n",
    "        #    r.append(remove_items(i, item))\n",
    "       # elif item not in i:\n",
    "         #   r.append(i)\n",
    "   # return r"
   ]
  },
  {
   "cell_type": "code",
   "execution_count": 41,
   "metadata": {},
   "outputs": [],
   "source": [
    "# remove proper nouns from tokenized text\n",
    "#tokens_rev = remove_items(tokens,'NNP')\n",
    "#tokens_rev = remove_items(tokens,'NNPS')"
   ]
  },
  {
   "cell_type": "markdown",
   "metadata": {},
   "source": [
    "The below cell didn't work for me"
   ]
  },
  {
   "cell_type": "code",
   "execution_count": 43,
   "metadata": {},
   "outputs": [],
   "source": [
    "#def filter_nnp_nnps(x):\n",
    "  #  return [(u,v) for (u,v) in x if (v !='NNP') | (v != 'NNPS')]\n",
    "\n",
    "#tokens_rev = [filter_nnp_nnps(sub_list) for sub_list in tokens]"
   ]
  },
  {
   "cell_type": "markdown",
   "metadata": {},
   "source": [
    "The below cell works"
   ]
  },
  {
   "cell_type": "code",
   "execution_count": 30,
   "metadata": {},
   "outputs": [],
   "source": [
    "# remove numbers and punctuation in essay column\n",
    "    # used this resource: https://datagy.io/python-remove-punctuation-from-string/\n",
    "\n",
    "#alphanumeric = lambda x: re.sub('[^a-zA-Z]', ' ', str(x)) # removes numbers\n",
    "#punc_lower = lambda x: re.sub(r'[^\\w\\s]', ' ',str(x).lower()) # removes punctuation and makes all letters lowercase\n",
    "\n",
    "#modern_love_df_rev['essay_rev'] = modern_love_df_rev.essay.map(alphanumeric).map(punc_lower)"
   ]
  }
 ],
 "metadata": {
  "kernelspec": {
   "display_name": "Python 3",
   "language": "python",
   "name": "python3"
  },
  "language_info": {
   "codemirror_mode": {
    "name": "ipython",
    "version": 3
   },
   "file_extension": ".py",
   "mimetype": "text/x-python",
   "name": "python",
   "nbconvert_exporter": "python",
   "pygments_lexer": "ipython3",
   "version": "3.8.3"
  }
 },
 "nbformat": 4,
 "nbformat_minor": 5
}
