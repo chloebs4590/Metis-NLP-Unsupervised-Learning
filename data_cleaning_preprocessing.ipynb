{
 "cells": [
  {
   "cell_type": "code",
   "execution_count": 1,
   "metadata": {},
   "outputs": [],
   "source": [
    "reset -fs"
   ]
  },
  {
   "cell_type": "code",
   "execution_count": 2,
   "metadata": {},
   "outputs": [],
   "source": [
    "# import libraries\n",
    "import pandas as pd\n",
    "import numpy as np\n",
    "import re\n",
    "import string\n",
    "import os\n",
    "\n",
    "#import nltk\n",
    "#from nltk.stem import PorterStemmer, SnowballStemmer, LancasterStemmer, WordNetLemmatizer\n",
    "#nltk.download('stopwords')\n",
    "#nltk.download('wordnet')\n",
    "#nltk.download('punkt')\n",
    "#nltk.download('averaged_perceptron_tagger')\n",
    "#nltk.download('maxent_ne_chunker')\n",
    "#nltk.download('words')\n",
    "\n",
    "#from sklearn.feature_extraction.text import TfidfVectorizer, CountVectorizer\n",
    "from sklearn.decomposition import PCA"
   ]
  },
  {
   "cell_type": "markdown",
   "metadata": {},
   "source": [
    "# Read in data"
   ]
  },
  {
   "cell_type": "code",
   "execution_count": 3,
   "metadata": {},
   "outputs": [],
   "source": [
    "modern_love_df = pd.read_csv('modern_love_df.csv')"
   ]
  },
  {
   "cell_type": "code",
   "execution_count": 4,
   "metadata": {},
   "outputs": [
    {
     "data": {
      "text/plain": [
       "(1615, 12)"
      ]
     },
     "execution_count": 4,
     "metadata": {},
     "output_type": "execute_result"
    }
   ],
   "source": [
    "modern_love_df.shape"
   ]
  },
  {
   "cell_type": "code",
   "execution_count": 5,
   "metadata": {},
   "outputs": [
    {
     "name": "stdout",
     "output_type": "stream",
     "text": [
      "<class 'pandas.core.frame.DataFrame'>\n",
      "RangeIndex: 1615 entries, 0 to 1614\n",
      "Data columns (total 12 columns):\n",
      " #   Column                  Non-Null Count  Dtype \n",
      "---  ------                  --------------  ----- \n",
      " 0   article_url             1615 non-null   object\n",
      " 1   article                 1609 non-null   object\n",
      " 2   article_id              1615 non-null   object\n",
      " 3   article_headline        1615 non-null   object\n",
      " 4   article_abstract        1615 non-null   object\n",
      " 5   article_snippet         1615 non-null   object\n",
      " 6   article_lead_paragraph  1604 non-null   object\n",
      " 7   article_pub_date        1615 non-null   object\n",
      " 8   article_news_desk       1615 non-null   object\n",
      " 9   article_section         1615 non-null   object\n",
      " 10  article_type_material   1615 non-null   object\n",
      " 11  article_word_count      1615 non-null   int64 \n",
      "dtypes: int64(1), object(11)\n",
      "memory usage: 151.5+ KB\n"
     ]
    }
   ],
   "source": [
    "modern_love_df.info()"
   ]
  },
  {
   "cell_type": "markdown",
   "metadata": {},
   "source": [
    "# Clean data"
   ]
  },
  {
   "cell_type": "code",
   "execution_count": 6,
   "metadata": {},
   "outputs": [],
   "source": [
    "pd.set_option(\"display.max_colwidth\", 1)"
   ]
  },
  {
   "cell_type": "code",
   "execution_count": 7,
   "metadata": {},
   "outputs": [],
   "source": [
    "# drop rows with na in article column\n",
    "\n",
    "modern_love_df = modern_love_df.dropna(subset=['article'])"
   ]
  },
  {
   "cell_type": "code",
   "execution_count": 8,
   "metadata": {},
   "outputs": [
    {
     "name": "stdout",
     "output_type": "stream",
     "text": [
      "<class 'pandas.core.frame.DataFrame'>\n",
      "Int64Index: 1609 entries, 0 to 1614\n",
      "Data columns (total 12 columns):\n",
      " #   Column                  Non-Null Count  Dtype \n",
      "---  ------                  --------------  ----- \n",
      " 0   article_url             1609 non-null   object\n",
      " 1   article                 1609 non-null   object\n",
      " 2   article_id              1609 non-null   object\n",
      " 3   article_headline        1609 non-null   object\n",
      " 4   article_abstract        1609 non-null   object\n",
      " 5   article_snippet         1609 non-null   object\n",
      " 6   article_lead_paragraph  1599 non-null   object\n",
      " 7   article_pub_date        1609 non-null   object\n",
      " 8   article_news_desk       1609 non-null   object\n",
      " 9   article_section         1609 non-null   object\n",
      " 10  article_type_material   1609 non-null   object\n",
      " 11  article_word_count      1609 non-null   int64 \n",
      "dtypes: int64(1), object(11)\n",
      "memory usage: 163.4+ KB\n"
     ]
    }
   ],
   "source": [
    "modern_love_df.info()"
   ]
  },
  {
   "cell_type": "code",
   "execution_count": 9,
   "metadata": {},
   "outputs": [],
   "source": [
    "# rename article column\n",
    "\n",
    "modern_love_df = modern_love_df.rename({'article':'essay'}, axis=1)"
   ]
  },
  {
   "cell_type": "code",
   "execution_count": 10,
   "metadata": {},
   "outputs": [],
   "source": [
    "# rename the rest of the columns by removing 'article_'\n",
    "\n",
    "modern_love_df.columns = modern_love_df.columns.str.replace('article_',\"\")"
   ]
  },
  {
   "cell_type": "code",
   "execution_count": 11,
   "metadata": {},
   "outputs": [
    {
     "data": {
      "text/plain": [
       "0"
      ]
     },
     "execution_count": 11,
     "metadata": {},
     "output_type": "execute_result"
    }
   ],
   "source": [
    "# check for duplicated rows\n",
    "\n",
    "modern_love_df.duplicated().sum() # there are none!"
   ]
  },
  {
   "cell_type": "code",
   "execution_count": 12,
   "metadata": {},
   "outputs": [],
   "source": [
    "# convert pub_date to datetime and then keep only the date\n",
    "\n",
    "modern_love_df['pub_date'] = pd.to_datetime(modern_love_df['pub_date']).dt.date"
   ]
  },
  {
   "cell_type": "code",
   "execution_count": 13,
   "metadata": {},
   "outputs": [
    {
     "name": "stdout",
     "output_type": "stream",
     "text": [
      "<class 'pandas.core.frame.DataFrame'>\n",
      "Int64Index: 1609 entries, 0 to 1614\n",
      "Data columns (total 12 columns):\n",
      " #   Column          Non-Null Count  Dtype \n",
      "---  ------          --------------  ----- \n",
      " 0   url             1609 non-null   object\n",
      " 1   essay           1609 non-null   object\n",
      " 2   id              1609 non-null   object\n",
      " 3   headline        1609 non-null   object\n",
      " 4   abstract        1609 non-null   object\n",
      " 5   snippet         1609 non-null   object\n",
      " 6   lead_paragraph  1599 non-null   object\n",
      " 7   pub_date        1609 non-null   object\n",
      " 8   news_desk       1609 non-null   object\n",
      " 9   section         1609 non-null   object\n",
      " 10  type_material   1609 non-null   object\n",
      " 11  word_count      1609 non-null   int64 \n",
      "dtypes: int64(1), object(11)\n",
      "memory usage: 163.4+ KB\n"
     ]
    }
   ],
   "source": [
    "modern_love_df.info()"
   ]
  },
  {
   "cell_type": "code",
   "execution_count": 14,
   "metadata": {},
   "outputs": [
    {
     "data": {
      "text/plain": [
       "105"
      ]
     },
     "execution_count": 14,
     "metadata": {},
     "output_type": "execute_result"
    }
   ],
   "source": [
    "# see how many articles mention the nytimes in the essay, as this text should be removed\n",
    "\n",
    "len(modern_love_df[modern_love_df.essay.str.contains('nytimes.com|New York Times')])"
   ]
  },
  {
   "cell_type": "code",
   "execution_count": 15,
   "metadata": {},
   "outputs": [],
   "source": [
    "# drop these essays for times' sake (go back to data acquisition stage to remove these paragraphs, time permitting)\n",
    "\n",
    "modern_love_df_rev = modern_love_df[~modern_love_df.essay.str.contains('nytimes.com|New York Times')]"
   ]
  },
  {
   "cell_type": "code",
   "execution_count": 16,
   "metadata": {
    "scrolled": true
   },
   "outputs": [
    {
     "data": {
      "text/plain": [
       "8"
      ]
     },
     "execution_count": 16,
     "metadata": {},
     "output_type": "execute_result"
    }
   ],
   "source": [
    "# see how many articles mention 'This essay is part of a collaborative project with Black History, Continued. We invited readers and renowned writers to respond to the question “What is Black love today?”'\n",
    "\n",
    "len(modern_love_df_rev[modern_love_df_rev.essay.str.contains('collaborative project')])"
   ]
  },
  {
   "cell_type": "code",
   "execution_count": 17,
   "metadata": {},
   "outputs": [
    {
     "data": {
      "text/html": [
       "<div>\n",
       "<style scoped>\n",
       "    .dataframe tbody tr th:only-of-type {\n",
       "        vertical-align: middle;\n",
       "    }\n",
       "\n",
       "    .dataframe tbody tr th {\n",
       "        vertical-align: top;\n",
       "    }\n",
       "\n",
       "    .dataframe thead th {\n",
       "        text-align: right;\n",
       "    }\n",
       "</style>\n",
       "<table border=\"1\" class=\"dataframe\">\n",
       "  <thead>\n",
       "    <tr style=\"text-align: right;\">\n",
       "      <th></th>\n",
       "      <th>url</th>\n",
       "      <th>essay</th>\n",
       "      <th>id</th>\n",
       "      <th>headline</th>\n",
       "      <th>abstract</th>\n",
       "      <th>snippet</th>\n",
       "      <th>lead_paragraph</th>\n",
       "      <th>pub_date</th>\n",
       "      <th>news_desk</th>\n",
       "      <th>section</th>\n",
       "      <th>type_material</th>\n",
       "      <th>word_count</th>\n",
       "    </tr>\n",
       "  </thead>\n",
       "  <tbody>\n",
       "    <tr>\n",
       "      <th>2</th>\n",
       "      <td>https://www.nytimes.com/2022/02/11/style/modern-love-gay-couple.html</td>\n",
       "      <td>This essay is part of a collaborative project with Black History, Continued. We invited readers and renowned writers to respond to the question “What is Black love today?” Peter and I hitched our wagons young. Early 20s. He was wildly handsome, gay, with soulful brown eyes and a head full of loose, unruly curls. Raised by an African American woman and a white preacher man, Peter spent his childhood steeped in the evangelical ministry. He was as terrified of his father’s sermons as he was soothed by his mother’s inclination to administer to the more human aspects of the congregation they both led. The night I met Peter, he and I fell all the way in love. Kismet, you could say. He made me laugh with his very first words. It was my first time at the Nuyorican Poets Cafe, the premier debut joint for every performance poet trying to get onto the New York City poetry scene. I read my first piece on the open mic after the slam. Peter was among the first admirers to make his way through the applauding crowd to tell me I had simultaneously embodied the fury of his father and the vulnerability of his mother — and, as such, I was destined to be one of his true loves. “Only one of?” I asked. “Fate isn’t fixed,” he said, “The gods have to leave room for surprises!” By the time we met in the fall of 1997, Peter’s parents were long divorced. His father had left the church. And Peter was already exploring other truths to believe in. Poetry was his new religion. His poems were long, lyrical and lovingly painted with the impossibly beautiful brushstrokes of utopia. He lived his life with the same energy. He believed in the goodness of people. Once, in the middle of winter in Washington Square Park, I watched him unbutton his coat and drape it across the shoulders of a drunk who had just called him a homophobic slur. I was an ex-Christian and newly out lesbian fleeing the violent homophobia of the late 1990s in Jamaica, still wearing the fury of being attacked by a dozen boys and sexually assaulted in Kingston. I was ashamed and angry that it defined my final year of university. That’s why I moved to New York City on a tourist visa. I needed somewhere safe to call home. But I felt at sea in this new country. I had a few aunts and uncles in New York, but before any of this I had absolutely no relationship with my biological family. My parents had abandoned me — my mother at birth, and my father hadn’t even shown up. And now that I had announced that I was a lesbian, that already distant extended family wanted less to do with me. I was in New York in search of safety. Freedom. And room to explore my budding lesbian identity. I was seeking a tribe to which I could unequivocally belong. And the performance poetry slam scene was a mixture of every kind of misfit. Peter and I fit right in. In no time, it felt as if we had known each other our whole lives. We shared everything: stories, poems, disappointments, hopes. We spent most evenings together. I’d meet him after work and go to whichever cafe was holding a slam competition that night. He knew everything about me: how broke I was, who stole my favorite vibrator, the ex-cop who hit me — how I kept going back to her. Every time. One night, after a particularly bad fight with my abusive partner, my roommate cornered me and told me she was going to raise the rent unless I had sex with her. My tourist visa was almost expired. I had no money except what I won at the slams — and that was barely enough to pay for the couch, ramen noodles and a MetroCard. I had no work permit, so I couldn’t get a job. I couldn’t apply for any services. Without papers I couldn’t even get into a shelter. I told Peter I was going to give up on this crazy dream of freedom in New York to go back to Jamaica. He was quiet while I explained what it meant to be undocumented; I went on about green cards and citizenship and visas and immigration authorities. When I was done talking, he asked me to marry him. When I pushed back, saying such a marriage was illegal and that it might land us in trouble with the law, he said the law was wrong. “You love me, right?” I nodded. “Well, I love you. You love me. I want children. You want children, right?” “Right …” “Well, that is what people do when they love each other and they want to have children together. They get married. And that makes them a family. They can’t have it both ways. And love is love, right?” His argument was sound. If the rules were fair, I would have been able to marry a woman, get citizenship and start a family with her. As it stood in the U.S., that wasn’t allowed. But Peter and I were well within our right to claim the perks of being a couple. We were already partners. He was already my family. We were married at City Hall. Peter’s lover, who was to be our witness, didn’t even show up for the wedding. We had to ask a beautiful man in cowboy boots and a sequined vest to stand in for him. After our very giggly “I dos,” Peter invited me to Thanksgiving dinner with his family. Before the month was out, I moved in with him and his amazing mother, Carole Linda, in the beautiful old house, the one that was once his parents’ church, two blocks from the beach in Far Rockaway. We spent three magical years living together. No one understood the quirky, kooky couple who arrived together, left together, but flirted with everyone in between. We had so much fun together. We were the perfect couple. We knew we’d be the perfect parents. But we were a modern couple. We wanted to be more intentional, more deliberate about our choices than our parents had been. We had more living to do before we took on the responsibilities of children. We didn’t have money, but we had lots of time. We were committed to living first. But at 29 Peter was diagnosed with cancer. Stage 4. He was diagnosed in May. He died on Dec. 16. At 11:30. Half-hour before he would turn 30. I was so furious at him dying, I couldn’t cry. It felt as if all my dreams of family died with him; a partner, children, my willing comrade in the radical redefining of the modern family, modern love. His mother was better at making peace with the heavens over the loss of her firstborn. I was surprised at her ability to remain connected to me. She stayed close, calling, sending Christmas cards, checking in, even as I remained distant, angry, unsure about deserving the magic of the family Peter had so tragically, suddenly, left behind. I grudgingly remained connected to his younger brother, CJ, who reminded me so much of Peter. Except he wasn’t gay, or a poet. He grew up to be a fine filmmaker and the only straight man in the L.G.B.T.Q. alliance in college. We often called each other to reminisce about Peter, to recount the sorcery of him, to bask in the shared memory of his magic. Later, when I became frantic with the desire to start a family — chasing gay men at house parties, begging sperm from strangers on planes — I broke down and wept for what felt like the too-early death of my husband. I didn’t want to be the strange young widow hosting lesbian parties in Crown Heights. I wanted to be the badass lesbian writer, with the flamboyant gay husband, raising four children in a rambling old house that used to be a church, two blocks from the beach in Far Rockaway. In one conversation with CJ, he interrupted to ask if there was a way he could stand in for Peter, by giving me his sperm. A year later, my daughter, Zuri, the most astounding miracle, born a decade after Peter’s death, refers to Peter as her “almost dad.” Carole Linda is still my mother-in-law and my kid’s actual, biological grandmother. Zuri’s “Baba,” CJ, got married last August. Zuri almost passed out from the joy of being asked to be the ring bearer at the wedding. We all traveled from multiple cities to watch them speak the vows. His brothers, their wives, Peter’s grandmother, his father, me, my non-monogamous partner and a beautiful cohort of ordinary folks, misfits, artists, preachers, writers, activists, gay, straight, nonbinary. I looked around the room, thinking if we had had the choice, this is what Peter’s and my wedding would have looked like. Peter would have reveled in it. Some days I still hear Peter’s voice inside my head, rustling in the fall wind, booming in the rush of traffic on the West Side Highway. He’s always whispering, screaming, saying the same thing, “Fate isn’t fixed, Staceyann. There is always some room for the gods to surprise us.”</td>\n",
       "      <td>nyt://article/9bf4e7f6-c4f5-57c7-b77f-5b55736fa99c</td>\n",
       "      <td>The Lesbian Writer and Her Flamboyant Gay Husband</td>\n",
       "      <td>Peter taught me to laugh at fate as we lived our dream. At least for a while.</td>\n",
       "      <td>Peter taught me to laugh at fate as we lived our dream. At least for a while.</td>\n",
       "      <td>This essay is part of a collaborative project with Black History, Continued. We invited readers and renowned writers to respond to the question “What is Black love today?”</td>\n",
       "      <td>2022-02-11</td>\n",
       "      <td>SpecialSections</td>\n",
       "      <td>Style</td>\n",
       "      <td>News</td>\n",
       "      <td>1619</td>\n",
       "    </tr>\n",
       "    <tr>\n",
       "      <th>3</th>\n",
       "      <td>https://www.nytimes.com/2022/02/11/style/modern-love-confidence-self-love.html</td>\n",
       "      <td>This essay is part of a collaborative project with Black History, Continued. We invited readers and renowned writers to respond to the question “What is Black love today?” I’ve spent my whole life looking for similarities between myself and the protagonists in love stories. When I lost my father to prison and my mother’s attention to her double duties as a single parent, I escaped through books in an attempt to reimagine what love could look like. But the couples, usually locked in an embrace on the cover of those “harmless” rags, looked nothing like the people in my house. Abuse ruined the bones of our homes and turned them into rotten structures. My hopes of experiencing romance in the future seemed incompatible with my reality. I had no example of romantic love, not for girls that looked like me, until my cousin, Tiffany. Two years older than me, and seemingly in control of her life, Tiffany became a blueprint; no, a mirror — a way to see myself clearly. She was everything I wanted to be. She garnered attention when she walked into a room: ash brown hair, freckles and a genuine smile. Tiffany was beyond cool, she was fresh; beyond fresh, she was fly; beyond fly, her energy was unmatched. My cousin was my protector, the way an older sister should be. Tiffany taught me love by listening. She let me read her books and sing her songs from my favorite musicals. She joined me at my softball games and would sit next to me on the bench when I played catcher. She gave me tips for getting my crushes’ attention (none of which worked). First place in the oratory contest, she cheered. Solo during choir performance, she tossed a thumbs-up sign from the pew. We were inseparable until she went to high school and left me to fend for myself in those unimaginable middle school bouts of self-doubt. At 15, Tiffany had her first child. A little girl with a light as remarkable as her own, and the temperament of a doe. When she was pregnant, I asked her, “Are you sure?” She smiled and rubbed her belly. And just like that, my purpose was clear: I would have a daughter, too. Tiffany’s Little Light studied everything. Her mouth was an overturned cup spilling sunshine. They were an emerging constellation when they walked into a room together, stars to anybody who drew breath. They became a part of my vision board for maternal love. Do not be fooled, I too received this kind of love from my own mother. But it was so far removed from my teenage psyche, it wasn’t something I could pluck from my memory easily. You know, the way mirrors neglect to reflect what we’ve been conditioned to disbelieve. Despite the judgment of her being too young to raise a baby, Tiffany glowed. She glowed so brightly one could even say it blinded the jealous. And when Tiffany had her third child, she moved from California to find her footing in Baton Rouge. Her relationship with the father of her children, who I would later learn became more obsessed with the idea of owning Tiffany than loving her, was a wake-up call: Love is not transactional. Love is not ownership. Love is simply an act of absolute care. While love is an active verb, sometimes it ain’t enough at all. At 21, I had my daughter with my high school sweetheart. At 23, I left the dissolving relationship for a life that could hold my dreams to secure a future for my daughter. I called Tiffany to tell her the news. She answered, and I could hear her three children playing in the background. Little Light was now the eldest and took her job as protector of her two younger brothers seriously. “Cousin, are you sure?” Tiffany asked me. “Aren’t you scared?” I laughed away whatever fear I was carrying and told her I would be back. That it was just for the summer. But Tiffany knew what I couldn’t see yet. That I would find writing and become the woman of my own dreams. I cloaked myself in Tiffany’s charm and wore it until it became a second skin. This is how I arrived in Bed-Stuy, Brooklyn. I only dated men who called me beautiful. I flirted with anyone who could hold an interesting conversation. I gave love a run for its money because the only thing that truly kept my attention was my daughter’s health and laughter, and my burgeoning career in writing. I carried this new me everywhere: New York City, Poland, Britain and Canada. When the summer became a year, and the year became a decade, I recognized so much of my cousin in the way I carried myself. I loved how I looked to myself in the mirror. I loved how I looked from the reflection in my daughter’s eyes. Like Tiffany, I began to move through rooms easy like the wind, soundless and certain. This feeling stayed with me, from the red steps of our grandparents’ home in West Oakland to the Bed-Stuy stoops that became my sanctuary. At first, before she had her fifth child, Tiffany and I checked in weekly, then monthly, after she had her seventh child. Phone calls became text messages as our lives busied. She was raising eight children on her own and re-establishing herself after finally leaving an abusive relationship. Every other year I would visit, and when I couldn’t be physically present, I sent supportive messages, care packages and invitations for her to visit me on tour. After 15 years of visits dictated by holiday breaks and family reunions, I invited Tiffany to Florida. Tiffany had never been and was on a break from her on-again off-again relationship. I wanted to protect her. I wanted her to see what the world had to offer. She was the very best part of me. She gave me courage. She gave me reassurance. She gave me pep talks. She gave me compliments. Loving and celebrating others was natural for Tiffany. The least I could do was repay her generosity by giving her the space she needed to figure out who she wanted to be. Through Tiffany’s turbulent relationships, and her absolute love for her children, I began to understand what love costs. When she met me in Miami, a place I traveled to for weekends and took for granted, her eyes welled up with tears. I asked, “What’s wrong, cousin?” By the time she could pull herself together, we were walking alongside the beach, our manicured toes leaving kiss-prints on the sand. “I never thought I would get to see the Atlantic Ocean,” she said, tears sliding down her freckled face. “I feel like all I have is my kids. I’ve never traveled and seen the world like you.” I held my breath, terrified by the weight of the moment, but ready to rise to the occasion and remind her what she taught me so many years before. Fairy tales might teach us stories of whimsy, designed to mold single Black women into roles of grateful service before they’ve ever seen the world. It was my turn to show Tiffany that we are in fact an entire world ourselves.</td>\n",
       "      <td>nyt://article/2ce87e3f-5333-5561-ad65-47608e6b8d5f</td>\n",
       "      <td>Beyond Cool, She Was Fly. Her Confidence Gave Me Wings.</td>\n",
       "      <td>I had no example of love, not for girls that looked like me. Until my cousin Tiffany.</td>\n",
       "      <td>I had no example of love, not for girls that looked like me. Until my cousin Tiffany.</td>\n",
       "      <td>This essay is part of a collaborative project with Black History, Continued. We invited readers and renowned writers to respond to the question “What is Black love today?”</td>\n",
       "      <td>2022-02-11</td>\n",
       "      <td>SpecialSections</td>\n",
       "      <td>Style</td>\n",
       "      <td>News</td>\n",
       "      <td>1304</td>\n",
       "    </tr>\n",
       "    <tr>\n",
       "      <th>4</th>\n",
       "      <td>https://www.nytimes.com/2022/02/11/style/modern-love-black-boyfriend-applications.html</td>\n",
       "      <td>This essay is part of a collaborative project with Black History, Continued. We invited readers and renowned writers to respond to the question “What is Black love today?” “I am no longer dating white guys. Nonwhite guys may submit their applications in my DMs.” These words, posted on my Facebook page, marked the beginning of a racial reckoning in my dating life. Some context: It was June 2020. George Floyd had just been murdered. Black people like myself were consumed with rage and were openly airing our grief. On top of that, I was a woman scorned. I was 35 years old, a highly educated Black woman, a homeowner and an attorney, and I had just been rejected by yet another mediocre white guy who then pursued a relationship with a white woman. In short, I was fed up with white people. So one afternoon, I wrote a half-crazed manifesto on my Facebook page. Specifically, I railed against a white society that clearly didn’t see me as white but insisted on rejecting my Blackness because of my appearance (fair-skinned) and upbringing (middle class). White people had called me “not Black” for liking Taylor Swift, told me they were “more Black than me” because they grew up in a predominantly Black neighborhood (or had an especially dark tan), and fetishized my “exoticness” and ethnic ambiguity. I ended my ramblings with the call for applicants. I clicked “post” without thinking. To my amazement, the likes and comments started pouring in. Black people saying that they’d had similar experiences. White allies thanking me and promising to “do the work.” I felt so vindicated. And then this popped up on Facebook Messenger: “Application submitted!” The message was from Josh, whom I went to high school with 18 years earlier in Maryland. He was tall, handsome, smart, funny and successful. And Black. I’d briefly reconnected with him at a bar in Baltimore in 2018 when I was in town for a work conference. We had flirted, but I remembered from Facebook that he’d gotten married, so I flew back to California at the end of the conference with a wistful “what-if” feeling fluttering in my chest. I soon found out through mutual friends that his marriage had ended before we connected, but seeing as we lived 3,000 miles apart, I figured there was no point in trying to pursue anything. But here he was now, reading my manifesto and submitting an actual application to date me. I was gobsmacked. Up to that point, the vast majority of my relationships had been with white men, the predictable result of years spent in a Maryland prep school and at a Massachusetts liberal arts college. In fact, it had become a running joke among my friends and family: If the guy was basic and white, he was my type. But I had never, not once, dated a Black man. And I’ll be honest — I had always felt a kind of shame around that, as though my not dating Black men reflected a deep-seated insecurity with my own Blackness. But here was an eligible Black bachelor offering me a chance at love, and a chance at embracing my Blackness. Josh and I started texting. We had a couple of video calls that were awkward at first but became more natural. I suggested flying out to Baltimore to see him, and he agreed. On the one hand, it seemed wild and reckless, jumping on a plane to visit someone I barely knew. And during a pandemic to boot. On the other, the whole thing felt like something out of a movie. I was flying 3,000 miles to have our “first date.” We packed a lot into that four-day first date. He took me to Baltimore’s National Aquarium. He treated me to dinners and wine. He even took me to a (socially distanced) visit with my grandmother on her birthday. Most of all, we reveled in our Blackness. We danced to hip-hop in his living room — and he could dance, something I had rarely experienced with my white boyfriends. We joked about the endearing quirks of our older Black relatives. We shared stories about being among the few Black people in our respective professional arenas — finance for him; law for me. With him I could openly “speak the language” and not have to explain myself. For the first time in my life, I felt like I could be completely, unapologetically Black with the guy I was dating. Like most first dates, there were uncomfortable moments. Josh was reserved and rarely volunteered information about himself, which meant it was hard to get to know him. And while there was definitely a mutual physical attraction, there was a shyness in Josh that only seemed to fall away with the help of a few drinks. Still, I chalked that up to our still getting to know one another. However, on my last night there, as we gazed at the city lights over the Inner Harbor, he turned to me and said, “You know this isn’t going to work, right?” Completely out of nowhere. I asked him to explain. He said our personalities were too different — I’m outgoing, high-energy and emotional; he’s analytical, quiet and calm. I, both a romantic and a lawyer, attempted to argue my case — “Doesn’t love find a way?” — and he, the realistic, number-crunching one, pointed out the obvious practical hurdles. With the physical distance between us, there was no way to properly date or figure out how we would fit together. My fairy tale seemingly shattered, I started to cry. He seemed sad too, though whether it was because of a mutual feeling of despair or simply uneasiness at my tears, I couldn’t tell. The next morning he drove me to the airport and I asked him to visit me in California. He gave a noncommittal answer. I left wondering if I would ever see him again. Turns out, I would. A few weeks after my Maryland trip, Josh asked to visit me in California. I was thrilled. I convinced myself that he wanted to visit California to see if he could make a home here with me. I planned a day trip to Napa. I borrowed my neighbor’s bike for Josh so we could tool around town together in true Californian style. I proudly showed him off to my friends, took him to my favorite local haunts, and tried my hardest to prove how great we could be together, the perfect Black power couple. Still, we weren’t quite clicking. Josh wasn’t entirely on board with my carefree Cali style. When we biked to the river on a hot day, I eagerly stripped down to splash around in the cool water, but he refused. When we strolled the sidewalks of downtown Napa, I reached out to intertwine my fingers with his, and he shook my hand off — turns out he wasn’t a fan of P.D.A. And the reservedness I had witnessed in Baltimore persisted. I tried to ask him questions about his family, of whom he seldom spoke. He demurred: “That’s personal.” As someone who had always been an open book, I was frustrated. When I drove him to the airport at the end of the visit, I had a hollow feeling. Why weren’t we clicking when we were perfect for each other, at least on paper: same hometown, same education, same career-driven lives, and most importantly (or so I thought), same race? How was this not kismet? It all came to a head in the spring of 2021. Josh invited me to Baltimore for the Preakness, an annual horse race and social event. But a disagreement over a coffee maker before I arrived — he didn’t own one, and for reasons I couldn’t fathom, didn’t want to have one on hand for my visits — pushed me over the edge. I said, “If you can’t even keep a coffee maker for me, it’s obvious you don’t care enough for me to fly 3,000 miles to see you.” To my horror, he didn’t argue. I said I wasn’t coming, and he didn’t try to change my mind. And that was it. What the hell had just happened? How did my lofty dreams fall so flat? Did I really fly to Maryland, and him to California — during a pandemic — for nothing more than a booty call? Over time, I realized my attachment to Josh was more intellectual than emotional. I had tried to make him — kind and well-meaning, but unable to match my spirit or provide me the emotional connection I wanted — into my perfect boyfriend, because he was Black. Josh represented the first time I naïvely attached my worth as a Black person to the success of my relationship with a Black man. But dating a Black man will not make me more Black, just as dating a white man won’t make me less Black. I am Black, period.  Regardless of the race or ethnicity of my next boyfriend, at least I’ll know one thing: Whoever loves me next must love all of me.</td>\n",
       "      <td>nyt://article/595d2c38-f78c-5aae-8b2c-4730e868637e</td>\n",
       "      <td>Accepting Applications for a Black Boyfriend</td>\n",
       "      <td>After a lifetime of dating white men, I hoped a new romance could offer a chance at love, and at embracing my own Blackness.</td>\n",
       "      <td>After a lifetime of dating white men, I hoped a new romance could offer a chance at love, and at embracing my own Blackness.</td>\n",
       "      <td>This essay is part of a collaborative project with Black History, Continued. We invited readers and renowned writers to respond to the question “What is Black love today?”</td>\n",
       "      <td>2022-02-11</td>\n",
       "      <td>SpecialSections</td>\n",
       "      <td>Style</td>\n",
       "      <td>News</td>\n",
       "      <td>1580</td>\n",
       "    </tr>\n",
       "    <tr>\n",
       "      <th>5</th>\n",
       "      <td>https://www.nytimes.com/2022/02/11/style/modern-love-queer-dating-open-relationship.html</td>\n",
       "      <td>This essay is part of a collaborative project with Black History, Continued. We invited readers and renowned writers to respond to the question “What is Black love today?” I’ve always been wary of sports, competition and falling in love. So growing up, I avoided all three. As a kid, I would shrug when “accidentally” letting goals into the net from the opposing team. I would walk slowly behind everyone else on the basketball court as they ran from end to end. My mother eventually stopped asking if I was interested in signing up for extracurriculars and my friends came to understand my lack of interest in playing board games, card games, drinking games or anything that required competing for the title winner. I was even able to avoid acting on romantic feelings for a long time but with age I let up slightly. After an indecisive football player, a shady basketball player, and a club bouncer who was as bad at kissing as he was at his job, I decided I had made a mistake opening myself up, and convinced myself that the real issue was vulnerability. I would no longer be attaching any emotional investments to my sexual partners. I never bothered to be competitive or to fall in love because I didn’t care to win. I met him on HER, a dating app for queer women and gender diverse people. He had long brown dreadlocks with subtle hints of blond and a promising smile. There was something about him that told me he would be the exact kind of fun I was looking for. He approached me with a smooth pickup line, and I responded with something much less cool. Before I could give it much thought he told me that he was assigned female at birth and had transitioned to live his life in the gender that was most authentic to him. “So, what are you looking for?” I said. “Well, I’m in an open relationship. So I’m not anticipating anything too serious,” he responded, adding that he and his partner were engaged to be married. My friends wanted to know how someone could be committed to a partner while pursuing other relationships. I didn’t blame them: the idea of a relationship where both partners agree to seeing other people while being together isn’t something that most learn about in “the birds and the bees” conversation. My immediate reaction when I learned he was in an open relationship was relief. I would have fun with no emotional responsibility. They were deeply in love and had a strong foundation on which their love was built. They knew that marriage was the ultimate goal of their relationship, and had its benefits both legally and personally, but they also knew that, in order to meet both of their physical and emotional needs, their marriage would need to be unconventional — which, in this case, meant leaving the door open for other intimate possibilities. What neither of us expected was the fast progression of our feelings. I started wondering more about when he’d see his fiancé next. He wanted details about the dates I went on. We both grew possessive as our unanticipated love bloomed. We began feeling entitled to each other. Yet, while my insecurity grew more obvious, he managed to mostly keep his casual demeanor. And of course he could. He always went home to the loving arms of his partner, and I always went home to thoughts of a lover that I couldn’t truly call my own. We were everything I vowed to never be: very vulnerable, and very corny. “You hang up first,” he’d say. “No, you!” I’d say, my naturally deep voice suddenly sounding prepubescent. We were inseparable. Soaking ourselves in wet kisses on the Toronto Transit Commission as if no one was around and feeding each other street meat on the corner of Church and Wellesley. Here I was, never having been intrigued by competition, but suddenly up to the challenge of convincing him that I was worthy of being his only one. I tried to appear unfazed by the uncertainty of our relationship, but with each passing day I could feel my nonchalant facade peeling away. I knew it wouldn’t take long before I had nothing left to hide behind. One evening, we joined our mutual friends for a night out. I had high hopes that the loud music and many shots of tequila would drown out the unanswered questions of our relationship. The dim club lights and the drink intensified the moment and when he and our friend began dancing with each other, I felt justified in my rage. Watching them dance — two Caribbeans sharing a strictly platonic love language of slow whining and good drinks — amplified everything that threatened our life together as a couple: my fear of losing him and not being able to do anything about it. It was then that I knew we couldn’t return to our no-strings-attached deal. I wanted to take away the love he reserved for his fiancé and keep it for myself (which is the exact antithesis of an open relationship). Here was this person who was sent to me through a dating app that hosts mostly nude pictures. Here, somehow, I met someone whose presence soothed me, and he had chosen to devote himself to someone else. Someone who had known the smell of his collar and the softness of his lips long before I even knew he existed. Nothing about that felt fair. I spent that night preparing for the curtain call on our love story. And though we continued to date for weeks afterward, that moment was a clear shift in our relationship. An obvious flag that this “casual thing” had gone too far. Our relationship came to an unavoidable end; I needed more and he knew he couldn’t give that to me. As I reflected on us, I realized that I was in competition with no one but myself. I assumed that “winning” in this situation meant we would abandon the concept of non-monogamy altogether and walk off into a sunset hand-in-hand. Just the two of us. But the open relationship wasn’t the problem. The problem was the strange expectation for Black women to be in competition with each other, even if they are unaware of it. And the even stranger expectation for Black queer relationships to still fit enough into the confines of heteronormativity to make other people comfortable. The normalization of heterosexuality has been so insidious in my life through the consumption of media, education, and social assumptions and attitudes, that even as a queer woman in love with a trans man, I still questioned the validity of our non-monogamy. I had to learn to quiet the noise of heteronormativity; the idea that being in love can only look one way for it to be valid. That intimacy can only include two people. That there needs to be competition in order to receive the love we deserve. Black folks have been queering the family dynamic for as long as we have existed in this world. We’ve had stepparents who have loved us like they made us from scratch. We’ve promoted any friendship that has lasted over five years to that’s my cousin status. I have half-siblings that I’ve only ever referred to as whole. The words “half-sibling” were treated as if they were illegal in my household; my parents constantly reminded us that the small, and scientific details of our family weren’t important. When my sister’s mom passed away and my aunt raised her, she called her auntie-mommy. We never questioned that. It never required an explanation. There has never been anything nuclear about any Black family dynamic I’ve ever known, so why did I villainize, and — in my own mind — compete with a Black woman who loved herself, and her fiancé enough to encourage him to share his love with me? Possibly, all along, I was never scared of competition or losing, but instead, as a Black woman, I couldn’t fathom the idea that, contrary to popular belief, love doesn’t actually require competition. Everyone can feel worthy. It was because of the open relationship with my engaged lover that I was able to say yes to a date with the next person I would go on to fall deeply in love with. Our non-monogamous ways gave me the freedom to explore other relationships openly. He went on to marry his fiancé and we have managed to remain friends. In our choice to smoothly transition from romantic to platonic, we stuck up a subliminal middle finger to a world where relationships between Black women — especially when there is a man in the middle — are so often reduced to the notion that there is only ever enough love for one of us. Open relationships are far from a means for competition, they are an embodiment of love unable to be confined. They have the ability to bring together a small-town, awkward Black girl and a cool island boy with effortless swagger, and somehow allow them to exist together in the Toronto summer heat, exiting their romance more filled with love than they found each other.</td>\n",
       "      <td>nyt://article/aa4266c4-81b5-5807-852b-95dbf7d9cd56</td>\n",
       "      <td>Love Isn’t a Zero-Sum Game</td>\n",
       "      <td>I thought the open relationship was the problem. But it was me.</td>\n",
       "      <td>I thought the open relationship was the problem. But it was me.</td>\n",
       "      <td>This essay is part of a collaborative project with Black History, Continued. We invited readers and renowned writers to respond to the question “What is Black love today?”</td>\n",
       "      <td>2022-02-11</td>\n",
       "      <td>SpecialSections</td>\n",
       "      <td>Style</td>\n",
       "      <td>News</td>\n",
       "      <td>1627</td>\n",
       "    </tr>\n",
       "    <tr>\n",
       "      <th>7</th>\n",
       "      <td>https://www.nytimes.com/2022/02/11/style/modern-love-bond-father.html</td>\n",
       "      <td>This essay is part of a collaborative project with Black History, Continued. We invited readers and renowned writers to respond to the question “What is Black love today?” I was trying to think about the first time I met my godfather, but that would be like asking me to remember the first time I met my mother. From the time my brain was able to hold memories, my Uncle Ronnie was there. He had been my mother’s best friend since she was in college (maybe even longer — I was never clear on their exact origin story) and was an unwavering pillar in the tribe that raised me in the absence of my biological father. As a child I didn’t understand the depths of what I was witnessing between him and my mother, but now, at 34, with my own best friends whom I’ve known since college, I have a deep appreciation for how special their bond was. How healing it was. They weren’t just besties: They were siblings. My mom asking Ronnie to don the title of my godfather was truly just a formality. I belonged to him before we ever met. In second grade, I had to do a family tree project. My classmates and I were each handed an illustration of a big tree that had labels for us to fill in. At the bottom of the tree was a space for me to write my name and above it were two spaces — one for my mother and one for my father — and then above those were spaces for my maternal and paternal grandparents. Our assignment was to work with our parents to fill in the names on the tree and write a mini report. My 7-year-old brain stared at the paper with confusion. I didn’t know my father’s name. I’d never really thought much about having a dad. When I got home, all four feet of me cornered my statuesque Caribbean mother in the kitchen of our Queens home and asked, “Do I have a father?” She looked at me, a bit stunned, and took a breath before she said, “Of course you do.” In my high-pitched voice, I shot back, “Then where is he?” She looked at me for a moment as though searching for the answer. “Your father lives with his family.” It was a concept too big for me to fully understand. “Aren’t we his family?” I asked. Before my mother could respond, I asked the question that I think every single parent dreads: “Does he not love me?” My mother crouched in front of me, took my small hands into hers. “Your father is a good man,” she said. I softened a bit, and she continued: “I loved him because he was such a good man. He was so smart, talented and charming. Everybody loved him. And you remind me of him.” Somehow, hearing I was like him was enough. For the moment. But periodically his absence would feel unbearable. Father’s Day, parent-teacher conferences and school sporting events were always the hardest. As a child of the ’90s, I clung to Carl Winslow from “Family Matters,” fantasizing about having a man in my house who would impart words of wisdom, dish out compassionate discipline and look at me with pride. There was a very “blood is thicker than water” energy about my yearning — a notion that my biological father and I would have an inexplicable bond that would heal all my wounds. He would be a compass that would point my life in the right direction and guide me effortlessly into Black manhood. But no matter how hard I prayed to God or how many letters I wrote to Santa at Christmas, my father never appeared. Uncle Ronnie, however, always did. He had golden brown skin, and though his marathon runner’s body rendered him smaller than most of the men I was related to, he was strong. He was innately kind but could read you for filth with just a look, and, like me, he loved to laugh. Not only did he attend school plays, piano recitals, basketball games, track meets, even church once or twice, but he was also the one who would drive me to and from those events. Whenever I copped an attitude, he knew how to put a smile on my face. He would scoop me up and take me to museums or the playground or the flea market, teaching me how to pick out quality art and furniture pieces. He would take me to bougie restaurants in Manhattan so that I’d be exposed to different cuisines and fine dining; he’d take me to McDonald’s because he knew, ultimately, that it was my favorite. And if those things didn’t have me beaming, he resorted to my most hated tactic: becoming an insatiable tickle monster, stopping only when there were tears of laughter streaming down my face. He was also the only person that never questioned my effeminate nature. Others would demand that I “man up” and not be so “girly” in my demeanor or interests. Uncle Ronnie, however, owned a hair salon and was the only man I knew who used words like “fabulous” and “honey.” He never tried to stomp out my innate softness; instead, he quietly nurtured it. He encouraged it by laughing at my impressions of Cher. He protected it by giving me my first summer job as a receptionist at the salon. He honored it by having my signed Destiny’s Child poster framed, saying that they were to me what the Supremes had been to him. Shortly after I graduated from college at 21, my mother and Uncle Ronnie had a big falling out. I won’t share the private details of their discord, but I can tell you my mother came to me and plainly told me what happened. Uncle Ronnie did the same. Both had a different experience of the situation, and my Uncle Ronnie in particular expressed being hurt. I had never known them to disagree on anything, let alone have a fight, so I wasn’t used to being in the middle. But based on my understanding of parental fights from those ’90s TV shows, the child always picks a side. Since Uncle Ronnie was my godfather and not my biological father, my choice was clear: Blood is thicker than water. I chose my mother and stopped reaching out to my godfather. At 25, I was working for a fitness company called Flywheel Sports. Our flagship studio at the time was in the Flatiron district in Manhattan. I would often teach 7 a.m., 8 a.m. and 9 a.m. classes, which meant, before my afternoon sessions, I would have what we instructors referred to as “second breakfast” — too early for lunch, but still a full meal because I always ate before my classes and needed even more food after. As I was walking to the Starbucks around the corner, still sweating in my company-branded tank top and shorts, I switched my phone off airplane mode. The first notification to pop up was a voice mail message from Uncle Ronnie. I hadn’t spoken to him in four years. I stopped on the sidewalk, my stomach growling but my voracious heartbeat drowning it out, and pressed play. “Brandon, it’s your godfather. This is getting ridiculous. Now cut the shit and call me.” As I pulled the phone from my ear, I could feel my hand shaking. He was angry. And rightfully so — his falling out was with my mother, not me. “I’ll call him back,” I thought. “I have to call him back. I will call him back.” My stomach rumbled, and I was reminded of my usual routine. I walked into Starbucks and continued my day. I didn’t call him back. A few months later — on Nov. 1, 2013, to be exact — I got a voice mail message from my mother. “Hey Bran, I’m calling because Uncle Ronnie died today.” I don’t remember the rest of it because an enormous wave of shock ran through my veins. Then, deep guilt. To this day I don’t know if he knew then that he was on his final trip around the sun, but of course I wonder if that’s why he called. If he was trying to tell me. I didn’t attend his funeral, which took place in Delaware, where he was from originally. After my grandmother’s homegoing only three years earlier, I couldn’t bring myself to experience that again. I also felt too much shame. As a second grader, I had been embarrassed of not having a father. Now, I was faced with the devastating reality that I did in fact have one and didn’t treasure him. And now he was gone. A little over eight years later — which also happens to be the length of time I’ve been in therapy — I can see the undeniable imprint his life made on mine. I may not have resembled Uncle Ronnie physically — my skin darker, my face rounder, my frame bigger — but there are few words I love more than “fabulous” and “honey.” Few things I love more than art and furniture. Few places I love more than a bougie restaurant. Few sensations I miss more than his insatiable tickle monster. We may not have been blood, but I belonged to him before we ever met. And though I may not deserve it, he still manages to be my life’s compass. He still manages to be my father. I may have lost him, but I’ll always be his son.</td>\n",
       "      <td>nyt://article/4b9b1bc6-5339-5e25-9331-0fad905c0fc3</td>\n",
       "      <td>Our Bond Was Thicker Than Blood</td>\n",
       "      <td>No matter how hard I prayed, my father never appeared. But my godfather always did.</td>\n",
       "      <td>No matter how hard I prayed, my father never appeared. But my godfather always did.</td>\n",
       "      <td>This essay is part of a collaborative project with Black History, Continued. We invited readers and renowned writers to respond to the question “What is Black love today?”</td>\n",
       "      <td>2022-02-11</td>\n",
       "      <td>SpecialSections</td>\n",
       "      <td>Style</td>\n",
       "      <td>News</td>\n",
       "      <td>1683</td>\n",
       "    </tr>\n",
       "    <tr>\n",
       "      <th>8</th>\n",
       "      <td>https://www.nytimes.com/2022/02/11/style/modern-love-black-boys.html</td>\n",
       "      <td>This essay is part of a collaborative project with Black History, Continued. We invited readers and renowned writers to respond to the question “What is Black love today?” Two summers before Mary J. Blige crooned soulfully about searching for a “Real Love,” I found mine. I was 11 years old.  I haven’t seen him since, and I have no idea where he is now, so for our purposes I’ll use his initial: L. In the summer of 1989, my family had moved to South Jamaica, Queens, and a year later L. and his mother moved into a house across the street.  He rode into my life doing tricks on the wheels of a BMX bike accented with a checkerboard frame and handlebar grips. I had a bike, too, but I never tried the tricks that L. did. I was not that kind of boy. I was more apt to read my mother’s romance novels or spend all day during school breaks watching soap operas. I was the kind of boy more likely to fall in love than to fall off a bike. I was sitting on the porch reading a romance novel when L. turned the corner. He rode his bike over to me, standing on the bike’s pedals, towering over me as I read. “You want to ride with me?” he asked. “Uh, OK. Let me put this in the house,” I said, stumbling to my feet. Minutes later we were riding our bikes side by side. For boys like us — Black boys whose worlds could at once seem large and daunting and at the same time feel small and constricting — mounting our bikes and going beyond our immediate neighborhood was a freedom ride. That first ride, taken amid the promise of a New York springtime, turned into dozens of rides. We began to spend time together outside of bike riding. We pooled our allowances and went to the bodega to fill up brown paper bags with Now &amp; Laters, Lemonheads, Boston Baked Beans and penny candy to share as we played with my Ninja Turtles action figures. As summer ended and the day when school would begin drew near (a year when I would start the fifth grade and L. would start the sixth) I felt real sadness. My stomach was upset. “Did I eat too many sweets?” I thought. It was then that I remembered other people felt this way: the characters in those romance novels and soaps.  Almost immediately my stomach was set right because I realized the answer was simple. I liked L. every bit as much as my favorite soap heroine, Erica Kane, loved each and every one of her husbands. “I like you,” I told him. “I like you, too,” he replied. “No, I like you, like you,” I said. “OK fool. I know,” he said. We stared at each other for a second before going back to playing with our action figures, until my aunt said it was time for dinner. During the last days of summer, he and I hung out as always. The night before the first day of school, he said, “I want to give you something.” He reached into his pocket and pulled out a ring, his mother’s. It was gold with a medium-size amber stone in an oval basket setting. The ring was so tiny that even as a child, though a chubby one, I could fit it only on my pinkie. The next day he and I walked to school together. Once at school we went to our different classes but I was still wearing the ring. That whole morning I played with it, waiting for lunch and recess. This would be the next time we’d see each other. I got my lunch tray and sat down to eat, spotting L. in the sixth-grade section. I waved at him from across the room. He smiled widely, just enough to expose a chipped left incisor, and he gave me a soldier’s salute and sat down. I smiled and turned to my lunch. As I picked up my spork to eat, I looked at the ring on my left pinkie and began to daydream of our beautiful summer together. My daydream was interrupted by the voice of a classmate, the school gossip. She was an adolescent Black Barbara Walters, full of questions. Once she set her sights on you there was no escape. “Ooooh, that’s so niiiiiice,” she said, pointing to the ring. “Is that your mom’s ring?” “No.” I said. With her it was best to keep it short. “Whose is it? Where did you get it from?” she asked.  I told her who had given it to me. “Oh, in sixth grade? That’s why you waved at him. Is he your boyfriend?” “Yes,” I said. “Ooooh, that’s so sweet. Boys liking boys,” she said, rolling her eyes and walking away. I smirked triumphantly, believing she must be jealous. It never occurred to me that she might roll her eyes for any other reason. After school, I waited to walk home with him but he never showed. Nor was he on the stoop of his house when I reached our street. I ran in to my house, did my homework lightning fast and changed into my play clothes. I ran to L.’s house and knocked on the door. No answer. I sat on his steps and waited. About fifteen minutes passed before I heard footsteps from inside the house. I jumped up; it was him. I smiled and said, “Want to ride?” But he did not smile back. Before I could ask what was wrong, he punched me in the eye.  My head was spinning, but I managed to steady myself and say, “Why’d you?!?” as he ran toward me. I thought, for a moment, that he was coming to help me, but instead he hit me again. At that point, I did the only thing that made sense to me: I hit him back. Suddenly we were in the street, fighting like strangers. “Aunt Lorry!” my cousin screamed. “They’re out here fighting!” Within seconds my aunt ran toward us to pull us apart. “What happened? I thought y’all were friends,” she said as soon as she and I were in the house. I couldn’t even speak. “Eric! What happened?” Still nothing. Then finally, “I thought he liked me,” I said, looking at the ground. “He said he liked me.” I burst into tears, a full-on ugly cry. “Oh, Eric,” Aunt Lorry said, as she hugged me and let me sob into her chest. For days, L. and I didn’t see each other. Then another one of my cousins, also in our school’s sixth grade, told us that she had a new boyfriend.  “Who is it?” someone asked.  She said his name. “You know, from across the street.”  I walked off quietly.  Heartbreak, combined with confusion and anger form a very specific pain. Add in guilt and my despair was all consuming. I felt guilty because, as I tried to make sense of everything, I recalled my gossipy classmate’s eyes rolling and her toothless grin as she walked away from our conversation. I remembered seeing that same grin in other instances. It was not a nice grin at all. It was “nice-nasty,” as my Mama would say. I had given people a way to be “nice nasty” to L., and this must have hurt him. I sat the rest of the day in my room staring at the ring. That evening, I walked across the street to his house. I dropped the ring through the door’s mail slot. I immediately heard footsteps inside so I ran back to my house, closing my door just as I saw L.’s mother open her door and look around, holding the ring in her hand. Two months later, in November, I sat on the steps reading a book when a van pulled up in front of L.’s house. Within minutes, his mother was putting boxes in the trunk of the van. It took a minute to register that L. and his mother were moving. By the time it was clear to me, L. was walking down the stairs. As he went to get into the van, we made eye contact for the first time in what felt like a lifetime. He smiled, wide enough to expose that chipped left incisor, saluted me like a soldier again, got in the van and they drove away. After everything, L. exited my life as abruptly as he’d entered it. I never saw or spoke with him again. Because of him, I have come to know that love is never apolitical, even in adolescence. Love only works if all involved are accountable to that proposition. As Black boys we lived in a world that did not let us love ourselves, let alone have space to love each other.  But I still cherish the innocent and honest moments when we were just two boys who like liked each other, before the world came in and pulled us apart.</td>\n",
       "      <td>nyt://article/a0bdb2ff-72ff-5f97-b3de-9133847a8ac7</td>\n",
       "      <td>Two Boys on Bicycles, Falling in Love</td>\n",
       "      <td>He gave me a ring. He also punched me in the eye. I learned a lot that summer about how “nice-nasty” the world can be.</td>\n",
       "      <td>He gave me a ring. He also punched me in the eye. I learned a lot that summer about how “nice-nasty” the world can be.</td>\n",
       "      <td>This essay is part of a collaborative project with Black History, Continued. We invited readers and renowned writers to respond to the question “What is Black love today?”</td>\n",
       "      <td>2022-02-11</td>\n",
       "      <td>SpecialSections</td>\n",
       "      <td>Style</td>\n",
       "      <td>News</td>\n",
       "      <td>1561</td>\n",
       "    </tr>\n",
       "    <tr>\n",
       "      <th>9</th>\n",
       "      <td>https://www.nytimes.com/2022/02/11/style/modern-love-healer-heartbreak.html</td>\n",
       "      <td>This essay is part of a collaborative project with Black History, Continued. We invited readers and renowned writers to respond to the question “What is Black love today?” A few days before my last day at my job administering a college scholarship program, I’d received an email from someone named Dani. I’d contacted her to make an appointment, but she never showed. On my last day, as I did one final skim through my emails, I stopped at hers again. I zoomed in on her Outlook profile picture. Half of her hair fell in a cascade of locks the color of honey, while the rest faded into skin the same color as her eyes. Her smile was irresistible. Just past noon, I headed out to lunch, locking my computer and opening my office door to leave. And there she was. She wore a black baseball hat pulled down just above her eyes, a floral button-up shirt and Vans, with a skateboard tucked under her arm. I watched as she investigated the posters on my office walls, the books on my shelf and the pictures on my desk. She had an energy that pulled at me like a bad habit. “Is this your sister?” she asked, pointing to a picture of me and my partner sitting on a bench holding hands. I couldn’t tell if she was serious or not. “No, that’s my partner.” “Oh, how long have y’all been together?” “A little over two years.” “Humph.” She sat down and I tried to dive into the reason she’d come to visit me, but all her questions were about my personal life: Where are you from? How is it that we never ran into each other on campus before today? What do you do outside of work? I told her I was a poet, and we started vibing about the monthly Slam event we both had connections to. I tried to let her know I’d be at the Slam later that night without it sounding like an invitation. She simply nodded. That night, as it snowed like the entire season decided to happen all at once, I got dressed for the event then went downstairs to find my partner sitting on the couch, playing Xbox. “You sure you don’t want to go?” I asked on my way out the door. Her eyes remained locked on the TV. “Have a good time and be careful driving.” About an hour into the event, Dani walked in. She hugged me and took the seat next to me. On my way up to the mic, I could feel her eyes follow me. My voice and hands shook as I asked the audience for grace since I hadn’t performed in a couple of years. I looked straight ahead and in my direct line of sight was Dani, urging me on. Later, she took the stage. Unlike every other artist that night, she performed without the mic. I had never heard anyone the way I heard her that night. And I could tell she knew it. I met up with Dani at a coffee shop the following week. I told her all about the things in my relationship that were making me unhappy. As we sat across from each other, her eyes reached for the parts of me that she knew weren’t seen very often. Coffee shops became our thing after that. I’d arrive and she’d be waiting for me with my drink already ordered and her hands and heart out for me to rest my sadness in. Things were getting worse at home. My partner was emotionally absent; Dani was always there to listen. My partner hardly ever said she loved me; Dani told me I deserved to be loved. The more my partner abandoned me, the more Dani became necessary. This was dangerous for us both because I had no intention of leaving my partner. I was married to the idea of her, and of us: of our history, our house and our potential for future children. The promise of all that still seemed more realistic to me than running off with a woman who’d just come into my life out of nowhere. Dani had mentioned to me she was a healer and, about a year after we met, I told her about a longstanding pain in my uterus that had recently gone from tolerable to unbearable. My doctor always said I just had a treacherous menstrual cycle — nothing to worry about. Dani invited me to her apartment for a second opinion. Her living room was full of plants and golden light that seeped in from the setting sun. I lay on her yoga mat while she lit white sage and Palo Santo, tracing my body with the smoke. She held my hand and asked me to trust her. I watched as she closed her eyes and rubbed her hands together, placing her palms on my belly. When she opened her eyes, she told me to revisit my doctor and to ask about uterine fibroids. I went back to my doctor the following week and asked her to check for fibroids. After she scheduled an ultrasound and did a proper exam, she identified my fibroids, some of which were the size of tennis balls. Dani had been right. I fell in love with her at that moment of diagnosis. I’d been stuck chasing a fantasy version of my relationship but Dani was the one who made me feel real and alive. Yet I still couldn’t leave my relationship. I’d taken too long to wake up. Before she left my life, Dani sat with me in the middle of her floor, my hands resting in hers. She told me that I was her favorite person and that she just wanted to love me the way I deserved but she knew I still loved my partner too much to leave her. She told me that she couldn’t keep breaking her own heart even if it meant helping me to mend mine. Shortly after that, she was gone. I eventually moved out and left my partner, who honestly seemed happy to have the out. As I sit here now, feeling more alone than ever before, I wonder why the love I had that was painful had such a strong hold on me, while the love Dani offered that was healing was the one I kept at bay. My surgery to remove the fibroids from my uterus is now just a few weeks away. I realize that, when Dani left my life, the magic I was coming to know went with her. I’m still not sure how I will heal without it.</td>\n",
       "      <td>nyt://article/d13c8194-7a13-583a-ab4b-d109f8463190</td>\n",
       "      <td>She Wouldn’t Break Her Heart to Mend Mine</td>\n",
       "      <td>She was a healer, but was I ready to be fixed?</td>\n",
       "      <td>She was a healer, but was I ready to be fixed?</td>\n",
       "      <td>This essay is part of a collaborative project with Black History, Continued. We invited readers and renowned writers to respond to the question “What is Black love today?”</td>\n",
       "      <td>2022-02-11</td>\n",
       "      <td>SpecialSections</td>\n",
       "      <td>Style</td>\n",
       "      <td>News</td>\n",
       "      <td>1183</td>\n",
       "    </tr>\n",
       "    <tr>\n",
       "      <th>10</th>\n",
       "      <td>https://www.nytimes.com/2022/02/11/style/modern-love-teeth-smile.html</td>\n",
       "      <td>This essay is part of a collaborative project with Black History, Continued. We invited readers and renowned writers to respond to the question “What is Black love today?” I met her the way it felt like most people met in 2006. Which means we met on Myspace. Its search function allowed you to filter for gender (female), age (22-28), location (within 25 miles of 15232) and race (Black). I was 27, newly single and aggressively broke. So browsing curated thumbnails from my bedroom was better than the club. She checked all my boxes. Fine. Witty. Active. Single. Age-appropriate. Not too crunchy or churchy. Enough of a sense of humor to think I’m funny, which is all that really mattered. And, most important, had shared enough information on her profile that I could craft a DM to prove I’d read it. “Finally, someone else who thought Val Kilmer was the best Batman.” She replied 20 minutes later — “He was the best Elvis too!” — proving she’d read my profile (I’d listed “True Romance” as one of my favorite movies). I waited 15 minutes to write back. Couldn’t seem too thirsty. She possessed no such need for performative coolness and wrote back immediately. Four hours and dozens of jokes, vets and flirts later, we agreed to meet at Barnes &amp; Noble at 7 the next evening. I rolled up at 6:50. She was already there. It reminded me of that diner scene in “Goodfellas,” where Jimmy arrives so early to meet Henry that Henry deduces that Jimmy planned to kill him. I didn’t think she wanted me dead, so this was good news. In person she was everything she was online, but 3 percent better. The conversation was easy, like water. Not even like solid water, but like walking through a gentle drizzle. We drank tea, we browsed books, we played footsie. It was the third best first date I’d ever been on. It was a Monday. We made soft plans to kick it that weekend. Maybe a movie. Maybe food. Maybe more. I called Wednesday to confirm. Voice mail. Hmm. The next morning, she texted back. “Hey homie! It’s been a crazy week. Rain check for this weekend, but let’s try again soon!” In movies sometimes it takes a character a few more interactions like this to get the hint — a montage of unreturned texts and indisputably platonic voice mail messages as they pace hallways and make sad faces in car mirrors. This was not that. If the day-later text as a response to my call was a sign, the “Hey homie!” was a flashing neon billboard. I was disappointed, sure. But mostly just confused. I’d been on enough first dates to know when things were going well enough to warrant a second. This had felt like that. We remained friendly (and still are). Or whatever you call the Tilt-a-Whirl of communication when you text someone Thursday afternoon, and they reply Sunday evening, and you reply Wednesday morning. But even though I had moved on, I was still curious about what had caused her to shift from hot to cold so quickly. And then, a month or so after our date, she posted one of those rapid response questionnaires to her profile. “Fav food? Tacos! Fav artist? Aaliyah!” As I scrolled down, I found my answer. “Dealmaker? GREAT SMILE! Dealbreaker? BAD TEETH!” When I was 11, and had just moved with my parents to East Lib, Pittsburgh, this brazen stubby white boy started calling me “Beaver” because of my slightly bucked teeth and perpetual overbite, and that nickname stuck. (People who know me from then still know me as “Beav.”) By the time I reached high school and the rest of my face began to match my front teeth, a gap formed between them. Between the gap and the overbite, my teeth did the thing that happens when misaligned entities repeatedly crash into each other. Some grinded, some eroded, some sharpened, some separated from each other — slowly, but decisively, like my mouth was Pangea. (And then, while playing pickup basketball in 2005, an accidental elbow to the grill shifted one of them, closing the front gap by a millimeter or so but also leaving that tooth slightly crooked.) I cannot recall a time when my teeth were not in need of drastic correction. Specifically, I cannot recall a time when I felt like my teeth were not in need of drastic correction — a feeling that lurked around and eventually consumed me because the world kept reminding me. Cartoons distinguished villains by giving them exaggerated or missing choppers. In movies, if you had noticeably bad teeth, you could be a goblin. Or a dope fiend. Or a Mississippian cannibal. If lucky, you could be the “not hot” dweeb who, by the third act, Frisbees their braces off and becomes Halle Berry. In real life, if I were roasted by friends or heckled by crowds during away games, my teeth were usually the target. I remember how I felt when first clocking my date in the Barnes &amp; Noble that night. She was sitting at one of those tiny and wobbly circular tables and smiled at me as I approached. I started to smile back, but then I felt like I’d just entered a room to take an exam I’d forgotten to study for. She’d seen all of the pictures on my profile. Her wanting to meet so quickly was an indicator of her enthusiastic approval of them. I was also at least five inches taller than her, which I know is a concern that women who meet men over the internet sometimes have. But she hadn’t seen my teeth. The pictures on my profile captured the range of possible looks I could have without revealing them — smirking during a wedding toast, holding my infant cousin and squinting at her, so close to the camera’s flash that all you saw in my mouth was an indistinguishable white. A gallery curated to hide what I believed needed to be hidden. I was a toothfish. She’d have to see my teeth eventually though. A relationship can’t blossom if one of the people in it only opens their mouth when their partner blinks. So I decided to open-mouth smile back. There are infinite possible reasons she could’ve decided that night that I was cool enough to be cool with, but not attractive enough to be more with. First dates are when you’re supposed to be discerning and particular. Which is a nice way of saying petty. And the gap between my front teeth is just one line in that poem. But I also know enough Black women interested in Black men to know that the symmetrical contrast of straight bright whites against deep brown skin is a thing. And that meeting a man who doesn’t have that thing can be the visual equivalent of the “The Price Is Right” losing horn. And I know that in America, good, strong, bright, straight teeth signal good, strong, bright, straight money. The whiter the teeth, the whiter the credit. An open mouth is a résumé, a Carfax and a FICO score. And this, I know, is the real source of my neurosis. I’m 43. For 35 or so of those years, I existed either below the poverty line or a missed paycheck away from it. I’ve been broke-adjacent. Broke. Poor. My mouth is a memoir. Of canceled orthodontist appointments when my parents couldn’t afford the premium. Of never having two consecutive years of health care as an adult, until I got Obamacare in 2014. Of shame. That’s the tricky one. The shame. I know now that there was nothing to be ashamed of. That doing well, while Black in America, is the exception not the norm, and that the exception could change with a coin flip. But then, all I wanted was a pantry. A pantry, to me, meant you had extra. Not too much. Not Jack and Jill money or anything. But just enough to maybe not sweat too hard all the damn time. A pantry also meant good teeth. Cause why wouldn’t you have them if you could afford extra ketchups? This anxiety ain’t new if you’re Black. We’re the world champs at faking it till you make it. I couldn’t even really do that, though. Because as much as I’d try to stunt, my teeth told the truth. But maybe my teeth lied to me, too. I think about all the times I’ve been asked why I don’t smile more. It always felt like a taunt, because I’d think “Ain’t it obvious?” But maybe it wasn’t as obvious as I thought. Maybe that’s just me getting gamed by shame. Maybe the Black women who have been interested in me — the Black women who’ve loved me, the Black woman who married me — weren’t compelled to overlook this conspicuous flaw because they liked the other parts, like I was a nice new car with a cracked windshield. Maybe, to them, there was nothing to overlook. Maybe, to them, they were just my teeth. Maybe, to them, I have a nice smile. Maybe when I opened my mouth at that Barnes &amp; Noble, she thought I had a nice smile too. I could just ask her. We’re still cool. I don’t care as much anymore though. Growth, right? Maturity? Perspective? Nah. I just have a pantry now. Invisalign too.</td>\n",
       "      <td>nyt://article/4b7f30b3-2715-5454-92ae-d0119da1fe92</td>\n",
       "      <td>Was It Me? Or My Teeth?</td>\n",
       "      <td>In America, a smile is like a résumé. I was afraid mine wasn’t closing the deal.</td>\n",
       "      <td>In America, a smile is like a résumé. I was afraid mine wasn’t closing the deal.</td>\n",
       "      <td>This essay is part of a collaborative project with Black History, Continued. We invited readers and renowned writers to respond to the question “What is Black love today?”</td>\n",
       "      <td>2022-02-11</td>\n",
       "      <td>SpecialSections</td>\n",
       "      <td>Style</td>\n",
       "      <td>News</td>\n",
       "      <td>1650</td>\n",
       "    </tr>\n",
       "  </tbody>\n",
       "</table>\n",
       "</div>"
      ],
      "text/plain": [
       "                                                                                         url  \\\n",
       "2   https://www.nytimes.com/2022/02/11/style/modern-love-gay-couple.html                       \n",
       "3   https://www.nytimes.com/2022/02/11/style/modern-love-confidence-self-love.html             \n",
       "4   https://www.nytimes.com/2022/02/11/style/modern-love-black-boyfriend-applications.html     \n",
       "5   https://www.nytimes.com/2022/02/11/style/modern-love-queer-dating-open-relationship.html   \n",
       "7   https://www.nytimes.com/2022/02/11/style/modern-love-bond-father.html                      \n",
       "8   https://www.nytimes.com/2022/02/11/style/modern-love-black-boys.html                       \n",
       "9   https://www.nytimes.com/2022/02/11/style/modern-love-healer-heartbreak.html                \n",
       "10  https://www.nytimes.com/2022/02/11/style/modern-love-teeth-smile.html                      \n",
       "\n",
       "                                                                                                                                                                                                                                                                                                                                                                                                                                                                                                                                                                                                                                                                                                                                                                                                                                                                                                                                                                                                                                                                                                                                                                                                                                                                                                                                                                                                                                                                                                                                                                                                                                                                                                                                                                                                                                                                                                                                                                                                                                                                                                                                                                                                                                                                                                                                                                                                                                                                                                                                                                                                                                                                                                                                                                                                                                                                                                                                                                                                                                                                                                                                                                                                                                                                                                                                                                                                                                                                                                                                                                                                                                                                                                                                                                                                                                                                                                                                                                                                                                                                                                                                                                                                                                                                                                                                                                                                                                                                                                                                                                                                                                                                                                                                                                                                                                                                                                                                                                                                                                                                                                                                                                                                                                                                                                                                                                                                                                                                                                                                                                                                                                                                                                                                                                                                                                                                                                                                                                                                                                                                                                                                                                                                                                                                                                                                                                                                                                                                                                                                                                                                                                                                                                                                                                                                                                                                                                                                                                                                                                                                                                                                                                                                                                                                                                                                                                                                                                                                                                                                                                                                                                                                                                                                                                                                                                                                                                                                                                                                                                                                                                                                                                                                                                                                                                                                                                                                                                                                                                                                                                                                                                                                                                                                                                                                                                                                                                                                                                                                                                          essay  \\\n",
       "2   This essay is part of a collaborative project with Black History, Continued. We invited readers and renowned writers to respond to the question “What is Black love today?” Peter and I hitched our wagons young. Early 20s. He was wildly handsome, gay, with soulful brown eyes and a head full of loose, unruly curls. Raised by an African American woman and a white preacher man, Peter spent his childhood steeped in the evangelical ministry. He was as terrified of his father’s sermons as he was soothed by his mother’s inclination to administer to the more human aspects of the congregation they both led. The night I met Peter, he and I fell all the way in love. Kismet, you could say. He made me laugh with his very first words. It was my first time at the Nuyorican Poets Cafe, the premier debut joint for every performance poet trying to get onto the New York City poetry scene. I read my first piece on the open mic after the slam. Peter was among the first admirers to make his way through the applauding crowd to tell me I had simultaneously embodied the fury of his father and the vulnerability of his mother — and, as such, I was destined to be one of his true loves. “Only one of?” I asked. “Fate isn’t fixed,” he said, “The gods have to leave room for surprises!” By the time we met in the fall of 1997, Peter’s parents were long divorced. His father had left the church. And Peter was already exploring other truths to believe in. Poetry was his new religion. His poems were long, lyrical and lovingly painted with the impossibly beautiful brushstrokes of utopia. He lived his life with the same energy. He believed in the goodness of people. Once, in the middle of winter in Washington Square Park, I watched him unbutton his coat and drape it across the shoulders of a drunk who had just called him a homophobic slur. I was an ex-Christian and newly out lesbian fleeing the violent homophobia of the late 1990s in Jamaica, still wearing the fury of being attacked by a dozen boys and sexually assaulted in Kingston. I was ashamed and angry that it defined my final year of university. That’s why I moved to New York City on a tourist visa. I needed somewhere safe to call home. But I felt at sea in this new country. I had a few aunts and uncles in New York, but before any of this I had absolutely no relationship with my biological family. My parents had abandoned me — my mother at birth, and my father hadn’t even shown up. And now that I had announced that I was a lesbian, that already distant extended family wanted less to do with me. I was in New York in search of safety. Freedom. And room to explore my budding lesbian identity. I was seeking a tribe to which I could unequivocally belong. And the performance poetry slam scene was a mixture of every kind of misfit. Peter and I fit right in. In no time, it felt as if we had known each other our whole lives. We shared everything: stories, poems, disappointments, hopes. We spent most evenings together. I’d meet him after work and go to whichever cafe was holding a slam competition that night. He knew everything about me: how broke I was, who stole my favorite vibrator, the ex-cop who hit me — how I kept going back to her. Every time. One night, after a particularly bad fight with my abusive partner, my roommate cornered me and told me she was going to raise the rent unless I had sex with her. My tourist visa was almost expired. I had no money except what I won at the slams — and that was barely enough to pay for the couch, ramen noodles and a MetroCard. I had no work permit, so I couldn’t get a job. I couldn’t apply for any services. Without papers I couldn’t even get into a shelter. I told Peter I was going to give up on this crazy dream of freedom in New York to go back to Jamaica. He was quiet while I explained what it meant to be undocumented; I went on about green cards and citizenship and visas and immigration authorities. When I was done talking, he asked me to marry him. When I pushed back, saying such a marriage was illegal and that it might land us in trouble with the law, he said the law was wrong. “You love me, right?” I nodded. “Well, I love you. You love me. I want children. You want children, right?” “Right …” “Well, that is what people do when they love each other and they want to have children together. They get married. And that makes them a family. They can’t have it both ways. And love is love, right?” His argument was sound. If the rules were fair, I would have been able to marry a woman, get citizenship and start a family with her. As it stood in the U.S., that wasn’t allowed. But Peter and I were well within our right to claim the perks of being a couple. We were already partners. He was already my family. We were married at City Hall. Peter’s lover, who was to be our witness, didn’t even show up for the wedding. We had to ask a beautiful man in cowboy boots and a sequined vest to stand in for him. After our very giggly “I dos,” Peter invited me to Thanksgiving dinner with his family. Before the month was out, I moved in with him and his amazing mother, Carole Linda, in the beautiful old house, the one that was once his parents’ church, two blocks from the beach in Far Rockaway. We spent three magical years living together. No one understood the quirky, kooky couple who arrived together, left together, but flirted with everyone in between. We had so much fun together. We were the perfect couple. We knew we’d be the perfect parents. But we were a modern couple. We wanted to be more intentional, more deliberate about our choices than our parents had been. We had more living to do before we took on the responsibilities of children. We didn’t have money, but we had lots of time. We were committed to living first. But at 29 Peter was diagnosed with cancer. Stage 4. He was diagnosed in May. He died on Dec. 16. At 11:30. Half-hour before he would turn 30. I was so furious at him dying, I couldn’t cry. It felt as if all my dreams of family died with him; a partner, children, my willing comrade in the radical redefining of the modern family, modern love. His mother was better at making peace with the heavens over the loss of her firstborn. I was surprised at her ability to remain connected to me. She stayed close, calling, sending Christmas cards, checking in, even as I remained distant, angry, unsure about deserving the magic of the family Peter had so tragically, suddenly, left behind. I grudgingly remained connected to his younger brother, CJ, who reminded me so much of Peter. Except he wasn’t gay, or a poet. He grew up to be a fine filmmaker and the only straight man in the L.G.B.T.Q. alliance in college. We often called each other to reminisce about Peter, to recount the sorcery of him, to bask in the shared memory of his magic. Later, when I became frantic with the desire to start a family — chasing gay men at house parties, begging sperm from strangers on planes — I broke down and wept for what felt like the too-early death of my husband. I didn’t want to be the strange young widow hosting lesbian parties in Crown Heights. I wanted to be the badass lesbian writer, with the flamboyant gay husband, raising four children in a rambling old house that used to be a church, two blocks from the beach in Far Rockaway. In one conversation with CJ, he interrupted to ask if there was a way he could stand in for Peter, by giving me his sperm. A year later, my daughter, Zuri, the most astounding miracle, born a decade after Peter’s death, refers to Peter as her “almost dad.” Carole Linda is still my mother-in-law and my kid’s actual, biological grandmother. Zuri’s “Baba,” CJ, got married last August. Zuri almost passed out from the joy of being asked to be the ring bearer at the wedding. We all traveled from multiple cities to watch them speak the vows. His brothers, their wives, Peter’s grandmother, his father, me, my non-monogamous partner and a beautiful cohort of ordinary folks, misfits, artists, preachers, writers, activists, gay, straight, nonbinary. I looked around the room, thinking if we had had the choice, this is what Peter’s and my wedding would have looked like. Peter would have reveled in it. Some days I still hear Peter’s voice inside my head, rustling in the fall wind, booming in the rush of traffic on the West Side Highway. He’s always whispering, screaming, saying the same thing, “Fate isn’t fixed, Staceyann. There is always some room for the gods to surprise us.”                                                                                                                                                                                                                       \n",
       "3   This essay is part of a collaborative project with Black History, Continued. We invited readers and renowned writers to respond to the question “What is Black love today?” I’ve spent my whole life looking for similarities between myself and the protagonists in love stories. When I lost my father to prison and my mother’s attention to her double duties as a single parent, I escaped through books in an attempt to reimagine what love could look like. But the couples, usually locked in an embrace on the cover of those “harmless” rags, looked nothing like the people in my house. Abuse ruined the bones of our homes and turned them into rotten structures. My hopes of experiencing romance in the future seemed incompatible with my reality. I had no example of romantic love, not for girls that looked like me, until my cousin, Tiffany. Two years older than me, and seemingly in control of her life, Tiffany became a blueprint; no, a mirror — a way to see myself clearly. She was everything I wanted to be. She garnered attention when she walked into a room: ash brown hair, freckles and a genuine smile. Tiffany was beyond cool, she was fresh; beyond fresh, she was fly; beyond fly, her energy was unmatched. My cousin was my protector, the way an older sister should be. Tiffany taught me love by listening. She let me read her books and sing her songs from my favorite musicals. She joined me at my softball games and would sit next to me on the bench when I played catcher. She gave me tips for getting my crushes’ attention (none of which worked). First place in the oratory contest, she cheered. Solo during choir performance, she tossed a thumbs-up sign from the pew. We were inseparable until she went to high school and left me to fend for myself in those unimaginable middle school bouts of self-doubt. At 15, Tiffany had her first child. A little girl with a light as remarkable as her own, and the temperament of a doe. When she was pregnant, I asked her, “Are you sure?” She smiled and rubbed her belly. And just like that, my purpose was clear: I would have a daughter, too. Tiffany’s Little Light studied everything. Her mouth was an overturned cup spilling sunshine. They were an emerging constellation when they walked into a room together, stars to anybody who drew breath. They became a part of my vision board for maternal love. Do not be fooled, I too received this kind of love from my own mother. But it was so far removed from my teenage psyche, it wasn’t something I could pluck from my memory easily. You know, the way mirrors neglect to reflect what we’ve been conditioned to disbelieve. Despite the judgment of her being too young to raise a baby, Tiffany glowed. She glowed so brightly one could even say it blinded the jealous. And when Tiffany had her third child, she moved from California to find her footing in Baton Rouge. Her relationship with the father of her children, who I would later learn became more obsessed with the idea of owning Tiffany than loving her, was a wake-up call: Love is not transactional. Love is not ownership. Love is simply an act of absolute care. While love is an active verb, sometimes it ain’t enough at all. At 21, I had my daughter with my high school sweetheart. At 23, I left the dissolving relationship for a life that could hold my dreams to secure a future for my daughter. I called Tiffany to tell her the news. She answered, and I could hear her three children playing in the background. Little Light was now the eldest and took her job as protector of her two younger brothers seriously. “Cousin, are you sure?” Tiffany asked me. “Aren’t you scared?” I laughed away whatever fear I was carrying and told her I would be back. That it was just for the summer. But Tiffany knew what I couldn’t see yet. That I would find writing and become the woman of my own dreams. I cloaked myself in Tiffany’s charm and wore it until it became a second skin. This is how I arrived in Bed-Stuy, Brooklyn. I only dated men who called me beautiful. I flirted with anyone who could hold an interesting conversation. I gave love a run for its money because the only thing that truly kept my attention was my daughter’s health and laughter, and my burgeoning career in writing. I carried this new me everywhere: New York City, Poland, Britain and Canada. When the summer became a year, and the year became a decade, I recognized so much of my cousin in the way I carried myself. I loved how I looked to myself in the mirror. I loved how I looked from the reflection in my daughter’s eyes. Like Tiffany, I began to move through rooms easy like the wind, soundless and certain. This feeling stayed with me, from the red steps of our grandparents’ home in West Oakland to the Bed-Stuy stoops that became my sanctuary. At first, before she had her fifth child, Tiffany and I checked in weekly, then monthly, after she had her seventh child. Phone calls became text messages as our lives busied. She was raising eight children on her own and re-establishing herself after finally leaving an abusive relationship. Every other year I would visit, and when I couldn’t be physically present, I sent supportive messages, care packages and invitations for her to visit me on tour. After 15 years of visits dictated by holiday breaks and family reunions, I invited Tiffany to Florida. Tiffany had never been and was on a break from her on-again off-again relationship. I wanted to protect her. I wanted her to see what the world had to offer. She was the very best part of me. She gave me courage. She gave me reassurance. She gave me pep talks. She gave me compliments. Loving and celebrating others was natural for Tiffany. The least I could do was repay her generosity by giving her the space she needed to figure out who she wanted to be. Through Tiffany’s turbulent relationships, and her absolute love for her children, I began to understand what love costs. When she met me in Miami, a place I traveled to for weekends and took for granted, her eyes welled up with tears. I asked, “What’s wrong, cousin?” By the time she could pull herself together, we were walking alongside the beach, our manicured toes leaving kiss-prints on the sand. “I never thought I would get to see the Atlantic Ocean,” she said, tears sliding down her freckled face. “I feel like all I have is my kids. I’ve never traveled and seen the world like you.” I held my breath, terrified by the weight of the moment, but ready to rise to the occasion and remind her what she taught me so many years before. Fairy tales might teach us stories of whimsy, designed to mold single Black women into roles of grateful service before they’ve ever seen the world. It was my turn to show Tiffany that we are in fact an entire world ourselves.                                                                                                                                                                                                                                                                                                                                                                                                                                                                                                                                                                                                                                                                                                                                                                                                                                                                                                                                                                                                                                                                                                                                                                                                                                                                                                                                                                                                                                                                                                                                                                                                                                                                                                                                                                                                                                                                                                                                                                                                            \n",
       "4   This essay is part of a collaborative project with Black History, Continued. We invited readers and renowned writers to respond to the question “What is Black love today?” “I am no longer dating white guys. Nonwhite guys may submit their applications in my DMs.” These words, posted on my Facebook page, marked the beginning of a racial reckoning in my dating life. Some context: It was June 2020. George Floyd had just been murdered. Black people like myself were consumed with rage and were openly airing our grief. On top of that, I was a woman scorned. I was 35 years old, a highly educated Black woman, a homeowner and an attorney, and I had just been rejected by yet another mediocre white guy who then pursued a relationship with a white woman. In short, I was fed up with white people. So one afternoon, I wrote a half-crazed manifesto on my Facebook page. Specifically, I railed against a white society that clearly didn’t see me as white but insisted on rejecting my Blackness because of my appearance (fair-skinned) and upbringing (middle class). White people had called me “not Black” for liking Taylor Swift, told me they were “more Black than me” because they grew up in a predominantly Black neighborhood (or had an especially dark tan), and fetishized my “exoticness” and ethnic ambiguity. I ended my ramblings with the call for applicants. I clicked “post” without thinking. To my amazement, the likes and comments started pouring in. Black people saying that they’d had similar experiences. White allies thanking me and promising to “do the work.” I felt so vindicated. And then this popped up on Facebook Messenger: “Application submitted!” The message was from Josh, whom I went to high school with 18 years earlier in Maryland. He was tall, handsome, smart, funny and successful. And Black. I’d briefly reconnected with him at a bar in Baltimore in 2018 when I was in town for a work conference. We had flirted, but I remembered from Facebook that he’d gotten married, so I flew back to California at the end of the conference with a wistful “what-if” feeling fluttering in my chest. I soon found out through mutual friends that his marriage had ended before we connected, but seeing as we lived 3,000 miles apart, I figured there was no point in trying to pursue anything. But here he was now, reading my manifesto and submitting an actual application to date me. I was gobsmacked. Up to that point, the vast majority of my relationships had been with white men, the predictable result of years spent in a Maryland prep school and at a Massachusetts liberal arts college. In fact, it had become a running joke among my friends and family: If the guy was basic and white, he was my type. But I had never, not once, dated a Black man. And I’ll be honest — I had always felt a kind of shame around that, as though my not dating Black men reflected a deep-seated insecurity with my own Blackness. But here was an eligible Black bachelor offering me a chance at love, and a chance at embracing my Blackness. Josh and I started texting. We had a couple of video calls that were awkward at first but became more natural. I suggested flying out to Baltimore to see him, and he agreed. On the one hand, it seemed wild and reckless, jumping on a plane to visit someone I barely knew. And during a pandemic to boot. On the other, the whole thing felt like something out of a movie. I was flying 3,000 miles to have our “first date.” We packed a lot into that four-day first date. He took me to Baltimore’s National Aquarium. He treated me to dinners and wine. He even took me to a (socially distanced) visit with my grandmother on her birthday. Most of all, we reveled in our Blackness. We danced to hip-hop in his living room — and he could dance, something I had rarely experienced with my white boyfriends. We joked about the endearing quirks of our older Black relatives. We shared stories about being among the few Black people in our respective professional arenas — finance for him; law for me. With him I could openly “speak the language” and not have to explain myself. For the first time in my life, I felt like I could be completely, unapologetically Black with the guy I was dating. Like most first dates, there were uncomfortable moments. Josh was reserved and rarely volunteered information about himself, which meant it was hard to get to know him. And while there was definitely a mutual physical attraction, there was a shyness in Josh that only seemed to fall away with the help of a few drinks. Still, I chalked that up to our still getting to know one another. However, on my last night there, as we gazed at the city lights over the Inner Harbor, he turned to me and said, “You know this isn’t going to work, right?” Completely out of nowhere. I asked him to explain. He said our personalities were too different — I’m outgoing, high-energy and emotional; he’s analytical, quiet and calm. I, both a romantic and a lawyer, attempted to argue my case — “Doesn’t love find a way?” — and he, the realistic, number-crunching one, pointed out the obvious practical hurdles. With the physical distance between us, there was no way to properly date or figure out how we would fit together. My fairy tale seemingly shattered, I started to cry. He seemed sad too, though whether it was because of a mutual feeling of despair or simply uneasiness at my tears, I couldn’t tell. The next morning he drove me to the airport and I asked him to visit me in California. He gave a noncommittal answer. I left wondering if I would ever see him again. Turns out, I would. A few weeks after my Maryland trip, Josh asked to visit me in California. I was thrilled. I convinced myself that he wanted to visit California to see if he could make a home here with me. I planned a day trip to Napa. I borrowed my neighbor’s bike for Josh so we could tool around town together in true Californian style. I proudly showed him off to my friends, took him to my favorite local haunts, and tried my hardest to prove how great we could be together, the perfect Black power couple. Still, we weren’t quite clicking. Josh wasn’t entirely on board with my carefree Cali style. When we biked to the river on a hot day, I eagerly stripped down to splash around in the cool water, but he refused. When we strolled the sidewalks of downtown Napa, I reached out to intertwine my fingers with his, and he shook my hand off — turns out he wasn’t a fan of P.D.A. And the reservedness I had witnessed in Baltimore persisted. I tried to ask him questions about his family, of whom he seldom spoke. He demurred: “That’s personal.” As someone who had always been an open book, I was frustrated. When I drove him to the airport at the end of the visit, I had a hollow feeling. Why weren’t we clicking when we were perfect for each other, at least on paper: same hometown, same education, same career-driven lives, and most importantly (or so I thought), same race? How was this not kismet? It all came to a head in the spring of 2021. Josh invited me to Baltimore for the Preakness, an annual horse race and social event. But a disagreement over a coffee maker before I arrived — he didn’t own one, and for reasons I couldn’t fathom, didn’t want to have one on hand for my visits — pushed me over the edge. I said, “If you can’t even keep a coffee maker for me, it’s obvious you don’t care enough for me to fly 3,000 miles to see you.” To my horror, he didn’t argue. I said I wasn’t coming, and he didn’t try to change my mind. And that was it. What the hell had just happened? How did my lofty dreams fall so flat? Did I really fly to Maryland, and him to California — during a pandemic — for nothing more than a booty call? Over time, I realized my attachment to Josh was more intellectual than emotional. I had tried to make him — kind and well-meaning, but unable to match my spirit or provide me the emotional connection I wanted — into my perfect boyfriend, because he was Black. Josh represented the first time I naïvely attached my worth as a Black person to the success of my relationship with a Black man. But dating a Black man will not make me more Black, just as dating a white man won’t make me less Black. I am Black, period.  Regardless of the race or ethnicity of my next boyfriend, at least I’ll know one thing: Whoever loves me next must love all of me.                                                                                                                                                                                                                                                                                                                                            \n",
       "5   This essay is part of a collaborative project with Black History, Continued. We invited readers and renowned writers to respond to the question “What is Black love today?” I’ve always been wary of sports, competition and falling in love. So growing up, I avoided all three. As a kid, I would shrug when “accidentally” letting goals into the net from the opposing team. I would walk slowly behind everyone else on the basketball court as they ran from end to end. My mother eventually stopped asking if I was interested in signing up for extracurriculars and my friends came to understand my lack of interest in playing board games, card games, drinking games or anything that required competing for the title winner. I was even able to avoid acting on romantic feelings for a long time but with age I let up slightly. After an indecisive football player, a shady basketball player, and a club bouncer who was as bad at kissing as he was at his job, I decided I had made a mistake opening myself up, and convinced myself that the real issue was vulnerability. I would no longer be attaching any emotional investments to my sexual partners. I never bothered to be competitive or to fall in love because I didn’t care to win. I met him on HER, a dating app for queer women and gender diverse people. He had long brown dreadlocks with subtle hints of blond and a promising smile. There was something about him that told me he would be the exact kind of fun I was looking for. He approached me with a smooth pickup line, and I responded with something much less cool. Before I could give it much thought he told me that he was assigned female at birth and had transitioned to live his life in the gender that was most authentic to him. “So, what are you looking for?” I said. “Well, I’m in an open relationship. So I’m not anticipating anything too serious,” he responded, adding that he and his partner were engaged to be married. My friends wanted to know how someone could be committed to a partner while pursuing other relationships. I didn’t blame them: the idea of a relationship where both partners agree to seeing other people while being together isn’t something that most learn about in “the birds and the bees” conversation. My immediate reaction when I learned he was in an open relationship was relief. I would have fun with no emotional responsibility. They were deeply in love and had a strong foundation on which their love was built. They knew that marriage was the ultimate goal of their relationship, and had its benefits both legally and personally, but they also knew that, in order to meet both of their physical and emotional needs, their marriage would need to be unconventional — which, in this case, meant leaving the door open for other intimate possibilities. What neither of us expected was the fast progression of our feelings. I started wondering more about when he’d see his fiancé next. He wanted details about the dates I went on. We both grew possessive as our unanticipated love bloomed. We began feeling entitled to each other. Yet, while my insecurity grew more obvious, he managed to mostly keep his casual demeanor. And of course he could. He always went home to the loving arms of his partner, and I always went home to thoughts of a lover that I couldn’t truly call my own. We were everything I vowed to never be: very vulnerable, and very corny. “You hang up first,” he’d say. “No, you!” I’d say, my naturally deep voice suddenly sounding prepubescent. We were inseparable. Soaking ourselves in wet kisses on the Toronto Transit Commission as if no one was around and feeding each other street meat on the corner of Church and Wellesley. Here I was, never having been intrigued by competition, but suddenly up to the challenge of convincing him that I was worthy of being his only one. I tried to appear unfazed by the uncertainty of our relationship, but with each passing day I could feel my nonchalant facade peeling away. I knew it wouldn’t take long before I had nothing left to hide behind. One evening, we joined our mutual friends for a night out. I had high hopes that the loud music and many shots of tequila would drown out the unanswered questions of our relationship. The dim club lights and the drink intensified the moment and when he and our friend began dancing with each other, I felt justified in my rage. Watching them dance — two Caribbeans sharing a strictly platonic love language of slow whining and good drinks — amplified everything that threatened our life together as a couple: my fear of losing him and not being able to do anything about it. It was then that I knew we couldn’t return to our no-strings-attached deal. I wanted to take away the love he reserved for his fiancé and keep it for myself (which is the exact antithesis of an open relationship). Here was this person who was sent to me through a dating app that hosts mostly nude pictures. Here, somehow, I met someone whose presence soothed me, and he had chosen to devote himself to someone else. Someone who had known the smell of his collar and the softness of his lips long before I even knew he existed. Nothing about that felt fair. I spent that night preparing for the curtain call on our love story. And though we continued to date for weeks afterward, that moment was a clear shift in our relationship. An obvious flag that this “casual thing” had gone too far. Our relationship came to an unavoidable end; I needed more and he knew he couldn’t give that to me. As I reflected on us, I realized that I was in competition with no one but myself. I assumed that “winning” in this situation meant we would abandon the concept of non-monogamy altogether and walk off into a sunset hand-in-hand. Just the two of us. But the open relationship wasn’t the problem. The problem was the strange expectation for Black women to be in competition with each other, even if they are unaware of it. And the even stranger expectation for Black queer relationships to still fit enough into the confines of heteronormativity to make other people comfortable. The normalization of heterosexuality has been so insidious in my life through the consumption of media, education, and social assumptions and attitudes, that even as a queer woman in love with a trans man, I still questioned the validity of our non-monogamy. I had to learn to quiet the noise of heteronormativity; the idea that being in love can only look one way for it to be valid. That intimacy can only include two people. That there needs to be competition in order to receive the love we deserve. Black folks have been queering the family dynamic for as long as we have existed in this world. We’ve had stepparents who have loved us like they made us from scratch. We’ve promoted any friendship that has lasted over five years to that’s my cousin status. I have half-siblings that I’ve only ever referred to as whole. The words “half-sibling” were treated as if they were illegal in my household; my parents constantly reminded us that the small, and scientific details of our family weren’t important. When my sister’s mom passed away and my aunt raised her, she called her auntie-mommy. We never questioned that. It never required an explanation. There has never been anything nuclear about any Black family dynamic I’ve ever known, so why did I villainize, and — in my own mind — compete with a Black woman who loved herself, and her fiancé enough to encourage him to share his love with me? Possibly, all along, I was never scared of competition or losing, but instead, as a Black woman, I couldn’t fathom the idea that, contrary to popular belief, love doesn’t actually require competition. Everyone can feel worthy. It was because of the open relationship with my engaged lover that I was able to say yes to a date with the next person I would go on to fall deeply in love with. Our non-monogamous ways gave me the freedom to explore other relationships openly. He went on to marry his fiancé and we have managed to remain friends. In our choice to smoothly transition from romantic to platonic, we stuck up a subliminal middle finger to a world where relationships between Black women — especially when there is a man in the middle — are so often reduced to the notion that there is only ever enough love for one of us. Open relationships are far from a means for competition, they are an embodiment of love unable to be confined. They have the ability to bring together a small-town, awkward Black girl and a cool island boy with effortless swagger, and somehow allow them to exist together in the Toronto summer heat, exiting their romance more filled with love than they found each other.   \n",
       "7   This essay is part of a collaborative project with Black History, Continued. We invited readers and renowned writers to respond to the question “What is Black love today?” I was trying to think about the first time I met my godfather, but that would be like asking me to remember the first time I met my mother. From the time my brain was able to hold memories, my Uncle Ronnie was there. He had been my mother’s best friend since she was in college (maybe even longer — I was never clear on their exact origin story) and was an unwavering pillar in the tribe that raised me in the absence of my biological father. As a child I didn’t understand the depths of what I was witnessing between him and my mother, but now, at 34, with my own best friends whom I’ve known since college, I have a deep appreciation for how special their bond was. How healing it was. They weren’t just besties: They were siblings. My mom asking Ronnie to don the title of my godfather was truly just a formality. I belonged to him before we ever met. In second grade, I had to do a family tree project. My classmates and I were each handed an illustration of a big tree that had labels for us to fill in. At the bottom of the tree was a space for me to write my name and above it were two spaces — one for my mother and one for my father — and then above those were spaces for my maternal and paternal grandparents. Our assignment was to work with our parents to fill in the names on the tree and write a mini report. My 7-year-old brain stared at the paper with confusion. I didn’t know my father’s name. I’d never really thought much about having a dad. When I got home, all four feet of me cornered my statuesque Caribbean mother in the kitchen of our Queens home and asked, “Do I have a father?” She looked at me, a bit stunned, and took a breath before she said, “Of course you do.” In my high-pitched voice, I shot back, “Then where is he?” She looked at me for a moment as though searching for the answer. “Your father lives with his family.” It was a concept too big for me to fully understand. “Aren’t we his family?” I asked. Before my mother could respond, I asked the question that I think every single parent dreads: “Does he not love me?” My mother crouched in front of me, took my small hands into hers. “Your father is a good man,” she said. I softened a bit, and she continued: “I loved him because he was such a good man. He was so smart, talented and charming. Everybody loved him. And you remind me of him.” Somehow, hearing I was like him was enough. For the moment. But periodically his absence would feel unbearable. Father’s Day, parent-teacher conferences and school sporting events were always the hardest. As a child of the ’90s, I clung to Carl Winslow from “Family Matters,” fantasizing about having a man in my house who would impart words of wisdom, dish out compassionate discipline and look at me with pride. There was a very “blood is thicker than water” energy about my yearning — a notion that my biological father and I would have an inexplicable bond that would heal all my wounds. He would be a compass that would point my life in the right direction and guide me effortlessly into Black manhood. But no matter how hard I prayed to God or how many letters I wrote to Santa at Christmas, my father never appeared. Uncle Ronnie, however, always did. He had golden brown skin, and though his marathon runner’s body rendered him smaller than most of the men I was related to, he was strong. He was innately kind but could read you for filth with just a look, and, like me, he loved to laugh. Not only did he attend school plays, piano recitals, basketball games, track meets, even church once or twice, but he was also the one who would drive me to and from those events. Whenever I copped an attitude, he knew how to put a smile on my face. He would scoop me up and take me to museums or the playground or the flea market, teaching me how to pick out quality art and furniture pieces. He would take me to bougie restaurants in Manhattan so that I’d be exposed to different cuisines and fine dining; he’d take me to McDonald’s because he knew, ultimately, that it was my favorite. And if those things didn’t have me beaming, he resorted to my most hated tactic: becoming an insatiable tickle monster, stopping only when there were tears of laughter streaming down my face. He was also the only person that never questioned my effeminate nature. Others would demand that I “man up” and not be so “girly” in my demeanor or interests. Uncle Ronnie, however, owned a hair salon and was the only man I knew who used words like “fabulous” and “honey.” He never tried to stomp out my innate softness; instead, he quietly nurtured it. He encouraged it by laughing at my impressions of Cher. He protected it by giving me my first summer job as a receptionist at the salon. He honored it by having my signed Destiny’s Child poster framed, saying that they were to me what the Supremes had been to him. Shortly after I graduated from college at 21, my mother and Uncle Ronnie had a big falling out. I won’t share the private details of their discord, but I can tell you my mother came to me and plainly told me what happened. Uncle Ronnie did the same. Both had a different experience of the situation, and my Uncle Ronnie in particular expressed being hurt. I had never known them to disagree on anything, let alone have a fight, so I wasn’t used to being in the middle. But based on my understanding of parental fights from those ’90s TV shows, the child always picks a side. Since Uncle Ronnie was my godfather and not my biological father, my choice was clear: Blood is thicker than water. I chose my mother and stopped reaching out to my godfather. At 25, I was working for a fitness company called Flywheel Sports. Our flagship studio at the time was in the Flatiron district in Manhattan. I would often teach 7 a.m., 8 a.m. and 9 a.m. classes, which meant, before my afternoon sessions, I would have what we instructors referred to as “second breakfast” — too early for lunch, but still a full meal because I always ate before my classes and needed even more food after. As I was walking to the Starbucks around the corner, still sweating in my company-branded tank top and shorts, I switched my phone off airplane mode. The first notification to pop up was a voice mail message from Uncle Ronnie. I hadn’t spoken to him in four years. I stopped on the sidewalk, my stomach growling but my voracious heartbeat drowning it out, and pressed play. “Brandon, it’s your godfather. This is getting ridiculous. Now cut the shit and call me.” As I pulled the phone from my ear, I could feel my hand shaking. He was angry. And rightfully so — his falling out was with my mother, not me. “I’ll call him back,” I thought. “I have to call him back. I will call him back.” My stomach rumbled, and I was reminded of my usual routine. I walked into Starbucks and continued my day. I didn’t call him back. A few months later — on Nov. 1, 2013, to be exact — I got a voice mail message from my mother. “Hey Bran, I’m calling because Uncle Ronnie died today.” I don’t remember the rest of it because an enormous wave of shock ran through my veins. Then, deep guilt. To this day I don’t know if he knew then that he was on his final trip around the sun, but of course I wonder if that’s why he called. If he was trying to tell me. I didn’t attend his funeral, which took place in Delaware, where he was from originally. After my grandmother’s homegoing only three years earlier, I couldn’t bring myself to experience that again. I also felt too much shame. As a second grader, I had been embarrassed of not having a father. Now, I was faced with the devastating reality that I did in fact have one and didn’t treasure him. And now he was gone. A little over eight years later — which also happens to be the length of time I’ve been in therapy — I can see the undeniable imprint his life made on mine. I may not have resembled Uncle Ronnie physically — my skin darker, my face rounder, my frame bigger — but there are few words I love more than “fabulous” and “honey.” Few things I love more than art and furniture. Few places I love more than a bougie restaurant. Few sensations I miss more than his insatiable tickle monster. We may not have been blood, but I belonged to him before we ever met. And though I may not deserve it, he still manages to be my life’s compass. He still manages to be my father. I may have lost him, but I’ll always be his son.                                                                                                                                                \n",
       "8   This essay is part of a collaborative project with Black History, Continued. We invited readers and renowned writers to respond to the question “What is Black love today?” Two summers before Mary J. Blige crooned soulfully about searching for a “Real Love,” I found mine. I was 11 years old.  I haven’t seen him since, and I have no idea where he is now, so for our purposes I’ll use his initial: L. In the summer of 1989, my family had moved to South Jamaica, Queens, and a year later L. and his mother moved into a house across the street.  He rode into my life doing tricks on the wheels of a BMX bike accented with a checkerboard frame and handlebar grips. I had a bike, too, but I never tried the tricks that L. did. I was not that kind of boy. I was more apt to read my mother’s romance novels or spend all day during school breaks watching soap operas. I was the kind of boy more likely to fall in love than to fall off a bike. I was sitting on the porch reading a romance novel when L. turned the corner. He rode his bike over to me, standing on the bike’s pedals, towering over me as I read. “You want to ride with me?” he asked. “Uh, OK. Let me put this in the house,” I said, stumbling to my feet. Minutes later we were riding our bikes side by side. For boys like us — Black boys whose worlds could at once seem large and daunting and at the same time feel small and constricting — mounting our bikes and going beyond our immediate neighborhood was a freedom ride. That first ride, taken amid the promise of a New York springtime, turned into dozens of rides. We began to spend time together outside of bike riding. We pooled our allowances and went to the bodega to fill up brown paper bags with Now & Laters, Lemonheads, Boston Baked Beans and penny candy to share as we played with my Ninja Turtles action figures. As summer ended and the day when school would begin drew near (a year when I would start the fifth grade and L. would start the sixth) I felt real sadness. My stomach was upset. “Did I eat too many sweets?” I thought. It was then that I remembered other people felt this way: the characters in those romance novels and soaps.  Almost immediately my stomach was set right because I realized the answer was simple. I liked L. every bit as much as my favorite soap heroine, Erica Kane, loved each and every one of her husbands. “I like you,” I told him. “I like you, too,” he replied. “No, I like you, like you,” I said. “OK fool. I know,” he said. We stared at each other for a second before going back to playing with our action figures, until my aunt said it was time for dinner. During the last days of summer, he and I hung out as always. The night before the first day of school, he said, “I want to give you something.” He reached into his pocket and pulled out a ring, his mother’s. It was gold with a medium-size amber stone in an oval basket setting. The ring was so tiny that even as a child, though a chubby one, I could fit it only on my pinkie. The next day he and I walked to school together. Once at school we went to our different classes but I was still wearing the ring. That whole morning I played with it, waiting for lunch and recess. This would be the next time we’d see each other. I got my lunch tray and sat down to eat, spotting L. in the sixth-grade section. I waved at him from across the room. He smiled widely, just enough to expose a chipped left incisor, and he gave me a soldier’s salute and sat down. I smiled and turned to my lunch. As I picked up my spork to eat, I looked at the ring on my left pinkie and began to daydream of our beautiful summer together. My daydream was interrupted by the voice of a classmate, the school gossip. She was an adolescent Black Barbara Walters, full of questions. Once she set her sights on you there was no escape. “Ooooh, that’s so niiiiiice,” she said, pointing to the ring. “Is that your mom’s ring?” “No.” I said. With her it was best to keep it short. “Whose is it? Where did you get it from?” she asked.  I told her who had given it to me. “Oh, in sixth grade? That’s why you waved at him. Is he your boyfriend?” “Yes,” I said. “Ooooh, that’s so sweet. Boys liking boys,” she said, rolling her eyes and walking away. I smirked triumphantly, believing she must be jealous. It never occurred to me that she might roll her eyes for any other reason. After school, I waited to walk home with him but he never showed. Nor was he on the stoop of his house when I reached our street. I ran in to my house, did my homework lightning fast and changed into my play clothes. I ran to L.’s house and knocked on the door. No answer. I sat on his steps and waited. About fifteen minutes passed before I heard footsteps from inside the house. I jumped up; it was him. I smiled and said, “Want to ride?” But he did not smile back. Before I could ask what was wrong, he punched me in the eye.  My head was spinning, but I managed to steady myself and say, “Why’d you?!?” as he ran toward me. I thought, for a moment, that he was coming to help me, but instead he hit me again. At that point, I did the only thing that made sense to me: I hit him back. Suddenly we were in the street, fighting like strangers. “Aunt Lorry!” my cousin screamed. “They’re out here fighting!” Within seconds my aunt ran toward us to pull us apart. “What happened? I thought y’all were friends,” she said as soon as she and I were in the house. I couldn’t even speak. “Eric! What happened?” Still nothing. Then finally, “I thought he liked me,” I said, looking at the ground. “He said he liked me.” I burst into tears, a full-on ugly cry. “Oh, Eric,” Aunt Lorry said, as she hugged me and let me sob into her chest. For days, L. and I didn’t see each other. Then another one of my cousins, also in our school’s sixth grade, told us that she had a new boyfriend.  “Who is it?” someone asked.  She said his name. “You know, from across the street.”  I walked off quietly.  Heartbreak, combined with confusion and anger form a very specific pain. Add in guilt and my despair was all consuming. I felt guilty because, as I tried to make sense of everything, I recalled my gossipy classmate’s eyes rolling and her toothless grin as she walked away from our conversation. I remembered seeing that same grin in other instances. It was not a nice grin at all. It was “nice-nasty,” as my Mama would say. I had given people a way to be “nice nasty” to L., and this must have hurt him. I sat the rest of the day in my room staring at the ring. That evening, I walked across the street to his house. I dropped the ring through the door’s mail slot. I immediately heard footsteps inside so I ran back to my house, closing my door just as I saw L.’s mother open her door and look around, holding the ring in her hand. Two months later, in November, I sat on the steps reading a book when a van pulled up in front of L.’s house. Within minutes, his mother was putting boxes in the trunk of the van. It took a minute to register that L. and his mother were moving. By the time it was clear to me, L. was walking down the stairs. As he went to get into the van, we made eye contact for the first time in what felt like a lifetime. He smiled, wide enough to expose that chipped left incisor, saluted me like a soldier again, got in the van and they drove away. After everything, L. exited my life as abruptly as he’d entered it. I never saw or spoke with him again. Because of him, I have come to know that love is never apolitical, even in adolescence. Love only works if all involved are accountable to that proposition. As Black boys we lived in a world that did not let us love ourselves, let alone have space to love each other.  But I still cherish the innocent and honest moments when we were just two boys who like liked each other, before the world came in and pulled us apart.                                                                                                                                                                                                                                                                                                                                                                                                                                                                                                                                                                                                                                                                                                                                                                                                                                                                                   \n",
       "9   This essay is part of a collaborative project with Black History, Continued. We invited readers and renowned writers to respond to the question “What is Black love today?” A few days before my last day at my job administering a college scholarship program, I’d received an email from someone named Dani. I’d contacted her to make an appointment, but she never showed. On my last day, as I did one final skim through my emails, I stopped at hers again. I zoomed in on her Outlook profile picture. Half of her hair fell in a cascade of locks the color of honey, while the rest faded into skin the same color as her eyes. Her smile was irresistible. Just past noon, I headed out to lunch, locking my computer and opening my office door to leave. And there she was. She wore a black baseball hat pulled down just above her eyes, a floral button-up shirt and Vans, with a skateboard tucked under her arm. I watched as she investigated the posters on my office walls, the books on my shelf and the pictures on my desk. She had an energy that pulled at me like a bad habit. “Is this your sister?” she asked, pointing to a picture of me and my partner sitting on a bench holding hands. I couldn’t tell if she was serious or not. “No, that’s my partner.” “Oh, how long have y’all been together?” “A little over two years.” “Humph.” She sat down and I tried to dive into the reason she’d come to visit me, but all her questions were about my personal life: Where are you from? How is it that we never ran into each other on campus before today? What do you do outside of work? I told her I was a poet, and we started vibing about the monthly Slam event we both had connections to. I tried to let her know I’d be at the Slam later that night without it sounding like an invitation. She simply nodded. That night, as it snowed like the entire season decided to happen all at once, I got dressed for the event then went downstairs to find my partner sitting on the couch, playing Xbox. “You sure you don’t want to go?” I asked on my way out the door. Her eyes remained locked on the TV. “Have a good time and be careful driving.” About an hour into the event, Dani walked in. She hugged me and took the seat next to me. On my way up to the mic, I could feel her eyes follow me. My voice and hands shook as I asked the audience for grace since I hadn’t performed in a couple of years. I looked straight ahead and in my direct line of sight was Dani, urging me on. Later, she took the stage. Unlike every other artist that night, she performed without the mic. I had never heard anyone the way I heard her that night. And I could tell she knew it. I met up with Dani at a coffee shop the following week. I told her all about the things in my relationship that were making me unhappy. As we sat across from each other, her eyes reached for the parts of me that she knew weren’t seen very often. Coffee shops became our thing after that. I’d arrive and she’d be waiting for me with my drink already ordered and her hands and heart out for me to rest my sadness in. Things were getting worse at home. My partner was emotionally absent; Dani was always there to listen. My partner hardly ever said she loved me; Dani told me I deserved to be loved. The more my partner abandoned me, the more Dani became necessary. This was dangerous for us both because I had no intention of leaving my partner. I was married to the idea of her, and of us: of our history, our house and our potential for future children. The promise of all that still seemed more realistic to me than running off with a woman who’d just come into my life out of nowhere. Dani had mentioned to me she was a healer and, about a year after we met, I told her about a longstanding pain in my uterus that had recently gone from tolerable to unbearable. My doctor always said I just had a treacherous menstrual cycle — nothing to worry about. Dani invited me to her apartment for a second opinion. Her living room was full of plants and golden light that seeped in from the setting sun. I lay on her yoga mat while she lit white sage and Palo Santo, tracing my body with the smoke. She held my hand and asked me to trust her. I watched as she closed her eyes and rubbed her hands together, placing her palms on my belly. When she opened her eyes, she told me to revisit my doctor and to ask about uterine fibroids. I went back to my doctor the following week and asked her to check for fibroids. After she scheduled an ultrasound and did a proper exam, she identified my fibroids, some of which were the size of tennis balls. Dani had been right. I fell in love with her at that moment of diagnosis. I’d been stuck chasing a fantasy version of my relationship but Dani was the one who made me feel real and alive. Yet I still couldn’t leave my relationship. I’d taken too long to wake up. Before she left my life, Dani sat with me in the middle of her floor, my hands resting in hers. She told me that I was her favorite person and that she just wanted to love me the way I deserved but she knew I still loved my partner too much to leave her. She told me that she couldn’t keep breaking her own heart even if it meant helping me to mend mine. Shortly after that, she was gone. I eventually moved out and left my partner, who honestly seemed happy to have the out. As I sit here now, feeling more alone than ever before, I wonder why the love I had that was painful had such a strong hold on me, while the love Dani offered that was healing was the one I kept at bay. My surgery to remove the fibroids from my uterus is now just a few weeks away. I realize that, when Dani left my life, the magic I was coming to know went with her. I’m still not sure how I will heal without it.                                                                                                                                                                                                                                                                                                                                                                                                                                                                                                                                                                                                                                                                                                                                                                                                                                                                                                                                                                                                                                                                                                                                                                                                                                                                                                                                                                                                                                                                                                                                                                                                                                                                                                                                                                                                                                                                                                                                                                                                                                                                                                                                                                                                                                                                                                                                                                                                                                                                                                                                                                                                                                                                                                                                                                                                                                                                                                                                                                                                                                                                                    \n",
       "10  This essay is part of a collaborative project with Black History, Continued. We invited readers and renowned writers to respond to the question “What is Black love today?” I met her the way it felt like most people met in 2006. Which means we met on Myspace. Its search function allowed you to filter for gender (female), age (22-28), location (within 25 miles of 15232) and race (Black). I was 27, newly single and aggressively broke. So browsing curated thumbnails from my bedroom was better than the club. She checked all my boxes. Fine. Witty. Active. Single. Age-appropriate. Not too crunchy or churchy. Enough of a sense of humor to think I’m funny, which is all that really mattered. And, most important, had shared enough information on her profile that I could craft a DM to prove I’d read it. “Finally, someone else who thought Val Kilmer was the best Batman.” She replied 20 minutes later — “He was the best Elvis too!” — proving she’d read my profile (I’d listed “True Romance” as one of my favorite movies). I waited 15 minutes to write back. Couldn’t seem too thirsty. She possessed no such need for performative coolness and wrote back immediately. Four hours and dozens of jokes, vets and flirts later, we agreed to meet at Barnes & Noble at 7 the next evening. I rolled up at 6:50. She was already there. It reminded me of that diner scene in “Goodfellas,” where Jimmy arrives so early to meet Henry that Henry deduces that Jimmy planned to kill him. I didn’t think she wanted me dead, so this was good news. In person she was everything she was online, but 3 percent better. The conversation was easy, like water. Not even like solid water, but like walking through a gentle drizzle. We drank tea, we browsed books, we played footsie. It was the third best first date I’d ever been on. It was a Monday. We made soft plans to kick it that weekend. Maybe a movie. Maybe food. Maybe more. I called Wednesday to confirm. Voice mail. Hmm. The next morning, she texted back. “Hey homie! It’s been a crazy week. Rain check for this weekend, but let’s try again soon!” In movies sometimes it takes a character a few more interactions like this to get the hint — a montage of unreturned texts and indisputably platonic voice mail messages as they pace hallways and make sad faces in car mirrors. This was not that. If the day-later text as a response to my call was a sign, the “Hey homie!” was a flashing neon billboard. I was disappointed, sure. But mostly just confused. I’d been on enough first dates to know when things were going well enough to warrant a second. This had felt like that. We remained friendly (and still are). Or whatever you call the Tilt-a-Whirl of communication when you text someone Thursday afternoon, and they reply Sunday evening, and you reply Wednesday morning. But even though I had moved on, I was still curious about what had caused her to shift from hot to cold so quickly. And then, a month or so after our date, she posted one of those rapid response questionnaires to her profile. “Fav food? Tacos! Fav artist? Aaliyah!” As I scrolled down, I found my answer. “Dealmaker? GREAT SMILE! Dealbreaker? BAD TEETH!” When I was 11, and had just moved with my parents to East Lib, Pittsburgh, this brazen stubby white boy started calling me “Beaver” because of my slightly bucked teeth and perpetual overbite, and that nickname stuck. (People who know me from then still know me as “Beav.”) By the time I reached high school and the rest of my face began to match my front teeth, a gap formed between them. Between the gap and the overbite, my teeth did the thing that happens when misaligned entities repeatedly crash into each other. Some grinded, some eroded, some sharpened, some separated from each other — slowly, but decisively, like my mouth was Pangea. (And then, while playing pickup basketball in 2005, an accidental elbow to the grill shifted one of them, closing the front gap by a millimeter or so but also leaving that tooth slightly crooked.) I cannot recall a time when my teeth were not in need of drastic correction. Specifically, I cannot recall a time when I felt like my teeth were not in need of drastic correction — a feeling that lurked around and eventually consumed me because the world kept reminding me. Cartoons distinguished villains by giving them exaggerated or missing choppers. In movies, if you had noticeably bad teeth, you could be a goblin. Or a dope fiend. Or a Mississippian cannibal. If lucky, you could be the “not hot” dweeb who, by the third act, Frisbees their braces off and becomes Halle Berry. In real life, if I were roasted by friends or heckled by crowds during away games, my teeth were usually the target. I remember how I felt when first clocking my date in the Barnes & Noble that night. She was sitting at one of those tiny and wobbly circular tables and smiled at me as I approached. I started to smile back, but then I felt like I’d just entered a room to take an exam I’d forgotten to study for. She’d seen all of the pictures on my profile. Her wanting to meet so quickly was an indicator of her enthusiastic approval of them. I was also at least five inches taller than her, which I know is a concern that women who meet men over the internet sometimes have. But she hadn’t seen my teeth. The pictures on my profile captured the range of possible looks I could have without revealing them — smirking during a wedding toast, holding my infant cousin and squinting at her, so close to the camera’s flash that all you saw in my mouth was an indistinguishable white. A gallery curated to hide what I believed needed to be hidden. I was a toothfish. She’d have to see my teeth eventually though. A relationship can’t blossom if one of the people in it only opens their mouth when their partner blinks. So I decided to open-mouth smile back. There are infinite possible reasons she could’ve decided that night that I was cool enough to be cool with, but not attractive enough to be more with. First dates are when you’re supposed to be discerning and particular. Which is a nice way of saying petty. And the gap between my front teeth is just one line in that poem. But I also know enough Black women interested in Black men to know that the symmetrical contrast of straight bright whites against deep brown skin is a thing. And that meeting a man who doesn’t have that thing can be the visual equivalent of the “The Price Is Right” losing horn. And I know that in America, good, strong, bright, straight teeth signal good, strong, bright, straight money. The whiter the teeth, the whiter the credit. An open mouth is a résumé, a Carfax and a FICO score. And this, I know, is the real source of my neurosis. I’m 43. For 35 or so of those years, I existed either below the poverty line or a missed paycheck away from it. I’ve been broke-adjacent. Broke. Poor. My mouth is a memoir. Of canceled orthodontist appointments when my parents couldn’t afford the premium. Of never having two consecutive years of health care as an adult, until I got Obamacare in 2014. Of shame. That’s the tricky one. The shame. I know now that there was nothing to be ashamed of. That doing well, while Black in America, is the exception not the norm, and that the exception could change with a coin flip. But then, all I wanted was a pantry. A pantry, to me, meant you had extra. Not too much. Not Jack and Jill money or anything. But just enough to maybe not sweat too hard all the damn time. A pantry also meant good teeth. Cause why wouldn’t you have them if you could afford extra ketchups? This anxiety ain’t new if you’re Black. We’re the world champs at faking it till you make it. I couldn’t even really do that, though. Because as much as I’d try to stunt, my teeth told the truth. But maybe my teeth lied to me, too. I think about all the times I’ve been asked why I don’t smile more. It always felt like a taunt, because I’d think “Ain’t it obvious?” But maybe it wasn’t as obvious as I thought. Maybe that’s just me getting gamed by shame. Maybe the Black women who have been interested in me — the Black women who’ve loved me, the Black woman who married me — weren’t compelled to overlook this conspicuous flaw because they liked the other parts, like I was a nice new car with a cracked windshield. Maybe, to them, there was nothing to overlook. Maybe, to them, they were just my teeth. Maybe, to them, I have a nice smile. Maybe when I opened my mouth at that Barnes & Noble, she thought I had a nice smile too. I could just ask her. We’re still cool. I don’t care as much anymore though. Growth, right? Maturity? Perspective? Nah. I just have a pantry now. Invisalign too.                        \n",
       "\n",
       "                                                    id  \\\n",
       "2   nyt://article/9bf4e7f6-c4f5-57c7-b77f-5b55736fa99c   \n",
       "3   nyt://article/2ce87e3f-5333-5561-ad65-47608e6b8d5f   \n",
       "4   nyt://article/595d2c38-f78c-5aae-8b2c-4730e868637e   \n",
       "5   nyt://article/aa4266c4-81b5-5807-852b-95dbf7d9cd56   \n",
       "7   nyt://article/4b9b1bc6-5339-5e25-9331-0fad905c0fc3   \n",
       "8   nyt://article/a0bdb2ff-72ff-5f97-b3de-9133847a8ac7   \n",
       "9   nyt://article/d13c8194-7a13-583a-ab4b-d109f8463190   \n",
       "10  nyt://article/4b7f30b3-2715-5454-92ae-d0119da1fe92   \n",
       "\n",
       "                                                   headline  \\\n",
       "2   The Lesbian Writer and Her Flamboyant Gay Husband         \n",
       "3   Beyond Cool, She Was Fly. Her Confidence Gave Me Wings.   \n",
       "4   Accepting Applications for a Black Boyfriend              \n",
       "5   Love Isn’t a Zero-Sum Game                                \n",
       "7   Our Bond Was Thicker Than Blood                           \n",
       "8   Two Boys on Bicycles, Falling in Love                     \n",
       "9   She Wouldn’t Break Her Heart to Mend Mine                 \n",
       "10  Was It Me? Or My Teeth?                                   \n",
       "\n",
       "                                                                                                                        abstract  \\\n",
       "2   Peter taught me to laugh at fate as we lived our dream. At least for a while.                                                  \n",
       "3   I had no example of love, not for girls that looked like me. Until my cousin Tiffany.                                          \n",
       "4   After a lifetime of dating white men, I hoped a new romance could offer a chance at love, and at embracing my own Blackness.   \n",
       "5   I thought the open relationship was the problem. But it was me.                                                                \n",
       "7   No matter how hard I prayed, my father never appeared. But my godfather always did.                                            \n",
       "8   He gave me a ring. He also punched me in the eye. I learned a lot that summer about how “nice-nasty” the world can be.         \n",
       "9   She was a healer, but was I ready to be fixed?                                                                                 \n",
       "10  In America, a smile is like a résumé. I was afraid mine wasn’t closing the deal.                                               \n",
       "\n",
       "                                                                                                                         snippet  \\\n",
       "2   Peter taught me to laugh at fate as we lived our dream. At least for a while.                                                  \n",
       "3   I had no example of love, not for girls that looked like me. Until my cousin Tiffany.                                          \n",
       "4   After a lifetime of dating white men, I hoped a new romance could offer a chance at love, and at embracing my own Blackness.   \n",
       "5   I thought the open relationship was the problem. But it was me.                                                                \n",
       "7   No matter how hard I prayed, my father never appeared. But my godfather always did.                                            \n",
       "8   He gave me a ring. He also punched me in the eye. I learned a lot that summer about how “nice-nasty” the world can be.         \n",
       "9   She was a healer, but was I ready to be fixed?                                                                                 \n",
       "10  In America, a smile is like a résumé. I was afraid mine wasn’t closing the deal.                                               \n",
       "\n",
       "                                                                                                                                                                 lead_paragraph  \\\n",
       "2   This essay is part of a collaborative project with Black History, Continued. We invited readers and renowned writers to respond to the question “What is Black love today?”   \n",
       "3   This essay is part of a collaborative project with Black History, Continued. We invited readers and renowned writers to respond to the question “What is Black love today?”   \n",
       "4   This essay is part of a collaborative project with Black History, Continued. We invited readers and renowned writers to respond to the question “What is Black love today?”   \n",
       "5   This essay is part of a collaborative project with Black History, Continued. We invited readers and renowned writers to respond to the question “What is Black love today?”   \n",
       "7   This essay is part of a collaborative project with Black History, Continued. We invited readers and renowned writers to respond to the question “What is Black love today?”   \n",
       "8   This essay is part of a collaborative project with Black History, Continued. We invited readers and renowned writers to respond to the question “What is Black love today?”   \n",
       "9   This essay is part of a collaborative project with Black History, Continued. We invited readers and renowned writers to respond to the question “What is Black love today?”   \n",
       "10  This essay is part of a collaborative project with Black History, Continued. We invited readers and renowned writers to respond to the question “What is Black love today?”   \n",
       "\n",
       "      pub_date        news_desk section type_material  word_count  \n",
       "2   2022-02-11  SpecialSections  Style   News          1619        \n",
       "3   2022-02-11  SpecialSections  Style   News          1304        \n",
       "4   2022-02-11  SpecialSections  Style   News          1580        \n",
       "5   2022-02-11  SpecialSections  Style   News          1627        \n",
       "7   2022-02-11  SpecialSections  Style   News          1683        \n",
       "8   2022-02-11  SpecialSections  Style   News          1561        \n",
       "9   2022-02-11  SpecialSections  Style   News          1183        \n",
       "10  2022-02-11  SpecialSections  Style   News          1650        "
      ]
     },
     "execution_count": 17,
     "metadata": {},
     "output_type": "execute_result"
    }
   ],
   "source": [
    "modern_love_df_rev[modern_love_df_rev.essay.str.contains('collaborative project')]"
   ]
  },
  {
   "cell_type": "code",
   "execution_count": 18,
   "metadata": {},
   "outputs": [
    {
     "name": "stdout",
     "output_type": "stream",
     "text": [
      "172\n"
     ]
    },
    {
     "name": "stderr",
     "output_type": "stream",
     "text": [
      "<ipython-input-18-b77f0ab32bac>:8: SettingWithCopyWarning: \n",
      "A value is trying to be set on a copy of a slice from a DataFrame.\n",
      "Try using .loc[row_indexer,col_indexer] = value instead\n",
      "\n",
      "See the caveats in the documentation: https://pandas.pydata.org/pandas-docs/stable/user_guide/indexing.html#returning-a-view-versus-a-copy\n",
      "  modern_love_df_rev['essay'] = modern_love_df['essay'].map(sentences_to_remove)\n"
     ]
    }
   ],
   "source": [
    "# remove opening sentences from collaborative project with Black History, Continued\n",
    "\n",
    "sentences = 'This essay is part of a collaborative project with Black History, Continued. We invited readers and renowned writers to respond to the question “What is Black love today?” '\n",
    "print(len(sentences))\n",
    "sentences[:172]\n",
    "collaborative_project = 'collaborative project'\n",
    "sentences_to_remove = lambda x: x[172:] if collaborative_project in x else x\n",
    "modern_love_df_rev['essay'] = modern_love_df['essay'].map(sentences_to_remove)"
   ]
  },
  {
   "cell_type": "markdown",
   "metadata": {},
   "source": [
    "# Topic modeling utility"
   ]
  },
  {
   "cell_type": "markdown",
   "metadata": {},
   "source": [
    "Before creating a baseline model, create a pipeline function that does the following:\n",
    "\n",
    "- Arguments are the corpus, vectorizer and topic_modeler\n",
    "- Applies these in order\n",
    "- Prints the top 15 words for each topic found from training"
   ]
  },
  {
   "cell_type": "code",
   "execution_count": 125,
   "metadata": {},
   "outputs": [],
   "source": [
    "def make_topics(corpus, vectorizer, topic_modeler, print_n_words=15):\n",
    "    \"\"\"A very simple pipeline.\"\"\"\n",
    "    \n",
    "    # Vectorize documents into a document-word matrix.\n",
    "    doc_word_vectors = vectorizer.fit_transform(corpus)\n",
    "    \n",
    "    # Fit the topic model.\n",
    "    doc_topic_vectors = topic_modeler.fit_transform(doc_word_vectors)\n",
    "    \n",
    "    # Print the topics.\n",
    "    vocab = vectorizer.get_feature_names()\n",
    "    for idx, topic in enumerate(topic_modeler.components_):\n",
    "        # Select the top 15 words in vocab for this topic.\n",
    "        top_words = [vocab[i].upper() for i in topic.argsort()[:-print_n_words-1:-1]]\n",
    "        print(f\"Topic {idx}:\\n\", \", \".join(top_words), \"\\n\")\n",
    "    \n",
    "    return doc_topic_vectors"
   ]
  },
  {
   "cell_type": "markdown",
   "metadata": {},
   "source": [
    "# Make a baseline topic model"
   ]
  },
  {
   "cell_type": "markdown",
   "metadata": {},
   "source": [
    "As priors, use Tfidf vectorizer and NMF topic modeler"
   ]
  },
  {
   "cell_type": "code",
   "execution_count": 103,
   "metadata": {},
   "outputs": [],
   "source": [
    "from sklearn.feature_extraction.text import TfidfVectorizer\n",
    "from sklearn.decomposition import NMF"
   ]
  },
  {
   "cell_type": "code",
   "execution_count": 150,
   "metadata": {},
   "outputs": [
    {
     "name": "stdout",
     "output_type": "stream",
     "text": [
      "Topic 0:\n",
      " THE, AND, OF, TO, IN, WAS, THAT, MY, HAD, IT, AS, ON, WITH, FOR, AT \n",
      "\n",
      "Topic 1:\n",
      " SHE, HER, MY, WAS, TO, MOTHER, ME, AND, HAD, IN, FOR, WITH, WHEN, FATHER, GRANDMOTHER \n",
      "\n",
      "Topic 2:\n",
      " HE, HIS, HIM, MY, WAS, TO, ME, AND, HAD, SAID, WITH, BUT, FOR, IT, FATHER \n",
      "\n",
      "Topic 3:\n",
      " WE, OUR, AND, THE, IN, TO, US, TOGETHER, WERE, OTHER, EACH, ON, OF, FOR, YEARS \n",
      "\n",
      "Topic 4:\n",
      " YOU, TO, IT, THAT, YOUR, IS, LOVE, HAVE, ME, BE, BUT, SAID, NOT, ARE, AND \n",
      "\n"
     ]
    },
    {
     "data": {
      "text/plain": [
       "array([[0.11507637, 0.        , 0.11676861, 0.04370471, 0.02735668],\n",
       "       [0.10669412, 0.02223463, 0.06818305, 0.05797607, 0.00719347],\n",
       "       [0.07581803, 0.15823511, 0.        , 0.0122531 , 0.02779558],\n",
       "       ...,\n",
       "       [0.        , 0.        , 0.05769031, 0.04955557, 0.        ],\n",
       "       [0.03555944, 0.00725304, 0.        , 0.00149665, 0.04506553],\n",
       "       [0.05243624, 0.00447371, 0.00288168, 0.00763272, 0.04180893]])"
      ]
     },
     "execution_count": 150,
     "metadata": {},
     "output_type": "execute_result"
    }
   ],
   "source": [
    "corpus = modern_love_df_rev['essay']\n",
    "vectorizer = TfidfVectorizer()\n",
    "topic_modeler = NMF(5, random_state=42, max_iter=1000) # start with 5 topics\n",
    "\n",
    "make_topics(corpus, vectorizer, topic_modeler)"
   ]
  },
  {
   "cell_type": "markdown",
   "metadata": {},
   "source": [
    "Looks like the topics are capturing lots of stop words - time to remove them!"
   ]
  },
  {
   "cell_type": "markdown",
   "metadata": {},
   "source": [
    "# Topic Model 2 - remove stop words"
   ]
  },
  {
   "cell_type": "markdown",
   "metadata": {},
   "source": [
    "Use spaCy package for text processing"
   ]
  },
  {
   "cell_type": "code",
   "execution_count": 109,
   "metadata": {},
   "outputs": [],
   "source": [
    "import spacy\n",
    "nlp = spacy.load('en_core_web_sm')\n",
    "#from spacy.language import Language"
   ]
  },
  {
   "cell_type": "code",
   "execution_count": 110,
   "metadata": {
    "scrolled": true
   },
   "outputs": [
    {
     "name": "stderr",
     "output_type": "stream",
     "text": [
      "<ipython-input-110-5ef2bef2e572>:2: SettingWithCopyWarning: \n",
      "A value is trying to be set on a copy of a slice from a DataFrame.\n",
      "Try using .loc[row_indexer,col_indexer] = value instead\n",
      "\n",
      "See the caveats in the documentation: https://pandas.pydata.org/pandas-docs/stable/user_guide/indexing.html#returning-a-view-versus-a-copy\n",
      "  modern_love_df_rev['spacy_essay'] = docs\n"
     ]
    }
   ],
   "source": [
    "docs = list(nlp.pipe(modern_love_df_rev['essay']))\n",
    "modern_love_df_rev['spacy_essay'] = docs"
   ]
  },
  {
   "cell_type": "code",
   "execution_count": 133,
   "metadata": {},
   "outputs": [
    {
     "name": "stderr",
     "output_type": "stream",
     "text": [
      "<ipython-input-133-2162efaf4326>:2: SettingWithCopyWarning: \n",
      "A value is trying to be set on a copy of a slice from a DataFrame.\n",
      "Try using .loc[row_indexer,col_indexer] = value instead\n",
      "\n",
      "See the caveats in the documentation: https://pandas.pydata.org/pandas-docs/stable/user_guide/indexing.html#returning-a-view-versus-a-copy\n",
      "  modern_love_df_rev['essay_no_stopwords'] = docs_no_sw\n"
     ]
    }
   ],
   "source": [
    "docs_no_sw = [[str(w) for w in doc if not w.is_stop] for doc in docs]\n",
    "modern_love_df_rev['essay_no_stopwords'] = docs_no_sw"
   ]
  },
  {
   "cell_type": "code",
   "execution_count": 149,
   "metadata": {},
   "outputs": [
    {
     "name": "stdout",
     "output_type": "stream",
     "text": [
      "Topic 0:\n",
      " SAID, DAY, NEW, WAY, FELT, TOLD, WANTED, FATHER, LATER, ASKED, HOME, HUSBAND, PEOPLE, THOUGHT, KNEW \n",
      "\n",
      "Topic 1:\n",
      " TIME, DAY, NEW, TOLD, LATER, ASKED, HOME, HUSBAND, NIGHT, THOUGHT, YEAR, FAMILY, LONG, 3½, 2½ \n",
      "\n",
      "Topic 2:\n",
      " YEARS, DAY, NEW, WAY, TOLD, WANTED, ASKED, HOME, KNEW, THOUGHT, NIGHT, LONG, FAMILY, GOING, OLD \n",
      "\n",
      "Topic 3:\n",
      " LIFE, DAY, WAY, FATHER, ASKED, PEOPLE, THOUGHT, MAN, KNEW, YEAR, FAMILY, 3½, FRIENDS, 2½, GOING \n",
      "\n",
      "Topic 4:\n",
      " MOTHER, DAY, WAY, WANTED, TOLD, HOME, ASKED, LATER, HUSBAND, THOUGHT, KNEW, LONG, GOOD, AWAY, GOT \n",
      "\n"
     ]
    },
    {
     "data": {
      "text/plain": [
       "array([[5.90690174e-60, 9.42748752e-44, 2.66349557e-36, 6.21628273e-32,\n",
       "        5.95953483e-32],\n",
       "       [5.82743839e-57, 3.53257698e-42, 0.00000000e+00, 0.00000000e+00,\n",
       "        0.00000000e+00],\n",
       "       [0.00000000e+00, 0.00000000e+00, 0.00000000e+00, 0.00000000e+00,\n",
       "        0.00000000e+00],\n",
       "       ...,\n",
       "       [0.00000000e+00, 0.00000000e+00, 0.00000000e+00, 0.00000000e+00,\n",
       "        0.00000000e+00],\n",
       "       [0.00000000e+00, 0.00000000e+00, 0.00000000e+00, 0.00000000e+00,\n",
       "        0.00000000e+00],\n",
       "       [0.00000000e+00, 0.00000000e+00, 0.00000000e+00, 0.00000000e+00,\n",
       "        0.00000000e+00]])"
      ]
     },
     "execution_count": 149,
     "metadata": {},
     "output_type": "execute_result"
    }
   ],
   "source": [
    "corpus = [token for doc in docs_no_sw for token in doc]\n",
    "vectorizer = TfidfVectorizer()\n",
    "topic_modeler = NMF(5, random_state=42, max_iter=1000)\n",
    "\n",
    "make_topics(corpus, vectorizer, topic_modeler)"
   ]
  },
  {
   "cell_type": "markdown",
   "metadata": {},
   "source": [
    "Things are looking better, but now it's time to remove non-alpha characters."
   ]
  },
  {
   "cell_type": "markdown",
   "metadata": {},
   "source": [
    "# Topic Model 3 - remove punctuation and non-alpha characters"
   ]
  },
  {
   "cell_type": "code",
   "execution_count": 135,
   "metadata": {},
   "outputs": [
    {
     "name": "stderr",
     "output_type": "stream",
     "text": [
      "<ipython-input-135-98a12ec3e5bf>:3: SettingWithCopyWarning: \n",
      "A value is trying to be set on a copy of a slice from a DataFrame.\n",
      "Try using .loc[row_indexer,col_indexer] = value instead\n",
      "\n",
      "See the caveats in the documentation: https://pandas.pydata.org/pandas-docs/stable/user_guide/indexing.html#returning-a-view-versus-a-copy\n",
      "  modern_love_df_rev['essay_alpha'] = docs_no_sw_alpha\n"
     ]
    }
   ],
   "source": [
    "docs_no_sw_alpha = [[str(w) for w in doc if w.is_alpha and \\\n",
    "              (not w.is_stop and not w.is_punct and not w.like_num)] for doc in docs]\n",
    "modern_love_df_rev['essay_alpha'] = docs_no_sw_alpha"
   ]
  },
  {
   "cell_type": "code",
   "execution_count": 151,
   "metadata": {},
   "outputs": [
    {
     "name": "stdout",
     "output_type": "stream",
     "text": [
      "Topic 0:\n",
      " SAID, DAY, NEW, WAY, TOLD, FELT, WANTED, ASKED, HOME, FATHER, LATER, PEOPLE, HUSBAND, THOUGHT, KNEW \n",
      "\n",
      "Topic 1:\n",
      " TIME, TOLD, FELT, WANTED, LATER, HOME, PEOPLE, HUSBAND, THOUGHT, KNEW, MAN, CHILDREN, GOOD, GOING, AWAY \n",
      "\n",
      "Topic 2:\n",
      " YEARS, NEW, TOLD, WANTED, FELT, FATHER, HUSBAND, PEOPLE, THOUGHT, MAN, YEAR, CHILDREN, GOING, GOOD, AWAY \n",
      "\n",
      "Topic 3:\n",
      " LIFE, DAY, WAY, FELT, LATER, ASKED, NIGHT, MONTHS, OLD, LEFT, MET, TOOK, LITTLE, FOUND, HOUSE \n",
      "\n",
      "Topic 4:\n",
      " MOTHER, DAY, LATER, FATHER, PEOPLE, NIGHT, MAN, KNEW, THOUGHT, YEAR, FAMILY, FRIENDS, MONTHS, OLD, RIGHT \n",
      "\n"
     ]
    },
    {
     "data": {
      "text/plain": [
       "array([[0.00000000e+00, 0.00000000e+00, 3.45410900e-40, 0.00000000e+00,\n",
       "        0.00000000e+00],\n",
       "       [1.63674132e-62, 7.62924334e-45, 0.00000000e+00, 2.42571973e-31,\n",
       "        0.00000000e+00],\n",
       "       [0.00000000e+00, 0.00000000e+00, 0.00000000e+00, 0.00000000e+00,\n",
       "        0.00000000e+00],\n",
       "       ...,\n",
       "       [0.00000000e+00, 0.00000000e+00, 0.00000000e+00, 0.00000000e+00,\n",
       "        0.00000000e+00],\n",
       "       [0.00000000e+00, 0.00000000e+00, 0.00000000e+00, 0.00000000e+00,\n",
       "        0.00000000e+00],\n",
       "       [0.00000000e+00, 0.00000000e+00, 0.00000000e+00, 0.00000000e+00,\n",
       "        0.00000000e+00]])"
      ]
     },
     "execution_count": 151,
     "metadata": {},
     "output_type": "execute_result"
    }
   ],
   "source": [
    "corpus = [token for doc in docs_no_sw_alpha for token in doc]\n",
    "vectorizer = TfidfVectorizer()\n",
    "topic_modeler = NMF(5, random_state=42, max_iter=1000)\n",
    "\n",
    "make_topics(corpus, vectorizer, topic_modeler)"
   ]
  },
  {
   "cell_type": "markdown",
   "metadata": {},
   "source": [
    "# Topic Model 4 - keep only nouns"
   ]
  },
  {
   "cell_type": "code",
   "execution_count": 146,
   "metadata": {},
   "outputs": [
    {
     "name": "stderr",
     "output_type": "stream",
     "text": [
      "<ipython-input-146-79a2c424c6fe>:5: SettingWithCopyWarning: \n",
      "A value is trying to be set on a copy of a slice from a DataFrame.\n",
      "Try using .loc[row_indexer,col_indexer] = value instead\n",
      "\n",
      "See the caveats in the documentation: https://pandas.pydata.org/pandas-docs/stable/user_guide/indexing.html#returning-a-view-versus-a-copy\n",
      "  modern_love_df_rev['essay_noun'] = docs_no_sw_alpha_nouns\n"
     ]
    }
   ],
   "source": [
    "docs_no_sw_alpha_nouns = [[str(w) for w in doc if w.is_alpha and \\\n",
    "                           (w.pos_ == 'NOUN' or w.pos_ == 'PROPN') and \\\n",
    "                           (not w.is_stop and not w.is_punct and not w.like_num)] \\\n",
    "                          for doc in docs]\n",
    "modern_love_df_rev['essay_noun'] = docs_no_sw_alpha_nouns"
   ]
  },
  {
   "cell_type": "code",
   "execution_count": 152,
   "metadata": {},
   "outputs": [
    {
     "name": "stdout",
     "output_type": "stream",
     "text": [
      "Topic 0:\n",
      " TIME, FATHER, WAY, HUSBAND, NIGHT, YEAR, PEOPLE, FRIENDS, FAMILY, MAN, MONTHS, CHILDREN, THINGS, MARRIAGE, FRIEND \n",
      "\n",
      "Topic 1:\n",
      " YEARS, WAY, FATHER, HUSBAND, FRIEND, PARENTS, SCHOOL, PERSON, BED, THING, NEW, WEEKS, SON, DAUGHTER, WIFE \n",
      "\n",
      "Topic 2:\n",
      " LIFE, WAY, FATHER, HUSBAND, PARENTS, FRIEND, HOUSE, SCHOOL, PERSON, BED, MEN, WORLD, SON, THING, WEEKS \n",
      "\n",
      "Topic 3:\n",
      " MOTHER, FATHER, WAY, HUSBAND, MAN, PEOPLE, YEAR, FAMILY, CHILDREN, HOUSE, THINGS, HOME, EYES, PERSON, BED \n",
      "\n",
      "Topic 4:\n",
      " DAY, PEOPLE, MAN, HUSBAND, YEAR, FAMILY, FRIENDS, CHILDREN, MONTHS, MARRIAGE, THINGS, HOUSE, EYES, HOME, PERSON \n",
      "\n"
     ]
    },
    {
     "data": {
      "text/plain": [
       "array([[2.19369154e-18, 0.00000000e+00, 0.00000000e+00, 0.00000000e+00,\n",
       "        0.00000000e+00],\n",
       "       [0.00000000e+00, 0.00000000e+00, 0.00000000e+00, 0.00000000e+00,\n",
       "        0.00000000e+00],\n",
       "       [0.00000000e+00, 0.00000000e+00, 0.00000000e+00, 0.00000000e+00,\n",
       "        0.00000000e+00],\n",
       "       ...,\n",
       "       [0.00000000e+00, 0.00000000e+00, 0.00000000e+00, 0.00000000e+00,\n",
       "        0.00000000e+00],\n",
       "       [0.00000000e+00, 0.00000000e+00, 0.00000000e+00, 0.00000000e+00,\n",
       "        0.00000000e+00],\n",
       "       [0.00000000e+00, 0.00000000e+00, 0.00000000e+00, 0.00000000e+00,\n",
       "        0.00000000e+00]])"
      ]
     },
     "execution_count": 152,
     "metadata": {},
     "output_type": "execute_result"
    }
   ],
   "source": [
    "corpus = [token for doc in docs_no_sw_alpha_nouns for token in doc]\n",
    "vectorizer = TfidfVectorizer()\n",
    "topic_modeler = NMF(5, random_state=42, max_iter=1000)\n",
    "\n",
    "make_topics(corpus, vectorizer, topic_modeler)"
   ]
  },
  {
   "cell_type": "markdown",
   "metadata": {},
   "source": [
    "# Topic Model 5 - lemmatize tokens"
   ]
  },
  {
   "cell_type": "code",
   "execution_count": 157,
   "metadata": {},
   "outputs": [
    {
     "name": "stderr",
     "output_type": "stream",
     "text": [
      "<ipython-input-157-453f71608ca9>:5: SettingWithCopyWarning: \n",
      "A value is trying to be set on a copy of a slice from a DataFrame.\n",
      "Try using .loc[row_indexer,col_indexer] = value instead\n",
      "\n",
      "See the caveats in the documentation: https://pandas.pydata.org/pandas-docs/stable/user_guide/indexing.html#returning-a-view-versus-a-copy\n",
      "  modern_love_df_rev['essay_lemma'] = docs_no_sw_alpha_nouns_lemma\n"
     ]
    }
   ],
   "source": [
    "docs_no_sw_alpha_nouns_lemma = [[w.lemma_.lower() for w in doc if w.is_alpha and \\\n",
    "                           (w.pos_ == 'NOUN' or w.pos_ == 'PROPN') and \\\n",
    "                           (not w.is_stop and not w.is_punct and not w.like_num)] \\\n",
    "                          for doc in docs]\n",
    "modern_love_df_rev['essay_lemma'] = docs_no_sw_alpha_nouns_lemma"
   ]
  },
  {
   "cell_type": "code",
   "execution_count": 158,
   "metadata": {},
   "outputs": [
    {
     "name": "stdout",
     "output_type": "stream",
     "text": [
      "Topic 0:\n",
      " YEAR, FRIEND, MAN, WAY, CHILD, FATHER, THING, NIGHT, PEOPLE, HUSBAND, MONTH, FAMILY, WOMAN, HAND, PARENT \n",
      "\n",
      "Topic 1:\n",
      " TIME, FRIEND, MAN, THING, FAMILY, HAND, SCHOOL, HOUSE, DATE, STORY, PERSON, DAUGHTER, PLACE, WORLD, FACE \n",
      "\n",
      "Topic 2:\n",
      " DAY, FRIEND, CHILD, THING, PEOPLE, WEEK, HAND, DATE, STORY, WORD, BED, DAUGHTER, PERSON, PLACE, FACE \n",
      "\n",
      "Topic 3:\n",
      " LIFE, MAN, FATHER, HUSBAND, FAMILY, WEEK, HOUSE, HOUR, DATE, WORD, STORY, WORLD, DAUGHTER, WIFE, GIRL \n",
      "\n",
      "Topic 4:\n",
      " MOTHER, WAY, FATHER, CHILD, NIGHT, HUSBAND, PEOPLE, MONTH, WOMAN, WEEK, PARENT, ROOM, MARRIAGE, SCHOOL, EYE \n",
      "\n"
     ]
    },
    {
     "data": {
      "text/plain": [
       "array([[0.        , 0.        , 0.13542786, 0.        , 0.        ],\n",
       "       [0.        , 0.        , 0.        , 0.        , 0.        ],\n",
       "       [0.        , 0.        , 0.        , 0.        , 0.        ],\n",
       "       ...,\n",
       "       [0.        , 0.        , 0.        , 0.        , 0.        ],\n",
       "       [0.        , 0.        , 0.        , 0.        , 0.        ],\n",
       "       [0.        , 0.        , 0.        , 0.        , 0.        ]])"
      ]
     },
     "execution_count": 158,
     "metadata": {},
     "output_type": "execute_result"
    }
   ],
   "source": [
    "corpus = [token for doc in docs_no_sw_alpha_nouns_lemma for token in doc]\n",
    "vectorizer = TfidfVectorizer()\n",
    "topic_modeler = NMF(5, random_state=42, max_iter=1000)\n",
    "\n",
    "make_topics(corpus, vectorizer, topic_modeler)"
   ]
  },
  {
   "cell_type": "markdown",
   "metadata": {},
   "source": [
    "# Look at top most common and least common noun tokens to perhaps remove some"
   ]
  },
  {
   "cell_type": "code",
   "execution_count": 159,
   "metadata": {},
   "outputs": [
    {
     "data": {
      "text/plain": [
       "[('year', 3906),\n",
       " ('time', 3567),\n",
       " ('day', 2973),\n",
       " ('life', 2516),\n",
       " ('mother', 2285),\n",
       " ('friend', 2214),\n",
       " ('man', 2063),\n",
       " ('way', 1914),\n",
       " ('child', 1762),\n",
       " ('thing', 1675),\n",
       " ('father', 1632),\n",
       " ('night', 1580),\n",
       " ('husband', 1508),\n",
       " ('people', 1450),\n",
       " ('woman', 1437),\n",
       " ('month', 1437),\n",
       " ('family', 1426),\n",
       " ('week', 1152),\n",
       " ('hand', 1129),\n",
       " ('parent', 1075),\n",
       " ('room', 1052),\n",
       " ('marriage', 1038),\n",
       " ('house', 972),\n",
       " ('eye', 934),\n",
       " ('school', 928),\n",
       " ('hour', 862),\n",
       " ('home', 820),\n",
       " ('date', 798),\n",
       " ('story', 772),\n",
       " ('bed', 767),\n",
       " ('word', 765),\n",
       " ('son', 742),\n",
       " ('person', 740),\n",
       " ('world', 719),\n",
       " ('daughter', 718),\n",
       " ('wife', 708),\n",
       " ('girl', 702),\n",
       " ('place', 700),\n",
       " ('moment', 689),\n",
       " ('face', 664),\n",
       " ('new', 664),\n",
       " ('boy', 658),\n",
       " ('guy', 658),\n",
       " ('morning', 656),\n",
       " ('car', 650),\n",
       " ('apartment', 647),\n",
       " ('boyfriend', 643),\n",
       " ('wedding', 635),\n",
       " ('heart', 633),\n",
       " ('head', 617)]"
      ]
     },
     "execution_count": 159,
     "metadata": {},
     "output_type": "execute_result"
    }
   ],
   "source": [
    "noun_tokens = [token for doc in modern_love_df_rev['essay_lemma'] for token in doc]\n",
    "set_tokens = set(noun_tokens)\n",
    "word_freq = Counter(noun_tokens)\n",
    "word_freq.most_common(50)"
   ]
  },
  {
   "cell_type": "code",
   "execution_count": 161,
   "metadata": {},
   "outputs": [
    {
     "data": {
      "text/plain": [
       "[('phillip', 1),\n",
       " ('sattler', 1),\n",
       " ('gabriella', 1),\n",
       " ('etoniru', 1),\n",
       " ('burbank', 1),\n",
       " ('latimer', 1),\n",
       " ('colleen', 1),\n",
       " ('goodhue', 1),\n",
       " ('marla', 1),\n",
       " ('hancock', 1),\n",
       " ('sheafs', 1),\n",
       " ('abdoh', 1),\n",
       " ('juliana', 1),\n",
       " ('perrett', 1),\n",
       " ('welton', 1),\n",
       " ('mackey', 1),\n",
       " ('oktoberfest', 1),\n",
       " ('lederhosen', 1),\n",
       " ('leach', 1),\n",
       " ('talula', 1),\n",
       " ('rena', 1),\n",
       " ('silverman', 1),\n",
       " ('marcelle', 1),\n",
       " ('beaulieu', 1),\n",
       " ('fuji', 1),\n",
       " ('platner', 1),\n",
       " ('leggett', 1),\n",
       " ('bbr', 1),\n",
       " ('pomales', 1),\n",
       " ('alastair', 1),\n",
       " ('mccready', 1),\n",
       " ('meagan', 1),\n",
       " ('fratiello', 1),\n",
       " ('okura', 1),\n",
       " ('cootner', 1),\n",
       " ('bitmoji', 1),\n",
       " ('clifford', 1),\n",
       " ('liles', 1),\n",
       " ('eicher', 1),\n",
       " ('nolen', 1),\n",
       " ('walston', 1),\n",
       " ('sundae', 1),\n",
       " ('commissioner', 1),\n",
       " ('kristine', 1),\n",
       " ('murawski', 1),\n",
       " ('reverend', 1),\n",
       " ('mouracade', 1),\n",
       " ('fawcett', 1),\n",
       " ('keavney', 1),\n",
       " ('lader', 1)]"
      ]
     },
     "execution_count": 161,
     "metadata": {},
     "output_type": "execute_result"
    }
   ],
   "source": [
    "# least common words\n",
    "word_freq.most_common()[-50:]"
   ]
  },
  {
   "cell_type": "markdown",
   "metadata": {},
   "source": [
    "### spaCy pipeline"
   ]
  },
  {
   "cell_type": "markdown",
   "metadata": {},
   "source": [
    "Create custom factory to add to spacy pipeline to remove entities whose labels are 'PERSON'"
   ]
  },
  {
   "cell_type": "code",
   "execution_count": 76,
   "metadata": {},
   "outputs": [],
   "source": [
    "#@Language.component('person_removal')\n",
    "#def person_removal(doc):\n",
    "#    ents = list(doc.ents)\n",
    "   # for ent in ents:\n",
    "   #     if ent.label_ == 'PERSON':\n",
    "    #        ents.remove(ent)\n",
    "   # ents = tuple(ents)\n",
    "  #  doc.ents = ents\n",
    "   # return (doc)\n",
    "#Language.component(\"person_removal\", func=person_removal)"
   ]
  },
  {
   "cell_type": "code",
   "execution_count": 77,
   "metadata": {},
   "outputs": [],
   "source": [
    "#nlp.add_pipe('person_removal')"
   ]
  },
  {
   "cell_type": "code",
   "execution_count": 78,
   "metadata": {},
   "outputs": [],
   "source": [
    "#print(nlp.pipe_names)"
   ]
  },
  {
   "cell_type": "code",
   "execution_count": 112,
   "metadata": {
    "scrolled": false
   },
   "outputs": [
    {
     "data": {
      "text/html": [
       "<div>\n",
       "<style scoped>\n",
       "    .dataframe tbody tr th:only-of-type {\n",
       "        vertical-align: middle;\n",
       "    }\n",
       "\n",
       "    .dataframe tbody tr th {\n",
       "        vertical-align: top;\n",
       "    }\n",
       "\n",
       "    .dataframe thead th {\n",
       "        text-align: right;\n",
       "    }\n",
       "</style>\n",
       "<table border=\"1\" class=\"dataframe\">\n",
       "  <thead>\n",
       "    <tr style=\"text-align: right;\">\n",
       "      <th></th>\n",
       "      <th>essay</th>\n",
       "      <th>essay_no_stopwords</th>\n",
       "    </tr>\n",
       "  </thead>\n",
       "  <tbody>\n",
       "    <tr>\n",
       "      <th>0</th>\n",
       "      <td>Two days before I left South Dakota, Rex and I sat talking beneath the open hatchback of my car. In the distance, a lightning storm moved toward us over the open expanse of the Great Plains, churning the sky a murky purple. He was talking passionately about lithium batteries. The more he talked, the less he and I seemed to have in common. I considered myself someone who could become interested in almost anything, especially when I was attracted to the person speaking. But now I asked myself: Did I care about batteries? He and I were volunteers on the Pine Ridge Reservation, building and repairing infrastructure. He had been the first person to greet me when I arrived at the end of the long, dirt road. When he climbed out of the cab of a skid loader, and I saw his face, my body warmed. In the lyrical version of what happened as the storm approached, we would have stopped talking and taken seriously the pleasure of our bodies. But wanting to have a baby had made dating in my late 30s less like a poem and more like a math problem. There was a lot that had to line up, and what I was looking for now differed from what my younger self had envisioned. I didn’t care about dating someone for a certain amount of time before we had a baby, or being in love, or getting married. I wanted to like the biological father of my child, maybe admire him. That was about it. I had arrived at this set of criteria because the alternatives seemed sentimental and unrealistic, especially the husband-to-be wish lists that many of us champion during those years when we are both ready and able to have children. With the help of my sitting meditation practice, I had observed that the more I worried about getting pregnant, the less discerning I was about love, an effect I feared would intensify as I got older. How could I trust my judgment under pressure? Wouldn’t a lot of men start to smell like fathers? I decided the safest way to protect myself against romantic delusion would be to separate the two stories from the outset: I could try to find a mate or become a mother, but not at the same time. Since biological constraints made it easy to figure out which was more urgent, I resolved to have a child outside of the context of love. My solo road trip to South Dakota was conceived as an experience my future self, the one saddled with a dependent, would someday thank me for. When I returned home, I planned to get pregnant using an anonymous donor’s sperm. On my last evening with Rex, kissing in his tent, I realized there was a lot about him I didn’t know — who was in his life, where he worked, his last name. Before I crawled out of his tent, he asked for my phone number. He was headed home to Michigan, and I to California. I told him I thought we should leave things exactly as they were, which seemed perfect to me. “What, are you crazy?” he said, and he gave me his number. Back home, I pored over donor questionnaires at the local sperm bank, trying to keep straight who liked video games and who preferred billiards, but it all mixed blandly together for me. Phone conversations with Rex, though, were weird and memorable. He had inherited his father’s expressions such as “Son of a biscuit!” and “Jeez O’Pete’s!” Doting on his backyard laying hens, he often referred to himself as a “chicken mama.” He was the only 30-something adult I knew who had traveled on an airplane exactly once, a domestic round trip for a former job. We didn’t talk much about the parts of our lives that existed beyond the present. He mentioned that his relationship with a woman in Michigan was crumbling. All he knew of my path to motherhood was that I wanted a child. When my search for a donor stagnated from lacking a warm feeling about any of them, friends offered to screen profiles with me on the eve of my 40th birthday. Two donors received my friends’ approval, so I put myself on the wait-list for their sperm, though I still felt ambivalent. When I finally told Rex about my stalled plan to become a mother, he said, “I can help you with that.” I was silent. Then I said, “Don’t say something like that without thinking about it.” “I have.” He wasn’t interested in being a father or co-parent, so the scenarios we discussed assumed that by the time I gave birth, he and I no longer would be romantically involved. Soon he visited me in California and had his first experience soaking naked with strangers in hot springs, his first contact with thousand-year-old redwood trees (he cried). He gave back rubs that were accurate, not clumsy; his hands were full of life. We were still working on our donor arrangement. We were also falling in love. I went to stay with him in Michigan, where he taught me how to use a chain saw and care for chickens. Eventually, he followed me back to California, driving the whole way towing a homemade trailer filled with tools. During this time, we were trying to live two separate stories: the one in which every month we tried to conceive, and the other in which we were still getting to know each other. But the more we enjoyed ourselves, the more confusing our situation became. If I got pregnant, would he leave the relationship? If I didn’t get pregnant, would I switch to another donor? About a year after he offered to be my donor, we began to have these difficult conversations. And in the middle of them, I got pregnant. Such was his generosity that he was genuinely thrilled for me. Inwardly, though, he began to withdraw. He still didn’t want to be a father or co-parent; the thought of either brought up old wounds from his childhood. Every day of his indecision, I was tempted to try to convince him to stay. Most days, I had enough sanity to recognize that doing this would harm us both. On the day he left California, he took a photograph of me looking haunted. Then he got in his car and drove east. It was Father’s Day. After he left, I scrambled into action, interviewing midwives, searching online for used baby gear, and trying to explain to the being in my womb why I was crying a lot: “I’m sorry, baby. I’m OK, just sad.” Then weeks later, without warning, a text arrived: “I made a terrible mistake.” By then, I recognized he wasn’t the only one. When love and a baby coincided for me, I still believed I could separate the two and remain fundamentally unchanged. Not until Rex and I were suffering was I able to see that the clean reality I envisioned had never existed between us. It had evaporated the moment he greeted me at the end of the dirt road, and my body responded with warmth. Buddhism is founded on the truth that suffering is caused by desire, which at first glance can make both suffering and desire sound unequivocally bad. But the beauty of suffering is that it offers the opportunity to have a curious and tender relationship with desire, to listen to it rather than try to eradicate it. Often what I hear beneath my desire’s surface noise isn’t problematic, only human: the vulnerability in having a life tangled up with others. In Rex’s absence, I remembered that tending to a lover or child is dirty work, in the most wholesome sense. We don’t fall in love or have a baby to have our points of view and preferences affirmed. We do it, at least a little bit, to soften our singular, lonesome grip on reality and invite in the unexpected, the undesirable and the inexplicable. This — call it messiness, or richness, or hands full of life — is what is beautiful and natural about being an animal with appetites beyond our understanding. Being faithful in the deepest sense to a lover or baby is saying yes to the weird and memorable before you know you want it or welcome it. Rex came to this in his own way. He told me that since he left California, he had been listening to podcasts about fatherhood and looking at the photo of me he took the day he left. He’d been crying, too. And he wanted to come back. “To the baby?” I said. “Or to me?” “Both,” he said. And he did. He sold his heaviest tools, repainted walls and put his house in Michigan up for sale. And two months later, he was back in California in time to catch in his hands our son being born.</td>\n",
       "      <td>[days, left, South, Dakota, ,, Rex, sat, talking, beneath, open, hatchback, car, ., distance, ,, lightning, storm, moved, open, expanse, Great, Plains, ,, churning, sky, murky, purple, ., talking, passionately, lithium, batteries, ., talked, ,, common, ., considered, interested, ,, especially, attracted, person, speaking, ., asked, :, care, batteries, ?, volunteers, Pine, Ridge, Reservation, ,, building, repairing, infrastructure, ., person, greet, arrived, end, long, ,, dirt, road, ., climbed, cab, skid, loader, ,, saw, face, ,, body, warmed, ., lyrical, version, happened, storm, approached, ,, stopped, talking, taken, seriously, pleasure, bodies, ., wanting, baby, dating, late, 30s, poem, math, problem, ...]</td>\n",
       "    </tr>\n",
       "    <tr>\n",
       "      <th>2</th>\n",
       "      <td>Peter and I hitched our wagons young. Early 20s. He was wildly handsome, gay, with soulful brown eyes and a head full of loose, unruly curls. Raised by an African American woman and a white preacher man, Peter spent his childhood steeped in the evangelical ministry. He was as terrified of his father’s sermons as he was soothed by his mother’s inclination to administer to the more human aspects of the congregation they both led. The night I met Peter, he and I fell all the way in love. Kismet, you could say. He made me laugh with his very first words. It was my first time at the Nuyorican Poets Cafe, the premier debut joint for every performance poet trying to get onto the New York City poetry scene. I read my first piece on the open mic after the slam. Peter was among the first admirers to make his way through the applauding crowd to tell me I had simultaneously embodied the fury of his father and the vulnerability of his mother — and, as such, I was destined to be one of his true loves. “Only one of?” I asked. “Fate isn’t fixed,” he said, “The gods have to leave room for surprises!” By the time we met in the fall of 1997, Peter’s parents were long divorced. His father had left the church. And Peter was already exploring other truths to believe in. Poetry was his new religion. His poems were long, lyrical and lovingly painted with the impossibly beautiful brushstrokes of utopia. He lived his life with the same energy. He believed in the goodness of people. Once, in the middle of winter in Washington Square Park, I watched him unbutton his coat and drape it across the shoulders of a drunk who had just called him a homophobic slur. I was an ex-Christian and newly out lesbian fleeing the violent homophobia of the late 1990s in Jamaica, still wearing the fury of being attacked by a dozen boys and sexually assaulted in Kingston. I was ashamed and angry that it defined my final year of university. That’s why I moved to New York City on a tourist visa. I needed somewhere safe to call home. But I felt at sea in this new country. I had a few aunts and uncles in New York, but before any of this I had absolutely no relationship with my biological family. My parents had abandoned me — my mother at birth, and my father hadn’t even shown up. And now that I had announced that I was a lesbian, that already distant extended family wanted less to do with me. I was in New York in search of safety. Freedom. And room to explore my budding lesbian identity. I was seeking a tribe to which I could unequivocally belong. And the performance poetry slam scene was a mixture of every kind of misfit. Peter and I fit right in. In no time, it felt as if we had known each other our whole lives. We shared everything: stories, poems, disappointments, hopes. We spent most evenings together. I’d meet him after work and go to whichever cafe was holding a slam competition that night. He knew everything about me: how broke I was, who stole my favorite vibrator, the ex-cop who hit me — how I kept going back to her. Every time. One night, after a particularly bad fight with my abusive partner, my roommate cornered me and told me she was going to raise the rent unless I had sex with her. My tourist visa was almost expired. I had no money except what I won at the slams — and that was barely enough to pay for the couch, ramen noodles and a MetroCard. I had no work permit, so I couldn’t get a job. I couldn’t apply for any services. Without papers I couldn’t even get into a shelter. I told Peter I was going to give up on this crazy dream of freedom in New York to go back to Jamaica. He was quiet while I explained what it meant to be undocumented; I went on about green cards and citizenship and visas and immigration authorities. When I was done talking, he asked me to marry him. When I pushed back, saying such a marriage was illegal and that it might land us in trouble with the law, he said the law was wrong. “You love me, right?” I nodded. “Well, I love you. You love me. I want children. You want children, right?” “Right …” “Well, that is what people do when they love each other and they want to have children together. They get married. And that makes them a family. They can’t have it both ways. And love is love, right?” His argument was sound. If the rules were fair, I would have been able to marry a woman, get citizenship and start a family with her. As it stood in the U.S., that wasn’t allowed. But Peter and I were well within our right to claim the perks of being a couple. We were already partners. He was already my family. We were married at City Hall. Peter’s lover, who was to be our witness, didn’t even show up for the wedding. We had to ask a beautiful man in cowboy boots and a sequined vest to stand in for him. After our very giggly “I dos,” Peter invited me to Thanksgiving dinner with his family. Before the month was out, I moved in with him and his amazing mother, Carole Linda, in the beautiful old house, the one that was once his parents’ church, two blocks from the beach in Far Rockaway. We spent three magical years living together. No one understood the quirky, kooky couple who arrived together, left together, but flirted with everyone in between. We had so much fun together. We were the perfect couple. We knew we’d be the perfect parents. But we were a modern couple. We wanted to be more intentional, more deliberate about our choices than our parents had been. We had more living to do before we took on the responsibilities of children. We didn’t have money, but we had lots of time. We were committed to living first. But at 29 Peter was diagnosed with cancer. Stage 4. He was diagnosed in May. He died on Dec. 16. At 11:30. Half-hour before he would turn 30. I was so furious at him dying, I couldn’t cry. It felt as if all my dreams of family died with him; a partner, children, my willing comrade in the radical redefining of the modern family, modern love. His mother was better at making peace with the heavens over the loss of her firstborn. I was surprised at her ability to remain connected to me. She stayed close, calling, sending Christmas cards, checking in, even as I remained distant, angry, unsure about deserving the magic of the family Peter had so tragically, suddenly, left behind. I grudgingly remained connected to his younger brother, CJ, who reminded me so much of Peter. Except he wasn’t gay, or a poet. He grew up to be a fine filmmaker and the only straight man in the L.G.B.T.Q. alliance in college. We often called each other to reminisce about Peter, to recount the sorcery of him, to bask in the shared memory of his magic. Later, when I became frantic with the desire to start a family — chasing gay men at house parties, begging sperm from strangers on planes — I broke down and wept for what felt like the too-early death of my husband. I didn’t want to be the strange young widow hosting lesbian parties in Crown Heights. I wanted to be the badass lesbian writer, with the flamboyant gay husband, raising four children in a rambling old house that used to be a church, two blocks from the beach in Far Rockaway. In one conversation with CJ, he interrupted to ask if there was a way he could stand in for Peter, by giving me his sperm. A year later, my daughter, Zuri, the most astounding miracle, born a decade after Peter’s death, refers to Peter as her “almost dad.” Carole Linda is still my mother-in-law and my kid’s actual, biological grandmother. Zuri’s “Baba,” CJ, got married last August. Zuri almost passed out from the joy of being asked to be the ring bearer at the wedding. We all traveled from multiple cities to watch them speak the vows. His brothers, their wives, Peter’s grandmother, his father, me, my non-monogamous partner and a beautiful cohort of ordinary folks, misfits, artists, preachers, writers, activists, gay, straight, nonbinary. I looked around the room, thinking if we had had the choice, this is what Peter’s and my wedding would have looked like. Peter would have reveled in it. Some days I still hear Peter’s voice inside my head, rustling in the fall wind, booming in the rush of traffic on the West Side Highway. He’s always whispering, screaming, saying the same thing, “Fate isn’t fixed, Staceyann. There is always some room for the gods to surprise us.”</td>\n",
       "      <td>[Peter, hitched, wagons, young, ., Early, 20s, ., wildly, handsome, ,, gay, ,, soulful, brown, eyes, head, loose, ,, unruly, curls, ., Raised, African, American, woman, white, preacher, man, ,, Peter, spent, childhood, steeped, evangelical, ministry, ., terrified, father, sermons, soothed, mother, inclination, administer, human, aspects, congregation, led, ., night, met, Peter, ,, fell, way, ., Kismet, ,, ., laugh, words, ., time, Nuyorican, Poets, Cafe, ,, premier, debut, joint, performance, poet, trying, New, York, City, poetry, scene, ., read, piece, open, mic, slam, ., Peter, admirers, way, applauding, crowd, simultaneously, embodied, fury, father, vulnerability, mother, —, ,, ,, destined, ...]</td>\n",
       "    </tr>\n",
       "  </tbody>\n",
       "</table>\n",
       "</div>"
      ],
      "text/plain": [
       "                                                                                                                                                                                                                                                                                                                                                                                                                                                                                                                                                                                                                                                                                                                                                                                                                                                                                                                                                                                                                                                                                                                                                                                                                                                                                                                                                                                                                                                                                                                                                                                                                                                                                                                                                                                                                                                                                                                                                                                                                                                                                                                                                                                                                                                                                                                                                                                                                                                                                                                                                                                                                                                                                                                                                                                                                                                                                                                                                                                                                                                                                                                                                                                                                                                                                                                                                                                                                                                                                                                                                                                                                                                                                                                                                                                                                                                                                                                                                                                                                                                                                                                                                                                                                                                                                                                                                                                                                                                                                                                                                                                                                                                                                                                                                                                                                                                                                                                                                                                                                                                                                                                                                                                                                                                                                                                                                                                                                                                                                                                                                                                                                                                                                                                                                                                                                                                                                                                                                                                                                                                                                                                                                                                                                                                                                                                                                                                                                                                                                                                                                                                                                                                                                                                                                                                                                                                                                                                                                                                                                                                                                                                                                                                                                                                                                                                                                                                                                                                                                                                                                                                                                                                                                                                                                                                                                                                                                                                                                                                                                                                                                                                                                                                                                                                                                                                                                                                                                                                                                                                                                                                                                                         essay  \\\n",
       "0  Two days before I left South Dakota, Rex and I sat talking beneath the open hatchback of my car. In the distance, a lightning storm moved toward us over the open expanse of the Great Plains, churning the sky a murky purple. He was talking passionately about lithium batteries. The more he talked, the less he and I seemed to have in common. I considered myself someone who could become interested in almost anything, especially when I was attracted to the person speaking. But now I asked myself: Did I care about batteries? He and I were volunteers on the Pine Ridge Reservation, building and repairing infrastructure. He had been the first person to greet me when I arrived at the end of the long, dirt road. When he climbed out of the cab of a skid loader, and I saw his face, my body warmed. In the lyrical version of what happened as the storm approached, we would have stopped talking and taken seriously the pleasure of our bodies. But wanting to have a baby had made dating in my late 30s less like a poem and more like a math problem. There was a lot that had to line up, and what I was looking for now differed from what my younger self had envisioned. I didn’t care about dating someone for a certain amount of time before we had a baby, or being in love, or getting married. I wanted to like the biological father of my child, maybe admire him. That was about it. I had arrived at this set of criteria because the alternatives seemed sentimental and unrealistic, especially the husband-to-be wish lists that many of us champion during those years when we are both ready and able to have children. With the help of my sitting meditation practice, I had observed that the more I worried about getting pregnant, the less discerning I was about love, an effect I feared would intensify as I got older. How could I trust my judgment under pressure? Wouldn’t a lot of men start to smell like fathers? I decided the safest way to protect myself against romantic delusion would be to separate the two stories from the outset: I could try to find a mate or become a mother, but not at the same time. Since biological constraints made it easy to figure out which was more urgent, I resolved to have a child outside of the context of love. My solo road trip to South Dakota was conceived as an experience my future self, the one saddled with a dependent, would someday thank me for. When I returned home, I planned to get pregnant using an anonymous donor’s sperm. On my last evening with Rex, kissing in his tent, I realized there was a lot about him I didn’t know — who was in his life, where he worked, his last name. Before I crawled out of his tent, he asked for my phone number. He was headed home to Michigan, and I to California. I told him I thought we should leave things exactly as they were, which seemed perfect to me. “What, are you crazy?” he said, and he gave me his number. Back home, I pored over donor questionnaires at the local sperm bank, trying to keep straight who liked video games and who preferred billiards, but it all mixed blandly together for me. Phone conversations with Rex, though, were weird and memorable. He had inherited his father’s expressions such as “Son of a biscuit!” and “Jeez O’Pete’s!” Doting on his backyard laying hens, he often referred to himself as a “chicken mama.” He was the only 30-something adult I knew who had traveled on an airplane exactly once, a domestic round trip for a former job. We didn’t talk much about the parts of our lives that existed beyond the present. He mentioned that his relationship with a woman in Michigan was crumbling. All he knew of my path to motherhood was that I wanted a child. When my search for a donor stagnated from lacking a warm feeling about any of them, friends offered to screen profiles with me on the eve of my 40th birthday. Two donors received my friends’ approval, so I put myself on the wait-list for their sperm, though I still felt ambivalent. When I finally told Rex about my stalled plan to become a mother, he said, “I can help you with that.” I was silent. Then I said, “Don’t say something like that without thinking about it.” “I have.” He wasn’t interested in being a father or co-parent, so the scenarios we discussed assumed that by the time I gave birth, he and I no longer would be romantically involved. Soon he visited me in California and had his first experience soaking naked with strangers in hot springs, his first contact with thousand-year-old redwood trees (he cried). He gave back rubs that were accurate, not clumsy; his hands were full of life. We were still working on our donor arrangement. We were also falling in love. I went to stay with him in Michigan, where he taught me how to use a chain saw and care for chickens. Eventually, he followed me back to California, driving the whole way towing a homemade trailer filled with tools. During this time, we were trying to live two separate stories: the one in which every month we tried to conceive, and the other in which we were still getting to know each other. But the more we enjoyed ourselves, the more confusing our situation became. If I got pregnant, would he leave the relationship? If I didn’t get pregnant, would I switch to another donor? About a year after he offered to be my donor, we began to have these difficult conversations. And in the middle of them, I got pregnant. Such was his generosity that he was genuinely thrilled for me. Inwardly, though, he began to withdraw. He still didn’t want to be a father or co-parent; the thought of either brought up old wounds from his childhood. Every day of his indecision, I was tempted to try to convince him to stay. Most days, I had enough sanity to recognize that doing this would harm us both. On the day he left California, he took a photograph of me looking haunted. Then he got in his car and drove east. It was Father’s Day. After he left, I scrambled into action, interviewing midwives, searching online for used baby gear, and trying to explain to the being in my womb why I was crying a lot: “I’m sorry, baby. I’m OK, just sad.” Then weeks later, without warning, a text arrived: “I made a terrible mistake.” By then, I recognized he wasn’t the only one. When love and a baby coincided for me, I still believed I could separate the two and remain fundamentally unchanged. Not until Rex and I were suffering was I able to see that the clean reality I envisioned had never existed between us. It had evaporated the moment he greeted me at the end of the dirt road, and my body responded with warmth. Buddhism is founded on the truth that suffering is caused by desire, which at first glance can make both suffering and desire sound unequivocally bad. But the beauty of suffering is that it offers the opportunity to have a curious and tender relationship with desire, to listen to it rather than try to eradicate it. Often what I hear beneath my desire’s surface noise isn’t problematic, only human: the vulnerability in having a life tangled up with others. In Rex’s absence, I remembered that tending to a lover or child is dirty work, in the most wholesome sense. We don’t fall in love or have a baby to have our points of view and preferences affirmed. We do it, at least a little bit, to soften our singular, lonesome grip on reality and invite in the unexpected, the undesirable and the inexplicable. This — call it messiness, or richness, or hands full of life — is what is beautiful and natural about being an animal with appetites beyond our understanding. Being faithful in the deepest sense to a lover or baby is saying yes to the weird and memorable before you know you want it or welcome it. Rex came to this in his own way. He told me that since he left California, he had been listening to podcasts about fatherhood and looking at the photo of me he took the day he left. He’d been crying, too. And he wanted to come back. “To the baby?” I said. “Or to me?” “Both,” he said. And he did. He sold his heaviest tools, repainted walls and put his house in Michigan up for sale. And two months later, he was back in California in time to catch in his hands our son being born.                                                                                                                                                               \n",
       "2  Peter and I hitched our wagons young. Early 20s. He was wildly handsome, gay, with soulful brown eyes and a head full of loose, unruly curls. Raised by an African American woman and a white preacher man, Peter spent his childhood steeped in the evangelical ministry. He was as terrified of his father’s sermons as he was soothed by his mother’s inclination to administer to the more human aspects of the congregation they both led. The night I met Peter, he and I fell all the way in love. Kismet, you could say. He made me laugh with his very first words. It was my first time at the Nuyorican Poets Cafe, the premier debut joint for every performance poet trying to get onto the New York City poetry scene. I read my first piece on the open mic after the slam. Peter was among the first admirers to make his way through the applauding crowd to tell me I had simultaneously embodied the fury of his father and the vulnerability of his mother — and, as such, I was destined to be one of his true loves. “Only one of?” I asked. “Fate isn’t fixed,” he said, “The gods have to leave room for surprises!” By the time we met in the fall of 1997, Peter’s parents were long divorced. His father had left the church. And Peter was already exploring other truths to believe in. Poetry was his new religion. His poems were long, lyrical and lovingly painted with the impossibly beautiful brushstrokes of utopia. He lived his life with the same energy. He believed in the goodness of people. Once, in the middle of winter in Washington Square Park, I watched him unbutton his coat and drape it across the shoulders of a drunk who had just called him a homophobic slur. I was an ex-Christian and newly out lesbian fleeing the violent homophobia of the late 1990s in Jamaica, still wearing the fury of being attacked by a dozen boys and sexually assaulted in Kingston. I was ashamed and angry that it defined my final year of university. That’s why I moved to New York City on a tourist visa. I needed somewhere safe to call home. But I felt at sea in this new country. I had a few aunts and uncles in New York, but before any of this I had absolutely no relationship with my biological family. My parents had abandoned me — my mother at birth, and my father hadn’t even shown up. And now that I had announced that I was a lesbian, that already distant extended family wanted less to do with me. I was in New York in search of safety. Freedom. And room to explore my budding lesbian identity. I was seeking a tribe to which I could unequivocally belong. And the performance poetry slam scene was a mixture of every kind of misfit. Peter and I fit right in. In no time, it felt as if we had known each other our whole lives. We shared everything: stories, poems, disappointments, hopes. We spent most evenings together. I’d meet him after work and go to whichever cafe was holding a slam competition that night. He knew everything about me: how broke I was, who stole my favorite vibrator, the ex-cop who hit me — how I kept going back to her. Every time. One night, after a particularly bad fight with my abusive partner, my roommate cornered me and told me she was going to raise the rent unless I had sex with her. My tourist visa was almost expired. I had no money except what I won at the slams — and that was barely enough to pay for the couch, ramen noodles and a MetroCard. I had no work permit, so I couldn’t get a job. I couldn’t apply for any services. Without papers I couldn’t even get into a shelter. I told Peter I was going to give up on this crazy dream of freedom in New York to go back to Jamaica. He was quiet while I explained what it meant to be undocumented; I went on about green cards and citizenship and visas and immigration authorities. When I was done talking, he asked me to marry him. When I pushed back, saying such a marriage was illegal and that it might land us in trouble with the law, he said the law was wrong. “You love me, right?” I nodded. “Well, I love you. You love me. I want children. You want children, right?” “Right …” “Well, that is what people do when they love each other and they want to have children together. They get married. And that makes them a family. They can’t have it both ways. And love is love, right?” His argument was sound. If the rules were fair, I would have been able to marry a woman, get citizenship and start a family with her. As it stood in the U.S., that wasn’t allowed. But Peter and I were well within our right to claim the perks of being a couple. We were already partners. He was already my family. We were married at City Hall. Peter’s lover, who was to be our witness, didn’t even show up for the wedding. We had to ask a beautiful man in cowboy boots and a sequined vest to stand in for him. After our very giggly “I dos,” Peter invited me to Thanksgiving dinner with his family. Before the month was out, I moved in with him and his amazing mother, Carole Linda, in the beautiful old house, the one that was once his parents’ church, two blocks from the beach in Far Rockaway. We spent three magical years living together. No one understood the quirky, kooky couple who arrived together, left together, but flirted with everyone in between. We had so much fun together. We were the perfect couple. We knew we’d be the perfect parents. But we were a modern couple. We wanted to be more intentional, more deliberate about our choices than our parents had been. We had more living to do before we took on the responsibilities of children. We didn’t have money, but we had lots of time. We were committed to living first. But at 29 Peter was diagnosed with cancer. Stage 4. He was diagnosed in May. He died on Dec. 16. At 11:30. Half-hour before he would turn 30. I was so furious at him dying, I couldn’t cry. It felt as if all my dreams of family died with him; a partner, children, my willing comrade in the radical redefining of the modern family, modern love. His mother was better at making peace with the heavens over the loss of her firstborn. I was surprised at her ability to remain connected to me. She stayed close, calling, sending Christmas cards, checking in, even as I remained distant, angry, unsure about deserving the magic of the family Peter had so tragically, suddenly, left behind. I grudgingly remained connected to his younger brother, CJ, who reminded me so much of Peter. Except he wasn’t gay, or a poet. He grew up to be a fine filmmaker and the only straight man in the L.G.B.T.Q. alliance in college. We often called each other to reminisce about Peter, to recount the sorcery of him, to bask in the shared memory of his magic. Later, when I became frantic with the desire to start a family — chasing gay men at house parties, begging sperm from strangers on planes — I broke down and wept for what felt like the too-early death of my husband. I didn’t want to be the strange young widow hosting lesbian parties in Crown Heights. I wanted to be the badass lesbian writer, with the flamboyant gay husband, raising four children in a rambling old house that used to be a church, two blocks from the beach in Far Rockaway. In one conversation with CJ, he interrupted to ask if there was a way he could stand in for Peter, by giving me his sperm. A year later, my daughter, Zuri, the most astounding miracle, born a decade after Peter’s death, refers to Peter as her “almost dad.” Carole Linda is still my mother-in-law and my kid’s actual, biological grandmother. Zuri’s “Baba,” CJ, got married last August. Zuri almost passed out from the joy of being asked to be the ring bearer at the wedding. We all traveled from multiple cities to watch them speak the vows. His brothers, their wives, Peter’s grandmother, his father, me, my non-monogamous partner and a beautiful cohort of ordinary folks, misfits, artists, preachers, writers, activists, gay, straight, nonbinary. I looked around the room, thinking if we had had the choice, this is what Peter’s and my wedding would have looked like. Peter would have reveled in it. Some days I still hear Peter’s voice inside my head, rustling in the fall wind, booming in the rush of traffic on the West Side Highway. He’s always whispering, screaming, saying the same thing, “Fate isn’t fixed, Staceyann. There is always some room for the gods to surprise us.”   \n",
       "\n",
       "                                                                                                                                                                                                                                                                                                                                                                                                                                                                                                                                                                                                                                                                                                                                essay_no_stopwords  \n",
       "0  [days, left, South, Dakota, ,, Rex, sat, talking, beneath, open, hatchback, car, ., distance, ,, lightning, storm, moved, open, expanse, Great, Plains, ,, churning, sky, murky, purple, ., talking, passionately, lithium, batteries, ., talked, ,, common, ., considered, interested, ,, especially, attracted, person, speaking, ., asked, :, care, batteries, ?, volunteers, Pine, Ridge, Reservation, ,, building, repairing, infrastructure, ., person, greet, arrived, end, long, ,, dirt, road, ., climbed, cab, skid, loader, ,, saw, face, ,, body, warmed, ., lyrical, version, happened, storm, approached, ,, stopped, talking, taken, seriously, pleasure, bodies, ., wanting, baby, dating, late, 30s, poem, math, problem, ...]  \n",
       "2  [Peter, hitched, wagons, young, ., Early, 20s, ., wildly, handsome, ,, gay, ,, soulful, brown, eyes, head, loose, ,, unruly, curls, ., Raised, African, American, woman, white, preacher, man, ,, Peter, spent, childhood, steeped, evangelical, ministry, ., terrified, father, sermons, soothed, mother, inclination, administer, human, aspects, congregation, led, ., night, met, Peter, ,, fell, way, ., Kismet, ,, ., laugh, words, ., time, Nuyorican, Poets, Cafe, ,, premier, debut, joint, performance, poet, trying, New, York, City, poetry, scene, ., read, piece, open, mic, slam, ., Peter, admirers, way, applauding, crowd, simultaneously, embodied, fury, father, vulnerability, mother, —, ,, ,, destined, ...]              "
      ]
     },
     "execution_count": 112,
     "metadata": {},
     "output_type": "execute_result"
    }
   ],
   "source": [
    "modern_love_df_rev[['essay','essay_no_stopwords']].head(2)"
   ]
  },
  {
   "cell_type": "markdown",
   "metadata": {},
   "source": [
    "Add some words to the stop words list to be removed from the corpus"
   ]
  },
  {
   "cell_type": "code",
   "execution_count": 87,
   "metadata": {},
   "outputs": [],
   "source": [
    "sw_spacy = nlp.Defaults.stop_words\n",
    "\n",
    "# verbs and a noun from top 50 tokens to remove\n",
    "top_tokens_to_remove = {'relationship', 'say', 'love', 'know', 'like', 'want', 'feel', 'think', 'tell', 'go', 'ask', 'look','come'}\n",
    "sw_spacy.update(top_tokens_to_remove)\n",
    "\n",
    "# bottom 20 tokens to remove\n",
    "\n",
    "twenty_least_common = word_freq.most_common()[-20:]\n",
    "bottom_tokens_to_remove = set([a_tuple[0] for a_tuple in twenty_least_common])\n",
    "sw_spacy.update(bottom_tokens_to_remove)"
   ]
  },
  {
   "cell_type": "markdown",
   "metadata": {},
   "source": [
    "Apply updated stop words list to tokens"
   ]
  },
  {
   "cell_type": "code",
   "execution_count": 91,
   "metadata": {},
   "outputs": [
    {
     "name": "stderr",
     "output_type": "stream",
     "text": [
      "<ipython-input-91-d9a1a52d80ab>:2: SettingWithCopyWarning: \n",
      "A value is trying to be set on a copy of a slice from a DataFrame.\n",
      "Try using .loc[row_indexer,col_indexer] = value instead\n",
      "\n",
      "See the caveats in the documentation: https://pandas.pydata.org/pandas-docs/stable/user_guide/indexing.html#returning-a-view-versus-a-copy\n",
      "  modern_love_df_rev['essay_fewer_stopwords'] = docs_clean_2\n"
     ]
    }
   ],
   "source": [
    "docs_clean_2 = [[w for w in doc if w not in sw_spacy] for doc in docs_clean]\n",
    "modern_love_df_rev['essay_fewer_stopwords'] = docs_clean_2"
   ]
  },
  {
   "cell_type": "code",
   "execution_count": 93,
   "metadata": {},
   "outputs": [
    {
     "data": {
      "text/html": [
       "<div>\n",
       "<style scoped>\n",
       "    .dataframe tbody tr th:only-of-type {\n",
       "        vertical-align: middle;\n",
       "    }\n",
       "\n",
       "    .dataframe tbody tr th {\n",
       "        vertical-align: top;\n",
       "    }\n",
       "\n",
       "    .dataframe thead th {\n",
       "        text-align: right;\n",
       "    }\n",
       "</style>\n",
       "<table border=\"1\" class=\"dataframe\">\n",
       "  <thead>\n",
       "    <tr style=\"text-align: right;\">\n",
       "      <th></th>\n",
       "      <th>essay_clean</th>\n",
       "      <th>essay_fewer_stopwords</th>\n",
       "    </tr>\n",
       "  </thead>\n",
       "  <tbody>\n",
       "    <tr>\n",
       "      <th>0</th>\n",
       "      <td>[day, leave, south, dakota, rex, sit, talk, beneath, open, hatchback, car, distance, lightning, storm, move, open, expanse, great, plains, churn, sky, murky, purple, talk, passionately, lithium, battery, talk, common, consider, interested, especially, attract, person, speak, ask, care, battery, volunteer, pine, ridge, reservation, build, repair, infrastructure, person, greet, arrive, end, long, dirt, road, climb, cab, skid, loader, see, face, body, warm, lyrical, version, happen, storm, approach, stop, talk, take, seriously, pleasure, body, want, baby, date, late, like, poem, like, math, problem, lot, line, look, differ, young, self, envision, care, date, certain, time, baby, love, getting, marry, want, like, biological, father, child, ...]</td>\n",
       "      <td>[day, leave, south, dakota, rex, sit, talk, beneath, open, hatchback, car, distance, lightning, storm, open, expanse, great, plains, churn, sky, murky, purple, talk, passionately, lithium, battery, talk, common, consider, interested, especially, attract, person, speak, care, battery, volunteer, pine, ridge, reservation, build, repair, infrastructure, person, greet, arrive, end, long, dirt, road, climb, cab, skid, loader, face, body, warm, lyrical, version, happen, storm, approach, stop, talk, seriously, pleasure, body, baby, date, late, poem, math, problem, lot, line, differ, young, self, envision, care, date, certain, time, baby, getting, marry, biological, father, child, maybe, admire, arrive, set, criterion, alternative, sentimental, unrealistic, especially, husband, wish, ...]</td>\n",
       "    </tr>\n",
       "    <tr>\n",
       "      <th>2</th>\n",
       "      <td>[peter, hitch, wagon, young, early, wildly, handsome, gay, soulful, brown, eye, head, loose, unruly, curl, raise, african, american, woman, white, preacher, man, peter, spend, childhood, steep, evangelical, ministry, terrified, father, sermon, soothe, mother, inclination, administer, human, aspect, congregation, lead, night, meet, peter, fall, way, love, kismet, laugh, word, time, nuyorican, poets, cafe, premier, debut, joint, performance, poet, try, new, york, city, poetry, scene, read, piece, open, mic, slam, peter, admirer, way, applauding, crowd, tell, simultaneously, embody, fury, father, vulnerability, mother, destine, true, love, ask, fate, fix, say, god, leave, room, surprise, time, meet, fall, peter, parent, long, divorced, father, leave, ...]</td>\n",
       "      <td>[peter, hitch, wagon, young, early, wildly, handsome, gay, soulful, brown, eye, head, loose, unruly, curl, raise, african, american, woman, white, preacher, man, peter, spend, childhood, steep, evangelical, ministry, terrified, father, sermon, soothe, mother, inclination, administer, human, aspect, congregation, lead, night, meet, peter, fall, way, kismet, laugh, word, time, nuyorican, poets, cafe, premier, debut, joint, performance, poet, try, new, york, city, poetry, scene, read, piece, open, mic, slam, peter, admirer, way, applauding, crowd, simultaneously, embody, fury, father, vulnerability, mother, destine, true, fate, fix, god, leave, room, surprise, time, meet, fall, peter, parent, long, divorced, father, leave, church, peter, explore, truth, believe, ...]</td>\n",
       "    </tr>\n",
       "  </tbody>\n",
       "</table>\n",
       "</div>"
      ],
      "text/plain": [
       "                                                                                                                                                                                                                                                                                                                                                                                                                                                                                                                                                                                                                                                                                                                                                                                  essay_clean  \\\n",
       "0  [day, leave, south, dakota, rex, sit, talk, beneath, open, hatchback, car, distance, lightning, storm, move, open, expanse, great, plains, churn, sky, murky, purple, talk, passionately, lithium, battery, talk, common, consider, interested, especially, attract, person, speak, ask, care, battery, volunteer, pine, ridge, reservation, build, repair, infrastructure, person, greet, arrive, end, long, dirt, road, climb, cab, skid, loader, see, face, body, warm, lyrical, version, happen, storm, approach, stop, talk, take, seriously, pleasure, body, want, baby, date, late, like, poem, like, math, problem, lot, line, look, differ, young, self, envision, care, date, certain, time, baby, love, getting, marry, want, like, biological, father, child, ...]               \n",
       "2  [peter, hitch, wagon, young, early, wildly, handsome, gay, soulful, brown, eye, head, loose, unruly, curl, raise, african, american, woman, white, preacher, man, peter, spend, childhood, steep, evangelical, ministry, terrified, father, sermon, soothe, mother, inclination, administer, human, aspect, congregation, lead, night, meet, peter, fall, way, love, kismet, laugh, word, time, nuyorican, poets, cafe, premier, debut, joint, performance, poet, try, new, york, city, poetry, scene, read, piece, open, mic, slam, peter, admirer, way, applauding, crowd, tell, simultaneously, embody, fury, father, vulnerability, mother, destine, true, love, ask, fate, fix, say, god, leave, room, surprise, time, meet, fall, peter, parent, long, divorced, father, leave, ...]   \n",
       "\n",
       "                                                                                                                                                                                                                                                                                                                                                                                                                                                                                                                                                                                                                                                                                                                                                                                                     essay_fewer_stopwords  \n",
       "0  [day, leave, south, dakota, rex, sit, talk, beneath, open, hatchback, car, distance, lightning, storm, open, expanse, great, plains, churn, sky, murky, purple, talk, passionately, lithium, battery, talk, common, consider, interested, especially, attract, person, speak, care, battery, volunteer, pine, ridge, reservation, build, repair, infrastructure, person, greet, arrive, end, long, dirt, road, climb, cab, skid, loader, face, body, warm, lyrical, version, happen, storm, approach, stop, talk, seriously, pleasure, body, baby, date, late, poem, math, problem, lot, line, differ, young, self, envision, care, date, certain, time, baby, getting, marry, biological, father, child, maybe, admire, arrive, set, criterion, alternative, sentimental, unrealistic, especially, husband, wish, ...]  \n",
       "2  [peter, hitch, wagon, young, early, wildly, handsome, gay, soulful, brown, eye, head, loose, unruly, curl, raise, african, american, woman, white, preacher, man, peter, spend, childhood, steep, evangelical, ministry, terrified, father, sermon, soothe, mother, inclination, administer, human, aspect, congregation, lead, night, meet, peter, fall, way, kismet, laugh, word, time, nuyorican, poets, cafe, premier, debut, joint, performance, poet, try, new, york, city, poetry, scene, read, piece, open, mic, slam, peter, admirer, way, applauding, crowd, simultaneously, embody, fury, father, vulnerability, mother, destine, true, fate, fix, god, leave, room, surprise, time, meet, fall, peter, parent, long, divorced, father, leave, church, peter, explore, truth, believe, ...]                   "
      ]
     },
     "execution_count": 93,
     "metadata": {},
     "output_type": "execute_result"
    }
   ],
   "source": [
    "modern_love_df_rev[['essay_clean','essay_fewer_stopwords']].head(2)"
   ]
  },
  {
   "cell_type": "markdown",
   "metadata": {},
   "source": [
    "The below cell did run"
   ]
  },
  {
   "cell_type": "code",
   "execution_count": 33,
   "metadata": {},
   "outputs": [],
   "source": [
    "# tokenization into words and parts of speech tagging\n",
    "\n",
    "#from nltk.tokenize import word_tokenize, sent_tokenize\n",
    "#from nltk.tag import pos_tag\n",
    "\n",
    "#tokens = [pos_tag(word_tokenize(row)) for row in modern_love_df['essay']] # labels each word as a part of speech"
   ]
  },
  {
   "cell_type": "markdown",
   "metadata": {},
   "source": [
    "The below cell ran but took a while to do so"
   ]
  },
  {
   "cell_type": "code",
   "execution_count": null,
   "metadata": {},
   "outputs": [],
   "source": [
    "# named entity recognition\n",
    "\n",
    "#from nltk.chunk import ne_chunk\n",
    "\n",
    "#entities = [ne_chunk(token) for token in tokens] # this extracts entities from the list of words\n",
    "#entities.draw()"
   ]
  },
  {
   "cell_type": "markdown",
   "metadata": {},
   "source": [
    "The below cell did run"
   ]
  },
  {
   "cell_type": "code",
   "execution_count": 22,
   "metadata": {},
   "outputs": [],
   "source": [
    "# Import module\n",
    "#from nltk.tokenize import RegexpTokenizer\n",
    "#from nltk.tag import pos_tag\n",
    "\n",
    "# Create an instance of RegexpTokenizer for alphanumeric tokens\n",
    "#tokeniser = RegexpTokenizer(r'\\w+')\n",
    "\n",
    "# Tokenize text and tag parts of speech\n",
    "#tokens = [pos_tag(tokeniser.tokenize(row)) for row in modern_love_df['essay']] # labels each word as a part of speech"
   ]
  },
  {
   "cell_type": "markdown",
   "metadata": {},
   "source": [
    "The below cell didn't work for me"
   ]
  },
  {
   "cell_type": "code",
   "execution_count": 40,
   "metadata": {},
   "outputs": [],
   "source": [
    "# function to remove tuples in tokens that contain 'NNP' or 'NNPS'\n",
    "\n",
    "#def remove_items(lst, item):\n",
    "    #r = []\n",
    "    #for i in lst:\n",
    "       # if isinstance(i, list):\n",
    "        #    r.append(remove_items(i, item))\n",
    "       # elif item not in i:\n",
    "         #   r.append(i)\n",
    "   # return r"
   ]
  },
  {
   "cell_type": "code",
   "execution_count": 41,
   "metadata": {},
   "outputs": [],
   "source": [
    "# remove proper nouns from tokenized text\n",
    "#tokens_rev = remove_items(tokens,'NNP')\n",
    "#tokens_rev = remove_items(tokens,'NNPS')"
   ]
  },
  {
   "cell_type": "markdown",
   "metadata": {},
   "source": [
    "The below cell didn't work for me"
   ]
  },
  {
   "cell_type": "code",
   "execution_count": 43,
   "metadata": {},
   "outputs": [],
   "source": [
    "#def filter_nnp_nnps(x):\n",
    "  #  return [(u,v) for (u,v) in x if (v !='NNP') | (v != 'NNPS')]\n",
    "\n",
    "#tokens_rev = [filter_nnp_nnps(sub_list) for sub_list in tokens]"
   ]
  },
  {
   "cell_type": "markdown",
   "metadata": {},
   "source": [
    "The below cell works"
   ]
  },
  {
   "cell_type": "code",
   "execution_count": 30,
   "metadata": {},
   "outputs": [],
   "source": [
    "# remove numbers and punctuation in essay column\n",
    "    # used this resource: https://datagy.io/python-remove-punctuation-from-string/\n",
    "\n",
    "#alphanumeric = lambda x: re.sub('[^a-zA-Z]', ' ', str(x)) # removes numbers\n",
    "#punc_lower = lambda x: re.sub(r'[^\\w\\s]', ' ',str(x).lower()) # removes punctuation and makes all letters lowercase\n",
    "\n",
    "#modern_love_df_rev['essay_rev'] = modern_love_df_rev.essay.map(alphanumeric).map(punc_lower)"
   ]
  },
  {
   "cell_type": "code",
   "execution_count": 31,
   "metadata": {},
   "outputs": [
    {
     "data": {
      "text/plain": [
       "'\\nLoad NLTK\\'s English stopwords as well as its stemmer, then define:\\n* tokenize_and_stem: to tokenize into sentences, then words, \\n  and return the stems of the words;\\n* tokenize_only: to only tokenize\\n\\nAlso create a stemmed version of the list of stopwords.  Note that the order \\nof operations matters: (filter,stem) is not the same as (stem,filter), where \"filter\"\\nmeans \"remove stopwords\" in the first case and \"remove stemmed stopwords\" in the \\nsecond.  For example, the word \"willing\" is not a stopword, but its stem \"will\" is.  \\nThus, the order (stem,filter) tends to eliminate more tokens than (filter,stem).\\n\\nFinally, create a dictionary that allows us to go back from stem to word (a one-to-many \\nrelationship that we arbitrarily reduce to a one-to-one relationship to facilitate \\ninterpretation of results later.)\\n'"
      ]
     },
     "execution_count": 31,
     "metadata": {},
     "output_type": "execute_result"
    }
   ],
   "source": [
    "# the below code and text came from here: https://github.com/LucDemortier/MachineLearningWithTweets/blob/master/YogaTweetAnalysis.ipynb\n",
    "'''\n",
    "Load NLTK's English stopwords as well as its stemmer, then define:\n",
    "* tokenize_and_stem: to tokenize into sentences, then words, \n",
    "  and return the stems of the words;\n",
    "* tokenize_only: to only tokenize\n",
    "\n",
    "Also create a stemmed version of the list of stopwords.  Note that the order \n",
    "of operations matters: (filter,stem) is not the same as (stem,filter), where \"filter\"\n",
    "means \"remove stopwords\" in the first case and \"remove stemmed stopwords\" in the \n",
    "second.  For example, the word \"willing\" is not a stopword, but its stem \"will\" is.  \n",
    "Thus, the order (stem,filter) tends to eliminate more tokens than (filter,stem).\n",
    "\n",
    "Finally, create a dictionary that allows us to go back from stem to word (a one-to-many \n",
    "relationship that we arbitrarily reduce to a one-to-one relationship to facilitate \n",
    "interpretation of results later.)\n",
    "'''\n",
    "#import nltk\n",
    "#from   nltk.stem.snowball import SnowballStemmer\n",
    "#from   more_itertools import unique_everseen\n",
    "\n",
    "#stopwords = nltk.corpus.stopwords.words('english')\n",
    "#stopwords.append(\"'ve\")\n",
    "#stopwords.append(\"'re\")\n",
    "#more_stopwords = [\"'d\", 'could', 'might', 'must', \"n't\", 'need', 'r', 'sha', 'v', 'wo', 'would']\n",
    "#stopwords.extend(more_stopwords)\n",
    "#print('Stop words (%i): \\n%s\\n' %(len(stopwords),[str(word) for word in stopwords]))\n",
    "\n",
    "#stemmer           = SnowballStemmer(\"english\")\n",
    "#stemmed_stopwords = list(unique_everseen([stemmer.stem(word) for word in stopwords]))\n",
    "#print('Stemmed stop words (%i): \\n%s\\n' %(len(stemmed_stopwords),[str(word) for word in stemmed_stopwords]))\n",
    "\n",
    "#alphanumeric = lambda x: re.sub('[^a-zA-Z]', ' ', str(x)) # removes numbers\n",
    "#punc_lower = lambda x: re.sub(r'[^\\w\\s]', ' ',str(x).lower()) # removes punctuation and makes all letters lowercase\n",
    "\n",
    "#def tokenize_and_stem(text):\n",
    "    \n",
    "    #tokens = [word.lower() for sent in nltk.sent_tokenize(text) for word in nltk.word_tokenize(sent)]\n",
    "   # stems = [stemmer.stem(t) for t in tokens]\n",
    "    #return stems\n",
    "\n",
    "#def tokenize_only(text):\n",
    "\n",
    "  #  tokens = [word.lower() for sent in nltk.sent_tokenize(text) for word in nltk.word_tokenize(sent)]\n",
    "   # return tokens"
   ]
  },
  {
   "cell_type": "markdown",
   "metadata": {},
   "source": [
    "# Document similiarity: vectorize"
   ]
  },
  {
   "cell_type": "code",
   "execution_count": 100,
   "metadata": {},
   "outputs": [],
   "source": [
    "# define corpus\n",
    "\n",
    "docs_list_clean = [' '.join(doc) for doc in docs_clean_2]\n",
    "corpus = docs_list_clean"
   ]
  },
  {
   "cell_type": "code",
   "execution_count": 101,
   "metadata": {},
   "outputs": [
    {
     "data": {
      "text/html": [
       "<div>\n",
       "<style scoped>\n",
       "    .dataframe tbody tr th:only-of-type {\n",
       "        vertical-align: middle;\n",
       "    }\n",
       "\n",
       "    .dataframe tbody tr th {\n",
       "        vertical-align: top;\n",
       "    }\n",
       "\n",
       "    .dataframe thead th {\n",
       "        text-align: right;\n",
       "    }\n",
       "</style>\n",
       "<table border=\"1\" class=\"dataframe\">\n",
       "  <thead>\n",
       "    <tr style=\"text-align: right;\">\n",
       "      <th></th>\n",
       "      <th>abandon</th>\n",
       "      <th>abide</th>\n",
       "      <th>ability</th>\n",
       "      <th>able</th>\n",
       "      <th>abroad</th>\n",
       "      <th>abruptly</th>\n",
       "      <th>absence</th>\n",
       "      <th>absent</th>\n",
       "      <th>absolutely</th>\n",
       "      <th>absorb</th>\n",
       "      <th>...</th>\n",
       "      <th>young</th>\n",
       "      <th>young brother</th>\n",
       "      <th>young child</th>\n",
       "      <th>young girl</th>\n",
       "      <th>young man</th>\n",
       "      <th>young sister</th>\n",
       "      <th>young woman</th>\n",
       "      <th>youth</th>\n",
       "      <th>zone</th>\n",
       "      <th>zoom</th>\n",
       "    </tr>\n",
       "  </thead>\n",
       "  <tbody>\n",
       "    <tr>\n",
       "      <th>0</th>\n",
       "      <td>0.000000</td>\n",
       "      <td>0.0</td>\n",
       "      <td>0.000000</td>\n",
       "      <td>0.050780</td>\n",
       "      <td>0.0</td>\n",
       "      <td>0.0</td>\n",
       "      <td>0.039439</td>\n",
       "      <td>0.0</td>\n",
       "      <td>0.000000</td>\n",
       "      <td>0.0</td>\n",
       "      <td>...</td>\n",
       "      <td>0.022051</td>\n",
       "      <td>0.000000</td>\n",
       "      <td>0.0</td>\n",
       "      <td>0.0</td>\n",
       "      <td>0.0</td>\n",
       "      <td>0.0</td>\n",
       "      <td>0.0</td>\n",
       "      <td>0.0</td>\n",
       "      <td>0.0</td>\n",
       "      <td>0.0</td>\n",
       "    </tr>\n",
       "    <tr>\n",
       "      <th>1</th>\n",
       "      <td>0.040593</td>\n",
       "      <td>0.0</td>\n",
       "      <td>0.037210</td>\n",
       "      <td>0.026029</td>\n",
       "      <td>0.0</td>\n",
       "      <td>0.0</td>\n",
       "      <td>0.000000</td>\n",
       "      <td>0.0</td>\n",
       "      <td>0.043847</td>\n",
       "      <td>0.0</td>\n",
       "      <td>...</td>\n",
       "      <td>0.067819</td>\n",
       "      <td>0.050952</td>\n",
       "      <td>0.0</td>\n",
       "      <td>0.0</td>\n",
       "      <td>0.0</td>\n",
       "      <td>0.0</td>\n",
       "      <td>0.0</td>\n",
       "      <td>0.0</td>\n",
       "      <td>0.0</td>\n",
       "      <td>0.0</td>\n",
       "    </tr>\n",
       "    <tr>\n",
       "      <th>2</th>\n",
       "      <td>0.000000</td>\n",
       "      <td>0.0</td>\n",
       "      <td>0.000000</td>\n",
       "      <td>0.000000</td>\n",
       "      <td>0.0</td>\n",
       "      <td>0.0</td>\n",
       "      <td>0.000000</td>\n",
       "      <td>0.0</td>\n",
       "      <td>0.000000</td>\n",
       "      <td>0.0</td>\n",
       "      <td>...</td>\n",
       "      <td>0.058661</td>\n",
       "      <td>0.066108</td>\n",
       "      <td>0.0</td>\n",
       "      <td>0.0</td>\n",
       "      <td>0.0</td>\n",
       "      <td>0.0</td>\n",
       "      <td>0.0</td>\n",
       "      <td>0.0</td>\n",
       "      <td>0.0</td>\n",
       "      <td>0.0</td>\n",
       "    </tr>\n",
       "    <tr>\n",
       "      <th>3</th>\n",
       "      <td>0.000000</td>\n",
       "      <td>0.0</td>\n",
       "      <td>0.000000</td>\n",
       "      <td>0.000000</td>\n",
       "      <td>0.0</td>\n",
       "      <td>0.0</td>\n",
       "      <td>0.000000</td>\n",
       "      <td>0.0</td>\n",
       "      <td>0.000000</td>\n",
       "      <td>0.0</td>\n",
       "      <td>...</td>\n",
       "      <td>0.000000</td>\n",
       "      <td>0.000000</td>\n",
       "      <td>0.0</td>\n",
       "      <td>0.0</td>\n",
       "      <td>0.0</td>\n",
       "      <td>0.0</td>\n",
       "      <td>0.0</td>\n",
       "      <td>0.0</td>\n",
       "      <td>0.0</td>\n",
       "      <td>0.0</td>\n",
       "    </tr>\n",
       "    <tr>\n",
       "      <th>4</th>\n",
       "      <td>0.038088</td>\n",
       "      <td>0.0</td>\n",
       "      <td>0.034913</td>\n",
       "      <td>0.073267</td>\n",
       "      <td>0.0</td>\n",
       "      <td>0.0</td>\n",
       "      <td>0.000000</td>\n",
       "      <td>0.0</td>\n",
       "      <td>0.000000</td>\n",
       "      <td>0.0</td>\n",
       "      <td>...</td>\n",
       "      <td>0.000000</td>\n",
       "      <td>0.000000</td>\n",
       "      <td>0.0</td>\n",
       "      <td>0.0</td>\n",
       "      <td>0.0</td>\n",
       "      <td>0.0</td>\n",
       "      <td>0.0</td>\n",
       "      <td>0.0</td>\n",
       "      <td>0.0</td>\n",
       "      <td>0.0</td>\n",
       "    </tr>\n",
       "    <tr>\n",
       "      <th>...</th>\n",
       "      <td>...</td>\n",
       "      <td>...</td>\n",
       "      <td>...</td>\n",
       "      <td>...</td>\n",
       "      <td>...</td>\n",
       "      <td>...</td>\n",
       "      <td>...</td>\n",
       "      <td>...</td>\n",
       "      <td>...</td>\n",
       "      <td>...</td>\n",
       "      <td>...</td>\n",
       "      <td>...</td>\n",
       "      <td>...</td>\n",
       "      <td>...</td>\n",
       "      <td>...</td>\n",
       "      <td>...</td>\n",
       "      <td>...</td>\n",
       "      <td>...</td>\n",
       "      <td>...</td>\n",
       "      <td>...</td>\n",
       "      <td>...</td>\n",
       "    </tr>\n",
       "    <tr>\n",
       "      <th>1499</th>\n",
       "      <td>0.000000</td>\n",
       "      <td>0.0</td>\n",
       "      <td>0.000000</td>\n",
       "      <td>0.000000</td>\n",
       "      <td>0.0</td>\n",
       "      <td>0.0</td>\n",
       "      <td>0.000000</td>\n",
       "      <td>0.0</td>\n",
       "      <td>0.000000</td>\n",
       "      <td>0.0</td>\n",
       "      <td>...</td>\n",
       "      <td>0.000000</td>\n",
       "      <td>0.000000</td>\n",
       "      <td>0.0</td>\n",
       "      <td>0.0</td>\n",
       "      <td>0.0</td>\n",
       "      <td>0.0</td>\n",
       "      <td>0.0</td>\n",
       "      <td>0.0</td>\n",
       "      <td>0.0</td>\n",
       "      <td>0.0</td>\n",
       "    </tr>\n",
       "    <tr>\n",
       "      <th>1500</th>\n",
       "      <td>0.000000</td>\n",
       "      <td>0.0</td>\n",
       "      <td>0.000000</td>\n",
       "      <td>0.000000</td>\n",
       "      <td>0.0</td>\n",
       "      <td>0.0</td>\n",
       "      <td>0.000000</td>\n",
       "      <td>0.0</td>\n",
       "      <td>0.000000</td>\n",
       "      <td>0.0</td>\n",
       "      <td>...</td>\n",
       "      <td>0.125728</td>\n",
       "      <td>0.000000</td>\n",
       "      <td>0.0</td>\n",
       "      <td>0.0</td>\n",
       "      <td>0.0</td>\n",
       "      <td>0.0</td>\n",
       "      <td>0.0</td>\n",
       "      <td>0.0</td>\n",
       "      <td>0.0</td>\n",
       "      <td>0.0</td>\n",
       "    </tr>\n",
       "    <tr>\n",
       "      <th>1501</th>\n",
       "      <td>0.000000</td>\n",
       "      <td>0.0</td>\n",
       "      <td>0.000000</td>\n",
       "      <td>0.000000</td>\n",
       "      <td>0.0</td>\n",
       "      <td>0.0</td>\n",
       "      <td>0.000000</td>\n",
       "      <td>0.0</td>\n",
       "      <td>0.000000</td>\n",
       "      <td>0.0</td>\n",
       "      <td>...</td>\n",
       "      <td>0.000000</td>\n",
       "      <td>0.000000</td>\n",
       "      <td>0.0</td>\n",
       "      <td>0.0</td>\n",
       "      <td>0.0</td>\n",
       "      <td>0.0</td>\n",
       "      <td>0.0</td>\n",
       "      <td>0.0</td>\n",
       "      <td>0.0</td>\n",
       "      <td>0.0</td>\n",
       "    </tr>\n",
       "    <tr>\n",
       "      <th>1502</th>\n",
       "      <td>0.000000</td>\n",
       "      <td>0.0</td>\n",
       "      <td>0.000000</td>\n",
       "      <td>0.000000</td>\n",
       "      <td>0.0</td>\n",
       "      <td>0.0</td>\n",
       "      <td>0.000000</td>\n",
       "      <td>0.0</td>\n",
       "      <td>0.000000</td>\n",
       "      <td>0.0</td>\n",
       "      <td>...</td>\n",
       "      <td>0.000000</td>\n",
       "      <td>0.000000</td>\n",
       "      <td>0.0</td>\n",
       "      <td>0.0</td>\n",
       "      <td>0.0</td>\n",
       "      <td>0.0</td>\n",
       "      <td>0.0</td>\n",
       "      <td>0.0</td>\n",
       "      <td>0.0</td>\n",
       "      <td>0.0</td>\n",
       "    </tr>\n",
       "    <tr>\n",
       "      <th>1503</th>\n",
       "      <td>0.000000</td>\n",
       "      <td>0.0</td>\n",
       "      <td>0.000000</td>\n",
       "      <td>0.000000</td>\n",
       "      <td>0.0</td>\n",
       "      <td>0.0</td>\n",
       "      <td>0.000000</td>\n",
       "      <td>0.0</td>\n",
       "      <td>0.000000</td>\n",
       "      <td>0.0</td>\n",
       "      <td>...</td>\n",
       "      <td>0.000000</td>\n",
       "      <td>0.000000</td>\n",
       "      <td>0.0</td>\n",
       "      <td>0.0</td>\n",
       "      <td>0.0</td>\n",
       "      <td>0.0</td>\n",
       "      <td>0.0</td>\n",
       "      <td>0.0</td>\n",
       "      <td>0.0</td>\n",
       "      <td>0.0</td>\n",
       "    </tr>\n",
       "  </tbody>\n",
       "</table>\n",
       "<p>1504 rows × 4060 columns</p>\n",
       "</div>"
      ],
      "text/plain": [
       "       abandon  abide   ability      able  abroad  abruptly   absence  absent  \\\n",
       "0     0.000000  0.0    0.000000  0.050780  0.0     0.0       0.039439  0.0      \n",
       "1     0.040593  0.0    0.037210  0.026029  0.0     0.0       0.000000  0.0      \n",
       "2     0.000000  0.0    0.000000  0.000000  0.0     0.0       0.000000  0.0      \n",
       "3     0.000000  0.0    0.000000  0.000000  0.0     0.0       0.000000  0.0      \n",
       "4     0.038088  0.0    0.034913  0.073267  0.0     0.0       0.000000  0.0      \n",
       "...        ...  ...         ...       ...  ...     ...            ...  ...      \n",
       "1499  0.000000  0.0    0.000000  0.000000  0.0     0.0       0.000000  0.0      \n",
       "1500  0.000000  0.0    0.000000  0.000000  0.0     0.0       0.000000  0.0      \n",
       "1501  0.000000  0.0    0.000000  0.000000  0.0     0.0       0.000000  0.0      \n",
       "1502  0.000000  0.0    0.000000  0.000000  0.0     0.0       0.000000  0.0      \n",
       "1503  0.000000  0.0    0.000000  0.000000  0.0     0.0       0.000000  0.0      \n",
       "\n",
       "      absolutely  absorb  ...     young  young brother  young child  \\\n",
       "0     0.000000    0.0     ...  0.022051  0.000000       0.0           \n",
       "1     0.043847    0.0     ...  0.067819  0.050952       0.0           \n",
       "2     0.000000    0.0     ...  0.058661  0.066108       0.0           \n",
       "3     0.000000    0.0     ...  0.000000  0.000000       0.0           \n",
       "4     0.000000    0.0     ...  0.000000  0.000000       0.0           \n",
       "...        ...    ...     ...       ...       ...       ...           \n",
       "1499  0.000000    0.0     ...  0.000000  0.000000       0.0           \n",
       "1500  0.000000    0.0     ...  0.125728  0.000000       0.0           \n",
       "1501  0.000000    0.0     ...  0.000000  0.000000       0.0           \n",
       "1502  0.000000    0.0     ...  0.000000  0.000000       0.0           \n",
       "1503  0.000000    0.0     ...  0.000000  0.000000       0.0           \n",
       "\n",
       "      young girl  young man  young sister  young woman  youth  zone  zoom  \n",
       "0     0.0         0.0        0.0           0.0          0.0    0.0   0.0   \n",
       "1     0.0         0.0        0.0           0.0          0.0    0.0   0.0   \n",
       "2     0.0         0.0        0.0           0.0          0.0    0.0   0.0   \n",
       "3     0.0         0.0        0.0           0.0          0.0    0.0   0.0   \n",
       "4     0.0         0.0        0.0           0.0          0.0    0.0   0.0   \n",
       "...   ...         ...        ...           ...          ...    ...   ...   \n",
       "1499  0.0         0.0        0.0           0.0          0.0    0.0   0.0   \n",
       "1500  0.0         0.0        0.0           0.0          0.0    0.0   0.0   \n",
       "1501  0.0         0.0        0.0           0.0          0.0    0.0   0.0   \n",
       "1502  0.0         0.0        0.0           0.0          0.0    0.0   0.0   \n",
       "1503  0.0         0.0        0.0           0.0          0.0    0.0   0.0   \n",
       "\n",
       "[1504 rows x 4060 columns]"
      ]
     },
     "execution_count": 101,
     "metadata": {},
     "output_type": "execute_result"
    }
   ],
   "source": [
    "'''\n",
    "Apply tfidf transformation\n",
    "max_df = maximum fraction of documents containing the word, for the word to be included in tfidf matrix\n",
    "min_df = minimum fraction ...\n",
    "ngram_range: We'll look at unigrams, bigrams and trigrams.\n",
    "'''\n",
    "\n",
    "vec_tfidf = TfidfVectorizer(max_df=0.80, min_df=0.01, ngram_range=(1,3))\n",
    "X_tfidf = vec_tfidf.fit_transform(corpus).toarray()\n",
    "pd.DataFrame(X_tfidf, columns=vec_tfidf.get_feature_names())"
   ]
  },
  {
   "cell_type": "markdown",
   "metadata": {},
   "source": [
    "# Make a baseline topic model"
   ]
  },
  {
   "cell_type": "markdown",
   "metadata": {},
   "source": [
    "The below cell works"
   ]
  },
  {
   "cell_type": "code",
   "execution_count": 18,
   "metadata": {},
   "outputs": [],
   "source": [
    "# read in custom stop words\n",
    "#with open('stop_words_english.txt', 'r') as f:\n",
    "    #stopwords_custom = [s.strip() for s in f.readlines()]"
   ]
  },
  {
   "cell_type": "markdown",
   "metadata": {},
   "source": [
    "The below cell works"
   ]
  },
  {
   "cell_type": "code",
   "execution_count": 19,
   "metadata": {},
   "outputs": [],
   "source": [
    "# create function to lemmatize tokens and eliminate stopwords\n",
    "#def lemmatize_and_eliminate(text):\n",
    "    #lemmatizer = WordNetLemmatizer()\n",
    "    #text = [word for word in text.split() if word not in stopwords_custom]\n",
    "    #text = [lemmatizer.lemmatize(word) for word in text]\n",
    "    #return \" \".join(text)"
   ]
  },
  {
   "cell_type": "markdown",
   "metadata": {},
   "source": [
    "The below cell works"
   ]
  },
  {
   "cell_type": "code",
   "execution_count": 26,
   "metadata": {},
   "outputs": [],
   "source": [
    "# lemmatize and remove stop words from corpus\n",
    "#corpus = modern_love_df_rev.essay_rev.map(lambda x: lemmatize_and_eliminate(x))"
   ]
  },
  {
   "cell_type": "code",
   "execution_count": 29,
   "metadata": {},
   "outputs": [
    {
     "data": {
      "text/plain": [
       "linda       0.534776\n",
       "accident    0.197141\n",
       "motel       0.145908\n",
       "car         0.120504\n",
       "bowel       0.119363\n",
       "Name: thursday morning cooking breakfast pajama daughter madeleine helping transferring egg cardboard carton refrigerator egg box pressing button elevator licking cake spoon morning performing duty sleepy devotion whisk asked madeleine throw egg peered curiously work egg nodded break throw madeleine ll catch looked egg small hand reason began carefully inspect shell trifling culinary request egg mixture unscripted moment trust father daughter wanted trust threw delicate save mother died year earlier sudden undiagnosed disorder suspected case marfan syndrome people heard madeleine talk day private nod listen ll share don answer time subtle exchange occurred week making dinner noticed madeleine leafing fashion magazine evening ve marry choked retrieved magazine opened featuring catwalk model blue dress yellow cape circled blue crayon bit snow white answer wasn time disney princess played life night mother died madeleine begged stay watch sleeping beauty sat couch blanket night fact living imagined hundred night simply fake normalcy hope felt madeleine fell asleep film missed prince brings sleeping beauty life kiss return normal wondered fell asleep purpose sleeping beauty daughter asleep lap remembering story war ii heard elderly neighbor grandparent british childhood remembered restaurant paris people beautiful clothes seemingly enjoying fine food wine paris occupied nazi soldier coldest winter memory people passing chic bistro scene unthinkable city social elite sitting luxurious supper cold starving closer revealed truth waiter brought menu patron asked good night wine ordered bottle champagne shouted businessmen black tie lady complimented clothes duration night emerged kitchen water food wine champagne bottle bottle water tray champagne bucket bowl glass night marked absence irreplaceable madeleine life completely father bumbling attempt motherly law live long island unfailingly kind overlook mistake madeleine day day life ve developed kinship time mother question subway supermarket park buy kind mop iron label feed ll tired ethnic diversity york working advice hispanic woman subway cook rice chicken broth buy store brand cereal box cartoon character man thought hide fashion magazine disney inspired couture worried madeleine model supposed woman differently christmas searched single father group craigslist ad wanted madeleine situation girl living father sort community men ala didn response madeleine miracle discovered hannah montana disney life father mother dead don television hannah montana entered life dvd purchased madeleine underground toy smuggling gossip network nursery school madeleine jeremy iron version brideshead revisited annoyed room quietly closed door eventually learned compromise movie night film starring fred astaire ginger rogers watching madeleine started dressing dinner mid meal extending hand dance year eve spent apartment asked black bow tie dinner jacket year countdown began clock internet footage reveler trafalgar square parent calling southwest england madeleine clinked wineglass sparkling apple cider resolution bed hour fast asleep york erupted cheer firework living manufacture kind happiness idea sync reality learning fake year party sew button ve learned day brushing cheek shaving cream madeleine bathroom surprisingly dressed school messy shaver afraid shaving cream dress company madeleine don close laughed realizing characterizes nature adult relationship madeleine smiled heart thought close hardest moment feel losing control night madeleine awake needed bath toilet leaking suspected mouse worried deadly hantavirus madeleine asked hot milk night open refrigerator ve thought dropped overnight pull diaper slowly filling bathtub leaking toilet earlier afternoon amazing time nanny told quitting photography job day worked nanny roommate experienced child discovered fresh direct delivery raoul super minute adjust toilet reported case hantavirus york city madeleine groove wake turn picking restaurant outfit movie crisis minute morning frying bacon drinking coffee scramble madeleine egg single moment craziness bacon turned black triggered smoke alarm egg began welding pan garbage bag tying split open covering slipper day linguine rice pudding fanned smoke detector furiously towel madeleine rushed couch tripped spilled orange juice floor corner kitchen girl covered juice looked father clown charlie chaplin close human life tragic distance funny morning madeleine clutching egg asked throw leaned counter softly throw madeleine promise won break dad quick motion flung single perfect egg father day egg catch great hope daughter trust throw growing heart place egg caught broken, dtype: float64"
      ]
     },
     "execution_count": 29,
     "metadata": {},
     "output_type": "execute_result"
    }
   ],
   "source": [
    "i = 600\n",
    "\n",
    "doc = (pd.Series(name=corpus[i],\n",
    "                data=X_tfidf[i], \n",
    "                index=vec_tfidf.get_feature_names()) \n",
    "        .sort_values(ascending=False))\n",
    "\n",
    "doc.head()"
   ]
  },
  {
   "cell_type": "markdown",
   "metadata": {},
   "source": [
    "# Principal Component Analysis"
   ]
  },
  {
   "cell_type": "code",
   "execution_count": null,
   "metadata": {},
   "outputs": [],
   "source": [
    "# \n",
    "pca = PCA()"
   ]
  }
 ],
 "metadata": {
  "kernelspec": {
   "display_name": "Python 3",
   "language": "python",
   "name": "python3"
  },
  "language_info": {
   "codemirror_mode": {
    "name": "ipython",
    "version": 3
   },
   "file_extension": ".py",
   "mimetype": "text/x-python",
   "name": "python",
   "nbconvert_exporter": "python",
   "pygments_lexer": "ipython3",
   "version": "3.8.3"
  }
 },
 "nbformat": 4,
 "nbformat_minor": 5
}
